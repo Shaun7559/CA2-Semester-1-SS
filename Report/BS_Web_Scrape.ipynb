{
 "cells": [
  {
   "cell_type": "code",
   "execution_count": 8,
   "id": "15c00a79",
   "metadata": {
    "ExecuteTime": {
     "end_time": "2022-05-10T19:36:23.023567Z",
     "start_time": "2022-05-10T19:36:22.704373Z"
    }
   },
   "outputs": [],
   "source": [
    "from bs4 import BeautifulSoup\n",
    "import requests\n",
    "import csv\n",
    "\n",
    "source = requests.get('https://www.farmersjournal.ie/making-the-final-call-on-maiden-heifers-for-breeding-696038').text\n",
    "\n",
    "soup = BeautifulSoup(source, 'lxml')\n",
    "\n",
    "csv_file = open('fj_scrape.csv', 'w')\n",
    "\n",
    "csv_writer = csv.writer(csv_file)\n",
    "csv_writer.writerow(['headline', 'summary', 'video_link'])\n",
    "\n",
    "for article in soup.find_all('article'):\n",
    "    headline = article.h1.a.text\n",
    "    print(headline)\n",
    "\n",
    "    summary = article.find('div', class_='body').p.text\n",
    "    print(summary)\n",
    "\n",
    "    try:\n",
    "        vid_src = article.find('iframe', class_='youtube-player')['src']\n",
    "\n",
    "        vid_id = vid_src.split('/')[4]\n",
    "        vid_id = vid_id.split('?')[0]\n",
    "\n",
    "        yt_link = f'https://youtube.com/watch?v={vid_id}'\n",
    "    except Exception as e:\n",
    "        yt_link = None\n",
    "\n",
    "    print(yt_link)\n",
    "\n",
    "    print()\n",
    "\n",
    "    csv_writer.writerow([headline, summary, yt_link])\n",
    "\n",
    "csv_file.close()"
   ]
  },
  {
   "cell_type": "code",
   "execution_count": null,
   "id": "e7d6f7b7",
   "metadata": {},
   "outputs": [],
   "source": []
  }
 ],
 "metadata": {
  "kernelspec": {
   "display_name": "Python 3 (ipykernel)",
   "language": "python",
   "name": "python3"
  },
  "language_info": {
   "codemirror_mode": {
    "name": "ipython",
    "version": 3
   },
   "file_extension": ".py",
   "mimetype": "text/x-python",
   "name": "python",
   "nbconvert_exporter": "python",
   "pygments_lexer": "ipython3",
   "version": "3.9.7"
  },
  "toc": {
   "base_numbering": 1,
   "nav_menu": {},
   "number_sections": true,
   "sideBar": true,
   "skip_h1_title": false,
   "title_cell": "Table of Contents",
   "title_sidebar": "Contents",
   "toc_cell": false,
   "toc_position": {},
   "toc_section_display": true,
   "toc_window_display": false
  }
 },
 "nbformat": 4,
 "nbformat_minor": 5
}
