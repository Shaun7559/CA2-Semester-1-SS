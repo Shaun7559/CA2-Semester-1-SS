{
 "cells": [
  {
   "cell_type": "markdown",
   "id": "fc469a97",
   "metadata": {},
   "source": [
    "# Web scraper"
   ]
  },
  {
   "cell_type": "code",
   "execution_count": 1,
   "id": "8fab6759",
   "metadata": {
    "ExecuteTime": {
     "end_time": "2022-05-18T14:33:46.780916Z",
     "start_time": "2022-05-18T14:33:46.361373Z"
    }
   },
   "outputs": [],
   "source": [
    "from selenium import webdriver\n",
    "from selenium.webdriver.common.by import By\n",
    "import pandas as pd\n",
    "import numpy as np"
   ]
  },
  {
   "cell_type": "code",
   "execution_count": 2,
   "id": "36820d19",
   "metadata": {
    "ExecuteTime": {
     "end_time": "2022-05-18T14:33:48.308293Z",
     "start_time": "2022-05-18T14:33:47.186035Z"
    }
   },
   "outputs": [
    {
     "name": "stderr",
     "output_type": "stream",
     "text": [
      "C:\\Users\\shaun\\AppData\\Local\\Temp/ipykernel_15324/2026946682.py:3: DeprecationWarning: executable_path has been deprecated, please pass in a Service object\n",
      "  driver = webdriver.Chrome(r\"C:\\Users\\shaun\\Downloads\\chromedriver_win32\\chromedriver.exe\")\n"
     ]
    }
   ],
   "source": [
    "# Creating the web driver that will scrape the websites\n",
    "\n",
    "driver = webdriver.Chrome(r\"C:\\Users\\shaun\\Downloads\\chromedriver_win32\\chromedriver.exe\")"
   ]
  },
  {
   "cell_type": "markdown",
   "id": "728770a1",
   "metadata": {},
   "source": [
    "# Test file"
   ]
  },
  {
   "cell_type": "code",
   "execution_count": null,
   "id": "f9b492b8",
   "metadata": {
    "ExecuteTime": {
     "end_time": "2022-05-18T14:20:34.095970Z",
     "start_time": "2022-05-18T14:20:31.555434Z"
    }
   },
   "outputs": [],
   "source": [
    "# This scraper uses Selenium with a chrome driver to search the IFA website\n",
    "# HTML element class names, it then loops through a set maximum number of pages\n",
    "# amd returns any result contained within the keywords list\n",
    "\n",
    "TargetUrl = 'https://www.ifa.ie/page/'\n",
    "keywords = [\"beef\"]\n",
    "\n",
    "maxobservations = 1\n",
    "sentimentdata = pd.DataFrame(columns=['Link', 'Date', 'Title', 'Text'])\n",
    "\n",
    "for word in keywords:\n",
    "    for i in range(maxobservations):\n",
    "        SearchUrl = TargetUrl + str(i+1) + '/?s=' + word\n",
    "        driver.get(SearchUrl)\n",
    "        elems = driver.find_elements_by_css_selector(\".col-sm-12 [href]\")\n",
    "        links = [elem.get_attribute('href') for elem in elems]\n",
    "        for link in links:\n",
    "            driver.get(link)\n",
    "            try:\n",
    "                page = driver.find_element_by_xpath(\"/html/body\")\n",
    "                sentimentdata = sentimentdata.append({'Link': link,\n",
    "                                           'Date': page.find_element(By.CLASS_NAME, 'entry-date').text,\n",
    "                                           'Title': page.find_element(By.CLASS_NAME, 'entry-title').text,\n",
    "                                           'Text': page.find_element(By.CLASS_NAME, 'single-content').text},\n",
    "                                          ignore_index=True)\n",
    "            except:\n",
    "                print('The crawler was unable to collect information on {}'.format(link))"
   ]
  },
  {
   "cell_type": "code",
   "execution_count": null,
   "id": "bf900978",
   "metadata": {
    "ExecuteTime": {
     "end_time": "2022-05-18T14:21:52.068049Z",
     "start_time": "2022-05-18T14:21:49.304976Z"
    }
   },
   "outputs": [],
   "source": [
    "# This scraper uses Selenium with a chrome driver to search the IFA website\n",
    "# HTML element class names, it then loops through a set maximum number of pages\n",
    "# amd returns any result contained within the keywords list\n",
    "\n",
    "TargetUrl = 'https://www.ifa.ie/page/'\n",
    "keywords = [\"beef\"]\n",
    "\n",
    "maxobservations = 1\n",
    "sentimentdata = pd.DataFrame(columns=['Link', 'Date', 'Title', 'Text'])\n",
    "\n",
    "for i in range(maxobservations):\n",
    "    SearchUrl = TargetUrl + str(i+1) + '/?s=' + \"beef\"\n",
    "    driver.get(SearchUrl)\n",
    "    elems = driver.find_elements_by_css_selector(\".col-sm-12 [href]\")\n",
    "    links = [elem.get_attribute('href') for elem in elems]\n",
    "    for link in links:\n",
    "        driver.get(link)\n",
    "        try:\n",
    "            page = driver.find_element_by_xpath(\"/html/body\")\n",
    "            sentimentdata = sentimentdata.append({'Link': link,\n",
    "                                       'Date': page.find_element(By.CLASS_NAME, 'entry-date').text,\n",
    "                                       'Title': page.find_element(By.CLASS_NAME, 'entry-title').text,\n",
    "                                       'Text': page.find_element(By.CLASS_NAME, 'single-content').text},\n",
    "                                      ignore_index=True)\n",
    "        except:\n",
    "            pass"
   ]
  },
  {
   "cell_type": "code",
   "execution_count": null,
   "id": "451a1732",
   "metadata": {
    "ExecuteTime": {
     "end_time": "2022-05-18T14:21:52.084050Z",
     "start_time": "2022-05-18T14:21:52.069041Z"
    }
   },
   "outputs": [],
   "source": [
    "#Save to CSV\n",
    "sentimentdata.to_csv(\"C:\\\\Users\\\\shaun\\\\Desktop\\\\IFA_sentiment_data.csv\")"
   ]
  },
  {
   "cell_type": "code",
   "execution_count": null,
   "id": "cec3e679",
   "metadata": {},
   "outputs": [],
   "source": []
  },
  {
   "cell_type": "code",
   "execution_count": 9,
   "id": "388e4d65",
   "metadata": {
    "ExecuteTime": {
     "end_time": "2022-05-18T14:57:32.769270Z",
     "start_time": "2022-05-18T14:57:28.769999Z"
    }
   },
   "outputs": [
    {
     "name": "stderr",
     "output_type": "stream",
     "text": [
      "C:\\Users\\shaun\\AppData\\Local\\Temp/ipykernel_15324/641000431.py:14: DeprecationWarning: find_elements_by_css_selector is deprecated. Please use find_elements(by=By.CSS_SELECTOR, value=css_selector) instead\n",
      "  elems = driver.find_elements_by_css_selector(\".col-sm-12 [href]\")\n",
      "C:\\Users\\shaun\\AppData\\Local\\Temp/ipykernel_15324/641000431.py:18: DeprecationWarning: find_element_by_xpath is deprecated. Please use find_element(by=By.XPATH, value=xpath) instead\n",
      "  page = driver.find_element_by_xpath(\"/html/body\")\n"
     ]
    }
   ],
   "source": [
    "# This scraper uses Selenium with a chrome driver to search the IFA website\n",
    "# HTML element class names, it then loops through a set maximum number of pages\n",
    "# amd returns any result contained within the keywords list\n",
    "\n",
    "TargetUrl = 'https://www.ifa.ie/page/'\n",
    "keywords = [\"beef\", \"milk\"]\n",
    "\n",
    "maxobservations = 1\n",
    "sentimentdata = pd.DataFrame(columns=['Link', 'Date', 'Title', 'Text'])\n",
    "\n",
    "for i in range(maxobservations):\n",
    "    SearchUrl = TargetUrl + str(i+1) + '/?s=' + \"beef\"\n",
    "    driver.get(SearchUrl)\n",
    "    elems = driver.find_elements_by_css_selector(\".col-sm-12 [href]\")\n",
    "    links = [elem.get_attribute('href') for elem in elems]\n",
    "    for link in links:\n",
    "        driver.get(link)\n",
    "        page = driver.find_element_by_xpath(\"/html/body\")\n",
    "        sentimentdata = sentimentdata.append({'Link': link,\n",
    "                                   'Date': page.find_element(By.CLASS_NAME, 'entry-date').text,\n",
    "                                   'Title': page.find_element(By.CLASS_NAME, 'entry-title').text,\n",
    "                                   'Text': page.find_element(By.CLASS_NAME, 'single-content').text},\n",
    "                                      ignore_index=True)"
   ]
  },
  {
   "cell_type": "code",
   "execution_count": 7,
   "id": "fdb9116b",
   "metadata": {
    "ExecuteTime": {
     "end_time": "2022-05-18T14:56:38.837648Z",
     "start_time": "2022-05-18T14:56:38.808925Z"
    }
   },
   "outputs": [],
   "source": [
    "sentimentdata.to_csv(\"C:\\\\Users\\\\shaun\\\\Desktop\\\\ffs2.csv\")"
   ]
  },
  {
   "cell_type": "code",
   "execution_count": null,
   "id": "6addcba0",
   "metadata": {},
   "outputs": [],
   "source": []
  },
  {
   "cell_type": "code",
   "execution_count": null,
   "id": "ffc9c204",
   "metadata": {},
   "outputs": [],
   "source": []
  },
  {
   "cell_type": "code",
   "execution_count": null,
   "id": "e8fa5927",
   "metadata": {},
   "outputs": [],
   "source": []
  },
  {
   "cell_type": "code",
   "execution_count": null,
   "id": "40af5f30",
   "metadata": {},
   "outputs": [],
   "source": []
  },
  {
   "cell_type": "markdown",
   "id": "d42a554e",
   "metadata": {},
   "source": [
    "# Davids"
   ]
  },
  {
   "cell_type": "code",
   "execution_count": null,
   "id": "8e609ef7",
   "metadata": {
    "ExecuteTime": {
     "end_time": "2022-05-18T13:44:06.611855Z",
     "start_time": "2022-05-18T13:44:04.404178Z"
    }
   },
   "outputs": [],
   "source": [
    "searchUrl = 'https://www.ifa.ie/page/'\n",
    "searchTerms = 'beef+cattle+prices'\n",
    "\n",
    "maxPages = 1\n",
    "allPages = pd.DataFrame(columns=['Link', 'Date', 'Title', 'Text'])\n",
    "\n",
    "for i in range(maxPages):\n",
    "    currentUrl = searchUrl + str(i+1) + '/?s=' + searchTerms\n",
    "    driver.get(currentUrl)\n",
    "    elems = driver.find_elements_by_css_selector(\".col-sm-12 [href]\")\n",
    "    links = [elem.get_attribute('href') for elem in elems]\n",
    "    for link in links:\n",
    "        driver.get(link)\n",
    "        try:\n",
    "            page = driver.find_elements_by_xpath(\"/html/body\")\n",
    "            allPages = allPages.append({'Link': link,\n",
    "                                       'Date': page.find_element(By.CLASS_NAME, 'entry-date').text,\n",
    "                                       'Title': page.find_element(By.CLASS_NAME, 'entry-title').text,\n",
    "                                       'Text': page.find_element(By.CLASS_NAME, 'single-content').text},\n",
    "                                      ignore_index=True)\n",
    "        except:\n",
    "            print(\"Test failed{}\".format(link))"
   ]
  },
  {
   "cell_type": "code",
   "execution_count": null,
   "id": "8fe6d985",
   "metadata": {
    "ExecuteTime": {
     "end_time": "2022-05-18T13:42:10.956232Z",
     "start_time": "2022-05-18T13:42:10.948217Z"
    }
   },
   "outputs": [],
   "source": [
    "#Save to CSV\n",
    "sentimentdata.to_csv(\"C:\\\\Users\\\\shaun\\\\Desktop\\\\Test.csv\")"
   ]
  },
  {
   "cell_type": "code",
   "execution_count": null,
   "id": "e81fc71d",
   "metadata": {},
   "outputs": [],
   "source": []
  },
  {
   "cell_type": "code",
   "execution_count": null,
   "id": "ebc13e69",
   "metadata": {},
   "outputs": [],
   "source": []
  },
  {
   "cell_type": "markdown",
   "id": "428b67b3",
   "metadata": {},
   "source": [
    "# Working do not delete"
   ]
  },
  {
   "cell_type": "code",
   "execution_count": 3,
   "id": "9ac2cc7d",
   "metadata": {
    "ExecuteTime": {
     "end_time": "2022-05-18T14:55:18.580209Z",
     "start_time": "2022-05-18T14:55:10.411312Z"
    }
   },
   "outputs": [
    {
     "name": "stderr",
     "output_type": "stream",
     "text": [
      "C:\\Users\\shaun\\AppData\\Local\\Temp/ipykernel_15324/2289504164.py:16: DeprecationWarning: find_elements_by_css_selector is deprecated. Please use find_elements(by=By.CSS_SELECTOR, value=css_selector) instead\n",
      "  elems = driver.find_elements_by_css_selector(\".col-sm-12 [href]\")\n",
      "C:\\Users\\shaun\\AppData\\Local\\Temp/ipykernel_15324/2289504164.py:21: DeprecationWarning: find_element_by_xpath is deprecated. Please use find_element(by=By.XPATH, value=xpath) instead\n",
      "  page = driver.find_element_by_xpath(\"/html/body\")\n"
     ]
    },
    {
     "ename": "KeyboardInterrupt",
     "evalue": "",
     "output_type": "error",
     "traceback": [
      "\u001b[1;31m---------------------------------------------------------------------------\u001b[0m",
      "\u001b[1;31mKeyboardInterrupt\u001b[0m                         Traceback (most recent call last)",
      "\u001b[1;32m~\\AppData\\Local\\Temp/ipykernel_15324/2289504164.py\u001b[0m in \u001b[0;36m<module>\u001b[1;34m\u001b[0m\n\u001b[0;32m     17\u001b[0m         \u001b[0mlinks\u001b[0m \u001b[1;33m=\u001b[0m \u001b[1;33m[\u001b[0m\u001b[0melem\u001b[0m\u001b[1;33m.\u001b[0m\u001b[0mget_attribute\u001b[0m\u001b[1;33m(\u001b[0m\u001b[1;34m'href'\u001b[0m\u001b[1;33m)\u001b[0m \u001b[1;32mfor\u001b[0m \u001b[0melem\u001b[0m \u001b[1;32min\u001b[0m \u001b[0melems\u001b[0m\u001b[1;33m]\u001b[0m\u001b[1;33m\u001b[0m\u001b[1;33m\u001b[0m\u001b[0m\n\u001b[0;32m     18\u001b[0m         \u001b[1;32mfor\u001b[0m \u001b[0mlink\u001b[0m \u001b[1;32min\u001b[0m \u001b[0mlinks\u001b[0m\u001b[1;33m:\u001b[0m\u001b[1;33m\u001b[0m\u001b[1;33m\u001b[0m\u001b[0m\n\u001b[1;32m---> 19\u001b[1;33m             \u001b[0mdriver\u001b[0m\u001b[1;33m.\u001b[0m\u001b[0mget\u001b[0m\u001b[1;33m(\u001b[0m\u001b[0mlink\u001b[0m\u001b[1;33m)\u001b[0m\u001b[1;33m\u001b[0m\u001b[1;33m\u001b[0m\u001b[0m\n\u001b[0m\u001b[0;32m     20\u001b[0m             \u001b[1;32mtry\u001b[0m\u001b[1;33m:\u001b[0m\u001b[1;33m\u001b[0m\u001b[1;33m\u001b[0m\u001b[0m\n\u001b[0;32m     21\u001b[0m                 \u001b[0mpage\u001b[0m \u001b[1;33m=\u001b[0m \u001b[0mdriver\u001b[0m\u001b[1;33m.\u001b[0m\u001b[0mfind_element_by_xpath\u001b[0m\u001b[1;33m(\u001b[0m\u001b[1;34m\"/html/body\"\u001b[0m\u001b[1;33m)\u001b[0m\u001b[1;33m\u001b[0m\u001b[1;33m\u001b[0m\u001b[0m\n",
      "\u001b[1;32m~\\anaconda3\\lib\\site-packages\\selenium\\webdriver\\remote\\webdriver.py\u001b[0m in \u001b[0;36mget\u001b[1;34m(self, url)\u001b[0m\n\u001b[0;32m    440\u001b[0m         \u001b[0mLoads\u001b[0m \u001b[0ma\u001b[0m \u001b[0mweb\u001b[0m \u001b[0mpage\u001b[0m \u001b[1;32min\u001b[0m \u001b[0mthe\u001b[0m \u001b[0mcurrent\u001b[0m \u001b[0mbrowser\u001b[0m \u001b[0msession\u001b[0m\u001b[1;33m.\u001b[0m\u001b[1;33m\u001b[0m\u001b[1;33m\u001b[0m\u001b[0m\n\u001b[0;32m    441\u001b[0m         \"\"\"\n\u001b[1;32m--> 442\u001b[1;33m         \u001b[0mself\u001b[0m\u001b[1;33m.\u001b[0m\u001b[0mexecute\u001b[0m\u001b[1;33m(\u001b[0m\u001b[0mCommand\u001b[0m\u001b[1;33m.\u001b[0m\u001b[0mGET\u001b[0m\u001b[1;33m,\u001b[0m \u001b[1;33m{\u001b[0m\u001b[1;34m'url'\u001b[0m\u001b[1;33m:\u001b[0m \u001b[0murl\u001b[0m\u001b[1;33m}\u001b[0m\u001b[1;33m)\u001b[0m\u001b[1;33m\u001b[0m\u001b[1;33m\u001b[0m\u001b[0m\n\u001b[0m\u001b[0;32m    443\u001b[0m \u001b[1;33m\u001b[0m\u001b[0m\n\u001b[0;32m    444\u001b[0m     \u001b[1;33m@\u001b[0m\u001b[0mproperty\u001b[0m\u001b[1;33m\u001b[0m\u001b[1;33m\u001b[0m\u001b[0m\n",
      "\u001b[1;32m~\\anaconda3\\lib\\site-packages\\selenium\\webdriver\\remote\\webdriver.py\u001b[0m in \u001b[0;36mexecute\u001b[1;34m(self, driver_command, params)\u001b[0m\n\u001b[0;32m    426\u001b[0m \u001b[1;33m\u001b[0m\u001b[0m\n\u001b[0;32m    427\u001b[0m         \u001b[0mparams\u001b[0m \u001b[1;33m=\u001b[0m \u001b[0mself\u001b[0m\u001b[1;33m.\u001b[0m\u001b[0m_wrap_value\u001b[0m\u001b[1;33m(\u001b[0m\u001b[0mparams\u001b[0m\u001b[1;33m)\u001b[0m\u001b[1;33m\u001b[0m\u001b[1;33m\u001b[0m\u001b[0m\n\u001b[1;32m--> 428\u001b[1;33m         \u001b[0mresponse\u001b[0m \u001b[1;33m=\u001b[0m \u001b[0mself\u001b[0m\u001b[1;33m.\u001b[0m\u001b[0mcommand_executor\u001b[0m\u001b[1;33m.\u001b[0m\u001b[0mexecute\u001b[0m\u001b[1;33m(\u001b[0m\u001b[0mdriver_command\u001b[0m\u001b[1;33m,\u001b[0m \u001b[0mparams\u001b[0m\u001b[1;33m)\u001b[0m\u001b[1;33m\u001b[0m\u001b[1;33m\u001b[0m\u001b[0m\n\u001b[0m\u001b[0;32m    429\u001b[0m         \u001b[1;32mif\u001b[0m \u001b[0mresponse\u001b[0m\u001b[1;33m:\u001b[0m\u001b[1;33m\u001b[0m\u001b[1;33m\u001b[0m\u001b[0m\n\u001b[0;32m    430\u001b[0m             \u001b[0mself\u001b[0m\u001b[1;33m.\u001b[0m\u001b[0merror_handler\u001b[0m\u001b[1;33m.\u001b[0m\u001b[0mcheck_response\u001b[0m\u001b[1;33m(\u001b[0m\u001b[0mresponse\u001b[0m\u001b[1;33m)\u001b[0m\u001b[1;33m\u001b[0m\u001b[1;33m\u001b[0m\u001b[0m\n",
      "\u001b[1;32m~\\anaconda3\\lib\\site-packages\\selenium\\webdriver\\remote\\remote_connection.py\u001b[0m in \u001b[0;36mexecute\u001b[1;34m(self, command, params)\u001b[0m\n\u001b[0;32m    345\u001b[0m         \u001b[0mdata\u001b[0m \u001b[1;33m=\u001b[0m \u001b[0mutils\u001b[0m\u001b[1;33m.\u001b[0m\u001b[0mdump_json\u001b[0m\u001b[1;33m(\u001b[0m\u001b[0mparams\u001b[0m\u001b[1;33m)\u001b[0m\u001b[1;33m\u001b[0m\u001b[1;33m\u001b[0m\u001b[0m\n\u001b[0;32m    346\u001b[0m         \u001b[0murl\u001b[0m \u001b[1;33m=\u001b[0m \u001b[1;34mf\"{self._url}{path}\"\u001b[0m\u001b[1;33m\u001b[0m\u001b[1;33m\u001b[0m\u001b[0m\n\u001b[1;32m--> 347\u001b[1;33m         \u001b[1;32mreturn\u001b[0m \u001b[0mself\u001b[0m\u001b[1;33m.\u001b[0m\u001b[0m_request\u001b[0m\u001b[1;33m(\u001b[0m\u001b[0mcommand_info\u001b[0m\u001b[1;33m[\u001b[0m\u001b[1;36m0\u001b[0m\u001b[1;33m]\u001b[0m\u001b[1;33m,\u001b[0m \u001b[0murl\u001b[0m\u001b[1;33m,\u001b[0m \u001b[0mbody\u001b[0m\u001b[1;33m=\u001b[0m\u001b[0mdata\u001b[0m\u001b[1;33m)\u001b[0m\u001b[1;33m\u001b[0m\u001b[1;33m\u001b[0m\u001b[0m\n\u001b[0m\u001b[0;32m    348\u001b[0m \u001b[1;33m\u001b[0m\u001b[0m\n\u001b[0;32m    349\u001b[0m     \u001b[1;32mdef\u001b[0m \u001b[0m_request\u001b[0m\u001b[1;33m(\u001b[0m\u001b[0mself\u001b[0m\u001b[1;33m,\u001b[0m \u001b[0mmethod\u001b[0m\u001b[1;33m,\u001b[0m \u001b[0murl\u001b[0m\u001b[1;33m,\u001b[0m \u001b[0mbody\u001b[0m\u001b[1;33m=\u001b[0m\u001b[1;32mNone\u001b[0m\u001b[1;33m)\u001b[0m\u001b[1;33m:\u001b[0m\u001b[1;33m\u001b[0m\u001b[1;33m\u001b[0m\u001b[0m\n",
      "\u001b[1;32m~\\anaconda3\\lib\\site-packages\\selenium\\webdriver\\remote\\remote_connection.py\u001b[0m in \u001b[0;36m_request\u001b[1;34m(self, method, url, body)\u001b[0m\n\u001b[0;32m    367\u001b[0m \u001b[1;33m\u001b[0m\u001b[0m\n\u001b[0;32m    368\u001b[0m         \u001b[1;32mif\u001b[0m \u001b[0mself\u001b[0m\u001b[1;33m.\u001b[0m\u001b[0mkeep_alive\u001b[0m\u001b[1;33m:\u001b[0m\u001b[1;33m\u001b[0m\u001b[1;33m\u001b[0m\u001b[0m\n\u001b[1;32m--> 369\u001b[1;33m             \u001b[0mresponse\u001b[0m \u001b[1;33m=\u001b[0m \u001b[0mself\u001b[0m\u001b[1;33m.\u001b[0m\u001b[0m_conn\u001b[0m\u001b[1;33m.\u001b[0m\u001b[0mrequest\u001b[0m\u001b[1;33m(\u001b[0m\u001b[0mmethod\u001b[0m\u001b[1;33m,\u001b[0m \u001b[0murl\u001b[0m\u001b[1;33m,\u001b[0m \u001b[0mbody\u001b[0m\u001b[1;33m=\u001b[0m\u001b[0mbody\u001b[0m\u001b[1;33m,\u001b[0m \u001b[0mheaders\u001b[0m\u001b[1;33m=\u001b[0m\u001b[0mheaders\u001b[0m\u001b[1;33m)\u001b[0m\u001b[1;33m\u001b[0m\u001b[1;33m\u001b[0m\u001b[0m\n\u001b[0m\u001b[0;32m    370\u001b[0m             \u001b[0mstatuscode\u001b[0m \u001b[1;33m=\u001b[0m \u001b[0mresponse\u001b[0m\u001b[1;33m.\u001b[0m\u001b[0mstatus\u001b[0m\u001b[1;33m\u001b[0m\u001b[1;33m\u001b[0m\u001b[0m\n\u001b[0;32m    371\u001b[0m         \u001b[1;32melse\u001b[0m\u001b[1;33m:\u001b[0m\u001b[1;33m\u001b[0m\u001b[1;33m\u001b[0m\u001b[0m\n",
      "\u001b[1;32m~\\anaconda3\\lib\\site-packages\\urllib3\\request.py\u001b[0m in \u001b[0;36mrequest\u001b[1;34m(self, method, url, fields, headers, **urlopen_kw)\u001b[0m\n\u001b[0;32m     76\u001b[0m             )\n\u001b[0;32m     77\u001b[0m         \u001b[1;32melse\u001b[0m\u001b[1;33m:\u001b[0m\u001b[1;33m\u001b[0m\u001b[1;33m\u001b[0m\u001b[0m\n\u001b[1;32m---> 78\u001b[1;33m             return self.request_encode_body(\n\u001b[0m\u001b[0;32m     79\u001b[0m                 \u001b[0mmethod\u001b[0m\u001b[1;33m,\u001b[0m \u001b[0murl\u001b[0m\u001b[1;33m,\u001b[0m \u001b[0mfields\u001b[0m\u001b[1;33m=\u001b[0m\u001b[0mfields\u001b[0m\u001b[1;33m,\u001b[0m \u001b[0mheaders\u001b[0m\u001b[1;33m=\u001b[0m\u001b[0mheaders\u001b[0m\u001b[1;33m,\u001b[0m \u001b[1;33m**\u001b[0m\u001b[0murlopen_kw\u001b[0m\u001b[1;33m\u001b[0m\u001b[1;33m\u001b[0m\u001b[0m\n\u001b[0;32m     80\u001b[0m             )\n",
      "\u001b[1;32m~\\anaconda3\\lib\\site-packages\\urllib3\\request.py\u001b[0m in \u001b[0;36mrequest_encode_body\u001b[1;34m(self, method, url, fields, headers, encode_multipart, multipart_boundary, **urlopen_kw)\u001b[0m\n\u001b[0;32m    168\u001b[0m         \u001b[0mextra_kw\u001b[0m\u001b[1;33m.\u001b[0m\u001b[0mupdate\u001b[0m\u001b[1;33m(\u001b[0m\u001b[0murlopen_kw\u001b[0m\u001b[1;33m)\u001b[0m\u001b[1;33m\u001b[0m\u001b[1;33m\u001b[0m\u001b[0m\n\u001b[0;32m    169\u001b[0m \u001b[1;33m\u001b[0m\u001b[0m\n\u001b[1;32m--> 170\u001b[1;33m         \u001b[1;32mreturn\u001b[0m \u001b[0mself\u001b[0m\u001b[1;33m.\u001b[0m\u001b[0murlopen\u001b[0m\u001b[1;33m(\u001b[0m\u001b[0mmethod\u001b[0m\u001b[1;33m,\u001b[0m \u001b[0murl\u001b[0m\u001b[1;33m,\u001b[0m \u001b[1;33m**\u001b[0m\u001b[0mextra_kw\u001b[0m\u001b[1;33m)\u001b[0m\u001b[1;33m\u001b[0m\u001b[1;33m\u001b[0m\u001b[0m\n\u001b[0m",
      "\u001b[1;32m~\\anaconda3\\lib\\site-packages\\urllib3\\poolmanager.py\u001b[0m in \u001b[0;36murlopen\u001b[1;34m(self, method, url, redirect, **kw)\u001b[0m\n\u001b[0;32m    373\u001b[0m             \u001b[0mresponse\u001b[0m \u001b[1;33m=\u001b[0m \u001b[0mconn\u001b[0m\u001b[1;33m.\u001b[0m\u001b[0murlopen\u001b[0m\u001b[1;33m(\u001b[0m\u001b[0mmethod\u001b[0m\u001b[1;33m,\u001b[0m \u001b[0murl\u001b[0m\u001b[1;33m,\u001b[0m \u001b[1;33m**\u001b[0m\u001b[0mkw\u001b[0m\u001b[1;33m)\u001b[0m\u001b[1;33m\u001b[0m\u001b[1;33m\u001b[0m\u001b[0m\n\u001b[0;32m    374\u001b[0m         \u001b[1;32melse\u001b[0m\u001b[1;33m:\u001b[0m\u001b[1;33m\u001b[0m\u001b[1;33m\u001b[0m\u001b[0m\n\u001b[1;32m--> 375\u001b[1;33m             \u001b[0mresponse\u001b[0m \u001b[1;33m=\u001b[0m \u001b[0mconn\u001b[0m\u001b[1;33m.\u001b[0m\u001b[0murlopen\u001b[0m\u001b[1;33m(\u001b[0m\u001b[0mmethod\u001b[0m\u001b[1;33m,\u001b[0m \u001b[0mu\u001b[0m\u001b[1;33m.\u001b[0m\u001b[0mrequest_uri\u001b[0m\u001b[1;33m,\u001b[0m \u001b[1;33m**\u001b[0m\u001b[0mkw\u001b[0m\u001b[1;33m)\u001b[0m\u001b[1;33m\u001b[0m\u001b[1;33m\u001b[0m\u001b[0m\n\u001b[0m\u001b[0;32m    376\u001b[0m \u001b[1;33m\u001b[0m\u001b[0m\n\u001b[0;32m    377\u001b[0m         \u001b[0mredirect_location\u001b[0m \u001b[1;33m=\u001b[0m \u001b[0mredirect\u001b[0m \u001b[1;32mand\u001b[0m \u001b[0mresponse\u001b[0m\u001b[1;33m.\u001b[0m\u001b[0mget_redirect_location\u001b[0m\u001b[1;33m(\u001b[0m\u001b[1;33m)\u001b[0m\u001b[1;33m\u001b[0m\u001b[1;33m\u001b[0m\u001b[0m\n",
      "\u001b[1;32m~\\anaconda3\\lib\\site-packages\\urllib3\\connectionpool.py\u001b[0m in \u001b[0;36murlopen\u001b[1;34m(self, method, url, body, headers, retries, redirect, assert_same_host, timeout, pool_timeout, release_conn, chunked, body_pos, **response_kw)\u001b[0m\n\u001b[0;32m    697\u001b[0m \u001b[1;33m\u001b[0m\u001b[0m\n\u001b[0;32m    698\u001b[0m             \u001b[1;31m# Make the request on the httplib connection object.\u001b[0m\u001b[1;33m\u001b[0m\u001b[1;33m\u001b[0m\u001b[0m\n\u001b[1;32m--> 699\u001b[1;33m             httplib_response = self._make_request(\n\u001b[0m\u001b[0;32m    700\u001b[0m                 \u001b[0mconn\u001b[0m\u001b[1;33m,\u001b[0m\u001b[1;33m\u001b[0m\u001b[1;33m\u001b[0m\u001b[0m\n\u001b[0;32m    701\u001b[0m                 \u001b[0mmethod\u001b[0m\u001b[1;33m,\u001b[0m\u001b[1;33m\u001b[0m\u001b[1;33m\u001b[0m\u001b[0m\n",
      "\u001b[1;32m~\\anaconda3\\lib\\site-packages\\urllib3\\connectionpool.py\u001b[0m in \u001b[0;36m_make_request\u001b[1;34m(self, conn, method, url, timeout, chunked, **httplib_request_kw)\u001b[0m\n\u001b[0;32m    443\u001b[0m                     \u001b[1;31m# Python 3 (including for exceptions like SystemExit).\u001b[0m\u001b[1;33m\u001b[0m\u001b[1;33m\u001b[0m\u001b[0m\n\u001b[0;32m    444\u001b[0m                     \u001b[1;31m# Otherwise it looks like a bug in the code.\u001b[0m\u001b[1;33m\u001b[0m\u001b[1;33m\u001b[0m\u001b[0m\n\u001b[1;32m--> 445\u001b[1;33m                     \u001b[0msix\u001b[0m\u001b[1;33m.\u001b[0m\u001b[0mraise_from\u001b[0m\u001b[1;33m(\u001b[0m\u001b[0me\u001b[0m\u001b[1;33m,\u001b[0m \u001b[1;32mNone\u001b[0m\u001b[1;33m)\u001b[0m\u001b[1;33m\u001b[0m\u001b[1;33m\u001b[0m\u001b[0m\n\u001b[0m\u001b[0;32m    446\u001b[0m         \u001b[1;32mexcept\u001b[0m \u001b[1;33m(\u001b[0m\u001b[0mSocketTimeout\u001b[0m\u001b[1;33m,\u001b[0m \u001b[0mBaseSSLError\u001b[0m\u001b[1;33m,\u001b[0m \u001b[0mSocketError\u001b[0m\u001b[1;33m)\u001b[0m \u001b[1;32mas\u001b[0m \u001b[0me\u001b[0m\u001b[1;33m:\u001b[0m\u001b[1;33m\u001b[0m\u001b[1;33m\u001b[0m\u001b[0m\n\u001b[0;32m    447\u001b[0m             \u001b[0mself\u001b[0m\u001b[1;33m.\u001b[0m\u001b[0m_raise_timeout\u001b[0m\u001b[1;33m(\u001b[0m\u001b[0merr\u001b[0m\u001b[1;33m=\u001b[0m\u001b[0me\u001b[0m\u001b[1;33m,\u001b[0m \u001b[0murl\u001b[0m\u001b[1;33m=\u001b[0m\u001b[0murl\u001b[0m\u001b[1;33m,\u001b[0m \u001b[0mtimeout_value\u001b[0m\u001b[1;33m=\u001b[0m\u001b[0mread_timeout\u001b[0m\u001b[1;33m)\u001b[0m\u001b[1;33m\u001b[0m\u001b[1;33m\u001b[0m\u001b[0m\n",
      "\u001b[1;32m~\\anaconda3\\lib\\site-packages\\urllib3\\packages\\six.py\u001b[0m in \u001b[0;36mraise_from\u001b[1;34m(value, from_value)\u001b[0m\n",
      "\u001b[1;32m~\\anaconda3\\lib\\site-packages\\urllib3\\connectionpool.py\u001b[0m in \u001b[0;36m_make_request\u001b[1;34m(self, conn, method, url, timeout, chunked, **httplib_request_kw)\u001b[0m\n\u001b[0;32m    438\u001b[0m                 \u001b[1;31m# Python 3\u001b[0m\u001b[1;33m\u001b[0m\u001b[1;33m\u001b[0m\u001b[0m\n\u001b[0;32m    439\u001b[0m                 \u001b[1;32mtry\u001b[0m\u001b[1;33m:\u001b[0m\u001b[1;33m\u001b[0m\u001b[1;33m\u001b[0m\u001b[0m\n\u001b[1;32m--> 440\u001b[1;33m                     \u001b[0mhttplib_response\u001b[0m \u001b[1;33m=\u001b[0m \u001b[0mconn\u001b[0m\u001b[1;33m.\u001b[0m\u001b[0mgetresponse\u001b[0m\u001b[1;33m(\u001b[0m\u001b[1;33m)\u001b[0m\u001b[1;33m\u001b[0m\u001b[1;33m\u001b[0m\u001b[0m\n\u001b[0m\u001b[0;32m    441\u001b[0m                 \u001b[1;32mexcept\u001b[0m \u001b[0mBaseException\u001b[0m \u001b[1;32mas\u001b[0m \u001b[0me\u001b[0m\u001b[1;33m:\u001b[0m\u001b[1;33m\u001b[0m\u001b[1;33m\u001b[0m\u001b[0m\n\u001b[0;32m    442\u001b[0m                     \u001b[1;31m# Remove the TypeError from the exception chain in\u001b[0m\u001b[1;33m\u001b[0m\u001b[1;33m\u001b[0m\u001b[0m\n",
      "\u001b[1;32m~\\anaconda3\\lib\\http\\client.py\u001b[0m in \u001b[0;36mgetresponse\u001b[1;34m(self)\u001b[0m\n\u001b[0;32m   1369\u001b[0m         \u001b[1;32mtry\u001b[0m\u001b[1;33m:\u001b[0m\u001b[1;33m\u001b[0m\u001b[1;33m\u001b[0m\u001b[0m\n\u001b[0;32m   1370\u001b[0m             \u001b[1;32mtry\u001b[0m\u001b[1;33m:\u001b[0m\u001b[1;33m\u001b[0m\u001b[1;33m\u001b[0m\u001b[0m\n\u001b[1;32m-> 1371\u001b[1;33m                 \u001b[0mresponse\u001b[0m\u001b[1;33m.\u001b[0m\u001b[0mbegin\u001b[0m\u001b[1;33m(\u001b[0m\u001b[1;33m)\u001b[0m\u001b[1;33m\u001b[0m\u001b[1;33m\u001b[0m\u001b[0m\n\u001b[0m\u001b[0;32m   1372\u001b[0m             \u001b[1;32mexcept\u001b[0m \u001b[0mConnectionError\u001b[0m\u001b[1;33m:\u001b[0m\u001b[1;33m\u001b[0m\u001b[1;33m\u001b[0m\u001b[0m\n\u001b[0;32m   1373\u001b[0m                 \u001b[0mself\u001b[0m\u001b[1;33m.\u001b[0m\u001b[0mclose\u001b[0m\u001b[1;33m(\u001b[0m\u001b[1;33m)\u001b[0m\u001b[1;33m\u001b[0m\u001b[1;33m\u001b[0m\u001b[0m\n",
      "\u001b[1;32m~\\anaconda3\\lib\\http\\client.py\u001b[0m in \u001b[0;36mbegin\u001b[1;34m(self)\u001b[0m\n\u001b[0;32m    317\u001b[0m         \u001b[1;31m# read until we get a non-100 response\u001b[0m\u001b[1;33m\u001b[0m\u001b[1;33m\u001b[0m\u001b[0m\n\u001b[0;32m    318\u001b[0m         \u001b[1;32mwhile\u001b[0m \u001b[1;32mTrue\u001b[0m\u001b[1;33m:\u001b[0m\u001b[1;33m\u001b[0m\u001b[1;33m\u001b[0m\u001b[0m\n\u001b[1;32m--> 319\u001b[1;33m             \u001b[0mversion\u001b[0m\u001b[1;33m,\u001b[0m \u001b[0mstatus\u001b[0m\u001b[1;33m,\u001b[0m \u001b[0mreason\u001b[0m \u001b[1;33m=\u001b[0m \u001b[0mself\u001b[0m\u001b[1;33m.\u001b[0m\u001b[0m_read_status\u001b[0m\u001b[1;33m(\u001b[0m\u001b[1;33m)\u001b[0m\u001b[1;33m\u001b[0m\u001b[1;33m\u001b[0m\u001b[0m\n\u001b[0m\u001b[0;32m    320\u001b[0m             \u001b[1;32mif\u001b[0m \u001b[0mstatus\u001b[0m \u001b[1;33m!=\u001b[0m \u001b[0mCONTINUE\u001b[0m\u001b[1;33m:\u001b[0m\u001b[1;33m\u001b[0m\u001b[1;33m\u001b[0m\u001b[0m\n\u001b[0;32m    321\u001b[0m                 \u001b[1;32mbreak\u001b[0m\u001b[1;33m\u001b[0m\u001b[1;33m\u001b[0m\u001b[0m\n",
      "\u001b[1;32m~\\anaconda3\\lib\\http\\client.py\u001b[0m in \u001b[0;36m_read_status\u001b[1;34m(self)\u001b[0m\n\u001b[0;32m    278\u001b[0m \u001b[1;33m\u001b[0m\u001b[0m\n\u001b[0;32m    279\u001b[0m     \u001b[1;32mdef\u001b[0m \u001b[0m_read_status\u001b[0m\u001b[1;33m(\u001b[0m\u001b[0mself\u001b[0m\u001b[1;33m)\u001b[0m\u001b[1;33m:\u001b[0m\u001b[1;33m\u001b[0m\u001b[1;33m\u001b[0m\u001b[0m\n\u001b[1;32m--> 280\u001b[1;33m         \u001b[0mline\u001b[0m \u001b[1;33m=\u001b[0m \u001b[0mstr\u001b[0m\u001b[1;33m(\u001b[0m\u001b[0mself\u001b[0m\u001b[1;33m.\u001b[0m\u001b[0mfp\u001b[0m\u001b[1;33m.\u001b[0m\u001b[0mreadline\u001b[0m\u001b[1;33m(\u001b[0m\u001b[0m_MAXLINE\u001b[0m \u001b[1;33m+\u001b[0m \u001b[1;36m1\u001b[0m\u001b[1;33m)\u001b[0m\u001b[1;33m,\u001b[0m \u001b[1;34m\"iso-8859-1\"\u001b[0m\u001b[1;33m)\u001b[0m\u001b[1;33m\u001b[0m\u001b[1;33m\u001b[0m\u001b[0m\n\u001b[0m\u001b[0;32m    281\u001b[0m         \u001b[1;32mif\u001b[0m \u001b[0mlen\u001b[0m\u001b[1;33m(\u001b[0m\u001b[0mline\u001b[0m\u001b[1;33m)\u001b[0m \u001b[1;33m>\u001b[0m \u001b[0m_MAXLINE\u001b[0m\u001b[1;33m:\u001b[0m\u001b[1;33m\u001b[0m\u001b[1;33m\u001b[0m\u001b[0m\n\u001b[0;32m    282\u001b[0m             \u001b[1;32mraise\u001b[0m \u001b[0mLineTooLong\u001b[0m\u001b[1;33m(\u001b[0m\u001b[1;34m\"status line\"\u001b[0m\u001b[1;33m)\u001b[0m\u001b[1;33m\u001b[0m\u001b[1;33m\u001b[0m\u001b[0m\n",
      "\u001b[1;32m~\\anaconda3\\lib\\socket.py\u001b[0m in \u001b[0;36mreadinto\u001b[1;34m(self, b)\u001b[0m\n\u001b[0;32m    702\u001b[0m         \u001b[1;32mwhile\u001b[0m \u001b[1;32mTrue\u001b[0m\u001b[1;33m:\u001b[0m\u001b[1;33m\u001b[0m\u001b[1;33m\u001b[0m\u001b[0m\n\u001b[0;32m    703\u001b[0m             \u001b[1;32mtry\u001b[0m\u001b[1;33m:\u001b[0m\u001b[1;33m\u001b[0m\u001b[1;33m\u001b[0m\u001b[0m\n\u001b[1;32m--> 704\u001b[1;33m                 \u001b[1;32mreturn\u001b[0m \u001b[0mself\u001b[0m\u001b[1;33m.\u001b[0m\u001b[0m_sock\u001b[0m\u001b[1;33m.\u001b[0m\u001b[0mrecv_into\u001b[0m\u001b[1;33m(\u001b[0m\u001b[0mb\u001b[0m\u001b[1;33m)\u001b[0m\u001b[1;33m\u001b[0m\u001b[1;33m\u001b[0m\u001b[0m\n\u001b[0m\u001b[0;32m    705\u001b[0m             \u001b[1;32mexcept\u001b[0m \u001b[0mtimeout\u001b[0m\u001b[1;33m:\u001b[0m\u001b[1;33m\u001b[0m\u001b[1;33m\u001b[0m\u001b[0m\n\u001b[0;32m    706\u001b[0m                 \u001b[0mself\u001b[0m\u001b[1;33m.\u001b[0m\u001b[0m_timeout_occurred\u001b[0m \u001b[1;33m=\u001b[0m \u001b[1;32mTrue\u001b[0m\u001b[1;33m\u001b[0m\u001b[1;33m\u001b[0m\u001b[0m\n",
      "\u001b[1;31mKeyboardInterrupt\u001b[0m: "
     ]
    }
   ],
   "source": [
    "# This scraper uses Selenium with a chrome driver to search the IFA website\n",
    "# HTML element class names, it then loops through a set maximum number of pages\n",
    "# amd returns any result contained within the keywords list\n",
    "\n",
    "TargetUrl = 'https://www.ifa.ie/page/'\n",
    "keywords = [\"beef\", \"cattle\", \"mutton\", \"sheep\", \"prices\", \"price\", \"poultry\",\n",
    "            \"CAP\", \"common agriculutral policy\", \"pig\", \"pork\", \"meat\"]\n",
    "\n",
    "maxobservations = 100\n",
    "sentimentdata = pd.DataFrame(columns=['Link', 'Date', 'Title', 'Text'])\n",
    "\n",
    "for word in keywords:\n",
    "    for i in range(maxobservations):\n",
    "        SearchUrl = TargetUrl + str(i+1) + '/?s=' + word\n",
    "        driver.get(SearchUrl)\n",
    "        elems = driver.find_elements_by_css_selector(\".col-sm-12 [href]\")\n",
    "        links = [elem.get_attribute('href') for elem in elems]\n",
    "        for link in links:\n",
    "            driver.get(link)\n",
    "            try:\n",
    "                page = driver.find_element_by_xpath(\"/html/body\")\n",
    "                sentimentdata = sentimentdata.append({'Link': link,\n",
    "                                           'Date': page.find_element(By.CLASS_NAME, 'entry-date').text,\n",
    "                                           'Title': page.find_element(By.CLASS_NAME, 'entry-title').text,\n",
    "                                           'Text': page.find_element(By.CLASS_NAME, 'single-content').text},\n",
    "                                          ignore_index=True)\n",
    "            except:\n",
    "                print('The crawler was unable to collect information on {}'.format(link))"
   ]
  },
  {
   "cell_type": "code",
   "execution_count": null,
   "id": "63c5b54c",
   "metadata": {
    "ExecuteTime": {
     "end_time": "2022-05-18T13:25:48.680325Z",
     "start_time": "2022-05-18T13:25:48.651522Z"
    }
   },
   "outputs": [],
   "source": [
    "#Save to CSV\n",
    "sentimentdata.to_csv(\"C:\\\\Users\\\\shaun\\\\Desktop\\\\IFA_sentiment_data.csv\")"
   ]
  },
  {
   "cell_type": "code",
   "execution_count": null,
   "id": "e42cd503",
   "metadata": {},
   "outputs": [],
   "source": []
  },
  {
   "cell_type": "code",
   "execution_count": null,
   "id": "bfc830a7",
   "metadata": {},
   "outputs": [],
   "source": []
  },
  {
   "cell_type": "code",
   "execution_count": null,
   "id": "032e02bd",
   "metadata": {},
   "outputs": [],
   "source": []
  },
  {
   "cell_type": "code",
   "execution_count": null,
   "id": "0622b132",
   "metadata": {},
   "outputs": [],
   "source": []
  },
  {
   "cell_type": "markdown",
   "id": "b19ba42a",
   "metadata": {},
   "source": [
    "# Old work"
   ]
  },
  {
   "cell_type": "code",
   "execution_count": null,
   "id": "c9014e64",
   "metadata": {
    "ExecuteTime": {
     "end_time": "2022-05-18T13:09:02.797279Z",
     "start_time": "2022-05-18T13:09:02.772194Z"
    }
   },
   "outputs": [],
   "source": [
    "# This scraper uses Selenium with a chrome driver to search the IFA website\n",
    "# HTML element class names, it then loops through a set maximum number of pages\n",
    "# amd returns any result contained within the keywords list\n",
    "\n",
    "TargetUrl = 'https://www.ifa.ie/page/'\n",
    "keywords = [\"beef\", \"cattle\", \"mutton\", \"sheep\", \"prices\", \"price\", \"poultry\",\n",
    "            \"CAP\", \"common agriculutral policy\", \"pig\", \"pork\", \"meat\"]\n",
    "\n",
    "maxobservations = 100\n",
    "sentimentdata = pd.DataFrame(columns=['Link', 'Date', 'Title', 'Text'])\n",
    "\n",
    "for i in range(maxobservations):\n",
    "    SearchUrl = TargetUrl + str(i+1) + '/?s=' + word in keywords\n",
    "    driver.get(SearchUrl)\n",
    "    elems = driver.find_elements_by_css_selector(\".col-sm-12 [href]\")\n",
    "    links = [elem.get_attribute('href') for elem in elems]\n",
    "    for link in links:\n",
    "        driver.get(link)\n",
    "        try:\n",
    "            page = driver.find_element_by_xpath(\"/html/body\")\n",
    "            sentimentdata = sentimentdata.append({'Link': link,\n",
    "                                       'Date': page.find_element(By.CLASS_NAME, 'entry-date').text,\n",
    "                                       'Title': page.find_element(By.CLASS_NAME, 'entry-title').text,\n",
    "                                       'Text': page.find_element(By.CLASS_NAME, 'single-content').text},\n",
    "                                      ignore_index=True)\n",
    "        except:\n",
    "            print('The crawler was unable to collect information on {}'.format(link))"
   ]
  },
  {
   "cell_type": "code",
   "execution_count": null,
   "id": "1616b2cf",
   "metadata": {},
   "outputs": [],
   "source": []
  },
  {
   "cell_type": "code",
   "execution_count": null,
   "id": "0d594979",
   "metadata": {},
   "outputs": [],
   "source": []
  },
  {
   "cell_type": "code",
   "execution_count": null,
   "id": "66403582",
   "metadata": {},
   "outputs": [],
   "source": [
    "TargetUrl = 'https://www.ifa.ie/page/'\n",
    "keywords = [\"beef\", \"cattle\", \"mutton\", \"sheep\", \"prices\", \"price\", \"poultry\",\n",
    "            \"CAP\", \"common agriculutral policy\", \"pig\", \"pork\", \"meat\"]\n",
    "\n",
    "maxobservations = 50\n",
    "sentimentdata = pd.Dataframe(columns=['Link', 'Date', 'Title', 'Text'])\n",
    "\n",
    "for i in range(maxpages):\n",
    "    SearchUrl = TargetUrl + str(i+1) + '/?s=' + keywords\n",
    "    driver.get(currentUrl)\n",
    "    elems = driver.find_elements_by_css_selector(\".col-sm-12 [href]\")\n",
    "    links = [elem.get_attribute('href') for elem in elems]\n",
    "    for link in links:\n",
    "        driver.get(link)\n",
    "        try\n",
    "        page = driver.find_element_by_xpath(\"/html/body\")\n",
    "    driver.find_elements_by_xpath(\"/html/body\")\n",
    "    sentimentdata = sentimentdata.append({'Link': link,\n",
    "                               'Date': page.find_element(By.CLASS_NAME, 'entry-date').text\n",
    "                               'Title': page.find_element(By.CLASS_NAME, 'entry-title').text\n",
    "                               'Text': page.find_element(By.CLASS_NAME, 'single-content').text},\n",
    "                              ignore_index=True)\n",
    "    except:\n",
    "        print('The crawler was unable to collect information on {}'.format(link))"
   ]
  },
  {
   "cell_type": "code",
   "execution_count": null,
   "id": "e0d8d6bd",
   "metadata": {},
   "outputs": [],
   "source": []
  },
  {
   "cell_type": "code",
   "execution_count": null,
   "id": "f72ff2a8",
   "metadata": {},
   "outputs": [],
   "source": []
  },
  {
   "cell_type": "code",
   "execution_count": null,
   "id": "cf420488",
   "metadata": {},
   "outputs": [],
   "source": []
  },
  {
   "cell_type": "code",
   "execution_count": null,
   "id": "9e2bc98f",
   "metadata": {
    "ExecuteTime": {
     "end_time": "2022-05-18T12:56:02.540497Z",
     "start_time": "2022-05-18T12:55:57.322759Z"
    }
   },
   "outputs": [],
   "source": [
    "# Irish farmers Association\n",
    "# Here I add the IFA URL as a query along with keywords and ask\n",
    "# the driver to get the query, I have also added a variable to search by css\n",
    "# type amd finally one to search for links.\n",
    "\n",
    "keywords = [\"beef\", \"cattle\", \"mutton\", \"sheep\", \"prices\", \"price\", \"poultry\",\n",
    "            \"CAP\", \"common agriculutral policy\", \"pig\", \"pork\", \"meat\"]\n",
    "\n",
    "for word in keywords:\n",
    "    urlQuery = f\"https://www.ifa.ie/?s={word}\"\n",
    "    driver.get(urlQuery)\n",
    "    elems = driver.find_elements_by_css_selector(\".col-sm-12 [href]\")\n",
    "    links = [elem.get_attribute('href') for elem in elems]"
   ]
  },
  {
   "cell_type": "code",
   "execution_count": null,
   "id": "690c54db",
   "metadata": {},
   "outputs": [],
   "source": []
  },
  {
   "cell_type": "code",
   "execution_count": null,
   "id": "6083501a",
   "metadata": {},
   "outputs": [],
   "source": []
  },
  {
   "cell_type": "code",
   "execution_count": null,
   "id": "f75c218d",
   "metadata": {
    "ExecuteTime": {
     "end_time": "2022-05-18T12:24:28.103836Z",
     "start_time": "2022-05-18T12:24:27.967326Z"
    }
   },
   "outputs": [],
   "source": []
  },
  {
   "cell_type": "code",
   "execution_count": null,
   "id": "170bca01",
   "metadata": {},
   "outputs": [],
   "source": []
  },
  {
   "cell_type": "code",
   "execution_count": null,
   "id": "f0f24be2",
   "metadata": {},
   "outputs": [],
   "source": []
  },
  {
   "cell_type": "code",
   "execution_count": null,
   "id": "6e5f905f",
   "metadata": {
    "ExecuteTime": {
     "end_time": "2022-05-11T20:52:56.774230Z",
     "start_time": "2022-05-11T20:52:56.768478Z"
    }
   },
   "outputs": [],
   "source": [
    "for link in links:\n",
    "    print(link)"
   ]
  },
  {
   "cell_type": "code",
   "execution_count": null,
   "id": "9b6cd17a",
   "metadata": {
    "ExecuteTime": {
     "end_time": "2022-05-11T20:52:56.789509Z",
     "start_time": "2022-05-11T20:52:56.774230Z"
    }
   },
   "outputs": [],
   "source": [
    "for elem in elems:\n",
    "    print(elem)"
   ]
  },
  {
   "cell_type": "code",
   "execution_count": null,
   "id": "f100f77b",
   "metadata": {},
   "outputs": [],
   "source": []
  },
  {
   "cell_type": "code",
   "execution_count": null,
   "id": "879a5e7d",
   "metadata": {
    "ExecuteTime": {
     "end_time": "2022-05-11T20:58:39.940974Z",
     "start_time": "2022-05-11T20:58:39.735331Z"
    }
   },
   "outputs": [],
   "source": [
    "from selenium.webdriver.common.by import By\n",
    "\n",
    "driver.get(links[0])\n",
    "page = driver.find_element_by_xpath(\"/html/body\")\n",
    "print('URL Title: \\n {} \\n'.format(page.find_element(By.CLASS_NAME, 'entry-title').text))\n",
    "print('URL Date: \\n {} \\n'.format(page.find_element(By.CLASS_NAME, 'entry-date').text))\n",
    "print('URL Text: \\n {}'.format(page.find_element(By.CLASS_NAME, 'single-content').text))"
   ]
  },
  {
   "cell_type": "code",
   "execution_count": null,
   "id": "fecbf75f",
   "metadata": {},
   "outputs": [],
   "source": []
  },
  {
   "cell_type": "code",
   "execution_count": null,
   "id": "706b51fd",
   "metadata": {},
   "outputs": [],
   "source": []
  },
  {
   "cell_type": "code",
   "execution_count": null,
   "id": "c3a5364b",
   "metadata": {},
   "outputs": [],
   "source": []
  },
  {
   "cell_type": "code",
   "execution_count": null,
   "id": "1e59bf8f",
   "metadata": {},
   "outputs": [],
   "source": [
    "IFA = []\n",
    "\n",
    "for url in urlQuery:\n",
    "    driver.get(urlQuery)\n",
    "    elems = driver.find_elements_by_css_selector(\".col-sm-12 [href]\")\n",
    "    links = [elem.get_attribute('href') for elem in elems]"
   ]
  },
  {
   "cell_type": "code",
   "execution_count": null,
   "id": "f771be88",
   "metadata": {},
   "outputs": [],
   "source": [
    "TargetUrl = 'https://www.ifa.ie/page/'\n",
    "keywords = [\"beef\", \"cattle\", \"mutton\", \"sheep\", \"prices\", \"price\", \"poultry\",\n",
    "            \"CAP\", \"common agriculutral policy\", \"pig\", \"pork\", \"meat\"]\n",
    "\n",
    "maxobservations = 50\n",
    "sentimentdata = pd.Dataframe(columns=['Link', 'Date', 'Title', 'Text'])\n",
    "\n",
    "for i in range(maxpages):\n",
    "    SearchUrl = TargetUrl + str(i+1) + '/?s=' + keywords\n",
    "    driver.get(currentUrl)\n",
    "    elems = driver.find_elements_by_css_selector(\".col-sm-12 [href]\")\n",
    "    links = [elem.get_attribute('href') for elem in elems]\n",
    "    for link in links:\n",
    "        driver.get(link)\n",
    "        try\n",
    "        page = driver.find_element_by_xpath(\"/html/body\")\n",
    "    driver.find_elements_by_xpath(\"/html/body\")\n",
    "    sentimentdata = sentimentdata.append({'Link': link,\n",
    "                               'Date': page.find_element(By.CLASS_NAME, 'entry-date').text\n",
    "                               'Title': page.find_element(By.CLASS_NAME, 'entry-title').text\n",
    "                               'Text': page.find_element(By.CLASS_NAME, 'single-content').text},\n",
    "                              ignore_index=True)\n",
    "    except:\n",
    "        print('The crawler was unable to collect information on {}'.format(link))"
   ]
  },
  {
   "cell_type": "code",
   "execution_count": null,
   "id": "2a3fb039",
   "metadata": {},
   "outputs": [],
   "source": []
  },
  {
   "cell_type": "code",
   "execution_count": null,
   "id": "d958817e",
   "metadata": {},
   "outputs": [],
   "source": []
  },
  {
   "cell_type": "code",
   "execution_count": null,
   "id": "b8642223",
   "metadata": {},
   "outputs": [],
   "source": []
  },
  {
   "cell_type": "markdown",
   "id": "d22e168f",
   "metadata": {},
   "source": [
    "# The Appendix of nonsense"
   ]
  },
  {
   "cell_type": "markdown",
   "id": "acad2e25",
   "metadata": {},
   "source": [
    "## Old code keep"
   ]
  },
  {
   "cell_type": "code",
   "execution_count": null,
   "id": "96c80c79",
   "metadata": {
    "ExecuteTime": {
     "end_time": "2022-05-10T20:40:07.231856Z",
     "start_time": "2022-05-10T20:40:07.208293Z"
    }
   },
   "outputs": [],
   "source": [
    "articles = driver.find_elements_by_class_name(\"modal-open\")\n",
    "len(articles)"
   ]
  },
  {
   "cell_type": "code",
   "execution_count": null,
   "id": "207f2f43",
   "metadata": {
    "ExecuteTime": {
     "end_time": "2022-05-10T20:40:07.881896Z",
     "start_time": "2022-05-10T20:40:07.777661Z"
    }
   },
   "outputs": [],
   "source": [
    "print(articles[0].text)"
   ]
  },
  {
   "cell_type": "code",
   "execution_count": null,
   "id": "d0ea5d39",
   "metadata": {
    "ExecuteTime": {
     "end_time": "2022-05-10T20:08:28.546176Z",
     "start_time": "2022-05-10T20:08:28.407049Z"
    }
   },
   "outputs": [],
   "source": [
    "print(articles[-1].text)"
   ]
  },
  {
   "cell_type": "markdown",
   "id": "183db7f0",
   "metadata": {},
   "source": [
    "## For tomorrow"
   ]
  },
  {
   "cell_type": "markdown",
   "id": "38cfb11e",
   "metadata": {},
   "source": [
    "Urls:\n",
    "\n",
    "https://medium.com/ml-book/web-scraping-using-selenium-python-3be7b8762747\n",
    "    \n",
    "https://selenium-python.readthedocs.io/index.html\n",
    "\n",
    "https://newbedev.com/python-selenium-get-href-value\n",
    "\n",
    "https://www.farmersjournal.ie/making-the-final-call-on-maiden-heifers-for-breeding-696038"
   ]
  },
  {
   "cell_type": "code",
   "execution_count": null,
   "id": "61867a63",
   "metadata": {
    "ExecuteTime": {
     "end_time": "2022-05-10T20:38:06.270785Z",
     "start_time": "2022-05-10T20:38:06.175732Z"
    }
   },
   "outputs": [],
   "source": [
    "articles2 = driver.find_elements_by_class_name(\"sid-plesk\")\n",
    "len(articles2)"
   ]
  },
  {
   "cell_type": "code",
   "execution_count": null,
   "id": "6dfefaa3",
   "metadata": {
    "ExecuteTime": {
     "end_time": "2022-05-10T20:38:23.865271Z",
     "start_time": "2022-05-10T20:38:23.753607Z"
    }
   },
   "outputs": [],
   "source": [
    "print(articles2[0].text)"
   ]
  },
  {
   "cell_type": "code",
   "execution_count": null,
   "id": "e0b2a65e",
   "metadata": {},
   "outputs": [],
   "source": []
  }
 ],
 "metadata": {
  "kernelspec": {
   "display_name": "Python 3 (ipykernel)",
   "language": "python",
   "name": "python3"
  },
  "language_info": {
   "codemirror_mode": {
    "name": "ipython",
    "version": 3
   },
   "file_extension": ".py",
   "mimetype": "text/x-python",
   "name": "python",
   "nbconvert_exporter": "python",
   "pygments_lexer": "ipython3",
   "version": "3.9.7"
  },
  "toc": {
   "base_numbering": 1,
   "nav_menu": {},
   "number_sections": true,
   "sideBar": true,
   "skip_h1_title": false,
   "title_cell": "Table of Contents",
   "title_sidebar": "Contents",
   "toc_cell": false,
   "toc_position": {},
   "toc_section_display": true,
   "toc_window_display": false
  }
 },
 "nbformat": 4,
 "nbformat_minor": 5
}
