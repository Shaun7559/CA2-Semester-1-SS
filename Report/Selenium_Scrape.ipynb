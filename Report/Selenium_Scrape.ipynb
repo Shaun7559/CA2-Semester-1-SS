{
 "cells": [
  {
   "cell_type": "markdown",
   "id": "fc469a97",
   "metadata": {},
   "source": [
    "# Web scraper"
   ]
  },
  {
   "cell_type": "code",
   "execution_count": 4,
   "id": "8fab6759",
   "metadata": {
    "ExecuteTime": {
     "end_time": "2022-05-18T12:25:11.542496Z",
     "start_time": "2022-05-18T12:25:11.445482Z"
    }
   },
   "outputs": [],
   "source": [
    "from selenium import webdriver"
   ]
  },
  {
   "cell_type": "code",
   "execution_count": 6,
   "id": "c8bf4b8d",
   "metadata": {
    "ExecuteTime": {
     "end_time": "2022-05-18T12:35:25.404241Z",
     "start_time": "2022-05-18T12:35:23.677377Z"
    }
   },
   "outputs": [
    {
     "name": "stderr",
     "output_type": "stream",
     "text": [
      "C:\\Users\\shaun\\AppData\\Local\\Temp/ipykernel_3884/2026946682.py:3: DeprecationWarning: executable_path has been deprecated, please pass in a Service object\n",
      "  driver = webdriver.Chrome(r\"C:\\Users\\shaun\\Downloads\\chromedriver_win32\\chromedriver.exe\")\n"
     ]
    }
   ],
   "source": [
    "# Creating the web driver that will scrape the websites\n",
    "\n",
    "driver = webdriver.Chrome(r\"C:\\Users\\shaun\\Downloads\\chromedriver_win32\\chromedriver.exe\")"
   ]
  },
  {
   "cell_type": "code",
   "execution_count": 7,
   "id": "09d4c33e",
   "metadata": {
    "ExecuteTime": {
     "end_time": "2022-05-18T12:35:41.293654Z",
     "start_time": "2022-05-18T12:35:30.765433Z"
    }
   },
   "outputs": [
    {
     "name": "stderr",
     "output_type": "stream",
     "text": [
      "C:\\Users\\shaun\\AppData\\Local\\Temp/ipykernel_3884/825502804.py:12: DeprecationWarning: find_elements_by_css_selector is deprecated. Please use find_elements(by=By.CSS_SELECTOR, value=css_selector) instead\n",
      "  elems = driver.find_elements_by_css_selector(\".col-sm-12 [href]\")\n"
     ]
    }
   ],
   "source": [
    "# Irish farmers Association\n",
    "# Here I add the IFA URL as a query along with keywords and ask\n",
    "# the driver to get the query, I have also added a variable to search by css\n",
    "# type amd finally one to search for links.\n",
    "\n",
    "keywords = [\"beef\", \"cattle\", \"mutton\", \"sheep\", \"prices\", \"price\", \"poultry\",\n",
    "            \"CAP\", \"common agriculutral policy\", \"pig\", \"pork\", \"meat\"]\n",
    "\n",
    "for word in keywords:\n",
    "    urlQuery = f\"https://www.ifa.ie/?s={word}\"\n",
    "    driver.get(urlQuery)\n",
    "    elems = driver.find_elements_by_css_selector(\".col-sm-12 [href]\")\n",
    "    links = [elem.get_attribute('href') for elem in elems]"
   ]
  },
  {
   "cell_type": "code",
   "execution_count": null,
   "id": "cd0e3ec8",
   "metadata": {},
   "outputs": [],
   "source": []
  },
  {
   "cell_type": "code",
   "execution_count": null,
   "id": "3d305919",
   "metadata": {},
   "outputs": [],
   "source": []
  },
  {
   "cell_type": "code",
   "execution_count": null,
   "id": "57eb2680",
   "metadata": {},
   "outputs": [],
   "source": []
  },
  {
   "cell_type": "code",
   "execution_count": 10,
   "id": "36d2edf7",
   "metadata": {
    "ExecuteTime": {
     "end_time": "2022-05-18T12:54:06.376434Z",
     "start_time": "2022-05-18T12:54:06.340438Z"
    }
   },
   "outputs": [
    {
     "ename": "SyntaxError",
     "evalue": "invalid syntax (Temp/ipykernel_3884/3715403001.py, line 19)",
     "output_type": "error",
     "traceback": [
      "\u001b[1;36m  File \u001b[1;32m\"C:\\Users\\shaun\\AppData\\Local\\Temp/ipykernel_3884/3715403001.py\"\u001b[1;36m, line \u001b[1;32m19\u001b[0m\n\u001b[1;33m    try\u001b[0m\n\u001b[1;37m       ^\u001b[0m\n\u001b[1;31mSyntaxError\u001b[0m\u001b[1;31m:\u001b[0m invalid syntax\n"
     ]
    }
   ],
   "source": [
    "# This scraper uses Selenium with a chrome driver to search the IFA website\n",
    "# HTML element class names, it then loops through a set maximum number of pages\n",
    "# amd returns any result contained within the keywords list\n",
    "\n",
    "TargetUrl = 'https://www.ifa.ie/page/'\n",
    "keywords = [\"beef\", \"cattle\", \"mutton\", \"sheep\", \"prices\", \"price\", \"poultry\",\n",
    "            \"CAP\", \"common agriculutral policy\", \"pig\", \"pork\", \"meat\"]\n",
    "\n",
    "maxobservations = 100\n",
    "sentimentdata = pd.Dataframe(columns=['Link', 'Date', 'Title', 'Text'])\n",
    "\n",
    "for i in range(maxobservations):\n",
    "    SearchUrl = TargetUrl + str(i+1) + '/?s=' + keywords\n",
    "    driver.get(SearchUrl)\n",
    "    elems = driver.find_elements_by_css_selector(\".col-sm-12 [href]\")\n",
    "    links = [elem.get_attribute('href') for elem in elems]\n",
    "    for link in links:\n",
    "        driver.get(link)\n",
    "        try\n",
    "            page = driver.find_element_by_xpath(\"/html/body\")\n",
    "            sentimentdata = sentimentdata.append({'Link': link,\n",
    "                                       'Date': page.find_element(By.CLASS_NAME, 'entry-date').text\n",
    "                                       'Title': page.find_element(By.CLASS_NAME, 'entry-title').text\n",
    "                                       'Text': page.find_element(By.CLASS_NAME, 'single-content').text},\n",
    "                                      ignore_index=True)\n",
    "        except:\n",
    "            print('The crawler was unable to collect information on {}'.format(link))"
   ]
  },
  {
   "cell_type": "code",
   "execution_count": null,
   "id": "e9e7c829",
   "metadata": {},
   "outputs": [],
   "source": [
    "#Save to CSV\n",
    "sentimentdata.to_csv(\"C:\\\\Users\\\\shaun\\\\Desktop\\\\IFA_sentiment_data.csv\")"
   ]
  },
  {
   "cell_type": "code",
   "execution_count": null,
   "id": "4b69b5d1",
   "metadata": {},
   "outputs": [],
   "source": []
  },
  {
   "cell_type": "code",
   "execution_count": null,
   "id": "21f35516",
   "metadata": {},
   "outputs": [],
   "source": []
  },
  {
   "cell_type": "code",
   "execution_count": null,
   "id": "6351add7",
   "metadata": {},
   "outputs": [],
   "source": [
    "TargetUrl = 'https://www.ifa.ie/page/'\n",
    "keywords = [\"beef\", \"cattle\", \"mutton\", \"sheep\", \"prices\", \"price\", \"poultry\",\n",
    "            \"CAP\", \"common agriculutral policy\", \"pig\", \"pork\", \"meat\"]\n",
    "\n",
    "maxobservations = 50\n",
    "sentimentdata = pd.Dataframe(columns=['Link', 'Date', 'Title', 'Text'])\n",
    "\n",
    "for i in range(maxpages):\n",
    "    SearchUrl = TargetUrl + str(i+1) + '/?s=' + keywords\n",
    "    driver.get(currentUrl)\n",
    "    elems = driver.find_elements_by_css_selector(\".col-sm-12 [href]\")\n",
    "    links = [elem.get_attribute('href') for elem in elems]\n",
    "    for link in links:\n",
    "        driver.get(link)\n",
    "        try\n",
    "        page = driver.find_element_by_xpath(\"/html/body\")\n",
    "    driver.find_elements_by_xpath(\"/html/body\")\n",
    "    sentimentdata = sentimentdata.append({'Link': link,\n",
    "                               'Date': page.find_element(By.CLASS_NAME, 'entry-date').text\n",
    "                               'Title': page.find_element(By.CLASS_NAME, 'entry-title').text\n",
    "                               'Text': page.find_element(By.CLASS_NAME, 'single-content').text},\n",
    "                              ignore_index=True)\n",
    "    except:\n",
    "        print('The crawler was unable to collect information on {}'.format(link))"
   ]
  },
  {
   "cell_type": "code",
   "execution_count": null,
   "id": "78fa938b",
   "metadata": {},
   "outputs": [],
   "source": []
  },
  {
   "cell_type": "code",
   "execution_count": null,
   "id": "1e151e43",
   "metadata": {},
   "outputs": [],
   "source": []
  },
  {
   "cell_type": "code",
   "execution_count": null,
   "id": "ce04b17e",
   "metadata": {},
   "outputs": [],
   "source": []
  },
  {
   "cell_type": "code",
   "execution_count": null,
   "id": "3c1b3b88",
   "metadata": {},
   "outputs": [],
   "source": []
  },
  {
   "cell_type": "code",
   "execution_count": null,
   "id": "a2c8bdf0",
   "metadata": {},
   "outputs": [],
   "source": []
  },
  {
   "cell_type": "code",
   "execution_count": 1,
   "id": "f75c218d",
   "metadata": {
    "ExecuteTime": {
     "end_time": "2022-05-18T12:24:28.103836Z",
     "start_time": "2022-05-18T12:24:27.967326Z"
    }
   },
   "outputs": [
    {
     "ename": "NameError",
     "evalue": "name 'driver' is not defined",
     "output_type": "error",
     "traceback": [
      "\u001b[1;31m---------------------------------------------------------------------------\u001b[0m",
      "\u001b[1;31mNameError\u001b[0m                                 Traceback (most recent call last)",
      "\u001b[1;32m~\\AppData\\Local\\Temp/ipykernel_3884/825502804.py\u001b[0m in \u001b[0;36m<module>\u001b[1;34m\u001b[0m\n\u001b[0;32m      9\u001b[0m \u001b[1;32mfor\u001b[0m \u001b[0mword\u001b[0m \u001b[1;32min\u001b[0m \u001b[0mkeywords\u001b[0m\u001b[1;33m:\u001b[0m\u001b[1;33m\u001b[0m\u001b[1;33m\u001b[0m\u001b[0m\n\u001b[0;32m     10\u001b[0m     \u001b[0murlQuery\u001b[0m \u001b[1;33m=\u001b[0m \u001b[1;34mf\"https://www.ifa.ie/?s={word}\"\u001b[0m\u001b[1;33m\u001b[0m\u001b[1;33m\u001b[0m\u001b[0m\n\u001b[1;32m---> 11\u001b[1;33m     \u001b[0mdriver\u001b[0m\u001b[1;33m.\u001b[0m\u001b[0mget\u001b[0m\u001b[1;33m(\u001b[0m\u001b[0murlQuery\u001b[0m\u001b[1;33m)\u001b[0m\u001b[1;33m\u001b[0m\u001b[1;33m\u001b[0m\u001b[0m\n\u001b[0m\u001b[0;32m     12\u001b[0m     \u001b[0melems\u001b[0m \u001b[1;33m=\u001b[0m \u001b[0mdriver\u001b[0m\u001b[1;33m.\u001b[0m\u001b[0mfind_elements_by_css_selector\u001b[0m\u001b[1;33m(\u001b[0m\u001b[1;34m\".col-sm-12 [href]\"\u001b[0m\u001b[1;33m)\u001b[0m\u001b[1;33m\u001b[0m\u001b[1;33m\u001b[0m\u001b[0m\n\u001b[0;32m     13\u001b[0m     \u001b[0mlinks\u001b[0m \u001b[1;33m=\u001b[0m \u001b[1;33m[\u001b[0m\u001b[0melem\u001b[0m\u001b[1;33m.\u001b[0m\u001b[0mget_attribute\u001b[0m\u001b[1;33m(\u001b[0m\u001b[1;34m'href'\u001b[0m\u001b[1;33m)\u001b[0m \u001b[1;32mfor\u001b[0m \u001b[0melem\u001b[0m \u001b[1;32min\u001b[0m \u001b[0melems\u001b[0m\u001b[1;33m]\u001b[0m\u001b[1;33m\u001b[0m\u001b[1;33m\u001b[0m\u001b[0m\n",
      "\u001b[1;31mNameError\u001b[0m: name 'driver' is not defined"
     ]
    }
   ],
   "source": []
  },
  {
   "cell_type": "code",
   "execution_count": null,
   "id": "6f2c11df",
   "metadata": {},
   "outputs": [],
   "source": []
  },
  {
   "cell_type": "code",
   "execution_count": null,
   "id": "293466f7",
   "metadata": {},
   "outputs": [],
   "source": []
  },
  {
   "cell_type": "code",
   "execution_count": 46,
   "id": "6e5f905f",
   "metadata": {
    "ExecuteTime": {
     "end_time": "2022-05-11T20:52:56.774230Z",
     "start_time": "2022-05-11T20:52:56.768478Z"
    }
   },
   "outputs": [
    {
     "name": "stdout",
     "output_type": "stream",
     "text": [
      "https://www.ifa.ie/campaigns/ifa-contacts-key-international-public-health-agencies-on-red-meat-data/\n",
      "https://www.ifa.ie/campaigns/scientists-raise-serious-questions-about-reliability-of-data-on-impact-of-red-meat/\n",
      "https://www.ifa.ie/farm-sectors/ifa-welcomes-bord-bia-promotional-campaign-for-pig-meat/\n",
      "https://www.ifa.ie/farm-sectors/pig-farmers-expect-retailers-to-use-bord-bia-qa-pigmeat/\n",
      "https://www.ifa.ie/campaigns/support-and-buy-irish-bord-bia-quality-assured-pigmeat-not-imports/\n",
      "https://www.ifa.ie/farm-sectors/procedures-around-imports-of-sheep-meat-must-be-strong-and-robust/\n",
      "https://www.ifa.ie/policy-areas/positive-market-outlook-for-sheep-meat/\n",
      "https://www.ifa.ie/farm-sectors/cutting-promotion-of-meat-products-would-be-a-rash-decision/\n",
      "https://www.ifa.ie/farm-sectors/european-parliament-can-block-attempt-by-plant-based-products-to-ride-on-coattails-of-meat/\n",
      "https://www.ifa.ie/farm-sectors/onus-on-meat-factories-to-act-responsibly/\n",
      "https://www.ifa.ie/farm-sectors/ifa-hand-in-letters-of-protest-to-meat-industry-ireland-and-minister-creed-over-beef-price-and-breaches-of-the-beef-sector-agreement/\n",
      "https://www.ifa.ie/policy-areas/sustainability-brief-meat-and-dairy-in-a-balanced-diet/\n",
      "https://www.ifa.ie/farm-sectors/jail-threat-by-meat-plants-will-be-fully-resisted-by-ifa-healy/\n"
     ]
    }
   ],
   "source": [
    "for link in links:\n",
    "    print(link)"
   ]
  },
  {
   "cell_type": "code",
   "execution_count": 47,
   "id": "9b6cd17a",
   "metadata": {
    "ExecuteTime": {
     "end_time": "2022-05-11T20:52:56.789509Z",
     "start_time": "2022-05-11T20:52:56.774230Z"
    }
   },
   "outputs": [
    {
     "name": "stdout",
     "output_type": "stream",
     "text": [
      "<selenium.webdriver.remote.webelement.WebElement (session=\"ce89566919a28a0ad645fe60670f62d7\", element=\"de9a08b0-431f-467a-b017-029fecad3684\")>\n",
      "<selenium.webdriver.remote.webelement.WebElement (session=\"ce89566919a28a0ad645fe60670f62d7\", element=\"b44f659b-35c9-47ec-aa68-7c918630a39a\")>\n",
      "<selenium.webdriver.remote.webelement.WebElement (session=\"ce89566919a28a0ad645fe60670f62d7\", element=\"79d6505c-be02-4460-b6f1-2f493c8fac2b\")>\n",
      "<selenium.webdriver.remote.webelement.WebElement (session=\"ce89566919a28a0ad645fe60670f62d7\", element=\"37debc12-4509-4429-a121-ed107771c432\")>\n",
      "<selenium.webdriver.remote.webelement.WebElement (session=\"ce89566919a28a0ad645fe60670f62d7\", element=\"3bf66e01-a84d-4152-b7bc-c8f5f1546d66\")>\n",
      "<selenium.webdriver.remote.webelement.WebElement (session=\"ce89566919a28a0ad645fe60670f62d7\", element=\"230bdbd5-9753-4501-9e0f-7e42ee7090a9\")>\n",
      "<selenium.webdriver.remote.webelement.WebElement (session=\"ce89566919a28a0ad645fe60670f62d7\", element=\"a3d46f5c-8e83-45cb-9162-429552af50f6\")>\n",
      "<selenium.webdriver.remote.webelement.WebElement (session=\"ce89566919a28a0ad645fe60670f62d7\", element=\"45df10fd-da5e-4c46-9913-d71e450304a2\")>\n",
      "<selenium.webdriver.remote.webelement.WebElement (session=\"ce89566919a28a0ad645fe60670f62d7\", element=\"d8ffa454-7760-4e97-933a-94f6f50c26fc\")>\n",
      "<selenium.webdriver.remote.webelement.WebElement (session=\"ce89566919a28a0ad645fe60670f62d7\", element=\"ac7be04f-b382-4b06-a882-2126e2d2ea19\")>\n",
      "<selenium.webdriver.remote.webelement.WebElement (session=\"ce89566919a28a0ad645fe60670f62d7\", element=\"e96cf4aa-6213-4759-97df-5fa9273cecef\")>\n",
      "<selenium.webdriver.remote.webelement.WebElement (session=\"ce89566919a28a0ad645fe60670f62d7\", element=\"6204079f-e032-4477-875b-d5b4c426a842\")>\n",
      "<selenium.webdriver.remote.webelement.WebElement (session=\"ce89566919a28a0ad645fe60670f62d7\", element=\"18f6b9b7-5861-4e3e-88ee-a471838331ed\")>\n"
     ]
    }
   ],
   "source": [
    "for elem in elems:\n",
    "    print(elem)"
   ]
  },
  {
   "cell_type": "code",
   "execution_count": null,
   "id": "f100f77b",
   "metadata": {},
   "outputs": [],
   "source": []
  },
  {
   "cell_type": "code",
   "execution_count": 54,
   "id": "879a5e7d",
   "metadata": {
    "ExecuteTime": {
     "end_time": "2022-05-11T20:58:39.940974Z",
     "start_time": "2022-05-11T20:58:39.735331Z"
    }
   },
   "outputs": [
    {
     "name": "stdout",
     "output_type": "stream",
     "text": [
      "URL Title: \n",
      " IFA Contacts Key International Public Health Agencies on Red Meat Data \n",
      "\n",
      "URL Date: \n",
      " 28 February 2022 \n",
      "\n",
      "URL Text: \n",
      " Following the publication of a letter from scientists questioning data on the health impacts of red meat, IFA President Tim Cullinan has written to the Editor in Chief of The Lancet; the Minister for Agriculture Charlie McConalogue; the EU Commission; the United Nations; and the WHO asking that the questions raised by the scientists be addressed. \n",
      "“These key policy-making agencies, which are responsible for public health guidelines, must address the scientific questions raised about a study which attempted to demonise red meat,” he said. \n",
      "“The data in question, from ‘Global Burden of Disease’ of 2019, has since been cited in 635 documents, 351 scientific papers and nine policy documents. The questions raised by the scientists in The Lancet must be addressed urgently by the original authors and policy makers,” he said.\n",
      "“The scientists have been fighting a long battle to have their concerns published by The Lancet. There must now be a response from the Global Burden of Disease to address the problem. If this is not forthcoming, then policy-making agencies must disregard the study and revisit any policies which were influenced by it,” he said. \n",
      "So far, it appears the original authors, the ‘Global Burden of Disease’ based in the US, have declined to properly address the scientific questions raised by the scientists, which include Prof. Alice Stanton and Prof. Patrick Wall from Ireland.\n"
     ]
    },
    {
     "name": "stderr",
     "output_type": "stream",
     "text": [
      "C:\\Users\\Shaun\\AppData\\Local\\Temp/ipykernel_4576/1199310602.py:4: DeprecationWarning: find_element_by_xpath is deprecated. Please use find_element(by=By.XPATH, value=xpath) instead\n",
      "  page = driver.find_element_by_xpath(\"/html/body\")\n"
     ]
    }
   ],
   "source": [
    "from selenium.webdriver.common.by import By\n",
    "\n",
    "driver.get(links[0])\n",
    "page = driver.find_element_by_xpath(\"/html/body\")\n",
    "print('URL Title: \\n {} \\n'.format(page.find_element(By.CLASS_NAME, 'entry-title').text))\n",
    "print('URL Date: \\n {} \\n'.format(page.find_element(By.CLASS_NAME, 'entry-date').text))\n",
    "print('URL Text: \\n {}'.format(page.find_element(By.CLASS_NAME, 'single-content').text))"
   ]
  },
  {
   "cell_type": "code",
   "execution_count": null,
   "id": "fecbf75f",
   "metadata": {},
   "outputs": [],
   "source": []
  },
  {
   "cell_type": "code",
   "execution_count": null,
   "id": "706b51fd",
   "metadata": {},
   "outputs": [],
   "source": []
  },
  {
   "cell_type": "code",
   "execution_count": null,
   "id": "1fa725ef",
   "metadata": {},
   "outputs": [],
   "source": []
  },
  {
   "cell_type": "code",
   "execution_count": null,
   "id": "779e51d1",
   "metadata": {},
   "outputs": [],
   "source": [
    "IFA = []\n",
    "\n",
    "for url in urlQuery:\n",
    "    driver.get(urlQuery)\n",
    "    elems = driver.find_elements_by_css_selector(\".col-sm-12 [href]\")\n",
    "    links = [elem.get_attribute('href') for elem in elems]"
   ]
  },
  {
   "cell_type": "code",
   "execution_count": null,
   "id": "6ceda9c8",
   "metadata": {},
   "outputs": [],
   "source": [
    "TargetUrl = 'https://www.ifa.ie/page/'\n",
    "keywords = [\"beef\", \"cattle\", \"mutton\", \"sheep\", \"prices\", \"price\", \"poultry\",\n",
    "            \"CAP\", \"common agriculutral policy\", \"pig\", \"pork\", \"meat\"]\n",
    "\n",
    "maxobservations = 50\n",
    "sentimentdata = pd.Dataframe(columns=['Link', 'Date', 'Title', 'Text'])\n",
    "\n",
    "for i in range(maxpages):\n",
    "    SearchUrl = TargetUrl + str(i+1) + '/?s=' + keywords\n",
    "    driver.get(currentUrl)\n",
    "    elems = driver.find_elements_by_css_selector(\".col-sm-12 [href]\")\n",
    "    links = [elem.get_attribute('href') for elem in elems]\n",
    "    for link in links:\n",
    "        driver.get(link)\n",
    "        try\n",
    "        page = driver.find_element_by_xpath(\"/html/body\")\n",
    "    driver.find_elements_by_xpath(\"/html/body\")\n",
    "    sentimentdata = sentimentdata.append({'Link': link,\n",
    "                               'Date': page.find_element(By.CLASS_NAME, 'entry-date').text\n",
    "                               'Title': page.find_element(By.CLASS_NAME, 'entry-title').text\n",
    "                               'Text': page.find_element(By.CLASS_NAME, 'single-content').text},\n",
    "                              ignore_index=True)\n",
    "    except:\n",
    "        print('The crawler was unable to collect information on {}'.format(link))"
   ]
  },
  {
   "cell_type": "code",
   "execution_count": null,
   "id": "df73830b",
   "metadata": {},
   "outputs": [],
   "source": []
  },
  {
   "cell_type": "code",
   "execution_count": null,
   "id": "227bbbe7",
   "metadata": {},
   "outputs": [],
   "source": []
  },
  {
   "cell_type": "code",
   "execution_count": null,
   "id": "352a3cdb",
   "metadata": {},
   "outputs": [],
   "source": []
  },
  {
   "cell_type": "markdown",
   "id": "d22e168f",
   "metadata": {},
   "source": [
    "# The Appendix of nonsense"
   ]
  },
  {
   "cell_type": "markdown",
   "id": "acad2e25",
   "metadata": {},
   "source": [
    "## Old code keep"
   ]
  },
  {
   "cell_type": "code",
   "execution_count": 23,
   "id": "96c80c79",
   "metadata": {
    "ExecuteTime": {
     "end_time": "2022-05-10T20:40:07.231856Z",
     "start_time": "2022-05-10T20:40:07.208293Z"
    }
   },
   "outputs": [
    {
     "name": "stderr",
     "output_type": "stream",
     "text": [
      "C:\\Users\\Shaun\\AppData\\Local\\Temp/ipykernel_2940/2722688744.py:1: DeprecationWarning: find_elements_by_class_name is deprecated. Please use find_elements(by=By.CLASS_NAME, value=name) instead\n",
      "  articles = driver.find_elements_by_class_name(\"modal-open\")\n"
     ]
    },
    {
     "data": {
      "text/plain": [
       "1"
      ]
     },
     "execution_count": 23,
     "metadata": {},
     "output_type": "execute_result"
    }
   ],
   "source": [
    "articles = driver.find_elements_by_class_name(\"modal-open\")\n",
    "len(articles)"
   ]
  },
  {
   "cell_type": "code",
   "execution_count": 24,
   "id": "207f2f43",
   "metadata": {
    "ExecuteTime": {
     "end_time": "2022-05-10T20:40:07.881896Z",
     "start_time": "2022-05-10T20:40:07.777661Z"
    }
   },
   "outputs": [
    {
     "name": "stdout",
     "output_type": "stream",
     "text": [
      "SIGN IN\n",
      "USE PAPER CODE\n",
      "SUBSCRIBE\n",
      "SEARCH\n",
      "BEEF DAIRY SHEEP AGRIBUSINESS MACHINERY TILLAGE PEDIGREE BUILDINGS PROPERTY KNOWLEDGE HUB IRISH COUNTRY LIVING\n",
      "\n",
      "\n",
      "\n",
      "\n",
      "\n",
      "\n",
      "\n",
      "\n",
      "\n",
      "\n",
      "\n",
      "\n",
      "\n",
      "\n",
      "\n",
      "3 free articles left this month.\n",
      "  Subscribe for just €1 to get unlimited access for 30 days.\n",
      "SUBSCRIBE\n",
      "\n",
      "\n",
      "Watch: UCD Ag Soc raffle closing this week\n",
      "This week is the last chance to enter UCD’s Agricultural Society Grand Raffle, raising funds for the Irish Community Air Ambulance and Hooves 4 Hospice charities.\n",
      "Niamh Gunn\n",
      "NEWS > NEWS\n",
      "9 May 2022\n",
      "UCD AG Soc grand raffle 2022. Top prize is a Fordson Dexta. All proceeds go to Hooves4Hospice and Irish Community Air Ambulance.\n",
      "UCD’s Agricultural Science Society (Ag Soc) raffle is coming to an end, with the raffle set to close on Friday 13 May at Balmoral Show. The winners will be announced on Saturday 14 May.\n",
      "This year’s raffle has been supported by a wide variety of companies and organisations across the country, with a number of exceptional prizes up for grabs and over €20,000 worth of prizes to be won.\n",
      "There are a large number of prizes available, with first prize being ‘Dixie’ a fully restored Fordson Dexta vintage tractor, sponsored by FBD Insurance.\n",
      "Also included in the list of prizes is two tonnes of Terra CAN, pedigree Limousin and Fleckvieh heifers, a Grasshopper and much more.\n",
      "There is also a selection of non-agricultural prizes which include a Coppers Gold card, a Tipperary dry-aged Angus meat hamper worth €500 and a spa weekend getaway for two in Mount Wolseley Hotel.\n",
      "Charities\n",
      "The two worthy charities chosen by the society this year are Hooves 4 Hospice and the Irish Community Air Ambulance.\n",
      "Hooves 2 Hospice is a charity that has joined forces with the farming community and supportive organisations to raise a sizeable sum of money towards the costs of building the much-needed Midland Regional Hospice. They aim to recruit a large number of farmers who are willing to rear an animal, and donate the animal or the funds from the animal to the charity.\n",
      "The second charity selected is the Irish Community Air Ambulance, Ireland’s only dedicated, and charity funded air ambulance. The Irish Community Air Ambulance is an asset of the National Ambulance Service and responds to the most serious trauma and medical emergencies in rural Ireland. In their first 12 months of service, nearly 500 missions were carried out, with each mission costing €3,000.\n",
      "The UCD AgSoc has a long history of raising money for charities both on and off campus with their events throughout the year, such as an ag-week, an on campus teashop and much more.\n",
      "You can buy a ticket and donate through here.\n",
      "Angus\n",
      "Charity\n",
      "Events\n",
      "FBD\n",
      "Farmers\n",
      "Pedigree\n",
      "UCD\n",
      "Vintage\n",
      "MOST READ\n",
      "  Titanic sails away with €4,300 in Kilmallock\n",
      "  Dairy supply shortage to continue\n",
      "  Retail demand for beef eases\n",
      "  Big pressure on supply driving beef quotes\n",
      "  Sheep prices update: Lamb numbers rising steadily in mart sales\n",
      "RELATED STORIES\n",
      "Noel Bardon\n",
      "One-to-one farm tragedy support EIP launched by Embrace FARM\n",
      "The project has been funded by the Department under the EIP initiative.\n",
      "The Dealer\n",
      "Ag Soc's big raffle\n",
      "It's that time of year again when UCD Ag Soc run its annual grand raffle. There is over €20,000 worth of prizes up for grabs this year.\n",
      "Declan O'Brien\n",
      "Irish cattle population broken up into seven herd types\n",
      "The study offers benefits for disease control, calculating carbon emissions and undertaking profitability comparisons between the different enterprises.\n",
      "Barry Murphy\n",
      "Bord Bia launches 2023 marketing fellowship\n",
      "Bord Bia is seeking the next intake to its marketing fellowship, which it says will support the future leaders of Ireland’s food and drink sector.\n",
      "\n",
      "\n",
      "\n",
      "search\n",
      "SIGN IN\n",
      "USE PAPER CODE\n",
      "SUBSCRIBE\n",
      "NEWS\n",
      "Latest headlines\n",
      "Editorial\n",
      "Viewpoints\n",
      "Farmer Writes\n",
      "The Dealer\n",
      "Northern Ireland\n",
      "Scotland\n",
      "Live weather\n",
      "LIVESTOCK\n",
      "Beef\n",
      "Dairy\n",
      "Sheep\n",
      "Animal health\n",
      "Pedigree\n",
      "Pigs\n",
      "Poultry\n",
      "MORE\n",
      "Agribusiness\n",
      "Tillage\n",
      "Machinery\n",
      "Property\n",
      "Buildings\n",
      "Forestry\n",
      "Climate\n",
      "Farm safety\n",
      "Sponsored articles\n",
      "KNOWLEDGE HUB\n",
      "Specialist articles\n",
      "Tools & calculators\n",
      "Farm programmes\n",
      "eLearning\n",
      "SHOP\n",
      "Merchandise\n",
      "Magazines\n",
      "MULTIMEDIA\n",
      "Videos\n",
      "Podcasts\n",
      "Photography\n",
      "PARTNERS\n",
      "Traction Marketing\n",
      "Toplink.ie\n",
      "The Irish Field\n",
      "Irish Country Magazine\n",
      "COUNTRY LIVING\n",
      "Features\n",
      "Columns\n",
      "Food\n",
      "Health\n",
      "Gardening\n",
      "Careers\n",
      "The Irish Horse\n",
      "Contact us Advertise with us Company information Career opportunities Privacy statement Terms of service Commenting policy Change cookies settings\n",
      "© Irish Farmers Journal 2022\n"
     ]
    }
   ],
   "source": [
    "print(articles[0].text)"
   ]
  },
  {
   "cell_type": "code",
   "execution_count": 20,
   "id": "d0ea5d39",
   "metadata": {
    "ExecuteTime": {
     "end_time": "2022-05-10T20:08:28.546176Z",
     "start_time": "2022-05-10T20:08:28.407049Z"
    }
   },
   "outputs": [
    {
     "name": "stdout",
     "output_type": "stream",
     "text": [
      "SIGN IN\n",
      "USE PAPER CODE\n",
      "SUBSCRIBE\n",
      "SEARCH\n",
      "BEEF DAIRY SHEEP AGRIBUSINESS MACHINERY TILLAGE PEDIGREE BUILDINGS PROPERTY KNOWLEDGE HUB IRISH COUNTRY LIVING\n",
      "\n",
      "\n",
      "\n",
      "\n",
      "\n",
      "\n",
      "\n",
      "\n",
      "\n",
      "\n",
      "\n",
      "\n",
      "\n",
      "\n",
      "\n",
      "5 free articles left this month.\n",
      "  Subscribe for just €1 to get unlimited access for 30 days.\n",
      "SUBSCRIBE\n",
      "\n",
      "\n",
      "Making the final call on maiden heifers for breeding\n",
      "Replacement heifers should have a minimum target liveweight to meet before the breeding season starts. This improves conception rates and reduces issues at calving time.\n",
      "Kieran Mailey\n",
      "BEEF > MANAGEMENT\n",
      "10 May 2022\n",
      "Replacement heifers should meet a minimum target weight before breeding starts.\n",
      "On suckler farms where cows calve during March and April, breeding usually gets under way towards the end of May.\n",
      "Therefore now is the time to make a final call on maiden heifers that will be mated this year. Breeding weight is crucial to get heifers cycling and holding to service.\n",
      "It is also a major factor in getting heifers fully developed, so they can cope with the demands of pregnancy, calving, producing milk and going back in-calf again next year.\n",
      "The heavier the better\n",
      "Heifers should weigh at least 60% of the average mature cow weight in the herd once breeding starts. But the heavier heifers are, the better.\n",
      "If mature cows are typically 750kg, then heifers should weigh at least 450kg now. Any lighter and the chances of calving difficulty and not going back in-calf increase.\n",
      "So over the next week, maiden heifers should be weighed to get an accurate handle on liveweight. Heifers below the target breeding weight should be removed from the group.\n",
      "However, heifers that exhibit more extreme muscling in the hindquarters should be avoided, regardless if they meet target breeding weights.\n",
      "These animals are also more likely to encounter greater problems at calving time next year, even when bred to easy calving sires.\n",
      "READ MORE\n",
      "Sheep prices update: Lamb numbers rising steadily in mart sales\n",
      "Big pressure on supply driving beef quotes\n",
      "Breeding\n",
      "Calving\n",
      "Cattle weighing\n",
      "Cows\n",
      "Heifers\n",
      "Liveweight\n",
      "Replacement heifers\n",
      "Selecting replacements\n",
      "Weighing cattle\n",
      "RELATED STORIES\n",
      "Advertiser Announcement\n",
      "Improving profitability through excellent reproductive performance\n",
      "Compact calving and six-week calving rate is crucial for profitability on your farm.\n",
      "Aidan Brennan\n",
      "Dairy Management: how to avoid yo-yo farming\n",
      "Farmers must walk the farm every five or six days at this time of year to help make more informed decisions around grass.\n",
      "Kieran Mailey\n",
      "Five options to group suckler cows for breeding\n",
      "The breeding season for many suckler calving herds will be getting under way during May. Outlined are five options to group cows for breeding.\n",
      "Aidan Brennan\n",
      "Protocols for synching cows and heifers\n",
      "Aidan Brennan outlines some of the protocols for synchronising heats in cows and heifers.\n",
      "\n",
      "\n",
      "\n",
      "search\n",
      "SIGN IN\n",
      "USE PAPER CODE\n",
      "SUBSCRIBE\n",
      "NEWS\n",
      "Latest headlines\n",
      "Editorial\n",
      "Viewpoints\n",
      "Farmer Writes\n",
      "The Dealer\n",
      "Northern Ireland\n",
      "Scotland\n",
      "Live weather\n",
      "LIVESTOCK\n",
      "Beef\n",
      "Dairy\n",
      "Sheep\n",
      "Animal health\n",
      "Pedigree\n",
      "Pigs\n",
      "Poultry\n",
      "MORE\n",
      "Agribusiness\n",
      "Tillage\n",
      "Machinery\n",
      "Property\n",
      "Buildings\n",
      "Forestry\n",
      "Climate\n",
      "Farm safety\n",
      "Sponsored articles\n",
      "KNOWLEDGE HUB\n",
      "Specialist articles\n",
      "Tools & calculators\n",
      "Farm programmes\n",
      "eLearning\n",
      "SHOP\n",
      "Merchandise\n",
      "Magazines\n",
      "MULTIMEDIA\n",
      "Videos\n",
      "Podcasts\n",
      "Photography\n",
      "PARTNERS\n",
      "Traction Marketing\n",
      "Toplink.ie\n",
      "The Irish Field\n",
      "Irish Country Magazine\n",
      "COUNTRY LIVING\n",
      "Features\n",
      "Columns\n",
      "Food\n",
      "Health\n",
      "Gardening\n",
      "Careers\n",
      "The Irish Horse\n",
      "Contact us Advertise with us Company information Career opportunities Privacy statement Terms of service Commenting policy Change cookies settings\n",
      "© Irish Farmers Journal 2022\n"
     ]
    }
   ],
   "source": [
    "print(articles[-1].text)"
   ]
  },
  {
   "cell_type": "markdown",
   "id": "183db7f0",
   "metadata": {},
   "source": [
    "## For tomorrow"
   ]
  },
  {
   "cell_type": "markdown",
   "id": "38cfb11e",
   "metadata": {},
   "source": [
    "Urls:\n",
    "\n",
    "https://medium.com/ml-book/web-scraping-using-selenium-python-3be7b8762747\n",
    "    \n",
    "https://selenium-python.readthedocs.io/index.html\n",
    "\n",
    "https://newbedev.com/python-selenium-get-href-value\n",
    "\n",
    "https://www.farmersjournal.ie/making-the-final-call-on-maiden-heifers-for-breeding-696038"
   ]
  },
  {
   "cell_type": "code",
   "execution_count": 21,
   "id": "61867a63",
   "metadata": {
    "ExecuteTime": {
     "end_time": "2022-05-10T20:38:06.270785Z",
     "start_time": "2022-05-10T20:38:06.175732Z"
    }
   },
   "outputs": [
    {
     "name": "stderr",
     "output_type": "stream",
     "text": [
      "C:\\Users\\Shaun\\AppData\\Local\\Temp/ipykernel_2940/3727337053.py:1: DeprecationWarning: find_elements_by_class_name is deprecated. Please use find_elements(by=By.CLASS_NAME, value=name) instead\n",
      "  articles2 = driver.find_elements_by_class_name(\"sid-plesk\")\n"
     ]
    },
    {
     "data": {
      "text/plain": [
       "1"
      ]
     },
     "execution_count": 21,
     "metadata": {},
     "output_type": "execute_result"
    }
   ],
   "source": [
    "articles2 = driver.find_elements_by_class_name(\"sid-plesk\")\n",
    "len(articles2)"
   ]
  },
  {
   "cell_type": "code",
   "execution_count": 22,
   "id": "6dfefaa3",
   "metadata": {
    "ExecuteTime": {
     "end_time": "2022-05-10T20:38:23.865271Z",
     "start_time": "2022-05-10T20:38:23.753607Z"
    }
   },
   "outputs": [
    {
     "name": "stdout",
     "output_type": "stream",
     "text": [
      "SIGN IN\n",
      "USE PAPER CODE\n",
      "SUBSCRIBE\n",
      "SEARCH\n",
      "BEEF DAIRY SHEEP AGRIBUSINESS MACHINERY TILLAGE PEDIGREE BUILDINGS PROPERTY KNOWLEDGE HUB IRISH COUNTRY LIVING\n",
      "\n",
      "\n",
      "\n",
      "\n",
      "\n",
      "\n",
      "\n",
      "\n",
      "\n",
      "\n",
      "\n",
      "\n",
      "\n",
      "\n",
      "\n",
      "3 free articles left this month.\n",
      "  Subscribe for just €1 to get unlimited access for 30 days.\n",
      "SUBSCRIBE\n",
      "\n",
      "\n",
      "Watch: UCD Ag Soc raffle closing this week\n",
      "This week is the last chance to enter UCD’s Agricultural Society Grand Raffle, raising funds for the Irish Community Air Ambulance and Hooves 4 Hospice charities.\n",
      "Niamh Gunn\n",
      "NEWS > NEWS\n",
      "9 May 2022\n",
      "UCD AG Soc grand raffle 2022. Top prize is a Fordson Dexta. All proceeds go to Hooves4Hospice and Irish Community Air Ambulance.\n",
      "UCD’s Agricultural Science Society (Ag Soc) raffle is coming to an end, with the raffle set to close on Friday 13 May at Balmoral Show. The winners will be announced on Saturday 14 May.\n",
      "This year’s raffle has been supported by a wide variety of companies and organisations across the country, with a number of exceptional prizes up for grabs and over €20,000 worth of prizes to be won.\n",
      "There are a large number of prizes available, with first prize being ‘Dixie’ a fully restored Fordson Dexta vintage tractor, sponsored by FBD Insurance.\n",
      "Also included in the list of prizes is two tonnes of Terra CAN, pedigree Limousin and Fleckvieh heifers, a Grasshopper and much more.\n",
      "There is also a selection of non-agricultural prizes which include a Coppers Gold card, a Tipperary dry-aged Angus meat hamper worth €500 and a spa weekend getaway for two in Mount Wolseley Hotel.\n",
      "Charities\n",
      "The two worthy charities chosen by the society this year are Hooves 4 Hospice and the Irish Community Air Ambulance.\n",
      "Hooves 2 Hospice is a charity that has joined forces with the farming community and supportive organisations to raise a sizeable sum of money towards the costs of building the much-needed Midland Regional Hospice. They aim to recruit a large number of farmers who are willing to rear an animal, and donate the animal or the funds from the animal to the charity.\n",
      "The second charity selected is the Irish Community Air Ambulance, Ireland’s only dedicated, and charity funded air ambulance. The Irish Community Air Ambulance is an asset of the National Ambulance Service and responds to the most serious trauma and medical emergencies in rural Ireland. In their first 12 months of service, nearly 500 missions were carried out, with each mission costing €3,000.\n",
      "The UCD AgSoc has a long history of raising money for charities both on and off campus with their events throughout the year, such as an ag-week, an on campus teashop and much more.\n",
      "You can buy a ticket and donate through here.\n",
      "Angus\n",
      "Charity\n",
      "Events\n",
      "FBD\n",
      "Farmers\n",
      "Pedigree\n",
      "UCD\n",
      "Vintage\n",
      "MOST READ\n",
      "  Titanic sails away with €4,300 in Kilmallock\n",
      "  Dairy supply shortage to continue\n",
      "  Retail demand for beef eases\n",
      "  Big pressure on supply driving beef quotes\n",
      "  Sheep prices update: Lamb numbers rising steadily in mart sales\n",
      "RELATED STORIES\n",
      "Noel Bardon\n",
      "One-to-one farm tragedy support EIP launched by Embrace FARM\n",
      "The project has been funded by the Department under the EIP initiative.\n",
      "The Dealer\n",
      "Ag Soc's big raffle\n",
      "It's that time of year again when UCD Ag Soc run its annual grand raffle. There is over €20,000 worth of prizes up for grabs this year.\n",
      "Declan O'Brien\n",
      "Irish cattle population broken up into seven herd types\n",
      "The study offers benefits for disease control, calculating carbon emissions and undertaking profitability comparisons between the different enterprises.\n",
      "Barry Murphy\n",
      "Bord Bia launches 2023 marketing fellowship\n",
      "Bord Bia is seeking the next intake to its marketing fellowship, which it says will support the future leaders of Ireland’s food and drink sector.\n",
      "\n",
      "\n",
      "\n",
      "search\n",
      "SIGN IN\n",
      "USE PAPER CODE\n",
      "SUBSCRIBE\n",
      "NEWS\n",
      "Latest headlines\n",
      "Editorial\n",
      "Viewpoints\n",
      "Farmer Writes\n",
      "The Dealer\n",
      "Northern Ireland\n",
      "Scotland\n",
      "Live weather\n",
      "LIVESTOCK\n",
      "Beef\n",
      "Dairy\n",
      "Sheep\n",
      "Animal health\n",
      "Pedigree\n",
      "Pigs\n",
      "Poultry\n",
      "MORE\n",
      "Agribusiness\n",
      "Tillage\n",
      "Machinery\n",
      "Property\n",
      "Buildings\n",
      "Forestry\n",
      "Climate\n",
      "Farm safety\n",
      "Sponsored articles\n",
      "KNOWLEDGE HUB\n",
      "Specialist articles\n",
      "Tools & calculators\n",
      "Farm programmes\n",
      "eLearning\n",
      "SHOP\n",
      "Merchandise\n",
      "Magazines\n",
      "MULTIMEDIA\n",
      "Videos\n",
      "Podcasts\n",
      "Photography\n",
      "PARTNERS\n",
      "Traction Marketing\n",
      "Toplink.ie\n",
      "The Irish Field\n",
      "Irish Country Magazine\n",
      "COUNTRY LIVING\n",
      "Features\n",
      "Columns\n",
      "Food\n",
      "Health\n",
      "Gardening\n",
      "Careers\n",
      "The Irish Horse\n",
      "Contact us Advertise with us Company information Career opportunities Privacy statement Terms of service Commenting policy Change cookies settings\n",
      "© Irish Farmers Journal 2022\n"
     ]
    }
   ],
   "source": [
    "print(articles2[0].text)"
   ]
  },
  {
   "cell_type": "code",
   "execution_count": null,
   "id": "e0b2a65e",
   "metadata": {},
   "outputs": [],
   "source": []
  }
 ],
 "metadata": {
  "kernelspec": {
   "display_name": "Python 3 (ipykernel)",
   "language": "python",
   "name": "python3"
  },
  "language_info": {
   "codemirror_mode": {
    "name": "ipython",
    "version": 3
   },
   "file_extension": ".py",
   "mimetype": "text/x-python",
   "name": "python",
   "nbconvert_exporter": "python",
   "pygments_lexer": "ipython3",
   "version": "3.9.7"
  },
  "toc": {
   "base_numbering": 1,
   "nav_menu": {},
   "number_sections": true,
   "sideBar": true,
   "skip_h1_title": false,
   "title_cell": "Table of Contents",
   "title_sidebar": "Contents",
   "toc_cell": false,
   "toc_position": {},
   "toc_section_display": true,
   "toc_window_display": false
  }
 },
 "nbformat": 4,
 "nbformat_minor": 5
}
