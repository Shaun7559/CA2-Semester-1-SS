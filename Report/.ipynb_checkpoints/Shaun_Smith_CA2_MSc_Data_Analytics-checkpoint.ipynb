{
 "cells": [
  {
   "cell_type": "markdown",
   "id": "7fc973e5",
   "metadata": {},
   "source": [
    "# Importation of the libraries and datasets"
   ]
  },
  {
   "cell_type": "code",
   "execution_count": 1,
   "id": "e3238a44",
   "metadata": {
    "ExecuteTime": {
     "end_time": "2022-05-04T14:23:24.786439Z",
     "start_time": "2022-05-04T14:23:23.833124Z"
    }
   },
   "outputs": [],
   "source": [
    "# Libraries\n",
    "import pandas as pd\n",
    "import seaborn as sns\n",
    "import numpy as np\n",
    "import matplotlib.pyplot as plt\n",
    "%matplotlib inline \n",
    "sns.set(color_codes=True)"
   ]
  },
  {
   "cell_type": "code",
   "execution_count": 2,
   "id": "d34784ee",
   "metadata": {
    "ExecuteTime": {
     "end_time": "2022-05-04T14:23:24.834357Z",
     "start_time": "2022-05-04T14:23:24.786439Z"
    }
   },
   "outputs": [],
   "source": [
    "# FAO Dataframes\n",
    "\n",
    "# FAO animal slaughter data\n",
    "slaughter = pd.read_csv(\"C:/Users/shaun/OneDrive/MSc Data Analytics/CA2 Semester 1/Data/FAOSTAT_slaughtered.csv\", \n",
    "                        low_memory=False)\n",
    "\n",
    "# FAO meat production data\n",
    "meat = pd.read_csv(\"C:/Users/shaun/OneDrive/MSc Data Analytics/CA2 Semester 1/Data/FAOSTAT_production_quantity.csv\", \n",
    "                   low_memory=False)\n",
    "\n",
    "# FAO livestock Stocking data\n",
    "stock = pd.read_csv(\"C:/Users/shaun/OneDrive/MSc Data Analytics/CA2 Semester 1/Data/FAOSTAT_stocks.csv\", \n",
    "                    low_memory=False)\n",
    "\n",
    "# FAO live stock import / export data\n",
    "imp_exp = pd.read_csv(\"C:/Users/shaun/OneDrive/MSc Data Analytics/CA2 Semester 1/Data/FAOSTAT_import_export.csv\", \n",
    "                      low_memory=False)"
   ]
  },
  {
   "cell_type": "code",
   "execution_count": 3,
   "id": "065338ae",
   "metadata": {
    "ExecuteTime": {
     "end_time": "2022-05-04T14:23:24.850357Z",
     "start_time": "2022-05-04T14:23:24.835348Z"
    }
   },
   "outputs": [],
   "source": [
    "# Functions\n",
    "\n",
    "def calc_percent_missing(no_observations, maxobservations):\n",
    "    '''This takes the number of missing and maximum observations as inputs. It\n",
    "    then calculates the no of missing observations as a percentage of the total observations'''\n",
    "    percent_miss = round((no_observations / maxobservations) * (100 / 1), 2)\n",
    "    print(f\"The percentage of missing values is:\\n{percent_miss}\")\n",
    "    \n"
   ]
  },
  {
   "cell_type": "markdown",
   "id": "67ff677b",
   "metadata": {},
   "source": [
    "# Exploratory data analysis"
   ]
  },
  {
   "cell_type": "markdown",
   "id": "1a86019c",
   "metadata": {},
   "source": [
    "## Animal slaughter data"
   ]
  },
  {
   "cell_type": "markdown",
   "id": "1ace69e1",
   "metadata": {},
   "source": [
    "Here we view the head and shape of the data"
   ]
  },
  {
   "cell_type": "code",
   "execution_count": 4,
   "id": "cd81f4d7",
   "metadata": {
    "ExecuteTime": {
     "end_time": "2022-05-04T14:23:24.866348Z",
     "start_time": "2022-05-04T14:23:24.851349Z"
    }
   },
   "outputs": [
    {
     "data": {
      "text/html": [
       "<div>\n",
       "<style scoped>\n",
       "    .dataframe tbody tr th:only-of-type {\n",
       "        vertical-align: middle;\n",
       "    }\n",
       "\n",
       "    .dataframe tbody tr th {\n",
       "        vertical-align: top;\n",
       "    }\n",
       "\n",
       "    .dataframe thead th {\n",
       "        text-align: right;\n",
       "    }\n",
       "</style>\n",
       "<table border=\"1\" class=\"dataframe\">\n",
       "  <thead>\n",
       "    <tr style=\"text-align: right;\">\n",
       "      <th></th>\n",
       "      <th>Domain Code</th>\n",
       "      <th>Domain</th>\n",
       "      <th>Area Code (FAO)</th>\n",
       "      <th>Area</th>\n",
       "      <th>Element Code</th>\n",
       "      <th>Element</th>\n",
       "      <th>Item Code (FAO)</th>\n",
       "      <th>Item</th>\n",
       "      <th>Year Code</th>\n",
       "      <th>Year</th>\n",
       "      <th>Unit</th>\n",
       "      <th>Value</th>\n",
       "      <th>Flag</th>\n",
       "      <th>Flag Description</th>\n",
       "    </tr>\n",
       "  </thead>\n",
       "  <tbody>\n",
       "    <tr>\n",
       "      <th>0</th>\n",
       "      <td>QCL</td>\n",
       "      <td>Crops and livestock products</td>\n",
       "      <td>255</td>\n",
       "      <td>Belgium</td>\n",
       "      <td>5320</td>\n",
       "      <td>Producing Animals/Slaughtered</td>\n",
       "      <td>867</td>\n",
       "      <td>Meat, cattle</td>\n",
       "      <td>2000</td>\n",
       "      <td>2000</td>\n",
       "      <td>Head</td>\n",
       "      <td>832926.0</td>\n",
       "      <td>NaN</td>\n",
       "      <td>Official data</td>\n",
       "    </tr>\n",
       "    <tr>\n",
       "      <th>1</th>\n",
       "      <td>QCL</td>\n",
       "      <td>Crops and livestock products</td>\n",
       "      <td>255</td>\n",
       "      <td>Belgium</td>\n",
       "      <td>5320</td>\n",
       "      <td>Producing Animals/Slaughtered</td>\n",
       "      <td>867</td>\n",
       "      <td>Meat, cattle</td>\n",
       "      <td>2001</td>\n",
       "      <td>2001</td>\n",
       "      <td>Head</td>\n",
       "      <td>873268.0</td>\n",
       "      <td>NaN</td>\n",
       "      <td>Official data</td>\n",
       "    </tr>\n",
       "    <tr>\n",
       "      <th>2</th>\n",
       "      <td>QCL</td>\n",
       "      <td>Crops and livestock products</td>\n",
       "      <td>255</td>\n",
       "      <td>Belgium</td>\n",
       "      <td>5320</td>\n",
       "      <td>Producing Animals/Slaughtered</td>\n",
       "      <td>867</td>\n",
       "      <td>Meat, cattle</td>\n",
       "      <td>2002</td>\n",
       "      <td>2002</td>\n",
       "      <td>Head</td>\n",
       "      <td>932473.0</td>\n",
       "      <td>NaN</td>\n",
       "      <td>Official data</td>\n",
       "    </tr>\n",
       "    <tr>\n",
       "      <th>3</th>\n",
       "      <td>QCL</td>\n",
       "      <td>Crops and livestock products</td>\n",
       "      <td>255</td>\n",
       "      <td>Belgium</td>\n",
       "      <td>5320</td>\n",
       "      <td>Producing Animals/Slaughtered</td>\n",
       "      <td>867</td>\n",
       "      <td>Meat, cattle</td>\n",
       "      <td>2003</td>\n",
       "      <td>2003</td>\n",
       "      <td>Head</td>\n",
       "      <td>853641.0</td>\n",
       "      <td>NaN</td>\n",
       "      <td>Official data</td>\n",
       "    </tr>\n",
       "    <tr>\n",
       "      <th>4</th>\n",
       "      <td>QCL</td>\n",
       "      <td>Crops and livestock products</td>\n",
       "      <td>255</td>\n",
       "      <td>Belgium</td>\n",
       "      <td>5320</td>\n",
       "      <td>Producing Animals/Slaughtered</td>\n",
       "      <td>867</td>\n",
       "      <td>Meat, cattle</td>\n",
       "      <td>2004</td>\n",
       "      <td>2004</td>\n",
       "      <td>Head</td>\n",
       "      <td>842585.0</td>\n",
       "      <td>NaN</td>\n",
       "      <td>Official data</td>\n",
       "    </tr>\n",
       "  </tbody>\n",
       "</table>\n",
       "</div>"
      ],
      "text/plain": [
       "  Domain Code                        Domain  Area Code (FAO)     Area  \\\n",
       "0         QCL  Crops and livestock products              255  Belgium   \n",
       "1         QCL  Crops and livestock products              255  Belgium   \n",
       "2         QCL  Crops and livestock products              255  Belgium   \n",
       "3         QCL  Crops and livestock products              255  Belgium   \n",
       "4         QCL  Crops and livestock products              255  Belgium   \n",
       "\n",
       "   Element Code                        Element  Item Code (FAO)          Item  \\\n",
       "0          5320  Producing Animals/Slaughtered              867  Meat, cattle   \n",
       "1          5320  Producing Animals/Slaughtered              867  Meat, cattle   \n",
       "2          5320  Producing Animals/Slaughtered              867  Meat, cattle   \n",
       "3          5320  Producing Animals/Slaughtered              867  Meat, cattle   \n",
       "4          5320  Producing Animals/Slaughtered              867  Meat, cattle   \n",
       "\n",
       "   Year Code  Year  Unit     Value Flag Flag Description  \n",
       "0       2000  2000  Head  832926.0  NaN    Official data  \n",
       "1       2001  2001  Head  873268.0  NaN    Official data  \n",
       "2       2002  2002  Head  932473.0  NaN    Official data  \n",
       "3       2003  2003  Head  853641.0  NaN    Official data  \n",
       "4       2004  2004  Head  842585.0  NaN    Official data  "
      ]
     },
     "execution_count": 4,
     "metadata": {},
     "output_type": "execute_result"
    }
   ],
   "source": [
    "slaughter.head()"
   ]
  },
  {
   "cell_type": "code",
   "execution_count": 5,
   "id": "17706432",
   "metadata": {
    "ExecuteTime": {
     "end_time": "2022-05-04T14:23:24.881348Z",
     "start_time": "2022-05-04T14:23:24.867349Z"
    }
   },
   "outputs": [
    {
     "data": {
      "text/plain": [
       "(3746, 14)"
      ]
     },
     "execution_count": 5,
     "metadata": {},
     "output_type": "execute_result"
    }
   ],
   "source": [
    "slaughter.shape"
   ]
  },
  {
   "cell_type": "code",
   "execution_count": 6,
   "id": "ac7bcb44",
   "metadata": {
    "ExecuteTime": {
     "end_time": "2022-05-04T14:23:24.897358Z",
     "start_time": "2022-05-04T14:23:24.882352Z"
    }
   },
   "outputs": [
    {
     "name": "stdout",
     "output_type": "stream",
     "text": [
      "<class 'pandas.core.frame.DataFrame'>\n",
      "RangeIndex: 3746 entries, 0 to 3745\n",
      "Data columns (total 14 columns):\n",
      " #   Column            Non-Null Count  Dtype  \n",
      "---  ------            --------------  -----  \n",
      " 0   Domain Code       3746 non-null   object \n",
      " 1   Domain            3746 non-null   object \n",
      " 2   Area Code (FAO)   3746 non-null   int64  \n",
      " 3   Area              3746 non-null   object \n",
      " 4   Element Code      3746 non-null   int64  \n",
      " 5   Element           3746 non-null   object \n",
      " 6   Item Code (FAO)   3746 non-null   int64  \n",
      " 7   Item              3746 non-null   object \n",
      " 8   Year Code         3746 non-null   int64  \n",
      " 9   Year              3746 non-null   int64  \n",
      " 10  Unit              3746 non-null   object \n",
      " 11  Value             3654 non-null   float64\n",
      " 12  Flag              1401 non-null   object \n",
      " 13  Flag Description  3746 non-null   object \n",
      "dtypes: float64(1), int64(5), object(8)\n",
      "memory usage: 409.8+ KB\n"
     ]
    }
   ],
   "source": [
    "slaughter.info()"
   ]
  },
  {
   "cell_type": "code",
   "execution_count": 7,
   "id": "ad225fab",
   "metadata": {
    "ExecuteTime": {
     "end_time": "2022-05-04T14:23:24.928358Z",
     "start_time": "2022-05-04T14:23:24.898359Z"
    }
   },
   "outputs": [
    {
     "data": {
      "text/html": [
       "<div>\n",
       "<style scoped>\n",
       "    .dataframe tbody tr th:only-of-type {\n",
       "        vertical-align: middle;\n",
       "    }\n",
       "\n",
       "    .dataframe tbody tr th {\n",
       "        vertical-align: top;\n",
       "    }\n",
       "\n",
       "    .dataframe thead th {\n",
       "        text-align: right;\n",
       "    }\n",
       "</style>\n",
       "<table border=\"1\" class=\"dataframe\">\n",
       "  <thead>\n",
       "    <tr style=\"text-align: right;\">\n",
       "      <th></th>\n",
       "      <th>Area Code (FAO)</th>\n",
       "      <th>Element Code</th>\n",
       "      <th>Item Code (FAO)</th>\n",
       "      <th>Year Code</th>\n",
       "      <th>Year</th>\n",
       "      <th>Value</th>\n",
       "    </tr>\n",
       "  </thead>\n",
       "  <tbody>\n",
       "    <tr>\n",
       "      <th>count</th>\n",
       "      <td>3746.000000</td>\n",
       "      <td>3746.000000</td>\n",
       "      <td>3746.000000</td>\n",
       "      <td>3746.000000</td>\n",
       "      <td>3746.000000</td>\n",
       "      <td>3.654000e+03</td>\n",
       "    </tr>\n",
       "    <tr>\n",
       "      <th>mean</th>\n",
       "      <td>153.586759</td>\n",
       "      <td>5320.452483</td>\n",
       "      <td>1036.179391</td>\n",
       "      <td>1997.905499</td>\n",
       "      <td>1997.905499</td>\n",
       "      <td>1.232273e+07</td>\n",
       "    </tr>\n",
       "    <tr>\n",
       "      <th>std</th>\n",
       "      <td>98.639385</td>\n",
       "      <td>0.497803</td>\n",
       "      <td>73.686268</td>\n",
       "      <td>13.784635</td>\n",
       "      <td>13.784635</td>\n",
       "      <td>5.686957e+07</td>\n",
       "    </tr>\n",
       "    <tr>\n",
       "      <th>min</th>\n",
       "      <td>54.000000</td>\n",
       "      <td>5320.000000</td>\n",
       "      <td>867.000000</td>\n",
       "      <td>1973.000000</td>\n",
       "      <td>1973.000000</td>\n",
       "      <td>0.000000e+00</td>\n",
       "    </tr>\n",
       "    <tr>\n",
       "      <th>25%</th>\n",
       "      <td>79.000000</td>\n",
       "      <td>5320.000000</td>\n",
       "      <td>1017.000000</td>\n",
       "      <td>1986.000000</td>\n",
       "      <td>1986.000000</td>\n",
       "      <td>1.230950e+04</td>\n",
       "    </tr>\n",
       "    <tr>\n",
       "      <th>50%</th>\n",
       "      <td>106.000000</td>\n",
       "      <td>5320.000000</td>\n",
       "      <td>1058.000000</td>\n",
       "      <td>1999.000000</td>\n",
       "      <td>1999.000000</td>\n",
       "      <td>2.321095e+05</td>\n",
       "    </tr>\n",
       "    <tr>\n",
       "      <th>75%</th>\n",
       "      <td>231.000000</td>\n",
       "      <td>5321.000000</td>\n",
       "      <td>1080.000000</td>\n",
       "      <td>2010.000000</td>\n",
       "      <td>2010.000000</td>\n",
       "      <td>2.915900e+06</td>\n",
       "    </tr>\n",
       "    <tr>\n",
       "      <th>max</th>\n",
       "      <td>351.000000</td>\n",
       "      <td>5321.000000</td>\n",
       "      <td>1163.000000</td>\n",
       "      <td>2020.000000</td>\n",
       "      <td>2020.000000</td>\n",
       "      <td>7.449179e+08</td>\n",
       "    </tr>\n",
       "  </tbody>\n",
       "</table>\n",
       "</div>"
      ],
      "text/plain": [
       "       Area Code (FAO)  Element Code  Item Code (FAO)    Year Code  \\\n",
       "count      3746.000000   3746.000000      3746.000000  3746.000000   \n",
       "mean        153.586759   5320.452483      1036.179391  1997.905499   \n",
       "std          98.639385      0.497803        73.686268    13.784635   \n",
       "min          54.000000   5320.000000       867.000000  1973.000000   \n",
       "25%          79.000000   5320.000000      1017.000000  1986.000000   \n",
       "50%         106.000000   5320.000000      1058.000000  1999.000000   \n",
       "75%         231.000000   5321.000000      1080.000000  2010.000000   \n",
       "max         351.000000   5321.000000      1163.000000  2020.000000   \n",
       "\n",
       "              Year         Value  \n",
       "count  3746.000000  3.654000e+03  \n",
       "mean   1997.905499  1.232273e+07  \n",
       "std      13.784635  5.686957e+07  \n",
       "min    1973.000000  0.000000e+00  \n",
       "25%    1986.000000  1.230950e+04  \n",
       "50%    1999.000000  2.321095e+05  \n",
       "75%    2010.000000  2.915900e+06  \n",
       "max    2020.000000  7.449179e+08  "
      ]
     },
     "execution_count": 7,
     "metadata": {},
     "output_type": "execute_result"
    }
   ],
   "source": [
    "slaughter.describe()"
   ]
  },
  {
   "cell_type": "markdown",
   "id": "8c256f35",
   "metadata": {},
   "source": [
    "The data is in its current layout is not suitable for statistical analysis as each country is a row.\n",
    "I need to melt the data so that the values for each country are in a column item type."
   ]
  },
  {
   "cell_type": "code",
   "execution_count": 8,
   "id": "db170ff6",
   "metadata": {
    "ExecuteTime": {
     "end_time": "2022-05-04T14:23:24.943357Z",
     "start_time": "2022-05-04T14:23:24.929365Z"
    }
   },
   "outputs": [
    {
     "data": {
      "text/plain": [
       "array(['Meat, cattle', 'Meat, chicken', 'Meat, duck', 'Meat, goat',\n",
       "       'Meat, horse', 'Meat, pig', 'Meat, sheep', 'Meat, turkey',\n",
       "       'Meat, goose and guinea fowl', 'Meat, rabbit', 'Meat, game'],\n",
       "      dtype=object)"
      ]
     },
     "execution_count": 8,
     "metadata": {},
     "output_type": "execute_result"
    }
   ],
   "source": [
    "slaughter.Item.unique()"
   ]
  },
  {
   "cell_type": "markdown",
   "id": "318597b0",
   "metadata": {},
   "source": [
    "There are 11 animal categories in the slaughter data. I can remove the repetition from these item categories when I clean the data"
   ]
  },
  {
   "cell_type": "code",
   "execution_count": 9,
   "id": "b106c5d1",
   "metadata": {
    "ExecuteTime": {
     "end_time": "2022-05-04T14:23:24.958357Z",
     "start_time": "2022-05-04T14:23:24.944349Z"
    }
   },
   "outputs": [
    {
     "data": {
      "text/plain": [
       "array(['Belgium', 'China', 'Denmark', 'France', 'Germany', 'Ireland',\n",
       "       'Italy', 'Luxembourg', 'Netherlands', 'United States of America'],\n",
       "      dtype=object)"
      ]
     },
     "execution_count": 9,
     "metadata": {},
     "output_type": "execute_result"
    }
   ],
   "source": [
    "slaughter.Area.unique()"
   ]
  },
  {
   "cell_type": "markdown",
   "id": "50c8a2c7",
   "metadata": {},
   "source": [
    "The dataset contains 8 EU countries Belgium, Denmark, France, Germany, Luxembourg, Ireland, Italy and the Netherlands. All of these countries have been member states since at least Jan 1st 1973.\n",
    "\n",
    "Belgium, France, Germany, Luxembourg, Italy and the Netherlands founded the EU in 1957 with Ireland and Denmark Joining on the 1st January 1973.\n",
    "\n",
    "Therefore, to ensure data comparability between these countries and the US and China, I limited the datasets time frame from 1st January 1973 to 31st December 2020 (most recent data available). This ensures that all European countries were member states of the EU at the time of analysis. \n",
    "\n",
    "We can confirm this as follows"
   ]
  },
  {
   "cell_type": "code",
   "execution_count": 10,
   "id": "1fc2716b",
   "metadata": {
    "ExecuteTime": {
     "end_time": "2022-05-04T14:23:24.973358Z",
     "start_time": "2022-05-04T14:23:24.960359Z"
    }
   },
   "outputs": [
    {
     "data": {
      "text/plain": [
       "array([2000, 2001, 2002, 2003, 2004, 2005, 2006, 2007, 2008, 2009, 2010,\n",
       "       2011, 2012, 2013, 2014, 2015, 2016, 2017, 2018, 2019, 2020, 1973,\n",
       "       1974, 1975, 1976, 1977, 1978, 1979, 1980, 1981, 1982, 1983, 1984,\n",
       "       1985, 1986, 1987, 1988, 1989, 1990, 1991, 1992, 1993, 1994, 1995,\n",
       "       1996, 1997, 1998, 1999], dtype=int64)"
      ]
     },
     "execution_count": 10,
     "metadata": {},
     "output_type": "execute_result"
    }
   ],
   "source": [
    "slaughter.Year.unique()"
   ]
  },
  {
   "cell_type": "code",
   "execution_count": 11,
   "id": "c48090e9",
   "metadata": {
    "ExecuteTime": {
     "end_time": "2022-05-04T14:23:24.988357Z",
     "start_time": "2022-05-04T14:23:24.975349Z"
    }
   },
   "outputs": [
    {
     "name": "stdout",
     "output_type": "stream",
     "text": [
      "The earliest year in the dataset is 1973 and the maximum year is 2020\n"
     ]
    }
   ],
   "source": [
    "print(f\"The earliest year in the dataset is {slaughter.Year.min()} and the maximum year is {slaughter.Year.max()}\")"
   ]
  },
  {
   "cell_type": "markdown",
   "id": "ff0a0e76",
   "metadata": {},
   "source": [
    "Next we can observe what units the slaughter data has been recorded in"
   ]
  },
  {
   "cell_type": "code",
   "execution_count": 12,
   "id": "839312a8",
   "metadata": {
    "ExecuteTime": {
     "end_time": "2022-05-04T14:23:25.004357Z",
     "start_time": "2022-05-04T14:23:24.989349Z"
    }
   },
   "outputs": [
    {
     "data": {
      "text/plain": [
       "array(['Head', '1000 Head'], dtype=object)"
      ]
     },
     "execution_count": 12,
     "metadata": {},
     "output_type": "execute_result"
    }
   ],
   "source": [
    "slaughter.Unit.unique()"
   ]
  },
  {
   "cell_type": "markdown",
   "id": "9ffe1dd4",
   "metadata": {},
   "source": [
    "Slaughter units have been reported as per \"head\" and per \"thousand heads\" of animal."
   ]
  },
  {
   "cell_type": "code",
   "execution_count": 13,
   "id": "358de8f8",
   "metadata": {
    "ExecuteTime": {
     "end_time": "2022-05-04T14:23:25.020349Z",
     "start_time": "2022-05-04T14:23:25.005358Z"
    }
   },
   "outputs": [
    {
     "data": {
      "text/plain": [
       "array(['Producing Animals/Slaughtered'], dtype=object)"
      ]
     },
     "execution_count": 13,
     "metadata": {},
     "output_type": "execute_result"
    }
   ],
   "source": [
    "slaughter.Element.unique()"
   ]
  },
  {
   "cell_type": "markdown",
   "id": "3f054b7a",
   "metadata": {},
   "source": [
    "All livestock in this dataset is at slaughter."
   ]
  },
  {
   "cell_type": "markdown",
   "id": "6f1761bf",
   "metadata": {},
   "source": [
    "Checking for null values"
   ]
  },
  {
   "cell_type": "code",
   "execution_count": 14,
   "id": "3915b2cb",
   "metadata": {
    "ExecuteTime": {
     "end_time": "2022-05-04T14:23:25.036357Z",
     "start_time": "2022-05-04T14:23:25.022349Z"
    },
    "scrolled": true
   },
   "outputs": [
    {
     "data": {
      "text/plain": [
       "Domain Code            0\n",
       "Domain                 0\n",
       "Area Code (FAO)        0\n",
       "Area                   0\n",
       "Element Code           0\n",
       "Element                0\n",
       "Item Code (FAO)        0\n",
       "Item                   0\n",
       "Year Code              0\n",
       "Year                   0\n",
       "Unit                   0\n",
       "Value                 92\n",
       "Flag                2345\n",
       "Flag Description       0\n",
       "dtype: int64"
      ]
     },
     "execution_count": 14,
     "metadata": {},
     "output_type": "execute_result"
    }
   ],
   "source": [
    "slaughter.isnull().sum()"
   ]
  },
  {
   "cell_type": "code",
   "execution_count": 15,
   "id": "1d81ae69",
   "metadata": {
    "ExecuteTime": {
     "end_time": "2022-05-04T14:23:25.052357Z",
     "start_time": "2022-05-04T14:23:25.037349Z"
    }
   },
   "outputs": [
    {
     "name": "stdout",
     "output_type": "stream",
     "text": [
      "The percentage of missing values is:\n",
      "Domain Code          0.00\n",
      "Domain               0.00\n",
      "Area Code (FAO)      0.00\n",
      "Area                 0.00\n",
      "Element Code         0.00\n",
      "Element              0.00\n",
      "Item Code (FAO)      0.00\n",
      "Item                 0.00\n",
      "Year Code            0.00\n",
      "Year                 0.00\n",
      "Unit                 0.00\n",
      "Value                2.46\n",
      "Flag                62.60\n",
      "Flag Description     0.00\n",
      "dtype: float64\n"
     ]
    }
   ],
   "source": [
    "calc_percent_missing(slaughter.isnull().sum(), len(slaughter))"
   ]
  },
  {
   "cell_type": "markdown",
   "id": "c04bfc94",
   "metadata": {
    "ExecuteTime": {
     "end_time": "2022-05-04T12:32:35.976056Z",
     "start_time": "2022-05-04T12:32:35.961016Z"
    }
   },
   "source": [
    "There are missing values in the \"Value\" and \"Flag\" columns.  The flag column is not important to our data analysis\n",
    "so I can remove this during data preparation. However, the value column requires further investigation. We can test if these values are missing at random or not at random by filtering the values that are NaN or 0"
   ]
  },
  {
   "cell_type": "code",
   "execution_count": 16,
   "id": "14b55866",
   "metadata": {
    "ExecuteTime": {
     "end_time": "2022-05-04T14:23:25.068357Z",
     "start_time": "2022-05-04T14:23:25.053349Z"
    }
   },
   "outputs": [],
   "source": [
    "# Creating a data frame of missing slaughtervalues\n",
    "slaughter_miss = slaughter.loc[(slaughter['Value'] == slaughter.Value.isnull())]"
   ]
  },
  {
   "cell_type": "code",
   "execution_count": 17,
   "id": "5ad72d1c",
   "metadata": {
    "ExecuteTime": {
     "end_time": "2022-05-04T14:23:25.084361Z",
     "start_time": "2022-05-04T14:23:25.069349Z"
    }
   },
   "outputs": [
    {
     "data": {
      "text/html": [
       "<div>\n",
       "<style scoped>\n",
       "    .dataframe tbody tr th:only-of-type {\n",
       "        vertical-align: middle;\n",
       "    }\n",
       "\n",
       "    .dataframe tbody tr th {\n",
       "        vertical-align: top;\n",
       "    }\n",
       "\n",
       "    .dataframe thead th {\n",
       "        text-align: right;\n",
       "    }\n",
       "</style>\n",
       "<table border=\"1\" class=\"dataframe\">\n",
       "  <thead>\n",
       "    <tr style=\"text-align: right;\">\n",
       "      <th></th>\n",
       "      <th>Domain Code</th>\n",
       "      <th>Domain</th>\n",
       "      <th>Area Code (FAO)</th>\n",
       "      <th>Area</th>\n",
       "      <th>Element Code</th>\n",
       "      <th>Element</th>\n",
       "      <th>Item Code (FAO)</th>\n",
       "      <th>Item</th>\n",
       "      <th>Year Code</th>\n",
       "      <th>Year</th>\n",
       "      <th>Unit</th>\n",
       "      <th>Value</th>\n",
       "      <th>Flag</th>\n",
       "      <th>Flag Description</th>\n",
       "    </tr>\n",
       "  </thead>\n",
       "  <tbody>\n",
       "    <tr>\n",
       "      <th>789</th>\n",
       "      <td>QCL</td>\n",
       "      <td>Crops and livestock products</td>\n",
       "      <td>54</td>\n",
       "      <td>Denmark</td>\n",
       "      <td>5320</td>\n",
       "      <td>Producing Animals/Slaughtered</td>\n",
       "      <td>1017</td>\n",
       "      <td>Meat, goat</td>\n",
       "      <td>2018</td>\n",
       "      <td>2018</td>\n",
       "      <td>Head</td>\n",
       "      <td>0.0</td>\n",
       "      <td>NaN</td>\n",
       "      <td>Official data</td>\n",
       "    </tr>\n",
       "    <tr>\n",
       "      <th>790</th>\n",
       "      <td>QCL</td>\n",
       "      <td>Crops and livestock products</td>\n",
       "      <td>54</td>\n",
       "      <td>Denmark</td>\n",
       "      <td>5320</td>\n",
       "      <td>Producing Animals/Slaughtered</td>\n",
       "      <td>1017</td>\n",
       "      <td>Meat, goat</td>\n",
       "      <td>2019</td>\n",
       "      <td>2019</td>\n",
       "      <td>Head</td>\n",
       "      <td>0.0</td>\n",
       "      <td>NaN</td>\n",
       "      <td>Official data</td>\n",
       "    </tr>\n",
       "    <tr>\n",
       "      <th>791</th>\n",
       "      <td>QCL</td>\n",
       "      <td>Crops and livestock products</td>\n",
       "      <td>54</td>\n",
       "      <td>Denmark</td>\n",
       "      <td>5320</td>\n",
       "      <td>Producing Animals/Slaughtered</td>\n",
       "      <td>1017</td>\n",
       "      <td>Meat, goat</td>\n",
       "      <td>2020</td>\n",
       "      <td>2020</td>\n",
       "      <td>Head</td>\n",
       "      <td>0.0</td>\n",
       "      <td>NaN</td>\n",
       "      <td>Official data</td>\n",
       "    </tr>\n",
       "    <tr>\n",
       "      <th>2148</th>\n",
       "      <td>QCL</td>\n",
       "      <td>Crops and livestock products</td>\n",
       "      <td>104</td>\n",
       "      <td>Ireland</td>\n",
       "      <td>5320</td>\n",
       "      <td>Producing Animals/Slaughtered</td>\n",
       "      <td>1017</td>\n",
       "      <td>Meat, goat</td>\n",
       "      <td>2018</td>\n",
       "      <td>2018</td>\n",
       "      <td>Head</td>\n",
       "      <td>0.0</td>\n",
       "      <td>NaN</td>\n",
       "      <td>Official data</td>\n",
       "    </tr>\n",
       "    <tr>\n",
       "      <th>2149</th>\n",
       "      <td>QCL</td>\n",
       "      <td>Crops and livestock products</td>\n",
       "      <td>104</td>\n",
       "      <td>Ireland</td>\n",
       "      <td>5320</td>\n",
       "      <td>Producing Animals/Slaughtered</td>\n",
       "      <td>1017</td>\n",
       "      <td>Meat, goat</td>\n",
       "      <td>2019</td>\n",
       "      <td>2019</td>\n",
       "      <td>Head</td>\n",
       "      <td>0.0</td>\n",
       "      <td>NaN</td>\n",
       "      <td>Official data</td>\n",
       "    </tr>\n",
       "    <tr>\n",
       "      <th>2150</th>\n",
       "      <td>QCL</td>\n",
       "      <td>Crops and livestock products</td>\n",
       "      <td>104</td>\n",
       "      <td>Ireland</td>\n",
       "      <td>5320</td>\n",
       "      <td>Producing Animals/Slaughtered</td>\n",
       "      <td>1017</td>\n",
       "      <td>Meat, goat</td>\n",
       "      <td>2020</td>\n",
       "      <td>2020</td>\n",
       "      <td>Head</td>\n",
       "      <td>0.0</td>\n",
       "      <td>NaN</td>\n",
       "      <td>Official data</td>\n",
       "    </tr>\n",
       "    <tr>\n",
       "      <th>2844</th>\n",
       "      <td>QCL</td>\n",
       "      <td>Crops and livestock products</td>\n",
       "      <td>256</td>\n",
       "      <td>Luxembourg</td>\n",
       "      <td>5321</td>\n",
       "      <td>Producing Animals/Slaughtered</td>\n",
       "      <td>1058</td>\n",
       "      <td>Meat, chicken</td>\n",
       "      <td>2018</td>\n",
       "      <td>2018</td>\n",
       "      <td>1000 Head</td>\n",
       "      <td>0.0</td>\n",
       "      <td>NaN</td>\n",
       "      <td>Official data</td>\n",
       "    </tr>\n",
       "    <tr>\n",
       "      <th>2845</th>\n",
       "      <td>QCL</td>\n",
       "      <td>Crops and livestock products</td>\n",
       "      <td>256</td>\n",
       "      <td>Luxembourg</td>\n",
       "      <td>5321</td>\n",
       "      <td>Producing Animals/Slaughtered</td>\n",
       "      <td>1058</td>\n",
       "      <td>Meat, chicken</td>\n",
       "      <td>2019</td>\n",
       "      <td>2019</td>\n",
       "      <td>1000 Head</td>\n",
       "      <td>0.0</td>\n",
       "      <td>NaN</td>\n",
       "      <td>Official data</td>\n",
       "    </tr>\n",
       "    <tr>\n",
       "      <th>2846</th>\n",
       "      <td>QCL</td>\n",
       "      <td>Crops and livestock products</td>\n",
       "      <td>256</td>\n",
       "      <td>Luxembourg</td>\n",
       "      <td>5321</td>\n",
       "      <td>Producing Animals/Slaughtered</td>\n",
       "      <td>1058</td>\n",
       "      <td>Meat, chicken</td>\n",
       "      <td>2020</td>\n",
       "      <td>2020</td>\n",
       "      <td>1000 Head</td>\n",
       "      <td>0.0</td>\n",
       "      <td>NaN</td>\n",
       "      <td>Official data</td>\n",
       "    </tr>\n",
       "    <tr>\n",
       "      <th>2847</th>\n",
       "      <td>QCL</td>\n",
       "      <td>Crops and livestock products</td>\n",
       "      <td>256</td>\n",
       "      <td>Luxembourg</td>\n",
       "      <td>5321</td>\n",
       "      <td>Producing Animals/Slaughtered</td>\n",
       "      <td>1069</td>\n",
       "      <td>Meat, duck</td>\n",
       "      <td>2018</td>\n",
       "      <td>2018</td>\n",
       "      <td>1000 Head</td>\n",
       "      <td>0.0</td>\n",
       "      <td>NaN</td>\n",
       "      <td>Official data</td>\n",
       "    </tr>\n",
       "    <tr>\n",
       "      <th>2848</th>\n",
       "      <td>QCL</td>\n",
       "      <td>Crops and livestock products</td>\n",
       "      <td>256</td>\n",
       "      <td>Luxembourg</td>\n",
       "      <td>5321</td>\n",
       "      <td>Producing Animals/Slaughtered</td>\n",
       "      <td>1069</td>\n",
       "      <td>Meat, duck</td>\n",
       "      <td>2019</td>\n",
       "      <td>2019</td>\n",
       "      <td>1000 Head</td>\n",
       "      <td>0.0</td>\n",
       "      <td>NaN</td>\n",
       "      <td>Official data</td>\n",
       "    </tr>\n",
       "    <tr>\n",
       "      <th>2849</th>\n",
       "      <td>QCL</td>\n",
       "      <td>Crops and livestock products</td>\n",
       "      <td>256</td>\n",
       "      <td>Luxembourg</td>\n",
       "      <td>5321</td>\n",
       "      <td>Producing Animals/Slaughtered</td>\n",
       "      <td>1069</td>\n",
       "      <td>Meat, duck</td>\n",
       "      <td>2020</td>\n",
       "      <td>2020</td>\n",
       "      <td>1000 Head</td>\n",
       "      <td>0.0</td>\n",
       "      <td>NaN</td>\n",
       "      <td>Official data</td>\n",
       "    </tr>\n",
       "    <tr>\n",
       "      <th>2869</th>\n",
       "      <td>QCL</td>\n",
       "      <td>Crops and livestock products</td>\n",
       "      <td>256</td>\n",
       "      <td>Luxembourg</td>\n",
       "      <td>5320</td>\n",
       "      <td>Producing Animals/Slaughtered</td>\n",
       "      <td>1017</td>\n",
       "      <td>Meat, goat</td>\n",
       "      <td>2000</td>\n",
       "      <td>2000</td>\n",
       "      <td>Head</td>\n",
       "      <td>0.0</td>\n",
       "      <td>NaN</td>\n",
       "      <td>Official data</td>\n",
       "    </tr>\n",
       "    <tr>\n",
       "      <th>2870</th>\n",
       "      <td>QCL</td>\n",
       "      <td>Crops and livestock products</td>\n",
       "      <td>256</td>\n",
       "      <td>Luxembourg</td>\n",
       "      <td>5320</td>\n",
       "      <td>Producing Animals/Slaughtered</td>\n",
       "      <td>1017</td>\n",
       "      <td>Meat, goat</td>\n",
       "      <td>2001</td>\n",
       "      <td>2001</td>\n",
       "      <td>Head</td>\n",
       "      <td>0.0</td>\n",
       "      <td>NaN</td>\n",
       "      <td>Official data</td>\n",
       "    </tr>\n",
       "    <tr>\n",
       "      <th>2891</th>\n",
       "      <td>QCL</td>\n",
       "      <td>Crops and livestock products</td>\n",
       "      <td>256</td>\n",
       "      <td>Luxembourg</td>\n",
       "      <td>5320</td>\n",
       "      <td>Producing Animals/Slaughtered</td>\n",
       "      <td>1097</td>\n",
       "      <td>Meat, horse</td>\n",
       "      <td>2001</td>\n",
       "      <td>2001</td>\n",
       "      <td>Head</td>\n",
       "      <td>0.0</td>\n",
       "      <td>NaN</td>\n",
       "      <td>Official data</td>\n",
       "    </tr>\n",
       "    <tr>\n",
       "      <th>2971</th>\n",
       "      <td>QCL</td>\n",
       "      <td>Crops and livestock products</td>\n",
       "      <td>256</td>\n",
       "      <td>Luxembourg</td>\n",
       "      <td>5321</td>\n",
       "      <td>Producing Animals/Slaughtered</td>\n",
       "      <td>1080</td>\n",
       "      <td>Meat, turkey</td>\n",
       "      <td>2018</td>\n",
       "      <td>2018</td>\n",
       "      <td>1000 Head</td>\n",
       "      <td>0.0</td>\n",
       "      <td>NaN</td>\n",
       "      <td>Official data</td>\n",
       "    </tr>\n",
       "    <tr>\n",
       "      <th>2972</th>\n",
       "      <td>QCL</td>\n",
       "      <td>Crops and livestock products</td>\n",
       "      <td>256</td>\n",
       "      <td>Luxembourg</td>\n",
       "      <td>5321</td>\n",
       "      <td>Producing Animals/Slaughtered</td>\n",
       "      <td>1080</td>\n",
       "      <td>Meat, turkey</td>\n",
       "      <td>2019</td>\n",
       "      <td>2019</td>\n",
       "      <td>1000 Head</td>\n",
       "      <td>0.0</td>\n",
       "      <td>NaN</td>\n",
       "      <td>Official data</td>\n",
       "    </tr>\n",
       "    <tr>\n",
       "      <th>2973</th>\n",
       "      <td>QCL</td>\n",
       "      <td>Crops and livestock products</td>\n",
       "      <td>256</td>\n",
       "      <td>Luxembourg</td>\n",
       "      <td>5321</td>\n",
       "      <td>Producing Animals/Slaughtered</td>\n",
       "      <td>1080</td>\n",
       "      <td>Meat, turkey</td>\n",
       "      <td>2020</td>\n",
       "      <td>2020</td>\n",
       "      <td>1000 Head</td>\n",
       "      <td>0.0</td>\n",
       "      <td>NaN</td>\n",
       "      <td>Official data</td>\n",
       "    </tr>\n",
       "    <tr>\n",
       "      <th>3070</th>\n",
       "      <td>QCL</td>\n",
       "      <td>Crops and livestock products</td>\n",
       "      <td>150</td>\n",
       "      <td>Netherlands</td>\n",
       "      <td>5321</td>\n",
       "      <td>Producing Animals/Slaughtered</td>\n",
       "      <td>1069</td>\n",
       "      <td>Meat, duck</td>\n",
       "      <td>1973</td>\n",
       "      <td>1973</td>\n",
       "      <td>1000 Head</td>\n",
       "      <td>0.0</td>\n",
       "      <td>Fc</td>\n",
       "      <td>Calculated data</td>\n",
       "    </tr>\n",
       "    <tr>\n",
       "      <th>3071</th>\n",
       "      <td>QCL</td>\n",
       "      <td>Crops and livestock products</td>\n",
       "      <td>150</td>\n",
       "      <td>Netherlands</td>\n",
       "      <td>5321</td>\n",
       "      <td>Producing Animals/Slaughtered</td>\n",
       "      <td>1069</td>\n",
       "      <td>Meat, duck</td>\n",
       "      <td>1974</td>\n",
       "      <td>1974</td>\n",
       "      <td>1000 Head</td>\n",
       "      <td>0.0</td>\n",
       "      <td>Fc</td>\n",
       "      <td>Calculated data</td>\n",
       "    </tr>\n",
       "    <tr>\n",
       "      <th>3072</th>\n",
       "      <td>QCL</td>\n",
       "      <td>Crops and livestock products</td>\n",
       "      <td>150</td>\n",
       "      <td>Netherlands</td>\n",
       "      <td>5321</td>\n",
       "      <td>Producing Animals/Slaughtered</td>\n",
       "      <td>1069</td>\n",
       "      <td>Meat, duck</td>\n",
       "      <td>1975</td>\n",
       "      <td>1975</td>\n",
       "      <td>1000 Head</td>\n",
       "      <td>0.0</td>\n",
       "      <td>Fc</td>\n",
       "      <td>Calculated data</td>\n",
       "    </tr>\n",
       "    <tr>\n",
       "      <th>3073</th>\n",
       "      <td>QCL</td>\n",
       "      <td>Crops and livestock products</td>\n",
       "      <td>150</td>\n",
       "      <td>Netherlands</td>\n",
       "      <td>5321</td>\n",
       "      <td>Producing Animals/Slaughtered</td>\n",
       "      <td>1069</td>\n",
       "      <td>Meat, duck</td>\n",
       "      <td>1976</td>\n",
       "      <td>1976</td>\n",
       "      <td>1000 Head</td>\n",
       "      <td>0.0</td>\n",
       "      <td>Fc</td>\n",
       "      <td>Calculated data</td>\n",
       "    </tr>\n",
       "    <tr>\n",
       "      <th>3332</th>\n",
       "      <td>QCL</td>\n",
       "      <td>Crops and livestock products</td>\n",
       "      <td>150</td>\n",
       "      <td>Netherlands</td>\n",
       "      <td>5321</td>\n",
       "      <td>Producing Animals/Slaughtered</td>\n",
       "      <td>1080</td>\n",
       "      <td>Meat, turkey</td>\n",
       "      <td>1973</td>\n",
       "      <td>1973</td>\n",
       "      <td>1000 Head</td>\n",
       "      <td>0.0</td>\n",
       "      <td>Fc</td>\n",
       "      <td>Calculated data</td>\n",
       "    </tr>\n",
       "    <tr>\n",
       "      <th>3333</th>\n",
       "      <td>QCL</td>\n",
       "      <td>Crops and livestock products</td>\n",
       "      <td>150</td>\n",
       "      <td>Netherlands</td>\n",
       "      <td>5321</td>\n",
       "      <td>Producing Animals/Slaughtered</td>\n",
       "      <td>1080</td>\n",
       "      <td>Meat, turkey</td>\n",
       "      <td>1974</td>\n",
       "      <td>1974</td>\n",
       "      <td>1000 Head</td>\n",
       "      <td>0.0</td>\n",
       "      <td>Fc</td>\n",
       "      <td>Calculated data</td>\n",
       "    </tr>\n",
       "    <tr>\n",
       "      <th>3334</th>\n",
       "      <td>QCL</td>\n",
       "      <td>Crops and livestock products</td>\n",
       "      <td>150</td>\n",
       "      <td>Netherlands</td>\n",
       "      <td>5321</td>\n",
       "      <td>Producing Animals/Slaughtered</td>\n",
       "      <td>1080</td>\n",
       "      <td>Meat, turkey</td>\n",
       "      <td>1975</td>\n",
       "      <td>1975</td>\n",
       "      <td>1000 Head</td>\n",
       "      <td>0.0</td>\n",
       "      <td>Fc</td>\n",
       "      <td>Calculated data</td>\n",
       "    </tr>\n",
       "    <tr>\n",
       "      <th>3335</th>\n",
       "      <td>QCL</td>\n",
       "      <td>Crops and livestock products</td>\n",
       "      <td>150</td>\n",
       "      <td>Netherlands</td>\n",
       "      <td>5321</td>\n",
       "      <td>Producing Animals/Slaughtered</td>\n",
       "      <td>1080</td>\n",
       "      <td>Meat, turkey</td>\n",
       "      <td>1976</td>\n",
       "      <td>1976</td>\n",
       "      <td>1000 Head</td>\n",
       "      <td>0.0</td>\n",
       "      <td>Fc</td>\n",
       "      <td>Calculated data</td>\n",
       "    </tr>\n",
       "    <tr>\n",
       "      <th>3377</th>\n",
       "      <td>QCL</td>\n",
       "      <td>Crops and livestock products</td>\n",
       "      <td>150</td>\n",
       "      <td>Netherlands</td>\n",
       "      <td>5321</td>\n",
       "      <td>Producing Animals/Slaughtered</td>\n",
       "      <td>1080</td>\n",
       "      <td>Meat, turkey</td>\n",
       "      <td>2018</td>\n",
       "      <td>2018</td>\n",
       "      <td>1000 Head</td>\n",
       "      <td>0.0</td>\n",
       "      <td>NaN</td>\n",
       "      <td>Official data</td>\n",
       "    </tr>\n",
       "    <tr>\n",
       "      <th>3378</th>\n",
       "      <td>QCL</td>\n",
       "      <td>Crops and livestock products</td>\n",
       "      <td>150</td>\n",
       "      <td>Netherlands</td>\n",
       "      <td>5321</td>\n",
       "      <td>Producing Animals/Slaughtered</td>\n",
       "      <td>1080</td>\n",
       "      <td>Meat, turkey</td>\n",
       "      <td>2019</td>\n",
       "      <td>2019</td>\n",
       "      <td>1000 Head</td>\n",
       "      <td>0.0</td>\n",
       "      <td>NaN</td>\n",
       "      <td>Official data</td>\n",
       "    </tr>\n",
       "    <tr>\n",
       "      <th>3379</th>\n",
       "      <td>QCL</td>\n",
       "      <td>Crops and livestock products</td>\n",
       "      <td>150</td>\n",
       "      <td>Netherlands</td>\n",
       "      <td>5321</td>\n",
       "      <td>Producing Animals/Slaughtered</td>\n",
       "      <td>1080</td>\n",
       "      <td>Meat, turkey</td>\n",
       "      <td>2020</td>\n",
       "      <td>2020</td>\n",
       "      <td>1000 Head</td>\n",
       "      <td>0.0</td>\n",
       "      <td>NaN</td>\n",
       "      <td>Official data</td>\n",
       "    </tr>\n",
       "  </tbody>\n",
       "</table>\n",
       "</div>"
      ],
      "text/plain": [
       "     Domain Code                        Domain  Area Code (FAO)         Area  \\\n",
       "789          QCL  Crops and livestock products               54      Denmark   \n",
       "790          QCL  Crops and livestock products               54      Denmark   \n",
       "791          QCL  Crops and livestock products               54      Denmark   \n",
       "2148         QCL  Crops and livestock products              104      Ireland   \n",
       "2149         QCL  Crops and livestock products              104      Ireland   \n",
       "2150         QCL  Crops and livestock products              104      Ireland   \n",
       "2844         QCL  Crops and livestock products              256   Luxembourg   \n",
       "2845         QCL  Crops and livestock products              256   Luxembourg   \n",
       "2846         QCL  Crops and livestock products              256   Luxembourg   \n",
       "2847         QCL  Crops and livestock products              256   Luxembourg   \n",
       "2848         QCL  Crops and livestock products              256   Luxembourg   \n",
       "2849         QCL  Crops and livestock products              256   Luxembourg   \n",
       "2869         QCL  Crops and livestock products              256   Luxembourg   \n",
       "2870         QCL  Crops and livestock products              256   Luxembourg   \n",
       "2891         QCL  Crops and livestock products              256   Luxembourg   \n",
       "2971         QCL  Crops and livestock products              256   Luxembourg   \n",
       "2972         QCL  Crops and livestock products              256   Luxembourg   \n",
       "2973         QCL  Crops and livestock products              256   Luxembourg   \n",
       "3070         QCL  Crops and livestock products              150  Netherlands   \n",
       "3071         QCL  Crops and livestock products              150  Netherlands   \n",
       "3072         QCL  Crops and livestock products              150  Netherlands   \n",
       "3073         QCL  Crops and livestock products              150  Netherlands   \n",
       "3332         QCL  Crops and livestock products              150  Netherlands   \n",
       "3333         QCL  Crops and livestock products              150  Netherlands   \n",
       "3334         QCL  Crops and livestock products              150  Netherlands   \n",
       "3335         QCL  Crops and livestock products              150  Netherlands   \n",
       "3377         QCL  Crops and livestock products              150  Netherlands   \n",
       "3378         QCL  Crops and livestock products              150  Netherlands   \n",
       "3379         QCL  Crops and livestock products              150  Netherlands   \n",
       "\n",
       "      Element Code                        Element  Item Code (FAO)  \\\n",
       "789           5320  Producing Animals/Slaughtered             1017   \n",
       "790           5320  Producing Animals/Slaughtered             1017   \n",
       "791           5320  Producing Animals/Slaughtered             1017   \n",
       "2148          5320  Producing Animals/Slaughtered             1017   \n",
       "2149          5320  Producing Animals/Slaughtered             1017   \n",
       "2150          5320  Producing Animals/Slaughtered             1017   \n",
       "2844          5321  Producing Animals/Slaughtered             1058   \n",
       "2845          5321  Producing Animals/Slaughtered             1058   \n",
       "2846          5321  Producing Animals/Slaughtered             1058   \n",
       "2847          5321  Producing Animals/Slaughtered             1069   \n",
       "2848          5321  Producing Animals/Slaughtered             1069   \n",
       "2849          5321  Producing Animals/Slaughtered             1069   \n",
       "2869          5320  Producing Animals/Slaughtered             1017   \n",
       "2870          5320  Producing Animals/Slaughtered             1017   \n",
       "2891          5320  Producing Animals/Slaughtered             1097   \n",
       "2971          5321  Producing Animals/Slaughtered             1080   \n",
       "2972          5321  Producing Animals/Slaughtered             1080   \n",
       "2973          5321  Producing Animals/Slaughtered             1080   \n",
       "3070          5321  Producing Animals/Slaughtered             1069   \n",
       "3071          5321  Producing Animals/Slaughtered             1069   \n",
       "3072          5321  Producing Animals/Slaughtered             1069   \n",
       "3073          5321  Producing Animals/Slaughtered             1069   \n",
       "3332          5321  Producing Animals/Slaughtered             1080   \n",
       "3333          5321  Producing Animals/Slaughtered             1080   \n",
       "3334          5321  Producing Animals/Slaughtered             1080   \n",
       "3335          5321  Producing Animals/Slaughtered             1080   \n",
       "3377          5321  Producing Animals/Slaughtered             1080   \n",
       "3378          5321  Producing Animals/Slaughtered             1080   \n",
       "3379          5321  Producing Animals/Slaughtered             1080   \n",
       "\n",
       "               Item  Year Code  Year       Unit  Value Flag Flag Description  \n",
       "789      Meat, goat       2018  2018       Head    0.0  NaN    Official data  \n",
       "790      Meat, goat       2019  2019       Head    0.0  NaN    Official data  \n",
       "791      Meat, goat       2020  2020       Head    0.0  NaN    Official data  \n",
       "2148     Meat, goat       2018  2018       Head    0.0  NaN    Official data  \n",
       "2149     Meat, goat       2019  2019       Head    0.0  NaN    Official data  \n",
       "2150     Meat, goat       2020  2020       Head    0.0  NaN    Official data  \n",
       "2844  Meat, chicken       2018  2018  1000 Head    0.0  NaN    Official data  \n",
       "2845  Meat, chicken       2019  2019  1000 Head    0.0  NaN    Official data  \n",
       "2846  Meat, chicken       2020  2020  1000 Head    0.0  NaN    Official data  \n",
       "2847     Meat, duck       2018  2018  1000 Head    0.0  NaN    Official data  \n",
       "2848     Meat, duck       2019  2019  1000 Head    0.0  NaN    Official data  \n",
       "2849     Meat, duck       2020  2020  1000 Head    0.0  NaN    Official data  \n",
       "2869     Meat, goat       2000  2000       Head    0.0  NaN    Official data  \n",
       "2870     Meat, goat       2001  2001       Head    0.0  NaN    Official data  \n",
       "2891    Meat, horse       2001  2001       Head    0.0  NaN    Official data  \n",
       "2971   Meat, turkey       2018  2018  1000 Head    0.0  NaN    Official data  \n",
       "2972   Meat, turkey       2019  2019  1000 Head    0.0  NaN    Official data  \n",
       "2973   Meat, turkey       2020  2020  1000 Head    0.0  NaN    Official data  \n",
       "3070     Meat, duck       1973  1973  1000 Head    0.0   Fc  Calculated data  \n",
       "3071     Meat, duck       1974  1974  1000 Head    0.0   Fc  Calculated data  \n",
       "3072     Meat, duck       1975  1975  1000 Head    0.0   Fc  Calculated data  \n",
       "3073     Meat, duck       1976  1976  1000 Head    0.0   Fc  Calculated data  \n",
       "3332   Meat, turkey       1973  1973  1000 Head    0.0   Fc  Calculated data  \n",
       "3333   Meat, turkey       1974  1974  1000 Head    0.0   Fc  Calculated data  \n",
       "3334   Meat, turkey       1975  1975  1000 Head    0.0   Fc  Calculated data  \n",
       "3335   Meat, turkey       1976  1976  1000 Head    0.0   Fc  Calculated data  \n",
       "3377   Meat, turkey       2018  2018  1000 Head    0.0  NaN    Official data  \n",
       "3378   Meat, turkey       2019  2019  1000 Head    0.0  NaN    Official data  \n",
       "3379   Meat, turkey       2020  2020  1000 Head    0.0  NaN    Official data  "
      ]
     },
     "execution_count": 17,
     "metadata": {},
     "output_type": "execute_result"
    }
   ],
   "source": [
    "slaughter_miss.head(50)"
   ]
  },
  {
   "cell_type": "code",
   "execution_count": 18,
   "id": "0e62d4b0",
   "metadata": {
    "ExecuteTime": {
     "end_time": "2022-05-04T14:23:25.100357Z",
     "start_time": "2022-05-04T14:23:25.084361Z"
    }
   },
   "outputs": [
    {
     "data": {
      "text/plain": [
       "array(['Meat, goat', 'Meat, chicken', 'Meat, duck', 'Meat, horse',\n",
       "       'Meat, turkey'], dtype=object)"
      ]
     },
     "execution_count": 18,
     "metadata": {},
     "output_type": "execute_result"
    }
   ],
   "source": [
    "# Investigating if the missing data is at random or not at random by checking if it's specific animal categories or not\n",
    "slaughter_miss.Item.unique()"
   ]
  },
  {
   "cell_type": "code",
   "execution_count": 19,
   "id": "a3691d39",
   "metadata": {
    "ExecuteTime": {
     "end_time": "2022-05-04T14:23:25.116359Z",
     "start_time": "2022-05-04T14:23:25.101352Z"
    }
   },
   "outputs": [
    {
     "data": {
      "text/plain": [
       "array([0.])"
      ]
     },
     "execution_count": 19,
     "metadata": {},
     "output_type": "execute_result"
    }
   ],
   "source": [
    "slaughter_miss.Value.unique()"
   ]
  },
  {
   "cell_type": "code",
   "execution_count": 20,
   "id": "8fa228b6",
   "metadata": {
    "ExecuteTime": {
     "end_time": "2022-05-04T14:23:25.132356Z",
     "start_time": "2022-05-04T14:23:25.117350Z"
    }
   },
   "outputs": [
    {
     "data": {
      "text/plain": [
       "array(['Denmark', 'Ireland', 'Luxembourg', 'Netherlands'], dtype=object)"
      ]
     },
     "execution_count": 20,
     "metadata": {},
     "output_type": "execute_result"
    }
   ],
   "source": [
    "# Investigating if the missing data is at random or not at random by checking if it's specific country's or not\n",
    "slaughter_miss.Area.unique()"
   ]
  },
  {
   "cell_type": "code",
   "execution_count": 21,
   "id": "342c026b",
   "metadata": {
    "ExecuteTime": {
     "end_time": "2022-05-04T14:23:25.148357Z",
     "start_time": "2022-05-04T14:23:25.133350Z"
    }
   },
   "outputs": [
    {
     "data": {
      "text/plain": [
       "array([2018, 2019, 2020, 2000, 2001, 1973, 1974, 1975, 1976], dtype=int64)"
      ]
     },
     "execution_count": 21,
     "metadata": {},
     "output_type": "execute_result"
    }
   ],
   "source": [
    "slaughter_miss.Year.unique()"
   ]
  },
  {
   "cell_type": "markdown",
   "id": "2910f337",
   "metadata": {},
   "source": [
    "This shows that the missing data is NOT at random, certain countries did not submit data for certain animal categories on certain years. I will deal with this during data preparation."
   ]
  },
  {
   "cell_type": "markdown",
   "id": "61484129",
   "metadata": {},
   "source": [
    "## Meat production data"
   ]
  },
  {
   "cell_type": "code",
   "execution_count": 22,
   "id": "6a57174b",
   "metadata": {
    "ExecuteTime": {
     "end_time": "2022-05-04T14:23:25.164348Z",
     "start_time": "2022-05-04T14:23:25.149350Z"
    }
   },
   "outputs": [
    {
     "data": {
      "text/html": [
       "<div>\n",
       "<style scoped>\n",
       "    .dataframe tbody tr th:only-of-type {\n",
       "        vertical-align: middle;\n",
       "    }\n",
       "\n",
       "    .dataframe tbody tr th {\n",
       "        vertical-align: top;\n",
       "    }\n",
       "\n",
       "    .dataframe thead th {\n",
       "        text-align: right;\n",
       "    }\n",
       "</style>\n",
       "<table border=\"1\" class=\"dataframe\">\n",
       "  <thead>\n",
       "    <tr style=\"text-align: right;\">\n",
       "      <th></th>\n",
       "      <th>Domain Code</th>\n",
       "      <th>Domain</th>\n",
       "      <th>Area Code (FAO)</th>\n",
       "      <th>Area</th>\n",
       "      <th>Element Code</th>\n",
       "      <th>Element</th>\n",
       "      <th>Item Code (FAO)</th>\n",
       "      <th>Item</th>\n",
       "      <th>Year Code</th>\n",
       "      <th>Year</th>\n",
       "      <th>Unit</th>\n",
       "      <th>Value</th>\n",
       "      <th>Flag</th>\n",
       "      <th>Flag Description</th>\n",
       "    </tr>\n",
       "  </thead>\n",
       "  <tbody>\n",
       "    <tr>\n",
       "      <th>0</th>\n",
       "      <td>QCL</td>\n",
       "      <td>Crops and livestock products</td>\n",
       "      <td>255</td>\n",
       "      <td>Belgium</td>\n",
       "      <td>5510</td>\n",
       "      <td>Production</td>\n",
       "      <td>867</td>\n",
       "      <td>Meat, cattle</td>\n",
       "      <td>2000</td>\n",
       "      <td>2000</td>\n",
       "      <td>tonnes</td>\n",
       "      <td>275360.0</td>\n",
       "      <td>NaN</td>\n",
       "      <td>Official data</td>\n",
       "    </tr>\n",
       "    <tr>\n",
       "      <th>1</th>\n",
       "      <td>QCL</td>\n",
       "      <td>Crops and livestock products</td>\n",
       "      <td>255</td>\n",
       "      <td>Belgium</td>\n",
       "      <td>5510</td>\n",
       "      <td>Production</td>\n",
       "      <td>867</td>\n",
       "      <td>Meat, cattle</td>\n",
       "      <td>2001</td>\n",
       "      <td>2001</td>\n",
       "      <td>tonnes</td>\n",
       "      <td>285250.0</td>\n",
       "      <td>NaN</td>\n",
       "      <td>Official data</td>\n",
       "    </tr>\n",
       "    <tr>\n",
       "      <th>2</th>\n",
       "      <td>QCL</td>\n",
       "      <td>Crops and livestock products</td>\n",
       "      <td>255</td>\n",
       "      <td>Belgium</td>\n",
       "      <td>5510</td>\n",
       "      <td>Production</td>\n",
       "      <td>867</td>\n",
       "      <td>Meat, cattle</td>\n",
       "      <td>2002</td>\n",
       "      <td>2002</td>\n",
       "      <td>tonnes</td>\n",
       "      <td>305388.0</td>\n",
       "      <td>NaN</td>\n",
       "      <td>Official data</td>\n",
       "    </tr>\n",
       "    <tr>\n",
       "      <th>3</th>\n",
       "      <td>QCL</td>\n",
       "      <td>Crops and livestock products</td>\n",
       "      <td>255</td>\n",
       "      <td>Belgium</td>\n",
       "      <td>5510</td>\n",
       "      <td>Production</td>\n",
       "      <td>867</td>\n",
       "      <td>Meat, cattle</td>\n",
       "      <td>2003</td>\n",
       "      <td>2003</td>\n",
       "      <td>tonnes</td>\n",
       "      <td>275170.0</td>\n",
       "      <td>NaN</td>\n",
       "      <td>Official data</td>\n",
       "    </tr>\n",
       "    <tr>\n",
       "      <th>4</th>\n",
       "      <td>QCL</td>\n",
       "      <td>Crops and livestock products</td>\n",
       "      <td>255</td>\n",
       "      <td>Belgium</td>\n",
       "      <td>5510</td>\n",
       "      <td>Production</td>\n",
       "      <td>867</td>\n",
       "      <td>Meat, cattle</td>\n",
       "      <td>2004</td>\n",
       "      <td>2004</td>\n",
       "      <td>tonnes</td>\n",
       "      <td>280931.0</td>\n",
       "      <td>NaN</td>\n",
       "      <td>Official data</td>\n",
       "    </tr>\n",
       "  </tbody>\n",
       "</table>\n",
       "</div>"
      ],
      "text/plain": [
       "  Domain Code                        Domain  Area Code (FAO)     Area  \\\n",
       "0         QCL  Crops and livestock products              255  Belgium   \n",
       "1         QCL  Crops and livestock products              255  Belgium   \n",
       "2         QCL  Crops and livestock products              255  Belgium   \n",
       "3         QCL  Crops and livestock products              255  Belgium   \n",
       "4         QCL  Crops and livestock products              255  Belgium   \n",
       "\n",
       "   Element Code     Element  Item Code (FAO)          Item  Year Code  Year  \\\n",
       "0          5510  Production              867  Meat, cattle       2000  2000   \n",
       "1          5510  Production              867  Meat, cattle       2001  2001   \n",
       "2          5510  Production              867  Meat, cattle       2002  2002   \n",
       "3          5510  Production              867  Meat, cattle       2003  2003   \n",
       "4          5510  Production              867  Meat, cattle       2004  2004   \n",
       "\n",
       "     Unit     Value Flag Flag Description  \n",
       "0  tonnes  275360.0  NaN    Official data  \n",
       "1  tonnes  285250.0  NaN    Official data  \n",
       "2  tonnes  305388.0  NaN    Official data  \n",
       "3  tonnes  275170.0  NaN    Official data  \n",
       "4  tonnes  280931.0  NaN    Official data  "
      ]
     },
     "execution_count": 22,
     "metadata": {},
     "output_type": "execute_result"
    }
   ],
   "source": [
    "meat.head()"
   ]
  },
  {
   "cell_type": "code",
   "execution_count": 23,
   "id": "6397d2c1",
   "metadata": {
    "ExecuteTime": {
     "end_time": "2022-05-04T14:23:25.180348Z",
     "start_time": "2022-05-04T14:23:25.165360Z"
    }
   },
   "outputs": [
    {
     "data": {
      "text/plain": [
       "(3940, 14)"
      ]
     },
     "execution_count": 23,
     "metadata": {},
     "output_type": "execute_result"
    }
   ],
   "source": [
    "meat.shape"
   ]
  },
  {
   "cell_type": "code",
   "execution_count": 24,
   "id": "98c88736",
   "metadata": {
    "ExecuteTime": {
     "end_time": "2022-05-04T14:23:25.196359Z",
     "start_time": "2022-05-04T14:23:25.181348Z"
    }
   },
   "outputs": [
    {
     "name": "stdout",
     "output_type": "stream",
     "text": [
      "<class 'pandas.core.frame.DataFrame'>\n",
      "RangeIndex: 3940 entries, 0 to 3939\n",
      "Data columns (total 14 columns):\n",
      " #   Column            Non-Null Count  Dtype  \n",
      "---  ------            --------------  -----  \n",
      " 0   Domain Code       3940 non-null   object \n",
      " 1   Domain            3940 non-null   object \n",
      " 2   Area Code (FAO)   3940 non-null   int64  \n",
      " 3   Area              3940 non-null   object \n",
      " 4   Element Code      3940 non-null   int64  \n",
      " 5   Element           3940 non-null   object \n",
      " 6   Item Code (FAO)   3940 non-null   int64  \n",
      " 7   Item              3940 non-null   object \n",
      " 8   Year Code         3940 non-null   int64  \n",
      " 9   Year              3940 non-null   int64  \n",
      " 10  Unit              3940 non-null   object \n",
      " 11  Value             3862 non-null   float64\n",
      " 12  Flag              1298 non-null   object \n",
      " 13  Flag Description  3940 non-null   object \n",
      "dtypes: float64(1), int64(5), object(8)\n",
      "memory usage: 431.1+ KB\n"
     ]
    }
   ],
   "source": [
    "meat.info()"
   ]
  },
  {
   "cell_type": "code",
   "execution_count": 25,
   "id": "22289d94",
   "metadata": {
    "ExecuteTime": {
     "end_time": "2022-05-04T14:23:25.228359Z",
     "start_time": "2022-05-04T14:23:25.197358Z"
    }
   },
   "outputs": [
    {
     "data": {
      "text/html": [
       "<div>\n",
       "<style scoped>\n",
       "    .dataframe tbody tr th:only-of-type {\n",
       "        vertical-align: middle;\n",
       "    }\n",
       "\n",
       "    .dataframe tbody tr th {\n",
       "        vertical-align: top;\n",
       "    }\n",
       "\n",
       "    .dataframe thead th {\n",
       "        text-align: right;\n",
       "    }\n",
       "</style>\n",
       "<table border=\"1\" class=\"dataframe\">\n",
       "  <thead>\n",
       "    <tr style=\"text-align: right;\">\n",
       "      <th></th>\n",
       "      <th>Area Code (FAO)</th>\n",
       "      <th>Element Code</th>\n",
       "      <th>Item Code (FAO)</th>\n",
       "      <th>Year Code</th>\n",
       "      <th>Year</th>\n",
       "      <th>Value</th>\n",
       "    </tr>\n",
       "  </thead>\n",
       "  <tbody>\n",
       "    <tr>\n",
       "      <th>count</th>\n",
       "      <td>3940.000000</td>\n",
       "      <td>3940.0</td>\n",
       "      <td>3940.000000</td>\n",
       "      <td>3940.000000</td>\n",
       "      <td>3940.000000</td>\n",
       "      <td>3.862000e+03</td>\n",
       "    </tr>\n",
       "    <tr>\n",
       "      <th>mean</th>\n",
       "      <td>154.790102</td>\n",
       "      <td>5510.0</td>\n",
       "      <td>1042.574873</td>\n",
       "      <td>1997.820051</td>\n",
       "      <td>1997.820051</td>\n",
       "      <td>1.300366e+06</td>\n",
       "    </tr>\n",
       "    <tr>\n",
       "      <th>std</th>\n",
       "      <td>99.951755</td>\n",
       "      <td>0.0</td>\n",
       "      <td>77.053159</td>\n",
       "      <td>13.754285</td>\n",
       "      <td>13.754285</td>\n",
       "      <td>4.658044e+06</td>\n",
       "    </tr>\n",
       "    <tr>\n",
       "      <th>min</th>\n",
       "      <td>54.000000</td>\n",
       "      <td>5510.0</td>\n",
       "      <td>867.000000</td>\n",
       "      <td>1973.000000</td>\n",
       "      <td>1973.000000</td>\n",
       "      <td>0.000000e+00</td>\n",
       "    </tr>\n",
       "    <tr>\n",
       "      <th>25%</th>\n",
       "      <td>79.000000</td>\n",
       "      <td>5510.0</td>\n",
       "      <td>1017.000000</td>\n",
       "      <td>1986.000000</td>\n",
       "      <td>1986.000000</td>\n",
       "      <td>4.966500e+03</td>\n",
       "    </tr>\n",
       "    <tr>\n",
       "      <th>50%</th>\n",
       "      <td>106.000000</td>\n",
       "      <td>5510.0</td>\n",
       "      <td>1058.000000</td>\n",
       "      <td>1999.000000</td>\n",
       "      <td>1999.000000</td>\n",
       "      <td>6.400000e+04</td>\n",
       "    </tr>\n",
       "    <tr>\n",
       "      <th>75%</th>\n",
       "      <td>231.000000</td>\n",
       "      <td>5510.0</td>\n",
       "      <td>1080.000000</td>\n",
       "      <td>2010.000000</td>\n",
       "      <td>2010.000000</td>\n",
       "      <td>6.888240e+05</td>\n",
       "    </tr>\n",
       "    <tr>\n",
       "      <th>max</th>\n",
       "      <td>351.000000</td>\n",
       "      <td>5510.0</td>\n",
       "      <td>1163.000000</td>\n",
       "      <td>2020.000000</td>\n",
       "      <td>2020.000000</td>\n",
       "      <td>5.766187e+07</td>\n",
       "    </tr>\n",
       "  </tbody>\n",
       "</table>\n",
       "</div>"
      ],
      "text/plain": [
       "       Area Code (FAO)  Element Code  Item Code (FAO)    Year Code  \\\n",
       "count      3940.000000        3940.0      3940.000000  3940.000000   \n",
       "mean        154.790102        5510.0      1042.574873  1997.820051   \n",
       "std          99.951755           0.0        77.053159    13.754285   \n",
       "min          54.000000        5510.0       867.000000  1973.000000   \n",
       "25%          79.000000        5510.0      1017.000000  1986.000000   \n",
       "50%         106.000000        5510.0      1058.000000  1999.000000   \n",
       "75%         231.000000        5510.0      1080.000000  2010.000000   \n",
       "max         351.000000        5510.0      1163.000000  2020.000000   \n",
       "\n",
       "              Year         Value  \n",
       "count  3940.000000  3.862000e+03  \n",
       "mean   1997.820051  1.300366e+06  \n",
       "std      13.754285  4.658044e+06  \n",
       "min    1973.000000  0.000000e+00  \n",
       "25%    1986.000000  4.966500e+03  \n",
       "50%    1999.000000  6.400000e+04  \n",
       "75%    2010.000000  6.888240e+05  \n",
       "max    2020.000000  5.766187e+07  "
      ]
     },
     "execution_count": 25,
     "metadata": {},
     "output_type": "execute_result"
    }
   ],
   "source": [
    "meat.describe()"
   ]
  },
  {
   "cell_type": "markdown",
   "id": "00cfe73b",
   "metadata": {},
   "source": [
    "The data is in its current layout is not suitable for statistical analysis as each country is a row.\n",
    "I need to melt the data so that the values for each country are in a column item type."
   ]
  },
  {
   "cell_type": "code",
   "execution_count": 26,
   "id": "f7ac6067",
   "metadata": {
    "ExecuteTime": {
     "end_time": "2022-05-04T14:23:25.244356Z",
     "start_time": "2022-05-04T14:23:25.229358Z"
    }
   },
   "outputs": [
    {
     "data": {
      "text/plain": [
       "array(['Meat, cattle', 'Meat, chicken', 'Meat, duck', 'Meat, goat',\n",
       "       'Meat, horse', 'Meat, pig', 'Meat, sheep', 'Meat, turkey',\n",
       "       'Meat, game', 'Meat, goose and guinea fowl', 'Meat, rabbit'],\n",
       "      dtype=object)"
      ]
     },
     "execution_count": 26,
     "metadata": {},
     "output_type": "execute_result"
    }
   ],
   "source": [
    "meat.Item.unique()"
   ]
  },
  {
   "cell_type": "markdown",
   "id": "71883901",
   "metadata": {},
   "source": [
    "There are 11 animal categories in the production data. I can remove the repetition from these item categories when I clean the data"
   ]
  },
  {
   "cell_type": "code",
   "execution_count": 27,
   "id": "220a1f39",
   "metadata": {
    "ExecuteTime": {
     "end_time": "2022-05-04T14:23:25.260357Z",
     "start_time": "2022-05-04T14:23:25.245349Z"
    }
   },
   "outputs": [
    {
     "data": {
      "text/plain": [
       "array(['Belgium', 'China', 'Denmark', 'France', 'Germany', 'Ireland',\n",
       "       'Italy', 'Luxembourg', 'Netherlands', 'United States of America'],\n",
       "      dtype=object)"
      ]
     },
     "execution_count": 27,
     "metadata": {},
     "output_type": "execute_result"
    }
   ],
   "source": [
    "meat.Area.unique()"
   ]
  },
  {
   "cell_type": "markdown",
   "id": "f9b4ec8a",
   "metadata": {},
   "source": [
    "As above:\n",
    "\n",
    "The dataset contains 8 EU countries Belgium, Denmark, France, Germany, Luxembourg, Ireland, Italy and the Netherlands. All of these countries have been member states since at least Jan 1st 1973.\n",
    "\n",
    "Belgium, France, Germany, Luxembourg, Italy and the Netherlands founded the EU in 1957 with Ireland and Denmark Joining on the 1st January 1973.\n",
    "\n",
    "Therefore, to ensure data comparability between these countries and the US and China, I limited the datasets time frame from 1st January 1973 to 31st December 2020 (most recent data available). This ensures that all European countries were member states of the EU at the time of analysis. \n",
    "\n",
    "We can confirm this as follows"
   ]
  },
  {
   "cell_type": "code",
   "execution_count": 28,
   "id": "acdc31db",
   "metadata": {
    "ExecuteTime": {
     "end_time": "2022-05-04T14:23:25.276356Z",
     "start_time": "2022-05-04T14:23:25.263358Z"
    }
   },
   "outputs": [
    {
     "data": {
      "text/plain": [
       "array([2000, 2001, 2002, 2003, 2004, 2005, 2006, 2007, 2008, 2009, 2010,\n",
       "       2011, 2012, 2013, 2014, 2015, 2016, 2017, 2018, 2019, 2020, 1973,\n",
       "       1974, 1975, 1976, 1977, 1978, 1979, 1980, 1981, 1982, 1983, 1984,\n",
       "       1985, 1986, 1987, 1988, 1989, 1990, 1991, 1992, 1993, 1994, 1995,\n",
       "       1996, 1997, 1998, 1999], dtype=int64)"
      ]
     },
     "execution_count": 28,
     "metadata": {},
     "output_type": "execute_result"
    }
   ],
   "source": [
    "meat.Year.unique()"
   ]
  },
  {
   "cell_type": "code",
   "execution_count": 29,
   "id": "8fc1b3a7",
   "metadata": {
    "ExecuteTime": {
     "end_time": "2022-05-04T14:23:25.291357Z",
     "start_time": "2022-05-04T14:23:25.277349Z"
    }
   },
   "outputs": [
    {
     "name": "stdout",
     "output_type": "stream",
     "text": [
      "The earliest year in the dataset is 1973 and the maximum year is 2020\n"
     ]
    }
   ],
   "source": [
    "print(f\"The earliest year in the dataset is {meat.Year.min()} and the maximum year is {meat.Year.max()}\")"
   ]
  },
  {
   "cell_type": "markdown",
   "id": "6e92267e",
   "metadata": {},
   "source": [
    "Next we can observe what units the meat production data has been recorded in"
   ]
  },
  {
   "cell_type": "code",
   "execution_count": 30,
   "id": "d38f93b1",
   "metadata": {
    "ExecuteTime": {
     "end_time": "2022-05-04T14:23:25.306356Z",
     "start_time": "2022-05-04T14:23:25.292349Z"
    }
   },
   "outputs": [
    {
     "data": {
      "text/plain": [
       "array(['tonnes'], dtype=object)"
      ]
     },
     "execution_count": 30,
     "metadata": {},
     "output_type": "execute_result"
    }
   ],
   "source": [
    "meat.Unit.unique()"
   ]
  },
  {
   "cell_type": "markdown",
   "id": "b4249482",
   "metadata": {},
   "source": [
    "Production data units have been reported in \"tonnes\"."
   ]
  },
  {
   "cell_type": "code",
   "execution_count": 31,
   "id": "978e7137",
   "metadata": {
    "ExecuteTime": {
     "end_time": "2022-05-04T14:23:25.322356Z",
     "start_time": "2022-05-04T14:23:25.307349Z"
    }
   },
   "outputs": [
    {
     "data": {
      "text/plain": [
       "array(['Production'], dtype=object)"
      ]
     },
     "execution_count": 31,
     "metadata": {},
     "output_type": "execute_result"
    }
   ],
   "source": [
    "meat.Element.unique()"
   ]
  },
  {
   "cell_type": "markdown",
   "id": "2ed60d3f",
   "metadata": {},
   "source": [
    "All livestock in this dataset is at production."
   ]
  },
  {
   "cell_type": "markdown",
   "id": "27dce8ba",
   "metadata": {},
   "source": [
    "Checking for null values"
   ]
  },
  {
   "cell_type": "code",
   "execution_count": 32,
   "id": "512feb40",
   "metadata": {
    "ExecuteTime": {
     "end_time": "2022-05-04T14:23:25.338357Z",
     "start_time": "2022-05-04T14:23:25.323350Z"
    },
    "scrolled": true
   },
   "outputs": [
    {
     "data": {
      "text/plain": [
       "Domain Code            0\n",
       "Domain                 0\n",
       "Area Code (FAO)        0\n",
       "Area                   0\n",
       "Element Code           0\n",
       "Element                0\n",
       "Item Code (FAO)        0\n",
       "Item                   0\n",
       "Year Code              0\n",
       "Year                   0\n",
       "Unit                   0\n",
       "Value                 78\n",
       "Flag                2642\n",
       "Flag Description       0\n",
       "dtype: int64"
      ]
     },
     "execution_count": 32,
     "metadata": {},
     "output_type": "execute_result"
    }
   ],
   "source": [
    "meat.isnull().sum()"
   ]
  },
  {
   "cell_type": "code",
   "execution_count": 33,
   "id": "12752e80",
   "metadata": {
    "ExecuteTime": {
     "end_time": "2022-05-04T14:23:25.354357Z",
     "start_time": "2022-05-04T14:23:25.339349Z"
    }
   },
   "outputs": [
    {
     "name": "stdout",
     "output_type": "stream",
     "text": [
      "The percentage of missing values is:\n",
      "Domain Code          0.00\n",
      "Domain               0.00\n",
      "Area Code (FAO)      0.00\n",
      "Area                 0.00\n",
      "Element Code         0.00\n",
      "Element              0.00\n",
      "Item Code (FAO)      0.00\n",
      "Item                 0.00\n",
      "Year Code            0.00\n",
      "Year                 0.00\n",
      "Unit                 0.00\n",
      "Value                2.08\n",
      "Flag                70.53\n",
      "Flag Description     0.00\n",
      "dtype: float64\n"
     ]
    }
   ],
   "source": [
    "calc_percent_missing(meat.isnull().sum(), len(slaughter))"
   ]
  },
  {
   "cell_type": "markdown",
   "id": "eb27f0b9",
   "metadata": {
    "ExecuteTime": {
     "end_time": "2022-05-04T12:32:35.976056Z",
     "start_time": "2022-05-04T12:32:35.961016Z"
    }
   },
   "source": [
    "There are missing values in the \"Value\" and \"Flag\" columns.  The flag column is not important to our data analysis\n",
    "so I can remove this during data preparation. However, the value column requires further investigation. We can test if these values are missing at random or not at random by filtering the values that are NaN or 0"
   ]
  },
  {
   "cell_type": "code",
   "execution_count": 34,
   "id": "062b83d8",
   "metadata": {
    "ExecuteTime": {
     "end_time": "2022-05-04T14:23:25.370357Z",
     "start_time": "2022-05-04T14:23:25.355349Z"
    }
   },
   "outputs": [],
   "source": [
    "# Creating a data frame of missing meat production\n",
    "meat_miss = meat.loc[(meat['Value'] == meat.Value.isnull())]"
   ]
  },
  {
   "cell_type": "code",
   "execution_count": 35,
   "id": "8ba89432",
   "metadata": {
    "ExecuteTime": {
     "end_time": "2022-05-04T14:23:25.386352Z",
     "start_time": "2022-05-04T14:23:25.371349Z"
    }
   },
   "outputs": [
    {
     "data": {
      "text/html": [
       "<div>\n",
       "<style scoped>\n",
       "    .dataframe tbody tr th:only-of-type {\n",
       "        vertical-align: middle;\n",
       "    }\n",
       "\n",
       "    .dataframe tbody tr th {\n",
       "        vertical-align: top;\n",
       "    }\n",
       "\n",
       "    .dataframe thead th {\n",
       "        text-align: right;\n",
       "    }\n",
       "</style>\n",
       "<table border=\"1\" class=\"dataframe\">\n",
       "  <thead>\n",
       "    <tr style=\"text-align: right;\">\n",
       "      <th></th>\n",
       "      <th>Domain Code</th>\n",
       "      <th>Domain</th>\n",
       "      <th>Area Code (FAO)</th>\n",
       "      <th>Area</th>\n",
       "      <th>Element Code</th>\n",
       "      <th>Element</th>\n",
       "      <th>Item Code (FAO)</th>\n",
       "      <th>Item</th>\n",
       "      <th>Year Code</th>\n",
       "      <th>Year</th>\n",
       "      <th>Unit</th>\n",
       "      <th>Value</th>\n",
       "      <th>Flag</th>\n",
       "      <th>Flag Description</th>\n",
       "    </tr>\n",
       "  </thead>\n",
       "  <tbody>\n",
       "    <tr>\n",
       "      <th>883</th>\n",
       "      <td>QCL</td>\n",
       "      <td>Crops and livestock products</td>\n",
       "      <td>54</td>\n",
       "      <td>Denmark</td>\n",
       "      <td>5510</td>\n",
       "      <td>Production</td>\n",
       "      <td>1017</td>\n",
       "      <td>Meat, goat</td>\n",
       "      <td>2018</td>\n",
       "      <td>2018</td>\n",
       "      <td>tonnes</td>\n",
       "      <td>0.0</td>\n",
       "      <td>NaN</td>\n",
       "      <td>Official data</td>\n",
       "    </tr>\n",
       "    <tr>\n",
       "      <th>884</th>\n",
       "      <td>QCL</td>\n",
       "      <td>Crops and livestock products</td>\n",
       "      <td>54</td>\n",
       "      <td>Denmark</td>\n",
       "      <td>5510</td>\n",
       "      <td>Production</td>\n",
       "      <td>1017</td>\n",
       "      <td>Meat, goat</td>\n",
       "      <td>2019</td>\n",
       "      <td>2019</td>\n",
       "      <td>tonnes</td>\n",
       "      <td>0.0</td>\n",
       "      <td>NaN</td>\n",
       "      <td>Official data</td>\n",
       "    </tr>\n",
       "    <tr>\n",
       "      <th>885</th>\n",
       "      <td>QCL</td>\n",
       "      <td>Crops and livestock products</td>\n",
       "      <td>54</td>\n",
       "      <td>Denmark</td>\n",
       "      <td>5510</td>\n",
       "      <td>Production</td>\n",
       "      <td>1017</td>\n",
       "      <td>Meat, goat</td>\n",
       "      <td>2020</td>\n",
       "      <td>2020</td>\n",
       "      <td>tonnes</td>\n",
       "      <td>0.0</td>\n",
       "      <td>NaN</td>\n",
       "      <td>Official data</td>\n",
       "    </tr>\n",
       "    <tr>\n",
       "      <th>1151</th>\n",
       "      <td>QCL</td>\n",
       "      <td>Crops and livestock products</td>\n",
       "      <td>54</td>\n",
       "      <td>Denmark</td>\n",
       "      <td>5510</td>\n",
       "      <td>Production</td>\n",
       "      <td>1080</td>\n",
       "      <td>Meat, turkey</td>\n",
       "      <td>2018</td>\n",
       "      <td>2018</td>\n",
       "      <td>tonnes</td>\n",
       "      <td>0.0</td>\n",
       "      <td>NaN</td>\n",
       "      <td>Official data</td>\n",
       "    </tr>\n",
       "    <tr>\n",
       "      <th>1152</th>\n",
       "      <td>QCL</td>\n",
       "      <td>Crops and livestock products</td>\n",
       "      <td>54</td>\n",
       "      <td>Denmark</td>\n",
       "      <td>5510</td>\n",
       "      <td>Production</td>\n",
       "      <td>1080</td>\n",
       "      <td>Meat, turkey</td>\n",
       "      <td>2019</td>\n",
       "      <td>2019</td>\n",
       "      <td>tonnes</td>\n",
       "      <td>0.0</td>\n",
       "      <td>NaN</td>\n",
       "      <td>Official data</td>\n",
       "    </tr>\n",
       "    <tr>\n",
       "      <th>1153</th>\n",
       "      <td>QCL</td>\n",
       "      <td>Crops and livestock products</td>\n",
       "      <td>54</td>\n",
       "      <td>Denmark</td>\n",
       "      <td>5510</td>\n",
       "      <td>Production</td>\n",
       "      <td>1080</td>\n",
       "      <td>Meat, turkey</td>\n",
       "      <td>2020</td>\n",
       "      <td>2020</td>\n",
       "      <td>tonnes</td>\n",
       "      <td>0.0</td>\n",
       "      <td>NaN</td>\n",
       "      <td>Official data</td>\n",
       "    </tr>\n",
       "    <tr>\n",
       "      <th>1862</th>\n",
       "      <td>QCL</td>\n",
       "      <td>Crops and livestock products</td>\n",
       "      <td>79</td>\n",
       "      <td>Germany</td>\n",
       "      <td>5510</td>\n",
       "      <td>Production</td>\n",
       "      <td>1017</td>\n",
       "      <td>Meat, goat</td>\n",
       "      <td>2018</td>\n",
       "      <td>2018</td>\n",
       "      <td>tonnes</td>\n",
       "      <td>0.0</td>\n",
       "      <td>NaN</td>\n",
       "      <td>Official data</td>\n",
       "    </tr>\n",
       "    <tr>\n",
       "      <th>1863</th>\n",
       "      <td>QCL</td>\n",
       "      <td>Crops and livestock products</td>\n",
       "      <td>79</td>\n",
       "      <td>Germany</td>\n",
       "      <td>5510</td>\n",
       "      <td>Production</td>\n",
       "      <td>1017</td>\n",
       "      <td>Meat, goat</td>\n",
       "      <td>2019</td>\n",
       "      <td>2019</td>\n",
       "      <td>tonnes</td>\n",
       "      <td>0.0</td>\n",
       "      <td>NaN</td>\n",
       "      <td>Official data</td>\n",
       "    </tr>\n",
       "    <tr>\n",
       "      <th>1864</th>\n",
       "      <td>QCL</td>\n",
       "      <td>Crops and livestock products</td>\n",
       "      <td>79</td>\n",
       "      <td>Germany</td>\n",
       "      <td>5510</td>\n",
       "      <td>Production</td>\n",
       "      <td>1017</td>\n",
       "      <td>Meat, goat</td>\n",
       "      <td>2020</td>\n",
       "      <td>2020</td>\n",
       "      <td>tonnes</td>\n",
       "      <td>0.0</td>\n",
       "      <td>NaN</td>\n",
       "      <td>Official data</td>\n",
       "    </tr>\n",
       "    <tr>\n",
       "      <th>2293</th>\n",
       "      <td>QCL</td>\n",
       "      <td>Crops and livestock products</td>\n",
       "      <td>104</td>\n",
       "      <td>Ireland</td>\n",
       "      <td>5510</td>\n",
       "      <td>Production</td>\n",
       "      <td>1017</td>\n",
       "      <td>Meat, goat</td>\n",
       "      <td>2018</td>\n",
       "      <td>2018</td>\n",
       "      <td>tonnes</td>\n",
       "      <td>0.0</td>\n",
       "      <td>NaN</td>\n",
       "      <td>Official data</td>\n",
       "    </tr>\n",
       "    <tr>\n",
       "      <th>2294</th>\n",
       "      <td>QCL</td>\n",
       "      <td>Crops and livestock products</td>\n",
       "      <td>104</td>\n",
       "      <td>Ireland</td>\n",
       "      <td>5510</td>\n",
       "      <td>Production</td>\n",
       "      <td>1017</td>\n",
       "      <td>Meat, goat</td>\n",
       "      <td>2019</td>\n",
       "      <td>2019</td>\n",
       "      <td>tonnes</td>\n",
       "      <td>0.0</td>\n",
       "      <td>NaN</td>\n",
       "      <td>Official data</td>\n",
       "    </tr>\n",
       "    <tr>\n",
       "      <th>2295</th>\n",
       "      <td>QCL</td>\n",
       "      <td>Crops and livestock products</td>\n",
       "      <td>104</td>\n",
       "      <td>Ireland</td>\n",
       "      <td>5510</td>\n",
       "      <td>Production</td>\n",
       "      <td>1017</td>\n",
       "      <td>Meat, goat</td>\n",
       "      <td>2020</td>\n",
       "      <td>2020</td>\n",
       "      <td>tonnes</td>\n",
       "      <td>0.0</td>\n",
       "      <td>NaN</td>\n",
       "      <td>Official data</td>\n",
       "    </tr>\n",
       "    <tr>\n",
       "      <th>2987</th>\n",
       "      <td>QCL</td>\n",
       "      <td>Crops and livestock products</td>\n",
       "      <td>256</td>\n",
       "      <td>Luxembourg</td>\n",
       "      <td>5510</td>\n",
       "      <td>Production</td>\n",
       "      <td>1058</td>\n",
       "      <td>Meat, chicken</td>\n",
       "      <td>2018</td>\n",
       "      <td>2018</td>\n",
       "      <td>tonnes</td>\n",
       "      <td>0.0</td>\n",
       "      <td>NaN</td>\n",
       "      <td>Official data</td>\n",
       "    </tr>\n",
       "    <tr>\n",
       "      <th>2988</th>\n",
       "      <td>QCL</td>\n",
       "      <td>Crops and livestock products</td>\n",
       "      <td>256</td>\n",
       "      <td>Luxembourg</td>\n",
       "      <td>5510</td>\n",
       "      <td>Production</td>\n",
       "      <td>1058</td>\n",
       "      <td>Meat, chicken</td>\n",
       "      <td>2019</td>\n",
       "      <td>2019</td>\n",
       "      <td>tonnes</td>\n",
       "      <td>0.0</td>\n",
       "      <td>NaN</td>\n",
       "      <td>Official data</td>\n",
       "    </tr>\n",
       "    <tr>\n",
       "      <th>2989</th>\n",
       "      <td>QCL</td>\n",
       "      <td>Crops and livestock products</td>\n",
       "      <td>256</td>\n",
       "      <td>Luxembourg</td>\n",
       "      <td>5510</td>\n",
       "      <td>Production</td>\n",
       "      <td>1058</td>\n",
       "      <td>Meat, chicken</td>\n",
       "      <td>2020</td>\n",
       "      <td>2020</td>\n",
       "      <td>tonnes</td>\n",
       "      <td>0.0</td>\n",
       "      <td>NaN</td>\n",
       "      <td>Official data</td>\n",
       "    </tr>\n",
       "    <tr>\n",
       "      <th>2990</th>\n",
       "      <td>QCL</td>\n",
       "      <td>Crops and livestock products</td>\n",
       "      <td>256</td>\n",
       "      <td>Luxembourg</td>\n",
       "      <td>5510</td>\n",
       "      <td>Production</td>\n",
       "      <td>1069</td>\n",
       "      <td>Meat, duck</td>\n",
       "      <td>2018</td>\n",
       "      <td>2018</td>\n",
       "      <td>tonnes</td>\n",
       "      <td>0.0</td>\n",
       "      <td>NaN</td>\n",
       "      <td>Official data</td>\n",
       "    </tr>\n",
       "    <tr>\n",
       "      <th>2991</th>\n",
       "      <td>QCL</td>\n",
       "      <td>Crops and livestock products</td>\n",
       "      <td>256</td>\n",
       "      <td>Luxembourg</td>\n",
       "      <td>5510</td>\n",
       "      <td>Production</td>\n",
       "      <td>1069</td>\n",
       "      <td>Meat, duck</td>\n",
       "      <td>2019</td>\n",
       "      <td>2019</td>\n",
       "      <td>tonnes</td>\n",
       "      <td>0.0</td>\n",
       "      <td>NaN</td>\n",
       "      <td>Official data</td>\n",
       "    </tr>\n",
       "    <tr>\n",
       "      <th>2992</th>\n",
       "      <td>QCL</td>\n",
       "      <td>Crops and livestock products</td>\n",
       "      <td>256</td>\n",
       "      <td>Luxembourg</td>\n",
       "      <td>5510</td>\n",
       "      <td>Production</td>\n",
       "      <td>1069</td>\n",
       "      <td>Meat, duck</td>\n",
       "      <td>2020</td>\n",
       "      <td>2020</td>\n",
       "      <td>tonnes</td>\n",
       "      <td>0.0</td>\n",
       "      <td>NaN</td>\n",
       "      <td>Official data</td>\n",
       "    </tr>\n",
       "    <tr>\n",
       "      <th>3012</th>\n",
       "      <td>QCL</td>\n",
       "      <td>Crops and livestock products</td>\n",
       "      <td>256</td>\n",
       "      <td>Luxembourg</td>\n",
       "      <td>5510</td>\n",
       "      <td>Production</td>\n",
       "      <td>1017</td>\n",
       "      <td>Meat, goat</td>\n",
       "      <td>2000</td>\n",
       "      <td>2000</td>\n",
       "      <td>tonnes</td>\n",
       "      <td>0.0</td>\n",
       "      <td>NaN</td>\n",
       "      <td>Official data</td>\n",
       "    </tr>\n",
       "    <tr>\n",
       "      <th>3013</th>\n",
       "      <td>QCL</td>\n",
       "      <td>Crops and livestock products</td>\n",
       "      <td>256</td>\n",
       "      <td>Luxembourg</td>\n",
       "      <td>5510</td>\n",
       "      <td>Production</td>\n",
       "      <td>1017</td>\n",
       "      <td>Meat, goat</td>\n",
       "      <td>2001</td>\n",
       "      <td>2001</td>\n",
       "      <td>tonnes</td>\n",
       "      <td>0.0</td>\n",
       "      <td>NaN</td>\n",
       "      <td>Official data</td>\n",
       "    </tr>\n",
       "    <tr>\n",
       "      <th>3030</th>\n",
       "      <td>QCL</td>\n",
       "      <td>Crops and livestock products</td>\n",
       "      <td>256</td>\n",
       "      <td>Luxembourg</td>\n",
       "      <td>5510</td>\n",
       "      <td>Production</td>\n",
       "      <td>1017</td>\n",
       "      <td>Meat, goat</td>\n",
       "      <td>2018</td>\n",
       "      <td>2018</td>\n",
       "      <td>tonnes</td>\n",
       "      <td>0.0</td>\n",
       "      <td>NaN</td>\n",
       "      <td>Official data</td>\n",
       "    </tr>\n",
       "    <tr>\n",
       "      <th>3031</th>\n",
       "      <td>QCL</td>\n",
       "      <td>Crops and livestock products</td>\n",
       "      <td>256</td>\n",
       "      <td>Luxembourg</td>\n",
       "      <td>5510</td>\n",
       "      <td>Production</td>\n",
       "      <td>1017</td>\n",
       "      <td>Meat, goat</td>\n",
       "      <td>2019</td>\n",
       "      <td>2019</td>\n",
       "      <td>tonnes</td>\n",
       "      <td>0.0</td>\n",
       "      <td>NaN</td>\n",
       "      <td>Official data</td>\n",
       "    </tr>\n",
       "    <tr>\n",
       "      <th>3032</th>\n",
       "      <td>QCL</td>\n",
       "      <td>Crops and livestock products</td>\n",
       "      <td>256</td>\n",
       "      <td>Luxembourg</td>\n",
       "      <td>5510</td>\n",
       "      <td>Production</td>\n",
       "      <td>1017</td>\n",
       "      <td>Meat, goat</td>\n",
       "      <td>2020</td>\n",
       "      <td>2020</td>\n",
       "      <td>tonnes</td>\n",
       "      <td>0.0</td>\n",
       "      <td>NaN</td>\n",
       "      <td>Official data</td>\n",
       "    </tr>\n",
       "    <tr>\n",
       "      <th>3034</th>\n",
       "      <td>QCL</td>\n",
       "      <td>Crops and livestock products</td>\n",
       "      <td>256</td>\n",
       "      <td>Luxembourg</td>\n",
       "      <td>5510</td>\n",
       "      <td>Production</td>\n",
       "      <td>1097</td>\n",
       "      <td>Meat, horse</td>\n",
       "      <td>2001</td>\n",
       "      <td>2001</td>\n",
       "      <td>tonnes</td>\n",
       "      <td>0.0</td>\n",
       "      <td>NaN</td>\n",
       "      <td>Official data</td>\n",
       "    </tr>\n",
       "    <tr>\n",
       "      <th>3114</th>\n",
       "      <td>QCL</td>\n",
       "      <td>Crops and livestock products</td>\n",
       "      <td>256</td>\n",
       "      <td>Luxembourg</td>\n",
       "      <td>5510</td>\n",
       "      <td>Production</td>\n",
       "      <td>1080</td>\n",
       "      <td>Meat, turkey</td>\n",
       "      <td>2018</td>\n",
       "      <td>2018</td>\n",
       "      <td>tonnes</td>\n",
       "      <td>0.0</td>\n",
       "      <td>NaN</td>\n",
       "      <td>Official data</td>\n",
       "    </tr>\n",
       "    <tr>\n",
       "      <th>3115</th>\n",
       "      <td>QCL</td>\n",
       "      <td>Crops and livestock products</td>\n",
       "      <td>256</td>\n",
       "      <td>Luxembourg</td>\n",
       "      <td>5510</td>\n",
       "      <td>Production</td>\n",
       "      <td>1080</td>\n",
       "      <td>Meat, turkey</td>\n",
       "      <td>2019</td>\n",
       "      <td>2019</td>\n",
       "      <td>tonnes</td>\n",
       "      <td>0.0</td>\n",
       "      <td>NaN</td>\n",
       "      <td>Official data</td>\n",
       "    </tr>\n",
       "    <tr>\n",
       "      <th>3116</th>\n",
       "      <td>QCL</td>\n",
       "      <td>Crops and livestock products</td>\n",
       "      <td>256</td>\n",
       "      <td>Luxembourg</td>\n",
       "      <td>5510</td>\n",
       "      <td>Production</td>\n",
       "      <td>1080</td>\n",
       "      <td>Meat, turkey</td>\n",
       "      <td>2020</td>\n",
       "      <td>2020</td>\n",
       "      <td>tonnes</td>\n",
       "      <td>0.0</td>\n",
       "      <td>NaN</td>\n",
       "      <td>Official data</td>\n",
       "    </tr>\n",
       "    <tr>\n",
       "      <th>3261</th>\n",
       "      <td>QCL</td>\n",
       "      <td>Crops and livestock products</td>\n",
       "      <td>150</td>\n",
       "      <td>Netherlands</td>\n",
       "      <td>5510</td>\n",
       "      <td>Production</td>\n",
       "      <td>1163</td>\n",
       "      <td>Meat, game</td>\n",
       "      <td>1986</td>\n",
       "      <td>1986</td>\n",
       "      <td>tonnes</td>\n",
       "      <td>0.0</td>\n",
       "      <td>F</td>\n",
       "      <td>FAO estimate</td>\n",
       "    </tr>\n",
       "    <tr>\n",
       "      <th>3279</th>\n",
       "      <td>QCL</td>\n",
       "      <td>Crops and livestock products</td>\n",
       "      <td>150</td>\n",
       "      <td>Netherlands</td>\n",
       "      <td>5510</td>\n",
       "      <td>Production</td>\n",
       "      <td>1163</td>\n",
       "      <td>Meat, game</td>\n",
       "      <td>2005</td>\n",
       "      <td>2005</td>\n",
       "      <td>tonnes</td>\n",
       "      <td>0.0</td>\n",
       "      <td>F</td>\n",
       "      <td>FAO estimate</td>\n",
       "    </tr>\n",
       "    <tr>\n",
       "      <th>3523</th>\n",
       "      <td>QCL</td>\n",
       "      <td>Crops and livestock products</td>\n",
       "      <td>150</td>\n",
       "      <td>Netherlands</td>\n",
       "      <td>5510</td>\n",
       "      <td>Production</td>\n",
       "      <td>1080</td>\n",
       "      <td>Meat, turkey</td>\n",
       "      <td>2018</td>\n",
       "      <td>2018</td>\n",
       "      <td>tonnes</td>\n",
       "      <td>0.0</td>\n",
       "      <td>NaN</td>\n",
       "      <td>Official data</td>\n",
       "    </tr>\n",
       "    <tr>\n",
       "      <th>3524</th>\n",
       "      <td>QCL</td>\n",
       "      <td>Crops and livestock products</td>\n",
       "      <td>150</td>\n",
       "      <td>Netherlands</td>\n",
       "      <td>5510</td>\n",
       "      <td>Production</td>\n",
       "      <td>1080</td>\n",
       "      <td>Meat, turkey</td>\n",
       "      <td>2019</td>\n",
       "      <td>2019</td>\n",
       "      <td>tonnes</td>\n",
       "      <td>0.0</td>\n",
       "      <td>NaN</td>\n",
       "      <td>Official data</td>\n",
       "    </tr>\n",
       "    <tr>\n",
       "      <th>3525</th>\n",
       "      <td>QCL</td>\n",
       "      <td>Crops and livestock products</td>\n",
       "      <td>150</td>\n",
       "      <td>Netherlands</td>\n",
       "      <td>5510</td>\n",
       "      <td>Production</td>\n",
       "      <td>1080</td>\n",
       "      <td>Meat, turkey</td>\n",
       "      <td>2020</td>\n",
       "      <td>2020</td>\n",
       "      <td>tonnes</td>\n",
       "      <td>0.0</td>\n",
       "      <td>NaN</td>\n",
       "      <td>Official data</td>\n",
       "    </tr>\n",
       "  </tbody>\n",
       "</table>\n",
       "</div>"
      ],
      "text/plain": [
       "     Domain Code                        Domain  Area Code (FAO)         Area  \\\n",
       "883          QCL  Crops and livestock products               54      Denmark   \n",
       "884          QCL  Crops and livestock products               54      Denmark   \n",
       "885          QCL  Crops and livestock products               54      Denmark   \n",
       "1151         QCL  Crops and livestock products               54      Denmark   \n",
       "1152         QCL  Crops and livestock products               54      Denmark   \n",
       "1153         QCL  Crops and livestock products               54      Denmark   \n",
       "1862         QCL  Crops and livestock products               79      Germany   \n",
       "1863         QCL  Crops and livestock products               79      Germany   \n",
       "1864         QCL  Crops and livestock products               79      Germany   \n",
       "2293         QCL  Crops and livestock products              104      Ireland   \n",
       "2294         QCL  Crops and livestock products              104      Ireland   \n",
       "2295         QCL  Crops and livestock products              104      Ireland   \n",
       "2987         QCL  Crops and livestock products              256   Luxembourg   \n",
       "2988         QCL  Crops and livestock products              256   Luxembourg   \n",
       "2989         QCL  Crops and livestock products              256   Luxembourg   \n",
       "2990         QCL  Crops and livestock products              256   Luxembourg   \n",
       "2991         QCL  Crops and livestock products              256   Luxembourg   \n",
       "2992         QCL  Crops and livestock products              256   Luxembourg   \n",
       "3012         QCL  Crops and livestock products              256   Luxembourg   \n",
       "3013         QCL  Crops and livestock products              256   Luxembourg   \n",
       "3030         QCL  Crops and livestock products              256   Luxembourg   \n",
       "3031         QCL  Crops and livestock products              256   Luxembourg   \n",
       "3032         QCL  Crops and livestock products              256   Luxembourg   \n",
       "3034         QCL  Crops and livestock products              256   Luxembourg   \n",
       "3114         QCL  Crops and livestock products              256   Luxembourg   \n",
       "3115         QCL  Crops and livestock products              256   Luxembourg   \n",
       "3116         QCL  Crops and livestock products              256   Luxembourg   \n",
       "3261         QCL  Crops and livestock products              150  Netherlands   \n",
       "3279         QCL  Crops and livestock products              150  Netherlands   \n",
       "3523         QCL  Crops and livestock products              150  Netherlands   \n",
       "3524         QCL  Crops and livestock products              150  Netherlands   \n",
       "3525         QCL  Crops and livestock products              150  Netherlands   \n",
       "\n",
       "      Element Code     Element  Item Code (FAO)           Item  Year Code  \\\n",
       "883           5510  Production             1017     Meat, goat       2018   \n",
       "884           5510  Production             1017     Meat, goat       2019   \n",
       "885           5510  Production             1017     Meat, goat       2020   \n",
       "1151          5510  Production             1080   Meat, turkey       2018   \n",
       "1152          5510  Production             1080   Meat, turkey       2019   \n",
       "1153          5510  Production             1080   Meat, turkey       2020   \n",
       "1862          5510  Production             1017     Meat, goat       2018   \n",
       "1863          5510  Production             1017     Meat, goat       2019   \n",
       "1864          5510  Production             1017     Meat, goat       2020   \n",
       "2293          5510  Production             1017     Meat, goat       2018   \n",
       "2294          5510  Production             1017     Meat, goat       2019   \n",
       "2295          5510  Production             1017     Meat, goat       2020   \n",
       "2987          5510  Production             1058  Meat, chicken       2018   \n",
       "2988          5510  Production             1058  Meat, chicken       2019   \n",
       "2989          5510  Production             1058  Meat, chicken       2020   \n",
       "2990          5510  Production             1069     Meat, duck       2018   \n",
       "2991          5510  Production             1069     Meat, duck       2019   \n",
       "2992          5510  Production             1069     Meat, duck       2020   \n",
       "3012          5510  Production             1017     Meat, goat       2000   \n",
       "3013          5510  Production             1017     Meat, goat       2001   \n",
       "3030          5510  Production             1017     Meat, goat       2018   \n",
       "3031          5510  Production             1017     Meat, goat       2019   \n",
       "3032          5510  Production             1017     Meat, goat       2020   \n",
       "3034          5510  Production             1097    Meat, horse       2001   \n",
       "3114          5510  Production             1080   Meat, turkey       2018   \n",
       "3115          5510  Production             1080   Meat, turkey       2019   \n",
       "3116          5510  Production             1080   Meat, turkey       2020   \n",
       "3261          5510  Production             1163     Meat, game       1986   \n",
       "3279          5510  Production             1163     Meat, game       2005   \n",
       "3523          5510  Production             1080   Meat, turkey       2018   \n",
       "3524          5510  Production             1080   Meat, turkey       2019   \n",
       "3525          5510  Production             1080   Meat, turkey       2020   \n",
       "\n",
       "      Year    Unit  Value Flag Flag Description  \n",
       "883   2018  tonnes    0.0  NaN    Official data  \n",
       "884   2019  tonnes    0.0  NaN    Official data  \n",
       "885   2020  tonnes    0.0  NaN    Official data  \n",
       "1151  2018  tonnes    0.0  NaN    Official data  \n",
       "1152  2019  tonnes    0.0  NaN    Official data  \n",
       "1153  2020  tonnes    0.0  NaN    Official data  \n",
       "1862  2018  tonnes    0.0  NaN    Official data  \n",
       "1863  2019  tonnes    0.0  NaN    Official data  \n",
       "1864  2020  tonnes    0.0  NaN    Official data  \n",
       "2293  2018  tonnes    0.0  NaN    Official data  \n",
       "2294  2019  tonnes    0.0  NaN    Official data  \n",
       "2295  2020  tonnes    0.0  NaN    Official data  \n",
       "2987  2018  tonnes    0.0  NaN    Official data  \n",
       "2988  2019  tonnes    0.0  NaN    Official data  \n",
       "2989  2020  tonnes    0.0  NaN    Official data  \n",
       "2990  2018  tonnes    0.0  NaN    Official data  \n",
       "2991  2019  tonnes    0.0  NaN    Official data  \n",
       "2992  2020  tonnes    0.0  NaN    Official data  \n",
       "3012  2000  tonnes    0.0  NaN    Official data  \n",
       "3013  2001  tonnes    0.0  NaN    Official data  \n",
       "3030  2018  tonnes    0.0  NaN    Official data  \n",
       "3031  2019  tonnes    0.0  NaN    Official data  \n",
       "3032  2020  tonnes    0.0  NaN    Official data  \n",
       "3034  2001  tonnes    0.0  NaN    Official data  \n",
       "3114  2018  tonnes    0.0  NaN    Official data  \n",
       "3115  2019  tonnes    0.0  NaN    Official data  \n",
       "3116  2020  tonnes    0.0  NaN    Official data  \n",
       "3261  1986  tonnes    0.0    F     FAO estimate  \n",
       "3279  2005  tonnes    0.0    F     FAO estimate  \n",
       "3523  2018  tonnes    0.0  NaN    Official data  \n",
       "3524  2019  tonnes    0.0  NaN    Official data  \n",
       "3525  2020  tonnes    0.0  NaN    Official data  "
      ]
     },
     "execution_count": 35,
     "metadata": {},
     "output_type": "execute_result"
    }
   ],
   "source": [
    "meat_miss.head(50)"
   ]
  },
  {
   "cell_type": "code",
   "execution_count": 36,
   "id": "3c2fcb33",
   "metadata": {
    "ExecuteTime": {
     "end_time": "2022-05-04T14:23:25.402357Z",
     "start_time": "2022-05-04T14:23:25.387351Z"
    }
   },
   "outputs": [
    {
     "data": {
      "text/plain": [
       "array(['Meat, goat', 'Meat, turkey', 'Meat, chicken', 'Meat, duck',\n",
       "       'Meat, horse', 'Meat, game'], dtype=object)"
      ]
     },
     "execution_count": 36,
     "metadata": {},
     "output_type": "execute_result"
    }
   ],
   "source": [
    "# Investigating if the missing data is at random or not at random by checking if it's specific animal categories or not\n",
    "meat_miss.Item.unique()"
   ]
  },
  {
   "cell_type": "code",
   "execution_count": 37,
   "id": "3cb228a8",
   "metadata": {
    "ExecuteTime": {
     "end_time": "2022-05-04T14:23:25.417360Z",
     "start_time": "2022-05-04T14:23:25.403349Z"
    }
   },
   "outputs": [
    {
     "data": {
      "text/plain": [
       "array([0.])"
      ]
     },
     "execution_count": 37,
     "metadata": {},
     "output_type": "execute_result"
    }
   ],
   "source": [
    "meat_miss.Value.unique()"
   ]
  },
  {
   "cell_type": "code",
   "execution_count": 38,
   "id": "f7dae286",
   "metadata": {
    "ExecuteTime": {
     "end_time": "2022-05-04T14:23:25.433358Z",
     "start_time": "2022-05-04T14:23:25.418364Z"
    }
   },
   "outputs": [
    {
     "data": {
      "text/plain": [
       "array(['Denmark', 'Germany', 'Ireland', 'Luxembourg', 'Netherlands'],\n",
       "      dtype=object)"
      ]
     },
     "execution_count": 38,
     "metadata": {},
     "output_type": "execute_result"
    }
   ],
   "source": [
    "# Investigating if the missing data is at random or not at random by checking if it's specific country's or not\n",
    "meat_miss.Area.unique()"
   ]
  },
  {
   "cell_type": "code",
   "execution_count": 39,
   "id": "8c1a94e3",
   "metadata": {
    "ExecuteTime": {
     "end_time": "2022-05-04T14:23:25.448358Z",
     "start_time": "2022-05-04T14:23:25.434353Z"
    }
   },
   "outputs": [
    {
     "data": {
      "text/plain": [
       "array([2018, 2019, 2020, 2000, 2001, 1986, 2005], dtype=int64)"
      ]
     },
     "execution_count": 39,
     "metadata": {},
     "output_type": "execute_result"
    }
   ],
   "source": [
    "meat_miss.Year.unique()"
   ]
  },
  {
   "cell_type": "markdown",
   "id": "10d6dd8b",
   "metadata": {},
   "source": [
    "This shows that the missing data is NOT at random, certain countries did not submit data for certain animal categories on certain years. I will deal with this during data preparation.\n",
    "\n",
    "In addition, it shows that the missing categories and years are similar to the Slaughter data. There may have been no requirement to report for these categories on these years."
   ]
  },
  {
   "cell_type": "markdown",
   "id": "0f741575",
   "metadata": {},
   "source": [
    "## Livestock stocking data"
   ]
  },
  {
   "cell_type": "code",
   "execution_count": 40,
   "id": "c7ee51bb",
   "metadata": {
    "ExecuteTime": {
     "end_time": "2022-05-04T14:23:25.464357Z",
     "start_time": "2022-05-04T14:23:25.449348Z"
    }
   },
   "outputs": [
    {
     "data": {
      "text/html": [
       "<div>\n",
       "<style scoped>\n",
       "    .dataframe tbody tr th:only-of-type {\n",
       "        vertical-align: middle;\n",
       "    }\n",
       "\n",
       "    .dataframe tbody tr th {\n",
       "        vertical-align: top;\n",
       "    }\n",
       "\n",
       "    .dataframe thead th {\n",
       "        text-align: right;\n",
       "    }\n",
       "</style>\n",
       "<table border=\"1\" class=\"dataframe\">\n",
       "  <thead>\n",
       "    <tr style=\"text-align: right;\">\n",
       "      <th></th>\n",
       "      <th>Domain Code</th>\n",
       "      <th>Domain</th>\n",
       "      <th>Area Code (FAO)</th>\n",
       "      <th>Area</th>\n",
       "      <th>Element Code</th>\n",
       "      <th>Element</th>\n",
       "      <th>Item Code (FAO)</th>\n",
       "      <th>Item</th>\n",
       "      <th>Year Code</th>\n",
       "      <th>Year</th>\n",
       "      <th>Unit</th>\n",
       "      <th>Value</th>\n",
       "      <th>Flag</th>\n",
       "      <th>Flag Description</th>\n",
       "    </tr>\n",
       "  </thead>\n",
       "  <tbody>\n",
       "    <tr>\n",
       "      <th>0</th>\n",
       "      <td>QCL</td>\n",
       "      <td>Crops and livestock products</td>\n",
       "      <td>255</td>\n",
       "      <td>Belgium</td>\n",
       "      <td>5111</td>\n",
       "      <td>Stocks</td>\n",
       "      <td>866</td>\n",
       "      <td>Cattle</td>\n",
       "      <td>2000</td>\n",
       "      <td>2000</td>\n",
       "      <td>Head</td>\n",
       "      <td>3041560.0</td>\n",
       "      <td>NaN</td>\n",
       "      <td>Official data</td>\n",
       "    </tr>\n",
       "    <tr>\n",
       "      <th>1</th>\n",
       "      <td>QCL</td>\n",
       "      <td>Crops and livestock products</td>\n",
       "      <td>255</td>\n",
       "      <td>Belgium</td>\n",
       "      <td>5111</td>\n",
       "      <td>Stocks</td>\n",
       "      <td>866</td>\n",
       "      <td>Cattle</td>\n",
       "      <td>2001</td>\n",
       "      <td>2001</td>\n",
       "      <td>Head</td>\n",
       "      <td>3037760.0</td>\n",
       "      <td>NaN</td>\n",
       "      <td>Official data</td>\n",
       "    </tr>\n",
       "    <tr>\n",
       "      <th>2</th>\n",
       "      <td>QCL</td>\n",
       "      <td>Crops and livestock products</td>\n",
       "      <td>255</td>\n",
       "      <td>Belgium</td>\n",
       "      <td>5111</td>\n",
       "      <td>Stocks</td>\n",
       "      <td>866</td>\n",
       "      <td>Cattle</td>\n",
       "      <td>2002</td>\n",
       "      <td>2002</td>\n",
       "      <td>Head</td>\n",
       "      <td>2891260.0</td>\n",
       "      <td>NaN</td>\n",
       "      <td>Official data</td>\n",
       "    </tr>\n",
       "    <tr>\n",
       "      <th>3</th>\n",
       "      <td>QCL</td>\n",
       "      <td>Crops and livestock products</td>\n",
       "      <td>255</td>\n",
       "      <td>Belgium</td>\n",
       "      <td>5111</td>\n",
       "      <td>Stocks</td>\n",
       "      <td>866</td>\n",
       "      <td>Cattle</td>\n",
       "      <td>2003</td>\n",
       "      <td>2003</td>\n",
       "      <td>Head</td>\n",
       "      <td>2778077.0</td>\n",
       "      <td>NaN</td>\n",
       "      <td>Official data</td>\n",
       "    </tr>\n",
       "    <tr>\n",
       "      <th>4</th>\n",
       "      <td>QCL</td>\n",
       "      <td>Crops and livestock products</td>\n",
       "      <td>255</td>\n",
       "      <td>Belgium</td>\n",
       "      <td>5111</td>\n",
       "      <td>Stocks</td>\n",
       "      <td>866</td>\n",
       "      <td>Cattle</td>\n",
       "      <td>2004</td>\n",
       "      <td>2004</td>\n",
       "      <td>Head</td>\n",
       "      <td>2738648.0</td>\n",
       "      <td>NaN</td>\n",
       "      <td>Official data</td>\n",
       "    </tr>\n",
       "  </tbody>\n",
       "</table>\n",
       "</div>"
      ],
      "text/plain": [
       "  Domain Code                        Domain  Area Code (FAO)     Area  \\\n",
       "0         QCL  Crops and livestock products              255  Belgium   \n",
       "1         QCL  Crops and livestock products              255  Belgium   \n",
       "2         QCL  Crops and livestock products              255  Belgium   \n",
       "3         QCL  Crops and livestock products              255  Belgium   \n",
       "4         QCL  Crops and livestock products              255  Belgium   \n",
       "\n",
       "   Element Code Element  Item Code (FAO)    Item  Year Code  Year  Unit  \\\n",
       "0          5111  Stocks              866  Cattle       2000  2000  Head   \n",
       "1          5111  Stocks              866  Cattle       2001  2001  Head   \n",
       "2          5111  Stocks              866  Cattle       2002  2002  Head   \n",
       "3          5111  Stocks              866  Cattle       2003  2003  Head   \n",
       "4          5111  Stocks              866  Cattle       2004  2004  Head   \n",
       "\n",
       "       Value Flag Flag Description  \n",
       "0  3041560.0  NaN    Official data  \n",
       "1  3037760.0  NaN    Official data  \n",
       "2  2891260.0  NaN    Official data  \n",
       "3  2778077.0  NaN    Official data  \n",
       "4  2738648.0  NaN    Official data  "
      ]
     },
     "execution_count": 40,
     "metadata": {},
     "output_type": "execute_result"
    }
   ],
   "source": [
    "stock.head()"
   ]
  },
  {
   "cell_type": "code",
   "execution_count": 41,
   "id": "04aaaf0c",
   "metadata": {
    "ExecuteTime": {
     "end_time": "2022-05-04T14:23:25.480358Z",
     "start_time": "2022-05-04T14:23:25.465349Z"
    }
   },
   "outputs": [
    {
     "data": {
      "text/plain": [
       "(3735, 14)"
      ]
     },
     "execution_count": 41,
     "metadata": {},
     "output_type": "execute_result"
    }
   ],
   "source": [
    "stock.shape"
   ]
  },
  {
   "cell_type": "code",
   "execution_count": 42,
   "id": "0e156f5d",
   "metadata": {
    "ExecuteTime": {
     "end_time": "2022-05-04T14:23:25.496357Z",
     "start_time": "2022-05-04T14:23:25.481349Z"
    }
   },
   "outputs": [
    {
     "name": "stdout",
     "output_type": "stream",
     "text": [
      "<class 'pandas.core.frame.DataFrame'>\n",
      "RangeIndex: 3735 entries, 0 to 3734\n",
      "Data columns (total 14 columns):\n",
      " #   Column            Non-Null Count  Dtype  \n",
      "---  ------            --------------  -----  \n",
      " 0   Domain Code       3735 non-null   object \n",
      " 1   Domain            3735 non-null   object \n",
      " 2   Area Code (FAO)   3735 non-null   int64  \n",
      " 3   Area              3735 non-null   object \n",
      " 4   Element Code      3735 non-null   int64  \n",
      " 5   Element           3735 non-null   object \n",
      " 6   Item Code (FAO)   3735 non-null   int64  \n",
      " 7   Item              3735 non-null   object \n",
      " 8   Year Code         3735 non-null   int64  \n",
      " 9   Year              3735 non-null   int64  \n",
      " 10  Unit              3735 non-null   object \n",
      " 11  Value             3670 non-null   float64\n",
      " 12  Flag              1103 non-null   object \n",
      " 13  Flag Description  3735 non-null   object \n",
      "dtypes: float64(1), int64(5), object(8)\n",
      "memory usage: 408.6+ KB\n"
     ]
    }
   ],
   "source": [
    "stock.info()"
   ]
  },
  {
   "cell_type": "code",
   "execution_count": 43,
   "id": "a0d6bfca",
   "metadata": {
    "ExecuteTime": {
     "end_time": "2022-05-04T14:23:25.512359Z",
     "start_time": "2022-05-04T14:23:25.497349Z"
    }
   },
   "outputs": [
    {
     "data": {
      "text/html": [
       "<div>\n",
       "<style scoped>\n",
       "    .dataframe tbody tr th:only-of-type {\n",
       "        vertical-align: middle;\n",
       "    }\n",
       "\n",
       "    .dataframe tbody tr th {\n",
       "        vertical-align: top;\n",
       "    }\n",
       "\n",
       "    .dataframe thead th {\n",
       "        text-align: right;\n",
       "    }\n",
       "</style>\n",
       "<table border=\"1\" class=\"dataframe\">\n",
       "  <thead>\n",
       "    <tr style=\"text-align: right;\">\n",
       "      <th></th>\n",
       "      <th>Area Code (FAO)</th>\n",
       "      <th>Element Code</th>\n",
       "      <th>Item Code (FAO)</th>\n",
       "      <th>Year Code</th>\n",
       "      <th>Year</th>\n",
       "      <th>Value</th>\n",
       "    </tr>\n",
       "  </thead>\n",
       "  <tbody>\n",
       "    <tr>\n",
       "      <th>count</th>\n",
       "      <td>3735.000000</td>\n",
       "      <td>3735.000000</td>\n",
       "      <td>3735.000000</td>\n",
       "      <td>3735.00000</td>\n",
       "      <td>3735.00000</td>\n",
       "      <td>3.670000e+03</td>\n",
       "    </tr>\n",
       "    <tr>\n",
       "      <th>mean</th>\n",
       "      <td>154.917269</td>\n",
       "      <td>5111.448728</td>\n",
       "      <td>1033.941098</td>\n",
       "      <td>1997.31593</td>\n",
       "      <td>1997.31593</td>\n",
       "      <td>1.389960e+07</td>\n",
       "    </tr>\n",
       "    <tr>\n",
       "      <th>std</th>\n",
       "      <td>98.436050</td>\n",
       "      <td>0.497431</td>\n",
       "      <td>73.118241</td>\n",
       "      <td>13.67837</td>\n",
       "      <td>13.67837</td>\n",
       "      <td>5.001213e+07</td>\n",
       "    </tr>\n",
       "    <tr>\n",
       "      <th>min</th>\n",
       "      <td>54.000000</td>\n",
       "      <td>5111.000000</td>\n",
       "      <td>866.000000</td>\n",
       "      <td>1973.00000</td>\n",
       "      <td>1973.00000</td>\n",
       "      <td>2.000000e+00</td>\n",
       "    </tr>\n",
       "    <tr>\n",
       "      <th>25%</th>\n",
       "      <td>79.000000</td>\n",
       "      <td>5111.000000</td>\n",
       "      <td>1016.000000</td>\n",
       "      <td>1985.00000</td>\n",
       "      <td>1985.00000</td>\n",
       "      <td>8.278250e+03</td>\n",
       "    </tr>\n",
       "    <tr>\n",
       "      <th>50%</th>\n",
       "      <td>106.000000</td>\n",
       "      <td>5111.000000</td>\n",
       "      <td>1057.000000</td>\n",
       "      <td>1998.00000</td>\n",
       "      <td>1998.00000</td>\n",
       "      <td>1.960655e+05</td>\n",
       "    </tr>\n",
       "    <tr>\n",
       "      <th>75%</th>\n",
       "      <td>231.000000</td>\n",
       "      <td>5112.000000</td>\n",
       "      <td>1079.000000</td>\n",
       "      <td>2009.00000</td>\n",
       "      <td>2009.00000</td>\n",
       "      <td>6.134275e+06</td>\n",
       "    </tr>\n",
       "    <tr>\n",
       "      <th>max</th>\n",
       "      <td>351.000000</td>\n",
       "      <td>5112.000000</td>\n",
       "      <td>1140.000000</td>\n",
       "      <td>2020.00000</td>\n",
       "      <td>2020.00000</td>\n",
       "      <td>4.867429e+08</td>\n",
       "    </tr>\n",
       "  </tbody>\n",
       "</table>\n",
       "</div>"
      ],
      "text/plain": [
       "       Area Code (FAO)  Element Code  Item Code (FAO)   Year Code        Year  \\\n",
       "count      3735.000000   3735.000000      3735.000000  3735.00000  3735.00000   \n",
       "mean        154.917269   5111.448728      1033.941098  1997.31593  1997.31593   \n",
       "std          98.436050      0.497431        73.118241    13.67837    13.67837   \n",
       "min          54.000000   5111.000000       866.000000  1973.00000  1973.00000   \n",
       "25%          79.000000   5111.000000      1016.000000  1985.00000  1985.00000   \n",
       "50%         106.000000   5111.000000      1057.000000  1998.00000  1998.00000   \n",
       "75%         231.000000   5112.000000      1079.000000  2009.00000  2009.00000   \n",
       "max         351.000000   5112.000000      1140.000000  2020.00000  2020.00000   \n",
       "\n",
       "              Value  \n",
       "count  3.670000e+03  \n",
       "mean   1.389960e+07  \n",
       "std    5.001213e+07  \n",
       "min    2.000000e+00  \n",
       "25%    8.278250e+03  \n",
       "50%    1.960655e+05  \n",
       "75%    6.134275e+06  \n",
       "max    4.867429e+08  "
      ]
     },
     "execution_count": 43,
     "metadata": {},
     "output_type": "execute_result"
    }
   ],
   "source": [
    "stock.describe()"
   ]
  },
  {
   "cell_type": "markdown",
   "id": "e6136460",
   "metadata": {},
   "source": [
    "The data is in its current layout is not suitable for statistical analysis as each country is a row.\n",
    "I need to melt the data so that the values for each country are in a column item type."
   ]
  },
  {
   "cell_type": "code",
   "execution_count": 44,
   "id": "78cae549",
   "metadata": {
    "ExecuteTime": {
     "end_time": "2022-05-04T14:23:25.528357Z",
     "start_time": "2022-05-04T14:23:25.513350Z"
    }
   },
   "outputs": [
    {
     "data": {
      "text/plain": [
       "array(['Cattle', 'Chickens', 'Ducks', 'Geese and guinea fowls', 'Goats',\n",
       "       'Horses', 'Pigs', 'Rabbits and hares', 'Sheep', 'Turkeys'],\n",
       "      dtype=object)"
      ]
     },
     "execution_count": 44,
     "metadata": {},
     "output_type": "execute_result"
    }
   ],
   "source": [
    "stock.Item.unique()"
   ]
  },
  {
   "cell_type": "markdown",
   "id": "fe959ff2",
   "metadata": {},
   "source": [
    "There are 10 animal categories in the stocking data."
   ]
  },
  {
   "cell_type": "code",
   "execution_count": 45,
   "id": "9bac8750",
   "metadata": {
    "ExecuteTime": {
     "end_time": "2022-05-04T14:23:25.544359Z",
     "start_time": "2022-05-04T14:23:25.529349Z"
    }
   },
   "outputs": [
    {
     "data": {
      "text/plain": [
       "array(['Belgium', 'China', 'Denmark', 'France', 'Germany', 'Ireland',\n",
       "       'Italy', 'Luxembourg', 'Netherlands', 'United States of America'],\n",
       "      dtype=object)"
      ]
     },
     "execution_count": 45,
     "metadata": {},
     "output_type": "execute_result"
    }
   ],
   "source": [
    "stock.Area.unique()"
   ]
  },
  {
   "cell_type": "markdown",
   "id": "a9a98965",
   "metadata": {},
   "source": [
    "As above:\n",
    "\n",
    "The dataset contains 8 EU countries Belgium, Denmark, France, Germany, Luxembourg, Ireland, Italy and the Netherlands. All of these countries have been member states since at least Jan 1st 1973.\n",
    "\n",
    "Belgium, France, Germany, Luxembourg, Italy and the Netherlands founded the EU in 1957 with Ireland and Denmark Joining on the 1st January 1973.\n",
    "\n",
    "Therefore, to ensure data comparability between these countries and the US and China, I limited the datasets time frame from 1st January 1973 to 31st December 2020 (most recent data available). This ensures that all European countries were member states of the EU at the time of analysis. \n",
    "\n",
    "We can confirm this as follows"
   ]
  },
  {
   "cell_type": "code",
   "execution_count": 46,
   "id": "34a3e515",
   "metadata": {
    "ExecuteTime": {
     "end_time": "2022-05-04T14:23:25.560357Z",
     "start_time": "2022-05-04T14:23:25.545361Z"
    }
   },
   "outputs": [
    {
     "data": {
      "text/plain": [
       "array([2000, 2001, 2002, 2003, 2004, 2005, 2006, 2007, 2008, 2009, 2010,\n",
       "       2011, 2012, 2013, 2014, 2015, 2016, 2017, 2018, 2019, 2020, 1973,\n",
       "       1974, 1975, 1976, 1977, 1978, 1979, 1980, 1981, 1982, 1983, 1984,\n",
       "       1985, 1986, 1987, 1988, 1989, 1990, 1991, 1992, 1993, 1994, 1995,\n",
       "       1996, 1997, 1998, 1999], dtype=int64)"
      ]
     },
     "execution_count": 46,
     "metadata": {},
     "output_type": "execute_result"
    }
   ],
   "source": [
    "stock.Year.unique()"
   ]
  },
  {
   "cell_type": "code",
   "execution_count": 47,
   "id": "54df9230",
   "metadata": {
    "ExecuteTime": {
     "end_time": "2022-05-04T14:23:25.576358Z",
     "start_time": "2022-05-04T14:23:25.561350Z"
    }
   },
   "outputs": [
    {
     "name": "stdout",
     "output_type": "stream",
     "text": [
      "The earliest year in the dataset is 1973 and the maximum year is 2020\n"
     ]
    }
   ],
   "source": [
    "print(f\"The earliest year in the dataset is {stock.Year.min()} and the maximum year is {stock.Year.max()}\")"
   ]
  },
  {
   "cell_type": "markdown",
   "id": "b98a252a",
   "metadata": {},
   "source": [
    "Next we can observe what units the meat production data has been recorded in"
   ]
  },
  {
   "cell_type": "code",
   "execution_count": 48,
   "id": "9b930fcb",
   "metadata": {
    "ExecuteTime": {
     "end_time": "2022-05-04T14:23:25.592357Z",
     "start_time": "2022-05-04T14:23:25.577364Z"
    }
   },
   "outputs": [
    {
     "data": {
      "text/plain": [
       "array(['Head', '1000 Head'], dtype=object)"
      ]
     },
     "execution_count": 48,
     "metadata": {},
     "output_type": "execute_result"
    }
   ],
   "source": [
    "stock.Unit.unique()"
   ]
  },
  {
   "cell_type": "markdown",
   "id": "72ff53c4",
   "metadata": {},
   "source": [
    "Production data units have been reported in \"tonnes\"."
   ]
  },
  {
   "cell_type": "code",
   "execution_count": 49,
   "id": "26f8ee9d",
   "metadata": {
    "ExecuteTime": {
     "end_time": "2022-05-04T14:23:25.608357Z",
     "start_time": "2022-05-04T14:23:25.593349Z"
    }
   },
   "outputs": [
    {
     "data": {
      "text/plain": [
       "array(['Stocks'], dtype=object)"
      ]
     },
     "execution_count": 49,
     "metadata": {},
     "output_type": "execute_result"
    }
   ],
   "source": [
    "stock.Element.unique()"
   ]
  },
  {
   "cell_type": "markdown",
   "id": "d50b00d4",
   "metadata": {},
   "source": [
    "All livestock in this dataset is at production."
   ]
  },
  {
   "cell_type": "markdown",
   "id": "115565aa",
   "metadata": {},
   "source": [
    "Checking for null values"
   ]
  },
  {
   "cell_type": "code",
   "execution_count": 50,
   "id": "5ad0b275",
   "metadata": {
    "ExecuteTime": {
     "end_time": "2022-05-04T14:23:25.624349Z",
     "start_time": "2022-05-04T14:23:25.609350Z"
    },
    "scrolled": true
   },
   "outputs": [
    {
     "data": {
      "text/plain": [
       "Domain Code            0\n",
       "Domain                 0\n",
       "Area Code (FAO)        0\n",
       "Area                   0\n",
       "Element Code           0\n",
       "Element                0\n",
       "Item Code (FAO)        0\n",
       "Item                   0\n",
       "Year Code              0\n",
       "Year                   0\n",
       "Unit                   0\n",
       "Value                 65\n",
       "Flag                2632\n",
       "Flag Description       0\n",
       "dtype: int64"
      ]
     },
     "execution_count": 50,
     "metadata": {},
     "output_type": "execute_result"
    }
   ],
   "source": [
    "stock.isnull().sum()"
   ]
  },
  {
   "cell_type": "code",
   "execution_count": 51,
   "id": "05ba027f",
   "metadata": {
    "ExecuteTime": {
     "end_time": "2022-05-04T14:23:25.640359Z",
     "start_time": "2022-05-04T14:23:25.625358Z"
    }
   },
   "outputs": [
    {
     "name": "stdout",
     "output_type": "stream",
     "text": [
      "The percentage of missing values is:\n",
      "Domain Code          0.00\n",
      "Domain               0.00\n",
      "Area Code (FAO)      0.00\n",
      "Area                 0.00\n",
      "Element Code         0.00\n",
      "Element              0.00\n",
      "Item Code (FAO)      0.00\n",
      "Item                 0.00\n",
      "Year Code            0.00\n",
      "Year                 0.00\n",
      "Unit                 0.00\n",
      "Value                1.74\n",
      "Flag                70.47\n",
      "Flag Description     0.00\n",
      "dtype: float64\n"
     ]
    }
   ],
   "source": [
    "calc_percent_missing(stock.isnull().sum(), len(stock))"
   ]
  },
  {
   "cell_type": "markdown",
   "id": "31f9b6a5",
   "metadata": {
    "ExecuteTime": {
     "end_time": "2022-05-04T12:32:35.976056Z",
     "start_time": "2022-05-04T12:32:35.961016Z"
    }
   },
   "source": [
    "There are missing values in the \"Value\" and \"Flag\" columns.  The flag column is not important to our data analysis\n",
    "so I can remove this during data preparation. However, the value column requires further investigation. We can test if these values are missing at random or not at random by filtering the values that are NaN or 0"
   ]
  },
  {
   "cell_type": "code",
   "execution_count": 61,
   "id": "440cfb34",
   "metadata": {
    "ExecuteTime": {
     "end_time": "2022-05-04T14:27:33.182376Z",
     "start_time": "2022-05-04T14:27:33.170265Z"
    }
   },
   "outputs": [
    {
     "data": {
      "text/plain": [
       "Index(['Domain Code', 'Domain', 'Area Code (FAO)', 'Area', 'Element Code',\n",
       "       'Element', 'Item Code (FAO)', 'Item', 'Year Code', 'Year', 'Unit',\n",
       "       'Value', 'Flag', 'Flag Description'],\n",
       "      dtype='object')"
      ]
     },
     "execution_count": 61,
     "metadata": {},
     "output_type": "execute_result"
    }
   ],
   "source": [
    "stock.columns"
   ]
  },
  {
   "cell_type": "code",
   "execution_count": 64,
   "id": "52cc75a2",
   "metadata": {
    "ExecuteTime": {
     "end_time": "2022-05-04T14:28:02.145918Z",
     "start_time": "2022-05-04T14:28:02.139974Z"
    }
   },
   "outputs": [],
   "source": [
    "# Creating a data frame of missing stocking densities\n",
    "stock_miss = stock.loc[(stock['Value'] == stock.Value.isnull())]"
   ]
  },
  {
   "cell_type": "code",
   "execution_count": 65,
   "id": "cb7eb5e0",
   "metadata": {
    "ExecuteTime": {
     "end_time": "2022-05-04T14:28:06.331678Z",
     "start_time": "2022-05-04T14:28:06.315751Z"
    }
   },
   "outputs": [
    {
     "data": {
      "text/html": [
       "<div>\n",
       "<style scoped>\n",
       "    .dataframe tbody tr th:only-of-type {\n",
       "        vertical-align: middle;\n",
       "    }\n",
       "\n",
       "    .dataframe tbody tr th {\n",
       "        vertical-align: top;\n",
       "    }\n",
       "\n",
       "    .dataframe thead th {\n",
       "        text-align: right;\n",
       "    }\n",
       "</style>\n",
       "<table border=\"1\" class=\"dataframe\">\n",
       "  <thead>\n",
       "    <tr style=\"text-align: right;\">\n",
       "      <th></th>\n",
       "      <th>Domain Code</th>\n",
       "      <th>Domain</th>\n",
       "      <th>Area Code (FAO)</th>\n",
       "      <th>Area</th>\n",
       "      <th>Element Code</th>\n",
       "      <th>Element</th>\n",
       "      <th>Item Code (FAO)</th>\n",
       "      <th>Item</th>\n",
       "      <th>Year Code</th>\n",
       "      <th>Year</th>\n",
       "      <th>Unit</th>\n",
       "      <th>Value</th>\n",
       "      <th>Flag</th>\n",
       "      <th>Flag Description</th>\n",
       "    </tr>\n",
       "  </thead>\n",
       "  <tbody>\n",
       "  </tbody>\n",
       "</table>\n",
       "</div>"
      ],
      "text/plain": [
       "Empty DataFrame\n",
       "Columns: [Domain Code, Domain, Area Code (FAO), Area, Element Code, Element, Item Code (FAO), Item, Year Code, Year, Unit, Value, Flag, Flag Description]\n",
       "Index: []"
      ]
     },
     "execution_count": 65,
     "metadata": {},
     "output_type": "execute_result"
    }
   ],
   "source": [
    "stock_miss.head(50)"
   ]
  },
  {
   "cell_type": "code",
   "execution_count": 54,
   "id": "58e19378",
   "metadata": {
    "ExecuteTime": {
     "end_time": "2022-05-04T14:23:25.688357Z",
     "start_time": "2022-05-04T14:23:25.673359Z"
    }
   },
   "outputs": [
    {
     "data": {
      "text/plain": [
       "array([], dtype=object)"
      ]
     },
     "execution_count": 54,
     "metadata": {},
     "output_type": "execute_result"
    }
   ],
   "source": [
    "# Investigating if the missing data is at random or not at random by checking if it's specific animal categories or not\n",
    "stock_miss.Item.unique()"
   ]
  },
  {
   "cell_type": "code",
   "execution_count": 55,
   "id": "ce4c0286",
   "metadata": {
    "ExecuteTime": {
     "end_time": "2022-05-04T14:23:25.704358Z",
     "start_time": "2022-05-04T14:23:25.689349Z"
    }
   },
   "outputs": [
    {
     "data": {
      "text/plain": [
       "array([], dtype=float64)"
      ]
     },
     "execution_count": 55,
     "metadata": {},
     "output_type": "execute_result"
    }
   ],
   "source": [
    "stock_miss.Value.unique()"
   ]
  },
  {
   "cell_type": "code",
   "execution_count": 56,
   "id": "18aea047",
   "metadata": {
    "ExecuteTime": {
     "end_time": "2022-05-04T14:23:25.719348Z",
     "start_time": "2022-05-04T14:23:25.705350Z"
    }
   },
   "outputs": [
    {
     "data": {
      "text/plain": [
       "array([], dtype=object)"
      ]
     },
     "execution_count": 56,
     "metadata": {},
     "output_type": "execute_result"
    }
   ],
   "source": [
    "# Investigating if the missing data is at random or not at random by checking if it's specific country's or not\n",
    "stock_miss.Area.unique()"
   ]
  },
  {
   "cell_type": "code",
   "execution_count": 57,
   "id": "63c0f8ae",
   "metadata": {
    "ExecuteTime": {
     "end_time": "2022-05-04T14:23:25.735358Z",
     "start_time": "2022-05-04T14:23:25.720349Z"
    }
   },
   "outputs": [
    {
     "data": {
      "text/plain": [
       "array([], dtype=int64)"
      ]
     },
     "execution_count": 57,
     "metadata": {},
     "output_type": "execute_result"
    }
   ],
   "source": [
    "stock_miss.Year.unique()"
   ]
  },
  {
   "cell_type": "markdown",
   "id": "f4f902a4",
   "metadata": {},
   "source": [
    "This shows that the missing data is NOT at random, certain countries did not submit data for certain animal categories on certain years. I will deal with this during data preparation.\n",
    "\n",
    "In addition, it shows that the missing categories and years are similar to the Slaughter data. There may have been no requirement to report for these categories on these years."
   ]
  },
  {
   "cell_type": "code",
   "execution_count": null,
   "id": "1e8488a2",
   "metadata": {},
   "outputs": [],
   "source": []
  },
  {
   "cell_type": "markdown",
   "id": "bcec6405",
   "metadata": {},
   "source": [
    "# NAN's do not show up on is.null filter, it is filtering the Zero values"
   ]
  },
  {
   "cell_type": "code",
   "execution_count": null,
   "id": "8243c787",
   "metadata": {},
   "outputs": [],
   "source": []
  },
  {
   "cell_type": "code",
   "execution_count": null,
   "id": "dc1c69c1",
   "metadata": {},
   "outputs": [],
   "source": []
  },
  {
   "cell_type": "code",
   "execution_count": null,
   "id": "28c1a255",
   "metadata": {},
   "outputs": [],
   "source": []
  },
  {
   "cell_type": "code",
   "execution_count": null,
   "id": "9949ec54",
   "metadata": {},
   "outputs": [],
   "source": []
  },
  {
   "cell_type": "code",
   "execution_count": null,
   "id": "49fabd7a",
   "metadata": {},
   "outputs": [],
   "source": []
  },
  {
   "cell_type": "code",
   "execution_count": null,
   "id": "dd5a8ddb",
   "metadata": {
    "ExecuteTime": {
     "end_time": "2022-05-04T14:16:23.119222Z",
     "start_time": "2022-05-04T14:16:23.119222Z"
    }
   },
   "outputs": [],
   "source": [
    "stock.head()"
   ]
  },
  {
   "cell_type": "code",
   "execution_count": null,
   "id": "6e876923",
   "metadata": {
    "ExecuteTime": {
     "end_time": "2022-05-04T14:16:23.120220Z",
     "start_time": "2022-05-04T14:16:23.120220Z"
    }
   },
   "outputs": [],
   "source": [
    "stock.shape"
   ]
  },
  {
   "cell_type": "code",
   "execution_count": null,
   "id": "f3d699c1",
   "metadata": {
    "ExecuteTime": {
     "end_time": "2022-05-04T14:16:23.121228Z",
     "start_time": "2022-05-04T14:16:23.121228Z"
    }
   },
   "outputs": [],
   "source": [
    "stock.info()"
   ]
  },
  {
   "cell_type": "code",
   "execution_count": null,
   "id": "b68e9b00",
   "metadata": {
    "ExecuteTime": {
     "end_time": "2022-05-04T14:16:23.121228Z",
     "start_time": "2022-05-04T14:16:23.121228Z"
    }
   },
   "outputs": [],
   "source": [
    "stock.describe()"
   ]
  },
  {
   "cell_type": "code",
   "execution_count": null,
   "id": "f4d013c0",
   "metadata": {
    "ExecuteTime": {
     "end_time": "2022-05-04T14:16:23.122222Z",
     "start_time": "2022-05-04T14:16:23.122222Z"
    }
   },
   "outputs": [],
   "source": [
    "stock.Area.unique()"
   ]
  },
  {
   "cell_type": "code",
   "execution_count": null,
   "id": "0bb6a954",
   "metadata": {
    "ExecuteTime": {
     "end_time": "2022-05-04T14:16:23.123228Z",
     "start_time": "2022-05-04T14:16:23.123228Z"
    }
   },
   "outputs": [],
   "source": [
    "stock.Item.unique()"
   ]
  },
  {
   "cell_type": "code",
   "execution_count": null,
   "id": "05c9a293",
   "metadata": {
    "ExecuteTime": {
     "end_time": "2022-05-04T14:16:23.123228Z",
     "start_time": "2022-05-04T14:16:23.123228Z"
    }
   },
   "outputs": [],
   "source": [
    "stock.Year.unique()"
   ]
  },
  {
   "cell_type": "code",
   "execution_count": null,
   "id": "2a7191d2",
   "metadata": {},
   "outputs": [],
   "source": []
  },
  {
   "cell_type": "code",
   "execution_count": null,
   "id": "abc90a75",
   "metadata": {},
   "outputs": [],
   "source": []
  },
  {
   "cell_type": "code",
   "execution_count": null,
   "id": "4dbed060",
   "metadata": {},
   "outputs": [],
   "source": []
  },
  {
   "cell_type": "code",
   "execution_count": null,
   "id": "4b74eb8b",
   "metadata": {},
   "outputs": [],
   "source": []
  },
  {
   "cell_type": "code",
   "execution_count": null,
   "id": "a285af3f",
   "metadata": {},
   "outputs": [],
   "source": []
  },
  {
   "cell_type": "code",
   "execution_count": null,
   "id": "311c8ae7",
   "metadata": {},
   "outputs": [],
   "source": []
  },
  {
   "cell_type": "code",
   "execution_count": null,
   "id": "c5d0f503",
   "metadata": {},
   "outputs": [],
   "source": []
  },
  {
   "cell_type": "code",
   "execution_count": null,
   "id": "65112bf7",
   "metadata": {},
   "outputs": [],
   "source": []
  },
  {
   "cell_type": "code",
   "execution_count": null,
   "id": "9b6e4d78",
   "metadata": {},
   "outputs": [],
   "source": []
  },
  {
   "cell_type": "code",
   "execution_count": null,
   "id": "74ccdc96",
   "metadata": {},
   "outputs": [],
   "source": []
  },
  {
   "cell_type": "code",
   "execution_count": null,
   "id": "f81c7a1d",
   "metadata": {},
   "outputs": [],
   "source": []
  },
  {
   "cell_type": "code",
   "execution_count": null,
   "id": "e9cfb547",
   "metadata": {},
   "outputs": [],
   "source": []
  },
  {
   "cell_type": "code",
   "execution_count": null,
   "id": "8473fdc7",
   "metadata": {},
   "outputs": [],
   "source": []
  },
  {
   "cell_type": "code",
   "execution_count": null,
   "id": "c6c0017b",
   "metadata": {},
   "outputs": [],
   "source": []
  },
  {
   "cell_type": "code",
   "execution_count": null,
   "id": "d8cf6b25",
   "metadata": {},
   "outputs": [],
   "source": []
  },
  {
   "cell_type": "code",
   "execution_count": null,
   "id": "778f424e",
   "metadata": {},
   "outputs": [],
   "source": []
  },
  {
   "cell_type": "code",
   "execution_count": null,
   "id": "b99375c8",
   "metadata": {},
   "outputs": [],
   "source": []
  },
  {
   "cell_type": "code",
   "execution_count": null,
   "id": "57b47566",
   "metadata": {},
   "outputs": [],
   "source": []
  },
  {
   "cell_type": "code",
   "execution_count": null,
   "id": "20220a86",
   "metadata": {},
   "outputs": [],
   "source": []
  },
  {
   "cell_type": "code",
   "execution_count": null,
   "id": "4ffc5d9e",
   "metadata": {},
   "outputs": [],
   "source": []
  },
  {
   "cell_type": "markdown",
   "id": "5d028e4e",
   "metadata": {},
   "source": [
    "# Data preparation "
   ]
  },
  {
   "cell_type": "markdown",
   "id": "f64ce3e1",
   "metadata": {},
   "source": [
    "Importing the country codes file and using it to map country name to each code in the dataframes using python melt"
   ]
  },
  {
   "cell_type": "code",
   "execution_count": 8,
   "id": "48ffcd23",
   "metadata": {
    "ExecuteTime": {
     "end_time": "2022-05-03T14:34:24.142552Z",
     "start_time": "2022-05-03T14:34:24.130216Z"
    }
   },
   "outputs": [
    {
     "data": {
      "text/html": [
       "<div>\n",
       "<style scoped>\n",
       "    .dataframe tbody tr th:only-of-type {\n",
       "        vertical-align: middle;\n",
       "    }\n",
       "\n",
       "    .dataframe tbody tr th {\n",
       "        vertical-align: top;\n",
       "    }\n",
       "\n",
       "    .dataframe thead th {\n",
       "        text-align: right;\n",
       "    }\n",
       "</style>\n",
       "<table border=\"1\" class=\"dataframe\">\n",
       "  <thead>\n",
       "    <tr style=\"text-align: right;\">\n",
       "      <th></th>\n",
       "      <th>Country</th>\n",
       "      <th>Alpha-2 code</th>\n",
       "      <th>Alpha-3 code</th>\n",
       "      <th>Numeric</th>\n",
       "    </tr>\n",
       "  </thead>\n",
       "  <tbody>\n",
       "    <tr>\n",
       "      <th>0</th>\n",
       "      <td>Afghanistan</td>\n",
       "      <td>AF</td>\n",
       "      <td>AFG</td>\n",
       "      <td>4</td>\n",
       "    </tr>\n",
       "    <tr>\n",
       "      <th>1</th>\n",
       "      <td>Albania</td>\n",
       "      <td>AL</td>\n",
       "      <td>ALB</td>\n",
       "      <td>8</td>\n",
       "    </tr>\n",
       "    <tr>\n",
       "      <th>2</th>\n",
       "      <td>Algeria</td>\n",
       "      <td>DZ</td>\n",
       "      <td>DZA</td>\n",
       "      <td>12</td>\n",
       "    </tr>\n",
       "    <tr>\n",
       "      <th>3</th>\n",
       "      <td>American Samoa</td>\n",
       "      <td>AS</td>\n",
       "      <td>ASM</td>\n",
       "      <td>16</td>\n",
       "    </tr>\n",
       "    <tr>\n",
       "      <th>4</th>\n",
       "      <td>Andorra</td>\n",
       "      <td>AD</td>\n",
       "      <td>AND</td>\n",
       "      <td>20</td>\n",
       "    </tr>\n",
       "  </tbody>\n",
       "</table>\n",
       "</div>"
      ],
      "text/plain": [
       "          Country Alpha-2 code Alpha-3 code  Numeric\n",
       "0     Afghanistan           AF          AFG        4\n",
       "1         Albania           AL          ALB        8\n",
       "2         Algeria           DZ          DZA       12\n",
       "3  American Samoa           AS          ASM       16\n",
       "4         Andorra           AD          AND       20"
      ]
     },
     "execution_count": 8,
     "metadata": {},
     "output_type": "execute_result"
    }
   ],
   "source": [
    "country_codes = pd.read_csv(\"country_codes.tsv\", sep='\\t')\n",
    "country_codes.head()\n",
    "\n",
    "# This can be used if you get data only with country names, it allows you to\n",
    "# map the country name to the code on new data sets and then you can make\n",
    "# your visualisation"
   ]
  },
  {
   "cell_type": "code",
   "execution_count": 15,
   "id": "1779ec42",
   "metadata": {
    "ExecuteTime": {
     "end_time": "2022-05-03T14:40:14.154521Z",
     "start_time": "2022-05-03T14:40:14.136926Z"
    }
   },
   "outputs": [],
   "source": [
    "df = pd.melt(slaughter, id_vars=['geo'], var_name=\"Year\", \n",
    "             value_name=\"Number\")"
   ]
  },
  {
   "cell_type": "code",
   "execution_count": 16,
   "id": "3e2c480a",
   "metadata": {
    "ExecuteTime": {
     "end_time": "2022-05-03T14:40:14.421502Z",
     "start_time": "2022-05-03T14:40:14.400127Z"
    }
   },
   "outputs": [
    {
     "name": "stdout",
     "output_type": "stream",
     "text": [
      "<class 'pandas.core.frame.DataFrame'>\n",
      "RangeIndex: 45792 entries, 0 to 45791\n",
      "Data columns (total 3 columns):\n",
      " #   Column  Non-Null Count  Dtype \n",
      "---  ------  --------------  ----- \n",
      " 0   geo     45792 non-null  object\n",
      " 1   Year    45792 non-null  object\n",
      " 2   Number  40939 non-null  object\n",
      "dtypes: object(3)\n",
      "memory usage: 1.0+ MB\n"
     ]
    }
   ],
   "source": [
    "df.info()"
   ]
  },
  {
   "cell_type": "code",
   "execution_count": 17,
   "id": "822d13cd",
   "metadata": {
    "ExecuteTime": {
     "end_time": "2022-05-03T14:40:15.378381Z",
     "start_time": "2022-05-03T14:40:15.362796Z"
    }
   },
   "outputs": [
    {
     "data": {
      "text/html": [
       "<div>\n",
       "<style scoped>\n",
       "    .dataframe tbody tr th:only-of-type {\n",
       "        vertical-align: middle;\n",
       "    }\n",
       "\n",
       "    .dataframe tbody tr th {\n",
       "        vertical-align: top;\n",
       "    }\n",
       "\n",
       "    .dataframe thead th {\n",
       "        text-align: right;\n",
       "    }\n",
       "</style>\n",
       "<table border=\"1\" class=\"dataframe\">\n",
       "  <thead>\n",
       "    <tr style=\"text-align: right;\">\n",
       "      <th></th>\n",
       "      <th>geo</th>\n",
       "      <th>Year</th>\n",
       "      <th>Number</th>\n",
       "    </tr>\n",
       "  </thead>\n",
       "  <tbody>\n",
       "    <tr>\n",
       "      <th>0</th>\n",
       "      <td>AT</td>\n",
       "      <td>DATAFLOW</td>\n",
       "      <td>ESTAT:APRO_MT_PWGTM(1.0)</td>\n",
       "    </tr>\n",
       "    <tr>\n",
       "      <th>1</th>\n",
       "      <td>AT</td>\n",
       "      <td>DATAFLOW</td>\n",
       "      <td>ESTAT:APRO_MT_PWGTM(1.0)</td>\n",
       "    </tr>\n",
       "    <tr>\n",
       "      <th>2</th>\n",
       "      <td>AT</td>\n",
       "      <td>DATAFLOW</td>\n",
       "      <td>ESTAT:APRO_MT_PWGTM(1.0)</td>\n",
       "    </tr>\n",
       "    <tr>\n",
       "      <th>3</th>\n",
       "      <td>AT</td>\n",
       "      <td>DATAFLOW</td>\n",
       "      <td>ESTAT:APRO_MT_PWGTM(1.0)</td>\n",
       "    </tr>\n",
       "    <tr>\n",
       "      <th>4</th>\n",
       "      <td>AT</td>\n",
       "      <td>DATAFLOW</td>\n",
       "      <td>ESTAT:APRO_MT_PWGTM(1.0)</td>\n",
       "    </tr>\n",
       "  </tbody>\n",
       "</table>\n",
       "</div>"
      ],
      "text/plain": [
       "  geo      Year                    Number\n",
       "0  AT  DATAFLOW  ESTAT:APRO_MT_PWGTM(1.0)\n",
       "1  AT  DATAFLOW  ESTAT:APRO_MT_PWGTM(1.0)\n",
       "2  AT  DATAFLOW  ESTAT:APRO_MT_PWGTM(1.0)\n",
       "3  AT  DATAFLOW  ESTAT:APRO_MT_PWGTM(1.0)\n",
       "4  AT  DATAFLOW  ESTAT:APRO_MT_PWGTM(1.0)"
      ]
     },
     "execution_count": 17,
     "metadata": {},
     "output_type": "execute_result"
    }
   ],
   "source": [
    "df.head()"
   ]
  },
  {
   "cell_type": "code",
   "execution_count": null,
   "id": "de9110d9",
   "metadata": {},
   "outputs": [],
   "source": []
  }
 ],
 "metadata": {
  "kernelspec": {
   "display_name": "Python 3 (ipykernel)",
   "language": "python",
   "name": "python3"
  },
  "language_info": {
   "codemirror_mode": {
    "name": "ipython",
    "version": 3
   },
   "file_extension": ".py",
   "mimetype": "text/x-python",
   "name": "python",
   "nbconvert_exporter": "python",
   "pygments_lexer": "ipython3",
   "version": "3.9.7"
  },
  "toc": {
   "base_numbering": 1,
   "nav_menu": {},
   "number_sections": true,
   "sideBar": true,
   "skip_h1_title": false,
   "title_cell": "Table of Contents",
   "title_sidebar": "Contents",
   "toc_cell": false,
   "toc_position": {
    "height": "calc(100% - 180px)",
    "left": "10px",
    "top": "150px",
    "width": "384px"
   },
   "toc_section_display": true,
   "toc_window_display": true
  }
 },
 "nbformat": 4,
 "nbformat_minor": 5
}
