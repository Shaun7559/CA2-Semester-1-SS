{
 "cells": [
  {
   "cell_type": "markdown",
   "id": "8dd53812",
   "metadata": {},
   "source": [
    "# Importation of the libraries and datasets"
   ]
  },
  {
   "cell_type": "code",
   "execution_count": 1,
   "id": "adc7f30d",
   "metadata": {
    "ExecuteTime": {
     "end_time": "2022-05-12T16:51:16.660336Z",
     "start_time": "2022-05-12T16:51:15.429867Z"
    }
   },
   "outputs": [],
   "source": [
    "# Libraries\n",
    "import pandas as pd\n",
    "import seaborn as sns\n",
    "import numpy as np\n",
    "import matplotlib.pyplot as plt\n",
    "%matplotlib inline \n",
    "sns.set(color_codes=True)\n",
    "import statistics as stats\n",
    "import statsmodels.api as sm\n",
    "from statsmodels.formula.api import ols\n",
    "import scipy as scipy\n",
    "from scipy import stats\n"
   ]
  },
  {
   "cell_type": "code",
   "execution_count": 2,
   "id": "1419d3e2",
   "metadata": {
    "ExecuteTime": {
     "end_time": "2022-05-12T16:51:16.721353Z",
     "start_time": "2022-05-12T16:51:16.660336Z"
    }
   },
   "outputs": [],
   "source": [
    "# FAO Dataframes\n",
    "\n",
    "# FAO animal slaughter data\n",
    "slaughter = pd.read_csv(\"C:/Users/shaun/OneDrive/MSc Data Analytics/CA2 Semester 1/Data/FAOSTAT_slaughtered.csv\", \n",
    "                        low_memory=False)\n",
    "\n",
    "# FAO meat production data\n",
    "meat = pd.read_csv(\"C:/Users/shaun/OneDrive/MSc Data Analytics/CA2 Semester 1/Data/FAOSTAT_production_quantity.csv\", \n",
    "                   low_memory=False)\n",
    "\n",
    "# FAO livestock Stocking data\n",
    "stock = pd.read_csv(\"C:/Users/shaun/OneDrive/MSc Data Analytics/CA2 Semester 1/Data/FAOSTAT_stocks.csv\", \n",
    "                    low_memory=False)\n",
    "\n",
    "# FAO live stock import / export data\n",
    "imp_exp = pd.read_csv(\"C:/Users/shaun/OneDrive/MSc Data Analytics/CA2 Semester 1/Data/FAOSTAT_import_export.csv\", \n",
    "                      low_memory=False)"
   ]
  },
  {
   "cell_type": "markdown",
   "id": "b9787ced",
   "metadata": {},
   "source": [
    "# Exploratory data analysis"
   ]
  },
  {
   "cell_type": "markdown",
   "id": "6d324ae2",
   "metadata": {},
   "source": [
    "## Animal slaughter data"
   ]
  },
  {
   "cell_type": "markdown",
   "id": "094cf353",
   "metadata": {},
   "source": [
    "Here we view the head and shape of the data"
   ]
  },
  {
   "cell_type": "code",
   "execution_count": 3,
   "id": "27ca2eb6",
   "metadata": {
    "ExecuteTime": {
     "end_time": "2022-05-12T16:51:16.735111Z",
     "start_time": "2022-05-12T16:51:16.722011Z"
    }
   },
   "outputs": [
    {
     "data": {
      "text/html": [
       "<div>\n",
       "<style scoped>\n",
       "    .dataframe tbody tr th:only-of-type {\n",
       "        vertical-align: middle;\n",
       "    }\n",
       "\n",
       "    .dataframe tbody tr th {\n",
       "        vertical-align: top;\n",
       "    }\n",
       "\n",
       "    .dataframe thead th {\n",
       "        text-align: right;\n",
       "    }\n",
       "</style>\n",
       "<table border=\"1\" class=\"dataframe\">\n",
       "  <thead>\n",
       "    <tr style=\"text-align: right;\">\n",
       "      <th></th>\n",
       "      <th>Domain Code</th>\n",
       "      <th>Domain</th>\n",
       "      <th>Area Code (FAO)</th>\n",
       "      <th>Area</th>\n",
       "      <th>Element Code</th>\n",
       "      <th>Element</th>\n",
       "      <th>Item Code (FAO)</th>\n",
       "      <th>Item</th>\n",
       "      <th>Year Code</th>\n",
       "      <th>Year</th>\n",
       "      <th>Unit</th>\n",
       "      <th>Value</th>\n",
       "      <th>Flag</th>\n",
       "      <th>Flag Description</th>\n",
       "    </tr>\n",
       "  </thead>\n",
       "  <tbody>\n",
       "    <tr>\n",
       "      <th>0</th>\n",
       "      <td>QCL</td>\n",
       "      <td>Crops and livestock products</td>\n",
       "      <td>255</td>\n",
       "      <td>Belgium</td>\n",
       "      <td>5320</td>\n",
       "      <td>Producing Animals/Slaughtered</td>\n",
       "      <td>867</td>\n",
       "      <td>Meat, cattle</td>\n",
       "      <td>2000</td>\n",
       "      <td>2000</td>\n",
       "      <td>Head</td>\n",
       "      <td>832926.0</td>\n",
       "      <td>NaN</td>\n",
       "      <td>Official data</td>\n",
       "    </tr>\n",
       "    <tr>\n",
       "      <th>1</th>\n",
       "      <td>QCL</td>\n",
       "      <td>Crops and livestock products</td>\n",
       "      <td>255</td>\n",
       "      <td>Belgium</td>\n",
       "      <td>5320</td>\n",
       "      <td>Producing Animals/Slaughtered</td>\n",
       "      <td>867</td>\n",
       "      <td>Meat, cattle</td>\n",
       "      <td>2001</td>\n",
       "      <td>2001</td>\n",
       "      <td>Head</td>\n",
       "      <td>873268.0</td>\n",
       "      <td>NaN</td>\n",
       "      <td>Official data</td>\n",
       "    </tr>\n",
       "    <tr>\n",
       "      <th>2</th>\n",
       "      <td>QCL</td>\n",
       "      <td>Crops and livestock products</td>\n",
       "      <td>255</td>\n",
       "      <td>Belgium</td>\n",
       "      <td>5320</td>\n",
       "      <td>Producing Animals/Slaughtered</td>\n",
       "      <td>867</td>\n",
       "      <td>Meat, cattle</td>\n",
       "      <td>2002</td>\n",
       "      <td>2002</td>\n",
       "      <td>Head</td>\n",
       "      <td>932473.0</td>\n",
       "      <td>NaN</td>\n",
       "      <td>Official data</td>\n",
       "    </tr>\n",
       "    <tr>\n",
       "      <th>3</th>\n",
       "      <td>QCL</td>\n",
       "      <td>Crops and livestock products</td>\n",
       "      <td>255</td>\n",
       "      <td>Belgium</td>\n",
       "      <td>5320</td>\n",
       "      <td>Producing Animals/Slaughtered</td>\n",
       "      <td>867</td>\n",
       "      <td>Meat, cattle</td>\n",
       "      <td>2003</td>\n",
       "      <td>2003</td>\n",
       "      <td>Head</td>\n",
       "      <td>853641.0</td>\n",
       "      <td>NaN</td>\n",
       "      <td>Official data</td>\n",
       "    </tr>\n",
       "    <tr>\n",
       "      <th>4</th>\n",
       "      <td>QCL</td>\n",
       "      <td>Crops and livestock products</td>\n",
       "      <td>255</td>\n",
       "      <td>Belgium</td>\n",
       "      <td>5320</td>\n",
       "      <td>Producing Animals/Slaughtered</td>\n",
       "      <td>867</td>\n",
       "      <td>Meat, cattle</td>\n",
       "      <td>2004</td>\n",
       "      <td>2004</td>\n",
       "      <td>Head</td>\n",
       "      <td>842585.0</td>\n",
       "      <td>NaN</td>\n",
       "      <td>Official data</td>\n",
       "    </tr>\n",
       "  </tbody>\n",
       "</table>\n",
       "</div>"
      ],
      "text/plain": [
       "  Domain Code                        Domain  Area Code (FAO)     Area  \\\n",
       "0         QCL  Crops and livestock products              255  Belgium   \n",
       "1         QCL  Crops and livestock products              255  Belgium   \n",
       "2         QCL  Crops and livestock products              255  Belgium   \n",
       "3         QCL  Crops and livestock products              255  Belgium   \n",
       "4         QCL  Crops and livestock products              255  Belgium   \n",
       "\n",
       "   Element Code                        Element  Item Code (FAO)          Item  \\\n",
       "0          5320  Producing Animals/Slaughtered              867  Meat, cattle   \n",
       "1          5320  Producing Animals/Slaughtered              867  Meat, cattle   \n",
       "2          5320  Producing Animals/Slaughtered              867  Meat, cattle   \n",
       "3          5320  Producing Animals/Slaughtered              867  Meat, cattle   \n",
       "4          5320  Producing Animals/Slaughtered              867  Meat, cattle   \n",
       "\n",
       "   Year Code  Year  Unit     Value Flag Flag Description  \n",
       "0       2000  2000  Head  832926.0  NaN    Official data  \n",
       "1       2001  2001  Head  873268.0  NaN    Official data  \n",
       "2       2002  2002  Head  932473.0  NaN    Official data  \n",
       "3       2003  2003  Head  853641.0  NaN    Official data  \n",
       "4       2004  2004  Head  842585.0  NaN    Official data  "
      ]
     },
     "execution_count": 3,
     "metadata": {},
     "output_type": "execute_result"
    }
   ],
   "source": [
    "slaughter.head()"
   ]
  },
  {
   "cell_type": "code",
   "execution_count": 4,
   "id": "0183baa5",
   "metadata": {
    "ExecuteTime": {
     "end_time": "2022-05-12T16:51:16.750775Z",
     "start_time": "2022-05-12T16:51:16.735111Z"
    }
   },
   "outputs": [
    {
     "data": {
      "text/plain": [
       "(3746, 14)"
      ]
     },
     "execution_count": 4,
     "metadata": {},
     "output_type": "execute_result"
    }
   ],
   "source": [
    "slaughter.shape"
   ]
  },
  {
   "cell_type": "code",
   "execution_count": 5,
   "id": "1d9a1d75",
   "metadata": {
    "ExecuteTime": {
     "end_time": "2022-05-12T16:51:16.766730Z",
     "start_time": "2022-05-12T16:51:16.751758Z"
    }
   },
   "outputs": [
    {
     "name": "stdout",
     "output_type": "stream",
     "text": [
      "<class 'pandas.core.frame.DataFrame'>\n",
      "RangeIndex: 3746 entries, 0 to 3745\n",
      "Data columns (total 14 columns):\n",
      " #   Column            Non-Null Count  Dtype  \n",
      "---  ------            --------------  -----  \n",
      " 0   Domain Code       3746 non-null   object \n",
      " 1   Domain            3746 non-null   object \n",
      " 2   Area Code (FAO)   3746 non-null   int64  \n",
      " 3   Area              3746 non-null   object \n",
      " 4   Element Code      3746 non-null   int64  \n",
      " 5   Element           3746 non-null   object \n",
      " 6   Item Code (FAO)   3746 non-null   int64  \n",
      " 7   Item              3746 non-null   object \n",
      " 8   Year Code         3746 non-null   int64  \n",
      " 9   Year              3746 non-null   int64  \n",
      " 10  Unit              3746 non-null   object \n",
      " 11  Value             3654 non-null   float64\n",
      " 12  Flag              1401 non-null   object \n",
      " 13  Flag Description  3746 non-null   object \n",
      "dtypes: float64(1), int64(5), object(8)\n",
      "memory usage: 409.8+ KB\n"
     ]
    }
   ],
   "source": [
    "slaughter.info()"
   ]
  },
  {
   "cell_type": "code",
   "execution_count": 6,
   "id": "9d4ecc8c",
   "metadata": {
    "ExecuteTime": {
     "end_time": "2022-05-12T16:51:16.800196Z",
     "start_time": "2022-05-12T16:51:16.767701Z"
    }
   },
   "outputs": [
    {
     "data": {
      "text/html": [
       "<div>\n",
       "<style scoped>\n",
       "    .dataframe tbody tr th:only-of-type {\n",
       "        vertical-align: middle;\n",
       "    }\n",
       "\n",
       "    .dataframe tbody tr th {\n",
       "        vertical-align: top;\n",
       "    }\n",
       "\n",
       "    .dataframe thead th {\n",
       "        text-align: right;\n",
       "    }\n",
       "</style>\n",
       "<table border=\"1\" class=\"dataframe\">\n",
       "  <thead>\n",
       "    <tr style=\"text-align: right;\">\n",
       "      <th></th>\n",
       "      <th>Area Code (FAO)</th>\n",
       "      <th>Element Code</th>\n",
       "      <th>Item Code (FAO)</th>\n",
       "      <th>Year Code</th>\n",
       "      <th>Year</th>\n",
       "      <th>Value</th>\n",
       "    </tr>\n",
       "  </thead>\n",
       "  <tbody>\n",
       "    <tr>\n",
       "      <th>count</th>\n",
       "      <td>3746.000000</td>\n",
       "      <td>3746.000000</td>\n",
       "      <td>3746.000000</td>\n",
       "      <td>3746.000000</td>\n",
       "      <td>3746.000000</td>\n",
       "      <td>3.654000e+03</td>\n",
       "    </tr>\n",
       "    <tr>\n",
       "      <th>mean</th>\n",
       "      <td>153.586759</td>\n",
       "      <td>5320.452483</td>\n",
       "      <td>1036.179391</td>\n",
       "      <td>1997.905499</td>\n",
       "      <td>1997.905499</td>\n",
       "      <td>1.232273e+07</td>\n",
       "    </tr>\n",
       "    <tr>\n",
       "      <th>std</th>\n",
       "      <td>98.639385</td>\n",
       "      <td>0.497803</td>\n",
       "      <td>73.686268</td>\n",
       "      <td>13.784635</td>\n",
       "      <td>13.784635</td>\n",
       "      <td>5.686957e+07</td>\n",
       "    </tr>\n",
       "    <tr>\n",
       "      <th>min</th>\n",
       "      <td>54.000000</td>\n",
       "      <td>5320.000000</td>\n",
       "      <td>867.000000</td>\n",
       "      <td>1973.000000</td>\n",
       "      <td>1973.000000</td>\n",
       "      <td>0.000000e+00</td>\n",
       "    </tr>\n",
       "    <tr>\n",
       "      <th>25%</th>\n",
       "      <td>79.000000</td>\n",
       "      <td>5320.000000</td>\n",
       "      <td>1017.000000</td>\n",
       "      <td>1986.000000</td>\n",
       "      <td>1986.000000</td>\n",
       "      <td>1.230950e+04</td>\n",
       "    </tr>\n",
       "    <tr>\n",
       "      <th>50%</th>\n",
       "      <td>106.000000</td>\n",
       "      <td>5320.000000</td>\n",
       "      <td>1058.000000</td>\n",
       "      <td>1999.000000</td>\n",
       "      <td>1999.000000</td>\n",
       "      <td>2.321095e+05</td>\n",
       "    </tr>\n",
       "    <tr>\n",
       "      <th>75%</th>\n",
       "      <td>231.000000</td>\n",
       "      <td>5321.000000</td>\n",
       "      <td>1080.000000</td>\n",
       "      <td>2010.000000</td>\n",
       "      <td>2010.000000</td>\n",
       "      <td>2.915900e+06</td>\n",
       "    </tr>\n",
       "    <tr>\n",
       "      <th>max</th>\n",
       "      <td>351.000000</td>\n",
       "      <td>5321.000000</td>\n",
       "      <td>1163.000000</td>\n",
       "      <td>2020.000000</td>\n",
       "      <td>2020.000000</td>\n",
       "      <td>7.449179e+08</td>\n",
       "    </tr>\n",
       "  </tbody>\n",
       "</table>\n",
       "</div>"
      ],
      "text/plain": [
       "       Area Code (FAO)  Element Code  Item Code (FAO)    Year Code  \\\n",
       "count      3746.000000   3746.000000      3746.000000  3746.000000   \n",
       "mean        153.586759   5320.452483      1036.179391  1997.905499   \n",
       "std          98.639385      0.497803        73.686268    13.784635   \n",
       "min          54.000000   5320.000000       867.000000  1973.000000   \n",
       "25%          79.000000   5320.000000      1017.000000  1986.000000   \n",
       "50%         106.000000   5320.000000      1058.000000  1999.000000   \n",
       "75%         231.000000   5321.000000      1080.000000  2010.000000   \n",
       "max         351.000000   5321.000000      1163.000000  2020.000000   \n",
       "\n",
       "              Year         Value  \n",
       "count  3746.000000  3.654000e+03  \n",
       "mean   1997.905499  1.232273e+07  \n",
       "std      13.784635  5.686957e+07  \n",
       "min    1973.000000  0.000000e+00  \n",
       "25%    1986.000000  1.230950e+04  \n",
       "50%    1999.000000  2.321095e+05  \n",
       "75%    2010.000000  2.915900e+06  \n",
       "max    2020.000000  7.449179e+08  "
      ]
     },
     "execution_count": 6,
     "metadata": {},
     "output_type": "execute_result"
    }
   ],
   "source": [
    "slaughter.describe()"
   ]
  },
  {
   "cell_type": "markdown",
   "id": "89eb4bd8",
   "metadata": {},
   "source": [
    "The data is in its current layout is not suitable for statistical analysis as each country is a row.\n",
    "I need to melt the data so that the values for each country are in a column item type."
   ]
  },
  {
   "cell_type": "code",
   "execution_count": 7,
   "id": "9a4a2293",
   "metadata": {
    "ExecuteTime": {
     "end_time": "2022-05-12T16:51:16.816153Z",
     "start_time": "2022-05-12T16:51:16.801197Z"
    }
   },
   "outputs": [
    {
     "data": {
      "text/plain": [
       "array(['Meat, cattle', 'Meat, chicken', 'Meat, duck', 'Meat, goat',\n",
       "       'Meat, horse', 'Meat, pig', 'Meat, sheep', 'Meat, turkey',\n",
       "       'Meat, goose and guinea fowl', 'Meat, rabbit', 'Meat, game'],\n",
       "      dtype=object)"
      ]
     },
     "execution_count": 7,
     "metadata": {},
     "output_type": "execute_result"
    }
   ],
   "source": [
    "slaughter.Item.unique()"
   ]
  },
  {
   "cell_type": "markdown",
   "id": "a5fecd04",
   "metadata": {},
   "source": [
    "There are 11 animal categories in the slaughter data. I can remove the repetition from these item categories when I clean the data"
   ]
  },
  {
   "cell_type": "code",
   "execution_count": 8,
   "id": "ca9a2be7",
   "metadata": {
    "ExecuteTime": {
     "end_time": "2022-05-12T16:51:16.824315Z",
     "start_time": "2022-05-12T16:51:16.817151Z"
    }
   },
   "outputs": [
    {
     "data": {
      "text/plain": [
       "array(['Belgium', 'China', 'Denmark', 'France', 'Germany', 'Ireland',\n",
       "       'Italy', 'Luxembourg', 'Netherlands', 'United States of America'],\n",
       "      dtype=object)"
      ]
     },
     "execution_count": 8,
     "metadata": {},
     "output_type": "execute_result"
    }
   ],
   "source": [
    "slaughter.Area.unique()"
   ]
  },
  {
   "cell_type": "markdown",
   "id": "e9b95a2a",
   "metadata": {},
   "source": [
    "The dataset contains 8 EU countries Belgium, Denmark, France, Germany, Luxembourg, Ireland, Italy and the Netherlands. All of these countries have been member states since at least Jan 1st 1973.\n",
    "\n",
    "Belgium, France, Germany, Luxembourg, Italy and the Netherlands founded the EU in 1957 with Ireland and Denmark Joining on the 1st January 1973.\n",
    "\n",
    "Therefore, to ensure data comparability between these countries and the US and China, I limited the datasets time frame from 1st January 1973 to 31st December 2020 (most recent data available). This ensures that all European countries were member states of the EU at the time of analysis. \n",
    "\n",
    "We can confirm this as follows"
   ]
  },
  {
   "cell_type": "code",
   "execution_count": 9,
   "id": "1a486d39",
   "metadata": {
    "ExecuteTime": {
     "end_time": "2022-05-12T16:51:16.840240Z",
     "start_time": "2022-05-12T16:51:16.824315Z"
    }
   },
   "outputs": [
    {
     "data": {
      "text/plain": [
       "array([2000, 2001, 2002, 2003, 2004, 2005, 2006, 2007, 2008, 2009, 2010,\n",
       "       2011, 2012, 2013, 2014, 2015, 2016, 2017, 2018, 2019, 2020, 1973,\n",
       "       1974, 1975, 1976, 1977, 1978, 1979, 1980, 1981, 1982, 1983, 1984,\n",
       "       1985, 1986, 1987, 1988, 1989, 1990, 1991, 1992, 1993, 1994, 1995,\n",
       "       1996, 1997, 1998, 1999], dtype=int64)"
      ]
     },
     "execution_count": 9,
     "metadata": {},
     "output_type": "execute_result"
    }
   ],
   "source": [
    "slaughter.Year.unique()"
   ]
  },
  {
   "cell_type": "code",
   "execution_count": 10,
   "id": "640ef0cb",
   "metadata": {
    "ExecuteTime": {
     "end_time": "2022-05-12T16:51:16.853865Z",
     "start_time": "2022-05-12T16:51:16.842234Z"
    }
   },
   "outputs": [
    {
     "name": "stdout",
     "output_type": "stream",
     "text": [
      "The earliest year in the dataset is 1973 and the maximum year is 2020\n"
     ]
    }
   ],
   "source": [
    "print(f\"The earliest year in the dataset is {slaughter.Year.min()} and the maximum year is {slaughter.Year.max()}\")"
   ]
  },
  {
   "cell_type": "markdown",
   "id": "49f99cc6",
   "metadata": {},
   "source": [
    "Next we can observe what units the slaughter data has been recorded in"
   ]
  },
  {
   "cell_type": "code",
   "execution_count": 11,
   "id": "c8b1cfc7",
   "metadata": {
    "ExecuteTime": {
     "end_time": "2022-05-12T16:51:16.869582Z",
     "start_time": "2022-05-12T16:51:16.853865Z"
    }
   },
   "outputs": [
    {
     "data": {
      "text/plain": [
       "array(['Head', '1000 Head'], dtype=object)"
      ]
     },
     "execution_count": 11,
     "metadata": {},
     "output_type": "execute_result"
    }
   ],
   "source": [
    "slaughter.Unit.unique()"
   ]
  },
  {
   "cell_type": "markdown",
   "id": "ff61a65a",
   "metadata": {},
   "source": [
    "Slaughter units have been reported as per \"head\" and per \"thousand heads\" of animal."
   ]
  },
  {
   "cell_type": "code",
   "execution_count": 12,
   "id": "a6752ad4",
   "metadata": {
    "ExecuteTime": {
     "end_time": "2022-05-12T16:51:16.884536Z",
     "start_time": "2022-05-12T16:51:16.870546Z"
    }
   },
   "outputs": [
    {
     "data": {
      "text/plain": [
       "array(['Producing Animals/Slaughtered'], dtype=object)"
      ]
     },
     "execution_count": 12,
     "metadata": {},
     "output_type": "execute_result"
    }
   ],
   "source": [
    "slaughter.Element.unique()"
   ]
  },
  {
   "cell_type": "markdown",
   "id": "088b2404",
   "metadata": {},
   "source": [
    "All livestock in this dataset is at slaughter."
   ]
  },
  {
   "cell_type": "markdown",
   "id": "e548560f",
   "metadata": {},
   "source": [
    "Checking for null values"
   ]
  },
  {
   "cell_type": "code",
   "execution_count": 13,
   "id": "b2bfec48",
   "metadata": {
    "ExecuteTime": {
     "end_time": "2022-05-12T16:51:16.900495Z",
     "start_time": "2022-05-12T16:51:16.885506Z"
    },
    "scrolled": true
   },
   "outputs": [
    {
     "data": {
      "text/plain": [
       "Domain Code            0\n",
       "Domain                 0\n",
       "Area Code (FAO)        0\n",
       "Area                   0\n",
       "Element Code           0\n",
       "Element                0\n",
       "Item Code (FAO)        0\n",
       "Item                   0\n",
       "Year Code              0\n",
       "Year                   0\n",
       "Unit                   0\n",
       "Value                 92\n",
       "Flag                2345\n",
       "Flag Description       0\n",
       "dtype: int64"
      ]
     },
     "execution_count": 13,
     "metadata": {},
     "output_type": "execute_result"
    }
   ],
   "source": [
    "slaughter.isnull().sum()"
   ]
  },
  {
   "cell_type": "code",
   "execution_count": 14,
   "id": "85f3aca9",
   "metadata": {
    "ExecuteTime": {
     "end_time": "2022-05-12T16:51:16.916422Z",
     "start_time": "2022-05-12T16:51:16.901463Z"
    }
   },
   "outputs": [],
   "source": [
    "# Function to calculate % missing\n",
    "\n",
    "def calc_percent_missing(no_observations, maxobservations):\n",
    "    '''This takes the number of missing and maximum observations as inputs. It\n",
    "    then calculates the no of missing observations as a percentage of the total observations'''\n",
    "    percent_miss = round((no_observations / maxobservations) * (100 / 1), 2)\n",
    "    print(f\"The percentage of missing values is:\\n{percent_miss}\")\n",
    "    \n"
   ]
  },
  {
   "cell_type": "code",
   "execution_count": 15,
   "id": "b938513d",
   "metadata": {
    "ExecuteTime": {
     "end_time": "2022-05-12T16:51:16.932408Z",
     "start_time": "2022-05-12T16:51:16.917420Z"
    }
   },
   "outputs": [
    {
     "name": "stdout",
     "output_type": "stream",
     "text": [
      "The percentage of missing values is:\n",
      "Domain Code          0.00\n",
      "Domain               0.00\n",
      "Area Code (FAO)      0.00\n",
      "Area                 0.00\n",
      "Element Code         0.00\n",
      "Element              0.00\n",
      "Item Code (FAO)      0.00\n",
      "Item                 0.00\n",
      "Year Code            0.00\n",
      "Year                 0.00\n",
      "Unit                 0.00\n",
      "Value                2.46\n",
      "Flag                62.60\n",
      "Flag Description     0.00\n",
      "dtype: float64\n"
     ]
    }
   ],
   "source": [
    "calc_percent_missing(slaughter.isnull().sum(), len(slaughter))"
   ]
  },
  {
   "cell_type": "markdown",
   "id": "cad1a7f3",
   "metadata": {
    "ExecuteTime": {
     "end_time": "2022-05-04T12:32:35.976056Z",
     "start_time": "2022-05-04T12:32:35.961016Z"
    }
   },
   "source": [
    "There are missing values in the \"Value\" and \"Flag\" columns.  The flag column is not important to our data analysis\n",
    "so I can remove this during data preparation. However, the value column requires further investigation. We can test if these values are missing at random or not at random by filtering the values that are NaN or 0"
   ]
  },
  {
   "cell_type": "code",
   "execution_count": 16,
   "id": "e53dc344",
   "metadata": {
    "ExecuteTime": {
     "end_time": "2022-05-12T16:51:16.948365Z",
     "start_time": "2022-05-12T16:51:16.933377Z"
    }
   },
   "outputs": [],
   "source": [
    "# Creating a data frame of missing slaughtervalues\n",
    "slaughter_miss = slaughter.loc[(slaughter['Value'] == slaughter.Value.isnull())]"
   ]
  },
  {
   "cell_type": "code",
   "execution_count": 17,
   "id": "f5b7dda2",
   "metadata": {
    "ExecuteTime": {
     "end_time": "2022-05-12T16:51:16.964295Z",
     "start_time": "2022-05-12T16:51:16.949334Z"
    }
   },
   "outputs": [
    {
     "data": {
      "text/html": [
       "<div>\n",
       "<style scoped>\n",
       "    .dataframe tbody tr th:only-of-type {\n",
       "        vertical-align: middle;\n",
       "    }\n",
       "\n",
       "    .dataframe tbody tr th {\n",
       "        vertical-align: top;\n",
       "    }\n",
       "\n",
       "    .dataframe thead th {\n",
       "        text-align: right;\n",
       "    }\n",
       "</style>\n",
       "<table border=\"1\" class=\"dataframe\">\n",
       "  <thead>\n",
       "    <tr style=\"text-align: right;\">\n",
       "      <th></th>\n",
       "      <th>Domain Code</th>\n",
       "      <th>Domain</th>\n",
       "      <th>Area Code (FAO)</th>\n",
       "      <th>Area</th>\n",
       "      <th>Element Code</th>\n",
       "      <th>Element</th>\n",
       "      <th>Item Code (FAO)</th>\n",
       "      <th>Item</th>\n",
       "      <th>Year Code</th>\n",
       "      <th>Year</th>\n",
       "      <th>Unit</th>\n",
       "      <th>Value</th>\n",
       "      <th>Flag</th>\n",
       "      <th>Flag Description</th>\n",
       "    </tr>\n",
       "  </thead>\n",
       "  <tbody>\n",
       "    <tr>\n",
       "      <th>789</th>\n",
       "      <td>QCL</td>\n",
       "      <td>Crops and livestock products</td>\n",
       "      <td>54</td>\n",
       "      <td>Denmark</td>\n",
       "      <td>5320</td>\n",
       "      <td>Producing Animals/Slaughtered</td>\n",
       "      <td>1017</td>\n",
       "      <td>Meat, goat</td>\n",
       "      <td>2018</td>\n",
       "      <td>2018</td>\n",
       "      <td>Head</td>\n",
       "      <td>0.0</td>\n",
       "      <td>NaN</td>\n",
       "      <td>Official data</td>\n",
       "    </tr>\n",
       "    <tr>\n",
       "      <th>790</th>\n",
       "      <td>QCL</td>\n",
       "      <td>Crops and livestock products</td>\n",
       "      <td>54</td>\n",
       "      <td>Denmark</td>\n",
       "      <td>5320</td>\n",
       "      <td>Producing Animals/Slaughtered</td>\n",
       "      <td>1017</td>\n",
       "      <td>Meat, goat</td>\n",
       "      <td>2019</td>\n",
       "      <td>2019</td>\n",
       "      <td>Head</td>\n",
       "      <td>0.0</td>\n",
       "      <td>NaN</td>\n",
       "      <td>Official data</td>\n",
       "    </tr>\n",
       "    <tr>\n",
       "      <th>791</th>\n",
       "      <td>QCL</td>\n",
       "      <td>Crops and livestock products</td>\n",
       "      <td>54</td>\n",
       "      <td>Denmark</td>\n",
       "      <td>5320</td>\n",
       "      <td>Producing Animals/Slaughtered</td>\n",
       "      <td>1017</td>\n",
       "      <td>Meat, goat</td>\n",
       "      <td>2020</td>\n",
       "      <td>2020</td>\n",
       "      <td>Head</td>\n",
       "      <td>0.0</td>\n",
       "      <td>NaN</td>\n",
       "      <td>Official data</td>\n",
       "    </tr>\n",
       "    <tr>\n",
       "      <th>2148</th>\n",
       "      <td>QCL</td>\n",
       "      <td>Crops and livestock products</td>\n",
       "      <td>104</td>\n",
       "      <td>Ireland</td>\n",
       "      <td>5320</td>\n",
       "      <td>Producing Animals/Slaughtered</td>\n",
       "      <td>1017</td>\n",
       "      <td>Meat, goat</td>\n",
       "      <td>2018</td>\n",
       "      <td>2018</td>\n",
       "      <td>Head</td>\n",
       "      <td>0.0</td>\n",
       "      <td>NaN</td>\n",
       "      <td>Official data</td>\n",
       "    </tr>\n",
       "    <tr>\n",
       "      <th>2149</th>\n",
       "      <td>QCL</td>\n",
       "      <td>Crops and livestock products</td>\n",
       "      <td>104</td>\n",
       "      <td>Ireland</td>\n",
       "      <td>5320</td>\n",
       "      <td>Producing Animals/Slaughtered</td>\n",
       "      <td>1017</td>\n",
       "      <td>Meat, goat</td>\n",
       "      <td>2019</td>\n",
       "      <td>2019</td>\n",
       "      <td>Head</td>\n",
       "      <td>0.0</td>\n",
       "      <td>NaN</td>\n",
       "      <td>Official data</td>\n",
       "    </tr>\n",
       "    <tr>\n",
       "      <th>2150</th>\n",
       "      <td>QCL</td>\n",
       "      <td>Crops and livestock products</td>\n",
       "      <td>104</td>\n",
       "      <td>Ireland</td>\n",
       "      <td>5320</td>\n",
       "      <td>Producing Animals/Slaughtered</td>\n",
       "      <td>1017</td>\n",
       "      <td>Meat, goat</td>\n",
       "      <td>2020</td>\n",
       "      <td>2020</td>\n",
       "      <td>Head</td>\n",
       "      <td>0.0</td>\n",
       "      <td>NaN</td>\n",
       "      <td>Official data</td>\n",
       "    </tr>\n",
       "    <tr>\n",
       "      <th>2844</th>\n",
       "      <td>QCL</td>\n",
       "      <td>Crops and livestock products</td>\n",
       "      <td>256</td>\n",
       "      <td>Luxembourg</td>\n",
       "      <td>5321</td>\n",
       "      <td>Producing Animals/Slaughtered</td>\n",
       "      <td>1058</td>\n",
       "      <td>Meat, chicken</td>\n",
       "      <td>2018</td>\n",
       "      <td>2018</td>\n",
       "      <td>1000 Head</td>\n",
       "      <td>0.0</td>\n",
       "      <td>NaN</td>\n",
       "      <td>Official data</td>\n",
       "    </tr>\n",
       "    <tr>\n",
       "      <th>2845</th>\n",
       "      <td>QCL</td>\n",
       "      <td>Crops and livestock products</td>\n",
       "      <td>256</td>\n",
       "      <td>Luxembourg</td>\n",
       "      <td>5321</td>\n",
       "      <td>Producing Animals/Slaughtered</td>\n",
       "      <td>1058</td>\n",
       "      <td>Meat, chicken</td>\n",
       "      <td>2019</td>\n",
       "      <td>2019</td>\n",
       "      <td>1000 Head</td>\n",
       "      <td>0.0</td>\n",
       "      <td>NaN</td>\n",
       "      <td>Official data</td>\n",
       "    </tr>\n",
       "    <tr>\n",
       "      <th>2846</th>\n",
       "      <td>QCL</td>\n",
       "      <td>Crops and livestock products</td>\n",
       "      <td>256</td>\n",
       "      <td>Luxembourg</td>\n",
       "      <td>5321</td>\n",
       "      <td>Producing Animals/Slaughtered</td>\n",
       "      <td>1058</td>\n",
       "      <td>Meat, chicken</td>\n",
       "      <td>2020</td>\n",
       "      <td>2020</td>\n",
       "      <td>1000 Head</td>\n",
       "      <td>0.0</td>\n",
       "      <td>NaN</td>\n",
       "      <td>Official data</td>\n",
       "    </tr>\n",
       "    <tr>\n",
       "      <th>2847</th>\n",
       "      <td>QCL</td>\n",
       "      <td>Crops and livestock products</td>\n",
       "      <td>256</td>\n",
       "      <td>Luxembourg</td>\n",
       "      <td>5321</td>\n",
       "      <td>Producing Animals/Slaughtered</td>\n",
       "      <td>1069</td>\n",
       "      <td>Meat, duck</td>\n",
       "      <td>2018</td>\n",
       "      <td>2018</td>\n",
       "      <td>1000 Head</td>\n",
       "      <td>0.0</td>\n",
       "      <td>NaN</td>\n",
       "      <td>Official data</td>\n",
       "    </tr>\n",
       "    <tr>\n",
       "      <th>2848</th>\n",
       "      <td>QCL</td>\n",
       "      <td>Crops and livestock products</td>\n",
       "      <td>256</td>\n",
       "      <td>Luxembourg</td>\n",
       "      <td>5321</td>\n",
       "      <td>Producing Animals/Slaughtered</td>\n",
       "      <td>1069</td>\n",
       "      <td>Meat, duck</td>\n",
       "      <td>2019</td>\n",
       "      <td>2019</td>\n",
       "      <td>1000 Head</td>\n",
       "      <td>0.0</td>\n",
       "      <td>NaN</td>\n",
       "      <td>Official data</td>\n",
       "    </tr>\n",
       "    <tr>\n",
       "      <th>2849</th>\n",
       "      <td>QCL</td>\n",
       "      <td>Crops and livestock products</td>\n",
       "      <td>256</td>\n",
       "      <td>Luxembourg</td>\n",
       "      <td>5321</td>\n",
       "      <td>Producing Animals/Slaughtered</td>\n",
       "      <td>1069</td>\n",
       "      <td>Meat, duck</td>\n",
       "      <td>2020</td>\n",
       "      <td>2020</td>\n",
       "      <td>1000 Head</td>\n",
       "      <td>0.0</td>\n",
       "      <td>NaN</td>\n",
       "      <td>Official data</td>\n",
       "    </tr>\n",
       "    <tr>\n",
       "      <th>2869</th>\n",
       "      <td>QCL</td>\n",
       "      <td>Crops and livestock products</td>\n",
       "      <td>256</td>\n",
       "      <td>Luxembourg</td>\n",
       "      <td>5320</td>\n",
       "      <td>Producing Animals/Slaughtered</td>\n",
       "      <td>1017</td>\n",
       "      <td>Meat, goat</td>\n",
       "      <td>2000</td>\n",
       "      <td>2000</td>\n",
       "      <td>Head</td>\n",
       "      <td>0.0</td>\n",
       "      <td>NaN</td>\n",
       "      <td>Official data</td>\n",
       "    </tr>\n",
       "    <tr>\n",
       "      <th>2870</th>\n",
       "      <td>QCL</td>\n",
       "      <td>Crops and livestock products</td>\n",
       "      <td>256</td>\n",
       "      <td>Luxembourg</td>\n",
       "      <td>5320</td>\n",
       "      <td>Producing Animals/Slaughtered</td>\n",
       "      <td>1017</td>\n",
       "      <td>Meat, goat</td>\n",
       "      <td>2001</td>\n",
       "      <td>2001</td>\n",
       "      <td>Head</td>\n",
       "      <td>0.0</td>\n",
       "      <td>NaN</td>\n",
       "      <td>Official data</td>\n",
       "    </tr>\n",
       "    <tr>\n",
       "      <th>2891</th>\n",
       "      <td>QCL</td>\n",
       "      <td>Crops and livestock products</td>\n",
       "      <td>256</td>\n",
       "      <td>Luxembourg</td>\n",
       "      <td>5320</td>\n",
       "      <td>Producing Animals/Slaughtered</td>\n",
       "      <td>1097</td>\n",
       "      <td>Meat, horse</td>\n",
       "      <td>2001</td>\n",
       "      <td>2001</td>\n",
       "      <td>Head</td>\n",
       "      <td>0.0</td>\n",
       "      <td>NaN</td>\n",
       "      <td>Official data</td>\n",
       "    </tr>\n",
       "    <tr>\n",
       "      <th>2971</th>\n",
       "      <td>QCL</td>\n",
       "      <td>Crops and livestock products</td>\n",
       "      <td>256</td>\n",
       "      <td>Luxembourg</td>\n",
       "      <td>5321</td>\n",
       "      <td>Producing Animals/Slaughtered</td>\n",
       "      <td>1080</td>\n",
       "      <td>Meat, turkey</td>\n",
       "      <td>2018</td>\n",
       "      <td>2018</td>\n",
       "      <td>1000 Head</td>\n",
       "      <td>0.0</td>\n",
       "      <td>NaN</td>\n",
       "      <td>Official data</td>\n",
       "    </tr>\n",
       "    <tr>\n",
       "      <th>2972</th>\n",
       "      <td>QCL</td>\n",
       "      <td>Crops and livestock products</td>\n",
       "      <td>256</td>\n",
       "      <td>Luxembourg</td>\n",
       "      <td>5321</td>\n",
       "      <td>Producing Animals/Slaughtered</td>\n",
       "      <td>1080</td>\n",
       "      <td>Meat, turkey</td>\n",
       "      <td>2019</td>\n",
       "      <td>2019</td>\n",
       "      <td>1000 Head</td>\n",
       "      <td>0.0</td>\n",
       "      <td>NaN</td>\n",
       "      <td>Official data</td>\n",
       "    </tr>\n",
       "    <tr>\n",
       "      <th>2973</th>\n",
       "      <td>QCL</td>\n",
       "      <td>Crops and livestock products</td>\n",
       "      <td>256</td>\n",
       "      <td>Luxembourg</td>\n",
       "      <td>5321</td>\n",
       "      <td>Producing Animals/Slaughtered</td>\n",
       "      <td>1080</td>\n",
       "      <td>Meat, turkey</td>\n",
       "      <td>2020</td>\n",
       "      <td>2020</td>\n",
       "      <td>1000 Head</td>\n",
       "      <td>0.0</td>\n",
       "      <td>NaN</td>\n",
       "      <td>Official data</td>\n",
       "    </tr>\n",
       "    <tr>\n",
       "      <th>3070</th>\n",
       "      <td>QCL</td>\n",
       "      <td>Crops and livestock products</td>\n",
       "      <td>150</td>\n",
       "      <td>Netherlands</td>\n",
       "      <td>5321</td>\n",
       "      <td>Producing Animals/Slaughtered</td>\n",
       "      <td>1069</td>\n",
       "      <td>Meat, duck</td>\n",
       "      <td>1973</td>\n",
       "      <td>1973</td>\n",
       "      <td>1000 Head</td>\n",
       "      <td>0.0</td>\n",
       "      <td>Fc</td>\n",
       "      <td>Calculated data</td>\n",
       "    </tr>\n",
       "    <tr>\n",
       "      <th>3071</th>\n",
       "      <td>QCL</td>\n",
       "      <td>Crops and livestock products</td>\n",
       "      <td>150</td>\n",
       "      <td>Netherlands</td>\n",
       "      <td>5321</td>\n",
       "      <td>Producing Animals/Slaughtered</td>\n",
       "      <td>1069</td>\n",
       "      <td>Meat, duck</td>\n",
       "      <td>1974</td>\n",
       "      <td>1974</td>\n",
       "      <td>1000 Head</td>\n",
       "      <td>0.0</td>\n",
       "      <td>Fc</td>\n",
       "      <td>Calculated data</td>\n",
       "    </tr>\n",
       "    <tr>\n",
       "      <th>3072</th>\n",
       "      <td>QCL</td>\n",
       "      <td>Crops and livestock products</td>\n",
       "      <td>150</td>\n",
       "      <td>Netherlands</td>\n",
       "      <td>5321</td>\n",
       "      <td>Producing Animals/Slaughtered</td>\n",
       "      <td>1069</td>\n",
       "      <td>Meat, duck</td>\n",
       "      <td>1975</td>\n",
       "      <td>1975</td>\n",
       "      <td>1000 Head</td>\n",
       "      <td>0.0</td>\n",
       "      <td>Fc</td>\n",
       "      <td>Calculated data</td>\n",
       "    </tr>\n",
       "    <tr>\n",
       "      <th>3073</th>\n",
       "      <td>QCL</td>\n",
       "      <td>Crops and livestock products</td>\n",
       "      <td>150</td>\n",
       "      <td>Netherlands</td>\n",
       "      <td>5321</td>\n",
       "      <td>Producing Animals/Slaughtered</td>\n",
       "      <td>1069</td>\n",
       "      <td>Meat, duck</td>\n",
       "      <td>1976</td>\n",
       "      <td>1976</td>\n",
       "      <td>1000 Head</td>\n",
       "      <td>0.0</td>\n",
       "      <td>Fc</td>\n",
       "      <td>Calculated data</td>\n",
       "    </tr>\n",
       "    <tr>\n",
       "      <th>3332</th>\n",
       "      <td>QCL</td>\n",
       "      <td>Crops and livestock products</td>\n",
       "      <td>150</td>\n",
       "      <td>Netherlands</td>\n",
       "      <td>5321</td>\n",
       "      <td>Producing Animals/Slaughtered</td>\n",
       "      <td>1080</td>\n",
       "      <td>Meat, turkey</td>\n",
       "      <td>1973</td>\n",
       "      <td>1973</td>\n",
       "      <td>1000 Head</td>\n",
       "      <td>0.0</td>\n",
       "      <td>Fc</td>\n",
       "      <td>Calculated data</td>\n",
       "    </tr>\n",
       "    <tr>\n",
       "      <th>3333</th>\n",
       "      <td>QCL</td>\n",
       "      <td>Crops and livestock products</td>\n",
       "      <td>150</td>\n",
       "      <td>Netherlands</td>\n",
       "      <td>5321</td>\n",
       "      <td>Producing Animals/Slaughtered</td>\n",
       "      <td>1080</td>\n",
       "      <td>Meat, turkey</td>\n",
       "      <td>1974</td>\n",
       "      <td>1974</td>\n",
       "      <td>1000 Head</td>\n",
       "      <td>0.0</td>\n",
       "      <td>Fc</td>\n",
       "      <td>Calculated data</td>\n",
       "    </tr>\n",
       "    <tr>\n",
       "      <th>3334</th>\n",
       "      <td>QCL</td>\n",
       "      <td>Crops and livestock products</td>\n",
       "      <td>150</td>\n",
       "      <td>Netherlands</td>\n",
       "      <td>5321</td>\n",
       "      <td>Producing Animals/Slaughtered</td>\n",
       "      <td>1080</td>\n",
       "      <td>Meat, turkey</td>\n",
       "      <td>1975</td>\n",
       "      <td>1975</td>\n",
       "      <td>1000 Head</td>\n",
       "      <td>0.0</td>\n",
       "      <td>Fc</td>\n",
       "      <td>Calculated data</td>\n",
       "    </tr>\n",
       "    <tr>\n",
       "      <th>3335</th>\n",
       "      <td>QCL</td>\n",
       "      <td>Crops and livestock products</td>\n",
       "      <td>150</td>\n",
       "      <td>Netherlands</td>\n",
       "      <td>5321</td>\n",
       "      <td>Producing Animals/Slaughtered</td>\n",
       "      <td>1080</td>\n",
       "      <td>Meat, turkey</td>\n",
       "      <td>1976</td>\n",
       "      <td>1976</td>\n",
       "      <td>1000 Head</td>\n",
       "      <td>0.0</td>\n",
       "      <td>Fc</td>\n",
       "      <td>Calculated data</td>\n",
       "    </tr>\n",
       "    <tr>\n",
       "      <th>3377</th>\n",
       "      <td>QCL</td>\n",
       "      <td>Crops and livestock products</td>\n",
       "      <td>150</td>\n",
       "      <td>Netherlands</td>\n",
       "      <td>5321</td>\n",
       "      <td>Producing Animals/Slaughtered</td>\n",
       "      <td>1080</td>\n",
       "      <td>Meat, turkey</td>\n",
       "      <td>2018</td>\n",
       "      <td>2018</td>\n",
       "      <td>1000 Head</td>\n",
       "      <td>0.0</td>\n",
       "      <td>NaN</td>\n",
       "      <td>Official data</td>\n",
       "    </tr>\n",
       "    <tr>\n",
       "      <th>3378</th>\n",
       "      <td>QCL</td>\n",
       "      <td>Crops and livestock products</td>\n",
       "      <td>150</td>\n",
       "      <td>Netherlands</td>\n",
       "      <td>5321</td>\n",
       "      <td>Producing Animals/Slaughtered</td>\n",
       "      <td>1080</td>\n",
       "      <td>Meat, turkey</td>\n",
       "      <td>2019</td>\n",
       "      <td>2019</td>\n",
       "      <td>1000 Head</td>\n",
       "      <td>0.0</td>\n",
       "      <td>NaN</td>\n",
       "      <td>Official data</td>\n",
       "    </tr>\n",
       "    <tr>\n",
       "      <th>3379</th>\n",
       "      <td>QCL</td>\n",
       "      <td>Crops and livestock products</td>\n",
       "      <td>150</td>\n",
       "      <td>Netherlands</td>\n",
       "      <td>5321</td>\n",
       "      <td>Producing Animals/Slaughtered</td>\n",
       "      <td>1080</td>\n",
       "      <td>Meat, turkey</td>\n",
       "      <td>2020</td>\n",
       "      <td>2020</td>\n",
       "      <td>1000 Head</td>\n",
       "      <td>0.0</td>\n",
       "      <td>NaN</td>\n",
       "      <td>Official data</td>\n",
       "    </tr>\n",
       "  </tbody>\n",
       "</table>\n",
       "</div>"
      ],
      "text/plain": [
       "     Domain Code                        Domain  Area Code (FAO)         Area  \\\n",
       "789          QCL  Crops and livestock products               54      Denmark   \n",
       "790          QCL  Crops and livestock products               54      Denmark   \n",
       "791          QCL  Crops and livestock products               54      Denmark   \n",
       "2148         QCL  Crops and livestock products              104      Ireland   \n",
       "2149         QCL  Crops and livestock products              104      Ireland   \n",
       "2150         QCL  Crops and livestock products              104      Ireland   \n",
       "2844         QCL  Crops and livestock products              256   Luxembourg   \n",
       "2845         QCL  Crops and livestock products              256   Luxembourg   \n",
       "2846         QCL  Crops and livestock products              256   Luxembourg   \n",
       "2847         QCL  Crops and livestock products              256   Luxembourg   \n",
       "2848         QCL  Crops and livestock products              256   Luxembourg   \n",
       "2849         QCL  Crops and livestock products              256   Luxembourg   \n",
       "2869         QCL  Crops and livestock products              256   Luxembourg   \n",
       "2870         QCL  Crops and livestock products              256   Luxembourg   \n",
       "2891         QCL  Crops and livestock products              256   Luxembourg   \n",
       "2971         QCL  Crops and livestock products              256   Luxembourg   \n",
       "2972         QCL  Crops and livestock products              256   Luxembourg   \n",
       "2973         QCL  Crops and livestock products              256   Luxembourg   \n",
       "3070         QCL  Crops and livestock products              150  Netherlands   \n",
       "3071         QCL  Crops and livestock products              150  Netherlands   \n",
       "3072         QCL  Crops and livestock products              150  Netherlands   \n",
       "3073         QCL  Crops and livestock products              150  Netherlands   \n",
       "3332         QCL  Crops and livestock products              150  Netherlands   \n",
       "3333         QCL  Crops and livestock products              150  Netherlands   \n",
       "3334         QCL  Crops and livestock products              150  Netherlands   \n",
       "3335         QCL  Crops and livestock products              150  Netherlands   \n",
       "3377         QCL  Crops and livestock products              150  Netherlands   \n",
       "3378         QCL  Crops and livestock products              150  Netherlands   \n",
       "3379         QCL  Crops and livestock products              150  Netherlands   \n",
       "\n",
       "      Element Code                        Element  Item Code (FAO)  \\\n",
       "789           5320  Producing Animals/Slaughtered             1017   \n",
       "790           5320  Producing Animals/Slaughtered             1017   \n",
       "791           5320  Producing Animals/Slaughtered             1017   \n",
       "2148          5320  Producing Animals/Slaughtered             1017   \n",
       "2149          5320  Producing Animals/Slaughtered             1017   \n",
       "2150          5320  Producing Animals/Slaughtered             1017   \n",
       "2844          5321  Producing Animals/Slaughtered             1058   \n",
       "2845          5321  Producing Animals/Slaughtered             1058   \n",
       "2846          5321  Producing Animals/Slaughtered             1058   \n",
       "2847          5321  Producing Animals/Slaughtered             1069   \n",
       "2848          5321  Producing Animals/Slaughtered             1069   \n",
       "2849          5321  Producing Animals/Slaughtered             1069   \n",
       "2869          5320  Producing Animals/Slaughtered             1017   \n",
       "2870          5320  Producing Animals/Slaughtered             1017   \n",
       "2891          5320  Producing Animals/Slaughtered             1097   \n",
       "2971          5321  Producing Animals/Slaughtered             1080   \n",
       "2972          5321  Producing Animals/Slaughtered             1080   \n",
       "2973          5321  Producing Animals/Slaughtered             1080   \n",
       "3070          5321  Producing Animals/Slaughtered             1069   \n",
       "3071          5321  Producing Animals/Slaughtered             1069   \n",
       "3072          5321  Producing Animals/Slaughtered             1069   \n",
       "3073          5321  Producing Animals/Slaughtered             1069   \n",
       "3332          5321  Producing Animals/Slaughtered             1080   \n",
       "3333          5321  Producing Animals/Slaughtered             1080   \n",
       "3334          5321  Producing Animals/Slaughtered             1080   \n",
       "3335          5321  Producing Animals/Slaughtered             1080   \n",
       "3377          5321  Producing Animals/Slaughtered             1080   \n",
       "3378          5321  Producing Animals/Slaughtered             1080   \n",
       "3379          5321  Producing Animals/Slaughtered             1080   \n",
       "\n",
       "               Item  Year Code  Year       Unit  Value Flag Flag Description  \n",
       "789      Meat, goat       2018  2018       Head    0.0  NaN    Official data  \n",
       "790      Meat, goat       2019  2019       Head    0.0  NaN    Official data  \n",
       "791      Meat, goat       2020  2020       Head    0.0  NaN    Official data  \n",
       "2148     Meat, goat       2018  2018       Head    0.0  NaN    Official data  \n",
       "2149     Meat, goat       2019  2019       Head    0.0  NaN    Official data  \n",
       "2150     Meat, goat       2020  2020       Head    0.0  NaN    Official data  \n",
       "2844  Meat, chicken       2018  2018  1000 Head    0.0  NaN    Official data  \n",
       "2845  Meat, chicken       2019  2019  1000 Head    0.0  NaN    Official data  \n",
       "2846  Meat, chicken       2020  2020  1000 Head    0.0  NaN    Official data  \n",
       "2847     Meat, duck       2018  2018  1000 Head    0.0  NaN    Official data  \n",
       "2848     Meat, duck       2019  2019  1000 Head    0.0  NaN    Official data  \n",
       "2849     Meat, duck       2020  2020  1000 Head    0.0  NaN    Official data  \n",
       "2869     Meat, goat       2000  2000       Head    0.0  NaN    Official data  \n",
       "2870     Meat, goat       2001  2001       Head    0.0  NaN    Official data  \n",
       "2891    Meat, horse       2001  2001       Head    0.0  NaN    Official data  \n",
       "2971   Meat, turkey       2018  2018  1000 Head    0.0  NaN    Official data  \n",
       "2972   Meat, turkey       2019  2019  1000 Head    0.0  NaN    Official data  \n",
       "2973   Meat, turkey       2020  2020  1000 Head    0.0  NaN    Official data  \n",
       "3070     Meat, duck       1973  1973  1000 Head    0.0   Fc  Calculated data  \n",
       "3071     Meat, duck       1974  1974  1000 Head    0.0   Fc  Calculated data  \n",
       "3072     Meat, duck       1975  1975  1000 Head    0.0   Fc  Calculated data  \n",
       "3073     Meat, duck       1976  1976  1000 Head    0.0   Fc  Calculated data  \n",
       "3332   Meat, turkey       1973  1973  1000 Head    0.0   Fc  Calculated data  \n",
       "3333   Meat, turkey       1974  1974  1000 Head    0.0   Fc  Calculated data  \n",
       "3334   Meat, turkey       1975  1975  1000 Head    0.0   Fc  Calculated data  \n",
       "3335   Meat, turkey       1976  1976  1000 Head    0.0   Fc  Calculated data  \n",
       "3377   Meat, turkey       2018  2018  1000 Head    0.0  NaN    Official data  \n",
       "3378   Meat, turkey       2019  2019  1000 Head    0.0  NaN    Official data  \n",
       "3379   Meat, turkey       2020  2020  1000 Head    0.0  NaN    Official data  "
      ]
     },
     "execution_count": 17,
     "metadata": {},
     "output_type": "execute_result"
    }
   ],
   "source": [
    "slaughter_miss.head(50)"
   ]
  },
  {
   "cell_type": "code",
   "execution_count": 18,
   "id": "26b7c466",
   "metadata": {
    "ExecuteTime": {
     "end_time": "2022-05-12T16:51:16.972829Z",
     "start_time": "2022-05-12T16:51:16.965300Z"
    }
   },
   "outputs": [
    {
     "data": {
      "text/plain": [
       "array(['Meat, goat', 'Meat, chicken', 'Meat, duck', 'Meat, horse',\n",
       "       'Meat, turkey'], dtype=object)"
      ]
     },
     "execution_count": 18,
     "metadata": {},
     "output_type": "execute_result"
    }
   ],
   "source": [
    "# Investigating if the missing data is at random or not at random by checking if it's specific animal categories or not\n",
    "slaughter_miss.Item.unique()"
   ]
  },
  {
   "cell_type": "code",
   "execution_count": 19,
   "id": "79364e14",
   "metadata": {
    "ExecuteTime": {
     "end_time": "2022-05-12T16:51:16.988320Z",
     "start_time": "2022-05-12T16:51:16.972829Z"
    }
   },
   "outputs": [
    {
     "data": {
      "text/plain": [
       "array([0.])"
      ]
     },
     "execution_count": 19,
     "metadata": {},
     "output_type": "execute_result"
    }
   ],
   "source": [
    "slaughter_miss.Value.unique()"
   ]
  },
  {
   "cell_type": "code",
   "execution_count": 20,
   "id": "0f901a97",
   "metadata": {
    "ExecuteTime": {
     "end_time": "2022-05-12T16:51:17.003249Z",
     "start_time": "2022-05-12T16:51:16.989286Z"
    }
   },
   "outputs": [
    {
     "data": {
      "text/plain": [
       "array(['Denmark', 'Ireland', 'Luxembourg', 'Netherlands'], dtype=object)"
      ]
     },
     "execution_count": 20,
     "metadata": {},
     "output_type": "execute_result"
    }
   ],
   "source": [
    "# Investigating if the missing data is at random or not at random by checking if it's specific country's or not\n",
    "slaughter_miss.Area.unique()"
   ]
  },
  {
   "cell_type": "code",
   "execution_count": 21,
   "id": "a59d4f59",
   "metadata": {
    "ExecuteTime": {
     "end_time": "2022-05-12T16:51:17.018209Z",
     "start_time": "2022-05-12T16:51:17.004246Z"
    }
   },
   "outputs": [
    {
     "data": {
      "text/plain": [
       "array([2018, 2019, 2020, 2000, 2001, 1973, 1974, 1975, 1976], dtype=int64)"
      ]
     },
     "execution_count": 21,
     "metadata": {},
     "output_type": "execute_result"
    }
   ],
   "source": [
    "slaughter_miss.Year.unique()"
   ]
  },
  {
   "cell_type": "markdown",
   "id": "a7e5217a",
   "metadata": {},
   "source": [
    "This shows that the missing data is NOT at random, certain countries did not submit data for certain animal categories on certain years. I will deal with this during data preparation."
   ]
  },
  {
   "cell_type": "markdown",
   "id": "050b2dff",
   "metadata": {},
   "source": [
    "## Meat production data"
   ]
  },
  {
   "cell_type": "code",
   "execution_count": 22,
   "id": "7e884623",
   "metadata": {
    "ExecuteTime": {
     "end_time": "2022-05-12T16:51:17.034194Z",
     "start_time": "2022-05-12T16:51:17.019206Z"
    }
   },
   "outputs": [
    {
     "data": {
      "text/html": [
       "<div>\n",
       "<style scoped>\n",
       "    .dataframe tbody tr th:only-of-type {\n",
       "        vertical-align: middle;\n",
       "    }\n",
       "\n",
       "    .dataframe tbody tr th {\n",
       "        vertical-align: top;\n",
       "    }\n",
       "\n",
       "    .dataframe thead th {\n",
       "        text-align: right;\n",
       "    }\n",
       "</style>\n",
       "<table border=\"1\" class=\"dataframe\">\n",
       "  <thead>\n",
       "    <tr style=\"text-align: right;\">\n",
       "      <th></th>\n",
       "      <th>Domain Code</th>\n",
       "      <th>Domain</th>\n",
       "      <th>Area Code (FAO)</th>\n",
       "      <th>Area</th>\n",
       "      <th>Element Code</th>\n",
       "      <th>Element</th>\n",
       "      <th>Item Code (FAO)</th>\n",
       "      <th>Item</th>\n",
       "      <th>Year Code</th>\n",
       "      <th>Year</th>\n",
       "      <th>Unit</th>\n",
       "      <th>Value</th>\n",
       "      <th>Flag</th>\n",
       "      <th>Flag Description</th>\n",
       "    </tr>\n",
       "  </thead>\n",
       "  <tbody>\n",
       "    <tr>\n",
       "      <th>0</th>\n",
       "      <td>QCL</td>\n",
       "      <td>Crops and livestock products</td>\n",
       "      <td>255</td>\n",
       "      <td>Belgium</td>\n",
       "      <td>5510</td>\n",
       "      <td>Production</td>\n",
       "      <td>867</td>\n",
       "      <td>Meat, cattle</td>\n",
       "      <td>2000</td>\n",
       "      <td>2000</td>\n",
       "      <td>tonnes</td>\n",
       "      <td>275360.0</td>\n",
       "      <td>NaN</td>\n",
       "      <td>Official data</td>\n",
       "    </tr>\n",
       "    <tr>\n",
       "      <th>1</th>\n",
       "      <td>QCL</td>\n",
       "      <td>Crops and livestock products</td>\n",
       "      <td>255</td>\n",
       "      <td>Belgium</td>\n",
       "      <td>5510</td>\n",
       "      <td>Production</td>\n",
       "      <td>867</td>\n",
       "      <td>Meat, cattle</td>\n",
       "      <td>2001</td>\n",
       "      <td>2001</td>\n",
       "      <td>tonnes</td>\n",
       "      <td>285250.0</td>\n",
       "      <td>NaN</td>\n",
       "      <td>Official data</td>\n",
       "    </tr>\n",
       "    <tr>\n",
       "      <th>2</th>\n",
       "      <td>QCL</td>\n",
       "      <td>Crops and livestock products</td>\n",
       "      <td>255</td>\n",
       "      <td>Belgium</td>\n",
       "      <td>5510</td>\n",
       "      <td>Production</td>\n",
       "      <td>867</td>\n",
       "      <td>Meat, cattle</td>\n",
       "      <td>2002</td>\n",
       "      <td>2002</td>\n",
       "      <td>tonnes</td>\n",
       "      <td>305388.0</td>\n",
       "      <td>NaN</td>\n",
       "      <td>Official data</td>\n",
       "    </tr>\n",
       "    <tr>\n",
       "      <th>3</th>\n",
       "      <td>QCL</td>\n",
       "      <td>Crops and livestock products</td>\n",
       "      <td>255</td>\n",
       "      <td>Belgium</td>\n",
       "      <td>5510</td>\n",
       "      <td>Production</td>\n",
       "      <td>867</td>\n",
       "      <td>Meat, cattle</td>\n",
       "      <td>2003</td>\n",
       "      <td>2003</td>\n",
       "      <td>tonnes</td>\n",
       "      <td>275170.0</td>\n",
       "      <td>NaN</td>\n",
       "      <td>Official data</td>\n",
       "    </tr>\n",
       "    <tr>\n",
       "      <th>4</th>\n",
       "      <td>QCL</td>\n",
       "      <td>Crops and livestock products</td>\n",
       "      <td>255</td>\n",
       "      <td>Belgium</td>\n",
       "      <td>5510</td>\n",
       "      <td>Production</td>\n",
       "      <td>867</td>\n",
       "      <td>Meat, cattle</td>\n",
       "      <td>2004</td>\n",
       "      <td>2004</td>\n",
       "      <td>tonnes</td>\n",
       "      <td>280931.0</td>\n",
       "      <td>NaN</td>\n",
       "      <td>Official data</td>\n",
       "    </tr>\n",
       "  </tbody>\n",
       "</table>\n",
       "</div>"
      ],
      "text/plain": [
       "  Domain Code                        Domain  Area Code (FAO)     Area  \\\n",
       "0         QCL  Crops and livestock products              255  Belgium   \n",
       "1         QCL  Crops and livestock products              255  Belgium   \n",
       "2         QCL  Crops and livestock products              255  Belgium   \n",
       "3         QCL  Crops and livestock products              255  Belgium   \n",
       "4         QCL  Crops and livestock products              255  Belgium   \n",
       "\n",
       "   Element Code     Element  Item Code (FAO)          Item  Year Code  Year  \\\n",
       "0          5510  Production              867  Meat, cattle       2000  2000   \n",
       "1          5510  Production              867  Meat, cattle       2001  2001   \n",
       "2          5510  Production              867  Meat, cattle       2002  2002   \n",
       "3          5510  Production              867  Meat, cattle       2003  2003   \n",
       "4          5510  Production              867  Meat, cattle       2004  2004   \n",
       "\n",
       "     Unit     Value Flag Flag Description  \n",
       "0  tonnes  275360.0  NaN    Official data  \n",
       "1  tonnes  285250.0  NaN    Official data  \n",
       "2  tonnes  305388.0  NaN    Official data  \n",
       "3  tonnes  275170.0  NaN    Official data  \n",
       "4  tonnes  280931.0  NaN    Official data  "
      ]
     },
     "execution_count": 22,
     "metadata": {},
     "output_type": "execute_result"
    }
   ],
   "source": [
    "meat.head()"
   ]
  },
  {
   "cell_type": "code",
   "execution_count": 23,
   "id": "783b42d8",
   "metadata": {
    "ExecuteTime": {
     "end_time": "2022-05-12T16:51:17.050151Z",
     "start_time": "2022-05-12T16:51:17.035185Z"
    }
   },
   "outputs": [
    {
     "data": {
      "text/plain": [
       "(3940, 14)"
      ]
     },
     "execution_count": 23,
     "metadata": {},
     "output_type": "execute_result"
    }
   ],
   "source": [
    "meat.shape"
   ]
  },
  {
   "cell_type": "code",
   "execution_count": 24,
   "id": "76c164e0",
   "metadata": {
    "ExecuteTime": {
     "end_time": "2022-05-12T16:51:17.066109Z",
     "start_time": "2022-05-12T16:51:17.051121Z"
    }
   },
   "outputs": [
    {
     "name": "stdout",
     "output_type": "stream",
     "text": [
      "<class 'pandas.core.frame.DataFrame'>\n",
      "RangeIndex: 3940 entries, 0 to 3939\n",
      "Data columns (total 14 columns):\n",
      " #   Column            Non-Null Count  Dtype  \n",
      "---  ------            --------------  -----  \n",
      " 0   Domain Code       3940 non-null   object \n",
      " 1   Domain            3940 non-null   object \n",
      " 2   Area Code (FAO)   3940 non-null   int64  \n",
      " 3   Area              3940 non-null   object \n",
      " 4   Element Code      3940 non-null   int64  \n",
      " 5   Element           3940 non-null   object \n",
      " 6   Item Code (FAO)   3940 non-null   int64  \n",
      " 7   Item              3940 non-null   object \n",
      " 8   Year Code         3940 non-null   int64  \n",
      " 9   Year              3940 non-null   int64  \n",
      " 10  Unit              3940 non-null   object \n",
      " 11  Value             3862 non-null   float64\n",
      " 12  Flag              1298 non-null   object \n",
      " 13  Flag Description  3940 non-null   object \n",
      "dtypes: float64(1), int64(5), object(8)\n",
      "memory usage: 431.1+ KB\n"
     ]
    }
   ],
   "source": [
    "meat.info()"
   ]
  },
  {
   "cell_type": "code",
   "execution_count": 25,
   "id": "da8742de",
   "metadata": {
    "ExecuteTime": {
     "end_time": "2022-05-12T16:51:17.087870Z",
     "start_time": "2022-05-12T16:51:17.067079Z"
    }
   },
   "outputs": [
    {
     "data": {
      "text/html": [
       "<div>\n",
       "<style scoped>\n",
       "    .dataframe tbody tr th:only-of-type {\n",
       "        vertical-align: middle;\n",
       "    }\n",
       "\n",
       "    .dataframe tbody tr th {\n",
       "        vertical-align: top;\n",
       "    }\n",
       "\n",
       "    .dataframe thead th {\n",
       "        text-align: right;\n",
       "    }\n",
       "</style>\n",
       "<table border=\"1\" class=\"dataframe\">\n",
       "  <thead>\n",
       "    <tr style=\"text-align: right;\">\n",
       "      <th></th>\n",
       "      <th>Area Code (FAO)</th>\n",
       "      <th>Element Code</th>\n",
       "      <th>Item Code (FAO)</th>\n",
       "      <th>Year Code</th>\n",
       "      <th>Year</th>\n",
       "      <th>Value</th>\n",
       "    </tr>\n",
       "  </thead>\n",
       "  <tbody>\n",
       "    <tr>\n",
       "      <th>count</th>\n",
       "      <td>3940.000000</td>\n",
       "      <td>3940.0</td>\n",
       "      <td>3940.000000</td>\n",
       "      <td>3940.000000</td>\n",
       "      <td>3940.000000</td>\n",
       "      <td>3.862000e+03</td>\n",
       "    </tr>\n",
       "    <tr>\n",
       "      <th>mean</th>\n",
       "      <td>154.790102</td>\n",
       "      <td>5510.0</td>\n",
       "      <td>1042.574873</td>\n",
       "      <td>1997.820051</td>\n",
       "      <td>1997.820051</td>\n",
       "      <td>1.300366e+06</td>\n",
       "    </tr>\n",
       "    <tr>\n",
       "      <th>std</th>\n",
       "      <td>99.951755</td>\n",
       "      <td>0.0</td>\n",
       "      <td>77.053159</td>\n",
       "      <td>13.754285</td>\n",
       "      <td>13.754285</td>\n",
       "      <td>4.658044e+06</td>\n",
       "    </tr>\n",
       "    <tr>\n",
       "      <th>min</th>\n",
       "      <td>54.000000</td>\n",
       "      <td>5510.0</td>\n",
       "      <td>867.000000</td>\n",
       "      <td>1973.000000</td>\n",
       "      <td>1973.000000</td>\n",
       "      <td>0.000000e+00</td>\n",
       "    </tr>\n",
       "    <tr>\n",
       "      <th>25%</th>\n",
       "      <td>79.000000</td>\n",
       "      <td>5510.0</td>\n",
       "      <td>1017.000000</td>\n",
       "      <td>1986.000000</td>\n",
       "      <td>1986.000000</td>\n",
       "      <td>4.966500e+03</td>\n",
       "    </tr>\n",
       "    <tr>\n",
       "      <th>50%</th>\n",
       "      <td>106.000000</td>\n",
       "      <td>5510.0</td>\n",
       "      <td>1058.000000</td>\n",
       "      <td>1999.000000</td>\n",
       "      <td>1999.000000</td>\n",
       "      <td>6.400000e+04</td>\n",
       "    </tr>\n",
       "    <tr>\n",
       "      <th>75%</th>\n",
       "      <td>231.000000</td>\n",
       "      <td>5510.0</td>\n",
       "      <td>1080.000000</td>\n",
       "      <td>2010.000000</td>\n",
       "      <td>2010.000000</td>\n",
       "      <td>6.888240e+05</td>\n",
       "    </tr>\n",
       "    <tr>\n",
       "      <th>max</th>\n",
       "      <td>351.000000</td>\n",
       "      <td>5510.0</td>\n",
       "      <td>1163.000000</td>\n",
       "      <td>2020.000000</td>\n",
       "      <td>2020.000000</td>\n",
       "      <td>5.766187e+07</td>\n",
       "    </tr>\n",
       "  </tbody>\n",
       "</table>\n",
       "</div>"
      ],
      "text/plain": [
       "       Area Code (FAO)  Element Code  Item Code (FAO)    Year Code  \\\n",
       "count      3940.000000        3940.0      3940.000000  3940.000000   \n",
       "mean        154.790102        5510.0      1042.574873  1997.820051   \n",
       "std          99.951755           0.0        77.053159    13.754285   \n",
       "min          54.000000        5510.0       867.000000  1973.000000   \n",
       "25%          79.000000        5510.0      1017.000000  1986.000000   \n",
       "50%         106.000000        5510.0      1058.000000  1999.000000   \n",
       "75%         231.000000        5510.0      1080.000000  2010.000000   \n",
       "max         351.000000        5510.0      1163.000000  2020.000000   \n",
       "\n",
       "              Year         Value  \n",
       "count  3940.000000  3.862000e+03  \n",
       "mean   1997.820051  1.300366e+06  \n",
       "std      13.754285  4.658044e+06  \n",
       "min    1973.000000  0.000000e+00  \n",
       "25%    1986.000000  4.966500e+03  \n",
       "50%    1999.000000  6.400000e+04  \n",
       "75%    2010.000000  6.888240e+05  \n",
       "max    2020.000000  5.766187e+07  "
      ]
     },
     "execution_count": 25,
     "metadata": {},
     "output_type": "execute_result"
    }
   ],
   "source": [
    "meat.describe()"
   ]
  },
  {
   "cell_type": "markdown",
   "id": "12f1f30a",
   "metadata": {},
   "source": [
    "The data is in its current layout is not suitable for statistical analysis as each country is a row.\n",
    "I need to melt the data so that the values for each country are in a column item type."
   ]
  },
  {
   "cell_type": "code",
   "execution_count": 26,
   "id": "d5f78d67",
   "metadata": {
    "ExecuteTime": {
     "end_time": "2022-05-12T16:51:17.103169Z",
     "start_time": "2022-05-12T16:51:17.087870Z"
    }
   },
   "outputs": [
    {
     "data": {
      "text/plain": [
       "array(['Meat, cattle', 'Meat, chicken', 'Meat, duck', 'Meat, goat',\n",
       "       'Meat, horse', 'Meat, pig', 'Meat, sheep', 'Meat, turkey',\n",
       "       'Meat, game', 'Meat, goose and guinea fowl', 'Meat, rabbit'],\n",
       "      dtype=object)"
      ]
     },
     "execution_count": 26,
     "metadata": {},
     "output_type": "execute_result"
    }
   ],
   "source": [
    "meat.Item.unique()"
   ]
  },
  {
   "cell_type": "markdown",
   "id": "7ba0a2c0",
   "metadata": {},
   "source": [
    "There are 11 animal categories in the production data. I can remove the repetition from these item categories when I clean the data"
   ]
  },
  {
   "cell_type": "code",
   "execution_count": 27,
   "id": "c385c662",
   "metadata": {
    "ExecuteTime": {
     "end_time": "2022-05-12T16:51:17.119097Z",
     "start_time": "2022-05-12T16:51:17.104137Z"
    }
   },
   "outputs": [
    {
     "data": {
      "text/plain": [
       "array(['Belgium', 'China', 'Denmark', 'France', 'Germany', 'Ireland',\n",
       "       'Italy', 'Luxembourg', 'Netherlands', 'United States of America'],\n",
       "      dtype=object)"
      ]
     },
     "execution_count": 27,
     "metadata": {},
     "output_type": "execute_result"
    }
   ],
   "source": [
    "meat.Area.unique()"
   ]
  },
  {
   "cell_type": "markdown",
   "id": "47ed5013",
   "metadata": {},
   "source": [
    "As above:\n",
    "\n",
    "The dataset contains 8 EU countries Belgium, Denmark, France, Germany, Luxembourg, Ireland, Italy and the Netherlands. All of these countries have been member states since at least Jan 1st 1973.\n",
    "\n",
    "Belgium, France, Germany, Luxembourg, Italy and the Netherlands founded the EU in 1957 with Ireland and Denmark Joining on the 1st January 1973.\n",
    "\n",
    "Therefore, to ensure data comparability between these countries and the US and China, I limited the datasets time frame from 1st January 1973 to 31st December 2020 (most recent data available). This ensures that all European countries were member states of the EU at the time of analysis. \n",
    "\n",
    "We can confirm this as follows"
   ]
  },
  {
   "cell_type": "code",
   "execution_count": 28,
   "id": "573dd856",
   "metadata": {
    "ExecuteTime": {
     "end_time": "2022-05-12T16:51:17.135054Z",
     "start_time": "2022-05-12T16:51:17.123086Z"
    }
   },
   "outputs": [
    {
     "data": {
      "text/plain": [
       "array([2000, 2001, 2002, 2003, 2004, 2005, 2006, 2007, 2008, 2009, 2010,\n",
       "       2011, 2012, 2013, 2014, 2015, 2016, 2017, 2018, 2019, 2020, 1973,\n",
       "       1974, 1975, 1976, 1977, 1978, 1979, 1980, 1981, 1982, 1983, 1984,\n",
       "       1985, 1986, 1987, 1988, 1989, 1990, 1991, 1992, 1993, 1994, 1995,\n",
       "       1996, 1997, 1998, 1999], dtype=int64)"
      ]
     },
     "execution_count": 28,
     "metadata": {},
     "output_type": "execute_result"
    }
   ],
   "source": [
    "meat.Year.unique()"
   ]
  },
  {
   "cell_type": "code",
   "execution_count": 29,
   "id": "32945c12",
   "metadata": {
    "ExecuteTime": {
     "end_time": "2022-05-12T16:51:17.151012Z",
     "start_time": "2022-05-12T16:51:17.136052Z"
    }
   },
   "outputs": [
    {
     "name": "stdout",
     "output_type": "stream",
     "text": [
      "The earliest year in the dataset is 1973 and the maximum year is 2020\n"
     ]
    }
   ],
   "source": [
    "print(f\"The earliest year in the dataset is {meat.Year.min()} and the maximum year is {meat.Year.max()}\")"
   ]
  },
  {
   "cell_type": "markdown",
   "id": "cef83471",
   "metadata": {},
   "source": [
    "Next we can observe what units the meat production data has been recorded in"
   ]
  },
  {
   "cell_type": "code",
   "execution_count": 30,
   "id": "5a2b283c",
   "metadata": {
    "ExecuteTime": {
     "end_time": "2022-05-12T16:51:17.166997Z",
     "start_time": "2022-05-12T16:51:17.152010Z"
    }
   },
   "outputs": [
    {
     "data": {
      "text/plain": [
       "array(['tonnes'], dtype=object)"
      ]
     },
     "execution_count": 30,
     "metadata": {},
     "output_type": "execute_result"
    }
   ],
   "source": [
    "meat.Unit.unique()"
   ]
  },
  {
   "cell_type": "markdown",
   "id": "4dbb36d7",
   "metadata": {},
   "source": [
    "Production data units have been reported in \"tonnes\"."
   ]
  },
  {
   "cell_type": "code",
   "execution_count": 31,
   "id": "0ea3d89e",
   "metadata": {
    "ExecuteTime": {
     "end_time": "2022-05-12T16:51:17.182926Z",
     "start_time": "2022-05-12T16:51:17.167967Z"
    }
   },
   "outputs": [
    {
     "data": {
      "text/plain": [
       "array(['Production'], dtype=object)"
      ]
     },
     "execution_count": 31,
     "metadata": {},
     "output_type": "execute_result"
    }
   ],
   "source": [
    "meat.Element.unique()"
   ]
  },
  {
   "cell_type": "markdown",
   "id": "3e3b9b08",
   "metadata": {},
   "source": [
    "All livestock in this dataset is at production."
   ]
  },
  {
   "cell_type": "markdown",
   "id": "8208211a",
   "metadata": {},
   "source": [
    "Checking for null values"
   ]
  },
  {
   "cell_type": "code",
   "execution_count": 32,
   "id": "d746f921",
   "metadata": {
    "ExecuteTime": {
     "end_time": "2022-05-12T16:51:17.198884Z",
     "start_time": "2022-05-12T16:51:17.183924Z"
    },
    "scrolled": true
   },
   "outputs": [
    {
     "data": {
      "text/plain": [
       "Domain Code            0\n",
       "Domain                 0\n",
       "Area Code (FAO)        0\n",
       "Area                   0\n",
       "Element Code           0\n",
       "Element                0\n",
       "Item Code (FAO)        0\n",
       "Item                   0\n",
       "Year Code              0\n",
       "Year                   0\n",
       "Unit                   0\n",
       "Value                 78\n",
       "Flag                2642\n",
       "Flag Description       0\n",
       "dtype: int64"
      ]
     },
     "execution_count": 32,
     "metadata": {},
     "output_type": "execute_result"
    }
   ],
   "source": [
    "meat.isnull().sum()"
   ]
  },
  {
   "cell_type": "code",
   "execution_count": 33,
   "id": "a413c2ef",
   "metadata": {
    "ExecuteTime": {
     "end_time": "2022-05-12T16:51:17.214841Z",
     "start_time": "2022-05-12T16:51:17.199881Z"
    }
   },
   "outputs": [
    {
     "name": "stdout",
     "output_type": "stream",
     "text": [
      "The percentage of missing values is:\n",
      "Domain Code          0.00\n",
      "Domain               0.00\n",
      "Area Code (FAO)      0.00\n",
      "Area                 0.00\n",
      "Element Code         0.00\n",
      "Element              0.00\n",
      "Item Code (FAO)      0.00\n",
      "Item                 0.00\n",
      "Year Code            0.00\n",
      "Year                 0.00\n",
      "Unit                 0.00\n",
      "Value                1.98\n",
      "Flag                67.06\n",
      "Flag Description     0.00\n",
      "dtype: float64\n"
     ]
    }
   ],
   "source": [
    "calc_percent_missing(meat.isnull().sum(), len(meat))"
   ]
  },
  {
   "cell_type": "markdown",
   "id": "a426c327",
   "metadata": {
    "ExecuteTime": {
     "end_time": "2022-05-04T12:32:35.976056Z",
     "start_time": "2022-05-04T12:32:35.961016Z"
    }
   },
   "source": [
    "There are missing values in the \"Value\" and \"Flag\" columns.  The flag column is not important to our data analysis\n",
    "so I can remove this during data preparation. However, the value column requires further investigation. We can test if these values are missing at random or not at random by filtering the values that are NaN or 0"
   ]
  },
  {
   "cell_type": "code",
   "execution_count": 34,
   "id": "cb2a46d5",
   "metadata": {
    "ExecuteTime": {
     "end_time": "2022-05-12T16:51:17.221561Z",
     "start_time": "2022-05-12T16:51:17.215838Z"
    }
   },
   "outputs": [],
   "source": [
    "# Creating a data frame of missing meat production\n",
    "meat_miss = meat.loc[(meat['Value'] == meat.Value.isnull())]"
   ]
  },
  {
   "cell_type": "code",
   "execution_count": 35,
   "id": "4849803d",
   "metadata": {
    "ExecuteTime": {
     "end_time": "2022-05-12T16:51:17.252528Z",
     "start_time": "2022-05-12T16:51:17.221561Z"
    }
   },
   "outputs": [
    {
     "data": {
      "text/html": [
       "<div>\n",
       "<style scoped>\n",
       "    .dataframe tbody tr th:only-of-type {\n",
       "        vertical-align: middle;\n",
       "    }\n",
       "\n",
       "    .dataframe tbody tr th {\n",
       "        vertical-align: top;\n",
       "    }\n",
       "\n",
       "    .dataframe thead th {\n",
       "        text-align: right;\n",
       "    }\n",
       "</style>\n",
       "<table border=\"1\" class=\"dataframe\">\n",
       "  <thead>\n",
       "    <tr style=\"text-align: right;\">\n",
       "      <th></th>\n",
       "      <th>Domain Code</th>\n",
       "      <th>Domain</th>\n",
       "      <th>Area Code (FAO)</th>\n",
       "      <th>Area</th>\n",
       "      <th>Element Code</th>\n",
       "      <th>Element</th>\n",
       "      <th>Item Code (FAO)</th>\n",
       "      <th>Item</th>\n",
       "      <th>Year Code</th>\n",
       "      <th>Year</th>\n",
       "      <th>Unit</th>\n",
       "      <th>Value</th>\n",
       "      <th>Flag</th>\n",
       "      <th>Flag Description</th>\n",
       "    </tr>\n",
       "  </thead>\n",
       "  <tbody>\n",
       "    <tr>\n",
       "      <th>883</th>\n",
       "      <td>QCL</td>\n",
       "      <td>Crops and livestock products</td>\n",
       "      <td>54</td>\n",
       "      <td>Denmark</td>\n",
       "      <td>5510</td>\n",
       "      <td>Production</td>\n",
       "      <td>1017</td>\n",
       "      <td>Meat, goat</td>\n",
       "      <td>2018</td>\n",
       "      <td>2018</td>\n",
       "      <td>tonnes</td>\n",
       "      <td>0.0</td>\n",
       "      <td>NaN</td>\n",
       "      <td>Official data</td>\n",
       "    </tr>\n",
       "    <tr>\n",
       "      <th>884</th>\n",
       "      <td>QCL</td>\n",
       "      <td>Crops and livestock products</td>\n",
       "      <td>54</td>\n",
       "      <td>Denmark</td>\n",
       "      <td>5510</td>\n",
       "      <td>Production</td>\n",
       "      <td>1017</td>\n",
       "      <td>Meat, goat</td>\n",
       "      <td>2019</td>\n",
       "      <td>2019</td>\n",
       "      <td>tonnes</td>\n",
       "      <td>0.0</td>\n",
       "      <td>NaN</td>\n",
       "      <td>Official data</td>\n",
       "    </tr>\n",
       "    <tr>\n",
       "      <th>885</th>\n",
       "      <td>QCL</td>\n",
       "      <td>Crops and livestock products</td>\n",
       "      <td>54</td>\n",
       "      <td>Denmark</td>\n",
       "      <td>5510</td>\n",
       "      <td>Production</td>\n",
       "      <td>1017</td>\n",
       "      <td>Meat, goat</td>\n",
       "      <td>2020</td>\n",
       "      <td>2020</td>\n",
       "      <td>tonnes</td>\n",
       "      <td>0.0</td>\n",
       "      <td>NaN</td>\n",
       "      <td>Official data</td>\n",
       "    </tr>\n",
       "    <tr>\n",
       "      <th>1151</th>\n",
       "      <td>QCL</td>\n",
       "      <td>Crops and livestock products</td>\n",
       "      <td>54</td>\n",
       "      <td>Denmark</td>\n",
       "      <td>5510</td>\n",
       "      <td>Production</td>\n",
       "      <td>1080</td>\n",
       "      <td>Meat, turkey</td>\n",
       "      <td>2018</td>\n",
       "      <td>2018</td>\n",
       "      <td>tonnes</td>\n",
       "      <td>0.0</td>\n",
       "      <td>NaN</td>\n",
       "      <td>Official data</td>\n",
       "    </tr>\n",
       "    <tr>\n",
       "      <th>1152</th>\n",
       "      <td>QCL</td>\n",
       "      <td>Crops and livestock products</td>\n",
       "      <td>54</td>\n",
       "      <td>Denmark</td>\n",
       "      <td>5510</td>\n",
       "      <td>Production</td>\n",
       "      <td>1080</td>\n",
       "      <td>Meat, turkey</td>\n",
       "      <td>2019</td>\n",
       "      <td>2019</td>\n",
       "      <td>tonnes</td>\n",
       "      <td>0.0</td>\n",
       "      <td>NaN</td>\n",
       "      <td>Official data</td>\n",
       "    </tr>\n",
       "    <tr>\n",
       "      <th>1153</th>\n",
       "      <td>QCL</td>\n",
       "      <td>Crops and livestock products</td>\n",
       "      <td>54</td>\n",
       "      <td>Denmark</td>\n",
       "      <td>5510</td>\n",
       "      <td>Production</td>\n",
       "      <td>1080</td>\n",
       "      <td>Meat, turkey</td>\n",
       "      <td>2020</td>\n",
       "      <td>2020</td>\n",
       "      <td>tonnes</td>\n",
       "      <td>0.0</td>\n",
       "      <td>NaN</td>\n",
       "      <td>Official data</td>\n",
       "    </tr>\n",
       "    <tr>\n",
       "      <th>1862</th>\n",
       "      <td>QCL</td>\n",
       "      <td>Crops and livestock products</td>\n",
       "      <td>79</td>\n",
       "      <td>Germany</td>\n",
       "      <td>5510</td>\n",
       "      <td>Production</td>\n",
       "      <td>1017</td>\n",
       "      <td>Meat, goat</td>\n",
       "      <td>2018</td>\n",
       "      <td>2018</td>\n",
       "      <td>tonnes</td>\n",
       "      <td>0.0</td>\n",
       "      <td>NaN</td>\n",
       "      <td>Official data</td>\n",
       "    </tr>\n",
       "    <tr>\n",
       "      <th>1863</th>\n",
       "      <td>QCL</td>\n",
       "      <td>Crops and livestock products</td>\n",
       "      <td>79</td>\n",
       "      <td>Germany</td>\n",
       "      <td>5510</td>\n",
       "      <td>Production</td>\n",
       "      <td>1017</td>\n",
       "      <td>Meat, goat</td>\n",
       "      <td>2019</td>\n",
       "      <td>2019</td>\n",
       "      <td>tonnes</td>\n",
       "      <td>0.0</td>\n",
       "      <td>NaN</td>\n",
       "      <td>Official data</td>\n",
       "    </tr>\n",
       "    <tr>\n",
       "      <th>1864</th>\n",
       "      <td>QCL</td>\n",
       "      <td>Crops and livestock products</td>\n",
       "      <td>79</td>\n",
       "      <td>Germany</td>\n",
       "      <td>5510</td>\n",
       "      <td>Production</td>\n",
       "      <td>1017</td>\n",
       "      <td>Meat, goat</td>\n",
       "      <td>2020</td>\n",
       "      <td>2020</td>\n",
       "      <td>tonnes</td>\n",
       "      <td>0.0</td>\n",
       "      <td>NaN</td>\n",
       "      <td>Official data</td>\n",
       "    </tr>\n",
       "    <tr>\n",
       "      <th>2293</th>\n",
       "      <td>QCL</td>\n",
       "      <td>Crops and livestock products</td>\n",
       "      <td>104</td>\n",
       "      <td>Ireland</td>\n",
       "      <td>5510</td>\n",
       "      <td>Production</td>\n",
       "      <td>1017</td>\n",
       "      <td>Meat, goat</td>\n",
       "      <td>2018</td>\n",
       "      <td>2018</td>\n",
       "      <td>tonnes</td>\n",
       "      <td>0.0</td>\n",
       "      <td>NaN</td>\n",
       "      <td>Official data</td>\n",
       "    </tr>\n",
       "    <tr>\n",
       "      <th>2294</th>\n",
       "      <td>QCL</td>\n",
       "      <td>Crops and livestock products</td>\n",
       "      <td>104</td>\n",
       "      <td>Ireland</td>\n",
       "      <td>5510</td>\n",
       "      <td>Production</td>\n",
       "      <td>1017</td>\n",
       "      <td>Meat, goat</td>\n",
       "      <td>2019</td>\n",
       "      <td>2019</td>\n",
       "      <td>tonnes</td>\n",
       "      <td>0.0</td>\n",
       "      <td>NaN</td>\n",
       "      <td>Official data</td>\n",
       "    </tr>\n",
       "    <tr>\n",
       "      <th>2295</th>\n",
       "      <td>QCL</td>\n",
       "      <td>Crops and livestock products</td>\n",
       "      <td>104</td>\n",
       "      <td>Ireland</td>\n",
       "      <td>5510</td>\n",
       "      <td>Production</td>\n",
       "      <td>1017</td>\n",
       "      <td>Meat, goat</td>\n",
       "      <td>2020</td>\n",
       "      <td>2020</td>\n",
       "      <td>tonnes</td>\n",
       "      <td>0.0</td>\n",
       "      <td>NaN</td>\n",
       "      <td>Official data</td>\n",
       "    </tr>\n",
       "    <tr>\n",
       "      <th>2987</th>\n",
       "      <td>QCL</td>\n",
       "      <td>Crops and livestock products</td>\n",
       "      <td>256</td>\n",
       "      <td>Luxembourg</td>\n",
       "      <td>5510</td>\n",
       "      <td>Production</td>\n",
       "      <td>1058</td>\n",
       "      <td>Meat, chicken</td>\n",
       "      <td>2018</td>\n",
       "      <td>2018</td>\n",
       "      <td>tonnes</td>\n",
       "      <td>0.0</td>\n",
       "      <td>NaN</td>\n",
       "      <td>Official data</td>\n",
       "    </tr>\n",
       "    <tr>\n",
       "      <th>2988</th>\n",
       "      <td>QCL</td>\n",
       "      <td>Crops and livestock products</td>\n",
       "      <td>256</td>\n",
       "      <td>Luxembourg</td>\n",
       "      <td>5510</td>\n",
       "      <td>Production</td>\n",
       "      <td>1058</td>\n",
       "      <td>Meat, chicken</td>\n",
       "      <td>2019</td>\n",
       "      <td>2019</td>\n",
       "      <td>tonnes</td>\n",
       "      <td>0.0</td>\n",
       "      <td>NaN</td>\n",
       "      <td>Official data</td>\n",
       "    </tr>\n",
       "    <tr>\n",
       "      <th>2989</th>\n",
       "      <td>QCL</td>\n",
       "      <td>Crops and livestock products</td>\n",
       "      <td>256</td>\n",
       "      <td>Luxembourg</td>\n",
       "      <td>5510</td>\n",
       "      <td>Production</td>\n",
       "      <td>1058</td>\n",
       "      <td>Meat, chicken</td>\n",
       "      <td>2020</td>\n",
       "      <td>2020</td>\n",
       "      <td>tonnes</td>\n",
       "      <td>0.0</td>\n",
       "      <td>NaN</td>\n",
       "      <td>Official data</td>\n",
       "    </tr>\n",
       "    <tr>\n",
       "      <th>2990</th>\n",
       "      <td>QCL</td>\n",
       "      <td>Crops and livestock products</td>\n",
       "      <td>256</td>\n",
       "      <td>Luxembourg</td>\n",
       "      <td>5510</td>\n",
       "      <td>Production</td>\n",
       "      <td>1069</td>\n",
       "      <td>Meat, duck</td>\n",
       "      <td>2018</td>\n",
       "      <td>2018</td>\n",
       "      <td>tonnes</td>\n",
       "      <td>0.0</td>\n",
       "      <td>NaN</td>\n",
       "      <td>Official data</td>\n",
       "    </tr>\n",
       "    <tr>\n",
       "      <th>2991</th>\n",
       "      <td>QCL</td>\n",
       "      <td>Crops and livestock products</td>\n",
       "      <td>256</td>\n",
       "      <td>Luxembourg</td>\n",
       "      <td>5510</td>\n",
       "      <td>Production</td>\n",
       "      <td>1069</td>\n",
       "      <td>Meat, duck</td>\n",
       "      <td>2019</td>\n",
       "      <td>2019</td>\n",
       "      <td>tonnes</td>\n",
       "      <td>0.0</td>\n",
       "      <td>NaN</td>\n",
       "      <td>Official data</td>\n",
       "    </tr>\n",
       "    <tr>\n",
       "      <th>2992</th>\n",
       "      <td>QCL</td>\n",
       "      <td>Crops and livestock products</td>\n",
       "      <td>256</td>\n",
       "      <td>Luxembourg</td>\n",
       "      <td>5510</td>\n",
       "      <td>Production</td>\n",
       "      <td>1069</td>\n",
       "      <td>Meat, duck</td>\n",
       "      <td>2020</td>\n",
       "      <td>2020</td>\n",
       "      <td>tonnes</td>\n",
       "      <td>0.0</td>\n",
       "      <td>NaN</td>\n",
       "      <td>Official data</td>\n",
       "    </tr>\n",
       "    <tr>\n",
       "      <th>3012</th>\n",
       "      <td>QCL</td>\n",
       "      <td>Crops and livestock products</td>\n",
       "      <td>256</td>\n",
       "      <td>Luxembourg</td>\n",
       "      <td>5510</td>\n",
       "      <td>Production</td>\n",
       "      <td>1017</td>\n",
       "      <td>Meat, goat</td>\n",
       "      <td>2000</td>\n",
       "      <td>2000</td>\n",
       "      <td>tonnes</td>\n",
       "      <td>0.0</td>\n",
       "      <td>NaN</td>\n",
       "      <td>Official data</td>\n",
       "    </tr>\n",
       "    <tr>\n",
       "      <th>3013</th>\n",
       "      <td>QCL</td>\n",
       "      <td>Crops and livestock products</td>\n",
       "      <td>256</td>\n",
       "      <td>Luxembourg</td>\n",
       "      <td>5510</td>\n",
       "      <td>Production</td>\n",
       "      <td>1017</td>\n",
       "      <td>Meat, goat</td>\n",
       "      <td>2001</td>\n",
       "      <td>2001</td>\n",
       "      <td>tonnes</td>\n",
       "      <td>0.0</td>\n",
       "      <td>NaN</td>\n",
       "      <td>Official data</td>\n",
       "    </tr>\n",
       "    <tr>\n",
       "      <th>3030</th>\n",
       "      <td>QCL</td>\n",
       "      <td>Crops and livestock products</td>\n",
       "      <td>256</td>\n",
       "      <td>Luxembourg</td>\n",
       "      <td>5510</td>\n",
       "      <td>Production</td>\n",
       "      <td>1017</td>\n",
       "      <td>Meat, goat</td>\n",
       "      <td>2018</td>\n",
       "      <td>2018</td>\n",
       "      <td>tonnes</td>\n",
       "      <td>0.0</td>\n",
       "      <td>NaN</td>\n",
       "      <td>Official data</td>\n",
       "    </tr>\n",
       "    <tr>\n",
       "      <th>3031</th>\n",
       "      <td>QCL</td>\n",
       "      <td>Crops and livestock products</td>\n",
       "      <td>256</td>\n",
       "      <td>Luxembourg</td>\n",
       "      <td>5510</td>\n",
       "      <td>Production</td>\n",
       "      <td>1017</td>\n",
       "      <td>Meat, goat</td>\n",
       "      <td>2019</td>\n",
       "      <td>2019</td>\n",
       "      <td>tonnes</td>\n",
       "      <td>0.0</td>\n",
       "      <td>NaN</td>\n",
       "      <td>Official data</td>\n",
       "    </tr>\n",
       "    <tr>\n",
       "      <th>3032</th>\n",
       "      <td>QCL</td>\n",
       "      <td>Crops and livestock products</td>\n",
       "      <td>256</td>\n",
       "      <td>Luxembourg</td>\n",
       "      <td>5510</td>\n",
       "      <td>Production</td>\n",
       "      <td>1017</td>\n",
       "      <td>Meat, goat</td>\n",
       "      <td>2020</td>\n",
       "      <td>2020</td>\n",
       "      <td>tonnes</td>\n",
       "      <td>0.0</td>\n",
       "      <td>NaN</td>\n",
       "      <td>Official data</td>\n",
       "    </tr>\n",
       "    <tr>\n",
       "      <th>3034</th>\n",
       "      <td>QCL</td>\n",
       "      <td>Crops and livestock products</td>\n",
       "      <td>256</td>\n",
       "      <td>Luxembourg</td>\n",
       "      <td>5510</td>\n",
       "      <td>Production</td>\n",
       "      <td>1097</td>\n",
       "      <td>Meat, horse</td>\n",
       "      <td>2001</td>\n",
       "      <td>2001</td>\n",
       "      <td>tonnes</td>\n",
       "      <td>0.0</td>\n",
       "      <td>NaN</td>\n",
       "      <td>Official data</td>\n",
       "    </tr>\n",
       "    <tr>\n",
       "      <th>3114</th>\n",
       "      <td>QCL</td>\n",
       "      <td>Crops and livestock products</td>\n",
       "      <td>256</td>\n",
       "      <td>Luxembourg</td>\n",
       "      <td>5510</td>\n",
       "      <td>Production</td>\n",
       "      <td>1080</td>\n",
       "      <td>Meat, turkey</td>\n",
       "      <td>2018</td>\n",
       "      <td>2018</td>\n",
       "      <td>tonnes</td>\n",
       "      <td>0.0</td>\n",
       "      <td>NaN</td>\n",
       "      <td>Official data</td>\n",
       "    </tr>\n",
       "    <tr>\n",
       "      <th>3115</th>\n",
       "      <td>QCL</td>\n",
       "      <td>Crops and livestock products</td>\n",
       "      <td>256</td>\n",
       "      <td>Luxembourg</td>\n",
       "      <td>5510</td>\n",
       "      <td>Production</td>\n",
       "      <td>1080</td>\n",
       "      <td>Meat, turkey</td>\n",
       "      <td>2019</td>\n",
       "      <td>2019</td>\n",
       "      <td>tonnes</td>\n",
       "      <td>0.0</td>\n",
       "      <td>NaN</td>\n",
       "      <td>Official data</td>\n",
       "    </tr>\n",
       "    <tr>\n",
       "      <th>3116</th>\n",
       "      <td>QCL</td>\n",
       "      <td>Crops and livestock products</td>\n",
       "      <td>256</td>\n",
       "      <td>Luxembourg</td>\n",
       "      <td>5510</td>\n",
       "      <td>Production</td>\n",
       "      <td>1080</td>\n",
       "      <td>Meat, turkey</td>\n",
       "      <td>2020</td>\n",
       "      <td>2020</td>\n",
       "      <td>tonnes</td>\n",
       "      <td>0.0</td>\n",
       "      <td>NaN</td>\n",
       "      <td>Official data</td>\n",
       "    </tr>\n",
       "    <tr>\n",
       "      <th>3261</th>\n",
       "      <td>QCL</td>\n",
       "      <td>Crops and livestock products</td>\n",
       "      <td>150</td>\n",
       "      <td>Netherlands</td>\n",
       "      <td>5510</td>\n",
       "      <td>Production</td>\n",
       "      <td>1163</td>\n",
       "      <td>Meat, game</td>\n",
       "      <td>1986</td>\n",
       "      <td>1986</td>\n",
       "      <td>tonnes</td>\n",
       "      <td>0.0</td>\n",
       "      <td>F</td>\n",
       "      <td>FAO estimate</td>\n",
       "    </tr>\n",
       "    <tr>\n",
       "      <th>3279</th>\n",
       "      <td>QCL</td>\n",
       "      <td>Crops and livestock products</td>\n",
       "      <td>150</td>\n",
       "      <td>Netherlands</td>\n",
       "      <td>5510</td>\n",
       "      <td>Production</td>\n",
       "      <td>1163</td>\n",
       "      <td>Meat, game</td>\n",
       "      <td>2005</td>\n",
       "      <td>2005</td>\n",
       "      <td>tonnes</td>\n",
       "      <td>0.0</td>\n",
       "      <td>F</td>\n",
       "      <td>FAO estimate</td>\n",
       "    </tr>\n",
       "    <tr>\n",
       "      <th>3523</th>\n",
       "      <td>QCL</td>\n",
       "      <td>Crops and livestock products</td>\n",
       "      <td>150</td>\n",
       "      <td>Netherlands</td>\n",
       "      <td>5510</td>\n",
       "      <td>Production</td>\n",
       "      <td>1080</td>\n",
       "      <td>Meat, turkey</td>\n",
       "      <td>2018</td>\n",
       "      <td>2018</td>\n",
       "      <td>tonnes</td>\n",
       "      <td>0.0</td>\n",
       "      <td>NaN</td>\n",
       "      <td>Official data</td>\n",
       "    </tr>\n",
       "    <tr>\n",
       "      <th>3524</th>\n",
       "      <td>QCL</td>\n",
       "      <td>Crops and livestock products</td>\n",
       "      <td>150</td>\n",
       "      <td>Netherlands</td>\n",
       "      <td>5510</td>\n",
       "      <td>Production</td>\n",
       "      <td>1080</td>\n",
       "      <td>Meat, turkey</td>\n",
       "      <td>2019</td>\n",
       "      <td>2019</td>\n",
       "      <td>tonnes</td>\n",
       "      <td>0.0</td>\n",
       "      <td>NaN</td>\n",
       "      <td>Official data</td>\n",
       "    </tr>\n",
       "    <tr>\n",
       "      <th>3525</th>\n",
       "      <td>QCL</td>\n",
       "      <td>Crops and livestock products</td>\n",
       "      <td>150</td>\n",
       "      <td>Netherlands</td>\n",
       "      <td>5510</td>\n",
       "      <td>Production</td>\n",
       "      <td>1080</td>\n",
       "      <td>Meat, turkey</td>\n",
       "      <td>2020</td>\n",
       "      <td>2020</td>\n",
       "      <td>tonnes</td>\n",
       "      <td>0.0</td>\n",
       "      <td>NaN</td>\n",
       "      <td>Official data</td>\n",
       "    </tr>\n",
       "  </tbody>\n",
       "</table>\n",
       "</div>"
      ],
      "text/plain": [
       "     Domain Code                        Domain  Area Code (FAO)         Area  \\\n",
       "883          QCL  Crops and livestock products               54      Denmark   \n",
       "884          QCL  Crops and livestock products               54      Denmark   \n",
       "885          QCL  Crops and livestock products               54      Denmark   \n",
       "1151         QCL  Crops and livestock products               54      Denmark   \n",
       "1152         QCL  Crops and livestock products               54      Denmark   \n",
       "1153         QCL  Crops and livestock products               54      Denmark   \n",
       "1862         QCL  Crops and livestock products               79      Germany   \n",
       "1863         QCL  Crops and livestock products               79      Germany   \n",
       "1864         QCL  Crops and livestock products               79      Germany   \n",
       "2293         QCL  Crops and livestock products              104      Ireland   \n",
       "2294         QCL  Crops and livestock products              104      Ireland   \n",
       "2295         QCL  Crops and livestock products              104      Ireland   \n",
       "2987         QCL  Crops and livestock products              256   Luxembourg   \n",
       "2988         QCL  Crops and livestock products              256   Luxembourg   \n",
       "2989         QCL  Crops and livestock products              256   Luxembourg   \n",
       "2990         QCL  Crops and livestock products              256   Luxembourg   \n",
       "2991         QCL  Crops and livestock products              256   Luxembourg   \n",
       "2992         QCL  Crops and livestock products              256   Luxembourg   \n",
       "3012         QCL  Crops and livestock products              256   Luxembourg   \n",
       "3013         QCL  Crops and livestock products              256   Luxembourg   \n",
       "3030         QCL  Crops and livestock products              256   Luxembourg   \n",
       "3031         QCL  Crops and livestock products              256   Luxembourg   \n",
       "3032         QCL  Crops and livestock products              256   Luxembourg   \n",
       "3034         QCL  Crops and livestock products              256   Luxembourg   \n",
       "3114         QCL  Crops and livestock products              256   Luxembourg   \n",
       "3115         QCL  Crops and livestock products              256   Luxembourg   \n",
       "3116         QCL  Crops and livestock products              256   Luxembourg   \n",
       "3261         QCL  Crops and livestock products              150  Netherlands   \n",
       "3279         QCL  Crops and livestock products              150  Netherlands   \n",
       "3523         QCL  Crops and livestock products              150  Netherlands   \n",
       "3524         QCL  Crops and livestock products              150  Netherlands   \n",
       "3525         QCL  Crops and livestock products              150  Netherlands   \n",
       "\n",
       "      Element Code     Element  Item Code (FAO)           Item  Year Code  \\\n",
       "883           5510  Production             1017     Meat, goat       2018   \n",
       "884           5510  Production             1017     Meat, goat       2019   \n",
       "885           5510  Production             1017     Meat, goat       2020   \n",
       "1151          5510  Production             1080   Meat, turkey       2018   \n",
       "1152          5510  Production             1080   Meat, turkey       2019   \n",
       "1153          5510  Production             1080   Meat, turkey       2020   \n",
       "1862          5510  Production             1017     Meat, goat       2018   \n",
       "1863          5510  Production             1017     Meat, goat       2019   \n",
       "1864          5510  Production             1017     Meat, goat       2020   \n",
       "2293          5510  Production             1017     Meat, goat       2018   \n",
       "2294          5510  Production             1017     Meat, goat       2019   \n",
       "2295          5510  Production             1017     Meat, goat       2020   \n",
       "2987          5510  Production             1058  Meat, chicken       2018   \n",
       "2988          5510  Production             1058  Meat, chicken       2019   \n",
       "2989          5510  Production             1058  Meat, chicken       2020   \n",
       "2990          5510  Production             1069     Meat, duck       2018   \n",
       "2991          5510  Production             1069     Meat, duck       2019   \n",
       "2992          5510  Production             1069     Meat, duck       2020   \n",
       "3012          5510  Production             1017     Meat, goat       2000   \n",
       "3013          5510  Production             1017     Meat, goat       2001   \n",
       "3030          5510  Production             1017     Meat, goat       2018   \n",
       "3031          5510  Production             1017     Meat, goat       2019   \n",
       "3032          5510  Production             1017     Meat, goat       2020   \n",
       "3034          5510  Production             1097    Meat, horse       2001   \n",
       "3114          5510  Production             1080   Meat, turkey       2018   \n",
       "3115          5510  Production             1080   Meat, turkey       2019   \n",
       "3116          5510  Production             1080   Meat, turkey       2020   \n",
       "3261          5510  Production             1163     Meat, game       1986   \n",
       "3279          5510  Production             1163     Meat, game       2005   \n",
       "3523          5510  Production             1080   Meat, turkey       2018   \n",
       "3524          5510  Production             1080   Meat, turkey       2019   \n",
       "3525          5510  Production             1080   Meat, turkey       2020   \n",
       "\n",
       "      Year    Unit  Value Flag Flag Description  \n",
       "883   2018  tonnes    0.0  NaN    Official data  \n",
       "884   2019  tonnes    0.0  NaN    Official data  \n",
       "885   2020  tonnes    0.0  NaN    Official data  \n",
       "1151  2018  tonnes    0.0  NaN    Official data  \n",
       "1152  2019  tonnes    0.0  NaN    Official data  \n",
       "1153  2020  tonnes    0.0  NaN    Official data  \n",
       "1862  2018  tonnes    0.0  NaN    Official data  \n",
       "1863  2019  tonnes    0.0  NaN    Official data  \n",
       "1864  2020  tonnes    0.0  NaN    Official data  \n",
       "2293  2018  tonnes    0.0  NaN    Official data  \n",
       "2294  2019  tonnes    0.0  NaN    Official data  \n",
       "2295  2020  tonnes    0.0  NaN    Official data  \n",
       "2987  2018  tonnes    0.0  NaN    Official data  \n",
       "2988  2019  tonnes    0.0  NaN    Official data  \n",
       "2989  2020  tonnes    0.0  NaN    Official data  \n",
       "2990  2018  tonnes    0.0  NaN    Official data  \n",
       "2991  2019  tonnes    0.0  NaN    Official data  \n",
       "2992  2020  tonnes    0.0  NaN    Official data  \n",
       "3012  2000  tonnes    0.0  NaN    Official data  \n",
       "3013  2001  tonnes    0.0  NaN    Official data  \n",
       "3030  2018  tonnes    0.0  NaN    Official data  \n",
       "3031  2019  tonnes    0.0  NaN    Official data  \n",
       "3032  2020  tonnes    0.0  NaN    Official data  \n",
       "3034  2001  tonnes    0.0  NaN    Official data  \n",
       "3114  2018  tonnes    0.0  NaN    Official data  \n",
       "3115  2019  tonnes    0.0  NaN    Official data  \n",
       "3116  2020  tonnes    0.0  NaN    Official data  \n",
       "3261  1986  tonnes    0.0    F     FAO estimate  \n",
       "3279  2005  tonnes    0.0    F     FAO estimate  \n",
       "3523  2018  tonnes    0.0  NaN    Official data  \n",
       "3524  2019  tonnes    0.0  NaN    Official data  \n",
       "3525  2020  tonnes    0.0  NaN    Official data  "
      ]
     },
     "execution_count": 35,
     "metadata": {},
     "output_type": "execute_result"
    }
   ],
   "source": [
    "meat_miss.head(50)"
   ]
  },
  {
   "cell_type": "code",
   "execution_count": 36,
   "id": "9f974238",
   "metadata": {
    "ExecuteTime": {
     "end_time": "2022-05-12T16:51:17.268485Z",
     "start_time": "2022-05-12T16:51:17.253525Z"
    }
   },
   "outputs": [
    {
     "data": {
      "text/plain": [
       "array(['Meat, goat', 'Meat, turkey', 'Meat, chicken', 'Meat, duck',\n",
       "       'Meat, horse', 'Meat, game'], dtype=object)"
      ]
     },
     "execution_count": 36,
     "metadata": {},
     "output_type": "execute_result"
    }
   ],
   "source": [
    "# Investigating if the missing data is at random or not at random by checking if it's specific animal categories or not\n",
    "meat_miss.Item.unique()"
   ]
  },
  {
   "cell_type": "code",
   "execution_count": 37,
   "id": "2627f443",
   "metadata": {
    "ExecuteTime": {
     "end_time": "2022-05-12T16:51:17.284443Z",
     "start_time": "2022-05-12T16:51:17.269483Z"
    }
   },
   "outputs": [
    {
     "data": {
      "text/plain": [
       "array([0.])"
      ]
     },
     "execution_count": 37,
     "metadata": {},
     "output_type": "execute_result"
    }
   ],
   "source": [
    "meat_miss.Value.unique()"
   ]
  },
  {
   "cell_type": "code",
   "execution_count": 38,
   "id": "368f3440",
   "metadata": {
    "ExecuteTime": {
     "end_time": "2022-05-12T16:51:17.300400Z",
     "start_time": "2022-05-12T16:51:17.285455Z"
    }
   },
   "outputs": [
    {
     "data": {
      "text/plain": [
       "array(['Denmark', 'Germany', 'Ireland', 'Luxembourg', 'Netherlands'],\n",
       "      dtype=object)"
      ]
     },
     "execution_count": 38,
     "metadata": {},
     "output_type": "execute_result"
    }
   ],
   "source": [
    "# Investigating if the missing data is at random or not at random by checking if it's specific country's or not\n",
    "meat_miss.Area.unique()"
   ]
  },
  {
   "cell_type": "code",
   "execution_count": 39,
   "id": "ad16eb6e",
   "metadata": {
    "ExecuteTime": {
     "end_time": "2022-05-12T16:51:17.315898Z",
     "start_time": "2022-05-12T16:51:17.301397Z"
    }
   },
   "outputs": [
    {
     "data": {
      "text/plain": [
       "array([2018, 2019, 2020, 2000, 2001, 1986, 2005], dtype=int64)"
      ]
     },
     "execution_count": 39,
     "metadata": {},
     "output_type": "execute_result"
    }
   ],
   "source": [
    "meat_miss.Year.unique()"
   ]
  },
  {
   "cell_type": "markdown",
   "id": "3f154261",
   "metadata": {},
   "source": [
    "This shows that the missing data is NOT at random, certain countries did not submit data for certain animal categories on certain years. I will deal with this during data preparation.\n",
    "\n",
    "In addition, it shows that the missing categories and years are similar to the Slaughter data. There may have been no requirement to report for these categories on these years."
   ]
  },
  {
   "cell_type": "markdown",
   "id": "f5a4c2f1",
   "metadata": {},
   "source": [
    "## Livestock stocking data"
   ]
  },
  {
   "cell_type": "code",
   "execution_count": 40,
   "id": "c2eedccf",
   "metadata": {
    "ExecuteTime": {
     "end_time": "2022-05-12T16:51:17.331856Z",
     "start_time": "2022-05-12T16:51:17.316896Z"
    }
   },
   "outputs": [
    {
     "data": {
      "text/html": [
       "<div>\n",
       "<style scoped>\n",
       "    .dataframe tbody tr th:only-of-type {\n",
       "        vertical-align: middle;\n",
       "    }\n",
       "\n",
       "    .dataframe tbody tr th {\n",
       "        vertical-align: top;\n",
       "    }\n",
       "\n",
       "    .dataframe thead th {\n",
       "        text-align: right;\n",
       "    }\n",
       "</style>\n",
       "<table border=\"1\" class=\"dataframe\">\n",
       "  <thead>\n",
       "    <tr style=\"text-align: right;\">\n",
       "      <th></th>\n",
       "      <th>Domain Code</th>\n",
       "      <th>Domain</th>\n",
       "      <th>Area Code (FAO)</th>\n",
       "      <th>Area</th>\n",
       "      <th>Element Code</th>\n",
       "      <th>Element</th>\n",
       "      <th>Item Code (FAO)</th>\n",
       "      <th>Item</th>\n",
       "      <th>Year Code</th>\n",
       "      <th>Year</th>\n",
       "      <th>Unit</th>\n",
       "      <th>Value</th>\n",
       "      <th>Flag</th>\n",
       "      <th>Flag Description</th>\n",
       "    </tr>\n",
       "  </thead>\n",
       "  <tbody>\n",
       "    <tr>\n",
       "      <th>0</th>\n",
       "      <td>QCL</td>\n",
       "      <td>Crops and livestock products</td>\n",
       "      <td>255</td>\n",
       "      <td>Belgium</td>\n",
       "      <td>5111</td>\n",
       "      <td>Stocks</td>\n",
       "      <td>866</td>\n",
       "      <td>Cattle</td>\n",
       "      <td>2000</td>\n",
       "      <td>2000</td>\n",
       "      <td>Head</td>\n",
       "      <td>3041560.0</td>\n",
       "      <td>NaN</td>\n",
       "      <td>Official data</td>\n",
       "    </tr>\n",
       "    <tr>\n",
       "      <th>1</th>\n",
       "      <td>QCL</td>\n",
       "      <td>Crops and livestock products</td>\n",
       "      <td>255</td>\n",
       "      <td>Belgium</td>\n",
       "      <td>5111</td>\n",
       "      <td>Stocks</td>\n",
       "      <td>866</td>\n",
       "      <td>Cattle</td>\n",
       "      <td>2001</td>\n",
       "      <td>2001</td>\n",
       "      <td>Head</td>\n",
       "      <td>3037760.0</td>\n",
       "      <td>NaN</td>\n",
       "      <td>Official data</td>\n",
       "    </tr>\n",
       "    <tr>\n",
       "      <th>2</th>\n",
       "      <td>QCL</td>\n",
       "      <td>Crops and livestock products</td>\n",
       "      <td>255</td>\n",
       "      <td>Belgium</td>\n",
       "      <td>5111</td>\n",
       "      <td>Stocks</td>\n",
       "      <td>866</td>\n",
       "      <td>Cattle</td>\n",
       "      <td>2002</td>\n",
       "      <td>2002</td>\n",
       "      <td>Head</td>\n",
       "      <td>2891260.0</td>\n",
       "      <td>NaN</td>\n",
       "      <td>Official data</td>\n",
       "    </tr>\n",
       "    <tr>\n",
       "      <th>3</th>\n",
       "      <td>QCL</td>\n",
       "      <td>Crops and livestock products</td>\n",
       "      <td>255</td>\n",
       "      <td>Belgium</td>\n",
       "      <td>5111</td>\n",
       "      <td>Stocks</td>\n",
       "      <td>866</td>\n",
       "      <td>Cattle</td>\n",
       "      <td>2003</td>\n",
       "      <td>2003</td>\n",
       "      <td>Head</td>\n",
       "      <td>2778077.0</td>\n",
       "      <td>NaN</td>\n",
       "      <td>Official data</td>\n",
       "    </tr>\n",
       "    <tr>\n",
       "      <th>4</th>\n",
       "      <td>QCL</td>\n",
       "      <td>Crops and livestock products</td>\n",
       "      <td>255</td>\n",
       "      <td>Belgium</td>\n",
       "      <td>5111</td>\n",
       "      <td>Stocks</td>\n",
       "      <td>866</td>\n",
       "      <td>Cattle</td>\n",
       "      <td>2004</td>\n",
       "      <td>2004</td>\n",
       "      <td>Head</td>\n",
       "      <td>2738648.0</td>\n",
       "      <td>NaN</td>\n",
       "      <td>Official data</td>\n",
       "    </tr>\n",
       "  </tbody>\n",
       "</table>\n",
       "</div>"
      ],
      "text/plain": [
       "  Domain Code                        Domain  Area Code (FAO)     Area  \\\n",
       "0         QCL  Crops and livestock products              255  Belgium   \n",
       "1         QCL  Crops and livestock products              255  Belgium   \n",
       "2         QCL  Crops and livestock products              255  Belgium   \n",
       "3         QCL  Crops and livestock products              255  Belgium   \n",
       "4         QCL  Crops and livestock products              255  Belgium   \n",
       "\n",
       "   Element Code Element  Item Code (FAO)    Item  Year Code  Year  Unit  \\\n",
       "0          5111  Stocks              866  Cattle       2000  2000  Head   \n",
       "1          5111  Stocks              866  Cattle       2001  2001  Head   \n",
       "2          5111  Stocks              866  Cattle       2002  2002  Head   \n",
       "3          5111  Stocks              866  Cattle       2003  2003  Head   \n",
       "4          5111  Stocks              866  Cattle       2004  2004  Head   \n",
       "\n",
       "       Value Flag Flag Description  \n",
       "0  3041560.0  NaN    Official data  \n",
       "1  3037760.0  NaN    Official data  \n",
       "2  2891260.0  NaN    Official data  \n",
       "3  2778077.0  NaN    Official data  \n",
       "4  2738648.0  NaN    Official data  "
      ]
     },
     "execution_count": 40,
     "metadata": {},
     "output_type": "execute_result"
    }
   ],
   "source": [
    "stock.head()"
   ]
  },
  {
   "cell_type": "code",
   "execution_count": 41,
   "id": "02dd759f",
   "metadata": {
    "ExecuteTime": {
     "end_time": "2022-05-12T16:51:17.347812Z",
     "start_time": "2022-05-12T16:51:17.332853Z"
    }
   },
   "outputs": [
    {
     "data": {
      "text/plain": [
       "(3735, 14)"
      ]
     },
     "execution_count": 41,
     "metadata": {},
     "output_type": "execute_result"
    }
   ],
   "source": [
    "stock.shape"
   ]
  },
  {
   "cell_type": "code",
   "execution_count": 42,
   "id": "018a28fd",
   "metadata": {
    "ExecuteTime": {
     "end_time": "2022-05-12T16:51:17.363770Z",
     "start_time": "2022-05-12T16:51:17.348824Z"
    }
   },
   "outputs": [
    {
     "name": "stdout",
     "output_type": "stream",
     "text": [
      "<class 'pandas.core.frame.DataFrame'>\n",
      "RangeIndex: 3735 entries, 0 to 3734\n",
      "Data columns (total 14 columns):\n",
      " #   Column            Non-Null Count  Dtype  \n",
      "---  ------            --------------  -----  \n",
      " 0   Domain Code       3735 non-null   object \n",
      " 1   Domain            3735 non-null   object \n",
      " 2   Area Code (FAO)   3735 non-null   int64  \n",
      " 3   Area              3735 non-null   object \n",
      " 4   Element Code      3735 non-null   int64  \n",
      " 5   Element           3735 non-null   object \n",
      " 6   Item Code (FAO)   3735 non-null   int64  \n",
      " 7   Item              3735 non-null   object \n",
      " 8   Year Code         3735 non-null   int64  \n",
      " 9   Year              3735 non-null   int64  \n",
      " 10  Unit              3735 non-null   object \n",
      " 11  Value             3670 non-null   float64\n",
      " 12  Flag              1103 non-null   object \n",
      " 13  Flag Description  3735 non-null   object \n",
      "dtypes: float64(1), int64(5), object(8)\n",
      "memory usage: 408.6+ KB\n"
     ]
    }
   ],
   "source": [
    "stock.info()"
   ]
  },
  {
   "cell_type": "code",
   "execution_count": 43,
   "id": "265fe6a0",
   "metadata": {
    "ExecuteTime": {
     "end_time": "2022-05-12T16:51:17.395685Z",
     "start_time": "2022-05-12T16:51:17.364767Z"
    }
   },
   "outputs": [
    {
     "data": {
      "text/html": [
       "<div>\n",
       "<style scoped>\n",
       "    .dataframe tbody tr th:only-of-type {\n",
       "        vertical-align: middle;\n",
       "    }\n",
       "\n",
       "    .dataframe tbody tr th {\n",
       "        vertical-align: top;\n",
       "    }\n",
       "\n",
       "    .dataframe thead th {\n",
       "        text-align: right;\n",
       "    }\n",
       "</style>\n",
       "<table border=\"1\" class=\"dataframe\">\n",
       "  <thead>\n",
       "    <tr style=\"text-align: right;\">\n",
       "      <th></th>\n",
       "      <th>Area Code (FAO)</th>\n",
       "      <th>Element Code</th>\n",
       "      <th>Item Code (FAO)</th>\n",
       "      <th>Year Code</th>\n",
       "      <th>Year</th>\n",
       "      <th>Value</th>\n",
       "    </tr>\n",
       "  </thead>\n",
       "  <tbody>\n",
       "    <tr>\n",
       "      <th>count</th>\n",
       "      <td>3735.000000</td>\n",
       "      <td>3735.000000</td>\n",
       "      <td>3735.000000</td>\n",
       "      <td>3735.00000</td>\n",
       "      <td>3735.00000</td>\n",
       "      <td>3.670000e+03</td>\n",
       "    </tr>\n",
       "    <tr>\n",
       "      <th>mean</th>\n",
       "      <td>154.917269</td>\n",
       "      <td>5111.448728</td>\n",
       "      <td>1033.941098</td>\n",
       "      <td>1997.31593</td>\n",
       "      <td>1997.31593</td>\n",
       "      <td>1.389960e+07</td>\n",
       "    </tr>\n",
       "    <tr>\n",
       "      <th>std</th>\n",
       "      <td>98.436050</td>\n",
       "      <td>0.497431</td>\n",
       "      <td>73.118241</td>\n",
       "      <td>13.67837</td>\n",
       "      <td>13.67837</td>\n",
       "      <td>5.001213e+07</td>\n",
       "    </tr>\n",
       "    <tr>\n",
       "      <th>min</th>\n",
       "      <td>54.000000</td>\n",
       "      <td>5111.000000</td>\n",
       "      <td>866.000000</td>\n",
       "      <td>1973.00000</td>\n",
       "      <td>1973.00000</td>\n",
       "      <td>2.000000e+00</td>\n",
       "    </tr>\n",
       "    <tr>\n",
       "      <th>25%</th>\n",
       "      <td>79.000000</td>\n",
       "      <td>5111.000000</td>\n",
       "      <td>1016.000000</td>\n",
       "      <td>1985.00000</td>\n",
       "      <td>1985.00000</td>\n",
       "      <td>8.278250e+03</td>\n",
       "    </tr>\n",
       "    <tr>\n",
       "      <th>50%</th>\n",
       "      <td>106.000000</td>\n",
       "      <td>5111.000000</td>\n",
       "      <td>1057.000000</td>\n",
       "      <td>1998.00000</td>\n",
       "      <td>1998.00000</td>\n",
       "      <td>1.960655e+05</td>\n",
       "    </tr>\n",
       "    <tr>\n",
       "      <th>75%</th>\n",
       "      <td>231.000000</td>\n",
       "      <td>5112.000000</td>\n",
       "      <td>1079.000000</td>\n",
       "      <td>2009.00000</td>\n",
       "      <td>2009.00000</td>\n",
       "      <td>6.134275e+06</td>\n",
       "    </tr>\n",
       "    <tr>\n",
       "      <th>max</th>\n",
       "      <td>351.000000</td>\n",
       "      <td>5112.000000</td>\n",
       "      <td>1140.000000</td>\n",
       "      <td>2020.00000</td>\n",
       "      <td>2020.00000</td>\n",
       "      <td>4.867429e+08</td>\n",
       "    </tr>\n",
       "  </tbody>\n",
       "</table>\n",
       "</div>"
      ],
      "text/plain": [
       "       Area Code (FAO)  Element Code  Item Code (FAO)   Year Code        Year  \\\n",
       "count      3735.000000   3735.000000      3735.000000  3735.00000  3735.00000   \n",
       "mean        154.917269   5111.448728      1033.941098  1997.31593  1997.31593   \n",
       "std          98.436050      0.497431        73.118241    13.67837    13.67837   \n",
       "min          54.000000   5111.000000       866.000000  1973.00000  1973.00000   \n",
       "25%          79.000000   5111.000000      1016.000000  1985.00000  1985.00000   \n",
       "50%         106.000000   5111.000000      1057.000000  1998.00000  1998.00000   \n",
       "75%         231.000000   5112.000000      1079.000000  2009.00000  2009.00000   \n",
       "max         351.000000   5112.000000      1140.000000  2020.00000  2020.00000   \n",
       "\n",
       "              Value  \n",
       "count  3.670000e+03  \n",
       "mean   1.389960e+07  \n",
       "std    5.001213e+07  \n",
       "min    2.000000e+00  \n",
       "25%    8.278250e+03  \n",
       "50%    1.960655e+05  \n",
       "75%    6.134275e+06  \n",
       "max    4.867429e+08  "
      ]
     },
     "execution_count": 43,
     "metadata": {},
     "output_type": "execute_result"
    }
   ],
   "source": [
    "stock.describe()"
   ]
  },
  {
   "cell_type": "markdown",
   "id": "184d107d",
   "metadata": {},
   "source": [
    "The data is in its current layout is not suitable for statistical analysis as each country is a row.\n",
    "I need to melt the data so that the values for each country are in a column item type."
   ]
  },
  {
   "cell_type": "code",
   "execution_count": 44,
   "id": "a9b5756f",
   "metadata": {
    "ExecuteTime": {
     "end_time": "2022-05-12T16:51:17.411642Z",
     "start_time": "2022-05-12T16:51:17.396695Z"
    }
   },
   "outputs": [
    {
     "data": {
      "text/plain": [
       "array(['Cattle', 'Chickens', 'Ducks', 'Geese and guinea fowls', 'Goats',\n",
       "       'Horses', 'Pigs', 'Rabbits and hares', 'Sheep', 'Turkeys'],\n",
       "      dtype=object)"
      ]
     },
     "execution_count": 44,
     "metadata": {},
     "output_type": "execute_result"
    }
   ],
   "source": [
    "stock.Item.unique()"
   ]
  },
  {
   "cell_type": "markdown",
   "id": "9ee58a8c",
   "metadata": {},
   "source": [
    "There are 10 animal categories in the stocking data."
   ]
  },
  {
   "cell_type": "code",
   "execution_count": 45,
   "id": "6296cf91",
   "metadata": {
    "ExecuteTime": {
     "end_time": "2022-05-12T16:51:17.427599Z",
     "start_time": "2022-05-12T16:51:17.412639Z"
    }
   },
   "outputs": [
    {
     "data": {
      "text/plain": [
       "array(['Belgium', 'China', 'Denmark', 'France', 'Germany', 'Ireland',\n",
       "       'Italy', 'Luxembourg', 'Netherlands', 'United States of America'],\n",
       "      dtype=object)"
      ]
     },
     "execution_count": 45,
     "metadata": {},
     "output_type": "execute_result"
    }
   ],
   "source": [
    "stock.Area.unique()"
   ]
  },
  {
   "cell_type": "markdown",
   "id": "f373f7c1",
   "metadata": {},
   "source": [
    "As above:\n",
    "\n",
    "The dataset contains 8 EU countries Belgium, Denmark, France, Germany, Luxembourg, Ireland, Italy and the Netherlands. All of these countries have been member states since at least Jan 1st 1973.\n",
    "\n",
    "Belgium, France, Germany, Luxembourg, Italy and the Netherlands founded the EU in 1957 with Ireland and Denmark Joining on the 1st January 1973.\n",
    "\n",
    "Therefore, to ensure data comparability between these countries and the US and China, I limited the datasets time frame from 1st January 1973 to 31st December 2020 (most recent data available). This ensures that all European countries were member states of the EU at the time of analysis. \n",
    "\n",
    "We can confirm this as follows"
   ]
  },
  {
   "cell_type": "code",
   "execution_count": 46,
   "id": "865db932",
   "metadata": {
    "ExecuteTime": {
     "end_time": "2022-05-12T16:51:17.443556Z",
     "start_time": "2022-05-12T16:51:17.428597Z"
    }
   },
   "outputs": [
    {
     "data": {
      "text/plain": [
       "array([2000, 2001, 2002, 2003, 2004, 2005, 2006, 2007, 2008, 2009, 2010,\n",
       "       2011, 2012, 2013, 2014, 2015, 2016, 2017, 2018, 2019, 2020, 1973,\n",
       "       1974, 1975, 1976, 1977, 1978, 1979, 1980, 1981, 1982, 1983, 1984,\n",
       "       1985, 1986, 1987, 1988, 1989, 1990, 1991, 1992, 1993, 1994, 1995,\n",
       "       1996, 1997, 1998, 1999], dtype=int64)"
      ]
     },
     "execution_count": 46,
     "metadata": {},
     "output_type": "execute_result"
    }
   ],
   "source": [
    "stock.Year.unique()"
   ]
  },
  {
   "cell_type": "code",
   "execution_count": 47,
   "id": "655a06cb",
   "metadata": {
    "ExecuteTime": {
     "end_time": "2022-05-12T16:51:17.459514Z",
     "start_time": "2022-05-12T16:51:17.444554Z"
    }
   },
   "outputs": [
    {
     "name": "stdout",
     "output_type": "stream",
     "text": [
      "The earliest year in the dataset is 1973 and the maximum year is 2020\n"
     ]
    }
   ],
   "source": [
    "print(f\"The earliest year in the dataset is {stock.Year.min()} and the maximum year is {stock.Year.max()}\")"
   ]
  },
  {
   "cell_type": "markdown",
   "id": "6ee3fed1",
   "metadata": {},
   "source": [
    "Next we can observe what units the livestock stocking data has been recorded in"
   ]
  },
  {
   "cell_type": "code",
   "execution_count": 48,
   "id": "f56d2104",
   "metadata": {
    "ExecuteTime": {
     "end_time": "2022-05-12T16:51:17.478057Z",
     "start_time": "2022-05-12T16:51:17.460511Z"
    }
   },
   "outputs": [
    {
     "data": {
      "text/plain": [
       "array(['Head', '1000 Head'], dtype=object)"
      ]
     },
     "execution_count": 48,
     "metadata": {},
     "output_type": "execute_result"
    }
   ],
   "source": [
    "stock.Unit.unique()"
   ]
  },
  {
   "cell_type": "markdown",
   "id": "564f3907",
   "metadata": {},
   "source": [
    "Socking data units have been reported in \"heads\" and \"1000 heads\"."
   ]
  },
  {
   "cell_type": "code",
   "execution_count": 49,
   "id": "a276fcf1",
   "metadata": {
    "ExecuteTime": {
     "end_time": "2022-05-12T16:51:17.494014Z",
     "start_time": "2022-05-12T16:51:17.479054Z"
    }
   },
   "outputs": [
    {
     "data": {
      "text/plain": [
       "array(['Stocks'], dtype=object)"
      ]
     },
     "execution_count": 49,
     "metadata": {},
     "output_type": "execute_result"
    }
   ],
   "source": [
    "stock.Element.unique()"
   ]
  },
  {
   "cell_type": "markdown",
   "id": "32710631",
   "metadata": {},
   "source": [
    "All livestock in this dataset is at production."
   ]
  },
  {
   "cell_type": "markdown",
   "id": "97d7e62a",
   "metadata": {},
   "source": [
    "Checking for null values"
   ]
  },
  {
   "cell_type": "code",
   "execution_count": 50,
   "id": "75c84a7b",
   "metadata": {
    "ExecuteTime": {
     "end_time": "2022-05-12T16:51:17.509971Z",
     "start_time": "2022-05-12T16:51:17.495026Z"
    },
    "scrolled": true
   },
   "outputs": [
    {
     "data": {
      "text/plain": [
       "Domain Code            0\n",
       "Domain                 0\n",
       "Area Code (FAO)        0\n",
       "Area                   0\n",
       "Element Code           0\n",
       "Element                0\n",
       "Item Code (FAO)        0\n",
       "Item                   0\n",
       "Year Code              0\n",
       "Year                   0\n",
       "Unit                   0\n",
       "Value                 65\n",
       "Flag                2632\n",
       "Flag Description       0\n",
       "dtype: int64"
      ]
     },
     "execution_count": 50,
     "metadata": {},
     "output_type": "execute_result"
    }
   ],
   "source": [
    "stock.isnull().sum()"
   ]
  },
  {
   "cell_type": "code",
   "execution_count": 51,
   "id": "8c37ac6d",
   "metadata": {
    "ExecuteTime": {
     "end_time": "2022-05-12T16:51:17.525958Z",
     "start_time": "2022-05-12T16:51:17.510969Z"
    }
   },
   "outputs": [
    {
     "name": "stdout",
     "output_type": "stream",
     "text": [
      "The percentage of missing values is:\n",
      "Domain Code          0.00\n",
      "Domain               0.00\n",
      "Area Code (FAO)      0.00\n",
      "Area                 0.00\n",
      "Element Code         0.00\n",
      "Element              0.00\n",
      "Item Code (FAO)      0.00\n",
      "Item                 0.00\n",
      "Year Code            0.00\n",
      "Year                 0.00\n",
      "Unit                 0.00\n",
      "Value                1.74\n",
      "Flag                70.47\n",
      "Flag Description     0.00\n",
      "dtype: float64\n"
     ]
    }
   ],
   "source": [
    "calc_percent_missing(stock.isnull().sum(), len(stock))"
   ]
  },
  {
   "cell_type": "markdown",
   "id": "283da975",
   "metadata": {
    "ExecuteTime": {
     "end_time": "2022-05-04T12:32:35.976056Z",
     "start_time": "2022-05-04T12:32:35.961016Z"
    }
   },
   "source": [
    "There are missing values in the \"Value\" and \"Flag\" columns.  The flag column is not important to our data analysis\n",
    "so I can remove this during data preparation. However, the value column requires further investigation. We can test if these values are missing at random or not at random by filtering the values that are NaN or 0"
   ]
  },
  {
   "cell_type": "code",
   "execution_count": 52,
   "id": "39221ce3",
   "metadata": {
    "ExecuteTime": {
     "end_time": "2022-05-12T16:51:17.541886Z",
     "start_time": "2022-05-12T16:51:17.526926Z"
    }
   },
   "outputs": [
    {
     "data": {
      "text/plain": [
       "Index(['Domain Code', 'Domain', 'Area Code (FAO)', 'Area', 'Element Code',\n",
       "       'Element', 'Item Code (FAO)', 'Item', 'Year Code', 'Year', 'Unit',\n",
       "       'Value', 'Flag', 'Flag Description'],\n",
       "      dtype='object')"
      ]
     },
     "execution_count": 52,
     "metadata": {},
     "output_type": "execute_result"
    }
   ],
   "source": [
    "stock.columns"
   ]
  },
  {
   "cell_type": "code",
   "execution_count": 53,
   "id": "41b356df",
   "metadata": {
    "ExecuteTime": {
     "end_time": "2022-05-12T16:51:17.557871Z",
     "start_time": "2022-05-12T16:51:17.542884Z"
    }
   },
   "outputs": [],
   "source": [
    "# Creating a data frame of missing stocking densities\n",
    "stock_miss = stock.loc[(stock['Value'] == stock.Value.isnull())]"
   ]
  },
  {
   "cell_type": "markdown",
   "id": "c63a25fb",
   "metadata": {},
   "source": [
    "The NaNs do not show up on filter, only those with a value of \"Zero\""
   ]
  },
  {
   "cell_type": "code",
   "execution_count": 54,
   "id": "9ae535ab",
   "metadata": {
    "ExecuteTime": {
     "end_time": "2022-05-12T16:51:17.573829Z",
     "start_time": "2022-05-12T16:51:17.558842Z"
    }
   },
   "outputs": [
    {
     "data": {
      "text/html": [
       "<div>\n",
       "<style scoped>\n",
       "    .dataframe tbody tr th:only-of-type {\n",
       "        vertical-align: middle;\n",
       "    }\n",
       "\n",
       "    .dataframe tbody tr th {\n",
       "        vertical-align: top;\n",
       "    }\n",
       "\n",
       "    .dataframe thead th {\n",
       "        text-align: right;\n",
       "    }\n",
       "</style>\n",
       "<table border=\"1\" class=\"dataframe\">\n",
       "  <thead>\n",
       "    <tr style=\"text-align: right;\">\n",
       "      <th></th>\n",
       "      <th>Domain Code</th>\n",
       "      <th>Domain</th>\n",
       "      <th>Area Code (FAO)</th>\n",
       "      <th>Area</th>\n",
       "      <th>Element Code</th>\n",
       "      <th>Element</th>\n",
       "      <th>Item Code (FAO)</th>\n",
       "      <th>Item</th>\n",
       "      <th>Year Code</th>\n",
       "      <th>Year</th>\n",
       "      <th>Unit</th>\n",
       "      <th>Value</th>\n",
       "      <th>Flag</th>\n",
       "      <th>Flag Description</th>\n",
       "    </tr>\n",
       "  </thead>\n",
       "  <tbody>\n",
       "  </tbody>\n",
       "</table>\n",
       "</div>"
      ],
      "text/plain": [
       "Empty DataFrame\n",
       "Columns: [Domain Code, Domain, Area Code (FAO), Area, Element Code, Element, Item Code (FAO), Item, Year Code, Year, Unit, Value, Flag, Flag Description]\n",
       "Index: []"
      ]
     },
     "execution_count": 54,
     "metadata": {},
     "output_type": "execute_result"
    }
   ],
   "source": [
    "stock_miss.head(50)"
   ]
  },
  {
   "cell_type": "code",
   "execution_count": 55,
   "id": "082f670c",
   "metadata": {
    "ExecuteTime": {
     "end_time": "2022-05-12T16:51:17.589785Z",
     "start_time": "2022-05-12T16:51:17.574798Z"
    }
   },
   "outputs": [
    {
     "data": {
      "text/plain": [
       "array([], dtype=object)"
      ]
     },
     "execution_count": 55,
     "metadata": {},
     "output_type": "execute_result"
    }
   ],
   "source": [
    "# Investigating if the missing data is at random or not at random by checking if it's specific animal categories or not\n",
    "stock_miss.Item.unique()"
   ]
  },
  {
   "cell_type": "code",
   "execution_count": 56,
   "id": "aa5e3295",
   "metadata": {
    "ExecuteTime": {
     "end_time": "2022-05-12T16:51:17.602310Z",
     "start_time": "2022-05-12T16:51:17.590756Z"
    }
   },
   "outputs": [
    {
     "data": {
      "text/plain": [
       "array([], dtype=float64)"
      ]
     },
     "execution_count": 56,
     "metadata": {},
     "output_type": "execute_result"
    }
   ],
   "source": [
    "stock_miss.Value.unique()"
   ]
  },
  {
   "cell_type": "code",
   "execution_count": 57,
   "id": "43b81752",
   "metadata": {
    "ExecuteTime": {
     "end_time": "2022-05-12T16:51:17.617507Z",
     "start_time": "2022-05-12T16:51:17.602310Z"
    }
   },
   "outputs": [
    {
     "data": {
      "text/plain": [
       "array([], dtype=object)"
      ]
     },
     "execution_count": 57,
     "metadata": {},
     "output_type": "execute_result"
    }
   ],
   "source": [
    "# Investigating if the missing data is at random or not at random by checking if it's specific country's or not\n",
    "stock_miss.Area.unique()"
   ]
  },
  {
   "cell_type": "code",
   "execution_count": 58,
   "id": "fcef76c1",
   "metadata": {
    "ExecuteTime": {
     "end_time": "2022-05-12T16:51:17.633464Z",
     "start_time": "2022-05-12T16:51:17.618505Z"
    }
   },
   "outputs": [
    {
     "data": {
      "text/plain": [
       "array([], dtype=int64)"
      ]
     },
     "execution_count": 58,
     "metadata": {},
     "output_type": "execute_result"
    }
   ],
   "source": [
    "stock_miss.Year.unique()"
   ]
  },
  {
   "cell_type": "markdown",
   "id": "3810e2ef",
   "metadata": {},
   "source": [
    "## Import export data"
   ]
  },
  {
   "cell_type": "code",
   "execution_count": 59,
   "id": "9c87591e",
   "metadata": {
    "ExecuteTime": {
     "end_time": "2022-05-12T16:51:17.649422Z",
     "start_time": "2022-05-12T16:51:17.634462Z"
    }
   },
   "outputs": [
    {
     "data": {
      "text/html": [
       "<div>\n",
       "<style scoped>\n",
       "    .dataframe tbody tr th:only-of-type {\n",
       "        vertical-align: middle;\n",
       "    }\n",
       "\n",
       "    .dataframe tbody tr th {\n",
       "        vertical-align: top;\n",
       "    }\n",
       "\n",
       "    .dataframe thead th {\n",
       "        text-align: right;\n",
       "    }\n",
       "</style>\n",
       "<table border=\"1\" class=\"dataframe\">\n",
       "  <thead>\n",
       "    <tr style=\"text-align: right;\">\n",
       "      <th></th>\n",
       "      <th>Domain Code</th>\n",
       "      <th>Domain</th>\n",
       "      <th>Area Code (FAO)</th>\n",
       "      <th>Area</th>\n",
       "      <th>Element Code</th>\n",
       "      <th>Element</th>\n",
       "      <th>Item Code (FAO)</th>\n",
       "      <th>Item</th>\n",
       "      <th>Year Code</th>\n",
       "      <th>Year</th>\n",
       "      <th>Unit</th>\n",
       "      <th>Value</th>\n",
       "      <th>Flag</th>\n",
       "      <th>Flag Description</th>\n",
       "    </tr>\n",
       "  </thead>\n",
       "  <tbody>\n",
       "    <tr>\n",
       "      <th>0</th>\n",
       "      <td>TCL</td>\n",
       "      <td>Crops and livestock products</td>\n",
       "      <td>255</td>\n",
       "      <td>Belgium</td>\n",
       "      <td>5608</td>\n",
       "      <td>Import Quantity</td>\n",
       "      <td>866</td>\n",
       "      <td>Cattle</td>\n",
       "      <td>2000</td>\n",
       "      <td>2000</td>\n",
       "      <td>Head</td>\n",
       "      <td>59395.0</td>\n",
       "      <td>NaN</td>\n",
       "      <td>Official data</td>\n",
       "    </tr>\n",
       "    <tr>\n",
       "      <th>1</th>\n",
       "      <td>TCL</td>\n",
       "      <td>Crops and livestock products</td>\n",
       "      <td>255</td>\n",
       "      <td>Belgium</td>\n",
       "      <td>5608</td>\n",
       "      <td>Import Quantity</td>\n",
       "      <td>866</td>\n",
       "      <td>Cattle</td>\n",
       "      <td>2001</td>\n",
       "      <td>2001</td>\n",
       "      <td>Head</td>\n",
       "      <td>44232.0</td>\n",
       "      <td>NaN</td>\n",
       "      <td>Official data</td>\n",
       "    </tr>\n",
       "    <tr>\n",
       "      <th>2</th>\n",
       "      <td>TCL</td>\n",
       "      <td>Crops and livestock products</td>\n",
       "      <td>255</td>\n",
       "      <td>Belgium</td>\n",
       "      <td>5608</td>\n",
       "      <td>Import Quantity</td>\n",
       "      <td>866</td>\n",
       "      <td>Cattle</td>\n",
       "      <td>2002</td>\n",
       "      <td>2002</td>\n",
       "      <td>Head</td>\n",
       "      <td>61054.0</td>\n",
       "      <td>NaN</td>\n",
       "      <td>Official data</td>\n",
       "    </tr>\n",
       "    <tr>\n",
       "      <th>3</th>\n",
       "      <td>TCL</td>\n",
       "      <td>Crops and livestock products</td>\n",
       "      <td>255</td>\n",
       "      <td>Belgium</td>\n",
       "      <td>5608</td>\n",
       "      <td>Import Quantity</td>\n",
       "      <td>866</td>\n",
       "      <td>Cattle</td>\n",
       "      <td>2003</td>\n",
       "      <td>2003</td>\n",
       "      <td>Head</td>\n",
       "      <td>85727.0</td>\n",
       "      <td>NaN</td>\n",
       "      <td>Official data</td>\n",
       "    </tr>\n",
       "    <tr>\n",
       "      <th>4</th>\n",
       "      <td>TCL</td>\n",
       "      <td>Crops and livestock products</td>\n",
       "      <td>255</td>\n",
       "      <td>Belgium</td>\n",
       "      <td>5608</td>\n",
       "      <td>Import Quantity</td>\n",
       "      <td>866</td>\n",
       "      <td>Cattle</td>\n",
       "      <td>2004</td>\n",
       "      <td>2004</td>\n",
       "      <td>Head</td>\n",
       "      <td>100891.0</td>\n",
       "      <td>NaN</td>\n",
       "      <td>Official data</td>\n",
       "    </tr>\n",
       "  </tbody>\n",
       "</table>\n",
       "</div>"
      ],
      "text/plain": [
       "  Domain Code                        Domain  Area Code (FAO)     Area  \\\n",
       "0         TCL  Crops and livestock products              255  Belgium   \n",
       "1         TCL  Crops and livestock products              255  Belgium   \n",
       "2         TCL  Crops and livestock products              255  Belgium   \n",
       "3         TCL  Crops and livestock products              255  Belgium   \n",
       "4         TCL  Crops and livestock products              255  Belgium   \n",
       "\n",
       "   Element Code          Element  Item Code (FAO)    Item  Year Code  Year  \\\n",
       "0          5608  Import Quantity              866  Cattle       2000  2000   \n",
       "1          5608  Import Quantity              866  Cattle       2001  2001   \n",
       "2          5608  Import Quantity              866  Cattle       2002  2002   \n",
       "3          5608  Import Quantity              866  Cattle       2003  2003   \n",
       "4          5608  Import Quantity              866  Cattle       2004  2004   \n",
       "\n",
       "   Unit     Value Flag Flag Description  \n",
       "0  Head   59395.0  NaN    Official data  \n",
       "1  Head   44232.0  NaN    Official data  \n",
       "2  Head   61054.0  NaN    Official data  \n",
       "3  Head   85727.0  NaN    Official data  \n",
       "4  Head  100891.0  NaN    Official data  "
      ]
     },
     "execution_count": 59,
     "metadata": {},
     "output_type": "execute_result"
    }
   ],
   "source": [
    "imp_exp.head()"
   ]
  },
  {
   "cell_type": "code",
   "execution_count": 60,
   "id": "43707fda",
   "metadata": {
    "ExecuteTime": {
     "end_time": "2022-05-12T16:51:17.665379Z",
     "start_time": "2022-05-12T16:51:17.650432Z"
    }
   },
   "outputs": [
    {
     "data": {
      "text/plain": [
       "(14411, 14)"
      ]
     },
     "execution_count": 60,
     "metadata": {},
     "output_type": "execute_result"
    }
   ],
   "source": [
    "imp_exp.shape"
   ]
  },
  {
   "cell_type": "code",
   "execution_count": 61,
   "id": "ba0460e0",
   "metadata": {
    "ExecuteTime": {
     "end_time": "2022-05-12T16:51:17.681364Z",
     "start_time": "2022-05-12T16:51:17.666377Z"
    }
   },
   "outputs": [
    {
     "name": "stdout",
     "output_type": "stream",
     "text": [
      "<class 'pandas.core.frame.DataFrame'>\n",
      "RangeIndex: 14411 entries, 0 to 14410\n",
      "Data columns (total 14 columns):\n",
      " #   Column            Non-Null Count  Dtype  \n",
      "---  ------            --------------  -----  \n",
      " 0   Domain Code       14411 non-null  object \n",
      " 1   Domain            14411 non-null  object \n",
      " 2   Area Code (FAO)   14411 non-null  int64  \n",
      " 3   Area              14411 non-null  object \n",
      " 4   Element Code      14411 non-null  int64  \n",
      " 5   Element           14411 non-null  object \n",
      " 6   Item Code (FAO)   14411 non-null  int64  \n",
      " 7   Item              14411 non-null  object \n",
      " 8   Year Code         14411 non-null  int64  \n",
      " 9   Year              14411 non-null  int64  \n",
      " 10  Unit              14411 non-null  object \n",
      " 11  Value             14263 non-null  float64\n",
      " 12  Flag              2446 non-null   object \n",
      " 13  Flag Description  14411 non-null  object \n",
      "dtypes: float64(1), int64(5), object(8)\n",
      "memory usage: 1.5+ MB\n"
     ]
    }
   ],
   "source": [
    "imp_exp.info()"
   ]
  },
  {
   "cell_type": "code",
   "execution_count": 62,
   "id": "16745b9b",
   "metadata": {
    "ExecuteTime": {
     "end_time": "2022-05-12T16:51:17.713280Z",
     "start_time": "2022-05-12T16:51:17.682336Z"
    }
   },
   "outputs": [
    {
     "data": {
      "text/html": [
       "<div>\n",
       "<style scoped>\n",
       "    .dataframe tbody tr th:only-of-type {\n",
       "        vertical-align: middle;\n",
       "    }\n",
       "\n",
       "    .dataframe tbody tr th {\n",
       "        vertical-align: top;\n",
       "    }\n",
       "\n",
       "    .dataframe thead th {\n",
       "        text-align: right;\n",
       "    }\n",
       "</style>\n",
       "<table border=\"1\" class=\"dataframe\">\n",
       "  <thead>\n",
       "    <tr style=\"text-align: right;\">\n",
       "      <th></th>\n",
       "      <th>Area Code (FAO)</th>\n",
       "      <th>Element Code</th>\n",
       "      <th>Item Code (FAO)</th>\n",
       "      <th>Year Code</th>\n",
       "      <th>Year</th>\n",
       "      <th>Value</th>\n",
       "    </tr>\n",
       "  </thead>\n",
       "  <tbody>\n",
       "    <tr>\n",
       "      <th>count</th>\n",
       "      <td>14411.000000</td>\n",
       "      <td>14411.000000</td>\n",
       "      <td>14411.000000</td>\n",
       "      <td>14411.000000</td>\n",
       "      <td>14411.000000</td>\n",
       "      <td>1.426300e+04</td>\n",
       "    </tr>\n",
       "    <tr>\n",
       "      <th>mean</th>\n",
       "      <td>154.272778</td>\n",
       "      <td>5764.227257</td>\n",
       "      <td>1023.589480</td>\n",
       "      <td>1998.889182</td>\n",
       "      <td>1998.889182</td>\n",
       "      <td>1.764494e+05</td>\n",
       "    </tr>\n",
       "    <tr>\n",
       "      <th>std</th>\n",
       "      <td>95.451054</td>\n",
       "      <td>150.154608</td>\n",
       "      <td>70.081096</td>\n",
       "      <td>14.211274</td>\n",
       "      <td>14.211274</td>\n",
       "      <td>7.850559e+05</td>\n",
       "    </tr>\n",
       "    <tr>\n",
       "      <th>min</th>\n",
       "      <td>54.000000</td>\n",
       "      <td>5608.000000</td>\n",
       "      <td>866.000000</td>\n",
       "      <td>1973.000000</td>\n",
       "      <td>1973.000000</td>\n",
       "      <td>0.000000e+00</td>\n",
       "    </tr>\n",
       "    <tr>\n",
       "      <th>25%</th>\n",
       "      <td>79.000000</td>\n",
       "      <td>5610.000000</td>\n",
       "      <td>976.000000</td>\n",
       "      <td>1987.000000</td>\n",
       "      <td>1987.000000</td>\n",
       "      <td>2.640000e+02</td>\n",
       "    </tr>\n",
       "    <tr>\n",
       "      <th>50%</th>\n",
       "      <td>106.000000</td>\n",
       "      <td>5622.000000</td>\n",
       "      <td>1034.000000</td>\n",
       "      <td>2000.000000</td>\n",
       "      <td>2000.000000</td>\n",
       "      <td>5.808000e+03</td>\n",
       "    </tr>\n",
       "    <tr>\n",
       "      <th>75%</th>\n",
       "      <td>231.000000</td>\n",
       "      <td>5910.000000</td>\n",
       "      <td>1079.000000</td>\n",
       "      <td>2012.000000</td>\n",
       "      <td>2012.000000</td>\n",
       "      <td>6.571350e+04</td>\n",
       "    </tr>\n",
       "    <tr>\n",
       "      <th>max</th>\n",
       "      <td>351.000000</td>\n",
       "      <td>5922.000000</td>\n",
       "      <td>1096.000000</td>\n",
       "      <td>2020.000000</td>\n",
       "      <td>2020.000000</td>\n",
       "      <td>1.589366e+07</td>\n",
       "    </tr>\n",
       "  </tbody>\n",
       "</table>\n",
       "</div>"
      ],
      "text/plain": [
       "       Area Code (FAO)  Element Code  Item Code (FAO)     Year Code  \\\n",
       "count     14411.000000  14411.000000     14411.000000  14411.000000   \n",
       "mean        154.272778   5764.227257      1023.589480   1998.889182   \n",
       "std          95.451054    150.154608        70.081096     14.211274   \n",
       "min          54.000000   5608.000000       866.000000   1973.000000   \n",
       "25%          79.000000   5610.000000       976.000000   1987.000000   \n",
       "50%         106.000000   5622.000000      1034.000000   2000.000000   \n",
       "75%         231.000000   5910.000000      1079.000000   2012.000000   \n",
       "max         351.000000   5922.000000      1096.000000   2020.000000   \n",
       "\n",
       "               Year         Value  \n",
       "count  14411.000000  1.426300e+04  \n",
       "mean    1998.889182  1.764494e+05  \n",
       "std       14.211274  7.850559e+05  \n",
       "min     1973.000000  0.000000e+00  \n",
       "25%     1987.000000  2.640000e+02  \n",
       "50%     2000.000000  5.808000e+03  \n",
       "75%     2012.000000  6.571350e+04  \n",
       "max     2020.000000  1.589366e+07  "
      ]
     },
     "execution_count": 62,
     "metadata": {},
     "output_type": "execute_result"
    }
   ],
   "source": [
    "imp_exp.describe()"
   ]
  },
  {
   "cell_type": "markdown",
   "id": "d57176a3",
   "metadata": {},
   "source": [
    "The data is in its current layout is not suitable for statistical analysis as each country is a row.\n",
    "I need to melt the data so that the values for each country are in a column item type."
   ]
  },
  {
   "cell_type": "code",
   "execution_count": 63,
   "id": "75c34552",
   "metadata": {
    "ExecuteTime": {
     "end_time": "2022-05-12T16:51:17.729237Z",
     "start_time": "2022-05-12T16:51:17.714248Z"
    }
   },
   "outputs": [
    {
     "data": {
      "text/plain": [
       "array(['Cattle', 'Chickens', 'Ducks', 'Goats', 'Horses', 'Pigs', 'Sheep',\n",
       "       'Turkeys'], dtype=object)"
      ]
     },
     "execution_count": 63,
     "metadata": {},
     "output_type": "execute_result"
    }
   ],
   "source": [
    "imp_exp.Item.unique()"
   ]
  },
  {
   "cell_type": "markdown",
   "id": "137c9c18",
   "metadata": {},
   "source": [
    "There are 8 animal categories in the import export data. I can remove the repetition from these item categories when I clean the data"
   ]
  },
  {
   "cell_type": "code",
   "execution_count": 64,
   "id": "cf25dd88",
   "metadata": {
    "ExecuteTime": {
     "end_time": "2022-05-12T16:51:17.745195Z",
     "start_time": "2022-05-12T16:51:17.730206Z"
    }
   },
   "outputs": [
    {
     "data": {
      "text/plain": [
       "array(['Belgium', 'China', 'Denmark', 'France', 'Germany', 'Ireland',\n",
       "       'Italy', 'Luxembourg', 'Netherlands', 'United States of America'],\n",
       "      dtype=object)"
      ]
     },
     "execution_count": 64,
     "metadata": {},
     "output_type": "execute_result"
    }
   ],
   "source": [
    "imp_exp.Area.unique()"
   ]
  },
  {
   "cell_type": "markdown",
   "id": "4e1a1b34",
   "metadata": {},
   "source": [
    "As above:\n",
    "\n",
    "The dataset contains 8 EU countries Belgium, Denmark, France, Germany, Luxembourg, Ireland, Italy and the Netherlands. All of these countries have been member states since at least Jan 1st 1973.\n",
    "\n",
    "Belgium, France, Germany, Luxembourg, Italy and the Netherlands founded the EU in 1957 with Ireland and Denmark Joining on the 1st January 1973.\n",
    "\n",
    "Therefore, to ensure data comparability between these countries and the US and China, I limited the datasets time frame from 1st January 1973 to 31st December 2020 (most recent data available). This ensures that all European countries were member states of the EU at the time of analysis. \n",
    "\n",
    "We can confirm this as follows"
   ]
  },
  {
   "cell_type": "code",
   "execution_count": 65,
   "id": "6691591b",
   "metadata": {
    "ExecuteTime": {
     "end_time": "2022-05-12T16:51:17.761151Z",
     "start_time": "2022-05-12T16:51:17.746166Z"
    }
   },
   "outputs": [
    {
     "data": {
      "text/plain": [
       "array([2000, 2001, 2002, 2003, 2004, 2005, 2006, 2007, 2008, 2009, 2010,\n",
       "       2011, 2012, 2013, 2014, 2015, 2016, 2017, 2018, 2019, 2020, 1973,\n",
       "       1974, 1975, 1976, 1977, 1978, 1979, 1980, 1981, 1982, 1983, 1984,\n",
       "       1985, 1986, 1987, 1988, 1989, 1990, 1991, 1992, 1993, 1994, 1995,\n",
       "       1996, 1997, 1998, 1999], dtype=int64)"
      ]
     },
     "execution_count": 65,
     "metadata": {},
     "output_type": "execute_result"
    }
   ],
   "source": [
    "imp_exp.Year.unique()"
   ]
  },
  {
   "cell_type": "code",
   "execution_count": 66,
   "id": "40538734",
   "metadata": {
    "ExecuteTime": {
     "end_time": "2022-05-12T16:51:17.777109Z",
     "start_time": "2022-05-12T16:51:17.762121Z"
    }
   },
   "outputs": [
    {
     "name": "stdout",
     "output_type": "stream",
     "text": [
      "The earliest year in the dataset is 1973 and the maximum year is 2020\n"
     ]
    }
   ],
   "source": [
    "print(f\"The earliest year in the dataset is {imp_exp.Year.min()} and the maximum year is {imp_exp.Year.max()}\")"
   ]
  },
  {
   "cell_type": "markdown",
   "id": "2ded7066",
   "metadata": {},
   "source": [
    "Next we can observe what units the import export data has been recorded in"
   ]
  },
  {
   "cell_type": "code",
   "execution_count": 67,
   "id": "3b2e1e3d",
   "metadata": {
    "ExecuteTime": {
     "end_time": "2022-05-12T16:51:17.793038Z",
     "start_time": "2022-05-12T16:51:17.778078Z"
    }
   },
   "outputs": [
    {
     "data": {
      "text/plain": [
       "array(['Head', 'tonnes', '1000 US$', '1000 Head'], dtype=object)"
      ]
     },
     "execution_count": 67,
     "metadata": {},
     "output_type": "execute_result"
    }
   ],
   "source": [
    "imp_exp.Unit.unique()"
   ]
  },
  {
   "cell_type": "markdown",
   "id": "673c7177",
   "metadata": {},
   "source": [
    "Import export data has been recorded in in \"tonnes\", \"heads\", \"1000 US $\" and \"1000 heads\"."
   ]
  },
  {
   "cell_type": "code",
   "execution_count": 68,
   "id": "d93e3dfc",
   "metadata": {
    "ExecuteTime": {
     "end_time": "2022-05-12T16:51:17.808995Z",
     "start_time": "2022-05-12T16:51:17.794040Z"
    }
   },
   "outputs": [
    {
     "data": {
      "text/plain": [
       "array(['Import Quantity', 'Import Value', 'Export Quantity',\n",
       "       'Export Value'], dtype=object)"
      ]
     },
     "execution_count": 68,
     "metadata": {},
     "output_type": "execute_result"
    }
   ],
   "source": [
    "imp_exp.Element.unique()"
   ]
  },
  {
   "cell_type": "markdown",
   "id": "3e2bbfc0",
   "metadata": {},
   "source": [
    "All livestock in this dataset is at production."
   ]
  },
  {
   "cell_type": "markdown",
   "id": "8cc54758",
   "metadata": {},
   "source": [
    "Checking for null values"
   ]
  },
  {
   "cell_type": "code",
   "execution_count": 69,
   "id": "37e5d03c",
   "metadata": {
    "ExecuteTime": {
     "end_time": "2022-05-12T16:51:17.824952Z",
     "start_time": "2022-05-12T16:51:17.810006Z"
    },
    "scrolled": true
   },
   "outputs": [
    {
     "data": {
      "text/plain": [
       "Domain Code             0\n",
       "Domain                  0\n",
       "Area Code (FAO)         0\n",
       "Area                    0\n",
       "Element Code            0\n",
       "Element                 0\n",
       "Item Code (FAO)         0\n",
       "Item                    0\n",
       "Year Code               0\n",
       "Year                    0\n",
       "Unit                    0\n",
       "Value                 148\n",
       "Flag                11965\n",
       "Flag Description        0\n",
       "dtype: int64"
      ]
     },
     "execution_count": 69,
     "metadata": {},
     "output_type": "execute_result"
    }
   ],
   "source": [
    "imp_exp.isnull().sum()"
   ]
  },
  {
   "cell_type": "code",
   "execution_count": 70,
   "id": "5d685524",
   "metadata": {
    "ExecuteTime": {
     "end_time": "2022-05-12T16:51:17.840910Z",
     "start_time": "2022-05-12T16:51:17.825950Z"
    }
   },
   "outputs": [
    {
     "name": "stdout",
     "output_type": "stream",
     "text": [
      "The percentage of missing values is:\n",
      "Domain Code          0.00\n",
      "Domain               0.00\n",
      "Area Code (FAO)      0.00\n",
      "Area                 0.00\n",
      "Element Code         0.00\n",
      "Element              0.00\n",
      "Item Code (FAO)      0.00\n",
      "Item                 0.00\n",
      "Year Code            0.00\n",
      "Year                 0.00\n",
      "Unit                 0.00\n",
      "Value                1.03\n",
      "Flag                83.03\n",
      "Flag Description     0.00\n",
      "dtype: float64\n"
     ]
    }
   ],
   "source": [
    "calc_percent_missing(imp_exp.isnull().sum(), len(imp_exp))"
   ]
  },
  {
   "cell_type": "markdown",
   "id": "0974ff54",
   "metadata": {
    "ExecuteTime": {
     "end_time": "2022-05-04T12:32:35.976056Z",
     "start_time": "2022-05-04T12:32:35.961016Z"
    }
   },
   "source": [
    "There are missing values in the \"Value\" and \"Flag\" columns.  The flag column is not important to our data analysis\n",
    "so I can remove this during data preparation. However, the value column requires further investigation. We can test if these values are missing at random or not at random by filtering the values that are NaN or 0"
   ]
  },
  {
   "cell_type": "code",
   "execution_count": 71,
   "id": "c0e53b08",
   "metadata": {
    "ExecuteTime": {
     "end_time": "2022-05-12T16:51:17.848030Z",
     "start_time": "2022-05-12T16:51:17.841918Z"
    }
   },
   "outputs": [],
   "source": [
    "# Creating a data frame of missing import export data \n",
    "imp_exp_miss = imp_exp.loc[(imp_exp['Value'] == imp_exp.Value.isnull())]"
   ]
  },
  {
   "cell_type": "code",
   "execution_count": 72,
   "id": "9ae86bcd",
   "metadata": {
    "ExecuteTime": {
     "end_time": "2022-05-12T16:51:17.879761Z",
     "start_time": "2022-05-12T16:51:17.848030Z"
    }
   },
   "outputs": [
    {
     "data": {
      "text/html": [
       "<div>\n",
       "<style scoped>\n",
       "    .dataframe tbody tr th:only-of-type {\n",
       "        vertical-align: middle;\n",
       "    }\n",
       "\n",
       "    .dataframe tbody tr th {\n",
       "        vertical-align: top;\n",
       "    }\n",
       "\n",
       "    .dataframe thead th {\n",
       "        text-align: right;\n",
       "    }\n",
       "</style>\n",
       "<table border=\"1\" class=\"dataframe\">\n",
       "  <thead>\n",
       "    <tr style=\"text-align: right;\">\n",
       "      <th></th>\n",
       "      <th>Domain Code</th>\n",
       "      <th>Domain</th>\n",
       "      <th>Area Code (FAO)</th>\n",
       "      <th>Area</th>\n",
       "      <th>Element Code</th>\n",
       "      <th>Element</th>\n",
       "      <th>Item Code (FAO)</th>\n",
       "      <th>Item</th>\n",
       "      <th>Year Code</th>\n",
       "      <th>Year</th>\n",
       "      <th>Unit</th>\n",
       "      <th>Value</th>\n",
       "      <th>Flag</th>\n",
       "      <th>Flag Description</th>\n",
       "    </tr>\n",
       "  </thead>\n",
       "  <tbody>\n",
       "    <tr>\n",
       "      <th>214</th>\n",
       "      <td>TCL</td>\n",
       "      <td>Crops and livestock products</td>\n",
       "      <td>255</td>\n",
       "      <td>Belgium</td>\n",
       "      <td>5609</td>\n",
       "      <td>Import Quantity</td>\n",
       "      <td>1068</td>\n",
       "      <td>Ducks</td>\n",
       "      <td>2019</td>\n",
       "      <td>2019</td>\n",
       "      <td>1000 Head</td>\n",
       "      <td>0.0</td>\n",
       "      <td>NaN</td>\n",
       "      <td>Official data</td>\n",
       "    </tr>\n",
       "    <tr>\n",
       "      <th>215</th>\n",
       "      <td>TCL</td>\n",
       "      <td>Crops and livestock products</td>\n",
       "      <td>255</td>\n",
       "      <td>Belgium</td>\n",
       "      <td>5609</td>\n",
       "      <td>Import Quantity</td>\n",
       "      <td>1068</td>\n",
       "      <td>Ducks</td>\n",
       "      <td>2020</td>\n",
       "      <td>2020</td>\n",
       "      <td>1000 Head</td>\n",
       "      <td>0.0</td>\n",
       "      <td>NaN</td>\n",
       "      <td>Official data</td>\n",
       "    </tr>\n",
       "    <tr>\n",
       "      <th>216</th>\n",
       "      <td>TCL</td>\n",
       "      <td>Crops and livestock products</td>\n",
       "      <td>255</td>\n",
       "      <td>Belgium</td>\n",
       "      <td>5610</td>\n",
       "      <td>Import Quantity</td>\n",
       "      <td>1068</td>\n",
       "      <td>Ducks</td>\n",
       "      <td>2014</td>\n",
       "      <td>2014</td>\n",
       "      <td>tonnes</td>\n",
       "      <td>0.0</td>\n",
       "      <td>NaN</td>\n",
       "      <td>Official data</td>\n",
       "    </tr>\n",
       "    <tr>\n",
       "      <th>217</th>\n",
       "      <td>TCL</td>\n",
       "      <td>Crops and livestock products</td>\n",
       "      <td>255</td>\n",
       "      <td>Belgium</td>\n",
       "      <td>5610</td>\n",
       "      <td>Import Quantity</td>\n",
       "      <td>1068</td>\n",
       "      <td>Ducks</td>\n",
       "      <td>2016</td>\n",
       "      <td>2016</td>\n",
       "      <td>tonnes</td>\n",
       "      <td>0.0</td>\n",
       "      <td>NaN</td>\n",
       "      <td>Official data</td>\n",
       "    </tr>\n",
       "    <tr>\n",
       "      <th>220</th>\n",
       "      <td>TCL</td>\n",
       "      <td>Crops and livestock products</td>\n",
       "      <td>255</td>\n",
       "      <td>Belgium</td>\n",
       "      <td>5610</td>\n",
       "      <td>Import Quantity</td>\n",
       "      <td>1068</td>\n",
       "      <td>Ducks</td>\n",
       "      <td>2019</td>\n",
       "      <td>2019</td>\n",
       "      <td>tonnes</td>\n",
       "      <td>0.0</td>\n",
       "      <td>NaN</td>\n",
       "      <td>Official data</td>\n",
       "    </tr>\n",
       "    <tr>\n",
       "      <th>221</th>\n",
       "      <td>TCL</td>\n",
       "      <td>Crops and livestock products</td>\n",
       "      <td>255</td>\n",
       "      <td>Belgium</td>\n",
       "      <td>5610</td>\n",
       "      <td>Import Quantity</td>\n",
       "      <td>1068</td>\n",
       "      <td>Ducks</td>\n",
       "      <td>2020</td>\n",
       "      <td>2020</td>\n",
       "      <td>tonnes</td>\n",
       "      <td>0.0</td>\n",
       "      <td>NaN</td>\n",
       "      <td>Official data</td>\n",
       "    </tr>\n",
       "    <tr>\n",
       "      <th>240</th>\n",
       "      <td>TCL</td>\n",
       "      <td>Crops and livestock products</td>\n",
       "      <td>255</td>\n",
       "      <td>Belgium</td>\n",
       "      <td>5622</td>\n",
       "      <td>Import Value</td>\n",
       "      <td>1068</td>\n",
       "      <td>Ducks</td>\n",
       "      <td>2019</td>\n",
       "      <td>2019</td>\n",
       "      <td>1000 US$</td>\n",
       "      <td>0.0</td>\n",
       "      <td>NaN</td>\n",
       "      <td>Official data</td>\n",
       "    </tr>\n",
       "    <tr>\n",
       "      <th>257</th>\n",
       "      <td>TCL</td>\n",
       "      <td>Crops and livestock products</td>\n",
       "      <td>255</td>\n",
       "      <td>Belgium</td>\n",
       "      <td>5909</td>\n",
       "      <td>Export Quantity</td>\n",
       "      <td>1068</td>\n",
       "      <td>Ducks</td>\n",
       "      <td>2015</td>\n",
       "      <td>2015</td>\n",
       "      <td>1000 Head</td>\n",
       "      <td>0.0</td>\n",
       "      <td>NaN</td>\n",
       "      <td>Official data</td>\n",
       "    </tr>\n",
       "    <tr>\n",
       "      <th>264</th>\n",
       "      <td>TCL</td>\n",
       "      <td>Crops and livestock products</td>\n",
       "      <td>255</td>\n",
       "      <td>Belgium</td>\n",
       "      <td>5910</td>\n",
       "      <td>Export Quantity</td>\n",
       "      <td>1068</td>\n",
       "      <td>Ducks</td>\n",
       "      <td>2015</td>\n",
       "      <td>2015</td>\n",
       "      <td>tonnes</td>\n",
       "      <td>0.0</td>\n",
       "      <td>NaN</td>\n",
       "      <td>Official data</td>\n",
       "    </tr>\n",
       "    <tr>\n",
       "      <th>312</th>\n",
       "      <td>TCL</td>\n",
       "      <td>Crops and livestock products</td>\n",
       "      <td>255</td>\n",
       "      <td>Belgium</td>\n",
       "      <td>5610</td>\n",
       "      <td>Import Quantity</td>\n",
       "      <td>1016</td>\n",
       "      <td>Goats</td>\n",
       "      <td>2014</td>\n",
       "      <td>2014</td>\n",
       "      <td>tonnes</td>\n",
       "      <td>0.0</td>\n",
       "      <td>NaN</td>\n",
       "      <td>Official data</td>\n",
       "    </tr>\n",
       "    <tr>\n",
       "      <th>313</th>\n",
       "      <td>TCL</td>\n",
       "      <td>Crops and livestock products</td>\n",
       "      <td>255</td>\n",
       "      <td>Belgium</td>\n",
       "      <td>5610</td>\n",
       "      <td>Import Quantity</td>\n",
       "      <td>1016</td>\n",
       "      <td>Goats</td>\n",
       "      <td>2015</td>\n",
       "      <td>2015</td>\n",
       "      <td>tonnes</td>\n",
       "      <td>0.0</td>\n",
       "      <td>NaN</td>\n",
       "      <td>Official data</td>\n",
       "    </tr>\n",
       "    <tr>\n",
       "      <th>314</th>\n",
       "      <td>TCL</td>\n",
       "      <td>Crops and livestock products</td>\n",
       "      <td>255</td>\n",
       "      <td>Belgium</td>\n",
       "      <td>5610</td>\n",
       "      <td>Import Quantity</td>\n",
       "      <td>1016</td>\n",
       "      <td>Goats</td>\n",
       "      <td>2016</td>\n",
       "      <td>2016</td>\n",
       "      <td>tonnes</td>\n",
       "      <td>0.0</td>\n",
       "      <td>NaN</td>\n",
       "      <td>Official data</td>\n",
       "    </tr>\n",
       "    <tr>\n",
       "      <th>704</th>\n",
       "      <td>TCL</td>\n",
       "      <td>Crops and livestock products</td>\n",
       "      <td>255</td>\n",
       "      <td>Belgium</td>\n",
       "      <td>5610</td>\n",
       "      <td>Import Quantity</td>\n",
       "      <td>1079</td>\n",
       "      <td>Turkeys</td>\n",
       "      <td>2014</td>\n",
       "      <td>2014</td>\n",
       "      <td>tonnes</td>\n",
       "      <td>0.0</td>\n",
       "      <td>NaN</td>\n",
       "      <td>Official data</td>\n",
       "    </tr>\n",
       "    <tr>\n",
       "      <th>705</th>\n",
       "      <td>TCL</td>\n",
       "      <td>Crops and livestock products</td>\n",
       "      <td>255</td>\n",
       "      <td>Belgium</td>\n",
       "      <td>5610</td>\n",
       "      <td>Import Quantity</td>\n",
       "      <td>1079</td>\n",
       "      <td>Turkeys</td>\n",
       "      <td>2015</td>\n",
       "      <td>2015</td>\n",
       "      <td>tonnes</td>\n",
       "      <td>0.0</td>\n",
       "      <td>NaN</td>\n",
       "      <td>Official data</td>\n",
       "    </tr>\n",
       "    <tr>\n",
       "      <th>706</th>\n",
       "      <td>TCL</td>\n",
       "      <td>Crops and livestock products</td>\n",
       "      <td>255</td>\n",
       "      <td>Belgium</td>\n",
       "      <td>5610</td>\n",
       "      <td>Import Quantity</td>\n",
       "      <td>1079</td>\n",
       "      <td>Turkeys</td>\n",
       "      <td>2016</td>\n",
       "      <td>2016</td>\n",
       "      <td>tonnes</td>\n",
       "      <td>0.0</td>\n",
       "      <td>NaN</td>\n",
       "      <td>Official data</td>\n",
       "    </tr>\n",
       "    <tr>\n",
       "      <th>741</th>\n",
       "      <td>TCL</td>\n",
       "      <td>Crops and livestock products</td>\n",
       "      <td>255</td>\n",
       "      <td>Belgium</td>\n",
       "      <td>5909</td>\n",
       "      <td>Export Quantity</td>\n",
       "      <td>1079</td>\n",
       "      <td>Turkeys</td>\n",
       "      <td>2009</td>\n",
       "      <td>2009</td>\n",
       "      <td>1000 Head</td>\n",
       "      <td>0.0</td>\n",
       "      <td>*</td>\n",
       "      <td>Unofficial figure</td>\n",
       "    </tr>\n",
       "    <tr>\n",
       "      <th>742</th>\n",
       "      <td>TCL</td>\n",
       "      <td>Crops and livestock products</td>\n",
       "      <td>255</td>\n",
       "      <td>Belgium</td>\n",
       "      <td>5909</td>\n",
       "      <td>Export Quantity</td>\n",
       "      <td>1079</td>\n",
       "      <td>Turkeys</td>\n",
       "      <td>2010</td>\n",
       "      <td>2010</td>\n",
       "      <td>1000 Head</td>\n",
       "      <td>0.0</td>\n",
       "      <td>F</td>\n",
       "      <td>FAO estimate</td>\n",
       "    </tr>\n",
       "    <tr>\n",
       "      <th>743</th>\n",
       "      <td>TCL</td>\n",
       "      <td>Crops and livestock products</td>\n",
       "      <td>255</td>\n",
       "      <td>Belgium</td>\n",
       "      <td>5909</td>\n",
       "      <td>Export Quantity</td>\n",
       "      <td>1079</td>\n",
       "      <td>Turkeys</td>\n",
       "      <td>2011</td>\n",
       "      <td>2011</td>\n",
       "      <td>1000 Head</td>\n",
       "      <td>0.0</td>\n",
       "      <td>NaN</td>\n",
       "      <td>Official data</td>\n",
       "    </tr>\n",
       "    <tr>\n",
       "      <th>744</th>\n",
       "      <td>TCL</td>\n",
       "      <td>Crops and livestock products</td>\n",
       "      <td>255</td>\n",
       "      <td>Belgium</td>\n",
       "      <td>5909</td>\n",
       "      <td>Export Quantity</td>\n",
       "      <td>1079</td>\n",
       "      <td>Turkeys</td>\n",
       "      <td>2012</td>\n",
       "      <td>2012</td>\n",
       "      <td>1000 Head</td>\n",
       "      <td>0.0</td>\n",
       "      <td>F</td>\n",
       "      <td>FAO estimate</td>\n",
       "    </tr>\n",
       "    <tr>\n",
       "      <th>745</th>\n",
       "      <td>TCL</td>\n",
       "      <td>Crops and livestock products</td>\n",
       "      <td>255</td>\n",
       "      <td>Belgium</td>\n",
       "      <td>5909</td>\n",
       "      <td>Export Quantity</td>\n",
       "      <td>1079</td>\n",
       "      <td>Turkeys</td>\n",
       "      <td>2013</td>\n",
       "      <td>2013</td>\n",
       "      <td>1000 Head</td>\n",
       "      <td>0.0</td>\n",
       "      <td>F</td>\n",
       "      <td>FAO estimate</td>\n",
       "    </tr>\n",
       "    <tr>\n",
       "      <th>753</th>\n",
       "      <td>TCL</td>\n",
       "      <td>Crops and livestock products</td>\n",
       "      <td>255</td>\n",
       "      <td>Belgium</td>\n",
       "      <td>5910</td>\n",
       "      <td>Export Quantity</td>\n",
       "      <td>1079</td>\n",
       "      <td>Turkeys</td>\n",
       "      <td>2014</td>\n",
       "      <td>2014</td>\n",
       "      <td>tonnes</td>\n",
       "      <td>0.0</td>\n",
       "      <td>NaN</td>\n",
       "      <td>Official data</td>\n",
       "    </tr>\n",
       "    <tr>\n",
       "      <th>754</th>\n",
       "      <td>TCL</td>\n",
       "      <td>Crops and livestock products</td>\n",
       "      <td>255</td>\n",
       "      <td>Belgium</td>\n",
       "      <td>5910</td>\n",
       "      <td>Export Quantity</td>\n",
       "      <td>1079</td>\n",
       "      <td>Turkeys</td>\n",
       "      <td>2015</td>\n",
       "      <td>2015</td>\n",
       "      <td>tonnes</td>\n",
       "      <td>0.0</td>\n",
       "      <td>NaN</td>\n",
       "      <td>Official data</td>\n",
       "    </tr>\n",
       "    <tr>\n",
       "      <th>769</th>\n",
       "      <td>TCL</td>\n",
       "      <td>Crops and livestock products</td>\n",
       "      <td>255</td>\n",
       "      <td>Belgium</td>\n",
       "      <td>5922</td>\n",
       "      <td>Export Value</td>\n",
       "      <td>1079</td>\n",
       "      <td>Turkeys</td>\n",
       "      <td>2009</td>\n",
       "      <td>2009</td>\n",
       "      <td>1000 US$</td>\n",
       "      <td>0.0</td>\n",
       "      <td>*</td>\n",
       "      <td>Unofficial figure</td>\n",
       "    </tr>\n",
       "    <tr>\n",
       "      <th>770</th>\n",
       "      <td>TCL</td>\n",
       "      <td>Crops and livestock products</td>\n",
       "      <td>255</td>\n",
       "      <td>Belgium</td>\n",
       "      <td>5922</td>\n",
       "      <td>Export Value</td>\n",
       "      <td>1079</td>\n",
       "      <td>Turkeys</td>\n",
       "      <td>2010</td>\n",
       "      <td>2010</td>\n",
       "      <td>1000 US$</td>\n",
       "      <td>0.0</td>\n",
       "      <td>F</td>\n",
       "      <td>FAO estimate</td>\n",
       "    </tr>\n",
       "    <tr>\n",
       "      <th>772</th>\n",
       "      <td>TCL</td>\n",
       "      <td>Crops and livestock products</td>\n",
       "      <td>255</td>\n",
       "      <td>Belgium</td>\n",
       "      <td>5922</td>\n",
       "      <td>Export Value</td>\n",
       "      <td>1079</td>\n",
       "      <td>Turkeys</td>\n",
       "      <td>2012</td>\n",
       "      <td>2012</td>\n",
       "      <td>1000 US$</td>\n",
       "      <td>0.0</td>\n",
       "      <td>*</td>\n",
       "      <td>Unofficial figure</td>\n",
       "    </tr>\n",
       "    <tr>\n",
       "      <th>773</th>\n",
       "      <td>TCL</td>\n",
       "      <td>Crops and livestock products</td>\n",
       "      <td>255</td>\n",
       "      <td>Belgium</td>\n",
       "      <td>5922</td>\n",
       "      <td>Export Value</td>\n",
       "      <td>1079</td>\n",
       "      <td>Turkeys</td>\n",
       "      <td>2013</td>\n",
       "      <td>2013</td>\n",
       "      <td>1000 US$</td>\n",
       "      <td>0.0</td>\n",
       "      <td>F</td>\n",
       "      <td>FAO estimate</td>\n",
       "    </tr>\n",
       "    <tr>\n",
       "      <th>1193</th>\n",
       "      <td>TCL</td>\n",
       "      <td>Crops and livestock products</td>\n",
       "      <td>351</td>\n",
       "      <td>China</td>\n",
       "      <td>5609</td>\n",
       "      <td>Import Quantity</td>\n",
       "      <td>1068</td>\n",
       "      <td>Ducks</td>\n",
       "      <td>1973</td>\n",
       "      <td>1973</td>\n",
       "      <td>1000 Head</td>\n",
       "      <td>0.0</td>\n",
       "      <td>A</td>\n",
       "      <td>Aggregate, may include official, semi-official...</td>\n",
       "    </tr>\n",
       "    <tr>\n",
       "      <th>1194</th>\n",
       "      <td>TCL</td>\n",
       "      <td>Crops and livestock products</td>\n",
       "      <td>351</td>\n",
       "      <td>China</td>\n",
       "      <td>5609</td>\n",
       "      <td>Import Quantity</td>\n",
       "      <td>1068</td>\n",
       "      <td>Ducks</td>\n",
       "      <td>1974</td>\n",
       "      <td>1974</td>\n",
       "      <td>1000 Head</td>\n",
       "      <td>0.0</td>\n",
       "      <td>A</td>\n",
       "      <td>Aggregate, may include official, semi-official...</td>\n",
       "    </tr>\n",
       "    <tr>\n",
       "      <th>1195</th>\n",
       "      <td>TCL</td>\n",
       "      <td>Crops and livestock products</td>\n",
       "      <td>351</td>\n",
       "      <td>China</td>\n",
       "      <td>5609</td>\n",
       "      <td>Import Quantity</td>\n",
       "      <td>1068</td>\n",
       "      <td>Ducks</td>\n",
       "      <td>1975</td>\n",
       "      <td>1975</td>\n",
       "      <td>1000 Head</td>\n",
       "      <td>0.0</td>\n",
       "      <td>A</td>\n",
       "      <td>Aggregate, may include official, semi-official...</td>\n",
       "    </tr>\n",
       "    <tr>\n",
       "      <th>1196</th>\n",
       "      <td>TCL</td>\n",
       "      <td>Crops and livestock products</td>\n",
       "      <td>351</td>\n",
       "      <td>China</td>\n",
       "      <td>5609</td>\n",
       "      <td>Import Quantity</td>\n",
       "      <td>1068</td>\n",
       "      <td>Ducks</td>\n",
       "      <td>1976</td>\n",
       "      <td>1976</td>\n",
       "      <td>1000 Head</td>\n",
       "      <td>0.0</td>\n",
       "      <td>A</td>\n",
       "      <td>Aggregate, may include official, semi-official...</td>\n",
       "    </tr>\n",
       "    <tr>\n",
       "      <th>1237</th>\n",
       "      <td>TCL</td>\n",
       "      <td>Crops and livestock products</td>\n",
       "      <td>351</td>\n",
       "      <td>China</td>\n",
       "      <td>5609</td>\n",
       "      <td>Import Quantity</td>\n",
       "      <td>1068</td>\n",
       "      <td>Ducks</td>\n",
       "      <td>2018</td>\n",
       "      <td>2018</td>\n",
       "      <td>1000 Head</td>\n",
       "      <td>0.0</td>\n",
       "      <td>A</td>\n",
       "      <td>Aggregate, may include official, semi-official...</td>\n",
       "    </tr>\n",
       "    <tr>\n",
       "      <th>1238</th>\n",
       "      <td>TCL</td>\n",
       "      <td>Crops and livestock products</td>\n",
       "      <td>351</td>\n",
       "      <td>China</td>\n",
       "      <td>5609</td>\n",
       "      <td>Import Quantity</td>\n",
       "      <td>1068</td>\n",
       "      <td>Ducks</td>\n",
       "      <td>2019</td>\n",
       "      <td>2019</td>\n",
       "      <td>1000 Head</td>\n",
       "      <td>0.0</td>\n",
       "      <td>A</td>\n",
       "      <td>Aggregate, may include official, semi-official...</td>\n",
       "    </tr>\n",
       "    <tr>\n",
       "      <th>1239</th>\n",
       "      <td>TCL</td>\n",
       "      <td>Crops and livestock products</td>\n",
       "      <td>351</td>\n",
       "      <td>China</td>\n",
       "      <td>5609</td>\n",
       "      <td>Import Quantity</td>\n",
       "      <td>1068</td>\n",
       "      <td>Ducks</td>\n",
       "      <td>2020</td>\n",
       "      <td>2020</td>\n",
       "      <td>1000 Head</td>\n",
       "      <td>0.0</td>\n",
       "      <td>A</td>\n",
       "      <td>Aggregate, may include official, semi-official...</td>\n",
       "    </tr>\n",
       "    <tr>\n",
       "      <th>1242</th>\n",
       "      <td>TCL</td>\n",
       "      <td>Crops and livestock products</td>\n",
       "      <td>351</td>\n",
       "      <td>China</td>\n",
       "      <td>5610</td>\n",
       "      <td>Import Quantity</td>\n",
       "      <td>1068</td>\n",
       "      <td>Ducks</td>\n",
       "      <td>2016</td>\n",
       "      <td>2016</td>\n",
       "      <td>tonnes</td>\n",
       "      <td>0.0</td>\n",
       "      <td>A</td>\n",
       "      <td>Aggregate, may include official, semi-official...</td>\n",
       "    </tr>\n",
       "    <tr>\n",
       "      <th>1245</th>\n",
       "      <td>TCL</td>\n",
       "      <td>Crops and livestock products</td>\n",
       "      <td>351</td>\n",
       "      <td>China</td>\n",
       "      <td>5610</td>\n",
       "      <td>Import Quantity</td>\n",
       "      <td>1068</td>\n",
       "      <td>Ducks</td>\n",
       "      <td>2020</td>\n",
       "      <td>2020</td>\n",
       "      <td>tonnes</td>\n",
       "      <td>0.0</td>\n",
       "      <td>A</td>\n",
       "      <td>Aggregate, may include official, semi-official...</td>\n",
       "    </tr>\n",
       "    <tr>\n",
       "      <th>1246</th>\n",
       "      <td>TCL</td>\n",
       "      <td>Crops and livestock products</td>\n",
       "      <td>351</td>\n",
       "      <td>China</td>\n",
       "      <td>5622</td>\n",
       "      <td>Import Value</td>\n",
       "      <td>1068</td>\n",
       "      <td>Ducks</td>\n",
       "      <td>1973</td>\n",
       "      <td>1973</td>\n",
       "      <td>1000 US$</td>\n",
       "      <td>0.0</td>\n",
       "      <td>A</td>\n",
       "      <td>Aggregate, may include official, semi-official...</td>\n",
       "    </tr>\n",
       "    <tr>\n",
       "      <th>1247</th>\n",
       "      <td>TCL</td>\n",
       "      <td>Crops and livestock products</td>\n",
       "      <td>351</td>\n",
       "      <td>China</td>\n",
       "      <td>5622</td>\n",
       "      <td>Import Value</td>\n",
       "      <td>1068</td>\n",
       "      <td>Ducks</td>\n",
       "      <td>1974</td>\n",
       "      <td>1974</td>\n",
       "      <td>1000 US$</td>\n",
       "      <td>0.0</td>\n",
       "      <td>A</td>\n",
       "      <td>Aggregate, may include official, semi-official...</td>\n",
       "    </tr>\n",
       "    <tr>\n",
       "      <th>1248</th>\n",
       "      <td>TCL</td>\n",
       "      <td>Crops and livestock products</td>\n",
       "      <td>351</td>\n",
       "      <td>China</td>\n",
       "      <td>5622</td>\n",
       "      <td>Import Value</td>\n",
       "      <td>1068</td>\n",
       "      <td>Ducks</td>\n",
       "      <td>1975</td>\n",
       "      <td>1975</td>\n",
       "      <td>1000 US$</td>\n",
       "      <td>0.0</td>\n",
       "      <td>A</td>\n",
       "      <td>Aggregate, may include official, semi-official...</td>\n",
       "    </tr>\n",
       "    <tr>\n",
       "      <th>1249</th>\n",
       "      <td>TCL</td>\n",
       "      <td>Crops and livestock products</td>\n",
       "      <td>351</td>\n",
       "      <td>China</td>\n",
       "      <td>5622</td>\n",
       "      <td>Import Value</td>\n",
       "      <td>1068</td>\n",
       "      <td>Ducks</td>\n",
       "      <td>1976</td>\n",
       "      <td>1976</td>\n",
       "      <td>1000 US$</td>\n",
       "      <td>0.0</td>\n",
       "      <td>A</td>\n",
       "      <td>Aggregate, may include official, semi-official...</td>\n",
       "    </tr>\n",
       "    <tr>\n",
       "      <th>1293</th>\n",
       "      <td>TCL</td>\n",
       "      <td>Crops and livestock products</td>\n",
       "      <td>351</td>\n",
       "      <td>China</td>\n",
       "      <td>5909</td>\n",
       "      <td>Export Quantity</td>\n",
       "      <td>1068</td>\n",
       "      <td>Ducks</td>\n",
       "      <td>1973</td>\n",
       "      <td>1973</td>\n",
       "      <td>1000 Head</td>\n",
       "      <td>0.0</td>\n",
       "      <td>A</td>\n",
       "      <td>Aggregate, may include official, semi-official...</td>\n",
       "    </tr>\n",
       "    <tr>\n",
       "      <th>1294</th>\n",
       "      <td>TCL</td>\n",
       "      <td>Crops and livestock products</td>\n",
       "      <td>351</td>\n",
       "      <td>China</td>\n",
       "      <td>5909</td>\n",
       "      <td>Export Quantity</td>\n",
       "      <td>1068</td>\n",
       "      <td>Ducks</td>\n",
       "      <td>1974</td>\n",
       "      <td>1974</td>\n",
       "      <td>1000 Head</td>\n",
       "      <td>0.0</td>\n",
       "      <td>A</td>\n",
       "      <td>Aggregate, may include official, semi-official...</td>\n",
       "    </tr>\n",
       "    <tr>\n",
       "      <th>1295</th>\n",
       "      <td>TCL</td>\n",
       "      <td>Crops and livestock products</td>\n",
       "      <td>351</td>\n",
       "      <td>China</td>\n",
       "      <td>5909</td>\n",
       "      <td>Export Quantity</td>\n",
       "      <td>1068</td>\n",
       "      <td>Ducks</td>\n",
       "      <td>1975</td>\n",
       "      <td>1975</td>\n",
       "      <td>1000 Head</td>\n",
       "      <td>0.0</td>\n",
       "      <td>A</td>\n",
       "      <td>Aggregate, may include official, semi-official...</td>\n",
       "    </tr>\n",
       "    <tr>\n",
       "      <th>1296</th>\n",
       "      <td>TCL</td>\n",
       "      <td>Crops and livestock products</td>\n",
       "      <td>351</td>\n",
       "      <td>China</td>\n",
       "      <td>5909</td>\n",
       "      <td>Export Quantity</td>\n",
       "      <td>1068</td>\n",
       "      <td>Ducks</td>\n",
       "      <td>1976</td>\n",
       "      <td>1976</td>\n",
       "      <td>1000 Head</td>\n",
       "      <td>0.0</td>\n",
       "      <td>A</td>\n",
       "      <td>Aggregate, may include official, semi-official...</td>\n",
       "    </tr>\n",
       "    <tr>\n",
       "      <th>1297</th>\n",
       "      <td>TCL</td>\n",
       "      <td>Crops and livestock products</td>\n",
       "      <td>351</td>\n",
       "      <td>China</td>\n",
       "      <td>5909</td>\n",
       "      <td>Export Quantity</td>\n",
       "      <td>1068</td>\n",
       "      <td>Ducks</td>\n",
       "      <td>1977</td>\n",
       "      <td>1977</td>\n",
       "      <td>1000 Head</td>\n",
       "      <td>0.0</td>\n",
       "      <td>A</td>\n",
       "      <td>Aggregate, may include official, semi-official...</td>\n",
       "    </tr>\n",
       "    <tr>\n",
       "      <th>1298</th>\n",
       "      <td>TCL</td>\n",
       "      <td>Crops and livestock products</td>\n",
       "      <td>351</td>\n",
       "      <td>China</td>\n",
       "      <td>5909</td>\n",
       "      <td>Export Quantity</td>\n",
       "      <td>1068</td>\n",
       "      <td>Ducks</td>\n",
       "      <td>1978</td>\n",
       "      <td>1978</td>\n",
       "      <td>1000 Head</td>\n",
       "      <td>0.0</td>\n",
       "      <td>A</td>\n",
       "      <td>Aggregate, may include official, semi-official...</td>\n",
       "    </tr>\n",
       "    <tr>\n",
       "      <th>1301</th>\n",
       "      <td>TCL</td>\n",
       "      <td>Crops and livestock products</td>\n",
       "      <td>351</td>\n",
       "      <td>China</td>\n",
       "      <td>5909</td>\n",
       "      <td>Export Quantity</td>\n",
       "      <td>1068</td>\n",
       "      <td>Ducks</td>\n",
       "      <td>1981</td>\n",
       "      <td>1981</td>\n",
       "      <td>1000 Head</td>\n",
       "      <td>0.0</td>\n",
       "      <td>A</td>\n",
       "      <td>Aggregate, may include official, semi-official...</td>\n",
       "    </tr>\n",
       "    <tr>\n",
       "      <th>1325</th>\n",
       "      <td>TCL</td>\n",
       "      <td>Crops and livestock products</td>\n",
       "      <td>351</td>\n",
       "      <td>China</td>\n",
       "      <td>5909</td>\n",
       "      <td>Export Quantity</td>\n",
       "      <td>1068</td>\n",
       "      <td>Ducks</td>\n",
       "      <td>2005</td>\n",
       "      <td>2005</td>\n",
       "      <td>1000 Head</td>\n",
       "      <td>0.0</td>\n",
       "      <td>A</td>\n",
       "      <td>Aggregate, may include official, semi-official...</td>\n",
       "    </tr>\n",
       "    <tr>\n",
       "      <th>1326</th>\n",
       "      <td>TCL</td>\n",
       "      <td>Crops and livestock products</td>\n",
       "      <td>351</td>\n",
       "      <td>China</td>\n",
       "      <td>5909</td>\n",
       "      <td>Export Quantity</td>\n",
       "      <td>1068</td>\n",
       "      <td>Ducks</td>\n",
       "      <td>2006</td>\n",
       "      <td>2006</td>\n",
       "      <td>1000 Head</td>\n",
       "      <td>0.0</td>\n",
       "      <td>A</td>\n",
       "      <td>Aggregate, may include official, semi-official...</td>\n",
       "    </tr>\n",
       "    <tr>\n",
       "      <th>1328</th>\n",
       "      <td>TCL</td>\n",
       "      <td>Crops and livestock products</td>\n",
       "      <td>351</td>\n",
       "      <td>China</td>\n",
       "      <td>5909</td>\n",
       "      <td>Export Quantity</td>\n",
       "      <td>1068</td>\n",
       "      <td>Ducks</td>\n",
       "      <td>2008</td>\n",
       "      <td>2008</td>\n",
       "      <td>1000 Head</td>\n",
       "      <td>0.0</td>\n",
       "      <td>A</td>\n",
       "      <td>Aggregate, may include official, semi-official...</td>\n",
       "    </tr>\n",
       "    <tr>\n",
       "      <th>1329</th>\n",
       "      <td>TCL</td>\n",
       "      <td>Crops and livestock products</td>\n",
       "      <td>351</td>\n",
       "      <td>China</td>\n",
       "      <td>5909</td>\n",
       "      <td>Export Quantity</td>\n",
       "      <td>1068</td>\n",
       "      <td>Ducks</td>\n",
       "      <td>2009</td>\n",
       "      <td>2009</td>\n",
       "      <td>1000 Head</td>\n",
       "      <td>0.0</td>\n",
       "      <td>A</td>\n",
       "      <td>Aggregate, may include official, semi-official...</td>\n",
       "    </tr>\n",
       "  </tbody>\n",
       "</table>\n",
       "</div>"
      ],
      "text/plain": [
       "     Domain Code                        Domain  Area Code (FAO)     Area  \\\n",
       "214          TCL  Crops and livestock products              255  Belgium   \n",
       "215          TCL  Crops and livestock products              255  Belgium   \n",
       "216          TCL  Crops and livestock products              255  Belgium   \n",
       "217          TCL  Crops and livestock products              255  Belgium   \n",
       "220          TCL  Crops and livestock products              255  Belgium   \n",
       "221          TCL  Crops and livestock products              255  Belgium   \n",
       "240          TCL  Crops and livestock products              255  Belgium   \n",
       "257          TCL  Crops and livestock products              255  Belgium   \n",
       "264          TCL  Crops and livestock products              255  Belgium   \n",
       "312          TCL  Crops and livestock products              255  Belgium   \n",
       "313          TCL  Crops and livestock products              255  Belgium   \n",
       "314          TCL  Crops and livestock products              255  Belgium   \n",
       "704          TCL  Crops and livestock products              255  Belgium   \n",
       "705          TCL  Crops and livestock products              255  Belgium   \n",
       "706          TCL  Crops and livestock products              255  Belgium   \n",
       "741          TCL  Crops and livestock products              255  Belgium   \n",
       "742          TCL  Crops and livestock products              255  Belgium   \n",
       "743          TCL  Crops and livestock products              255  Belgium   \n",
       "744          TCL  Crops and livestock products              255  Belgium   \n",
       "745          TCL  Crops and livestock products              255  Belgium   \n",
       "753          TCL  Crops and livestock products              255  Belgium   \n",
       "754          TCL  Crops and livestock products              255  Belgium   \n",
       "769          TCL  Crops and livestock products              255  Belgium   \n",
       "770          TCL  Crops and livestock products              255  Belgium   \n",
       "772          TCL  Crops and livestock products              255  Belgium   \n",
       "773          TCL  Crops and livestock products              255  Belgium   \n",
       "1193         TCL  Crops and livestock products              351    China   \n",
       "1194         TCL  Crops and livestock products              351    China   \n",
       "1195         TCL  Crops and livestock products              351    China   \n",
       "1196         TCL  Crops and livestock products              351    China   \n",
       "1237         TCL  Crops and livestock products              351    China   \n",
       "1238         TCL  Crops and livestock products              351    China   \n",
       "1239         TCL  Crops and livestock products              351    China   \n",
       "1242         TCL  Crops and livestock products              351    China   \n",
       "1245         TCL  Crops and livestock products              351    China   \n",
       "1246         TCL  Crops and livestock products              351    China   \n",
       "1247         TCL  Crops and livestock products              351    China   \n",
       "1248         TCL  Crops and livestock products              351    China   \n",
       "1249         TCL  Crops and livestock products              351    China   \n",
       "1293         TCL  Crops and livestock products              351    China   \n",
       "1294         TCL  Crops and livestock products              351    China   \n",
       "1295         TCL  Crops and livestock products              351    China   \n",
       "1296         TCL  Crops and livestock products              351    China   \n",
       "1297         TCL  Crops and livestock products              351    China   \n",
       "1298         TCL  Crops and livestock products              351    China   \n",
       "1301         TCL  Crops and livestock products              351    China   \n",
       "1325         TCL  Crops and livestock products              351    China   \n",
       "1326         TCL  Crops and livestock products              351    China   \n",
       "1328         TCL  Crops and livestock products              351    China   \n",
       "1329         TCL  Crops and livestock products              351    China   \n",
       "\n",
       "      Element Code          Element  Item Code (FAO)     Item  Year Code  \\\n",
       "214           5609  Import Quantity             1068    Ducks       2019   \n",
       "215           5609  Import Quantity             1068    Ducks       2020   \n",
       "216           5610  Import Quantity             1068    Ducks       2014   \n",
       "217           5610  Import Quantity             1068    Ducks       2016   \n",
       "220           5610  Import Quantity             1068    Ducks       2019   \n",
       "221           5610  Import Quantity             1068    Ducks       2020   \n",
       "240           5622     Import Value             1068    Ducks       2019   \n",
       "257           5909  Export Quantity             1068    Ducks       2015   \n",
       "264           5910  Export Quantity             1068    Ducks       2015   \n",
       "312           5610  Import Quantity             1016    Goats       2014   \n",
       "313           5610  Import Quantity             1016    Goats       2015   \n",
       "314           5610  Import Quantity             1016    Goats       2016   \n",
       "704           5610  Import Quantity             1079  Turkeys       2014   \n",
       "705           5610  Import Quantity             1079  Turkeys       2015   \n",
       "706           5610  Import Quantity             1079  Turkeys       2016   \n",
       "741           5909  Export Quantity             1079  Turkeys       2009   \n",
       "742           5909  Export Quantity             1079  Turkeys       2010   \n",
       "743           5909  Export Quantity             1079  Turkeys       2011   \n",
       "744           5909  Export Quantity             1079  Turkeys       2012   \n",
       "745           5909  Export Quantity             1079  Turkeys       2013   \n",
       "753           5910  Export Quantity             1079  Turkeys       2014   \n",
       "754           5910  Export Quantity             1079  Turkeys       2015   \n",
       "769           5922     Export Value             1079  Turkeys       2009   \n",
       "770           5922     Export Value             1079  Turkeys       2010   \n",
       "772           5922     Export Value             1079  Turkeys       2012   \n",
       "773           5922     Export Value             1079  Turkeys       2013   \n",
       "1193          5609  Import Quantity             1068    Ducks       1973   \n",
       "1194          5609  Import Quantity             1068    Ducks       1974   \n",
       "1195          5609  Import Quantity             1068    Ducks       1975   \n",
       "1196          5609  Import Quantity             1068    Ducks       1976   \n",
       "1237          5609  Import Quantity             1068    Ducks       2018   \n",
       "1238          5609  Import Quantity             1068    Ducks       2019   \n",
       "1239          5609  Import Quantity             1068    Ducks       2020   \n",
       "1242          5610  Import Quantity             1068    Ducks       2016   \n",
       "1245          5610  Import Quantity             1068    Ducks       2020   \n",
       "1246          5622     Import Value             1068    Ducks       1973   \n",
       "1247          5622     Import Value             1068    Ducks       1974   \n",
       "1248          5622     Import Value             1068    Ducks       1975   \n",
       "1249          5622     Import Value             1068    Ducks       1976   \n",
       "1293          5909  Export Quantity             1068    Ducks       1973   \n",
       "1294          5909  Export Quantity             1068    Ducks       1974   \n",
       "1295          5909  Export Quantity             1068    Ducks       1975   \n",
       "1296          5909  Export Quantity             1068    Ducks       1976   \n",
       "1297          5909  Export Quantity             1068    Ducks       1977   \n",
       "1298          5909  Export Quantity             1068    Ducks       1978   \n",
       "1301          5909  Export Quantity             1068    Ducks       1981   \n",
       "1325          5909  Export Quantity             1068    Ducks       2005   \n",
       "1326          5909  Export Quantity             1068    Ducks       2006   \n",
       "1328          5909  Export Quantity             1068    Ducks       2008   \n",
       "1329          5909  Export Quantity             1068    Ducks       2009   \n",
       "\n",
       "      Year       Unit  Value Flag  \\\n",
       "214   2019  1000 Head    0.0  NaN   \n",
       "215   2020  1000 Head    0.0  NaN   \n",
       "216   2014     tonnes    0.0  NaN   \n",
       "217   2016     tonnes    0.0  NaN   \n",
       "220   2019     tonnes    0.0  NaN   \n",
       "221   2020     tonnes    0.0  NaN   \n",
       "240   2019   1000 US$    0.0  NaN   \n",
       "257   2015  1000 Head    0.0  NaN   \n",
       "264   2015     tonnes    0.0  NaN   \n",
       "312   2014     tonnes    0.0  NaN   \n",
       "313   2015     tonnes    0.0  NaN   \n",
       "314   2016     tonnes    0.0  NaN   \n",
       "704   2014     tonnes    0.0  NaN   \n",
       "705   2015     tonnes    0.0  NaN   \n",
       "706   2016     tonnes    0.0  NaN   \n",
       "741   2009  1000 Head    0.0    *   \n",
       "742   2010  1000 Head    0.0    F   \n",
       "743   2011  1000 Head    0.0  NaN   \n",
       "744   2012  1000 Head    0.0    F   \n",
       "745   2013  1000 Head    0.0    F   \n",
       "753   2014     tonnes    0.0  NaN   \n",
       "754   2015     tonnes    0.0  NaN   \n",
       "769   2009   1000 US$    0.0    *   \n",
       "770   2010   1000 US$    0.0    F   \n",
       "772   2012   1000 US$    0.0    *   \n",
       "773   2013   1000 US$    0.0    F   \n",
       "1193  1973  1000 Head    0.0    A   \n",
       "1194  1974  1000 Head    0.0    A   \n",
       "1195  1975  1000 Head    0.0    A   \n",
       "1196  1976  1000 Head    0.0    A   \n",
       "1237  2018  1000 Head    0.0    A   \n",
       "1238  2019  1000 Head    0.0    A   \n",
       "1239  2020  1000 Head    0.0    A   \n",
       "1242  2016     tonnes    0.0    A   \n",
       "1245  2020     tonnes    0.0    A   \n",
       "1246  1973   1000 US$    0.0    A   \n",
       "1247  1974   1000 US$    0.0    A   \n",
       "1248  1975   1000 US$    0.0    A   \n",
       "1249  1976   1000 US$    0.0    A   \n",
       "1293  1973  1000 Head    0.0    A   \n",
       "1294  1974  1000 Head    0.0    A   \n",
       "1295  1975  1000 Head    0.0    A   \n",
       "1296  1976  1000 Head    0.0    A   \n",
       "1297  1977  1000 Head    0.0    A   \n",
       "1298  1978  1000 Head    0.0    A   \n",
       "1301  1981  1000 Head    0.0    A   \n",
       "1325  2005  1000 Head    0.0    A   \n",
       "1326  2006  1000 Head    0.0    A   \n",
       "1328  2008  1000 Head    0.0    A   \n",
       "1329  2009  1000 Head    0.0    A   \n",
       "\n",
       "                                       Flag Description  \n",
       "214                                       Official data  \n",
       "215                                       Official data  \n",
       "216                                       Official data  \n",
       "217                                       Official data  \n",
       "220                                       Official data  \n",
       "221                                       Official data  \n",
       "240                                       Official data  \n",
       "257                                       Official data  \n",
       "264                                       Official data  \n",
       "312                                       Official data  \n",
       "313                                       Official data  \n",
       "314                                       Official data  \n",
       "704                                       Official data  \n",
       "705                                       Official data  \n",
       "706                                       Official data  \n",
       "741                                   Unofficial figure  \n",
       "742                                        FAO estimate  \n",
       "743                                       Official data  \n",
       "744                                        FAO estimate  \n",
       "745                                        FAO estimate  \n",
       "753                                       Official data  \n",
       "754                                       Official data  \n",
       "769                                   Unofficial figure  \n",
       "770                                        FAO estimate  \n",
       "772                                   Unofficial figure  \n",
       "773                                        FAO estimate  \n",
       "1193  Aggregate, may include official, semi-official...  \n",
       "1194  Aggregate, may include official, semi-official...  \n",
       "1195  Aggregate, may include official, semi-official...  \n",
       "1196  Aggregate, may include official, semi-official...  \n",
       "1237  Aggregate, may include official, semi-official...  \n",
       "1238  Aggregate, may include official, semi-official...  \n",
       "1239  Aggregate, may include official, semi-official...  \n",
       "1242  Aggregate, may include official, semi-official...  \n",
       "1245  Aggregate, may include official, semi-official...  \n",
       "1246  Aggregate, may include official, semi-official...  \n",
       "1247  Aggregate, may include official, semi-official...  \n",
       "1248  Aggregate, may include official, semi-official...  \n",
       "1249  Aggregate, may include official, semi-official...  \n",
       "1293  Aggregate, may include official, semi-official...  \n",
       "1294  Aggregate, may include official, semi-official...  \n",
       "1295  Aggregate, may include official, semi-official...  \n",
       "1296  Aggregate, may include official, semi-official...  \n",
       "1297  Aggregate, may include official, semi-official...  \n",
       "1298  Aggregate, may include official, semi-official...  \n",
       "1301  Aggregate, may include official, semi-official...  \n",
       "1325  Aggregate, may include official, semi-official...  \n",
       "1326  Aggregate, may include official, semi-official...  \n",
       "1328  Aggregate, may include official, semi-official...  \n",
       "1329  Aggregate, may include official, semi-official...  "
      ]
     },
     "execution_count": 72,
     "metadata": {},
     "output_type": "execute_result"
    }
   ],
   "source": [
    "imp_exp_miss.head(50)"
   ]
  },
  {
   "cell_type": "code",
   "execution_count": 73,
   "id": "a4a17484",
   "metadata": {
    "ExecuteTime": {
     "end_time": "2022-05-12T16:51:17.895755Z",
     "start_time": "2022-05-12T16:51:17.880759Z"
    }
   },
   "outputs": [
    {
     "data": {
      "text/plain": [
       "array(['Ducks', 'Goats', 'Turkeys', 'Horses', 'Sheep', 'Cattle', 'Pigs',\n",
       "       'Chickens'], dtype=object)"
      ]
     },
     "execution_count": 73,
     "metadata": {},
     "output_type": "execute_result"
    }
   ],
   "source": [
    "# Investigating if the missing data is at random or not at random by checking if it's specific animal categories or not\n",
    "imp_exp_miss.Item.unique()"
   ]
  },
  {
   "cell_type": "code",
   "execution_count": 74,
   "id": "7dc9d716",
   "metadata": {
    "ExecuteTime": {
     "end_time": "2022-05-12T16:51:17.911705Z",
     "start_time": "2022-05-12T16:51:17.896716Z"
    }
   },
   "outputs": [
    {
     "data": {
      "text/plain": [
       "array([0.])"
      ]
     },
     "execution_count": 74,
     "metadata": {},
     "output_type": "execute_result"
    }
   ],
   "source": [
    "imp_exp_miss.Value.unique()"
   ]
  },
  {
   "cell_type": "code",
   "execution_count": 75,
   "id": "6978df20",
   "metadata": {
    "ExecuteTime": {
     "end_time": "2022-05-12T16:51:17.927634Z",
     "start_time": "2022-05-12T16:51:17.912682Z"
    }
   },
   "outputs": [
    {
     "data": {
      "text/plain": [
       "array(['Belgium', 'China', 'Denmark', 'France', 'Germany', 'Ireland',\n",
       "       'Italy', 'Luxembourg', 'Netherlands', 'United States of America'],\n",
       "      dtype=object)"
      ]
     },
     "execution_count": 75,
     "metadata": {},
     "output_type": "execute_result"
    }
   ],
   "source": [
    "# Investigating if the missing data is at random or not at random by checking if it's specific country's or not\n",
    "imp_exp_miss.Area.unique()"
   ]
  },
  {
   "cell_type": "code",
   "execution_count": 76,
   "id": "1e879eb3",
   "metadata": {
    "ExecuteTime": {
     "end_time": "2022-05-12T16:51:17.943619Z",
     "start_time": "2022-05-12T16:51:17.928630Z"
    }
   },
   "outputs": [
    {
     "data": {
      "text/plain": [
       "array([2019, 2020, 2014, 2016, 2015, 2009, 2010, 2011, 2012, 2013, 1973,\n",
       "       1974, 1975, 1976, 2018, 1977, 1978, 1981, 2005, 2006, 2008, 2017,\n",
       "       1979, 1980, 1982, 1984, 1983, 1985, 2002, 1986, 1993, 1994, 1995,\n",
       "       1997, 1998, 1987, 1988, 1989, 1990, 1996, 1999, 2000, 2001, 2003,\n",
       "       2004, 2007, 1991, 1992], dtype=int64)"
      ]
     },
     "execution_count": 76,
     "metadata": {},
     "output_type": "execute_result"
    }
   ],
   "source": [
    "imp_exp_miss.Year.unique()"
   ]
  },
  {
   "cell_type": "markdown",
   "id": "014aec34",
   "metadata": {},
   "source": [
    "## Summary of EDA"
   ]
  },
  {
   "cell_type": "markdown",
   "id": "ac2a2a84",
   "metadata": {},
   "source": [
    "Missing values account for a small number of the data in the Value columns of all datasets. Missing values have been recorded in two manners, some as \"Zero\" and others as a blank (NaN). The missing data is also not at random, it appears specific countries did not submit specific categories on specific years. The only other column with missing data is the flag data which is not useful to the analysis. NAN's do not show up on is.null filter, it is filtering the Zero values so I will need to manually remove these.\n",
    "\n",
    "Additionally, a few null values have been recorded as \"Zero\" in the dataset where data was not available. These shall also need to be removed as they are outside the domain of the counts.\n",
    "\n",
    "The data will also need to be melted into each country having its values in a column in order to be able to accurately perform statistical analysis."
   ]
  },
  {
   "cell_type": "markdown",
   "id": "a132cf02",
   "metadata": {},
   "source": [
    "# General Data preparation "
   ]
  },
  {
   "cell_type": "markdown",
   "id": "d76f0192",
   "metadata": {},
   "source": [
    "## Removing the Null values"
   ]
  },
  {
   "cell_type": "code",
   "execution_count": 77,
   "id": "19326483",
   "metadata": {
    "ExecuteTime": {
     "end_time": "2022-05-12T16:51:17.959577Z",
     "start_time": "2022-05-12T16:51:17.944588Z"
    }
   },
   "outputs": [],
   "source": [
    "# removing NANs and filtering out \"Zero\"\n",
    "\n",
    "slaughter_clean = slaughter[slaughter['Value'].notnull()]\n",
    "slaughter_clean = slaughter_clean.loc[slaughter_clean['Value'] != 0]\n",
    "\n",
    "meat_clean = meat[meat['Value'].notnull()]\n",
    "meat_clean = meat_clean.loc[meat_clean['Value'] != 0]\n",
    "\n",
    "stock_clean = stock[stock['Value'].notnull()]\n",
    "stock_clean = stock_clean.loc[stock_clean['Value'] != 0]\n",
    "\n",
    "imp_exp_clean = imp_exp[imp_exp['Value'].notnull()]\n",
    "imp_exp_clean = imp_exp_clean.loc[imp_exp_clean['Value'] != 0]"
   ]
  },
  {
   "cell_type": "markdown",
   "id": "e85a1739",
   "metadata": {},
   "source": [
    "## Dropping useless columns"
   ]
  },
  {
   "cell_type": "code",
   "execution_count": 78,
   "id": "e5579412",
   "metadata": {
    "ExecuteTime": {
     "end_time": "2022-05-12T16:51:17.975534Z",
     "start_time": "2022-05-12T16:51:17.960545Z"
    }
   },
   "outputs": [
    {
     "data": {
      "text/plain": [
       "Index(['Domain Code', 'Domain', 'Area Code (FAO)', 'Area', 'Element Code',\n",
       "       'Element', 'Item Code (FAO)', 'Item', 'Year Code', 'Year', 'Unit',\n",
       "       'Value', 'Flag', 'Flag Description'],\n",
       "      dtype='object')"
      ]
     },
     "execution_count": 78,
     "metadata": {},
     "output_type": "execute_result"
    }
   ],
   "source": [
    "imp_exp_clean.columns"
   ]
  },
  {
   "cell_type": "code",
   "execution_count": 79,
   "id": "80c5d8f9",
   "metadata": {
    "ExecuteTime": {
     "end_time": "2022-05-12T16:51:17.988205Z",
     "start_time": "2022-05-12T16:51:17.976509Z"
    }
   },
   "outputs": [],
   "source": [
    "slaughter_clean = slaughter_clean.drop([\"Domain Code\",\"Domain\",\"Area Code (FAO)\", \"Element Code\",\n",
    "                      \"Item Code (FAO)\", \"Year Code\", \"Flag\", \"Flag Description\"],axis=1)\n",
    "\n",
    "meat_clean = meat_clean.drop([\"Domain Code\",\"Domain\",\"Area Code (FAO)\", \"Element Code\",\n",
    "                      \"Item Code (FAO)\", \"Year Code\", \"Flag\", \"Flag Description\"],axis=1)\n",
    "stock_clean = stock_clean.drop([\"Domain Code\",\"Domain\",\"Area Code (FAO)\", \"Element Code\",\n",
    "                      \"Item Code (FAO)\", \"Year Code\", \"Flag\", \"Flag Description\"],axis=1)\n",
    "\n",
    "imp_exp_clean = imp_exp_clean.drop([\"Domain Code\",\"Domain\",\"Area Code (FAO)\", \"Element Code\",\n",
    "                      \"Item Code (FAO)\", \"Year Code\", \"Flag\", \"Flag Description\"],axis=1)"
   ]
  },
  {
   "cell_type": "markdown",
   "id": "0e7ade8a",
   "metadata": {
    "ExecuteTime": {
     "end_time": "2022-05-05T13:10:45.091554Z",
     "start_time": "2022-05-05T13:10:45.074367Z"
    }
   },
   "source": [
    "## Renaming column categories to more intuitive names "
   ]
  },
  {
   "cell_type": "code",
   "execution_count": 80,
   "id": "b975411a",
   "metadata": {
    "ExecuteTime": {
     "end_time": "2022-05-12T16:51:18.004159Z",
     "start_time": "2022-05-12T16:51:17.988205Z"
    }
   },
   "outputs": [
    {
     "data": {
      "text/plain": [
       "array(['Meat, cattle', 'Meat, chicken', 'Meat, duck', 'Meat, goat',\n",
       "       'Meat, horse', 'Meat, pig', 'Meat, sheep', 'Meat, turkey',\n",
       "       'Meat, goose and guinea fowl', 'Meat, rabbit'], dtype=object)"
      ]
     },
     "execution_count": 80,
     "metadata": {},
     "output_type": "execute_result"
    }
   ],
   "source": [
    "slaughter_clean.Item.unique()"
   ]
  },
  {
   "cell_type": "code",
   "execution_count": 81,
   "id": "55283f20",
   "metadata": {
    "ExecuteTime": {
     "end_time": "2022-05-12T16:51:18.020114Z",
     "start_time": "2022-05-12T16:51:18.005126Z"
    }
   },
   "outputs": [],
   "source": [
    "# Creating a function to rename the categorical variables in the data set to \n",
    "# easier to understand plain language English\n",
    "def merge_similar_types(dataframe):\n",
    "    '''This function takes in a traffic dataframe as input, it then maps vehicle categories in the\n",
    "    'CountType' column to a single merged category and returns the changed dataframe'''\n",
    "    dataframe['Element'] = dataframe['Element'].replace({\n",
    "        'Producing Animals/Slaughtered': 'Slaughtered'\n",
    "    })\n",
    "    dataframe['Item'] = dataframe['Item'].replace({\n",
    "        'Meat, cattle': 'Cattle', 'Meat, chicken': 'Chicken', 'Meat, duck': 'Duck',\n",
    "        'Meat, goat': 'Goat', 'Meat, horse': 'Horse', 'Meat, pig': 'Pig',\n",
    "        'Meat, sheep': 'Sheep', 'Meat, turkey': 'Turkey', \n",
    "        'Meat, goose and guinea fowl': 'Goose and Guinea fowl',\n",
    "        'Meat, rabbit': 'Rabbit'\n",
    "    })\n",
    "    dataframe['Unit'] = dataframe['Unit'].replace({\n",
    "        'tonnes': 'Tonnes'\n",
    "    })\n",
    "    return dataframe"
   ]
  },
  {
   "cell_type": "code",
   "execution_count": 82,
   "id": "bb3bb5cb",
   "metadata": {
    "ExecuteTime": {
     "end_time": "2022-05-12T16:51:18.052028Z",
     "start_time": "2022-05-12T16:51:18.024075Z"
    }
   },
   "outputs": [],
   "source": [
    "# Implementation of plain language english function\n",
    "slaughter_clean = merge_similar_types(slaughter_clean)\n",
    "\n",
    "meat_clean = merge_similar_types(meat_clean)\n",
    "\n",
    "stock_clean = merge_similar_types(stock_clean)\n",
    "\n",
    "imp_exp_clean = merge_similar_types(imp_exp_clean)"
   ]
  },
  {
   "cell_type": "markdown",
   "id": "0aaa7b8a",
   "metadata": {},
   "source": [
    "## Adding geocodes"
   ]
  },
  {
   "cell_type": "code",
   "execution_count": 83,
   "id": "f0a71aa7",
   "metadata": {
    "ExecuteTime": {
     "end_time": "2022-05-12T16:51:18.067988Z",
     "start_time": "2022-05-12T16:51:18.052997Z"
    }
   },
   "outputs": [
    {
     "data": {
      "text/html": [
       "<div>\n",
       "<style scoped>\n",
       "    .dataframe tbody tr th:only-of-type {\n",
       "        vertical-align: middle;\n",
       "    }\n",
       "\n",
       "    .dataframe tbody tr th {\n",
       "        vertical-align: top;\n",
       "    }\n",
       "\n",
       "    .dataframe thead th {\n",
       "        text-align: right;\n",
       "    }\n",
       "</style>\n",
       "<table border=\"1\" class=\"dataframe\">\n",
       "  <thead>\n",
       "    <tr style=\"text-align: right;\">\n",
       "      <th></th>\n",
       "      <th>Country</th>\n",
       "      <th>Alpha-2 code</th>\n",
       "      <th>Alpha-3 code</th>\n",
       "      <th>Numeric</th>\n",
       "    </tr>\n",
       "  </thead>\n",
       "  <tbody>\n",
       "    <tr>\n",
       "      <th>0</th>\n",
       "      <td>Afghanistan</td>\n",
       "      <td>AF</td>\n",
       "      <td>AFG</td>\n",
       "      <td>4</td>\n",
       "    </tr>\n",
       "    <tr>\n",
       "      <th>1</th>\n",
       "      <td>Albania</td>\n",
       "      <td>AL</td>\n",
       "      <td>ALB</td>\n",
       "      <td>8</td>\n",
       "    </tr>\n",
       "    <tr>\n",
       "      <th>2</th>\n",
       "      <td>Algeria</td>\n",
       "      <td>DZ</td>\n",
       "      <td>DZA</td>\n",
       "      <td>12</td>\n",
       "    </tr>\n",
       "    <tr>\n",
       "      <th>3</th>\n",
       "      <td>American Samoa</td>\n",
       "      <td>AS</td>\n",
       "      <td>ASM</td>\n",
       "      <td>16</td>\n",
       "    </tr>\n",
       "    <tr>\n",
       "      <th>4</th>\n",
       "      <td>Andorra</td>\n",
       "      <td>AD</td>\n",
       "      <td>AND</td>\n",
       "      <td>20</td>\n",
       "    </tr>\n",
       "  </tbody>\n",
       "</table>\n",
       "</div>"
      ],
      "text/plain": [
       "          Country Alpha-2 code Alpha-3 code  Numeric\n",
       "0     Afghanistan           AF          AFG        4\n",
       "1         Albania           AL          ALB        8\n",
       "2         Algeria           DZ          DZA       12\n",
       "3  American Samoa           AS          ASM       16\n",
       "4         Andorra           AD          AND       20"
      ]
     },
     "execution_count": 83,
     "metadata": {},
     "output_type": "execute_result"
    }
   ],
   "source": [
    "# Here the country codes file is imported and the head shown\n",
    "\n",
    "country_codes = pd.read_csv(\"C:/Users/shaun/OneDrive/MSc Data Analytics/CA2 Semester 1/Data/country_codes.tsv\", sep='\\t')\n",
    "country_codes.head()"
   ]
  },
  {
   "cell_type": "markdown",
   "id": "49925bbc",
   "metadata": {
    "ExecuteTime": {
     "end_time": "2022-05-12T16:33:45.018739Z",
     "start_time": "2022-05-12T16:33:45.018739Z"
    }
   },
   "source": [
    "def add_geo(dataframe):\n",
    "    for area in dataframe['Area']:\n",
    "        if area in dataframe['Area'] == country_codes['Country'].value:\n",
    "            dataframe['Geocode'] = country_codes['Country'].value\n",
    "            return dataframe\n",
    "        else:\n",
    "            pass"
   ]
  },
  {
   "cell_type": "markdown",
   "id": "e41aa7ea",
   "metadata": {
    "ExecuteTime": {
     "end_time": "2022-05-12T16:33:45.019739Z",
     "start_time": "2022-05-12T16:33:45.019739Z"
    }
   },
   "source": [
    "def add_geo(dataframe):\n",
    "    for country in dataframe['Area']:\n",
    "        for i in country_codes['Country']:\n",
    "            if country.value == country_codes['Country'].value:\n",
    "                dataframe['Geocode'] == country_codes['Country'].value:\n",
    "                    return dataframe\n",
    "            else:\n",
    "                print(\"This failed\")"
   ]
  },
  {
   "cell_type": "markdown",
   "id": "312a3815",
   "metadata": {
    "ExecuteTime": {
     "end_time": "2022-05-12T15:25:41.918503Z",
     "start_time": "2022-05-12T15:25:41.641337Z"
    }
   },
   "source": [
    "for i in slaughter_clean['Area']:\n",
    "    print(i)"
   ]
  },
  {
   "cell_type": "markdown",
   "id": "e1a1a3da",
   "metadata": {
    "ExecuteTime": {
     "end_time": "2022-05-12T15:28:03.528356Z",
     "start_time": "2022-05-12T15:28:03.514388Z"
    }
   },
   "source": [
    "for i in country_codes[Country]:\n",
    "    print(i)"
   ]
  },
  {
   "cell_type": "markdown",
   "id": "127125a3",
   "metadata": {
    "ExecuteTime": {
     "end_time": "2022-05-12T15:28:36.260558Z",
     "start_time": "2022-05-12T15:28:36.231560Z"
    }
   },
   "source": [
    "for i in country_codes[country]:\n",
    "    print(i)"
   ]
  },
  {
   "cell_type": "markdown",
   "id": "4199861d",
   "metadata": {
    "ExecuteTime": {
     "end_time": "2022-05-12T16:31:31.116996Z",
     "start_time": "2022-05-12T16:31:31.098017Z"
    }
   },
   "source": [
    "slaughter_clean.Area.unique()"
   ]
  },
  {
   "cell_type": "markdown",
   "id": "df122f5a",
   "metadata": {
    "ExecuteTime": {
     "end_time": "2022-05-12T16:31:31.586979Z",
     "start_time": "2022-05-12T16:31:31.571732Z"
    }
   },
   "source": [
    "def add_geo(dataframe):\n",
    "    if dataframe['Area'] == \"Ireland\":\n",
    "        dataframe['Code'] = \"IRL\"\n",
    "    elif dataframe['Area'] == \"France\":\n",
    "        dataframe['Code'] = \"FRA\"\n",
    "    elif dataframe['Area'] == \"Belgium\":\n",
    "        dataframe['Code'] = \"BEL\"\n",
    "    elif dataframe['Area'] == \"China\":\n",
    "        dataframe['Code'] = \"CHN\"\n",
    "    elif dataframe['Area'] == \"Denmark\":\n",
    "        dataframe['Code'] = \"DNK\"\n",
    "    elif dataframe['Area'] == \"Germany\":\n",
    "        dataframe['Code'] = \"DEU\"\n",
    "    elif dataframe['Area'] == \"Italy\":\n",
    "        dataframe['Code'] = \"ITA\"\n",
    "    elif dataframe['Area'] == \"Luxembourg\":\n",
    "        dataframe['Code'] = \"LUX\"\n",
    "    elif dataframe['Area'] == \"Netherlands\":\n",
    "        dataframe['Code'] = \"NLD\"\n",
    "    elif dataframe['Area'] == \"United States of America\":\n",
    "        dataframe['Code'] = \"USA\"\n",
    "    else: pass\n",
    "    return dataframe"
   ]
  },
  {
   "cell_type": "markdown",
   "id": "7fd25d83",
   "metadata": {
    "ExecuteTime": {
     "end_time": "2022-05-12T16:31:34.421988Z",
     "start_time": "2022-05-12T16:31:34.412008Z"
    }
   },
   "source": [
    "def add_geo(df):\n",
    "    df['Code'] = df.loc[df['Area'] == \"Ireland\", df['Code']] = \"IRE\""
   ]
  },
  {
   "cell_type": "markdown",
   "id": "dfa845ce",
   "metadata": {
    "ExecuteTime": {
     "end_time": "2022-05-12T16:33:45.019739Z",
     "start_time": "2022-05-12T16:33:45.019739Z"
    }
   },
   "source": [
    "test = add_geo(slaughter_clean)"
   ]
  },
  {
   "cell_type": "markdown",
   "id": "3d689986",
   "metadata": {
    "ExecuteTime": {
     "end_time": "2022-05-12T16:33:45.020743Z",
     "start_time": "2022-05-12T16:33:45.020743Z"
    }
   },
   "source": [
    "test.head()"
   ]
  },
  {
   "cell_type": "markdown",
   "id": "6636d2c2",
   "metadata": {},
   "source": []
  },
  {
   "cell_type": "markdown",
   "id": "25fd9302",
   "metadata": {
    "ExecuteTime": {
     "end_time": "2022-05-12T14:40:49.246718Z",
     "start_time": "2022-05-12T14:40:49.232715Z"
    }
   },
   "source": [
    "test.head()"
   ]
  },
  {
   "cell_type": "code",
   "execution_count": null,
   "id": "9bf6a8c6",
   "metadata": {},
   "outputs": [],
   "source": []
  },
  {
   "cell_type": "code",
   "execution_count": null,
   "id": "16567fd7",
   "metadata": {},
   "outputs": [],
   "source": []
  },
  {
   "cell_type": "code",
   "execution_count": 84,
   "id": "5cd3779a",
   "metadata": {
    "ExecuteTime": {
     "end_time": "2022-05-12T16:51:18.083945Z",
     "start_time": "2022-05-12T16:51:18.068961Z"
    }
   },
   "outputs": [],
   "source": [
    "## Use merge to bring in the Geocodes"
   ]
  },
  {
   "cell_type": "markdown",
   "id": "1d45ff23",
   "metadata": {},
   "source": [
    "## Outlier detection"
   ]
  },
  {
   "cell_type": "markdown",
   "id": "d53c23ad",
   "metadata": {},
   "source": [
    "### Boxplots"
   ]
  },
  {
   "cell_type": "code",
   "execution_count": 85,
   "id": "1ea30070",
   "metadata": {
    "ExecuteTime": {
     "end_time": "2022-05-12T16:51:18.099872Z",
     "start_time": "2022-05-12T16:51:18.084912Z"
    }
   },
   "outputs": [],
   "source": [
    "# Create a new dataframe containing all the 'Value' columns to create one set of boxplots and do describe!"
   ]
  },
  {
   "cell_type": "markdown",
   "id": "eb520a63",
   "metadata": {},
   "source": [
    "# Adding features"
   ]
  },
  {
   "cell_type": "markdown",
   "id": "1a7f6e31",
   "metadata": {},
   "source": [
    "## Adding the European average for each EU country"
   ]
  },
  {
   "cell_type": "markdown",
   "id": "ec8d4ef8",
   "metadata": {},
   "source": [
    "You can't do data quarterly, to add the EU average you'd need to download the aggregate EU totals and divide by the number of member states for the years in question with a function \n",
    "\n"
   ]
  },
  {
   "cell_type": "code",
   "execution_count": null,
   "id": "7e75ff7d",
   "metadata": {},
   "outputs": [],
   "source": []
  },
  {
   "cell_type": "markdown",
   "id": "2eb68823",
   "metadata": {},
   "source": [
    "## Adding a  column of the values on a logarithmic scale"
   ]
  },
  {
   "cell_type": "code",
   "execution_count": 86,
   "id": "ed7b0ffb",
   "metadata": {
    "ExecuteTime": {
     "end_time": "2022-05-12T16:51:24.463742Z",
     "start_time": "2022-05-12T16:51:24.449748Z"
    }
   },
   "outputs": [],
   "source": [
    "def log_values(dataframe):\n",
    "    '''This function takes a a dataframe as input logs the values in the\n",
    "    Value column and places them into a new column called log values.'''\n",
    "    dataframe['LogValue'] = np.log10(dataframe['Value'])\n",
    "    return dataframe"
   ]
  },
  {
   "cell_type": "code",
   "execution_count": 92,
   "id": "e89ecd19",
   "metadata": {
    "ExecuteTime": {
     "end_time": "2022-05-12T16:53:20.609759Z",
     "start_time": "2022-05-12T16:53:20.596795Z"
    }
   },
   "outputs": [],
   "source": [
    "slaughter_clean = log_values(slaughter_clean)\n",
    "meat_clean = log_values(meat_clean)\n",
    "stock_clean = log_values(stock_clean)\n",
    "imp_exp_clean = log_values(imp_exp_clean)"
   ]
  },
  {
   "cell_type": "code",
   "execution_count": 93,
   "id": "2897fb48",
   "metadata": {
    "ExecuteTime": {
     "end_time": "2022-05-12T16:53:22.592383Z",
     "start_time": "2022-05-12T16:53:22.569438Z"
    }
   },
   "outputs": [
    {
     "data": {
      "text/html": [
       "<div>\n",
       "<style scoped>\n",
       "    .dataframe tbody tr th:only-of-type {\n",
       "        vertical-align: middle;\n",
       "    }\n",
       "\n",
       "    .dataframe tbody tr th {\n",
       "        vertical-align: top;\n",
       "    }\n",
       "\n",
       "    .dataframe thead th {\n",
       "        text-align: right;\n",
       "    }\n",
       "</style>\n",
       "<table border=\"1\" class=\"dataframe\">\n",
       "  <thead>\n",
       "    <tr style=\"text-align: right;\">\n",
       "      <th></th>\n",
       "      <th>Area</th>\n",
       "      <th>Element</th>\n",
       "      <th>Item</th>\n",
       "      <th>Year</th>\n",
       "      <th>Unit</th>\n",
       "      <th>Value</th>\n",
       "      <th>LogValue</th>\n",
       "    </tr>\n",
       "  </thead>\n",
       "  <tbody>\n",
       "    <tr>\n",
       "      <th>0</th>\n",
       "      <td>Belgium</td>\n",
       "      <td>Slaughtered</td>\n",
       "      <td>Cattle</td>\n",
       "      <td>2000</td>\n",
       "      <td>Head</td>\n",
       "      <td>832926.0</td>\n",
       "      <td>5.920606</td>\n",
       "    </tr>\n",
       "    <tr>\n",
       "      <th>1</th>\n",
       "      <td>Belgium</td>\n",
       "      <td>Slaughtered</td>\n",
       "      <td>Cattle</td>\n",
       "      <td>2001</td>\n",
       "      <td>Head</td>\n",
       "      <td>873268.0</td>\n",
       "      <td>5.941148</td>\n",
       "    </tr>\n",
       "    <tr>\n",
       "      <th>2</th>\n",
       "      <td>Belgium</td>\n",
       "      <td>Slaughtered</td>\n",
       "      <td>Cattle</td>\n",
       "      <td>2002</td>\n",
       "      <td>Head</td>\n",
       "      <td>932473.0</td>\n",
       "      <td>5.969636</td>\n",
       "    </tr>\n",
       "    <tr>\n",
       "      <th>3</th>\n",
       "      <td>Belgium</td>\n",
       "      <td>Slaughtered</td>\n",
       "      <td>Cattle</td>\n",
       "      <td>2003</td>\n",
       "      <td>Head</td>\n",
       "      <td>853641.0</td>\n",
       "      <td>5.931275</td>\n",
       "    </tr>\n",
       "    <tr>\n",
       "      <th>4</th>\n",
       "      <td>Belgium</td>\n",
       "      <td>Slaughtered</td>\n",
       "      <td>Cattle</td>\n",
       "      <td>2004</td>\n",
       "      <td>Head</td>\n",
       "      <td>842585.0</td>\n",
       "      <td>5.925614</td>\n",
       "    </tr>\n",
       "  </tbody>\n",
       "</table>\n",
       "</div>"
      ],
      "text/plain": [
       "      Area      Element    Item  Year  Unit     Value  LogValue\n",
       "0  Belgium  Slaughtered  Cattle  2000  Head  832926.0  5.920606\n",
       "1  Belgium  Slaughtered  Cattle  2001  Head  873268.0  5.941148\n",
       "2  Belgium  Slaughtered  Cattle  2002  Head  932473.0  5.969636\n",
       "3  Belgium  Slaughtered  Cattle  2003  Head  853641.0  5.931275\n",
       "4  Belgium  Slaughtered  Cattle  2004  Head  842585.0  5.925614"
      ]
     },
     "execution_count": 93,
     "metadata": {},
     "output_type": "execute_result"
    }
   ],
   "source": [
    "slaughter_clean.head()"
   ]
  },
  {
   "cell_type": "code",
   "execution_count": 94,
   "id": "a97dd9d2",
   "metadata": {
    "ExecuteTime": {
     "end_time": "2022-05-12T16:53:23.261634Z",
     "start_time": "2022-05-12T16:53:23.244709Z"
    }
   },
   "outputs": [
    {
     "data": {
      "text/html": [
       "<div>\n",
       "<style scoped>\n",
       "    .dataframe tbody tr th:only-of-type {\n",
       "        vertical-align: middle;\n",
       "    }\n",
       "\n",
       "    .dataframe tbody tr th {\n",
       "        vertical-align: top;\n",
       "    }\n",
       "\n",
       "    .dataframe thead th {\n",
       "        text-align: right;\n",
       "    }\n",
       "</style>\n",
       "<table border=\"1\" class=\"dataframe\">\n",
       "  <thead>\n",
       "    <tr style=\"text-align: right;\">\n",
       "      <th></th>\n",
       "      <th>Area</th>\n",
       "      <th>Element</th>\n",
       "      <th>Item</th>\n",
       "      <th>Year</th>\n",
       "      <th>Unit</th>\n",
       "      <th>Value</th>\n",
       "      <th>LogValue</th>\n",
       "    </tr>\n",
       "  </thead>\n",
       "  <tbody>\n",
       "    <tr>\n",
       "      <th>0</th>\n",
       "      <td>Belgium</td>\n",
       "      <td>Production</td>\n",
       "      <td>Cattle</td>\n",
       "      <td>2000</td>\n",
       "      <td>Tonnes</td>\n",
       "      <td>275360.0</td>\n",
       "      <td>5.439901</td>\n",
       "    </tr>\n",
       "    <tr>\n",
       "      <th>1</th>\n",
       "      <td>Belgium</td>\n",
       "      <td>Production</td>\n",
       "      <td>Cattle</td>\n",
       "      <td>2001</td>\n",
       "      <td>Tonnes</td>\n",
       "      <td>285250.0</td>\n",
       "      <td>5.455226</td>\n",
       "    </tr>\n",
       "    <tr>\n",
       "      <th>2</th>\n",
       "      <td>Belgium</td>\n",
       "      <td>Production</td>\n",
       "      <td>Cattle</td>\n",
       "      <td>2002</td>\n",
       "      <td>Tonnes</td>\n",
       "      <td>305388.0</td>\n",
       "      <td>5.484852</td>\n",
       "    </tr>\n",
       "    <tr>\n",
       "      <th>3</th>\n",
       "      <td>Belgium</td>\n",
       "      <td>Production</td>\n",
       "      <td>Cattle</td>\n",
       "      <td>2003</td>\n",
       "      <td>Tonnes</td>\n",
       "      <td>275170.0</td>\n",
       "      <td>5.439601</td>\n",
       "    </tr>\n",
       "    <tr>\n",
       "      <th>4</th>\n",
       "      <td>Belgium</td>\n",
       "      <td>Production</td>\n",
       "      <td>Cattle</td>\n",
       "      <td>2004</td>\n",
       "      <td>Tonnes</td>\n",
       "      <td>280931.0</td>\n",
       "      <td>5.448600</td>\n",
       "    </tr>\n",
       "  </tbody>\n",
       "</table>\n",
       "</div>"
      ],
      "text/plain": [
       "      Area     Element    Item  Year    Unit     Value  LogValue\n",
       "0  Belgium  Production  Cattle  2000  Tonnes  275360.0  5.439901\n",
       "1  Belgium  Production  Cattle  2001  Tonnes  285250.0  5.455226\n",
       "2  Belgium  Production  Cattle  2002  Tonnes  305388.0  5.484852\n",
       "3  Belgium  Production  Cattle  2003  Tonnes  275170.0  5.439601\n",
       "4  Belgium  Production  Cattle  2004  Tonnes  280931.0  5.448600"
      ]
     },
     "execution_count": 94,
     "metadata": {},
     "output_type": "execute_result"
    }
   ],
   "source": [
    "meat_clean.head()"
   ]
  },
  {
   "cell_type": "markdown",
   "id": "7460938e",
   "metadata": {},
   "source": [
    "# Data visualisation"
   ]
  },
  {
   "cell_type": "code",
   "execution_count": 122,
   "id": "8cb6a99f",
   "metadata": {
    "ExecuteTime": {
     "end_time": "2022-05-12T17:11:08.052220Z",
     "start_time": "2022-05-12T17:11:07.815189Z"
    }
   },
   "outputs": [
    {
     "data": {
      "text/plain": [
       "<Figure size 1080x360 with 0 Axes>"
      ]
     },
     "metadata": {},
     "output_type": "display_data"
    },
    {
     "data": {
      "image/png": "[encoded data removed]",
      "text/plain": [
       "<Figure size 1080x576 with 1 Axes>"
      ]
     },
     "metadata": {},
     "output_type": "display_data"
    }
   ],
   "source": [
    "sns.set_theme(style=\"whitegrid\")\n",
    "\n",
    "plt.figure(figsize=(15, 5));\n",
    "fig, ax = plt.subplots(figsize=(15,8))\n",
    "sns.set(font_scale = 1.6);\n",
    "vt = sns.lineplot(data = slaughter_clean, x = \"Year\", y = \"LogValue\", hue=\"Area\",\n",
    "                 palette=\"tab10\", linewidth=2.5, ci=None)\n",
    "vt = ax.set_ylim(0, 10);\n",
    "plt.title(\"Test\");\n",
    "plt.xlabel(\"Year\");\n",
    "plt.ylabel(\"Log Value\");\n",
    "plt.legend(loc='upper right', bbox_to_anchor=(1.5, 1), title=\"Country\");\n"
   ]
  },
  {
   "cell_type": "code",
   "execution_count": 133,
   "id": "effc9a4c",
   "metadata": {
    "ExecuteTime": {
     "end_time": "2022-05-12T17:13:53.315645Z",
     "start_time": "2022-05-12T17:13:53.083687Z"
    }
   },
   "outputs": [
    {
     "data": {
      "image/png": "[encoded data removed]",
      "text/plain": [
       "<Figure size 1080x576 with 1 Axes>"
      ]
     },
     "metadata": {},
     "output_type": "display_data"
    }
   ],
   "source": [
    "sns.set_theme(style=\"whitegrid\")\n",
    "\n",
    "fig, ax = plt.subplots(figsize=(15,8));\n",
    "sns.set(font_scale = 1.6);\n",
    "vt = sns.lineplot(data = slaughter_clean, x = \"Year\", y = \"LogValue\", hue=\"Area\",\n",
    "                 linewidth=2.5, ci=None)\n",
    "vt = ax.set_ylim(0, 10);\n",
    "plt.title(\"Test\");\n",
    "plt.xlabel(\"Year\");\n",
    "plt.ylabel(\"Log Value\");\n",
    "plt.legend(loc='upper right', bbox_to_anchor=(1.5, 1), title=\"Country\");\n"
   ]
  },
  {
   "cell_type": "code",
   "execution_count": 132,
   "id": "b4f1b9de",
   "metadata": {
    "ExecuteTime": {
     "end_time": "2022-05-12T17:13:45.128323Z",
     "start_time": "2022-05-12T17:13:44.887742Z"
    }
   },
   "outputs": [
    {
     "data": {
      "image/png": "[encoded data removed]",
      "text/plain": [
       "<Figure size 1080x576 with 1 Axes>"
      ]
     },
     "metadata": {},
     "output_type": "display_data"
    }
   ],
   "source": [
    "sns.set_theme(style=\"whitegrid\")\n",
    "\n",
    "fig, ax = plt.subplots(figsize=(15,8));\n",
    "sns.set(font_scale = 1.6);\n",
    "vt = sns.lineplot(data = slaughter_clean, x = \"Year\", y = \"LogValue\", hue=\"Area\",\n",
    "                 linewidth=2.5, ci=None)\n",
    "vt = ax.set_ylim(0, 10);\n",
    "plt.title(\"Test\");\n",
    "plt.xlabel(\"Year\");\n",
    "plt.ylabel(\"Log Value\");\n",
    "plt.legend(loc='upper right', bbox_to_anchor=(1.5, 1), title=\"Country\");\n"
   ]
  },
  {
   "cell_type": "code",
   "execution_count": 138,
   "id": "0f35da3c",
   "metadata": {
    "ExecuteTime": {
     "end_time": "2022-05-12T17:17:10.715410Z",
     "start_time": "2022-05-12T17:17:10.487236Z"
    }
   },
   "outputs": [
    {
     "data": {
      "image/png": "[encoded data removed]",
      "text/plain": [
       "<Figure size 720x720 with 1 Axes>"
      ]
     },
     "metadata": {},
     "output_type": "display_data"
    }
   ],
   "source": [
    "plt.figure(figsize=(10, 10));\n",
    "sns.set(font_scale = 1.2);\n",
    "sns.lineplot(data = slaughter_clean, x='Year', y=\"LogValue\", hue=\"Area\",\n",
    "            linewidth=2.5, ci=None);\n",
    "plt.title(\"Boxplot of CountValue total values for vehicles and pedestrians by day of the week\");\n",
    "plt.xlabel(\"Day of the week\");\n",
    "plt.ylabel(\"CountValue\");\n",
    "plt.title(\"Test\");\n",
    "plt.xlabel(\"Year\");\n",
    "plt.ylabel(\"Log Value\");\n",
    "plt.legend(loc='upper right', bbox_to_anchor=(1.5, 1), title=\"Country\");"
   ]
  },
  {
   "cell_type": "code",
   "execution_count": null,
   "id": "9dfb82d1",
   "metadata": {},
   "outputs": [],
   "source": []
  },
  {
   "cell_type": "markdown",
   "id": "df308f7d",
   "metadata": {},
   "source": [
    "# Statistical analysis "
   ]
  },
  {
   "cell_type": "code",
   "execution_count": 86,
   "id": "47c38d69",
   "metadata": {
    "ExecuteTime": {
     "end_time": "2022-05-09T15:59:40.331049Z",
     "start_time": "2022-05-09T15:59:40.314296Z"
    }
   },
   "outputs": [],
   "source": [
    "# Creation of a function to create QQ plots to visualise distributions\n",
    "\n",
    "def see_normality(dataframe):\n",
    "    fig, ax = plt.subplots(figsize=(8, 8));\n",
    "    sns.set(font_scale = 1.4);\n",
    "    stats.probplot(dataframe.Value, plot=plt);\n",
    "    plt.figure();"
   ]
  },
  {
   "cell_type": "markdown",
   "id": "1f1cf0b9",
   "metadata": {},
   "source": [
    "## Testing normality of the distributions"
   ]
  },
  {
   "cell_type": "markdown",
   "id": "5885792d",
   "metadata": {
    "ExecuteTime": {
     "end_time": "2022-05-07T11:13:37.742421Z",
     "start_time": "2022-05-07T11:13:37.727173Z"
    }
   },
   "source": [
    "### Animal Slaughter data "
   ]
  },
  {
   "cell_type": "code",
   "execution_count": 87,
   "id": "8192d00b",
   "metadata": {
    "ExecuteTime": {
     "end_time": "2022-05-09T15:59:40.513707Z",
     "start_time": "2022-05-09T15:59:40.332418Z"
    }
   },
   "outputs": [
    {
     "data": {
      "image/png": "[encoded data removed]",
      "text/plain": [
       "<Figure size 576x576 with 1 Axes>"
      ]
     },
     "metadata": {},
     "output_type": "display_data"
    },
    {
     "data": {
      "text/plain": [
       "<Figure size 432x288 with 0 Axes>"
      ]
     },
     "metadata": {},
     "output_type": "display_data"
    }
   ],
   "source": [
    "#Normality plot.\n",
    "\n",
    "see_normality(slaughter_clean)"
   ]
  },
  {
   "cell_type": "markdown",
   "id": "88154a8c",
   "metadata": {},
   "source": [
    "To compliment the QQ plot, next we perform a Shapiro-Wilks test to statistically confirm if the distribution is normal or non-normal.\n",
    "\n",
    "<b>The null hypothesis (H0) for the Shapiro-Wilk test is that \"a variable is normally distributed in a population\".</b>"
   ]
  },
  {
   "cell_type": "code",
   "execution_count": 88,
   "id": "3c32a96a",
   "metadata": {
    "ExecuteTime": {
     "end_time": "2022-05-09T15:59:40.531402Z",
     "start_time": "2022-05-09T15:59:40.514708Z"
    }
   },
   "outputs": [
    {
     "data": {
      "text/plain": [
       "ShapiroResult(statistic=0.20885485410690308, pvalue=0.0)"
      ]
     },
     "execution_count": 88,
     "metadata": {},
     "output_type": "execute_result"
    }
   ],
   "source": [
    "# Performing a Shapiro wilks test to confirm the data if the data is or is not\n",
    "# normally distributed.\n",
    "\n",
    "stats.shapiro(slaughter_clean.Value)"
   ]
  },
  {
   "cell_type": "markdown",
   "id": "5673a24c",
   "metadata": {},
   "source": [
    "The QQ plot does not show a linear plot typically associated with normal distributions. In addition, the Shapiro-Wilks test\n",
    "has a p-value below 0.05 so we reject the null hypothesis that \"the variable is normally distributed\"\n",
    "\n",
    "Thus, we conclude the distribution of the animal slaughter data is non-normal."
   ]
  },
  {
   "cell_type": "markdown",
   "id": "3c72d10b",
   "metadata": {},
   "source": [
    "### Meat production data "
   ]
  },
  {
   "cell_type": "code",
   "execution_count": 89,
   "id": "7730a116",
   "metadata": {
    "ExecuteTime": {
     "end_time": "2022-05-09T15:59:40.680542Z",
     "start_time": "2022-05-09T15:59:40.532671Z"
    }
   },
   "outputs": [
    {
     "data": {
      "image/png": "[encoded data removed]",
      "text/plain": [
       "<Figure size 576x576 with 1 Axes>"
      ]
     },
     "metadata": {},
     "output_type": "display_data"
    },
    {
     "data": {
      "text/plain": [
       "<Figure size 432x288 with 0 Axes>"
      ]
     },
     "metadata": {},
     "output_type": "display_data"
    }
   ],
   "source": [
    "see_normality(meat_clean)"
   ]
  },
  {
   "cell_type": "code",
   "execution_count": 90,
   "id": "11a65ec6",
   "metadata": {
    "ExecuteTime": {
     "end_time": "2022-05-09T15:59:40.698265Z",
     "start_time": "2022-05-09T15:59:40.681542Z"
    }
   },
   "outputs": [
    {
     "data": {
      "text/plain": [
       "ShapiroResult(statistic=0.2809247374534607, pvalue=0.0)"
      ]
     },
     "execution_count": 90,
     "metadata": {},
     "output_type": "execute_result"
    }
   ],
   "source": [
    "stats.shapiro(meat_clean.Value)"
   ]
  },
  {
   "cell_type": "markdown",
   "id": "ef6a0891",
   "metadata": {},
   "source": [
    "The QQ plot does not show a linear plot typically associated with normal distributions. In addition, the Shapiro-Wilks test\n",
    "has a p-value below 0.05 so we reject the null hypothesis that \"the variable is normally distributed\"\n",
    "\n",
    "Thus, we conclude the distribution of the meat production data is non-normal."
   ]
  },
  {
   "cell_type": "markdown",
   "id": "c1edcb95",
   "metadata": {},
   "source": [
    "### Livestock stocking data "
   ]
  },
  {
   "cell_type": "code",
   "execution_count": 91,
   "id": "ea093018",
   "metadata": {
    "ExecuteTime": {
     "end_time": "2022-05-09T15:59:40.831903Z",
     "start_time": "2022-05-09T15:59:40.699701Z"
    }
   },
   "outputs": [
    {
     "data": {
      "image/png": "[encoded data removed]",
      "text/plain": [
       "<Figure size 576x576 with 1 Axes>"
      ]
     },
     "metadata": {},
     "output_type": "display_data"
    },
    {
     "data": {
      "text/plain": [
       "<Figure size 432x288 with 0 Axes>"
      ]
     },
     "metadata": {},
     "output_type": "display_data"
    }
   ],
   "source": [
    "see_normality(stock_clean)"
   ]
  },
  {
   "cell_type": "code",
   "execution_count": 92,
   "id": "6b2ef3e1",
   "metadata": {
    "ExecuteTime": {
     "end_time": "2022-05-09T15:59:40.847528Z",
     "start_time": "2022-05-09T15:59:40.831903Z"
    }
   },
   "outputs": [
    {
     "data": {
      "text/plain": [
       "ShapiroResult(statistic=0.29074954986572266, pvalue=0.0)"
      ]
     },
     "execution_count": 92,
     "metadata": {},
     "output_type": "execute_result"
    }
   ],
   "source": [
    "stats.shapiro(stock_clean.Value)"
   ]
  },
  {
   "cell_type": "markdown",
   "id": "2a916a9f",
   "metadata": {},
   "source": [
    "The QQ plot does not show a linear plot typically associated with normal distributions. In addition, the Shapiro-Wilks test\n",
    "has a p-value below 0.05 so we reject the null hypothesis that \"the variable is normally distributed\"\n",
    "\n",
    "Thus, we conclude the distribution of the livestock stocking data is non-normal."
   ]
  },
  {
   "cell_type": "markdown",
   "id": "7cf6e7a0",
   "metadata": {},
   "source": [
    "### Import export data"
   ]
  },
  {
   "cell_type": "code",
   "execution_count": 93,
   "id": "f8a7b77b",
   "metadata": {
    "ExecuteTime": {
     "end_time": "2022-05-09T15:59:41.012252Z",
     "start_time": "2022-05-09T15:59:40.847528Z"
    }
   },
   "outputs": [
    {
     "data": {
      "image/png": "[encoded data removed]",
      "text/plain": [
       "<Figure size 576x576 with 1 Axes>"
      ]
     },
     "metadata": {},
     "output_type": "display_data"
    },
    {
     "data": {
      "text/plain": [
       "<Figure size 432x288 with 0 Axes>"
      ]
     },
     "metadata": {},
     "output_type": "display_data"
    }
   ],
   "source": [
    "see_normality(imp_exp_clean)"
   ]
  },
  {
   "cell_type": "code",
   "execution_count": 94,
   "id": "34c64b88",
   "metadata": {
    "ExecuteTime": {
     "end_time": "2022-05-09T15:59:41.029934Z",
     "start_time": "2022-05-09T15:59:41.013252Z"
    }
   },
   "outputs": [
    {
     "name": "stderr",
     "output_type": "stream",
     "text": [
      "C:\\Users\\shaun\\anaconda3\\lib\\site-packages\\scipy\\stats\\morestats.py:1760: UserWarning: p-value may not be accurate for N > 5000.\n",
      "  warnings.warn(\"p-value may not be accurate for N > 5000.\")\n"
     ]
    },
    {
     "data": {
      "text/plain": [
       "ShapiroResult(statistic=0.22003084421157837, pvalue=0.0)"
      ]
     },
     "execution_count": 94,
     "metadata": {},
     "output_type": "execute_result"
    }
   ],
   "source": [
    "stats.shapiro(imp_exp_clean.Value)"
   ]
  },
  {
   "cell_type": "markdown",
   "id": "05fa3431",
   "metadata": {},
   "source": [
    "The QQ plot does not show a linear plot typically associated with normal distributions. In addition, the Shapiro-Wilks test\n",
    "has a p-value below 0.05 so we reject the null hypothesis that \"the variable is normally distributed\"\n",
    "\n",
    "Thus, we normally we would conclude the distribution of the import export data is non-normal.\n",
    "\n",
    "However, the Scipy stats module has given a warning that the Shapiro-Wilks test 'p-value may not be accurate for datasets containing n > 5,000'. Therefore, we can perform an additional Kolmogorov-Smirnov test (KS-test) to test for normality. \n",
    "\n",
    "In addition, we shall test if this is a problem for the other datasets using count()."
   ]
  },
  {
   "cell_type": "code",
   "execution_count": 95,
   "id": "d5d73ee6",
   "metadata": {
    "ExecuteTime": {
     "end_time": "2022-05-09T15:59:41.045158Z",
     "start_time": "2022-05-09T15:59:41.031153Z"
    }
   },
   "outputs": [
    {
     "name": "stdout",
     "output_type": "stream",
     "text": [
      "The animal slaughter dataset count is \n",
      "Area       3625\n",
      "Element    3625\n",
      "Item       3625\n",
      "Year       3625\n",
      "Unit       3625\n",
      "Value      3625\n",
      "dtype: int64\n",
      "The meat production dataset count is \n",
      "Area       3830\n",
      "Element    3830\n",
      "Item       3830\n",
      "Year       3830\n",
      "Unit       3830\n",
      "Value      3830\n",
      "dtype: int64\n",
      "The livestock stocking dataset count is \n",
      "Area       3670\n",
      "Element    3670\n",
      "Item       3670\n",
      "Year       3670\n",
      "Unit       3670\n",
      "Value      3670\n",
      "dtype: int64\n",
      "The import export dataset count is \n",
      "Area       12988\n",
      "Element    12988\n",
      "Item       12988\n",
      "Year       12988\n",
      "Unit       12988\n",
      "Value      12988\n",
      "dtype: int64\n"
     ]
    }
   ],
   "source": [
    "# Checking all the data sets to see if the >5,000 observations issue affects \n",
    "# any data set other than the import / export data\n",
    "print(f\"The animal slaughter dataset count is \\n{slaughter_clean.count()}\")\n",
    "print(f\"The meat production dataset count is \\n{meat_clean.count()}\")\n",
    "print(f\"The livestock stocking dataset count is \\n{stock_clean.count()}\")\n",
    "print(f\"The import export dataset count is \\n{imp_exp_clean.count()}\")"
   ]
  },
  {
   "cell_type": "markdown",
   "id": "e316df8a",
   "metadata": {},
   "source": [
    "This confirms only the import export data set is too large for the Shapiro Wilks test. Next we can use the Kolmogorov-Smirnov test (KS-test) to re-test the normality of the larger import export data set."
   ]
  },
  {
   "cell_type": "code",
   "execution_count": 96,
   "id": "a8277d76",
   "metadata": {
    "ExecuteTime": {
     "end_time": "2022-05-09T15:59:41.062891Z",
     "start_time": "2022-05-09T15:59:41.046151Z"
    }
   },
   "outputs": [
    {
     "name": "stdout",
     "output_type": "stream",
     "text": [
      "0.9836362430216499 0.0\n"
     ]
    }
   ],
   "source": [
    "from scipy.stats import kstest, norm\n",
    "ks_statistic, p_value = kstest(imp_exp_clean.Value, 'norm')\n",
    "print(ks_statistic, p_value)"
   ]
  },
  {
   "cell_type": "markdown",
   "id": "5ad4f84b",
   "metadata": {},
   "source": [
    "The KS-test confirms the Shapiro-Wilks and QQ plot results that the import export data is not normally distributed."
   ]
  },
  {
   "cell_type": "markdown",
   "id": "e8b4a977",
   "metadata": {},
   "source": [
    "### Summary of distribution testing "
   ]
  },
  {
   "cell_type": "markdown",
   "id": "855c8915",
   "metadata": {},
   "source": [
    "The distribution of all four imported datasets (slaughter, meat production, livestock, and import/export) is not normal as demonstrated by their QQ plots and the results of the Shapiro-Wilks tests. All four datasets Shapiro-Wilks tests had p value below 0.05 and rejected the Null Hypothesis that the \"data is evenly distributed\". In addition, as the import_export dataset was too large for an accurate  Shapiro-Wilks (SW) normality test, a KS-test was performed to confirm the distribution results observed by the SW test and the QQ plot. The KS-test confirmed the import export data is also non-normally distributed.\n",
    "\n",
    "Therefore, we can conclude all four data sets have a non-normal distribution. \n",
    "\n",
    "This means data sets cannot be analysed by tests that require a normal distribution. For example, a T-test, ANOVA, Pearson correlation or Linear regression will not be suitable as these require the data to be normally distributed. We must use tests that are appropriate to non-normally distributed data. "
   ]
  },
  {
   "cell_type": "markdown",
   "id": "5aeefbbd",
   "metadata": {},
   "source": [
    "## Data preparation for statistical analysis"
   ]
  },
  {
   "cell_type": "markdown",
   "id": "1c082f5c",
   "metadata": {},
   "source": [
    "For Statistical analysis I intend to compare if there is any difference between Ireland and other European countries in addition to the US and China in animals slaughtered, meat production and livestock stocking densities.\n"
   ]
  },
  {
   "cell_type": "markdown",
   "id": "104a3cad",
   "metadata": {},
   "source": [
    "### Taking a subset of the data"
   ]
  },
  {
   "cell_type": "markdown",
   "id": "0daeaf44",
   "metadata": {},
   "source": [
    "Due to the large size of the data set,  a subset of animals and countries shall be selected for statistical analysis. In addition, comparisons will only be performed between the slaughter data and the meat production datasets.\n",
    "\n",
    "The subsets shall include:\n",
    "\n",
    "Animals = \"Cattle\", \"Chicken\", , \"Pig\", \", \"Sheep\"\n",
    "\n",
    "Countries = \"Ireland\", \"France\", \"Germany\", \"Italy\", \"Netherlands\", \"China\", \"USA\""
   ]
  },
  {
   "cell_type": "code",
   "execution_count": 97,
   "id": "5911ae9a",
   "metadata": {
    "ExecuteTime": {
     "end_time": "2022-05-09T15:59:41.078212Z",
     "start_time": "2022-05-09T15:59:41.064205Z"
    }
   },
   "outputs": [],
   "source": [
    "# Creating a function to subset the data sets\n",
    "\n",
    "def stat_subset(dataframe):\n",
    "    df = dataframe.loc[(dataframe['Item'] == \"Cattle\")| \n",
    "                                      (dataframe['Item'] == \"Chicken\")|\n",
    "                                      (dataframe['Item'] == \"Pig\")|\n",
    "                                      (dataframe['Item'] == \"Sheep\")]\n",
    "    df = df.loc[(df['Area'] == \"Ireland\")|\n",
    "                        (df['Area'] == \"France\")|\n",
    "                        (df['Area'] == \"Germany\")|\n",
    "                        (df['Area'] == \"Italy\")|\n",
    "                        (df['Area'] == \"Netherlands\")|\n",
    "                        (df['Area'] == \"China\")|\n",
    "                        (df['Area'] == \"United States of America\")]\n",
    "    return df"
   ]
  },
  {
   "cell_type": "code",
   "execution_count": 98,
   "id": "2c104913",
   "metadata": {
    "ExecuteTime": {
     "end_time": "2022-05-09T15:59:41.095961Z",
     "start_time": "2022-05-09T15:59:41.079213Z"
    }
   },
   "outputs": [],
   "source": [
    "slaughter_subset = stat_subset(slaughter_clean)\n",
    "meat_subset = stat_subset(meat_clean)\n",
    "livestock_subset = stat_subset(stock_clean)"
   ]
  },
  {
   "cell_type": "code",
   "execution_count": 99,
   "id": "3cfdeb41",
   "metadata": {
    "ExecuteTime": {
     "end_time": "2022-05-09T15:59:41.111288Z",
     "start_time": "2022-05-09T15:59:41.096278Z"
    }
   },
   "outputs": [
    {
     "name": "stdout",
     "output_type": "stream",
     "text": [
      "Slaughter countries:['Cattle' 'Chicken' 'Pig' 'Sheep']\n",
      "\n",
      "Slaughter animals:['China' 'France' 'Germany' 'Ireland' 'Italy' 'Netherlands'\n",
      " 'United States of America']\n",
      "\n",
      "Meat production countries:['Cattle' 'Chicken' 'Pig' 'Sheep']\n",
      "\n",
      "Meat production animals:['China' 'France' 'Germany' 'Ireland' 'Italy' 'Netherlands'\n",
      " 'United States of America']\n",
      "\n",
      "Livestock countries:['Cattle' 'Sheep']\n",
      "\n",
      "Livestock animals:['China' 'France' 'Germany' 'Ireland' 'Italy' 'Netherlands'\n",
      " 'United States of America']\n",
      "\n"
     ]
    }
   ],
   "source": [
    "# Testing that the dataframes have been properly subsetted by the function\n",
    "\n",
    "print(f\"Slaughter countries:{slaughter_subset.Item.unique()}\\n\")\n",
    "print(f\"Slaughter animals:{slaughter_subset.Area.unique()}\\n\")\n",
    "print(f\"Meat production countries:{meat_subset.Item.unique()}\\n\")\n",
    "print(f\"Meat production animals:{meat_subset.Area.unique()}\\n\")\n",
    "print(f\"Livestock countries:{livestock_subset.Item.unique()}\\n\")\n",
    "print(f\"Livestock animals:{livestock_subset.Area.unique()}\\n\")"
   ]
  },
  {
   "cell_type": "markdown",
   "id": "58d3c602",
   "metadata": {},
   "source": [
    "### Pivoting the dataframes"
   ]
  },
  {
   "cell_type": "markdown",
   "id": "589108ac",
   "metadata": {},
   "source": [
    "In order to carry out the statistical analysis of Ireland versus other countries, the data first needs to be pivoted to so that each countries values are contained in a column"
   ]
  },
  {
   "cell_type": "markdown",
   "id": "83085bfb",
   "metadata": {
    "ExecuteTime": {
     "end_time": "2022-05-09T10:57:29.660403Z",
     "start_time": "2022-05-09T10:57:29.645330Z"
    }
   },
   "source": [
    "\n",
    "Creating a function to pivot the subsetted datasets so that each countries\n",
    "values are in their own column\n",
    "\n",
    "def make_pivot(dataframe):\n",
    "    x = pd.pivot_table(data=dataframe, index=[\"Item\", \"Year\"], values=\"Value\", columns=\"Area\")\n",
    "    return x"
   ]
  },
  {
   "cell_type": "code",
   "execution_count": 100,
   "id": "51dc6cad",
   "metadata": {
    "ExecuteTime": {
     "end_time": "2022-05-09T15:59:41.129094Z",
     "start_time": "2022-05-09T15:59:41.112281Z"
    }
   },
   "outputs": [],
   "source": [
    "# Creating a function to pivot the subsetted datasets so that each countries\n",
    "# values are in their own column\n",
    "\n",
    "def make_pivot(dataframe):\n",
    "    x = pd.pivot_table(data=dataframe, index=[\"Year\",\"Item\"], values=\"Value\", columns=[\"Area\",])\n",
    "    return x"
   ]
  },
  {
   "cell_type": "code",
   "execution_count": 101,
   "id": "1e4274a0",
   "metadata": {
    "ExecuteTime": {
     "end_time": "2022-05-09T15:59:41.162299Z",
     "start_time": "2022-05-09T15:59:41.130528Z"
    }
   },
   "outputs": [
    {
     "data": {
      "text/html": [
       "<div>\n",
       "<style scoped>\n",
       "    .dataframe tbody tr th:only-of-type {\n",
       "        vertical-align: middle;\n",
       "    }\n",
       "\n",
       "    .dataframe tbody tr th {\n",
       "        vertical-align: top;\n",
       "    }\n",
       "\n",
       "    .dataframe thead th {\n",
       "        text-align: right;\n",
       "    }\n",
       "</style>\n",
       "<table border=\"1\" class=\"dataframe\">\n",
       "  <thead>\n",
       "    <tr style=\"text-align: right;\">\n",
       "      <th></th>\n",
       "      <th>Area</th>\n",
       "      <th>China</th>\n",
       "      <th>France</th>\n",
       "      <th>Germany</th>\n",
       "      <th>Ireland</th>\n",
       "      <th>Italy</th>\n",
       "      <th>Netherlands</th>\n",
       "      <th>United States of America</th>\n",
       "    </tr>\n",
       "    <tr>\n",
       "      <th>Year</th>\n",
       "      <th>Item</th>\n",
       "      <th></th>\n",
       "      <th></th>\n",
       "      <th></th>\n",
       "      <th></th>\n",
       "      <th></th>\n",
       "      <th></th>\n",
       "      <th></th>\n",
       "    </tr>\n",
       "  </thead>\n",
       "  <tbody>\n",
       "    <tr>\n",
       "      <th rowspan=\"4\" valign=\"top\">1973</th>\n",
       "      <th>Cattle</th>\n",
       "      <td>1987666.0</td>\n",
       "      <td>6725000.0</td>\n",
       "      <td>6467844.0</td>\n",
       "      <td>869900.0</td>\n",
       "      <td>4917800.0</td>\n",
       "      <td>1667141.0</td>\n",
       "      <td>36402000.0</td>\n",
       "    </tr>\n",
       "    <tr>\n",
       "      <th>Chicken</th>\n",
       "      <td>747639.0</td>\n",
       "      <td>429658.0</td>\n",
       "      <td>351731.0</td>\n",
       "      <td>24300.0</td>\n",
       "      <td>493000.0</td>\n",
       "      <td>282500.0</td>\n",
       "      <td>3252090.0</td>\n",
       "    </tr>\n",
       "    <tr>\n",
       "      <th>Pig</th>\n",
       "      <td>175836294.0</td>\n",
       "      <td>17352000.0</td>\n",
       "      <td>40791840.0</td>\n",
       "      <td>2111000.0</td>\n",
       "      <td>7245000.0</td>\n",
       "      <td>9695142.0</td>\n",
       "      <td>77890000.0</td>\n",
       "    </tr>\n",
       "    <tr>\n",
       "      <th>Sheep</th>\n",
       "      <td>14100025.0</td>\n",
       "      <td>6660000.0</td>\n",
       "      <td>1029000.0</td>\n",
       "      <td>1690000.0</td>\n",
       "      <td>5709000.0</td>\n",
       "      <td>388012.0</td>\n",
       "      <td>9799000.0</td>\n",
       "    </tr>\n",
       "    <tr>\n",
       "      <th>1974</th>\n",
       "      <th>Cattle</th>\n",
       "      <td>2070484.0</td>\n",
       "      <td>8164000.0</td>\n",
       "      <td>7130642.0</td>\n",
       "      <td>1358000.0</td>\n",
       "      <td>4969751.0</td>\n",
       "      <td>2033582.0</td>\n",
       "      <td>40499008.0</td>\n",
       "    </tr>\n",
       "  </tbody>\n",
       "</table>\n",
       "</div>"
      ],
      "text/plain": [
       "Area                China      France     Germany    Ireland      Italy  \\\n",
       "Year Item                                                                 \n",
       "1973 Cattle     1987666.0   6725000.0   6467844.0   869900.0  4917800.0   \n",
       "     Chicken     747639.0    429658.0    351731.0    24300.0   493000.0   \n",
       "     Pig      175836294.0  17352000.0  40791840.0  2111000.0  7245000.0   \n",
       "     Sheep     14100025.0   6660000.0   1029000.0  1690000.0  5709000.0   \n",
       "1974 Cattle     2070484.0   8164000.0   7130642.0  1358000.0  4969751.0   \n",
       "\n",
       "Area          Netherlands  United States of America  \n",
       "Year Item                                            \n",
       "1973 Cattle     1667141.0                36402000.0  \n",
       "     Chicken     282500.0                 3252090.0  \n",
       "     Pig        9695142.0                77890000.0  \n",
       "     Sheep       388012.0                 9799000.0  \n",
       "1974 Cattle     2033582.0                40499008.0  "
      ]
     },
     "execution_count": 101,
     "metadata": {},
     "output_type": "execute_result"
    }
   ],
   "source": [
    "# Placing each countries value inside a column\n",
    "\n",
    "slaughter_stats = make_pivot(slaughter_subset)\n",
    "meat_stats = make_pivot(meat_subset)\n",
    "livestock_stats = make_pivot(livestock_subset)\n",
    "\n",
    "# Checking the column order\n",
    "slaughter_stats.head()"
   ]
  },
  {
   "cell_type": "markdown",
   "id": "a6285bc6",
   "metadata": {},
   "source": [
    "### Re-ordering the columns"
   ]
  },
  {
   "cell_type": "code",
   "execution_count": 102,
   "id": "4b24c290",
   "metadata": {
    "ExecuteTime": {
     "end_time": "2022-05-09T15:59:41.177778Z",
     "start_time": "2022-05-09T15:59:41.162770Z"
    }
   },
   "outputs": [
    {
     "data": {
      "text/html": [
       "<div>\n",
       "<style scoped>\n",
       "    .dataframe tbody tr th:only-of-type {\n",
       "        vertical-align: middle;\n",
       "    }\n",
       "\n",
       "    .dataframe tbody tr th {\n",
       "        vertical-align: top;\n",
       "    }\n",
       "\n",
       "    .dataframe thead th {\n",
       "        text-align: right;\n",
       "    }\n",
       "</style>\n",
       "<table border=\"1\" class=\"dataframe\">\n",
       "  <thead>\n",
       "    <tr style=\"text-align: right;\">\n",
       "      <th></th>\n",
       "      <th>Area</th>\n",
       "      <th>Ireland</th>\n",
       "      <th>France</th>\n",
       "      <th>Germany</th>\n",
       "      <th>Italy</th>\n",
       "      <th>Netherlands</th>\n",
       "      <th>China</th>\n",
       "      <th>United States of America</th>\n",
       "    </tr>\n",
       "    <tr>\n",
       "      <th>Year</th>\n",
       "      <th>Item</th>\n",
       "      <th></th>\n",
       "      <th></th>\n",
       "      <th></th>\n",
       "      <th></th>\n",
       "      <th></th>\n",
       "      <th></th>\n",
       "      <th></th>\n",
       "    </tr>\n",
       "  </thead>\n",
       "  <tbody>\n",
       "    <tr>\n",
       "      <th rowspan=\"4\" valign=\"top\">1973</th>\n",
       "      <th>Cattle</th>\n",
       "      <td>869900.0</td>\n",
       "      <td>6725000.0</td>\n",
       "      <td>6467844.0</td>\n",
       "      <td>4917800.0</td>\n",
       "      <td>1667141.0</td>\n",
       "      <td>1987666.0</td>\n",
       "      <td>36402000.0</td>\n",
       "    </tr>\n",
       "    <tr>\n",
       "      <th>Chicken</th>\n",
       "      <td>24300.0</td>\n",
       "      <td>429658.0</td>\n",
       "      <td>351731.0</td>\n",
       "      <td>493000.0</td>\n",
       "      <td>282500.0</td>\n",
       "      <td>747639.0</td>\n",
       "      <td>3252090.0</td>\n",
       "    </tr>\n",
       "    <tr>\n",
       "      <th>Pig</th>\n",
       "      <td>2111000.0</td>\n",
       "      <td>17352000.0</td>\n",
       "      <td>40791840.0</td>\n",
       "      <td>7245000.0</td>\n",
       "      <td>9695142.0</td>\n",
       "      <td>175836294.0</td>\n",
       "      <td>77890000.0</td>\n",
       "    </tr>\n",
       "    <tr>\n",
       "      <th>Sheep</th>\n",
       "      <td>1690000.0</td>\n",
       "      <td>6660000.0</td>\n",
       "      <td>1029000.0</td>\n",
       "      <td>5709000.0</td>\n",
       "      <td>388012.0</td>\n",
       "      <td>14100025.0</td>\n",
       "      <td>9799000.0</td>\n",
       "    </tr>\n",
       "    <tr>\n",
       "      <th>1974</th>\n",
       "      <th>Cattle</th>\n",
       "      <td>1358000.0</td>\n",
       "      <td>8164000.0</td>\n",
       "      <td>7130642.0</td>\n",
       "      <td>4969751.0</td>\n",
       "      <td>2033582.0</td>\n",
       "      <td>2070484.0</td>\n",
       "      <td>40499008.0</td>\n",
       "    </tr>\n",
       "  </tbody>\n",
       "</table>\n",
       "</div>"
      ],
      "text/plain": [
       "Area            Ireland      France     Germany      Italy  Netherlands  \\\n",
       "Year Item                                                                 \n",
       "1973 Cattle    869900.0   6725000.0   6467844.0  4917800.0    1667141.0   \n",
       "     Chicken    24300.0    429658.0    351731.0   493000.0     282500.0   \n",
       "     Pig      2111000.0  17352000.0  40791840.0  7245000.0    9695142.0   \n",
       "     Sheep    1690000.0   6660000.0   1029000.0  5709000.0     388012.0   \n",
       "1974 Cattle   1358000.0   8164000.0   7130642.0  4969751.0    2033582.0   \n",
       "\n",
       "Area                China  United States of America  \n",
       "Year Item                                            \n",
       "1973 Cattle     1987666.0                36402000.0  \n",
       "     Chicken     747639.0                 3252090.0  \n",
       "     Pig      175836294.0                77890000.0  \n",
       "     Sheep     14100025.0                 9799000.0  \n",
       "1974 Cattle     2070484.0                40499008.0  "
      ]
     },
     "execution_count": 102,
     "metadata": {},
     "output_type": "execute_result"
    }
   ],
   "source": [
    "# reordering the new columns\n",
    "\n",
    "columns =[\"Ireland\", \"France\", \"Germany\", \"Italy\", \"Netherlands\", \"China\", \"United States of America\"]\n",
    "\n",
    "slaughter_stats = slaughter_stats.reindex(columns=columns)\n",
    "meat_stats = meat_stats.reindex(columns=columns)\n",
    "livestock_stats = livestock_stats.reindex(columns=columns)\n",
    "\n",
    "# Testing the re-order worked\n",
    "slaughter_stats.head()"
   ]
  },
  {
   "cell_type": "markdown",
   "id": "1bbb8877",
   "metadata": {},
   "source": [
    "### Dealing with NAN's created by pivoting"
   ]
  },
  {
   "cell_type": "markdown",
   "id": "19e5abaa",
   "metadata": {},
   "source": [
    "Testing the new dataframes for null values created by the pivot table function"
   ]
  },
  {
   "cell_type": "code",
   "execution_count": 103,
   "id": "cf37ab2e",
   "metadata": {
    "ExecuteTime": {
     "end_time": "2022-05-09T15:59:41.195516Z",
     "start_time": "2022-05-09T15:59:41.178779Z"
    },
    "scrolled": true
   },
   "outputs": [
    {
     "name": "stdout",
     "output_type": "stream",
     "text": [
      "The percentage of missing values is:\n",
      "Area\n",
      "Ireland                     0.0\n",
      "France                      0.0\n",
      "Germany                     0.0\n",
      "Italy                       0.0\n",
      "Netherlands                 0.0\n",
      "China                       0.0\n",
      "United States of America    0.0\n",
      "dtype: float64\n"
     ]
    }
   ],
   "source": [
    "calc_percent_missing(slaughter_stats.isnull().sum(), len(slaughter_stats))"
   ]
  },
  {
   "cell_type": "code",
   "execution_count": 104,
   "id": "b4833a60",
   "metadata": {
    "ExecuteTime": {
     "end_time": "2022-05-09T15:59:41.210799Z",
     "start_time": "2022-05-09T15:59:41.196791Z"
    }
   },
   "outputs": [
    {
     "name": "stdout",
     "output_type": "stream",
     "text": [
      "The percentage of missing values is:\n",
      "Area\n",
      "Ireland                     0.0\n",
      "France                      0.0\n",
      "Germany                     0.0\n",
      "Italy                       0.0\n",
      "Netherlands                 0.0\n",
      "China                       0.0\n",
      "United States of America    0.0\n",
      "dtype: float64\n"
     ]
    }
   ],
   "source": [
    "calc_percent_missing(meat_stats.isnull().sum(), len(meat_stats))"
   ]
  },
  {
   "cell_type": "markdown",
   "id": "eef2e315",
   "metadata": {},
   "source": [
    "The pivot_table has not introduced any null values.\n"
   ]
  },
  {
   "cell_type": "markdown",
   "id": "056d1e1d",
   "metadata": {},
   "source": [
    "## Kruskal-Wallis Test"
   ]
  },
  {
   "cell_type": "markdown",
   "id": "9982feb2",
   "metadata": {},
   "source": [
    "In order to compare Ireland to the other countries listed in the four datasets a Kruskal-Wallis (KW) test was selected for the following reasons:\n",
    "\n",
    "- The four datasets have non-normal distributions\n",
    "- Each of the datasets has more than two groups.\n",
    "- The value parameter is ordinal\n",
    "- The scale is the same in all the samples\n",
    "- The samples (countries) are independent of each other\n",
    "- The unit of measurement of all countries in the datasets are the same\n",
    "- We do not need to assume homogeneity between the variables, so the level of variance does not need to be tested."
   ]
  },
  {
   "cell_type": "markdown",
   "id": "084d50b1",
   "metadata": {},
   "source": [
    "The Null Hypothesis for the Kruskall-Wall test is:\n",
    "\n",
    "<b> H0: The population median of all the groups tested is equal </b>"
   ]
  },
  {
   "cell_type": "code",
   "execution_count": 105,
   "id": "7aa1e6b4",
   "metadata": {
    "ExecuteTime": {
     "end_time": "2022-05-09T15:59:41.228576Z",
     "start_time": "2022-05-09T15:59:41.211800Z"
    }
   },
   "outputs": [],
   "source": [
    "# Creation of a function to perform a Kruskal Wallis test comparing all countries\n",
    "# in the dataframe\n",
    "\n",
    "def krusk(df):\n",
    "    '''This function takes a dataframe as input, and then performs a Kruskall-\n",
    "    Wallis test between Ireland and six other countries and prints the result'''\n",
    "    result = stats.kruskal(df.Ireland, df.France, df.Germany, df.Italy, df.Netherlands,\n",
    "                  df.China, df['United States of America'])\n",
    "    if result.pvalue <= 0.05:\n",
    "        print(f\"The p-value is {result.pvalue}, the null hypothesis is rejected\")\n",
    "        print(result)\n",
    "    else:\n",
    "        print(f\"The p-value is {result.pvalue}, the null hypothesis is accepted\")\n",
    "        print(result)"
   ]
  },
  {
   "cell_type": "markdown",
   "id": "2d1b47ef",
   "metadata": {},
   "source": [
    "### Test 1: Comparing the total slaughter of 'cattle, pigs, chickens and sheep' between all countries"
   ]
  },
  {
   "cell_type": "code",
   "execution_count": 106,
   "id": "ea184373",
   "metadata": {
    "ExecuteTime": {
     "end_time": "2022-05-09T15:59:41.244047Z",
     "start_time": "2022-05-09T15:59:41.229039Z"
    }
   },
   "outputs": [
    {
     "name": "stdout",
     "output_type": "stream",
     "text": [
      "The p-value is 4.934261552794357e-96, the null hypothesis is rejected\n",
      "KruskalResult(statistic=459.28111693570287, pvalue=4.934261552794357e-96)\n"
     ]
    }
   ],
   "source": [
    "krusk(slaughter_stats)"
   ]
  },
  {
   "cell_type": "markdown",
   "id": "597d6541",
   "metadata": {},
   "source": [
    "The null hypothesis was rejected by the KW test so the median slaughter values for 'Cattle, chickens, pigs and sheep' of these countries is not equal."
   ]
  },
  {
   "cell_type": "markdown",
   "id": "05480d5d",
   "metadata": {},
   "source": [
    "### Test 2 Comparing the total meat production of 'cattle, pigs, chickens and sheep' between all countries"
   ]
  },
  {
   "cell_type": "code",
   "execution_count": 107,
   "id": "4731ccff",
   "metadata": {
    "ExecuteTime": {
     "end_time": "2022-05-09T15:59:41.261770Z",
     "start_time": "2022-05-09T15:59:41.245048Z"
    }
   },
   "outputs": [
    {
     "name": "stdout",
     "output_type": "stream",
     "text": [
      "The p-value is 1.7338116519998716e-100, the null hypothesis is rejected\n",
      "KruskalResult(statistic=479.96904501046214, pvalue=1.7338116519998716e-100)\n"
     ]
    }
   ],
   "source": [
    "krusk(meat_stats)"
   ]
  },
  {
   "cell_type": "markdown",
   "id": "4aaee328",
   "metadata": {},
   "source": [
    "The null hypothesis was rejected by the KW test so the median of total meat production of 'cattle, pigs, chickens and sheep' between these countries is not equal."
   ]
  },
  {
   "cell_type": "markdown",
   "id": "b596cbfb",
   "metadata": {},
   "source": [
    "## U-Mann Whitmann test"
   ]
  },
  {
   "cell_type": "markdown",
   "id": "9345b832",
   "metadata": {},
   "source": [
    "While the Kruskal-Wallis Test was appropriate to compare all countries totals for animals slaughtered and meat production, it only tells us if the median of the group(s) tested are equal or not. It does not allow us to compare two countries on a case by case basis.\n",
    "\n",
    "Therefore, if we wanted to compare Ireland to the other countries individually, a U-Mann Whitney test can be used. In addition, as there are four animal types in both datasets (\"Cattle, chickens, pigs and sheep), we can also compare by each animal between Ireland and another country. This will give a more detailed breakdown of how Ireland compares to other countries on the production and slaughter of individual animal species."
   ]
  },
  {
   "cell_type": "markdown",
   "id": "ac88e8cb",
   "metadata": {},
   "source": [
    "In order to compare Ireland to the other countries listed in the four datasets a U-Mann Whitman (Mann Whitney) test was selected for the following reasons:\n",
    "\n",
    "- The four datasets have non-normal distributions\n",
    "- The value parameter is ordinal\n",
    "- The samples (countries) are independent of each other\n",
    "- The unit of measurement of all countries in the datasets are the same\n",
    "- We do not need to assume homogeneity between the variables, so the level of variance does not need to be tested.\n",
    "- Here we are comparing Ireland versus one other country (2 groups)"
   ]
  },
  {
   "cell_type": "markdown",
   "id": "b101440a",
   "metadata": {},
   "source": [
    "The Null Hypothesis for the Mann Witney test is:\n",
    "\n",
    "<b> H0: The probability is 50% that a randomly drawn member of the first population will exceed a member of the second population </b>"
   ]
  },
  {
   "cell_type": "code",
   "execution_count": 108,
   "id": "ed361d6f",
   "metadata": {
    "ExecuteTime": {
     "end_time": "2022-05-09T15:59:41.277063Z",
     "start_time": "2022-05-09T15:59:41.263058Z"
    }
   },
   "outputs": [],
   "source": [
    "from scipy.stats import mannwhitneyu\n",
    "\n",
    "# creation of a function to perform a mann whitney test on Ireland versus\n",
    "# the other countries in the dataframe and print the result\n",
    "\n",
    "def manw(df):\n",
    "    '''This function takes a dataframe as input, loops through all the countries\n",
    "    in the dfcolumns and does a mann whitney versus Irelands data'''\n",
    "    for country in df.iloc[:,:]:\n",
    "        if country != \"Ireland\":\n",
    "            result = mannwhitneyu(df.Ireland, df[country])\n",
    "            if result.pvalue <= 0.05:\n",
    "                print(f\"The p-value for Ireland vs {country} is {result.pvalue}, the null hypothesis is rejected\")\n",
    "                print(f\"round{result}\\n\")\n",
    "            else:\n",
    "                print(f\"The p-value for Ireland vs {country} is {result.pvalue}, the null hypothesis is accepted\")\n",
    "                print(f\"{result}\\n\")"
   ]
  },
  {
   "cell_type": "markdown",
   "id": "d7540ee2",
   "metadata": {},
   "source": [
    "### Slaughter data"
   ]
  },
  {
   "cell_type": "markdown",
   "id": "f762ebf2",
   "metadata": {},
   "source": [
    "#### Tests 3 to 8: Comparison of total animals slaughtered between Ireland and other countries"
   ]
  },
  {
   "cell_type": "code",
   "execution_count": 109,
   "id": "5ad601d7",
   "metadata": {
    "ExecuteTime": {
     "end_time": "2022-05-09T15:59:41.295790Z",
     "start_time": "2022-05-09T15:59:41.278064Z"
    }
   },
   "outputs": [
    {
     "name": "stdout",
     "output_type": "stream",
     "text": [
      "The p-value for Ireland vs France is 4.0920354213501657e-26, the null hypothesis is rejected\n",
      "roundMannwhitneyuResult(statistic=6936.0, pvalue=4.0920354213501657e-26)\n",
      "\n",
      "The p-value for Ireland vs Germany is 1.7915338692715844e-10, the null hypothesis is rejected\n",
      "roundMannwhitneyuResult(statistic=11495.0, pvalue=1.7915338692715844e-10)\n",
      "\n",
      "The p-value for Ireland vs Italy is 2.130273414931085e-22, the null hypothesis is rejected\n",
      "roundMannwhitneyuResult(statistic=7844.0, pvalue=2.130273414931085e-22)\n",
      "\n",
      "The p-value for Ireland vs Netherlands is 0.35951070953366304, the null hypothesis is accepted\n",
      "MannwhitneyuResult(statistic=17435.0, pvalue=0.35951070953366304)\n",
      "\n",
      "The p-value for Ireland vs China is 2.3541701458171394e-44, the null hypothesis is rejected\n",
      "roundMannwhitneyuResult(statistic=3238.0, pvalue=2.3541701458171394e-44)\n",
      "\n",
      "The p-value for Ireland vs United States of America is 1.1104926567790573e-55, the null hypothesis is rejected\n",
      "roundMannwhitneyuResult(statistic=1336.0, pvalue=1.1104926567790573e-55)\n",
      "\n"
     ]
    }
   ],
   "source": [
    "manw(slaughter_stats)"
   ]
  },
  {
   "cell_type": "markdown",
   "id": "915d45ce",
   "metadata": {},
   "source": [
    "<b> In all but one cases the null hypothesis was rejected. As the the index was done on year, with the exception of the Netherlands, the probability that a randomly drawn year of Ireland's Cattle slaughter numbers will exceed those of the other countries tested is not 50%. \n",
    "\n",
    "In the case of the Netherlands, the null hypothesis was accepted therefore the probability that a random sample of Irelands total animals slaughtered data will be higher than that of a random sample from the NL is 50%.\n",
    "    \n",
    "</b>"
   ]
  },
  {
   "cell_type": "markdown",
   "id": "038f7ec5",
   "metadata": {},
   "source": [
    "#### Tests 9 to 14: Comparison of total cattle slaughtered between Ireland and other countries"
   ]
  },
  {
   "cell_type": "code",
   "execution_count": 110,
   "id": "eea8bc0d",
   "metadata": {
    "ExecuteTime": {
     "end_time": "2022-05-09T15:59:41.311197Z",
     "start_time": "2022-05-09T15:59:41.296189Z"
    }
   },
   "outputs": [],
   "source": [
    "# Creating a function to perform an Mann Whitney on Ireland versus other countries \n",
    "# data for specific animals\n",
    "\n",
    "def animal_manw(dataframe, animal):\n",
    "    '''This function takes a dataframe and animal name as input and then\n",
    "    filters out the specific animal into a new dataframe for all countries.\n",
    "    The function then passes this new dataframe into my Mann Whitney function'''\n",
    "    columns =[\"Ireland\", \"France\", \"Germany\", \"Italy\", \"Netherlands\", \"China\", \"United States of America\"]\n",
    "    '''This function takes a dataframe and animal name as input and then\n",
    "    filters out the specific animal into a new dataframe for all countires.\n",
    "    The function then pivots this new dataframe so that it can be analysed \n",
    "    via Mann Whitney'''\n",
    "    df = dataframe.loc[(dataframe['Item'] == animal)]\n",
    "    df = make_pivot(df)\n",
    "    df = df.reindex(columns=columns)\n",
    "    manw(df)"
   ]
  },
  {
   "cell_type": "code",
   "execution_count": 111,
   "id": "fd0f4050",
   "metadata": {
    "ExecuteTime": {
     "end_time": "2022-05-09T15:59:41.330013Z",
     "start_time": "2022-05-09T15:59:41.312199Z"
    }
   },
   "outputs": [
    {
     "name": "stdout",
     "output_type": "stream",
     "text": [
      "The p-value for Ireland vs France is 3.234612555475504e-17, the null hypothesis is rejected\n",
      "roundMannwhitneyuResult(statistic=0.0, pvalue=3.234612555475504e-17)\n",
      "\n",
      "The p-value for Ireland vs Germany is 3.234612555475504e-17, the null hypothesis is rejected\n",
      "roundMannwhitneyuResult(statistic=0.0, pvalue=3.234612555475504e-17)\n",
      "\n",
      "The p-value for Ireland vs Italy is 3.234612555475504e-17, the null hypothesis is rejected\n",
      "roundMannwhitneyuResult(statistic=0.0, pvalue=3.234612555475504e-17)\n",
      "\n",
      "The p-value for Ireland vs Netherlands is 5.829207045216664e-15, the null hypothesis is rejected\n",
      "roundMannwhitneyuResult(statistic=86.0, pvalue=5.829207045216664e-15)\n",
      "\n",
      "The p-value for Ireland vs China is 3.902798734084917e-17, the null hypothesis is rejected\n",
      "roundMannwhitneyuResult(statistic=3.0, pvalue=3.902798734084917e-17)\n",
      "\n",
      "The p-value for Ireland vs United States of America is 3.234612555475504e-17, the null hypothesis is rejected\n",
      "roundMannwhitneyuResult(statistic=0.0, pvalue=3.234612555475504e-17)\n",
      "\n"
     ]
    }
   ],
   "source": [
    "animal_manw(slaughter_subset, 'Cattle')"
   ]
  },
  {
   "cell_type": "markdown",
   "id": "3308dfda",
   "metadata": {},
   "source": [
    "<b> In all cases for cattle the null hypothesis was rejected. As the the index was done on year, the probability that a randomly drawn year of Ireland's Cattle slaughter numbers will exceed those of the other countries tested is not 50%. </b>"
   ]
  },
  {
   "cell_type": "markdown",
   "id": "b6ce533e",
   "metadata": {},
   "source": [
    "#### Tests 15 to 20: Comparison of total chicken slaughtered between Ireland and other countries"
   ]
  },
  {
   "cell_type": "code",
   "execution_count": 112,
   "id": "ebaa4a7c",
   "metadata": {
    "ExecuteTime": {
     "end_time": "2022-05-09T15:59:41.345347Z",
     "start_time": "2022-05-09T15:59:41.330338Z"
    }
   },
   "outputs": [
    {
     "name": "stdout",
     "output_type": "stream",
     "text": [
      "The p-value for Ireland vs France is 3.226705239911368e-17, the null hypothesis is rejected\n",
      "roundMannwhitneyuResult(statistic=0.0, pvalue=3.226705239911368e-17)\n",
      "\n",
      "The p-value for Ireland vs Germany is 3.222758435253053e-17, the null hypothesis is rejected\n",
      "roundMannwhitneyuResult(statistic=0.0, pvalue=3.222758435253053e-17)\n",
      "\n",
      "The p-value for Ireland vs Italy is 3.225125970274858e-17, the null hypothesis is rejected\n",
      "roundMannwhitneyuResult(statistic=0.0, pvalue=3.225125970274858e-17)\n",
      "\n",
      "The p-value for Ireland vs Netherlands is 3.223547431055488e-17, the null hypothesis is rejected\n",
      "roundMannwhitneyuResult(statistic=0.0, pvalue=3.223547431055488e-17)\n",
      "\n",
      "The p-value for Ireland vs China is 3.226705239911368e-17, the null hypothesis is rejected\n",
      "roundMannwhitneyuResult(statistic=0.0, pvalue=3.226705239911368e-17)\n",
      "\n",
      "The p-value for Ireland vs United States of America is 3.226705239911368e-17, the null hypothesis is rejected\n",
      "roundMannwhitneyuResult(statistic=0.0, pvalue=3.226705239911368e-17)\n",
      "\n"
     ]
    }
   ],
   "source": [
    "animal_manw(slaughter_subset, 'Chicken')"
   ]
  },
  {
   "cell_type": "markdown",
   "id": "b642c921",
   "metadata": {},
   "source": [
    "<b> In all cases for chickens the null hypothesis was rejected. As the the index was done on year, the probability that a randomly drawn year of Ireland's chickens slaughter numbers will exceed those of the other countries tested is not 50%. </b>"
   ]
  },
  {
   "cell_type": "markdown",
   "id": "a6ce9b82",
   "metadata": {},
   "source": [
    "#### Tests 19 to 24: Comparison of total Pig slaughtered between Ireland and other countries"
   ]
  },
  {
   "cell_type": "code",
   "execution_count": 113,
   "id": "a4022026",
   "metadata": {
    "ExecuteTime": {
     "end_time": "2022-05-09T15:59:41.363068Z",
     "start_time": "2022-05-09T15:59:41.346351Z"
    }
   },
   "outputs": [
    {
     "name": "stdout",
     "output_type": "stream",
     "text": [
      "The p-value for Ireland vs France is 3.234612555475504e-17, the null hypothesis is rejected\n",
      "roundMannwhitneyuResult(statistic=0.0, pvalue=3.234612555475504e-17)\n",
      "\n",
      "The p-value for Ireland vs Germany is 3.234612555475504e-17, the null hypothesis is rejected\n",
      "roundMannwhitneyuResult(statistic=0.0, pvalue=3.234612555475504e-17)\n",
      "\n",
      "The p-value for Ireland vs Italy is 3.234612555475504e-17, the null hypothesis is rejected\n",
      "roundMannwhitneyuResult(statistic=0.0, pvalue=3.234612555475504e-17)\n",
      "\n",
      "The p-value for Ireland vs Netherlands is 3.234612555475504e-17, the null hypothesis is rejected\n",
      "roundMannwhitneyuResult(statistic=0.0, pvalue=3.234612555475504e-17)\n",
      "\n",
      "The p-value for Ireland vs China is 3.234612555475504e-17, the null hypothesis is rejected\n",
      "roundMannwhitneyuResult(statistic=0.0, pvalue=3.234612555475504e-17)\n",
      "\n",
      "The p-value for Ireland vs United States of America is 3.234612555475504e-17, the null hypothesis is rejected\n",
      "roundMannwhitneyuResult(statistic=0.0, pvalue=3.234612555475504e-17)\n",
      "\n"
     ]
    }
   ],
   "source": [
    "animal_manw(slaughter_subset, 'Pig')"
   ]
  },
  {
   "cell_type": "markdown",
   "id": "1b351e0c",
   "metadata": {},
   "source": [
    "<b> In all cases for Pigs the null hypothesis was rejected. As the the index was done on year, the probability that a randomly drawn year of Ireland's Pig slaughter numbers will exceed those of the other countries tested is not 50%. </b>"
   ]
  },
  {
   "cell_type": "markdown",
   "id": "0be1b5cc",
   "metadata": {},
   "source": [
    "#### Tests 27 to 32: Comparison of total sheep slaughtered between Ireland and other countries"
   ]
  },
  {
   "cell_type": "code",
   "execution_count": 114,
   "id": "5f089c81",
   "metadata": {
    "ExecuteTime": {
     "end_time": "2022-05-09T15:59:41.378463Z",
     "start_time": "2022-05-09T15:59:41.363454Z"
    }
   },
   "outputs": [
    {
     "name": "stdout",
     "output_type": "stream",
     "text": [
      "The p-value for Ireland vs France is 1.348267203098616e-16, the null hypothesis is rejected\n",
      "roundMannwhitneyuResult(statistic=23.0, pvalue=1.348267203098616e-16)\n",
      "\n",
      "The p-value for Ireland vs Germany is 6.044939195325733e-06, the null hypothesis is rejected\n",
      "roundMannwhitneyuResult(statistic=1770.0, pvalue=6.044939195325733e-06)\n",
      "\n",
      "The p-value for Ireland vs Italy is 4.974066752442029e-12, the null hypothesis is rejected\n",
      "roundMannwhitneyuResult(statistic=209.0, pvalue=4.974066752442029e-12)\n",
      "\n",
      "The p-value for Ireland vs Netherlands is 3.234612555475504e-17, the null hypothesis is rejected\n",
      "roundMannwhitneyuResult(statistic=2304.0, pvalue=3.234612555475504e-17)\n",
      "\n",
      "The p-value for Ireland vs China is 3.234612555475504e-17, the null hypothesis is rejected\n",
      "roundMannwhitneyuResult(statistic=0.0, pvalue=3.234612555475504e-17)\n",
      "\n",
      "The p-value for Ireland vs United States of America is 0.00010136227547832888, the null hypothesis is rejected\n",
      "roundMannwhitneyuResult(statistic=621.0, pvalue=0.00010136227547832888)\n",
      "\n"
     ]
    }
   ],
   "source": [
    "animal_manw(slaughter_subset, 'Sheep')"
   ]
  },
  {
   "cell_type": "markdown",
   "id": "f7454278",
   "metadata": {},
   "source": [
    "<b> In all cases for sheep the null hypothesis was rejected. As the the index was done on year, the probability that a randomly drawn year of Ireland's sheep slaughter numbers will exceed those of the other countries tested is not 50%. </b>"
   ]
  },
  {
   "cell_type": "markdown",
   "id": "d6103241",
   "metadata": {},
   "source": [
    "### Meat production data"
   ]
  },
  {
   "cell_type": "code",
   "execution_count": 115,
   "id": "1ce2818f",
   "metadata": {
    "ExecuteTime": {
     "end_time": "2022-05-09T15:59:41.394569Z",
     "start_time": "2022-05-09T15:59:41.379465Z"
    }
   },
   "outputs": [],
   "source": [
    "#### Tests 31 to 36 comparison of total meat production between Ireland and other countries"
   ]
  },
  {
   "cell_type": "code",
   "execution_count": 116,
   "id": "1e0a3243",
   "metadata": {
    "ExecuteTime": {
     "end_time": "2022-05-09T15:59:41.409907Z",
     "start_time": "2022-05-09T15:59:41.395821Z"
    }
   },
   "outputs": [
    {
     "name": "stdout",
     "output_type": "stream",
     "text": [
      "The p-value for Ireland vs France is 1.5814740925584637e-38, the null hypothesis is rejected\n",
      "roundMannwhitneyuResult(statistic=4315.0, pvalue=1.5814740925584637e-38)\n",
      "\n",
      "The p-value for Ireland vs Germany is 3.5940136864592823e-16, the null hypothesis is rejected\n",
      "roundMannwhitneyuResult(statistic=9566.5, pvalue=3.5940136864592823e-16)\n",
      "\n",
      "The p-value for Ireland vs Italy is 2.3683627477341344e-24, the null hypothesis is rejected\n",
      "roundMannwhitneyuResult(statistic=7357.5, pvalue=2.3683627477341344e-24)\n",
      "\n",
      "The p-value for Ireland vs Netherlands is 5.01321938781441e-10, the null hypothesis is rejected\n",
      "roundMannwhitneyuResult(statistic=11668.5, pvalue=5.01321938781441e-10)\n",
      "\n",
      "The p-value for Ireland vs China is 1.4565922933162351e-52, the null hypothesis is rejected\n",
      "roundMannwhitneyuResult(statistic=1838.0, pvalue=1.4565922933162351e-52)\n",
      "\n",
      "The p-value for Ireland vs United States of America is 1.58229659473187e-35, the null hypothesis is rejected\n",
      "roundMannwhitneyuResult(statistic=4902.5, pvalue=1.58229659473187e-35)\n",
      "\n"
     ]
    }
   ],
   "source": [
    "manw(meat_stats)"
   ]
  },
  {
   "cell_type": "markdown",
   "id": "debfe538",
   "metadata": {},
   "source": [
    "<b> In all cases the null hypothesis was rejected. As the the index was done on year, the probability that a randomly drawn year of Ireland's total meat production data will exceed those of the other countries tested is not 50%. </b>"
   ]
  },
  {
   "cell_type": "markdown",
   "id": "1714011b",
   "metadata": {},
   "source": [
    "#### Tests 37 to 42 comparison of beef production between Ireland and other countries"
   ]
  },
  {
   "cell_type": "code",
   "execution_count": 117,
   "id": "e3199834",
   "metadata": {
    "ExecuteTime": {
     "end_time": "2022-05-09T15:59:41.428603Z",
     "start_time": "2022-05-09T15:59:41.410928Z"
    }
   },
   "outputs": [
    {
     "name": "stdout",
     "output_type": "stream",
     "text": [
      "The p-value for Ireland vs France is 3.232238440262269e-17, the null hypothesis is rejected\n",
      "roundMannwhitneyuResult(statistic=0.0, pvalue=3.232238440262269e-17)\n",
      "\n",
      "The p-value for Ireland vs Germany is 3.233821000709514e-17, the null hypothesis is rejected\n",
      "roundMannwhitneyuResult(statistic=0.0, pvalue=3.233821000709514e-17)\n",
      "\n",
      "The p-value for Ireland vs Italy is 3.233821000709514e-17, the null hypothesis is rejected\n",
      "roundMannwhitneyuResult(statistic=0.0, pvalue=3.233821000709514e-17)\n",
      "\n",
      "The p-value for Ireland vs Netherlands is 0.004676759700057197, the null hypothesis is rejected\n",
      "roundMannwhitneyuResult(statistic=1538.5, pvalue=0.004676759700057197)\n",
      "\n",
      "The p-value for Ireland vs China is 0.0001538733087172085, the null hypothesis is rejected\n",
      "roundMannwhitneyuResult(statistic=635.0, pvalue=0.0001538733087172085)\n",
      "\n",
      "The p-value for Ireland vs United States of America is 3.233821000709514e-17, the null hypothesis is rejected\n",
      "roundMannwhitneyuResult(statistic=0.0, pvalue=3.233821000709514e-17)\n",
      "\n"
     ]
    }
   ],
   "source": [
    "animal_manw(meat_subset, 'Cattle')"
   ]
  },
  {
   "cell_type": "markdown",
   "id": "d86833cb",
   "metadata": {},
   "source": [
    "<b> In all cases for Cattle the null hypothesis was rejected. As the the index was done on year, the probability that a randomly drawn year of Ireland's beef production values will exceed those of the other countries tested is not 50%. </b>"
   ]
  },
  {
   "cell_type": "markdown",
   "id": "cf22232d",
   "metadata": {},
   "source": [
    "#### Tests 43 to 48 comparison of chicken production between Ireland and other countries"
   ]
  },
  {
   "cell_type": "code",
   "execution_count": 118,
   "id": "00398005",
   "metadata": {
    "ExecuteTime": {
     "end_time": "2022-05-09T15:59:41.443951Z",
     "start_time": "2022-05-09T15:59:41.428944Z"
    }
   },
   "outputs": [
    {
     "name": "stdout",
     "output_type": "stream",
     "text": [
      "The p-value for Ireland vs France is 3.225125970274858e-17, the null hypothesis is rejected\n",
      "roundMannwhitneyuResult(statistic=0.0, pvalue=3.225125970274858e-17)\n",
      "\n",
      "The p-value for Ireland vs Germany is 3.225125970274858e-17, the null hypothesis is rejected\n",
      "roundMannwhitneyuResult(statistic=0.0, pvalue=3.225125970274858e-17)\n",
      "\n",
      "The p-value for Ireland vs Italy is 3.225125970274858e-17, the null hypothesis is rejected\n",
      "roundMannwhitneyuResult(statistic=0.0, pvalue=3.225125970274858e-17)\n",
      "\n",
      "The p-value for Ireland vs Netherlands is 3.223547431055488e-17, the null hypothesis is rejected\n",
      "roundMannwhitneyuResult(statistic=0.0, pvalue=3.223547431055488e-17)\n",
      "\n",
      "The p-value for Ireland vs China is 3.225125970274858e-17, the null hypothesis is rejected\n",
      "roundMannwhitneyuResult(statistic=0.0, pvalue=3.225125970274858e-17)\n",
      "\n",
      "The p-value for Ireland vs United States of America is 3.225125970274858e-17, the null hypothesis is rejected\n",
      "roundMannwhitneyuResult(statistic=0.0, pvalue=3.225125970274858e-17)\n",
      "\n"
     ]
    }
   ],
   "source": [
    "animal_manw(meat_subset, 'Chicken')"
   ]
  },
  {
   "cell_type": "markdown",
   "id": "b8dc3b8e",
   "metadata": {},
   "source": [
    "<b> In all cases for chicken the null hypothesis was rejected. As the the index was done on year, the probability that a randomly drawn year of Ireland's poultry production values will exceed those of the other countries tested is not 50%. </b>"
   ]
  },
  {
   "cell_type": "markdown",
   "id": "50fb820c",
   "metadata": {},
   "source": [
    "#### Tests 49 to 54 comparison of pork production between Ireland and other countries"
   ]
  },
  {
   "cell_type": "code",
   "execution_count": 119,
   "id": "901fd683",
   "metadata": {
    "ExecuteTime": {
     "end_time": "2022-05-09T15:59:41.461686Z",
     "start_time": "2022-05-09T15:59:41.444955Z"
    }
   },
   "outputs": [
    {
     "name": "stdout",
     "output_type": "stream",
     "text": [
      "The p-value for Ireland vs France is 3.233821000709514e-17, the null hypothesis is rejected\n",
      "roundMannwhitneyuResult(statistic=0.0, pvalue=3.233821000709514e-17)\n",
      "\n",
      "The p-value for Ireland vs Germany is 3.234612555475504e-17, the null hypothesis is rejected\n",
      "roundMannwhitneyuResult(statistic=0.0, pvalue=3.234612555475504e-17)\n",
      "\n",
      "The p-value for Ireland vs Italy is 3.234612555475504e-17, the null hypothesis is rejected\n",
      "roundMannwhitneyuResult(statistic=0.0, pvalue=3.234612555475504e-17)\n",
      "\n",
      "The p-value for Ireland vs Netherlands is 3.234612555475504e-17, the null hypothesis is rejected\n",
      "roundMannwhitneyuResult(statistic=0.0, pvalue=3.234612555475504e-17)\n",
      "\n",
      "The p-value for Ireland vs China is 3.234612555475504e-17, the null hypothesis is rejected\n",
      "roundMannwhitneyuResult(statistic=0.0, pvalue=3.234612555475504e-17)\n",
      "\n",
      "The p-value for Ireland vs United States of America is 3.234612555475504e-17, the null hypothesis is rejected\n",
      "roundMannwhitneyuResult(statistic=0.0, pvalue=3.234612555475504e-17)\n",
      "\n"
     ]
    }
   ],
   "source": [
    "animal_manw(meat_subset, 'Pig')"
   ]
  },
  {
   "cell_type": "markdown",
   "id": "9ab23d90",
   "metadata": {},
   "source": [
    "<b> In all cases for Pigs the null hypothesis was rejected. As the the index was done on year, the probability that a randomly drawn year of Ireland's pork production values will exceed those of the other countries tested is not 50%. </b>"
   ]
  },
  {
   "cell_type": "markdown",
   "id": "f8e9b52c",
   "metadata": {},
   "source": [
    "#### Tests 55 to 60 comparison of mutton production between Ireland and other countries"
   ]
  },
  {
   "cell_type": "code",
   "execution_count": 120,
   "id": "2f6101f6",
   "metadata": {
    "ExecuteTime": {
     "end_time": "2022-05-09T15:59:41.477076Z",
     "start_time": "2022-05-09T15:59:41.462068Z"
    }
   },
   "outputs": [
    {
     "name": "stdout",
     "output_type": "stream",
     "text": [
      "The p-value for Ireland vs France is 2.0693785817290193e-16, the null hypothesis is rejected\n",
      "roundMannwhitneyuResult(statistic=30.0, pvalue=2.0693785817290193e-16)\n",
      "\n",
      "The p-value for Ireland vs Germany is 1.1602847877212211e-09, the null hypothesis is rejected\n",
      "roundMannwhitneyuResult(statistic=1983.0, pvalue=1.1602847877212211e-09)\n",
      "\n",
      "The p-value for Ireland vs Italy is 0.4955685684687611, the null hypothesis is accepted\n",
      "MannwhitneyuResult(statistic=1245.5, pvalue=0.4955685684687611)\n",
      "\n",
      "The p-value for Ireland vs Netherlands is 3.233029628985044e-17, the null hypothesis is rejected\n",
      "roundMannwhitneyuResult(statistic=2304.0, pvalue=3.233029628985044e-17)\n",
      "\n",
      "The p-value for Ireland vs China is 3.233029628985044e-17, the null hypothesis is rejected\n",
      "roundMannwhitneyuResult(statistic=0.0, pvalue=3.233029628985044e-17)\n",
      "\n",
      "The p-value for Ireland vs United States of America is 6.110445162237452e-12, the null hypothesis is rejected\n",
      "roundMannwhitneyuResult(statistic=213.0, pvalue=6.110445162237452e-12)\n",
      "\n"
     ]
    }
   ],
   "source": [
    "animal_manw(meat_subset, 'Sheep')"
   ]
  },
  {
   "cell_type": "markdown",
   "id": "48e8b3a1",
   "metadata": {},
   "source": [
    "<b> In most cases for Sheep the null hypothesis was rejected, the exception was for Ireland versus Italy where the null hypothesis was accepted. Therefore, the probability that a randomly drawn year of Ireland's mutton production values will exceed that of Italy's mutton production is 50%. For the remaining countries, the null hypothesis was rejected therefore the probability that a randomly drawn year of Ireland's mutton production values will exceed those of the other countries tested is not 50%. </b>"
   ]
  },
  {
   "cell_type": "markdown",
   "id": "fb68b08a",
   "metadata": {},
   "source": [
    "# Sentiment Analysis"
   ]
  },
  {
   "cell_type": "code",
   "execution_count": null,
   "id": "6b34731c",
   "metadata": {},
   "outputs": [],
   "source": []
  },
  {
   "cell_type": "markdown",
   "id": "77a38319",
   "metadata": {},
   "source": [
    "# Appendix"
   ]
  },
  {
   "cell_type": "markdown",
   "id": "34595761",
   "metadata": {},
   "source": [
    "## Variance Script if needed"
   ]
  },
  {
   "cell_type": "code",
   "execution_count": 121,
   "id": "0f61be7e",
   "metadata": {
    "ExecuteTime": {
     "end_time": "2022-05-09T16:04:15.338162Z",
     "start_time": "2022-05-09T16:04:15.320115Z"
    }
   },
   "outputs": [],
   "source": [
    "#Homogeinity of variance: Levene's test\n",
    "\n",
    "from scipy.stats import levene"
   ]
  },
  {
   "cell_type": "code",
   "execution_count": null,
   "id": "49427276",
   "metadata": {},
   "outputs": [],
   "source": []
  },
  {
   "cell_type": "markdown",
   "id": "d1b5900e",
   "metadata": {},
   "source": [
    "## Save CSV code"
   ]
  },
  {
   "cell_type": "code",
   "execution_count": null,
   "id": "2d510b9c",
   "metadata": {
    "ExecuteTime": {
     "end_time": "2022-05-08T11:27:16.823613Z",
     "start_time": "2022-05-08T11:27:16.823613Z"
    }
   },
   "outputs": [],
   "source": [
    "#df.to_csv(\"C:\\\\Users\\\\shaun\\\\Desktop\\\\look.csv\")"
   ]
  },
  {
   "cell_type": "code",
   "execution_count": null,
   "id": "274daf3a",
   "metadata": {
    "ExecuteTime": {
     "end_time": "2022-05-08T11:27:16.824607Z",
     "start_time": "2022-05-08T11:27:16.824607Z"
    }
   },
   "outputs": [],
   "source": [
    "#Clean datasets\n",
    "slaughter_clean.to_csv(\"C:\\\\Users\\\\shaun\\\\Desktop\\\\slaughter.csv\", index=False)\n",
    "\n",
    "meat_clean.to_csv(\"C:\\\\Users\\\\shaun\\\\Desktop\\\\meat.csv\", index=False)\n",
    "\n",
    "stock_clean.to_csv(\"C:\\\\Users\\\\shaun\\\\Desktop\\\\stock.csv\", index=False)\n",
    "\n",
    "imp_exp_clean.to_csv(\"C:\\\\Users\\\\shaun\\\\Desktop\\\\imp_exp.csv\", index=False)"
   ]
  },
  {
   "cell_type": "code",
   "execution_count": 265,
   "id": "e6b05da6",
   "metadata": {
    "ExecuteTime": {
     "end_time": "2022-05-08T12:01:09.489114Z",
     "start_time": "2022-05-08T12:01:09.477147Z"
    }
   },
   "outputs": [],
   "source": [
    "slaughter_pivot.to_csv(\"C:\\\\Users\\\\shaun\\\\Desktop\\\\slaughter_pivot.csv\")"
   ]
  },
  {
   "cell_type": "code",
   "execution_count": 155,
   "id": "1faef443",
   "metadata": {
    "ExecuteTime": {
     "end_time": "2022-05-08T14:16:23.936672Z",
     "start_time": "2022-05-08T14:16:23.866045Z"
    }
   },
   "outputs": [],
   "source": [
    "slaughter_subset.to_csv(\"C:\\\\Users\\\\shaun\\\\Desktop\\\\slaughter_subset.csv\")\n",
    "Meat_subset.to_csv(\"C:\\\\Users\\\\shaun\\\\Desktop\\\\Meat_subset.csv\")\n",
    "Livestock_subset.to_csv(\"C:\\\\Users\\\\shaun\\\\Desktop\\\\Livestock_subset.csv\")\n",
    "Imp_exp_subset.to_csv(\"C:\\\\Users\\\\shaun\\\\Desktop\\\\Imp_exp_subset.csv\")"
   ]
  },
  {
   "cell_type": "code",
   "execution_count": null,
   "id": "15bd31b4",
   "metadata": {},
   "outputs": [],
   "source": [
    "slaughter_stats.to_csv(\"C:\\\\Users\\\\shaun\\\\Desktop\\\\slaughter_stats.csv\")\n",
    "meat_stats.to_csv(\"C:\\\\Users\\\\shaun\\\\Desktop\\\\meat_stats.csv\")"
   ]
  }
 ],
 "metadata": {
  "kernelspec": {
   "display_name": "Python 3 (ipykernel)",
   "language": "python",
   "name": "python3"
  },
  "language_info": {
   "codemirror_mode": {
    "name": "ipython",
    "version": 3
   },
   "file_extension": ".py",
   "mimetype": "text/x-python",
   "name": "python",
   "nbconvert_exporter": "python",
   "pygments_lexer": "ipython3",
   "version": "3.9.7"
  },
  "toc": {
   "base_numbering": 1,
   "nav_menu": {},
   "number_sections": true,
   "sideBar": true,
   "skip_h1_title": false,
   "title_cell": "Table of Contents",
   "title_sidebar": "Contents",
   "toc_cell": false,
   "toc_position": {
    "height": "calc(100% - 180px)",
    "left": "10px",
    "top": "150px",
    "width": "384px"
   },
   "toc_section_display": true,
   "toc_window_display": true
  }
 },
 "nbformat": 4,
 "nbformat_minor": 5
}
