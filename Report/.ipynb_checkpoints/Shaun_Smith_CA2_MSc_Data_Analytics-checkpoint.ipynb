{
 "cells": [
  {
   "cell_type": "markdown",
   "id": "8dd53812",
   "metadata": {},
   "source": [
    "# Importation of the libraries and datasets"
   ]
  },
  {
   "cell_type": "code",
   "execution_count": 91,
   "id": "adc7f30d",
   "metadata": {
    "ExecuteTime": {
     "end_time": "2022-05-05T13:29:58.108941Z",
     "start_time": "2022-05-05T13:29:58.095852Z"
    }
   },
   "outputs": [],
   "source": [
    "# Libraries\n",
    "import pandas as pd\n",
    "import seaborn as sns\n",
    "import numpy as np\n",
    "import matplotlib.pyplot as plt\n",
    "%matplotlib inline \n",
    "sns.set(color_codes=True)"
   ]
  },
  {
   "cell_type": "code",
   "execution_count": 92,
   "id": "1419d3e2",
   "metadata": {
    "ExecuteTime": {
     "end_time": "2022-05-05T13:29:58.172942Z",
     "start_time": "2022-05-05T13:29:58.109949Z"
    }
   },
   "outputs": [],
   "source": [
    "# FAO Dataframes\n",
    "\n",
    "# FAO animal slaughter data\n",
    "slaughter = pd.read_csv(\"C:/Users/shaun/OneDrive/MSc Data Analytics/CA2 Semester 1/Data/FAOSTAT_slaughtered.csv\", \n",
    "                        low_memory=False)\n",
    "\n",
    "# FAO meat production data\n",
    "meat = pd.read_csv(\"C:/Users/shaun/OneDrive/MSc Data Analytics/CA2 Semester 1/Data/FAOSTAT_production_quantity.csv\", \n",
    "                   low_memory=False)\n",
    "\n",
    "# FAO livestock Stocking data\n",
    "stock = pd.read_csv(\"C:/Users/shaun/OneDrive/MSc Data Analytics/CA2 Semester 1/Data/FAOSTAT_stocks.csv\", \n",
    "                    low_memory=False)\n",
    "\n",
    "# FAO live stock import / export data\n",
    "imp_exp = pd.read_csv(\"C:/Users/shaun/OneDrive/MSc Data Analytics/CA2 Semester 1/Data/FAOSTAT_import_export.csv\", \n",
    "                      low_memory=False)"
   ]
  },
  {
   "cell_type": "code",
   "execution_count": 93,
   "id": "c0a34f2f",
   "metadata": {
    "ExecuteTime": {
     "end_time": "2022-05-05T13:29:58.188942Z",
     "start_time": "2022-05-05T13:29:58.173934Z"
    }
   },
   "outputs": [],
   "source": [
    "# Functions\n",
    "\n",
    "def calc_percent_missing(no_observations, maxobservations):\n",
    "    '''This takes the number of missing and maximum observations as inputs. It\n",
    "    then calculates the no of missing observations as a percentage of the total observations'''\n",
    "    percent_miss = round((no_observations / maxobservations) * (100 / 1), 2)\n",
    "    print(f\"The percentage of missing values is:\\n{percent_miss}\")\n",
    "    \n"
   ]
  },
  {
   "cell_type": "markdown",
   "id": "b9787ced",
   "metadata": {},
   "source": [
    "# Exploratory data analysis"
   ]
  },
  {
   "cell_type": "markdown",
   "id": "6d324ae2",
   "metadata": {},
   "source": [
    "## Animal slaughter data"
   ]
  },
  {
   "cell_type": "markdown",
   "id": "094cf353",
   "metadata": {},
   "source": [
    "Here we view the head and shape of the data"
   ]
  },
  {
   "cell_type": "code",
   "execution_count": 94,
   "id": "27ca2eb6",
   "metadata": {
    "ExecuteTime": {
     "end_time": "2022-05-05T13:29:58.204946Z",
     "start_time": "2022-05-05T13:29:58.189942Z"
    }
   },
   "outputs": [
    {
     "data": {
      "text/html": [
       "<div>\n",
       "<style scoped>\n",
       "    .dataframe tbody tr th:only-of-type {\n",
       "        vertical-align: middle;\n",
       "    }\n",
       "\n",
       "    .dataframe tbody tr th {\n",
       "        vertical-align: top;\n",
       "    }\n",
       "\n",
       "    .dataframe thead th {\n",
       "        text-align: right;\n",
       "    }\n",
       "</style>\n",
       "<table border=\"1\" class=\"dataframe\">\n",
       "  <thead>\n",
       "    <tr style=\"text-align: right;\">\n",
       "      <th></th>\n",
       "      <th>Domain Code</th>\n",
       "      <th>Domain</th>\n",
       "      <th>Area Code (FAO)</th>\n",
       "      <th>Area</th>\n",
       "      <th>Element Code</th>\n",
       "      <th>Element</th>\n",
       "      <th>Item Code (FAO)</th>\n",
       "      <th>Item</th>\n",
       "      <th>Year Code</th>\n",
       "      <th>Year</th>\n",
       "      <th>Unit</th>\n",
       "      <th>Value</th>\n",
       "      <th>Flag</th>\n",
       "      <th>Flag Description</th>\n",
       "    </tr>\n",
       "  </thead>\n",
       "  <tbody>\n",
       "    <tr>\n",
       "      <th>0</th>\n",
       "      <td>QCL</td>\n",
       "      <td>Crops and livestock products</td>\n",
       "      <td>255</td>\n",
       "      <td>Belgium</td>\n",
       "      <td>5320</td>\n",
       "      <td>Producing Animals/Slaughtered</td>\n",
       "      <td>867</td>\n",
       "      <td>Meat, cattle</td>\n",
       "      <td>2000</td>\n",
       "      <td>2000</td>\n",
       "      <td>Head</td>\n",
       "      <td>832926.0</td>\n",
       "      <td>NaN</td>\n",
       "      <td>Official data</td>\n",
       "    </tr>\n",
       "    <tr>\n",
       "      <th>1</th>\n",
       "      <td>QCL</td>\n",
       "      <td>Crops and livestock products</td>\n",
       "      <td>255</td>\n",
       "      <td>Belgium</td>\n",
       "      <td>5320</td>\n",
       "      <td>Producing Animals/Slaughtered</td>\n",
       "      <td>867</td>\n",
       "      <td>Meat, cattle</td>\n",
       "      <td>2001</td>\n",
       "      <td>2001</td>\n",
       "      <td>Head</td>\n",
       "      <td>873268.0</td>\n",
       "      <td>NaN</td>\n",
       "      <td>Official data</td>\n",
       "    </tr>\n",
       "    <tr>\n",
       "      <th>2</th>\n",
       "      <td>QCL</td>\n",
       "      <td>Crops and livestock products</td>\n",
       "      <td>255</td>\n",
       "      <td>Belgium</td>\n",
       "      <td>5320</td>\n",
       "      <td>Producing Animals/Slaughtered</td>\n",
       "      <td>867</td>\n",
       "      <td>Meat, cattle</td>\n",
       "      <td>2002</td>\n",
       "      <td>2002</td>\n",
       "      <td>Head</td>\n",
       "      <td>932473.0</td>\n",
       "      <td>NaN</td>\n",
       "      <td>Official data</td>\n",
       "    </tr>\n",
       "    <tr>\n",
       "      <th>3</th>\n",
       "      <td>QCL</td>\n",
       "      <td>Crops and livestock products</td>\n",
       "      <td>255</td>\n",
       "      <td>Belgium</td>\n",
       "      <td>5320</td>\n",
       "      <td>Producing Animals/Slaughtered</td>\n",
       "      <td>867</td>\n",
       "      <td>Meat, cattle</td>\n",
       "      <td>2003</td>\n",
       "      <td>2003</td>\n",
       "      <td>Head</td>\n",
       "      <td>853641.0</td>\n",
       "      <td>NaN</td>\n",
       "      <td>Official data</td>\n",
       "    </tr>\n",
       "    <tr>\n",
       "      <th>4</th>\n",
       "      <td>QCL</td>\n",
       "      <td>Crops and livestock products</td>\n",
       "      <td>255</td>\n",
       "      <td>Belgium</td>\n",
       "      <td>5320</td>\n",
       "      <td>Producing Animals/Slaughtered</td>\n",
       "      <td>867</td>\n",
       "      <td>Meat, cattle</td>\n",
       "      <td>2004</td>\n",
       "      <td>2004</td>\n",
       "      <td>Head</td>\n",
       "      <td>842585.0</td>\n",
       "      <td>NaN</td>\n",
       "      <td>Official data</td>\n",
       "    </tr>\n",
       "  </tbody>\n",
       "</table>\n",
       "</div>"
      ],
      "text/plain": [
       "  Domain Code                        Domain  Area Code (FAO)     Area  \\\n",
       "0         QCL  Crops and livestock products              255  Belgium   \n",
       "1         QCL  Crops and livestock products              255  Belgium   \n",
       "2         QCL  Crops and livestock products              255  Belgium   \n",
       "3         QCL  Crops and livestock products              255  Belgium   \n",
       "4         QCL  Crops and livestock products              255  Belgium   \n",
       "\n",
       "   Element Code                        Element  Item Code (FAO)          Item  \\\n",
       "0          5320  Producing Animals/Slaughtered              867  Meat, cattle   \n",
       "1          5320  Producing Animals/Slaughtered              867  Meat, cattle   \n",
       "2          5320  Producing Animals/Slaughtered              867  Meat, cattle   \n",
       "3          5320  Producing Animals/Slaughtered              867  Meat, cattle   \n",
       "4          5320  Producing Animals/Slaughtered              867  Meat, cattle   \n",
       "\n",
       "   Year Code  Year  Unit     Value Flag Flag Description  \n",
       "0       2000  2000  Head  832926.0  NaN    Official data  \n",
       "1       2001  2001  Head  873268.0  NaN    Official data  \n",
       "2       2002  2002  Head  932473.0  NaN    Official data  \n",
       "3       2003  2003  Head  853641.0  NaN    Official data  \n",
       "4       2004  2004  Head  842585.0  NaN    Official data  "
      ]
     },
     "execution_count": 94,
     "metadata": {},
     "output_type": "execute_result"
    }
   ],
   "source": [
    "slaughter.head()"
   ]
  },
  {
   "cell_type": "code",
   "execution_count": 95,
   "id": "0183baa5",
   "metadata": {
    "ExecuteTime": {
     "end_time": "2022-05-05T13:29:58.220942Z",
     "start_time": "2022-05-05T13:29:58.205934Z"
    }
   },
   "outputs": [
    {
     "data": {
      "text/plain": [
       "(3746, 14)"
      ]
     },
     "execution_count": 95,
     "metadata": {},
     "output_type": "execute_result"
    }
   ],
   "source": [
    "slaughter.shape"
   ]
  },
  {
   "cell_type": "code",
   "execution_count": 96,
   "id": "1d9a1d75",
   "metadata": {
    "ExecuteTime": {
     "end_time": "2022-05-05T13:29:58.236942Z",
     "start_time": "2022-05-05T13:29:58.221934Z"
    }
   },
   "outputs": [
    {
     "name": "stdout",
     "output_type": "stream",
     "text": [
      "<class 'pandas.core.frame.DataFrame'>\n",
      "RangeIndex: 3746 entries, 0 to 3745\n",
      "Data columns (total 14 columns):\n",
      " #   Column            Non-Null Count  Dtype  \n",
      "---  ------            --------------  -----  \n",
      " 0   Domain Code       3746 non-null   object \n",
      " 1   Domain            3746 non-null   object \n",
      " 2   Area Code (FAO)   3746 non-null   int64  \n",
      " 3   Area              3746 non-null   object \n",
      " 4   Element Code      3746 non-null   int64  \n",
      " 5   Element           3746 non-null   object \n",
      " 6   Item Code (FAO)   3746 non-null   int64  \n",
      " 7   Item              3746 non-null   object \n",
      " 8   Year Code         3746 non-null   int64  \n",
      " 9   Year              3746 non-null   int64  \n",
      " 10  Unit              3746 non-null   object \n",
      " 11  Value             3654 non-null   float64\n",
      " 12  Flag              1401 non-null   object \n",
      " 13  Flag Description  3746 non-null   object \n",
      "dtypes: float64(1), int64(5), object(8)\n",
      "memory usage: 409.8+ KB\n"
     ]
    }
   ],
   "source": [
    "slaughter.info()"
   ]
  },
  {
   "cell_type": "code",
   "execution_count": 97,
   "id": "9d4ecc8c",
   "metadata": {
    "ExecuteTime": {
     "end_time": "2022-05-05T13:29:58.314942Z",
     "start_time": "2022-05-05T13:29:58.237943Z"
    }
   },
   "outputs": [
    {
     "data": {
      "text/html": [
       "<div>\n",
       "<style scoped>\n",
       "    .dataframe tbody tr th:only-of-type {\n",
       "        vertical-align: middle;\n",
       "    }\n",
       "\n",
       "    .dataframe tbody tr th {\n",
       "        vertical-align: top;\n",
       "    }\n",
       "\n",
       "    .dataframe thead th {\n",
       "        text-align: right;\n",
       "    }\n",
       "</style>\n",
       "<table border=\"1\" class=\"dataframe\">\n",
       "  <thead>\n",
       "    <tr style=\"text-align: right;\">\n",
       "      <th></th>\n",
       "      <th>Area Code (FAO)</th>\n",
       "      <th>Element Code</th>\n",
       "      <th>Item Code (FAO)</th>\n",
       "      <th>Year Code</th>\n",
       "      <th>Year</th>\n",
       "      <th>Value</th>\n",
       "    </tr>\n",
       "  </thead>\n",
       "  <tbody>\n",
       "    <tr>\n",
       "      <th>count</th>\n",
       "      <td>3746.000000</td>\n",
       "      <td>3746.000000</td>\n",
       "      <td>3746.000000</td>\n",
       "      <td>3746.000000</td>\n",
       "      <td>3746.000000</td>\n",
       "      <td>3.654000e+03</td>\n",
       "    </tr>\n",
       "    <tr>\n",
       "      <th>mean</th>\n",
       "      <td>153.586759</td>\n",
       "      <td>5320.452483</td>\n",
       "      <td>1036.179391</td>\n",
       "      <td>1997.905499</td>\n",
       "      <td>1997.905499</td>\n",
       "      <td>1.232273e+07</td>\n",
       "    </tr>\n",
       "    <tr>\n",
       "      <th>std</th>\n",
       "      <td>98.639385</td>\n",
       "      <td>0.497803</td>\n",
       "      <td>73.686268</td>\n",
       "      <td>13.784635</td>\n",
       "      <td>13.784635</td>\n",
       "      <td>5.686957e+07</td>\n",
       "    </tr>\n",
       "    <tr>\n",
       "      <th>min</th>\n",
       "      <td>54.000000</td>\n",
       "      <td>5320.000000</td>\n",
       "      <td>867.000000</td>\n",
       "      <td>1973.000000</td>\n",
       "      <td>1973.000000</td>\n",
       "      <td>0.000000e+00</td>\n",
       "    </tr>\n",
       "    <tr>\n",
       "      <th>25%</th>\n",
       "      <td>79.000000</td>\n",
       "      <td>5320.000000</td>\n",
       "      <td>1017.000000</td>\n",
       "      <td>1986.000000</td>\n",
       "      <td>1986.000000</td>\n",
       "      <td>1.230950e+04</td>\n",
       "    </tr>\n",
       "    <tr>\n",
       "      <th>50%</th>\n",
       "      <td>106.000000</td>\n",
       "      <td>5320.000000</td>\n",
       "      <td>1058.000000</td>\n",
       "      <td>1999.000000</td>\n",
       "      <td>1999.000000</td>\n",
       "      <td>2.321095e+05</td>\n",
       "    </tr>\n",
       "    <tr>\n",
       "      <th>75%</th>\n",
       "      <td>231.000000</td>\n",
       "      <td>5321.000000</td>\n",
       "      <td>1080.000000</td>\n",
       "      <td>2010.000000</td>\n",
       "      <td>2010.000000</td>\n",
       "      <td>2.915900e+06</td>\n",
       "    </tr>\n",
       "    <tr>\n",
       "      <th>max</th>\n",
       "      <td>351.000000</td>\n",
       "      <td>5321.000000</td>\n",
       "      <td>1163.000000</td>\n",
       "      <td>2020.000000</td>\n",
       "      <td>2020.000000</td>\n",
       "      <td>7.449179e+08</td>\n",
       "    </tr>\n",
       "  </tbody>\n",
       "</table>\n",
       "</div>"
      ],
      "text/plain": [
       "       Area Code (FAO)  Element Code  Item Code (FAO)    Year Code  \\\n",
       "count      3746.000000   3746.000000      3746.000000  3746.000000   \n",
       "mean        153.586759   5320.452483      1036.179391  1997.905499   \n",
       "std          98.639385      0.497803        73.686268    13.784635   \n",
       "min          54.000000   5320.000000       867.000000  1973.000000   \n",
       "25%          79.000000   5320.000000      1017.000000  1986.000000   \n",
       "50%         106.000000   5320.000000      1058.000000  1999.000000   \n",
       "75%         231.000000   5321.000000      1080.000000  2010.000000   \n",
       "max         351.000000   5321.000000      1163.000000  2020.000000   \n",
       "\n",
       "              Year         Value  \n",
       "count  3746.000000  3.654000e+03  \n",
       "mean   1997.905499  1.232273e+07  \n",
       "std      13.784635  5.686957e+07  \n",
       "min    1973.000000  0.000000e+00  \n",
       "25%    1986.000000  1.230950e+04  \n",
       "50%    1999.000000  2.321095e+05  \n",
       "75%    2010.000000  2.915900e+06  \n",
       "max    2020.000000  7.449179e+08  "
      ]
     },
     "execution_count": 97,
     "metadata": {},
     "output_type": "execute_result"
    }
   ],
   "source": [
    "slaughter.describe()"
   ]
  },
  {
   "cell_type": "markdown",
   "id": "89eb4bd8",
   "metadata": {},
   "source": [
    "The data is in its current layout is not suitable for statistical analysis as each country is a row.\n",
    "I need to melt the data so that the values for each country are in a column item type."
   ]
  },
  {
   "cell_type": "code",
   "execution_count": 98,
   "id": "9a4a2293",
   "metadata": {
    "ExecuteTime": {
     "end_time": "2022-05-05T13:29:58.330934Z",
     "start_time": "2022-05-05T13:29:58.315949Z"
    }
   },
   "outputs": [
    {
     "data": {
      "text/plain": [
       "array(['Meat, cattle', 'Meat, chicken', 'Meat, duck', 'Meat, goat',\n",
       "       'Meat, horse', 'Meat, pig', 'Meat, sheep', 'Meat, turkey',\n",
       "       'Meat, goose and guinea fowl', 'Meat, rabbit', 'Meat, game'],\n",
       "      dtype=object)"
      ]
     },
     "execution_count": 98,
     "metadata": {},
     "output_type": "execute_result"
    }
   ],
   "source": [
    "slaughter.Item.unique()"
   ]
  },
  {
   "cell_type": "markdown",
   "id": "a5fecd04",
   "metadata": {},
   "source": [
    "There are 11 animal categories in the slaughter data. I can remove the repetition from these item categories when I clean the data"
   ]
  },
  {
   "cell_type": "code",
   "execution_count": 99,
   "id": "ca9a2be7",
   "metadata": {
    "ExecuteTime": {
     "end_time": "2022-05-05T13:29:58.345936Z",
     "start_time": "2022-05-05T13:29:58.331937Z"
    }
   },
   "outputs": [
    {
     "data": {
      "text/plain": [
       "array(['Belgium', 'China', 'Denmark', 'France', 'Germany', 'Ireland',\n",
       "       'Italy', 'Luxembourg', 'Netherlands', 'United States of America'],\n",
       "      dtype=object)"
      ]
     },
     "execution_count": 99,
     "metadata": {},
     "output_type": "execute_result"
    }
   ],
   "source": [
    "slaughter.Area.unique()"
   ]
  },
  {
   "cell_type": "markdown",
   "id": "e9b95a2a",
   "metadata": {},
   "source": [
    "The dataset contains 8 EU countries Belgium, Denmark, France, Germany, Luxembourg, Ireland, Italy and the Netherlands. All of these countries have been member states since at least Jan 1st 1973.\n",
    "\n",
    "Belgium, France, Germany, Luxembourg, Italy and the Netherlands founded the EU in 1957 with Ireland and Denmark Joining on the 1st January 1973.\n",
    "\n",
    "Therefore, to ensure data comparability between these countries and the US and China, I limited the datasets time frame from 1st January 1973 to 31st December 2020 (most recent data available). This ensures that all European countries were member states of the EU at the time of analysis. \n",
    "\n",
    "We can confirm this as follows"
   ]
  },
  {
   "cell_type": "code",
   "execution_count": 100,
   "id": "1a486d39",
   "metadata": {
    "ExecuteTime": {
     "end_time": "2022-05-05T13:29:58.360944Z",
     "start_time": "2022-05-05T13:29:58.347945Z"
    }
   },
   "outputs": [
    {
     "data": {
      "text/plain": [
       "array([2000, 2001, 2002, 2003, 2004, 2005, 2006, 2007, 2008, 2009, 2010,\n",
       "       2011, 2012, 2013, 2014, 2015, 2016, 2017, 2018, 2019, 2020, 1973,\n",
       "       1974, 1975, 1976, 1977, 1978, 1979, 1980, 1981, 1982, 1983, 1984,\n",
       "       1985, 1986, 1987, 1988, 1989, 1990, 1991, 1992, 1993, 1994, 1995,\n",
       "       1996, 1997, 1998, 1999], dtype=int64)"
      ]
     },
     "execution_count": 100,
     "metadata": {},
     "output_type": "execute_result"
    }
   ],
   "source": [
    "slaughter.Year.unique()"
   ]
  },
  {
   "cell_type": "code",
   "execution_count": 101,
   "id": "640ef0cb",
   "metadata": {
    "ExecuteTime": {
     "end_time": "2022-05-05T13:29:58.376933Z",
     "start_time": "2022-05-05T13:29:58.361935Z"
    }
   },
   "outputs": [
    {
     "name": "stdout",
     "output_type": "stream",
     "text": [
      "The earliest year in the dataset is 1973 and the maximum year is 2020\n"
     ]
    }
   ],
   "source": [
    "print(f\"The earliest year in the dataset is {slaughter.Year.min()} and the maximum year is {slaughter.Year.max()}\")"
   ]
  },
  {
   "cell_type": "markdown",
   "id": "49f99cc6",
   "metadata": {},
   "source": [
    "Next we can observe what units the slaughter data has been recorded in"
   ]
  },
  {
   "cell_type": "code",
   "execution_count": 102,
   "id": "c8b1cfc7",
   "metadata": {
    "ExecuteTime": {
     "end_time": "2022-05-05T13:29:58.392941Z",
     "start_time": "2022-05-05T13:29:58.377949Z"
    }
   },
   "outputs": [
    {
     "data": {
      "text/plain": [
       "array(['Head', '1000 Head'], dtype=object)"
      ]
     },
     "execution_count": 102,
     "metadata": {},
     "output_type": "execute_result"
    }
   ],
   "source": [
    "slaughter.Unit.unique()"
   ]
  },
  {
   "cell_type": "markdown",
   "id": "ff61a65a",
   "metadata": {},
   "source": [
    "Slaughter units have been reported as per \"head\" and per \"thousand heads\" of animal."
   ]
  },
  {
   "cell_type": "code",
   "execution_count": 103,
   "id": "a6752ad4",
   "metadata": {
    "ExecuteTime": {
     "end_time": "2022-05-05T13:29:58.408942Z",
     "start_time": "2022-05-05T13:29:58.393947Z"
    }
   },
   "outputs": [
    {
     "data": {
      "text/plain": [
       "array(['Producing Animals/Slaughtered'], dtype=object)"
      ]
     },
     "execution_count": 103,
     "metadata": {},
     "output_type": "execute_result"
    }
   ],
   "source": [
    "slaughter.Element.unique()"
   ]
  },
  {
   "cell_type": "markdown",
   "id": "088b2404",
   "metadata": {},
   "source": [
    "All livestock in this dataset is at slaughter."
   ]
  },
  {
   "cell_type": "markdown",
   "id": "e548560f",
   "metadata": {},
   "source": [
    "Checking for null values"
   ]
  },
  {
   "cell_type": "code",
   "execution_count": 104,
   "id": "b2bfec48",
   "metadata": {
    "ExecuteTime": {
     "end_time": "2022-05-05T13:29:58.424938Z",
     "start_time": "2022-05-05T13:29:58.409943Z"
    },
    "scrolled": true
   },
   "outputs": [
    {
     "data": {
      "text/plain": [
       "Domain Code            0\n",
       "Domain                 0\n",
       "Area Code (FAO)        0\n",
       "Area                   0\n",
       "Element Code           0\n",
       "Element                0\n",
       "Item Code (FAO)        0\n",
       "Item                   0\n",
       "Year Code              0\n",
       "Year                   0\n",
       "Unit                   0\n",
       "Value                 92\n",
       "Flag                2345\n",
       "Flag Description       0\n",
       "dtype: int64"
      ]
     },
     "execution_count": 104,
     "metadata": {},
     "output_type": "execute_result"
    }
   ],
   "source": [
    "slaughter.isnull().sum()"
   ]
  },
  {
   "cell_type": "code",
   "execution_count": 105,
   "id": "b938513d",
   "metadata": {
    "ExecuteTime": {
     "end_time": "2022-05-05T13:29:58.440950Z",
     "start_time": "2022-05-05T13:29:58.425937Z"
    }
   },
   "outputs": [
    {
     "name": "stdout",
     "output_type": "stream",
     "text": [
      "The percentage of missing values is:\n",
      "Domain Code          0.00\n",
      "Domain               0.00\n",
      "Area Code (FAO)      0.00\n",
      "Area                 0.00\n",
      "Element Code         0.00\n",
      "Element              0.00\n",
      "Item Code (FAO)      0.00\n",
      "Item                 0.00\n",
      "Year Code            0.00\n",
      "Year                 0.00\n",
      "Unit                 0.00\n",
      "Value                2.46\n",
      "Flag                62.60\n",
      "Flag Description     0.00\n",
      "dtype: float64\n"
     ]
    }
   ],
   "source": [
    "calc_percent_missing(slaughter.isnull().sum(), len(slaughter))"
   ]
  },
  {
   "cell_type": "markdown",
   "id": "cad1a7f3",
   "metadata": {
    "ExecuteTime": {
     "end_time": "2022-05-04T12:32:35.976056Z",
     "start_time": "2022-05-04T12:32:35.961016Z"
    }
   },
   "source": [
    "There are missing values in the \"Value\" and \"Flag\" columns.  The flag column is not important to our data analysis\n",
    "so I can remove this during data preparation. However, the value column requires further investigation. We can test if these values are missing at random or not at random by filtering the values that are NaN or 0"
   ]
  },
  {
   "cell_type": "code",
   "execution_count": 106,
   "id": "e53dc344",
   "metadata": {
    "ExecuteTime": {
     "end_time": "2022-05-05T13:29:58.456937Z",
     "start_time": "2022-05-05T13:29:58.442944Z"
    }
   },
   "outputs": [],
   "source": [
    "# Creating a data frame of missing slaughtervalues\n",
    "slaughter_miss = slaughter.loc[(slaughter['Value'] == slaughter.Value.isnull())]"
   ]
  },
  {
   "cell_type": "code",
   "execution_count": 107,
   "id": "f5b7dda2",
   "metadata": {
    "ExecuteTime": {
     "end_time": "2022-05-05T13:29:58.472942Z",
     "start_time": "2022-05-05T13:29:58.457944Z"
    }
   },
   "outputs": [
    {
     "data": {
      "text/html": [
       "<div>\n",
       "<style scoped>\n",
       "    .dataframe tbody tr th:only-of-type {\n",
       "        vertical-align: middle;\n",
       "    }\n",
       "\n",
       "    .dataframe tbody tr th {\n",
       "        vertical-align: top;\n",
       "    }\n",
       "\n",
       "    .dataframe thead th {\n",
       "        text-align: right;\n",
       "    }\n",
       "</style>\n",
       "<table border=\"1\" class=\"dataframe\">\n",
       "  <thead>\n",
       "    <tr style=\"text-align: right;\">\n",
       "      <th></th>\n",
       "      <th>Domain Code</th>\n",
       "      <th>Domain</th>\n",
       "      <th>Area Code (FAO)</th>\n",
       "      <th>Area</th>\n",
       "      <th>Element Code</th>\n",
       "      <th>Element</th>\n",
       "      <th>Item Code (FAO)</th>\n",
       "      <th>Item</th>\n",
       "      <th>Year Code</th>\n",
       "      <th>Year</th>\n",
       "      <th>Unit</th>\n",
       "      <th>Value</th>\n",
       "      <th>Flag</th>\n",
       "      <th>Flag Description</th>\n",
       "    </tr>\n",
       "  </thead>\n",
       "  <tbody>\n",
       "    <tr>\n",
       "      <th>789</th>\n",
       "      <td>QCL</td>\n",
       "      <td>Crops and livestock products</td>\n",
       "      <td>54</td>\n",
       "      <td>Denmark</td>\n",
       "      <td>5320</td>\n",
       "      <td>Producing Animals/Slaughtered</td>\n",
       "      <td>1017</td>\n",
       "      <td>Meat, goat</td>\n",
       "      <td>2018</td>\n",
       "      <td>2018</td>\n",
       "      <td>Head</td>\n",
       "      <td>0.0</td>\n",
       "      <td>NaN</td>\n",
       "      <td>Official data</td>\n",
       "    </tr>\n",
       "    <tr>\n",
       "      <th>790</th>\n",
       "      <td>QCL</td>\n",
       "      <td>Crops and livestock products</td>\n",
       "      <td>54</td>\n",
       "      <td>Denmark</td>\n",
       "      <td>5320</td>\n",
       "      <td>Producing Animals/Slaughtered</td>\n",
       "      <td>1017</td>\n",
       "      <td>Meat, goat</td>\n",
       "      <td>2019</td>\n",
       "      <td>2019</td>\n",
       "      <td>Head</td>\n",
       "      <td>0.0</td>\n",
       "      <td>NaN</td>\n",
       "      <td>Official data</td>\n",
       "    </tr>\n",
       "    <tr>\n",
       "      <th>791</th>\n",
       "      <td>QCL</td>\n",
       "      <td>Crops and livestock products</td>\n",
       "      <td>54</td>\n",
       "      <td>Denmark</td>\n",
       "      <td>5320</td>\n",
       "      <td>Producing Animals/Slaughtered</td>\n",
       "      <td>1017</td>\n",
       "      <td>Meat, goat</td>\n",
       "      <td>2020</td>\n",
       "      <td>2020</td>\n",
       "      <td>Head</td>\n",
       "      <td>0.0</td>\n",
       "      <td>NaN</td>\n",
       "      <td>Official data</td>\n",
       "    </tr>\n",
       "    <tr>\n",
       "      <th>2148</th>\n",
       "      <td>QCL</td>\n",
       "      <td>Crops and livestock products</td>\n",
       "      <td>104</td>\n",
       "      <td>Ireland</td>\n",
       "      <td>5320</td>\n",
       "      <td>Producing Animals/Slaughtered</td>\n",
       "      <td>1017</td>\n",
       "      <td>Meat, goat</td>\n",
       "      <td>2018</td>\n",
       "      <td>2018</td>\n",
       "      <td>Head</td>\n",
       "      <td>0.0</td>\n",
       "      <td>NaN</td>\n",
       "      <td>Official data</td>\n",
       "    </tr>\n",
       "    <tr>\n",
       "      <th>2149</th>\n",
       "      <td>QCL</td>\n",
       "      <td>Crops and livestock products</td>\n",
       "      <td>104</td>\n",
       "      <td>Ireland</td>\n",
       "      <td>5320</td>\n",
       "      <td>Producing Animals/Slaughtered</td>\n",
       "      <td>1017</td>\n",
       "      <td>Meat, goat</td>\n",
       "      <td>2019</td>\n",
       "      <td>2019</td>\n",
       "      <td>Head</td>\n",
       "      <td>0.0</td>\n",
       "      <td>NaN</td>\n",
       "      <td>Official data</td>\n",
       "    </tr>\n",
       "    <tr>\n",
       "      <th>2150</th>\n",
       "      <td>QCL</td>\n",
       "      <td>Crops and livestock products</td>\n",
       "      <td>104</td>\n",
       "      <td>Ireland</td>\n",
       "      <td>5320</td>\n",
       "      <td>Producing Animals/Slaughtered</td>\n",
       "      <td>1017</td>\n",
       "      <td>Meat, goat</td>\n",
       "      <td>2020</td>\n",
       "      <td>2020</td>\n",
       "      <td>Head</td>\n",
       "      <td>0.0</td>\n",
       "      <td>NaN</td>\n",
       "      <td>Official data</td>\n",
       "    </tr>\n",
       "    <tr>\n",
       "      <th>2844</th>\n",
       "      <td>QCL</td>\n",
       "      <td>Crops and livestock products</td>\n",
       "      <td>256</td>\n",
       "      <td>Luxembourg</td>\n",
       "      <td>5321</td>\n",
       "      <td>Producing Animals/Slaughtered</td>\n",
       "      <td>1058</td>\n",
       "      <td>Meat, chicken</td>\n",
       "      <td>2018</td>\n",
       "      <td>2018</td>\n",
       "      <td>1000 Head</td>\n",
       "      <td>0.0</td>\n",
       "      <td>NaN</td>\n",
       "      <td>Official data</td>\n",
       "    </tr>\n",
       "    <tr>\n",
       "      <th>2845</th>\n",
       "      <td>QCL</td>\n",
       "      <td>Crops and livestock products</td>\n",
       "      <td>256</td>\n",
       "      <td>Luxembourg</td>\n",
       "      <td>5321</td>\n",
       "      <td>Producing Animals/Slaughtered</td>\n",
       "      <td>1058</td>\n",
       "      <td>Meat, chicken</td>\n",
       "      <td>2019</td>\n",
       "      <td>2019</td>\n",
       "      <td>1000 Head</td>\n",
       "      <td>0.0</td>\n",
       "      <td>NaN</td>\n",
       "      <td>Official data</td>\n",
       "    </tr>\n",
       "    <tr>\n",
       "      <th>2846</th>\n",
       "      <td>QCL</td>\n",
       "      <td>Crops and livestock products</td>\n",
       "      <td>256</td>\n",
       "      <td>Luxembourg</td>\n",
       "      <td>5321</td>\n",
       "      <td>Producing Animals/Slaughtered</td>\n",
       "      <td>1058</td>\n",
       "      <td>Meat, chicken</td>\n",
       "      <td>2020</td>\n",
       "      <td>2020</td>\n",
       "      <td>1000 Head</td>\n",
       "      <td>0.0</td>\n",
       "      <td>NaN</td>\n",
       "      <td>Official data</td>\n",
       "    </tr>\n",
       "    <tr>\n",
       "      <th>2847</th>\n",
       "      <td>QCL</td>\n",
       "      <td>Crops and livestock products</td>\n",
       "      <td>256</td>\n",
       "      <td>Luxembourg</td>\n",
       "      <td>5321</td>\n",
       "      <td>Producing Animals/Slaughtered</td>\n",
       "      <td>1069</td>\n",
       "      <td>Meat, duck</td>\n",
       "      <td>2018</td>\n",
       "      <td>2018</td>\n",
       "      <td>1000 Head</td>\n",
       "      <td>0.0</td>\n",
       "      <td>NaN</td>\n",
       "      <td>Official data</td>\n",
       "    </tr>\n",
       "    <tr>\n",
       "      <th>2848</th>\n",
       "      <td>QCL</td>\n",
       "      <td>Crops and livestock products</td>\n",
       "      <td>256</td>\n",
       "      <td>Luxembourg</td>\n",
       "      <td>5321</td>\n",
       "      <td>Producing Animals/Slaughtered</td>\n",
       "      <td>1069</td>\n",
       "      <td>Meat, duck</td>\n",
       "      <td>2019</td>\n",
       "      <td>2019</td>\n",
       "      <td>1000 Head</td>\n",
       "      <td>0.0</td>\n",
       "      <td>NaN</td>\n",
       "      <td>Official data</td>\n",
       "    </tr>\n",
       "    <tr>\n",
       "      <th>2849</th>\n",
       "      <td>QCL</td>\n",
       "      <td>Crops and livestock products</td>\n",
       "      <td>256</td>\n",
       "      <td>Luxembourg</td>\n",
       "      <td>5321</td>\n",
       "      <td>Producing Animals/Slaughtered</td>\n",
       "      <td>1069</td>\n",
       "      <td>Meat, duck</td>\n",
       "      <td>2020</td>\n",
       "      <td>2020</td>\n",
       "      <td>1000 Head</td>\n",
       "      <td>0.0</td>\n",
       "      <td>NaN</td>\n",
       "      <td>Official data</td>\n",
       "    </tr>\n",
       "    <tr>\n",
       "      <th>2869</th>\n",
       "      <td>QCL</td>\n",
       "      <td>Crops and livestock products</td>\n",
       "      <td>256</td>\n",
       "      <td>Luxembourg</td>\n",
       "      <td>5320</td>\n",
       "      <td>Producing Animals/Slaughtered</td>\n",
       "      <td>1017</td>\n",
       "      <td>Meat, goat</td>\n",
       "      <td>2000</td>\n",
       "      <td>2000</td>\n",
       "      <td>Head</td>\n",
       "      <td>0.0</td>\n",
       "      <td>NaN</td>\n",
       "      <td>Official data</td>\n",
       "    </tr>\n",
       "    <tr>\n",
       "      <th>2870</th>\n",
       "      <td>QCL</td>\n",
       "      <td>Crops and livestock products</td>\n",
       "      <td>256</td>\n",
       "      <td>Luxembourg</td>\n",
       "      <td>5320</td>\n",
       "      <td>Producing Animals/Slaughtered</td>\n",
       "      <td>1017</td>\n",
       "      <td>Meat, goat</td>\n",
       "      <td>2001</td>\n",
       "      <td>2001</td>\n",
       "      <td>Head</td>\n",
       "      <td>0.0</td>\n",
       "      <td>NaN</td>\n",
       "      <td>Official data</td>\n",
       "    </tr>\n",
       "    <tr>\n",
       "      <th>2891</th>\n",
       "      <td>QCL</td>\n",
       "      <td>Crops and livestock products</td>\n",
       "      <td>256</td>\n",
       "      <td>Luxembourg</td>\n",
       "      <td>5320</td>\n",
       "      <td>Producing Animals/Slaughtered</td>\n",
       "      <td>1097</td>\n",
       "      <td>Meat, horse</td>\n",
       "      <td>2001</td>\n",
       "      <td>2001</td>\n",
       "      <td>Head</td>\n",
       "      <td>0.0</td>\n",
       "      <td>NaN</td>\n",
       "      <td>Official data</td>\n",
       "    </tr>\n",
       "    <tr>\n",
       "      <th>2971</th>\n",
       "      <td>QCL</td>\n",
       "      <td>Crops and livestock products</td>\n",
       "      <td>256</td>\n",
       "      <td>Luxembourg</td>\n",
       "      <td>5321</td>\n",
       "      <td>Producing Animals/Slaughtered</td>\n",
       "      <td>1080</td>\n",
       "      <td>Meat, turkey</td>\n",
       "      <td>2018</td>\n",
       "      <td>2018</td>\n",
       "      <td>1000 Head</td>\n",
       "      <td>0.0</td>\n",
       "      <td>NaN</td>\n",
       "      <td>Official data</td>\n",
       "    </tr>\n",
       "    <tr>\n",
       "      <th>2972</th>\n",
       "      <td>QCL</td>\n",
       "      <td>Crops and livestock products</td>\n",
       "      <td>256</td>\n",
       "      <td>Luxembourg</td>\n",
       "      <td>5321</td>\n",
       "      <td>Producing Animals/Slaughtered</td>\n",
       "      <td>1080</td>\n",
       "      <td>Meat, turkey</td>\n",
       "      <td>2019</td>\n",
       "      <td>2019</td>\n",
       "      <td>1000 Head</td>\n",
       "      <td>0.0</td>\n",
       "      <td>NaN</td>\n",
       "      <td>Official data</td>\n",
       "    </tr>\n",
       "    <tr>\n",
       "      <th>2973</th>\n",
       "      <td>QCL</td>\n",
       "      <td>Crops and livestock products</td>\n",
       "      <td>256</td>\n",
       "      <td>Luxembourg</td>\n",
       "      <td>5321</td>\n",
       "      <td>Producing Animals/Slaughtered</td>\n",
       "      <td>1080</td>\n",
       "      <td>Meat, turkey</td>\n",
       "      <td>2020</td>\n",
       "      <td>2020</td>\n",
       "      <td>1000 Head</td>\n",
       "      <td>0.0</td>\n",
       "      <td>NaN</td>\n",
       "      <td>Official data</td>\n",
       "    </tr>\n",
       "    <tr>\n",
       "      <th>3070</th>\n",
       "      <td>QCL</td>\n",
       "      <td>Crops and livestock products</td>\n",
       "      <td>150</td>\n",
       "      <td>Netherlands</td>\n",
       "      <td>5321</td>\n",
       "      <td>Producing Animals/Slaughtered</td>\n",
       "      <td>1069</td>\n",
       "      <td>Meat, duck</td>\n",
       "      <td>1973</td>\n",
       "      <td>1973</td>\n",
       "      <td>1000 Head</td>\n",
       "      <td>0.0</td>\n",
       "      <td>Fc</td>\n",
       "      <td>Calculated data</td>\n",
       "    </tr>\n",
       "    <tr>\n",
       "      <th>3071</th>\n",
       "      <td>QCL</td>\n",
       "      <td>Crops and livestock products</td>\n",
       "      <td>150</td>\n",
       "      <td>Netherlands</td>\n",
       "      <td>5321</td>\n",
       "      <td>Producing Animals/Slaughtered</td>\n",
       "      <td>1069</td>\n",
       "      <td>Meat, duck</td>\n",
       "      <td>1974</td>\n",
       "      <td>1974</td>\n",
       "      <td>1000 Head</td>\n",
       "      <td>0.0</td>\n",
       "      <td>Fc</td>\n",
       "      <td>Calculated data</td>\n",
       "    </tr>\n",
       "    <tr>\n",
       "      <th>3072</th>\n",
       "      <td>QCL</td>\n",
       "      <td>Crops and livestock products</td>\n",
       "      <td>150</td>\n",
       "      <td>Netherlands</td>\n",
       "      <td>5321</td>\n",
       "      <td>Producing Animals/Slaughtered</td>\n",
       "      <td>1069</td>\n",
       "      <td>Meat, duck</td>\n",
       "      <td>1975</td>\n",
       "      <td>1975</td>\n",
       "      <td>1000 Head</td>\n",
       "      <td>0.0</td>\n",
       "      <td>Fc</td>\n",
       "      <td>Calculated data</td>\n",
       "    </tr>\n",
       "    <tr>\n",
       "      <th>3073</th>\n",
       "      <td>QCL</td>\n",
       "      <td>Crops and livestock products</td>\n",
       "      <td>150</td>\n",
       "      <td>Netherlands</td>\n",
       "      <td>5321</td>\n",
       "      <td>Producing Animals/Slaughtered</td>\n",
       "      <td>1069</td>\n",
       "      <td>Meat, duck</td>\n",
       "      <td>1976</td>\n",
       "      <td>1976</td>\n",
       "      <td>1000 Head</td>\n",
       "      <td>0.0</td>\n",
       "      <td>Fc</td>\n",
       "      <td>Calculated data</td>\n",
       "    </tr>\n",
       "    <tr>\n",
       "      <th>3332</th>\n",
       "      <td>QCL</td>\n",
       "      <td>Crops and livestock products</td>\n",
       "      <td>150</td>\n",
       "      <td>Netherlands</td>\n",
       "      <td>5321</td>\n",
       "      <td>Producing Animals/Slaughtered</td>\n",
       "      <td>1080</td>\n",
       "      <td>Meat, turkey</td>\n",
       "      <td>1973</td>\n",
       "      <td>1973</td>\n",
       "      <td>1000 Head</td>\n",
       "      <td>0.0</td>\n",
       "      <td>Fc</td>\n",
       "      <td>Calculated data</td>\n",
       "    </tr>\n",
       "    <tr>\n",
       "      <th>3333</th>\n",
       "      <td>QCL</td>\n",
       "      <td>Crops and livestock products</td>\n",
       "      <td>150</td>\n",
       "      <td>Netherlands</td>\n",
       "      <td>5321</td>\n",
       "      <td>Producing Animals/Slaughtered</td>\n",
       "      <td>1080</td>\n",
       "      <td>Meat, turkey</td>\n",
       "      <td>1974</td>\n",
       "      <td>1974</td>\n",
       "      <td>1000 Head</td>\n",
       "      <td>0.0</td>\n",
       "      <td>Fc</td>\n",
       "      <td>Calculated data</td>\n",
       "    </tr>\n",
       "    <tr>\n",
       "      <th>3334</th>\n",
       "      <td>QCL</td>\n",
       "      <td>Crops and livestock products</td>\n",
       "      <td>150</td>\n",
       "      <td>Netherlands</td>\n",
       "      <td>5321</td>\n",
       "      <td>Producing Animals/Slaughtered</td>\n",
       "      <td>1080</td>\n",
       "      <td>Meat, turkey</td>\n",
       "      <td>1975</td>\n",
       "      <td>1975</td>\n",
       "      <td>1000 Head</td>\n",
       "      <td>0.0</td>\n",
       "      <td>Fc</td>\n",
       "      <td>Calculated data</td>\n",
       "    </tr>\n",
       "    <tr>\n",
       "      <th>3335</th>\n",
       "      <td>QCL</td>\n",
       "      <td>Crops and livestock products</td>\n",
       "      <td>150</td>\n",
       "      <td>Netherlands</td>\n",
       "      <td>5321</td>\n",
       "      <td>Producing Animals/Slaughtered</td>\n",
       "      <td>1080</td>\n",
       "      <td>Meat, turkey</td>\n",
       "      <td>1976</td>\n",
       "      <td>1976</td>\n",
       "      <td>1000 Head</td>\n",
       "      <td>0.0</td>\n",
       "      <td>Fc</td>\n",
       "      <td>Calculated data</td>\n",
       "    </tr>\n",
       "    <tr>\n",
       "      <th>3377</th>\n",
       "      <td>QCL</td>\n",
       "      <td>Crops and livestock products</td>\n",
       "      <td>150</td>\n",
       "      <td>Netherlands</td>\n",
       "      <td>5321</td>\n",
       "      <td>Producing Animals/Slaughtered</td>\n",
       "      <td>1080</td>\n",
       "      <td>Meat, turkey</td>\n",
       "      <td>2018</td>\n",
       "      <td>2018</td>\n",
       "      <td>1000 Head</td>\n",
       "      <td>0.0</td>\n",
       "      <td>NaN</td>\n",
       "      <td>Official data</td>\n",
       "    </tr>\n",
       "    <tr>\n",
       "      <th>3378</th>\n",
       "      <td>QCL</td>\n",
       "      <td>Crops and livestock products</td>\n",
       "      <td>150</td>\n",
       "      <td>Netherlands</td>\n",
       "      <td>5321</td>\n",
       "      <td>Producing Animals/Slaughtered</td>\n",
       "      <td>1080</td>\n",
       "      <td>Meat, turkey</td>\n",
       "      <td>2019</td>\n",
       "      <td>2019</td>\n",
       "      <td>1000 Head</td>\n",
       "      <td>0.0</td>\n",
       "      <td>NaN</td>\n",
       "      <td>Official data</td>\n",
       "    </tr>\n",
       "    <tr>\n",
       "      <th>3379</th>\n",
       "      <td>QCL</td>\n",
       "      <td>Crops and livestock products</td>\n",
       "      <td>150</td>\n",
       "      <td>Netherlands</td>\n",
       "      <td>5321</td>\n",
       "      <td>Producing Animals/Slaughtered</td>\n",
       "      <td>1080</td>\n",
       "      <td>Meat, turkey</td>\n",
       "      <td>2020</td>\n",
       "      <td>2020</td>\n",
       "      <td>1000 Head</td>\n",
       "      <td>0.0</td>\n",
       "      <td>NaN</td>\n",
       "      <td>Official data</td>\n",
       "    </tr>\n",
       "  </tbody>\n",
       "</table>\n",
       "</div>"
      ],
      "text/plain": [
       "     Domain Code                        Domain  Area Code (FAO)         Area  \\\n",
       "789          QCL  Crops and livestock products               54      Denmark   \n",
       "790          QCL  Crops and livestock products               54      Denmark   \n",
       "791          QCL  Crops and livestock products               54      Denmark   \n",
       "2148         QCL  Crops and livestock products              104      Ireland   \n",
       "2149         QCL  Crops and livestock products              104      Ireland   \n",
       "2150         QCL  Crops and livestock products              104      Ireland   \n",
       "2844         QCL  Crops and livestock products              256   Luxembourg   \n",
       "2845         QCL  Crops and livestock products              256   Luxembourg   \n",
       "2846         QCL  Crops and livestock products              256   Luxembourg   \n",
       "2847         QCL  Crops and livestock products              256   Luxembourg   \n",
       "2848         QCL  Crops and livestock products              256   Luxembourg   \n",
       "2849         QCL  Crops and livestock products              256   Luxembourg   \n",
       "2869         QCL  Crops and livestock products              256   Luxembourg   \n",
       "2870         QCL  Crops and livestock products              256   Luxembourg   \n",
       "2891         QCL  Crops and livestock products              256   Luxembourg   \n",
       "2971         QCL  Crops and livestock products              256   Luxembourg   \n",
       "2972         QCL  Crops and livestock products              256   Luxembourg   \n",
       "2973         QCL  Crops and livestock products              256   Luxembourg   \n",
       "3070         QCL  Crops and livestock products              150  Netherlands   \n",
       "3071         QCL  Crops and livestock products              150  Netherlands   \n",
       "3072         QCL  Crops and livestock products              150  Netherlands   \n",
       "3073         QCL  Crops and livestock products              150  Netherlands   \n",
       "3332         QCL  Crops and livestock products              150  Netherlands   \n",
       "3333         QCL  Crops and livestock products              150  Netherlands   \n",
       "3334         QCL  Crops and livestock products              150  Netherlands   \n",
       "3335         QCL  Crops and livestock products              150  Netherlands   \n",
       "3377         QCL  Crops and livestock products              150  Netherlands   \n",
       "3378         QCL  Crops and livestock products              150  Netherlands   \n",
       "3379         QCL  Crops and livestock products              150  Netherlands   \n",
       "\n",
       "      Element Code                        Element  Item Code (FAO)  \\\n",
       "789           5320  Producing Animals/Slaughtered             1017   \n",
       "790           5320  Producing Animals/Slaughtered             1017   \n",
       "791           5320  Producing Animals/Slaughtered             1017   \n",
       "2148          5320  Producing Animals/Slaughtered             1017   \n",
       "2149          5320  Producing Animals/Slaughtered             1017   \n",
       "2150          5320  Producing Animals/Slaughtered             1017   \n",
       "2844          5321  Producing Animals/Slaughtered             1058   \n",
       "2845          5321  Producing Animals/Slaughtered             1058   \n",
       "2846          5321  Producing Animals/Slaughtered             1058   \n",
       "2847          5321  Producing Animals/Slaughtered             1069   \n",
       "2848          5321  Producing Animals/Slaughtered             1069   \n",
       "2849          5321  Producing Animals/Slaughtered             1069   \n",
       "2869          5320  Producing Animals/Slaughtered             1017   \n",
       "2870          5320  Producing Animals/Slaughtered             1017   \n",
       "2891          5320  Producing Animals/Slaughtered             1097   \n",
       "2971          5321  Producing Animals/Slaughtered             1080   \n",
       "2972          5321  Producing Animals/Slaughtered             1080   \n",
       "2973          5321  Producing Animals/Slaughtered             1080   \n",
       "3070          5321  Producing Animals/Slaughtered             1069   \n",
       "3071          5321  Producing Animals/Slaughtered             1069   \n",
       "3072          5321  Producing Animals/Slaughtered             1069   \n",
       "3073          5321  Producing Animals/Slaughtered             1069   \n",
       "3332          5321  Producing Animals/Slaughtered             1080   \n",
       "3333          5321  Producing Animals/Slaughtered             1080   \n",
       "3334          5321  Producing Animals/Slaughtered             1080   \n",
       "3335          5321  Producing Animals/Slaughtered             1080   \n",
       "3377          5321  Producing Animals/Slaughtered             1080   \n",
       "3378          5321  Producing Animals/Slaughtered             1080   \n",
       "3379          5321  Producing Animals/Slaughtered             1080   \n",
       "\n",
       "               Item  Year Code  Year       Unit  Value Flag Flag Description  \n",
       "789      Meat, goat       2018  2018       Head    0.0  NaN    Official data  \n",
       "790      Meat, goat       2019  2019       Head    0.0  NaN    Official data  \n",
       "791      Meat, goat       2020  2020       Head    0.0  NaN    Official data  \n",
       "2148     Meat, goat       2018  2018       Head    0.0  NaN    Official data  \n",
       "2149     Meat, goat       2019  2019       Head    0.0  NaN    Official data  \n",
       "2150     Meat, goat       2020  2020       Head    0.0  NaN    Official data  \n",
       "2844  Meat, chicken       2018  2018  1000 Head    0.0  NaN    Official data  \n",
       "2845  Meat, chicken       2019  2019  1000 Head    0.0  NaN    Official data  \n",
       "2846  Meat, chicken       2020  2020  1000 Head    0.0  NaN    Official data  \n",
       "2847     Meat, duck       2018  2018  1000 Head    0.0  NaN    Official data  \n",
       "2848     Meat, duck       2019  2019  1000 Head    0.0  NaN    Official data  \n",
       "2849     Meat, duck       2020  2020  1000 Head    0.0  NaN    Official data  \n",
       "2869     Meat, goat       2000  2000       Head    0.0  NaN    Official data  \n",
       "2870     Meat, goat       2001  2001       Head    0.0  NaN    Official data  \n",
       "2891    Meat, horse       2001  2001       Head    0.0  NaN    Official data  \n",
       "2971   Meat, turkey       2018  2018  1000 Head    0.0  NaN    Official data  \n",
       "2972   Meat, turkey       2019  2019  1000 Head    0.0  NaN    Official data  \n",
       "2973   Meat, turkey       2020  2020  1000 Head    0.0  NaN    Official data  \n",
       "3070     Meat, duck       1973  1973  1000 Head    0.0   Fc  Calculated data  \n",
       "3071     Meat, duck       1974  1974  1000 Head    0.0   Fc  Calculated data  \n",
       "3072     Meat, duck       1975  1975  1000 Head    0.0   Fc  Calculated data  \n",
       "3073     Meat, duck       1976  1976  1000 Head    0.0   Fc  Calculated data  \n",
       "3332   Meat, turkey       1973  1973  1000 Head    0.0   Fc  Calculated data  \n",
       "3333   Meat, turkey       1974  1974  1000 Head    0.0   Fc  Calculated data  \n",
       "3334   Meat, turkey       1975  1975  1000 Head    0.0   Fc  Calculated data  \n",
       "3335   Meat, turkey       1976  1976  1000 Head    0.0   Fc  Calculated data  \n",
       "3377   Meat, turkey       2018  2018  1000 Head    0.0  NaN    Official data  \n",
       "3378   Meat, turkey       2019  2019  1000 Head    0.0  NaN    Official data  \n",
       "3379   Meat, turkey       2020  2020  1000 Head    0.0  NaN    Official data  "
      ]
     },
     "execution_count": 107,
     "metadata": {},
     "output_type": "execute_result"
    }
   ],
   "source": [
    "slaughter_miss.head(50)"
   ]
  },
  {
   "cell_type": "code",
   "execution_count": 108,
   "id": "26b7c466",
   "metadata": {
    "ExecuteTime": {
     "end_time": "2022-05-05T13:29:58.488943Z",
     "start_time": "2022-05-05T13:29:58.473944Z"
    }
   },
   "outputs": [
    {
     "data": {
      "text/plain": [
       "array(['Meat, goat', 'Meat, chicken', 'Meat, duck', 'Meat, horse',\n",
       "       'Meat, turkey'], dtype=object)"
      ]
     },
     "execution_count": 108,
     "metadata": {},
     "output_type": "execute_result"
    }
   ],
   "source": [
    "# Investigating if the missing data is at random or not at random by checking if it's specific animal categories or not\n",
    "slaughter_miss.Item.unique()"
   ]
  },
  {
   "cell_type": "code",
   "execution_count": 109,
   "id": "79364e14",
   "metadata": {
    "ExecuteTime": {
     "end_time": "2022-05-05T13:29:58.504941Z",
     "start_time": "2022-05-05T13:29:58.489942Z"
    }
   },
   "outputs": [
    {
     "data": {
      "text/plain": [
       "array([0.])"
      ]
     },
     "execution_count": 109,
     "metadata": {},
     "output_type": "execute_result"
    }
   ],
   "source": [
    "slaughter_miss.Value.unique()"
   ]
  },
  {
   "cell_type": "code",
   "execution_count": 110,
   "id": "0f901a97",
   "metadata": {
    "ExecuteTime": {
     "end_time": "2022-05-05T13:29:58.520941Z",
     "start_time": "2022-05-05T13:29:58.504941Z"
    }
   },
   "outputs": [
    {
     "data": {
      "text/plain": [
       "array(['Denmark', 'Ireland', 'Luxembourg', 'Netherlands'], dtype=object)"
      ]
     },
     "execution_count": 110,
     "metadata": {},
     "output_type": "execute_result"
    }
   ],
   "source": [
    "# Investigating if the missing data is at random or not at random by checking if it's specific country's or not\n",
    "slaughter_miss.Area.unique()"
   ]
  },
  {
   "cell_type": "code",
   "execution_count": 111,
   "id": "a59d4f59",
   "metadata": {
    "ExecuteTime": {
     "end_time": "2022-05-05T13:29:58.536941Z",
     "start_time": "2022-05-05T13:29:58.521943Z"
    }
   },
   "outputs": [
    {
     "data": {
      "text/plain": [
       "array([2018, 2019, 2020, 2000, 2001, 1973, 1974, 1975, 1976], dtype=int64)"
      ]
     },
     "execution_count": 111,
     "metadata": {},
     "output_type": "execute_result"
    }
   ],
   "source": [
    "slaughter_miss.Year.unique()"
   ]
  },
  {
   "cell_type": "markdown",
   "id": "a7e5217a",
   "metadata": {},
   "source": [
    "This shows that the missing data is NOT at random, certain countries did not submit data for certain animal categories on certain years. I will deal with this during data preparation."
   ]
  },
  {
   "cell_type": "markdown",
   "id": "050b2dff",
   "metadata": {},
   "source": [
    "## Meat production data"
   ]
  },
  {
   "cell_type": "code",
   "execution_count": 112,
   "id": "7e884623",
   "metadata": {
    "ExecuteTime": {
     "end_time": "2022-05-05T13:29:58.552943Z",
     "start_time": "2022-05-05T13:29:58.537942Z"
    }
   },
   "outputs": [
    {
     "data": {
      "text/html": [
       "<div>\n",
       "<style scoped>\n",
       "    .dataframe tbody tr th:only-of-type {\n",
       "        vertical-align: middle;\n",
       "    }\n",
       "\n",
       "    .dataframe tbody tr th {\n",
       "        vertical-align: top;\n",
       "    }\n",
       "\n",
       "    .dataframe thead th {\n",
       "        text-align: right;\n",
       "    }\n",
       "</style>\n",
       "<table border=\"1\" class=\"dataframe\">\n",
       "  <thead>\n",
       "    <tr style=\"text-align: right;\">\n",
       "      <th></th>\n",
       "      <th>Domain Code</th>\n",
       "      <th>Domain</th>\n",
       "      <th>Area Code (FAO)</th>\n",
       "      <th>Area</th>\n",
       "      <th>Element Code</th>\n",
       "      <th>Element</th>\n",
       "      <th>Item Code (FAO)</th>\n",
       "      <th>Item</th>\n",
       "      <th>Year Code</th>\n",
       "      <th>Year</th>\n",
       "      <th>Unit</th>\n",
       "      <th>Value</th>\n",
       "      <th>Flag</th>\n",
       "      <th>Flag Description</th>\n",
       "    </tr>\n",
       "  </thead>\n",
       "  <tbody>\n",
       "    <tr>\n",
       "      <th>0</th>\n",
       "      <td>QCL</td>\n",
       "      <td>Crops and livestock products</td>\n",
       "      <td>255</td>\n",
       "      <td>Belgium</td>\n",
       "      <td>5510</td>\n",
       "      <td>Production</td>\n",
       "      <td>867</td>\n",
       "      <td>Meat, cattle</td>\n",
       "      <td>2000</td>\n",
       "      <td>2000</td>\n",
       "      <td>tonnes</td>\n",
       "      <td>275360.0</td>\n",
       "      <td>NaN</td>\n",
       "      <td>Official data</td>\n",
       "    </tr>\n",
       "    <tr>\n",
       "      <th>1</th>\n",
       "      <td>QCL</td>\n",
       "      <td>Crops and livestock products</td>\n",
       "      <td>255</td>\n",
       "      <td>Belgium</td>\n",
       "      <td>5510</td>\n",
       "      <td>Production</td>\n",
       "      <td>867</td>\n",
       "      <td>Meat, cattle</td>\n",
       "      <td>2001</td>\n",
       "      <td>2001</td>\n",
       "      <td>tonnes</td>\n",
       "      <td>285250.0</td>\n",
       "      <td>NaN</td>\n",
       "      <td>Official data</td>\n",
       "    </tr>\n",
       "    <tr>\n",
       "      <th>2</th>\n",
       "      <td>QCL</td>\n",
       "      <td>Crops and livestock products</td>\n",
       "      <td>255</td>\n",
       "      <td>Belgium</td>\n",
       "      <td>5510</td>\n",
       "      <td>Production</td>\n",
       "      <td>867</td>\n",
       "      <td>Meat, cattle</td>\n",
       "      <td>2002</td>\n",
       "      <td>2002</td>\n",
       "      <td>tonnes</td>\n",
       "      <td>305388.0</td>\n",
       "      <td>NaN</td>\n",
       "      <td>Official data</td>\n",
       "    </tr>\n",
       "    <tr>\n",
       "      <th>3</th>\n",
       "      <td>QCL</td>\n",
       "      <td>Crops and livestock products</td>\n",
       "      <td>255</td>\n",
       "      <td>Belgium</td>\n",
       "      <td>5510</td>\n",
       "      <td>Production</td>\n",
       "      <td>867</td>\n",
       "      <td>Meat, cattle</td>\n",
       "      <td>2003</td>\n",
       "      <td>2003</td>\n",
       "      <td>tonnes</td>\n",
       "      <td>275170.0</td>\n",
       "      <td>NaN</td>\n",
       "      <td>Official data</td>\n",
       "    </tr>\n",
       "    <tr>\n",
       "      <th>4</th>\n",
       "      <td>QCL</td>\n",
       "      <td>Crops and livestock products</td>\n",
       "      <td>255</td>\n",
       "      <td>Belgium</td>\n",
       "      <td>5510</td>\n",
       "      <td>Production</td>\n",
       "      <td>867</td>\n",
       "      <td>Meat, cattle</td>\n",
       "      <td>2004</td>\n",
       "      <td>2004</td>\n",
       "      <td>tonnes</td>\n",
       "      <td>280931.0</td>\n",
       "      <td>NaN</td>\n",
       "      <td>Official data</td>\n",
       "    </tr>\n",
       "  </tbody>\n",
       "</table>\n",
       "</div>"
      ],
      "text/plain": [
       "  Domain Code                        Domain  Area Code (FAO)     Area  \\\n",
       "0         QCL  Crops and livestock products              255  Belgium   \n",
       "1         QCL  Crops and livestock products              255  Belgium   \n",
       "2         QCL  Crops and livestock products              255  Belgium   \n",
       "3         QCL  Crops and livestock products              255  Belgium   \n",
       "4         QCL  Crops and livestock products              255  Belgium   \n",
       "\n",
       "   Element Code     Element  Item Code (FAO)          Item  Year Code  Year  \\\n",
       "0          5510  Production              867  Meat, cattle       2000  2000   \n",
       "1          5510  Production              867  Meat, cattle       2001  2001   \n",
       "2          5510  Production              867  Meat, cattle       2002  2002   \n",
       "3          5510  Production              867  Meat, cattle       2003  2003   \n",
       "4          5510  Production              867  Meat, cattle       2004  2004   \n",
       "\n",
       "     Unit     Value Flag Flag Description  \n",
       "0  tonnes  275360.0  NaN    Official data  \n",
       "1  tonnes  285250.0  NaN    Official data  \n",
       "2  tonnes  305388.0  NaN    Official data  \n",
       "3  tonnes  275170.0  NaN    Official data  \n",
       "4  tonnes  280931.0  NaN    Official data  "
      ]
     },
     "execution_count": 112,
     "metadata": {},
     "output_type": "execute_result"
    }
   ],
   "source": [
    "meat.head()"
   ]
  },
  {
   "cell_type": "code",
   "execution_count": 113,
   "id": "783b42d8",
   "metadata": {
    "ExecuteTime": {
     "end_time": "2022-05-05T13:29:58.568941Z",
     "start_time": "2022-05-05T13:29:58.553942Z"
    }
   },
   "outputs": [
    {
     "data": {
      "text/plain": [
       "(3940, 14)"
      ]
     },
     "execution_count": 113,
     "metadata": {},
     "output_type": "execute_result"
    }
   ],
   "source": [
    "meat.shape"
   ]
  },
  {
   "cell_type": "code",
   "execution_count": 114,
   "id": "76c164e0",
   "metadata": {
    "ExecuteTime": {
     "end_time": "2022-05-05T13:29:58.584942Z",
     "start_time": "2022-05-05T13:29:58.569945Z"
    }
   },
   "outputs": [
    {
     "name": "stdout",
     "output_type": "stream",
     "text": [
      "<class 'pandas.core.frame.DataFrame'>\n",
      "RangeIndex: 3940 entries, 0 to 3939\n",
      "Data columns (total 14 columns):\n",
      " #   Column            Non-Null Count  Dtype  \n",
      "---  ------            --------------  -----  \n",
      " 0   Domain Code       3940 non-null   object \n",
      " 1   Domain            3940 non-null   object \n",
      " 2   Area Code (FAO)   3940 non-null   int64  \n",
      " 3   Area              3940 non-null   object \n",
      " 4   Element Code      3940 non-null   int64  \n",
      " 5   Element           3940 non-null   object \n",
      " 6   Item Code (FAO)   3940 non-null   int64  \n",
      " 7   Item              3940 non-null   object \n",
      " 8   Year Code         3940 non-null   int64  \n",
      " 9   Year              3940 non-null   int64  \n",
      " 10  Unit              3940 non-null   object \n",
      " 11  Value             3862 non-null   float64\n",
      " 12  Flag              1298 non-null   object \n",
      " 13  Flag Description  3940 non-null   object \n",
      "dtypes: float64(1), int64(5), object(8)\n",
      "memory usage: 431.1+ KB\n"
     ]
    }
   ],
   "source": [
    "meat.info()"
   ]
  },
  {
   "cell_type": "code",
   "execution_count": 115,
   "id": "da8742de",
   "metadata": {
    "ExecuteTime": {
     "end_time": "2022-05-05T13:29:58.615942Z",
     "start_time": "2022-05-05T13:29:58.585943Z"
    }
   },
   "outputs": [
    {
     "data": {
      "text/html": [
       "<div>\n",
       "<style scoped>\n",
       "    .dataframe tbody tr th:only-of-type {\n",
       "        vertical-align: middle;\n",
       "    }\n",
       "\n",
       "    .dataframe tbody tr th {\n",
       "        vertical-align: top;\n",
       "    }\n",
       "\n",
       "    .dataframe thead th {\n",
       "        text-align: right;\n",
       "    }\n",
       "</style>\n",
       "<table border=\"1\" class=\"dataframe\">\n",
       "  <thead>\n",
       "    <tr style=\"text-align: right;\">\n",
       "      <th></th>\n",
       "      <th>Area Code (FAO)</th>\n",
       "      <th>Element Code</th>\n",
       "      <th>Item Code (FAO)</th>\n",
       "      <th>Year Code</th>\n",
       "      <th>Year</th>\n",
       "      <th>Value</th>\n",
       "    </tr>\n",
       "  </thead>\n",
       "  <tbody>\n",
       "    <tr>\n",
       "      <th>count</th>\n",
       "      <td>3940.000000</td>\n",
       "      <td>3940.0</td>\n",
       "      <td>3940.000000</td>\n",
       "      <td>3940.000000</td>\n",
       "      <td>3940.000000</td>\n",
       "      <td>3.862000e+03</td>\n",
       "    </tr>\n",
       "    <tr>\n",
       "      <th>mean</th>\n",
       "      <td>154.790102</td>\n",
       "      <td>5510.0</td>\n",
       "      <td>1042.574873</td>\n",
       "      <td>1997.820051</td>\n",
       "      <td>1997.820051</td>\n",
       "      <td>1.300366e+06</td>\n",
       "    </tr>\n",
       "    <tr>\n",
       "      <th>std</th>\n",
       "      <td>99.951755</td>\n",
       "      <td>0.0</td>\n",
       "      <td>77.053159</td>\n",
       "      <td>13.754285</td>\n",
       "      <td>13.754285</td>\n",
       "      <td>4.658044e+06</td>\n",
       "    </tr>\n",
       "    <tr>\n",
       "      <th>min</th>\n",
       "      <td>54.000000</td>\n",
       "      <td>5510.0</td>\n",
       "      <td>867.000000</td>\n",
       "      <td>1973.000000</td>\n",
       "      <td>1973.000000</td>\n",
       "      <td>0.000000e+00</td>\n",
       "    </tr>\n",
       "    <tr>\n",
       "      <th>25%</th>\n",
       "      <td>79.000000</td>\n",
       "      <td>5510.0</td>\n",
       "      <td>1017.000000</td>\n",
       "      <td>1986.000000</td>\n",
       "      <td>1986.000000</td>\n",
       "      <td>4.966500e+03</td>\n",
       "    </tr>\n",
       "    <tr>\n",
       "      <th>50%</th>\n",
       "      <td>106.000000</td>\n",
       "      <td>5510.0</td>\n",
       "      <td>1058.000000</td>\n",
       "      <td>1999.000000</td>\n",
       "      <td>1999.000000</td>\n",
       "      <td>6.400000e+04</td>\n",
       "    </tr>\n",
       "    <tr>\n",
       "      <th>75%</th>\n",
       "      <td>231.000000</td>\n",
       "      <td>5510.0</td>\n",
       "      <td>1080.000000</td>\n",
       "      <td>2010.000000</td>\n",
       "      <td>2010.000000</td>\n",
       "      <td>6.888240e+05</td>\n",
       "    </tr>\n",
       "    <tr>\n",
       "      <th>max</th>\n",
       "      <td>351.000000</td>\n",
       "      <td>5510.0</td>\n",
       "      <td>1163.000000</td>\n",
       "      <td>2020.000000</td>\n",
       "      <td>2020.000000</td>\n",
       "      <td>5.766187e+07</td>\n",
       "    </tr>\n",
       "  </tbody>\n",
       "</table>\n",
       "</div>"
      ],
      "text/plain": [
       "       Area Code (FAO)  Element Code  Item Code (FAO)    Year Code  \\\n",
       "count      3940.000000        3940.0      3940.000000  3940.000000   \n",
       "mean        154.790102        5510.0      1042.574873  1997.820051   \n",
       "std          99.951755           0.0        77.053159    13.754285   \n",
       "min          54.000000        5510.0       867.000000  1973.000000   \n",
       "25%          79.000000        5510.0      1017.000000  1986.000000   \n",
       "50%         106.000000        5510.0      1058.000000  1999.000000   \n",
       "75%         231.000000        5510.0      1080.000000  2010.000000   \n",
       "max         351.000000        5510.0      1163.000000  2020.000000   \n",
       "\n",
       "              Year         Value  \n",
       "count  3940.000000  3.862000e+03  \n",
       "mean   1997.820051  1.300366e+06  \n",
       "std      13.754285  4.658044e+06  \n",
       "min    1973.000000  0.000000e+00  \n",
       "25%    1986.000000  4.966500e+03  \n",
       "50%    1999.000000  6.400000e+04  \n",
       "75%    2010.000000  6.888240e+05  \n",
       "max    2020.000000  5.766187e+07  "
      ]
     },
     "execution_count": 115,
     "metadata": {},
     "output_type": "execute_result"
    }
   ],
   "source": [
    "meat.describe()"
   ]
  },
  {
   "cell_type": "markdown",
   "id": "12f1f30a",
   "metadata": {},
   "source": [
    "The data is in its current layout is not suitable for statistical analysis as each country is a row.\n",
    "I need to melt the data so that the values for each country are in a column item type."
   ]
  },
  {
   "cell_type": "code",
   "execution_count": 116,
   "id": "d5f78d67",
   "metadata": {
    "ExecuteTime": {
     "end_time": "2022-05-05T13:29:58.630935Z",
     "start_time": "2022-05-05T13:29:58.616942Z"
    }
   },
   "outputs": [
    {
     "data": {
      "text/plain": [
       "array(['Meat, cattle', 'Meat, chicken', 'Meat, duck', 'Meat, goat',\n",
       "       'Meat, horse', 'Meat, pig', 'Meat, sheep', 'Meat, turkey',\n",
       "       'Meat, game', 'Meat, goose and guinea fowl', 'Meat, rabbit'],\n",
       "      dtype=object)"
      ]
     },
     "execution_count": 116,
     "metadata": {},
     "output_type": "execute_result"
    }
   ],
   "source": [
    "meat.Item.unique()"
   ]
  },
  {
   "cell_type": "markdown",
   "id": "7ba0a2c0",
   "metadata": {},
   "source": [
    "There are 11 animal categories in the production data. I can remove the repetition from these item categories when I clean the data"
   ]
  },
  {
   "cell_type": "code",
   "execution_count": 117,
   "id": "c385c662",
   "metadata": {
    "ExecuteTime": {
     "end_time": "2022-05-05T13:29:58.645941Z",
     "start_time": "2022-05-05T13:29:58.631944Z"
    }
   },
   "outputs": [
    {
     "data": {
      "text/plain": [
       "array(['Belgium', 'China', 'Denmark', 'France', 'Germany', 'Ireland',\n",
       "       'Italy', 'Luxembourg', 'Netherlands', 'United States of America'],\n",
       "      dtype=object)"
      ]
     },
     "execution_count": 117,
     "metadata": {},
     "output_type": "execute_result"
    }
   ],
   "source": [
    "meat.Area.unique()"
   ]
  },
  {
   "cell_type": "markdown",
   "id": "47ed5013",
   "metadata": {},
   "source": [
    "As above:\n",
    "\n",
    "The dataset contains 8 EU countries Belgium, Denmark, France, Germany, Luxembourg, Ireland, Italy and the Netherlands. All of these countries have been member states since at least Jan 1st 1973.\n",
    "\n",
    "Belgium, France, Germany, Luxembourg, Italy and the Netherlands founded the EU in 1957 with Ireland and Denmark Joining on the 1st January 1973.\n",
    "\n",
    "Therefore, to ensure data comparability between these countries and the US and China, I limited the datasets time frame from 1st January 1973 to 31st December 2020 (most recent data available). This ensures that all European countries were member states of the EU at the time of analysis. \n",
    "\n",
    "We can confirm this as follows"
   ]
  },
  {
   "cell_type": "code",
   "execution_count": 118,
   "id": "573dd856",
   "metadata": {
    "ExecuteTime": {
     "end_time": "2022-05-05T13:29:58.660934Z",
     "start_time": "2022-05-05T13:29:58.648950Z"
    }
   },
   "outputs": [
    {
     "data": {
      "text/plain": [
       "array([2000, 2001, 2002, 2003, 2004, 2005, 2006, 2007, 2008, 2009, 2010,\n",
       "       2011, 2012, 2013, 2014, 2015, 2016, 2017, 2018, 2019, 2020, 1973,\n",
       "       1974, 1975, 1976, 1977, 1978, 1979, 1980, 1981, 1982, 1983, 1984,\n",
       "       1985, 1986, 1987, 1988, 1989, 1990, 1991, 1992, 1993, 1994, 1995,\n",
       "       1996, 1997, 1998, 1999], dtype=int64)"
      ]
     },
     "execution_count": 118,
     "metadata": {},
     "output_type": "execute_result"
    }
   ],
   "source": [
    "meat.Year.unique()"
   ]
  },
  {
   "cell_type": "code",
   "execution_count": 119,
   "id": "32945c12",
   "metadata": {
    "ExecuteTime": {
     "end_time": "2022-05-05T13:29:58.676933Z",
     "start_time": "2022-05-05T13:29:58.661937Z"
    }
   },
   "outputs": [
    {
     "name": "stdout",
     "output_type": "stream",
     "text": [
      "The earliest year in the dataset is 1973 and the maximum year is 2020\n"
     ]
    }
   ],
   "source": [
    "print(f\"The earliest year in the dataset is {meat.Year.min()} and the maximum year is {meat.Year.max()}\")"
   ]
  },
  {
   "cell_type": "markdown",
   "id": "cef83471",
   "metadata": {},
   "source": [
    "Next we can observe what units the meat production data has been recorded in"
   ]
  },
  {
   "cell_type": "code",
   "execution_count": 120,
   "id": "5a2b283c",
   "metadata": {
    "ExecuteTime": {
     "end_time": "2022-05-05T13:29:58.691942Z",
     "start_time": "2022-05-05T13:29:58.677944Z"
    }
   },
   "outputs": [
    {
     "data": {
      "text/plain": [
       "array(['tonnes'], dtype=object)"
      ]
     },
     "execution_count": 120,
     "metadata": {},
     "output_type": "execute_result"
    }
   ],
   "source": [
    "meat.Unit.unique()"
   ]
  },
  {
   "cell_type": "markdown",
   "id": "4dbb36d7",
   "metadata": {},
   "source": [
    "Production data units have been reported in \"tonnes\"."
   ]
  },
  {
   "cell_type": "code",
   "execution_count": 121,
   "id": "0ea3d89e",
   "metadata": {
    "ExecuteTime": {
     "end_time": "2022-05-05T13:29:58.706943Z",
     "start_time": "2022-05-05T13:29:58.691942Z"
    }
   },
   "outputs": [
    {
     "data": {
      "text/plain": [
       "array(['Production'], dtype=object)"
      ]
     },
     "execution_count": 121,
     "metadata": {},
     "output_type": "execute_result"
    }
   ],
   "source": [
    "meat.Element.unique()"
   ]
  },
  {
   "cell_type": "markdown",
   "id": "3e3b9b08",
   "metadata": {},
   "source": [
    "All livestock in this dataset is at production."
   ]
  },
  {
   "cell_type": "markdown",
   "id": "8208211a",
   "metadata": {},
   "source": [
    "Checking for null values"
   ]
  },
  {
   "cell_type": "code",
   "execution_count": 122,
   "id": "d746f921",
   "metadata": {
    "ExecuteTime": {
     "end_time": "2022-05-05T13:29:58.722941Z",
     "start_time": "2022-05-05T13:29:58.707955Z"
    },
    "scrolled": true
   },
   "outputs": [
    {
     "data": {
      "text/plain": [
       "Domain Code            0\n",
       "Domain                 0\n",
       "Area Code (FAO)        0\n",
       "Area                   0\n",
       "Element Code           0\n",
       "Element                0\n",
       "Item Code (FAO)        0\n",
       "Item                   0\n",
       "Year Code              0\n",
       "Year                   0\n",
       "Unit                   0\n",
       "Value                 78\n",
       "Flag                2642\n",
       "Flag Description       0\n",
       "dtype: int64"
      ]
     },
     "execution_count": 122,
     "metadata": {},
     "output_type": "execute_result"
    }
   ],
   "source": [
    "meat.isnull().sum()"
   ]
  },
  {
   "cell_type": "code",
   "execution_count": 123,
   "id": "a413c2ef",
   "metadata": {
    "ExecuteTime": {
     "end_time": "2022-05-05T13:29:58.738941Z",
     "start_time": "2022-05-05T13:29:58.723949Z"
    }
   },
   "outputs": [
    {
     "name": "stdout",
     "output_type": "stream",
     "text": [
      "The percentage of missing values is:\n",
      "Domain Code          0.00\n",
      "Domain               0.00\n",
      "Area Code (FAO)      0.00\n",
      "Area                 0.00\n",
      "Element Code         0.00\n",
      "Element              0.00\n",
      "Item Code (FAO)      0.00\n",
      "Item                 0.00\n",
      "Year Code            0.00\n",
      "Year                 0.00\n",
      "Unit                 0.00\n",
      "Value                1.98\n",
      "Flag                67.06\n",
      "Flag Description     0.00\n",
      "dtype: float64\n"
     ]
    }
   ],
   "source": [
    "calc_percent_missing(meat.isnull().sum(), len(meat))"
   ]
  },
  {
   "cell_type": "markdown",
   "id": "a426c327",
   "metadata": {
    "ExecuteTime": {
     "end_time": "2022-05-04T12:32:35.976056Z",
     "start_time": "2022-05-04T12:32:35.961016Z"
    }
   },
   "source": [
    "There are missing values in the \"Value\" and \"Flag\" columns.  The flag column is not important to our data analysis\n",
    "so I can remove this during data preparation. However, the value column requires further investigation. We can test if these values are missing at random or not at random by filtering the values that are NaN or 0"
   ]
  },
  {
   "cell_type": "code",
   "execution_count": 124,
   "id": "cb2a46d5",
   "metadata": {
    "ExecuteTime": {
     "end_time": "2022-05-05T13:29:58.754942Z",
     "start_time": "2022-05-05T13:29:58.739943Z"
    }
   },
   "outputs": [],
   "source": [
    "# Creating a data frame of missing meat production\n",
    "meat_miss = meat.loc[(meat['Value'] == meat.Value.isnull())]"
   ]
  },
  {
   "cell_type": "code",
   "execution_count": 125,
   "id": "4849803d",
   "metadata": {
    "ExecuteTime": {
     "end_time": "2022-05-05T13:29:58.770946Z",
     "start_time": "2022-05-05T13:29:58.755942Z"
    }
   },
   "outputs": [
    {
     "data": {
      "text/html": [
       "<div>\n",
       "<style scoped>\n",
       "    .dataframe tbody tr th:only-of-type {\n",
       "        vertical-align: middle;\n",
       "    }\n",
       "\n",
       "    .dataframe tbody tr th {\n",
       "        vertical-align: top;\n",
       "    }\n",
       "\n",
       "    .dataframe thead th {\n",
       "        text-align: right;\n",
       "    }\n",
       "</style>\n",
       "<table border=\"1\" class=\"dataframe\">\n",
       "  <thead>\n",
       "    <tr style=\"text-align: right;\">\n",
       "      <th></th>\n",
       "      <th>Domain Code</th>\n",
       "      <th>Domain</th>\n",
       "      <th>Area Code (FAO)</th>\n",
       "      <th>Area</th>\n",
       "      <th>Element Code</th>\n",
       "      <th>Element</th>\n",
       "      <th>Item Code (FAO)</th>\n",
       "      <th>Item</th>\n",
       "      <th>Year Code</th>\n",
       "      <th>Year</th>\n",
       "      <th>Unit</th>\n",
       "      <th>Value</th>\n",
       "      <th>Flag</th>\n",
       "      <th>Flag Description</th>\n",
       "    </tr>\n",
       "  </thead>\n",
       "  <tbody>\n",
       "    <tr>\n",
       "      <th>883</th>\n",
       "      <td>QCL</td>\n",
       "      <td>Crops and livestock products</td>\n",
       "      <td>54</td>\n",
       "      <td>Denmark</td>\n",
       "      <td>5510</td>\n",
       "      <td>Production</td>\n",
       "      <td>1017</td>\n",
       "      <td>Meat, goat</td>\n",
       "      <td>2018</td>\n",
       "      <td>2018</td>\n",
       "      <td>tonnes</td>\n",
       "      <td>0.0</td>\n",
       "      <td>NaN</td>\n",
       "      <td>Official data</td>\n",
       "    </tr>\n",
       "    <tr>\n",
       "      <th>884</th>\n",
       "      <td>QCL</td>\n",
       "      <td>Crops and livestock products</td>\n",
       "      <td>54</td>\n",
       "      <td>Denmark</td>\n",
       "      <td>5510</td>\n",
       "      <td>Production</td>\n",
       "      <td>1017</td>\n",
       "      <td>Meat, goat</td>\n",
       "      <td>2019</td>\n",
       "      <td>2019</td>\n",
       "      <td>tonnes</td>\n",
       "      <td>0.0</td>\n",
       "      <td>NaN</td>\n",
       "      <td>Official data</td>\n",
       "    </tr>\n",
       "    <tr>\n",
       "      <th>885</th>\n",
       "      <td>QCL</td>\n",
       "      <td>Crops and livestock products</td>\n",
       "      <td>54</td>\n",
       "      <td>Denmark</td>\n",
       "      <td>5510</td>\n",
       "      <td>Production</td>\n",
       "      <td>1017</td>\n",
       "      <td>Meat, goat</td>\n",
       "      <td>2020</td>\n",
       "      <td>2020</td>\n",
       "      <td>tonnes</td>\n",
       "      <td>0.0</td>\n",
       "      <td>NaN</td>\n",
       "      <td>Official data</td>\n",
       "    </tr>\n",
       "    <tr>\n",
       "      <th>1151</th>\n",
       "      <td>QCL</td>\n",
       "      <td>Crops and livestock products</td>\n",
       "      <td>54</td>\n",
       "      <td>Denmark</td>\n",
       "      <td>5510</td>\n",
       "      <td>Production</td>\n",
       "      <td>1080</td>\n",
       "      <td>Meat, turkey</td>\n",
       "      <td>2018</td>\n",
       "      <td>2018</td>\n",
       "      <td>tonnes</td>\n",
       "      <td>0.0</td>\n",
       "      <td>NaN</td>\n",
       "      <td>Official data</td>\n",
       "    </tr>\n",
       "    <tr>\n",
       "      <th>1152</th>\n",
       "      <td>QCL</td>\n",
       "      <td>Crops and livestock products</td>\n",
       "      <td>54</td>\n",
       "      <td>Denmark</td>\n",
       "      <td>5510</td>\n",
       "      <td>Production</td>\n",
       "      <td>1080</td>\n",
       "      <td>Meat, turkey</td>\n",
       "      <td>2019</td>\n",
       "      <td>2019</td>\n",
       "      <td>tonnes</td>\n",
       "      <td>0.0</td>\n",
       "      <td>NaN</td>\n",
       "      <td>Official data</td>\n",
       "    </tr>\n",
       "    <tr>\n",
       "      <th>1153</th>\n",
       "      <td>QCL</td>\n",
       "      <td>Crops and livestock products</td>\n",
       "      <td>54</td>\n",
       "      <td>Denmark</td>\n",
       "      <td>5510</td>\n",
       "      <td>Production</td>\n",
       "      <td>1080</td>\n",
       "      <td>Meat, turkey</td>\n",
       "      <td>2020</td>\n",
       "      <td>2020</td>\n",
       "      <td>tonnes</td>\n",
       "      <td>0.0</td>\n",
       "      <td>NaN</td>\n",
       "      <td>Official data</td>\n",
       "    </tr>\n",
       "    <tr>\n",
       "      <th>1862</th>\n",
       "      <td>QCL</td>\n",
       "      <td>Crops and livestock products</td>\n",
       "      <td>79</td>\n",
       "      <td>Germany</td>\n",
       "      <td>5510</td>\n",
       "      <td>Production</td>\n",
       "      <td>1017</td>\n",
       "      <td>Meat, goat</td>\n",
       "      <td>2018</td>\n",
       "      <td>2018</td>\n",
       "      <td>tonnes</td>\n",
       "      <td>0.0</td>\n",
       "      <td>NaN</td>\n",
       "      <td>Official data</td>\n",
       "    </tr>\n",
       "    <tr>\n",
       "      <th>1863</th>\n",
       "      <td>QCL</td>\n",
       "      <td>Crops and livestock products</td>\n",
       "      <td>79</td>\n",
       "      <td>Germany</td>\n",
       "      <td>5510</td>\n",
       "      <td>Production</td>\n",
       "      <td>1017</td>\n",
       "      <td>Meat, goat</td>\n",
       "      <td>2019</td>\n",
       "      <td>2019</td>\n",
       "      <td>tonnes</td>\n",
       "      <td>0.0</td>\n",
       "      <td>NaN</td>\n",
       "      <td>Official data</td>\n",
       "    </tr>\n",
       "    <tr>\n",
       "      <th>1864</th>\n",
       "      <td>QCL</td>\n",
       "      <td>Crops and livestock products</td>\n",
       "      <td>79</td>\n",
       "      <td>Germany</td>\n",
       "      <td>5510</td>\n",
       "      <td>Production</td>\n",
       "      <td>1017</td>\n",
       "      <td>Meat, goat</td>\n",
       "      <td>2020</td>\n",
       "      <td>2020</td>\n",
       "      <td>tonnes</td>\n",
       "      <td>0.0</td>\n",
       "      <td>NaN</td>\n",
       "      <td>Official data</td>\n",
       "    </tr>\n",
       "    <tr>\n",
       "      <th>2293</th>\n",
       "      <td>QCL</td>\n",
       "      <td>Crops and livestock products</td>\n",
       "      <td>104</td>\n",
       "      <td>Ireland</td>\n",
       "      <td>5510</td>\n",
       "      <td>Production</td>\n",
       "      <td>1017</td>\n",
       "      <td>Meat, goat</td>\n",
       "      <td>2018</td>\n",
       "      <td>2018</td>\n",
       "      <td>tonnes</td>\n",
       "      <td>0.0</td>\n",
       "      <td>NaN</td>\n",
       "      <td>Official data</td>\n",
       "    </tr>\n",
       "    <tr>\n",
       "      <th>2294</th>\n",
       "      <td>QCL</td>\n",
       "      <td>Crops and livestock products</td>\n",
       "      <td>104</td>\n",
       "      <td>Ireland</td>\n",
       "      <td>5510</td>\n",
       "      <td>Production</td>\n",
       "      <td>1017</td>\n",
       "      <td>Meat, goat</td>\n",
       "      <td>2019</td>\n",
       "      <td>2019</td>\n",
       "      <td>tonnes</td>\n",
       "      <td>0.0</td>\n",
       "      <td>NaN</td>\n",
       "      <td>Official data</td>\n",
       "    </tr>\n",
       "    <tr>\n",
       "      <th>2295</th>\n",
       "      <td>QCL</td>\n",
       "      <td>Crops and livestock products</td>\n",
       "      <td>104</td>\n",
       "      <td>Ireland</td>\n",
       "      <td>5510</td>\n",
       "      <td>Production</td>\n",
       "      <td>1017</td>\n",
       "      <td>Meat, goat</td>\n",
       "      <td>2020</td>\n",
       "      <td>2020</td>\n",
       "      <td>tonnes</td>\n",
       "      <td>0.0</td>\n",
       "      <td>NaN</td>\n",
       "      <td>Official data</td>\n",
       "    </tr>\n",
       "    <tr>\n",
       "      <th>2987</th>\n",
       "      <td>QCL</td>\n",
       "      <td>Crops and livestock products</td>\n",
       "      <td>256</td>\n",
       "      <td>Luxembourg</td>\n",
       "      <td>5510</td>\n",
       "      <td>Production</td>\n",
       "      <td>1058</td>\n",
       "      <td>Meat, chicken</td>\n",
       "      <td>2018</td>\n",
       "      <td>2018</td>\n",
       "      <td>tonnes</td>\n",
       "      <td>0.0</td>\n",
       "      <td>NaN</td>\n",
       "      <td>Official data</td>\n",
       "    </tr>\n",
       "    <tr>\n",
       "      <th>2988</th>\n",
       "      <td>QCL</td>\n",
       "      <td>Crops and livestock products</td>\n",
       "      <td>256</td>\n",
       "      <td>Luxembourg</td>\n",
       "      <td>5510</td>\n",
       "      <td>Production</td>\n",
       "      <td>1058</td>\n",
       "      <td>Meat, chicken</td>\n",
       "      <td>2019</td>\n",
       "      <td>2019</td>\n",
       "      <td>tonnes</td>\n",
       "      <td>0.0</td>\n",
       "      <td>NaN</td>\n",
       "      <td>Official data</td>\n",
       "    </tr>\n",
       "    <tr>\n",
       "      <th>2989</th>\n",
       "      <td>QCL</td>\n",
       "      <td>Crops and livestock products</td>\n",
       "      <td>256</td>\n",
       "      <td>Luxembourg</td>\n",
       "      <td>5510</td>\n",
       "      <td>Production</td>\n",
       "      <td>1058</td>\n",
       "      <td>Meat, chicken</td>\n",
       "      <td>2020</td>\n",
       "      <td>2020</td>\n",
       "      <td>tonnes</td>\n",
       "      <td>0.0</td>\n",
       "      <td>NaN</td>\n",
       "      <td>Official data</td>\n",
       "    </tr>\n",
       "    <tr>\n",
       "      <th>2990</th>\n",
       "      <td>QCL</td>\n",
       "      <td>Crops and livestock products</td>\n",
       "      <td>256</td>\n",
       "      <td>Luxembourg</td>\n",
       "      <td>5510</td>\n",
       "      <td>Production</td>\n",
       "      <td>1069</td>\n",
       "      <td>Meat, duck</td>\n",
       "      <td>2018</td>\n",
       "      <td>2018</td>\n",
       "      <td>tonnes</td>\n",
       "      <td>0.0</td>\n",
       "      <td>NaN</td>\n",
       "      <td>Official data</td>\n",
       "    </tr>\n",
       "    <tr>\n",
       "      <th>2991</th>\n",
       "      <td>QCL</td>\n",
       "      <td>Crops and livestock products</td>\n",
       "      <td>256</td>\n",
       "      <td>Luxembourg</td>\n",
       "      <td>5510</td>\n",
       "      <td>Production</td>\n",
       "      <td>1069</td>\n",
       "      <td>Meat, duck</td>\n",
       "      <td>2019</td>\n",
       "      <td>2019</td>\n",
       "      <td>tonnes</td>\n",
       "      <td>0.0</td>\n",
       "      <td>NaN</td>\n",
       "      <td>Official data</td>\n",
       "    </tr>\n",
       "    <tr>\n",
       "      <th>2992</th>\n",
       "      <td>QCL</td>\n",
       "      <td>Crops and livestock products</td>\n",
       "      <td>256</td>\n",
       "      <td>Luxembourg</td>\n",
       "      <td>5510</td>\n",
       "      <td>Production</td>\n",
       "      <td>1069</td>\n",
       "      <td>Meat, duck</td>\n",
       "      <td>2020</td>\n",
       "      <td>2020</td>\n",
       "      <td>tonnes</td>\n",
       "      <td>0.0</td>\n",
       "      <td>NaN</td>\n",
       "      <td>Official data</td>\n",
       "    </tr>\n",
       "    <tr>\n",
       "      <th>3012</th>\n",
       "      <td>QCL</td>\n",
       "      <td>Crops and livestock products</td>\n",
       "      <td>256</td>\n",
       "      <td>Luxembourg</td>\n",
       "      <td>5510</td>\n",
       "      <td>Production</td>\n",
       "      <td>1017</td>\n",
       "      <td>Meat, goat</td>\n",
       "      <td>2000</td>\n",
       "      <td>2000</td>\n",
       "      <td>tonnes</td>\n",
       "      <td>0.0</td>\n",
       "      <td>NaN</td>\n",
       "      <td>Official data</td>\n",
       "    </tr>\n",
       "    <tr>\n",
       "      <th>3013</th>\n",
       "      <td>QCL</td>\n",
       "      <td>Crops and livestock products</td>\n",
       "      <td>256</td>\n",
       "      <td>Luxembourg</td>\n",
       "      <td>5510</td>\n",
       "      <td>Production</td>\n",
       "      <td>1017</td>\n",
       "      <td>Meat, goat</td>\n",
       "      <td>2001</td>\n",
       "      <td>2001</td>\n",
       "      <td>tonnes</td>\n",
       "      <td>0.0</td>\n",
       "      <td>NaN</td>\n",
       "      <td>Official data</td>\n",
       "    </tr>\n",
       "    <tr>\n",
       "      <th>3030</th>\n",
       "      <td>QCL</td>\n",
       "      <td>Crops and livestock products</td>\n",
       "      <td>256</td>\n",
       "      <td>Luxembourg</td>\n",
       "      <td>5510</td>\n",
       "      <td>Production</td>\n",
       "      <td>1017</td>\n",
       "      <td>Meat, goat</td>\n",
       "      <td>2018</td>\n",
       "      <td>2018</td>\n",
       "      <td>tonnes</td>\n",
       "      <td>0.0</td>\n",
       "      <td>NaN</td>\n",
       "      <td>Official data</td>\n",
       "    </tr>\n",
       "    <tr>\n",
       "      <th>3031</th>\n",
       "      <td>QCL</td>\n",
       "      <td>Crops and livestock products</td>\n",
       "      <td>256</td>\n",
       "      <td>Luxembourg</td>\n",
       "      <td>5510</td>\n",
       "      <td>Production</td>\n",
       "      <td>1017</td>\n",
       "      <td>Meat, goat</td>\n",
       "      <td>2019</td>\n",
       "      <td>2019</td>\n",
       "      <td>tonnes</td>\n",
       "      <td>0.0</td>\n",
       "      <td>NaN</td>\n",
       "      <td>Official data</td>\n",
       "    </tr>\n",
       "    <tr>\n",
       "      <th>3032</th>\n",
       "      <td>QCL</td>\n",
       "      <td>Crops and livestock products</td>\n",
       "      <td>256</td>\n",
       "      <td>Luxembourg</td>\n",
       "      <td>5510</td>\n",
       "      <td>Production</td>\n",
       "      <td>1017</td>\n",
       "      <td>Meat, goat</td>\n",
       "      <td>2020</td>\n",
       "      <td>2020</td>\n",
       "      <td>tonnes</td>\n",
       "      <td>0.0</td>\n",
       "      <td>NaN</td>\n",
       "      <td>Official data</td>\n",
       "    </tr>\n",
       "    <tr>\n",
       "      <th>3034</th>\n",
       "      <td>QCL</td>\n",
       "      <td>Crops and livestock products</td>\n",
       "      <td>256</td>\n",
       "      <td>Luxembourg</td>\n",
       "      <td>5510</td>\n",
       "      <td>Production</td>\n",
       "      <td>1097</td>\n",
       "      <td>Meat, horse</td>\n",
       "      <td>2001</td>\n",
       "      <td>2001</td>\n",
       "      <td>tonnes</td>\n",
       "      <td>0.0</td>\n",
       "      <td>NaN</td>\n",
       "      <td>Official data</td>\n",
       "    </tr>\n",
       "    <tr>\n",
       "      <th>3114</th>\n",
       "      <td>QCL</td>\n",
       "      <td>Crops and livestock products</td>\n",
       "      <td>256</td>\n",
       "      <td>Luxembourg</td>\n",
       "      <td>5510</td>\n",
       "      <td>Production</td>\n",
       "      <td>1080</td>\n",
       "      <td>Meat, turkey</td>\n",
       "      <td>2018</td>\n",
       "      <td>2018</td>\n",
       "      <td>tonnes</td>\n",
       "      <td>0.0</td>\n",
       "      <td>NaN</td>\n",
       "      <td>Official data</td>\n",
       "    </tr>\n",
       "    <tr>\n",
       "      <th>3115</th>\n",
       "      <td>QCL</td>\n",
       "      <td>Crops and livestock products</td>\n",
       "      <td>256</td>\n",
       "      <td>Luxembourg</td>\n",
       "      <td>5510</td>\n",
       "      <td>Production</td>\n",
       "      <td>1080</td>\n",
       "      <td>Meat, turkey</td>\n",
       "      <td>2019</td>\n",
       "      <td>2019</td>\n",
       "      <td>tonnes</td>\n",
       "      <td>0.0</td>\n",
       "      <td>NaN</td>\n",
       "      <td>Official data</td>\n",
       "    </tr>\n",
       "    <tr>\n",
       "      <th>3116</th>\n",
       "      <td>QCL</td>\n",
       "      <td>Crops and livestock products</td>\n",
       "      <td>256</td>\n",
       "      <td>Luxembourg</td>\n",
       "      <td>5510</td>\n",
       "      <td>Production</td>\n",
       "      <td>1080</td>\n",
       "      <td>Meat, turkey</td>\n",
       "      <td>2020</td>\n",
       "      <td>2020</td>\n",
       "      <td>tonnes</td>\n",
       "      <td>0.0</td>\n",
       "      <td>NaN</td>\n",
       "      <td>Official data</td>\n",
       "    </tr>\n",
       "    <tr>\n",
       "      <th>3261</th>\n",
       "      <td>QCL</td>\n",
       "      <td>Crops and livestock products</td>\n",
       "      <td>150</td>\n",
       "      <td>Netherlands</td>\n",
       "      <td>5510</td>\n",
       "      <td>Production</td>\n",
       "      <td>1163</td>\n",
       "      <td>Meat, game</td>\n",
       "      <td>1986</td>\n",
       "      <td>1986</td>\n",
       "      <td>tonnes</td>\n",
       "      <td>0.0</td>\n",
       "      <td>F</td>\n",
       "      <td>FAO estimate</td>\n",
       "    </tr>\n",
       "    <tr>\n",
       "      <th>3279</th>\n",
       "      <td>QCL</td>\n",
       "      <td>Crops and livestock products</td>\n",
       "      <td>150</td>\n",
       "      <td>Netherlands</td>\n",
       "      <td>5510</td>\n",
       "      <td>Production</td>\n",
       "      <td>1163</td>\n",
       "      <td>Meat, game</td>\n",
       "      <td>2005</td>\n",
       "      <td>2005</td>\n",
       "      <td>tonnes</td>\n",
       "      <td>0.0</td>\n",
       "      <td>F</td>\n",
       "      <td>FAO estimate</td>\n",
       "    </tr>\n",
       "    <tr>\n",
       "      <th>3523</th>\n",
       "      <td>QCL</td>\n",
       "      <td>Crops and livestock products</td>\n",
       "      <td>150</td>\n",
       "      <td>Netherlands</td>\n",
       "      <td>5510</td>\n",
       "      <td>Production</td>\n",
       "      <td>1080</td>\n",
       "      <td>Meat, turkey</td>\n",
       "      <td>2018</td>\n",
       "      <td>2018</td>\n",
       "      <td>tonnes</td>\n",
       "      <td>0.0</td>\n",
       "      <td>NaN</td>\n",
       "      <td>Official data</td>\n",
       "    </tr>\n",
       "    <tr>\n",
       "      <th>3524</th>\n",
       "      <td>QCL</td>\n",
       "      <td>Crops and livestock products</td>\n",
       "      <td>150</td>\n",
       "      <td>Netherlands</td>\n",
       "      <td>5510</td>\n",
       "      <td>Production</td>\n",
       "      <td>1080</td>\n",
       "      <td>Meat, turkey</td>\n",
       "      <td>2019</td>\n",
       "      <td>2019</td>\n",
       "      <td>tonnes</td>\n",
       "      <td>0.0</td>\n",
       "      <td>NaN</td>\n",
       "      <td>Official data</td>\n",
       "    </tr>\n",
       "    <tr>\n",
       "      <th>3525</th>\n",
       "      <td>QCL</td>\n",
       "      <td>Crops and livestock products</td>\n",
       "      <td>150</td>\n",
       "      <td>Netherlands</td>\n",
       "      <td>5510</td>\n",
       "      <td>Production</td>\n",
       "      <td>1080</td>\n",
       "      <td>Meat, turkey</td>\n",
       "      <td>2020</td>\n",
       "      <td>2020</td>\n",
       "      <td>tonnes</td>\n",
       "      <td>0.0</td>\n",
       "      <td>NaN</td>\n",
       "      <td>Official data</td>\n",
       "    </tr>\n",
       "  </tbody>\n",
       "</table>\n",
       "</div>"
      ],
      "text/plain": [
       "     Domain Code                        Domain  Area Code (FAO)         Area  \\\n",
       "883          QCL  Crops and livestock products               54      Denmark   \n",
       "884          QCL  Crops and livestock products               54      Denmark   \n",
       "885          QCL  Crops and livestock products               54      Denmark   \n",
       "1151         QCL  Crops and livestock products               54      Denmark   \n",
       "1152         QCL  Crops and livestock products               54      Denmark   \n",
       "1153         QCL  Crops and livestock products               54      Denmark   \n",
       "1862         QCL  Crops and livestock products               79      Germany   \n",
       "1863         QCL  Crops and livestock products               79      Germany   \n",
       "1864         QCL  Crops and livestock products               79      Germany   \n",
       "2293         QCL  Crops and livestock products              104      Ireland   \n",
       "2294         QCL  Crops and livestock products              104      Ireland   \n",
       "2295         QCL  Crops and livestock products              104      Ireland   \n",
       "2987         QCL  Crops and livestock products              256   Luxembourg   \n",
       "2988         QCL  Crops and livestock products              256   Luxembourg   \n",
       "2989         QCL  Crops and livestock products              256   Luxembourg   \n",
       "2990         QCL  Crops and livestock products              256   Luxembourg   \n",
       "2991         QCL  Crops and livestock products              256   Luxembourg   \n",
       "2992         QCL  Crops and livestock products              256   Luxembourg   \n",
       "3012         QCL  Crops and livestock products              256   Luxembourg   \n",
       "3013         QCL  Crops and livestock products              256   Luxembourg   \n",
       "3030         QCL  Crops and livestock products              256   Luxembourg   \n",
       "3031         QCL  Crops and livestock products              256   Luxembourg   \n",
       "3032         QCL  Crops and livestock products              256   Luxembourg   \n",
       "3034         QCL  Crops and livestock products              256   Luxembourg   \n",
       "3114         QCL  Crops and livestock products              256   Luxembourg   \n",
       "3115         QCL  Crops and livestock products              256   Luxembourg   \n",
       "3116         QCL  Crops and livestock products              256   Luxembourg   \n",
       "3261         QCL  Crops and livestock products              150  Netherlands   \n",
       "3279         QCL  Crops and livestock products              150  Netherlands   \n",
       "3523         QCL  Crops and livestock products              150  Netherlands   \n",
       "3524         QCL  Crops and livestock products              150  Netherlands   \n",
       "3525         QCL  Crops and livestock products              150  Netherlands   \n",
       "\n",
       "      Element Code     Element  Item Code (FAO)           Item  Year Code  \\\n",
       "883           5510  Production             1017     Meat, goat       2018   \n",
       "884           5510  Production             1017     Meat, goat       2019   \n",
       "885           5510  Production             1017     Meat, goat       2020   \n",
       "1151          5510  Production             1080   Meat, turkey       2018   \n",
       "1152          5510  Production             1080   Meat, turkey       2019   \n",
       "1153          5510  Production             1080   Meat, turkey       2020   \n",
       "1862          5510  Production             1017     Meat, goat       2018   \n",
       "1863          5510  Production             1017     Meat, goat       2019   \n",
       "1864          5510  Production             1017     Meat, goat       2020   \n",
       "2293          5510  Production             1017     Meat, goat       2018   \n",
       "2294          5510  Production             1017     Meat, goat       2019   \n",
       "2295          5510  Production             1017     Meat, goat       2020   \n",
       "2987          5510  Production             1058  Meat, chicken       2018   \n",
       "2988          5510  Production             1058  Meat, chicken       2019   \n",
       "2989          5510  Production             1058  Meat, chicken       2020   \n",
       "2990          5510  Production             1069     Meat, duck       2018   \n",
       "2991          5510  Production             1069     Meat, duck       2019   \n",
       "2992          5510  Production             1069     Meat, duck       2020   \n",
       "3012          5510  Production             1017     Meat, goat       2000   \n",
       "3013          5510  Production             1017     Meat, goat       2001   \n",
       "3030          5510  Production             1017     Meat, goat       2018   \n",
       "3031          5510  Production             1017     Meat, goat       2019   \n",
       "3032          5510  Production             1017     Meat, goat       2020   \n",
       "3034          5510  Production             1097    Meat, horse       2001   \n",
       "3114          5510  Production             1080   Meat, turkey       2018   \n",
       "3115          5510  Production             1080   Meat, turkey       2019   \n",
       "3116          5510  Production             1080   Meat, turkey       2020   \n",
       "3261          5510  Production             1163     Meat, game       1986   \n",
       "3279          5510  Production             1163     Meat, game       2005   \n",
       "3523          5510  Production             1080   Meat, turkey       2018   \n",
       "3524          5510  Production             1080   Meat, turkey       2019   \n",
       "3525          5510  Production             1080   Meat, turkey       2020   \n",
       "\n",
       "      Year    Unit  Value Flag Flag Description  \n",
       "883   2018  tonnes    0.0  NaN    Official data  \n",
       "884   2019  tonnes    0.0  NaN    Official data  \n",
       "885   2020  tonnes    0.0  NaN    Official data  \n",
       "1151  2018  tonnes    0.0  NaN    Official data  \n",
       "1152  2019  tonnes    0.0  NaN    Official data  \n",
       "1153  2020  tonnes    0.0  NaN    Official data  \n",
       "1862  2018  tonnes    0.0  NaN    Official data  \n",
       "1863  2019  tonnes    0.0  NaN    Official data  \n",
       "1864  2020  tonnes    0.0  NaN    Official data  \n",
       "2293  2018  tonnes    0.0  NaN    Official data  \n",
       "2294  2019  tonnes    0.0  NaN    Official data  \n",
       "2295  2020  tonnes    0.0  NaN    Official data  \n",
       "2987  2018  tonnes    0.0  NaN    Official data  \n",
       "2988  2019  tonnes    0.0  NaN    Official data  \n",
       "2989  2020  tonnes    0.0  NaN    Official data  \n",
       "2990  2018  tonnes    0.0  NaN    Official data  \n",
       "2991  2019  tonnes    0.0  NaN    Official data  \n",
       "2992  2020  tonnes    0.0  NaN    Official data  \n",
       "3012  2000  tonnes    0.0  NaN    Official data  \n",
       "3013  2001  tonnes    0.0  NaN    Official data  \n",
       "3030  2018  tonnes    0.0  NaN    Official data  \n",
       "3031  2019  tonnes    0.0  NaN    Official data  \n",
       "3032  2020  tonnes    0.0  NaN    Official data  \n",
       "3034  2001  tonnes    0.0  NaN    Official data  \n",
       "3114  2018  tonnes    0.0  NaN    Official data  \n",
       "3115  2019  tonnes    0.0  NaN    Official data  \n",
       "3116  2020  tonnes    0.0  NaN    Official data  \n",
       "3261  1986  tonnes    0.0    F     FAO estimate  \n",
       "3279  2005  tonnes    0.0    F     FAO estimate  \n",
       "3523  2018  tonnes    0.0  NaN    Official data  \n",
       "3524  2019  tonnes    0.0  NaN    Official data  \n",
       "3525  2020  tonnes    0.0  NaN    Official data  "
      ]
     },
     "execution_count": 125,
     "metadata": {},
     "output_type": "execute_result"
    }
   ],
   "source": [
    "meat_miss.head(50)"
   ]
  },
  {
   "cell_type": "code",
   "execution_count": 126,
   "id": "9f974238",
   "metadata": {
    "ExecuteTime": {
     "end_time": "2022-05-05T13:29:58.786942Z",
     "start_time": "2022-05-05T13:29:58.771939Z"
    }
   },
   "outputs": [
    {
     "data": {
      "text/plain": [
       "array(['Meat, goat', 'Meat, turkey', 'Meat, chicken', 'Meat, duck',\n",
       "       'Meat, horse', 'Meat, game'], dtype=object)"
      ]
     },
     "execution_count": 126,
     "metadata": {},
     "output_type": "execute_result"
    }
   ],
   "source": [
    "# Investigating if the missing data is at random or not at random by checking if it's specific animal categories or not\n",
    "meat_miss.Item.unique()"
   ]
  },
  {
   "cell_type": "code",
   "execution_count": 127,
   "id": "2627f443",
   "metadata": {
    "ExecuteTime": {
     "end_time": "2022-05-05T13:29:58.802943Z",
     "start_time": "2022-05-05T13:29:58.787934Z"
    }
   },
   "outputs": [
    {
     "data": {
      "text/plain": [
       "array([0.])"
      ]
     },
     "execution_count": 127,
     "metadata": {},
     "output_type": "execute_result"
    }
   ],
   "source": [
    "meat_miss.Value.unique()"
   ]
  },
  {
   "cell_type": "code",
   "execution_count": 128,
   "id": "368f3440",
   "metadata": {
    "ExecuteTime": {
     "end_time": "2022-05-05T13:29:58.818941Z",
     "start_time": "2022-05-05T13:29:58.803944Z"
    }
   },
   "outputs": [
    {
     "data": {
      "text/plain": [
       "array(['Denmark', 'Germany', 'Ireland', 'Luxembourg', 'Netherlands'],\n",
       "      dtype=object)"
      ]
     },
     "execution_count": 128,
     "metadata": {},
     "output_type": "execute_result"
    }
   ],
   "source": [
    "# Investigating if the missing data is at random or not at random by checking if it's specific country's or not\n",
    "meat_miss.Area.unique()"
   ]
  },
  {
   "cell_type": "code",
   "execution_count": 129,
   "id": "ad16eb6e",
   "metadata": {
    "ExecuteTime": {
     "end_time": "2022-05-05T13:29:58.834941Z",
     "start_time": "2022-05-05T13:29:58.819942Z"
    }
   },
   "outputs": [
    {
     "data": {
      "text/plain": [
       "array([2018, 2019, 2020, 2000, 2001, 1986, 2005], dtype=int64)"
      ]
     },
     "execution_count": 129,
     "metadata": {},
     "output_type": "execute_result"
    }
   ],
   "source": [
    "meat_miss.Year.unique()"
   ]
  },
  {
   "cell_type": "markdown",
   "id": "3f154261",
   "metadata": {},
   "source": [
    "This shows that the missing data is NOT at random, certain countries did not submit data for certain animal categories on certain years. I will deal with this during data preparation.\n",
    "\n",
    "In addition, it shows that the missing categories and years are similar to the Slaughter data. There may have been no requirement to report for these categories on these years."
   ]
  },
  {
   "cell_type": "markdown",
   "id": "f5a4c2f1",
   "metadata": {},
   "source": [
    "## Livestock stocking data"
   ]
  },
  {
   "cell_type": "code",
   "execution_count": 130,
   "id": "c2eedccf",
   "metadata": {
    "ExecuteTime": {
     "end_time": "2022-05-05T13:29:58.850942Z",
     "start_time": "2022-05-05T13:29:58.835943Z"
    }
   },
   "outputs": [
    {
     "data": {
      "text/html": [
       "<div>\n",
       "<style scoped>\n",
       "    .dataframe tbody tr th:only-of-type {\n",
       "        vertical-align: middle;\n",
       "    }\n",
       "\n",
       "    .dataframe tbody tr th {\n",
       "        vertical-align: top;\n",
       "    }\n",
       "\n",
       "    .dataframe thead th {\n",
       "        text-align: right;\n",
       "    }\n",
       "</style>\n",
       "<table border=\"1\" class=\"dataframe\">\n",
       "  <thead>\n",
       "    <tr style=\"text-align: right;\">\n",
       "      <th></th>\n",
       "      <th>Domain Code</th>\n",
       "      <th>Domain</th>\n",
       "      <th>Area Code (FAO)</th>\n",
       "      <th>Area</th>\n",
       "      <th>Element Code</th>\n",
       "      <th>Element</th>\n",
       "      <th>Item Code (FAO)</th>\n",
       "      <th>Item</th>\n",
       "      <th>Year Code</th>\n",
       "      <th>Year</th>\n",
       "      <th>Unit</th>\n",
       "      <th>Value</th>\n",
       "      <th>Flag</th>\n",
       "      <th>Flag Description</th>\n",
       "    </tr>\n",
       "  </thead>\n",
       "  <tbody>\n",
       "    <tr>\n",
       "      <th>0</th>\n",
       "      <td>QCL</td>\n",
       "      <td>Crops and livestock products</td>\n",
       "      <td>255</td>\n",
       "      <td>Belgium</td>\n",
       "      <td>5111</td>\n",
       "      <td>Stocks</td>\n",
       "      <td>866</td>\n",
       "      <td>Cattle</td>\n",
       "      <td>2000</td>\n",
       "      <td>2000</td>\n",
       "      <td>Head</td>\n",
       "      <td>3041560.0</td>\n",
       "      <td>NaN</td>\n",
       "      <td>Official data</td>\n",
       "    </tr>\n",
       "    <tr>\n",
       "      <th>1</th>\n",
       "      <td>QCL</td>\n",
       "      <td>Crops and livestock products</td>\n",
       "      <td>255</td>\n",
       "      <td>Belgium</td>\n",
       "      <td>5111</td>\n",
       "      <td>Stocks</td>\n",
       "      <td>866</td>\n",
       "      <td>Cattle</td>\n",
       "      <td>2001</td>\n",
       "      <td>2001</td>\n",
       "      <td>Head</td>\n",
       "      <td>3037760.0</td>\n",
       "      <td>NaN</td>\n",
       "      <td>Official data</td>\n",
       "    </tr>\n",
       "    <tr>\n",
       "      <th>2</th>\n",
       "      <td>QCL</td>\n",
       "      <td>Crops and livestock products</td>\n",
       "      <td>255</td>\n",
       "      <td>Belgium</td>\n",
       "      <td>5111</td>\n",
       "      <td>Stocks</td>\n",
       "      <td>866</td>\n",
       "      <td>Cattle</td>\n",
       "      <td>2002</td>\n",
       "      <td>2002</td>\n",
       "      <td>Head</td>\n",
       "      <td>2891260.0</td>\n",
       "      <td>NaN</td>\n",
       "      <td>Official data</td>\n",
       "    </tr>\n",
       "    <tr>\n",
       "      <th>3</th>\n",
       "      <td>QCL</td>\n",
       "      <td>Crops and livestock products</td>\n",
       "      <td>255</td>\n",
       "      <td>Belgium</td>\n",
       "      <td>5111</td>\n",
       "      <td>Stocks</td>\n",
       "      <td>866</td>\n",
       "      <td>Cattle</td>\n",
       "      <td>2003</td>\n",
       "      <td>2003</td>\n",
       "      <td>Head</td>\n",
       "      <td>2778077.0</td>\n",
       "      <td>NaN</td>\n",
       "      <td>Official data</td>\n",
       "    </tr>\n",
       "    <tr>\n",
       "      <th>4</th>\n",
       "      <td>QCL</td>\n",
       "      <td>Crops and livestock products</td>\n",
       "      <td>255</td>\n",
       "      <td>Belgium</td>\n",
       "      <td>5111</td>\n",
       "      <td>Stocks</td>\n",
       "      <td>866</td>\n",
       "      <td>Cattle</td>\n",
       "      <td>2004</td>\n",
       "      <td>2004</td>\n",
       "      <td>Head</td>\n",
       "      <td>2738648.0</td>\n",
       "      <td>NaN</td>\n",
       "      <td>Official data</td>\n",
       "    </tr>\n",
       "  </tbody>\n",
       "</table>\n",
       "</div>"
      ],
      "text/plain": [
       "  Domain Code                        Domain  Area Code (FAO)     Area  \\\n",
       "0         QCL  Crops and livestock products              255  Belgium   \n",
       "1         QCL  Crops and livestock products              255  Belgium   \n",
       "2         QCL  Crops and livestock products              255  Belgium   \n",
       "3         QCL  Crops and livestock products              255  Belgium   \n",
       "4         QCL  Crops and livestock products              255  Belgium   \n",
       "\n",
       "   Element Code Element  Item Code (FAO)    Item  Year Code  Year  Unit  \\\n",
       "0          5111  Stocks              866  Cattle       2000  2000  Head   \n",
       "1          5111  Stocks              866  Cattle       2001  2001  Head   \n",
       "2          5111  Stocks              866  Cattle       2002  2002  Head   \n",
       "3          5111  Stocks              866  Cattle       2003  2003  Head   \n",
       "4          5111  Stocks              866  Cattle       2004  2004  Head   \n",
       "\n",
       "       Value Flag Flag Description  \n",
       "0  3041560.0  NaN    Official data  \n",
       "1  3037760.0  NaN    Official data  \n",
       "2  2891260.0  NaN    Official data  \n",
       "3  2778077.0  NaN    Official data  \n",
       "4  2738648.0  NaN    Official data  "
      ]
     },
     "execution_count": 130,
     "metadata": {},
     "output_type": "execute_result"
    }
   ],
   "source": [
    "stock.head()"
   ]
  },
  {
   "cell_type": "code",
   "execution_count": 131,
   "id": "02dd759f",
   "metadata": {
    "ExecuteTime": {
     "end_time": "2022-05-05T13:29:58.866942Z",
     "start_time": "2022-05-05T13:29:58.851942Z"
    }
   },
   "outputs": [
    {
     "data": {
      "text/plain": [
       "(3735, 14)"
      ]
     },
     "execution_count": 131,
     "metadata": {},
     "output_type": "execute_result"
    }
   ],
   "source": [
    "stock.shape"
   ]
  },
  {
   "cell_type": "code",
   "execution_count": 132,
   "id": "018a28fd",
   "metadata": {
    "ExecuteTime": {
     "end_time": "2022-05-05T13:29:58.882942Z",
     "start_time": "2022-05-05T13:29:58.867950Z"
    }
   },
   "outputs": [
    {
     "name": "stdout",
     "output_type": "stream",
     "text": [
      "<class 'pandas.core.frame.DataFrame'>\n",
      "RangeIndex: 3735 entries, 0 to 3734\n",
      "Data columns (total 14 columns):\n",
      " #   Column            Non-Null Count  Dtype  \n",
      "---  ------            --------------  -----  \n",
      " 0   Domain Code       3735 non-null   object \n",
      " 1   Domain            3735 non-null   object \n",
      " 2   Area Code (FAO)   3735 non-null   int64  \n",
      " 3   Area              3735 non-null   object \n",
      " 4   Element Code      3735 non-null   int64  \n",
      " 5   Element           3735 non-null   object \n",
      " 6   Item Code (FAO)   3735 non-null   int64  \n",
      " 7   Item              3735 non-null   object \n",
      " 8   Year Code         3735 non-null   int64  \n",
      " 9   Year              3735 non-null   int64  \n",
      " 10  Unit              3735 non-null   object \n",
      " 11  Value             3670 non-null   float64\n",
      " 12  Flag              1103 non-null   object \n",
      " 13  Flag Description  3735 non-null   object \n",
      "dtypes: float64(1), int64(5), object(8)\n",
      "memory usage: 408.6+ KB\n"
     ]
    }
   ],
   "source": [
    "stock.info()"
   ]
  },
  {
   "cell_type": "code",
   "execution_count": 133,
   "id": "265fe6a0",
   "metadata": {
    "ExecuteTime": {
     "end_time": "2022-05-05T13:29:58.898942Z",
     "start_time": "2022-05-05T13:29:58.883945Z"
    }
   },
   "outputs": [
    {
     "data": {
      "text/html": [
       "<div>\n",
       "<style scoped>\n",
       "    .dataframe tbody tr th:only-of-type {\n",
       "        vertical-align: middle;\n",
       "    }\n",
       "\n",
       "    .dataframe tbody tr th {\n",
       "        vertical-align: top;\n",
       "    }\n",
       "\n",
       "    .dataframe thead th {\n",
       "        text-align: right;\n",
       "    }\n",
       "</style>\n",
       "<table border=\"1\" class=\"dataframe\">\n",
       "  <thead>\n",
       "    <tr style=\"text-align: right;\">\n",
       "      <th></th>\n",
       "      <th>Area Code (FAO)</th>\n",
       "      <th>Element Code</th>\n",
       "      <th>Item Code (FAO)</th>\n",
       "      <th>Year Code</th>\n",
       "      <th>Year</th>\n",
       "      <th>Value</th>\n",
       "    </tr>\n",
       "  </thead>\n",
       "  <tbody>\n",
       "    <tr>\n",
       "      <th>count</th>\n",
       "      <td>3735.000000</td>\n",
       "      <td>3735.000000</td>\n",
       "      <td>3735.000000</td>\n",
       "      <td>3735.00000</td>\n",
       "      <td>3735.00000</td>\n",
       "      <td>3.670000e+03</td>\n",
       "    </tr>\n",
       "    <tr>\n",
       "      <th>mean</th>\n",
       "      <td>154.917269</td>\n",
       "      <td>5111.448728</td>\n",
       "      <td>1033.941098</td>\n",
       "      <td>1997.31593</td>\n",
       "      <td>1997.31593</td>\n",
       "      <td>1.389960e+07</td>\n",
       "    </tr>\n",
       "    <tr>\n",
       "      <th>std</th>\n",
       "      <td>98.436050</td>\n",
       "      <td>0.497431</td>\n",
       "      <td>73.118241</td>\n",
       "      <td>13.67837</td>\n",
       "      <td>13.67837</td>\n",
       "      <td>5.001213e+07</td>\n",
       "    </tr>\n",
       "    <tr>\n",
       "      <th>min</th>\n",
       "      <td>54.000000</td>\n",
       "      <td>5111.000000</td>\n",
       "      <td>866.000000</td>\n",
       "      <td>1973.00000</td>\n",
       "      <td>1973.00000</td>\n",
       "      <td>2.000000e+00</td>\n",
       "    </tr>\n",
       "    <tr>\n",
       "      <th>25%</th>\n",
       "      <td>79.000000</td>\n",
       "      <td>5111.000000</td>\n",
       "      <td>1016.000000</td>\n",
       "      <td>1985.00000</td>\n",
       "      <td>1985.00000</td>\n",
       "      <td>8.278250e+03</td>\n",
       "    </tr>\n",
       "    <tr>\n",
       "      <th>50%</th>\n",
       "      <td>106.000000</td>\n",
       "      <td>5111.000000</td>\n",
       "      <td>1057.000000</td>\n",
       "      <td>1998.00000</td>\n",
       "      <td>1998.00000</td>\n",
       "      <td>1.960655e+05</td>\n",
       "    </tr>\n",
       "    <tr>\n",
       "      <th>75%</th>\n",
       "      <td>231.000000</td>\n",
       "      <td>5112.000000</td>\n",
       "      <td>1079.000000</td>\n",
       "      <td>2009.00000</td>\n",
       "      <td>2009.00000</td>\n",
       "      <td>6.134275e+06</td>\n",
       "    </tr>\n",
       "    <tr>\n",
       "      <th>max</th>\n",
       "      <td>351.000000</td>\n",
       "      <td>5112.000000</td>\n",
       "      <td>1140.000000</td>\n",
       "      <td>2020.00000</td>\n",
       "      <td>2020.00000</td>\n",
       "      <td>4.867429e+08</td>\n",
       "    </tr>\n",
       "  </tbody>\n",
       "</table>\n",
       "</div>"
      ],
      "text/plain": [
       "       Area Code (FAO)  Element Code  Item Code (FAO)   Year Code        Year  \\\n",
       "count      3735.000000   3735.000000      3735.000000  3735.00000  3735.00000   \n",
       "mean        154.917269   5111.448728      1033.941098  1997.31593  1997.31593   \n",
       "std          98.436050      0.497431        73.118241    13.67837    13.67837   \n",
       "min          54.000000   5111.000000       866.000000  1973.00000  1973.00000   \n",
       "25%          79.000000   5111.000000      1016.000000  1985.00000  1985.00000   \n",
       "50%         106.000000   5111.000000      1057.000000  1998.00000  1998.00000   \n",
       "75%         231.000000   5112.000000      1079.000000  2009.00000  2009.00000   \n",
       "max         351.000000   5112.000000      1140.000000  2020.00000  2020.00000   \n",
       "\n",
       "              Value  \n",
       "count  3.670000e+03  \n",
       "mean   1.389960e+07  \n",
       "std    5.001213e+07  \n",
       "min    2.000000e+00  \n",
       "25%    8.278250e+03  \n",
       "50%    1.960655e+05  \n",
       "75%    6.134275e+06  \n",
       "max    4.867429e+08  "
      ]
     },
     "execution_count": 133,
     "metadata": {},
     "output_type": "execute_result"
    }
   ],
   "source": [
    "stock.describe()"
   ]
  },
  {
   "cell_type": "markdown",
   "id": "184d107d",
   "metadata": {},
   "source": [
    "The data is in its current layout is not suitable for statistical analysis as each country is a row.\n",
    "I need to melt the data so that the values for each country are in a column item type."
   ]
  },
  {
   "cell_type": "code",
   "execution_count": 134,
   "id": "a9b5756f",
   "metadata": {
    "ExecuteTime": {
     "end_time": "2022-05-05T13:29:58.914942Z",
     "start_time": "2022-05-05T13:29:58.899943Z"
    }
   },
   "outputs": [
    {
     "data": {
      "text/plain": [
       "array(['Cattle', 'Chickens', 'Ducks', 'Geese and guinea fowls', 'Goats',\n",
       "       'Horses', 'Pigs', 'Rabbits and hares', 'Sheep', 'Turkeys'],\n",
       "      dtype=object)"
      ]
     },
     "execution_count": 134,
     "metadata": {},
     "output_type": "execute_result"
    }
   ],
   "source": [
    "stock.Item.unique()"
   ]
  },
  {
   "cell_type": "markdown",
   "id": "9ee58a8c",
   "metadata": {},
   "source": [
    "There are 10 animal categories in the stocking data."
   ]
  },
  {
   "cell_type": "code",
   "execution_count": 135,
   "id": "6296cf91",
   "metadata": {
    "ExecuteTime": {
     "end_time": "2022-05-05T13:29:58.930937Z",
     "start_time": "2022-05-05T13:29:58.915934Z"
    }
   },
   "outputs": [
    {
     "data": {
      "text/plain": [
       "array(['Belgium', 'China', 'Denmark', 'France', 'Germany', 'Ireland',\n",
       "       'Italy', 'Luxembourg', 'Netherlands', 'United States of America'],\n",
       "      dtype=object)"
      ]
     },
     "execution_count": 135,
     "metadata": {},
     "output_type": "execute_result"
    }
   ],
   "source": [
    "stock.Area.unique()"
   ]
  },
  {
   "cell_type": "markdown",
   "id": "f373f7c1",
   "metadata": {},
   "source": [
    "As above:\n",
    "\n",
    "The dataset contains 8 EU countries Belgium, Denmark, France, Germany, Luxembourg, Ireland, Italy and the Netherlands. All of these countries have been member states since at least Jan 1st 1973.\n",
    "\n",
    "Belgium, France, Germany, Luxembourg, Italy and the Netherlands founded the EU in 1957 with Ireland and Denmark Joining on the 1st January 1973.\n",
    "\n",
    "Therefore, to ensure data comparability between these countries and the US and China, I limited the datasets time frame from 1st January 1973 to 31st December 2020 (most recent data available). This ensures that all European countries were member states of the EU at the time of analysis. \n",
    "\n",
    "We can confirm this as follows"
   ]
  },
  {
   "cell_type": "code",
   "execution_count": 136,
   "id": "865db932",
   "metadata": {
    "ExecuteTime": {
     "end_time": "2022-05-05T13:29:58.946936Z",
     "start_time": "2022-05-05T13:29:58.931938Z"
    }
   },
   "outputs": [
    {
     "data": {
      "text/plain": [
       "array([2000, 2001, 2002, 2003, 2004, 2005, 2006, 2007, 2008, 2009, 2010,\n",
       "       2011, 2012, 2013, 2014, 2015, 2016, 2017, 2018, 2019, 2020, 1973,\n",
       "       1974, 1975, 1976, 1977, 1978, 1979, 1980, 1981, 1982, 1983, 1984,\n",
       "       1985, 1986, 1987, 1988, 1989, 1990, 1991, 1992, 1993, 1994, 1995,\n",
       "       1996, 1997, 1998, 1999], dtype=int64)"
      ]
     },
     "execution_count": 136,
     "metadata": {},
     "output_type": "execute_result"
    }
   ],
   "source": [
    "stock.Year.unique()"
   ]
  },
  {
   "cell_type": "code",
   "execution_count": 137,
   "id": "655a06cb",
   "metadata": {
    "ExecuteTime": {
     "end_time": "2022-05-05T13:29:58.963014Z",
     "start_time": "2022-05-05T13:29:58.947937Z"
    }
   },
   "outputs": [
    {
     "name": "stdout",
     "output_type": "stream",
     "text": [
      "The earliest year in the dataset is 1973 and the maximum year is 2020\n"
     ]
    }
   ],
   "source": [
    "print(f\"The earliest year in the dataset is {stock.Year.min()} and the maximum year is {stock.Year.max()}\")"
   ]
  },
  {
   "cell_type": "markdown",
   "id": "6ee3fed1",
   "metadata": {},
   "source": [
    "Next we can observe what units the livestock stocking data has been recorded in"
   ]
  },
  {
   "cell_type": "code",
   "execution_count": 138,
   "id": "f56d2104",
   "metadata": {
    "ExecuteTime": {
     "end_time": "2022-05-05T13:29:58.979004Z",
     "start_time": "2022-05-05T13:29:58.964015Z"
    }
   },
   "outputs": [
    {
     "data": {
      "text/plain": [
       "array(['Head', '1000 Head'], dtype=object)"
      ]
     },
     "execution_count": 138,
     "metadata": {},
     "output_type": "execute_result"
    }
   ],
   "source": [
    "stock.Unit.unique()"
   ]
  },
  {
   "cell_type": "markdown",
   "id": "564f3907",
   "metadata": {},
   "source": [
    "Socking data units have been reported in \"heads\" and \"1000 heads\"."
   ]
  },
  {
   "cell_type": "code",
   "execution_count": 139,
   "id": "a276fcf1",
   "metadata": {
    "ExecuteTime": {
     "end_time": "2022-05-05T13:29:58.994942Z",
     "start_time": "2022-05-05T13:29:58.980018Z"
    }
   },
   "outputs": [
    {
     "data": {
      "text/plain": [
       "array(['Stocks'], dtype=object)"
      ]
     },
     "execution_count": 139,
     "metadata": {},
     "output_type": "execute_result"
    }
   ],
   "source": [
    "stock.Element.unique()"
   ]
  },
  {
   "cell_type": "markdown",
   "id": "32710631",
   "metadata": {},
   "source": [
    "All livestock in this dataset is at production."
   ]
  },
  {
   "cell_type": "markdown",
   "id": "97d7e62a",
   "metadata": {},
   "source": [
    "Checking for null values"
   ]
  },
  {
   "cell_type": "code",
   "execution_count": 140,
   "id": "75c84a7b",
   "metadata": {
    "ExecuteTime": {
     "end_time": "2022-05-05T13:29:59.010943Z",
     "start_time": "2022-05-05T13:29:58.995943Z"
    },
    "scrolled": true
   },
   "outputs": [
    {
     "data": {
      "text/plain": [
       "Domain Code            0\n",
       "Domain                 0\n",
       "Area Code (FAO)        0\n",
       "Area                   0\n",
       "Element Code           0\n",
       "Element                0\n",
       "Item Code (FAO)        0\n",
       "Item                   0\n",
       "Year Code              0\n",
       "Year                   0\n",
       "Unit                   0\n",
       "Value                 65\n",
       "Flag                2632\n",
       "Flag Description       0\n",
       "dtype: int64"
      ]
     },
     "execution_count": 140,
     "metadata": {},
     "output_type": "execute_result"
    }
   ],
   "source": [
    "stock.isnull().sum()"
   ]
  },
  {
   "cell_type": "code",
   "execution_count": 141,
   "id": "8c37ac6d",
   "metadata": {
    "ExecuteTime": {
     "end_time": "2022-05-05T13:29:59.026934Z",
     "start_time": "2022-05-05T13:29:59.011944Z"
    }
   },
   "outputs": [
    {
     "name": "stdout",
     "output_type": "stream",
     "text": [
      "The percentage of missing values is:\n",
      "Domain Code          0.00\n",
      "Domain               0.00\n",
      "Area Code (FAO)      0.00\n",
      "Area                 0.00\n",
      "Element Code         0.00\n",
      "Element              0.00\n",
      "Item Code (FAO)      0.00\n",
      "Item                 0.00\n",
      "Year Code            0.00\n",
      "Year                 0.00\n",
      "Unit                 0.00\n",
      "Value                1.74\n",
      "Flag                70.47\n",
      "Flag Description     0.00\n",
      "dtype: float64\n"
     ]
    }
   ],
   "source": [
    "calc_percent_missing(stock.isnull().sum(), len(stock))"
   ]
  },
  {
   "cell_type": "markdown",
   "id": "283da975",
   "metadata": {
    "ExecuteTime": {
     "end_time": "2022-05-04T12:32:35.976056Z",
     "start_time": "2022-05-04T12:32:35.961016Z"
    }
   },
   "source": [
    "There are missing values in the \"Value\" and \"Flag\" columns.  The flag column is not important to our data analysis\n",
    "so I can remove this during data preparation. However, the value column requires further investigation. We can test if these values are missing at random or not at random by filtering the values that are NaN or 0"
   ]
  },
  {
   "cell_type": "code",
   "execution_count": 142,
   "id": "39221ce3",
   "metadata": {
    "ExecuteTime": {
     "end_time": "2022-05-05T13:29:59.041941Z",
     "start_time": "2022-05-05T13:29:59.027943Z"
    }
   },
   "outputs": [
    {
     "data": {
      "text/plain": [
       "Index(['Domain Code', 'Domain', 'Area Code (FAO)', 'Area', 'Element Code',\n",
       "       'Element', 'Item Code (FAO)', 'Item', 'Year Code', 'Year', 'Unit',\n",
       "       'Value', 'Flag', 'Flag Description'],\n",
       "      dtype='object')"
      ]
     },
     "execution_count": 142,
     "metadata": {},
     "output_type": "execute_result"
    }
   ],
   "source": [
    "stock.columns"
   ]
  },
  {
   "cell_type": "code",
   "execution_count": 143,
   "id": "41b356df",
   "metadata": {
    "ExecuteTime": {
     "end_time": "2022-05-05T13:29:59.056935Z",
     "start_time": "2022-05-05T13:29:59.042944Z"
    }
   },
   "outputs": [],
   "source": [
    "# Creating a data frame of missing stocking densities\n",
    "stock_miss = stock.loc[(stock['Value'] == stock.Value.isnull())]"
   ]
  },
  {
   "cell_type": "markdown",
   "id": "c63a25fb",
   "metadata": {},
   "source": [
    "The NaNs do not show up on filter, only those with a value of \"Zero\""
   ]
  },
  {
   "cell_type": "code",
   "execution_count": 144,
   "id": "9ae535ab",
   "metadata": {
    "ExecuteTime": {
     "end_time": "2022-05-05T13:29:59.072942Z",
     "start_time": "2022-05-05T13:29:59.058017Z"
    }
   },
   "outputs": [
    {
     "data": {
      "text/html": [
       "<div>\n",
       "<style scoped>\n",
       "    .dataframe tbody tr th:only-of-type {\n",
       "        vertical-align: middle;\n",
       "    }\n",
       "\n",
       "    .dataframe tbody tr th {\n",
       "        vertical-align: top;\n",
       "    }\n",
       "\n",
       "    .dataframe thead th {\n",
       "        text-align: right;\n",
       "    }\n",
       "</style>\n",
       "<table border=\"1\" class=\"dataframe\">\n",
       "  <thead>\n",
       "    <tr style=\"text-align: right;\">\n",
       "      <th></th>\n",
       "      <th>Domain Code</th>\n",
       "      <th>Domain</th>\n",
       "      <th>Area Code (FAO)</th>\n",
       "      <th>Area</th>\n",
       "      <th>Element Code</th>\n",
       "      <th>Element</th>\n",
       "      <th>Item Code (FAO)</th>\n",
       "      <th>Item</th>\n",
       "      <th>Year Code</th>\n",
       "      <th>Year</th>\n",
       "      <th>Unit</th>\n",
       "      <th>Value</th>\n",
       "      <th>Flag</th>\n",
       "      <th>Flag Description</th>\n",
       "    </tr>\n",
       "  </thead>\n",
       "  <tbody>\n",
       "  </tbody>\n",
       "</table>\n",
       "</div>"
      ],
      "text/plain": [
       "Empty DataFrame\n",
       "Columns: [Domain Code, Domain, Area Code (FAO), Area, Element Code, Element, Item Code (FAO), Item, Year Code, Year, Unit, Value, Flag, Flag Description]\n",
       "Index: []"
      ]
     },
     "execution_count": 144,
     "metadata": {},
     "output_type": "execute_result"
    }
   ],
   "source": [
    "stock_miss.head(50)"
   ]
  },
  {
   "cell_type": "code",
   "execution_count": 145,
   "id": "082f670c",
   "metadata": {
    "ExecuteTime": {
     "end_time": "2022-05-05T13:29:59.088941Z",
     "start_time": "2022-05-05T13:29:59.073943Z"
    }
   },
   "outputs": [
    {
     "data": {
      "text/plain": [
       "array([], dtype=object)"
      ]
     },
     "execution_count": 145,
     "metadata": {},
     "output_type": "execute_result"
    }
   ],
   "source": [
    "# Investigating if the missing data is at random or not at random by checking if it's specific animal categories or not\n",
    "stock_miss.Item.unique()"
   ]
  },
  {
   "cell_type": "code",
   "execution_count": 146,
   "id": "aa5e3295",
   "metadata": {
    "ExecuteTime": {
     "end_time": "2022-05-05T13:29:59.104941Z",
     "start_time": "2022-05-05T13:29:59.089943Z"
    }
   },
   "outputs": [
    {
     "data": {
      "text/plain": [
       "array([], dtype=float64)"
      ]
     },
     "execution_count": 146,
     "metadata": {},
     "output_type": "execute_result"
    }
   ],
   "source": [
    "stock_miss.Value.unique()"
   ]
  },
  {
   "cell_type": "code",
   "execution_count": 147,
   "id": "43b81752",
   "metadata": {
    "ExecuteTime": {
     "end_time": "2022-05-05T13:29:59.120950Z",
     "start_time": "2022-05-05T13:29:59.105936Z"
    }
   },
   "outputs": [
    {
     "data": {
      "text/plain": [
       "array([], dtype=object)"
      ]
     },
     "execution_count": 147,
     "metadata": {},
     "output_type": "execute_result"
    }
   ],
   "source": [
    "# Investigating if the missing data is at random or not at random by checking if it's specific country's or not\n",
    "stock_miss.Area.unique()"
   ]
  },
  {
   "cell_type": "code",
   "execution_count": 148,
   "id": "fcef76c1",
   "metadata": {
    "ExecuteTime": {
     "end_time": "2022-05-05T13:29:59.136935Z",
     "start_time": "2022-05-05T13:29:59.121935Z"
    }
   },
   "outputs": [
    {
     "data": {
      "text/plain": [
       "array([], dtype=int64)"
      ]
     },
     "execution_count": 148,
     "metadata": {},
     "output_type": "execute_result"
    }
   ],
   "source": [
    "stock_miss.Year.unique()"
   ]
  },
  {
   "cell_type": "markdown",
   "id": "3810e2ef",
   "metadata": {},
   "source": [
    "## Import export data"
   ]
  },
  {
   "cell_type": "code",
   "execution_count": 149,
   "id": "9c87591e",
   "metadata": {
    "ExecuteTime": {
     "end_time": "2022-05-05T13:29:59.152942Z",
     "start_time": "2022-05-05T13:29:59.137944Z"
    }
   },
   "outputs": [
    {
     "data": {
      "text/html": [
       "<div>\n",
       "<style scoped>\n",
       "    .dataframe tbody tr th:only-of-type {\n",
       "        vertical-align: middle;\n",
       "    }\n",
       "\n",
       "    .dataframe tbody tr th {\n",
       "        vertical-align: top;\n",
       "    }\n",
       "\n",
       "    .dataframe thead th {\n",
       "        text-align: right;\n",
       "    }\n",
       "</style>\n",
       "<table border=\"1\" class=\"dataframe\">\n",
       "  <thead>\n",
       "    <tr style=\"text-align: right;\">\n",
       "      <th></th>\n",
       "      <th>Domain Code</th>\n",
       "      <th>Domain</th>\n",
       "      <th>Area Code (FAO)</th>\n",
       "      <th>Area</th>\n",
       "      <th>Element Code</th>\n",
       "      <th>Element</th>\n",
       "      <th>Item Code (FAO)</th>\n",
       "      <th>Item</th>\n",
       "      <th>Year Code</th>\n",
       "      <th>Year</th>\n",
       "      <th>Unit</th>\n",
       "      <th>Value</th>\n",
       "      <th>Flag</th>\n",
       "      <th>Flag Description</th>\n",
       "    </tr>\n",
       "  </thead>\n",
       "  <tbody>\n",
       "    <tr>\n",
       "      <th>0</th>\n",
       "      <td>TCL</td>\n",
       "      <td>Crops and livestock products</td>\n",
       "      <td>255</td>\n",
       "      <td>Belgium</td>\n",
       "      <td>5608</td>\n",
       "      <td>Import Quantity</td>\n",
       "      <td>866</td>\n",
       "      <td>Cattle</td>\n",
       "      <td>2000</td>\n",
       "      <td>2000</td>\n",
       "      <td>Head</td>\n",
       "      <td>59395.0</td>\n",
       "      <td>NaN</td>\n",
       "      <td>Official data</td>\n",
       "    </tr>\n",
       "    <tr>\n",
       "      <th>1</th>\n",
       "      <td>TCL</td>\n",
       "      <td>Crops and livestock products</td>\n",
       "      <td>255</td>\n",
       "      <td>Belgium</td>\n",
       "      <td>5608</td>\n",
       "      <td>Import Quantity</td>\n",
       "      <td>866</td>\n",
       "      <td>Cattle</td>\n",
       "      <td>2001</td>\n",
       "      <td>2001</td>\n",
       "      <td>Head</td>\n",
       "      <td>44232.0</td>\n",
       "      <td>NaN</td>\n",
       "      <td>Official data</td>\n",
       "    </tr>\n",
       "    <tr>\n",
       "      <th>2</th>\n",
       "      <td>TCL</td>\n",
       "      <td>Crops and livestock products</td>\n",
       "      <td>255</td>\n",
       "      <td>Belgium</td>\n",
       "      <td>5608</td>\n",
       "      <td>Import Quantity</td>\n",
       "      <td>866</td>\n",
       "      <td>Cattle</td>\n",
       "      <td>2002</td>\n",
       "      <td>2002</td>\n",
       "      <td>Head</td>\n",
       "      <td>61054.0</td>\n",
       "      <td>NaN</td>\n",
       "      <td>Official data</td>\n",
       "    </tr>\n",
       "    <tr>\n",
       "      <th>3</th>\n",
       "      <td>TCL</td>\n",
       "      <td>Crops and livestock products</td>\n",
       "      <td>255</td>\n",
       "      <td>Belgium</td>\n",
       "      <td>5608</td>\n",
       "      <td>Import Quantity</td>\n",
       "      <td>866</td>\n",
       "      <td>Cattle</td>\n",
       "      <td>2003</td>\n",
       "      <td>2003</td>\n",
       "      <td>Head</td>\n",
       "      <td>85727.0</td>\n",
       "      <td>NaN</td>\n",
       "      <td>Official data</td>\n",
       "    </tr>\n",
       "    <tr>\n",
       "      <th>4</th>\n",
       "      <td>TCL</td>\n",
       "      <td>Crops and livestock products</td>\n",
       "      <td>255</td>\n",
       "      <td>Belgium</td>\n",
       "      <td>5608</td>\n",
       "      <td>Import Quantity</td>\n",
       "      <td>866</td>\n",
       "      <td>Cattle</td>\n",
       "      <td>2004</td>\n",
       "      <td>2004</td>\n",
       "      <td>Head</td>\n",
       "      <td>100891.0</td>\n",
       "      <td>NaN</td>\n",
       "      <td>Official data</td>\n",
       "    </tr>\n",
       "  </tbody>\n",
       "</table>\n",
       "</div>"
      ],
      "text/plain": [
       "  Domain Code                        Domain  Area Code (FAO)     Area  \\\n",
       "0         TCL  Crops and livestock products              255  Belgium   \n",
       "1         TCL  Crops and livestock products              255  Belgium   \n",
       "2         TCL  Crops and livestock products              255  Belgium   \n",
       "3         TCL  Crops and livestock products              255  Belgium   \n",
       "4         TCL  Crops and livestock products              255  Belgium   \n",
       "\n",
       "   Element Code          Element  Item Code (FAO)    Item  Year Code  Year  \\\n",
       "0          5608  Import Quantity              866  Cattle       2000  2000   \n",
       "1          5608  Import Quantity              866  Cattle       2001  2001   \n",
       "2          5608  Import Quantity              866  Cattle       2002  2002   \n",
       "3          5608  Import Quantity              866  Cattle       2003  2003   \n",
       "4          5608  Import Quantity              866  Cattle       2004  2004   \n",
       "\n",
       "   Unit     Value Flag Flag Description  \n",
       "0  Head   59395.0  NaN    Official data  \n",
       "1  Head   44232.0  NaN    Official data  \n",
       "2  Head   61054.0  NaN    Official data  \n",
       "3  Head   85727.0  NaN    Official data  \n",
       "4  Head  100891.0  NaN    Official data  "
      ]
     },
     "execution_count": 149,
     "metadata": {},
     "output_type": "execute_result"
    }
   ],
   "source": [
    "imp_exp.head()"
   ]
  },
  {
   "cell_type": "code",
   "execution_count": 150,
   "id": "43707fda",
   "metadata": {
    "ExecuteTime": {
     "end_time": "2022-05-05T13:29:59.168937Z",
     "start_time": "2022-05-05T13:29:59.153944Z"
    }
   },
   "outputs": [
    {
     "data": {
      "text/plain": [
       "(14411, 14)"
      ]
     },
     "execution_count": 150,
     "metadata": {},
     "output_type": "execute_result"
    }
   ],
   "source": [
    "imp_exp.shape"
   ]
  },
  {
   "cell_type": "code",
   "execution_count": 151,
   "id": "ba0460e0",
   "metadata": {
    "ExecuteTime": {
     "end_time": "2022-05-05T13:29:59.184942Z",
     "start_time": "2022-05-05T13:29:59.169936Z"
    }
   },
   "outputs": [
    {
     "name": "stdout",
     "output_type": "stream",
     "text": [
      "<class 'pandas.core.frame.DataFrame'>\n",
      "RangeIndex: 14411 entries, 0 to 14410\n",
      "Data columns (total 14 columns):\n",
      " #   Column            Non-Null Count  Dtype  \n",
      "---  ------            --------------  -----  \n",
      " 0   Domain Code       14411 non-null  object \n",
      " 1   Domain            14411 non-null  object \n",
      " 2   Area Code (FAO)   14411 non-null  int64  \n",
      " 3   Area              14411 non-null  object \n",
      " 4   Element Code      14411 non-null  int64  \n",
      " 5   Element           14411 non-null  object \n",
      " 6   Item Code (FAO)   14411 non-null  int64  \n",
      " 7   Item              14411 non-null  object \n",
      " 8   Year Code         14411 non-null  int64  \n",
      " 9   Year              14411 non-null  int64  \n",
      " 10  Unit              14411 non-null  object \n",
      " 11  Value             14263 non-null  float64\n",
      " 12  Flag              2446 non-null   object \n",
      " 13  Flag Description  14411 non-null  object \n",
      "dtypes: float64(1), int64(5), object(8)\n",
      "memory usage: 1.5+ MB\n"
     ]
    }
   ],
   "source": [
    "imp_exp.info()"
   ]
  },
  {
   "cell_type": "code",
   "execution_count": 152,
   "id": "16745b9b",
   "metadata": {
    "ExecuteTime": {
     "end_time": "2022-05-05T13:29:59.200945Z",
     "start_time": "2022-05-05T13:29:59.185943Z"
    }
   },
   "outputs": [
    {
     "data": {
      "text/html": [
       "<div>\n",
       "<style scoped>\n",
       "    .dataframe tbody tr th:only-of-type {\n",
       "        vertical-align: middle;\n",
       "    }\n",
       "\n",
       "    .dataframe tbody tr th {\n",
       "        vertical-align: top;\n",
       "    }\n",
       "\n",
       "    .dataframe thead th {\n",
       "        text-align: right;\n",
       "    }\n",
       "</style>\n",
       "<table border=\"1\" class=\"dataframe\">\n",
       "  <thead>\n",
       "    <tr style=\"text-align: right;\">\n",
       "      <th></th>\n",
       "      <th>Area Code (FAO)</th>\n",
       "      <th>Element Code</th>\n",
       "      <th>Item Code (FAO)</th>\n",
       "      <th>Year Code</th>\n",
       "      <th>Year</th>\n",
       "      <th>Value</th>\n",
       "    </tr>\n",
       "  </thead>\n",
       "  <tbody>\n",
       "    <tr>\n",
       "      <th>count</th>\n",
       "      <td>14411.000000</td>\n",
       "      <td>14411.000000</td>\n",
       "      <td>14411.000000</td>\n",
       "      <td>14411.000000</td>\n",
       "      <td>14411.000000</td>\n",
       "      <td>1.426300e+04</td>\n",
       "    </tr>\n",
       "    <tr>\n",
       "      <th>mean</th>\n",
       "      <td>154.272778</td>\n",
       "      <td>5764.227257</td>\n",
       "      <td>1023.589480</td>\n",
       "      <td>1998.889182</td>\n",
       "      <td>1998.889182</td>\n",
       "      <td>1.764494e+05</td>\n",
       "    </tr>\n",
       "    <tr>\n",
       "      <th>std</th>\n",
       "      <td>95.451054</td>\n",
       "      <td>150.154608</td>\n",
       "      <td>70.081096</td>\n",
       "      <td>14.211274</td>\n",
       "      <td>14.211274</td>\n",
       "      <td>7.850559e+05</td>\n",
       "    </tr>\n",
       "    <tr>\n",
       "      <th>min</th>\n",
       "      <td>54.000000</td>\n",
       "      <td>5608.000000</td>\n",
       "      <td>866.000000</td>\n",
       "      <td>1973.000000</td>\n",
       "      <td>1973.000000</td>\n",
       "      <td>0.000000e+00</td>\n",
       "    </tr>\n",
       "    <tr>\n",
       "      <th>25%</th>\n",
       "      <td>79.000000</td>\n",
       "      <td>5610.000000</td>\n",
       "      <td>976.000000</td>\n",
       "      <td>1987.000000</td>\n",
       "      <td>1987.000000</td>\n",
       "      <td>2.640000e+02</td>\n",
       "    </tr>\n",
       "    <tr>\n",
       "      <th>50%</th>\n",
       "      <td>106.000000</td>\n",
       "      <td>5622.000000</td>\n",
       "      <td>1034.000000</td>\n",
       "      <td>2000.000000</td>\n",
       "      <td>2000.000000</td>\n",
       "      <td>5.808000e+03</td>\n",
       "    </tr>\n",
       "    <tr>\n",
       "      <th>75%</th>\n",
       "      <td>231.000000</td>\n",
       "      <td>5910.000000</td>\n",
       "      <td>1079.000000</td>\n",
       "      <td>2012.000000</td>\n",
       "      <td>2012.000000</td>\n",
       "      <td>6.571350e+04</td>\n",
       "    </tr>\n",
       "    <tr>\n",
       "      <th>max</th>\n",
       "      <td>351.000000</td>\n",
       "      <td>5922.000000</td>\n",
       "      <td>1096.000000</td>\n",
       "      <td>2020.000000</td>\n",
       "      <td>2020.000000</td>\n",
       "      <td>1.589366e+07</td>\n",
       "    </tr>\n",
       "  </tbody>\n",
       "</table>\n",
       "</div>"
      ],
      "text/plain": [
       "       Area Code (FAO)  Element Code  Item Code (FAO)     Year Code  \\\n",
       "count     14411.000000  14411.000000     14411.000000  14411.000000   \n",
       "mean        154.272778   5764.227257      1023.589480   1998.889182   \n",
       "std          95.451054    150.154608        70.081096     14.211274   \n",
       "min          54.000000   5608.000000       866.000000   1973.000000   \n",
       "25%          79.000000   5610.000000       976.000000   1987.000000   \n",
       "50%         106.000000   5622.000000      1034.000000   2000.000000   \n",
       "75%         231.000000   5910.000000      1079.000000   2012.000000   \n",
       "max         351.000000   5922.000000      1096.000000   2020.000000   \n",
       "\n",
       "               Year         Value  \n",
       "count  14411.000000  1.426300e+04  \n",
       "mean    1998.889182  1.764494e+05  \n",
       "std       14.211274  7.850559e+05  \n",
       "min     1973.000000  0.000000e+00  \n",
       "25%     1987.000000  2.640000e+02  \n",
       "50%     2000.000000  5.808000e+03  \n",
       "75%     2012.000000  6.571350e+04  \n",
       "max     2020.000000  1.589366e+07  "
      ]
     },
     "execution_count": 152,
     "metadata": {},
     "output_type": "execute_result"
    }
   ],
   "source": [
    "imp_exp.describe()"
   ]
  },
  {
   "cell_type": "markdown",
   "id": "d57176a3",
   "metadata": {},
   "source": [
    "The data is in its current layout is not suitable for statistical analysis as each country is a row.\n",
    "I need to melt the data so that the values for each country are in a column item type."
   ]
  },
  {
   "cell_type": "code",
   "execution_count": 153,
   "id": "75c34552",
   "metadata": {
    "ExecuteTime": {
     "end_time": "2022-05-05T13:29:59.216942Z",
     "start_time": "2022-05-05T13:29:59.200945Z"
    }
   },
   "outputs": [
    {
     "data": {
      "text/plain": [
       "array(['Cattle', 'Chickens', 'Ducks', 'Goats', 'Horses', 'Pigs', 'Sheep',\n",
       "       'Turkeys'], dtype=object)"
      ]
     },
     "execution_count": 153,
     "metadata": {},
     "output_type": "execute_result"
    }
   ],
   "source": [
    "imp_exp.Item.unique()"
   ]
  },
  {
   "cell_type": "markdown",
   "id": "137c9c18",
   "metadata": {},
   "source": [
    "There are 8 animal categories in the import export data. I can remove the repetition from these item categories when I clean the data"
   ]
  },
  {
   "cell_type": "code",
   "execution_count": 154,
   "id": "cf25dd88",
   "metadata": {
    "ExecuteTime": {
     "end_time": "2022-05-05T13:29:59.232950Z",
     "start_time": "2022-05-05T13:29:59.217943Z"
    }
   },
   "outputs": [
    {
     "data": {
      "text/plain": [
       "array(['Belgium', 'China', 'Denmark', 'France', 'Germany', 'Ireland',\n",
       "       'Italy', 'Luxembourg', 'Netherlands', 'United States of America'],\n",
       "      dtype=object)"
      ]
     },
     "execution_count": 154,
     "metadata": {},
     "output_type": "execute_result"
    }
   ],
   "source": [
    "imp_exp.Area.unique()"
   ]
  },
  {
   "cell_type": "markdown",
   "id": "4e1a1b34",
   "metadata": {},
   "source": [
    "As above:\n",
    "\n",
    "The dataset contains 8 EU countries Belgium, Denmark, France, Germany, Luxembourg, Ireland, Italy and the Netherlands. All of these countries have been member states since at least Jan 1st 1973.\n",
    "\n",
    "Belgium, France, Germany, Luxembourg, Italy and the Netherlands founded the EU in 1957 with Ireland and Denmark Joining on the 1st January 1973.\n",
    "\n",
    "Therefore, to ensure data comparability between these countries and the US and China, I limited the datasets time frame from 1st January 1973 to 31st December 2020 (most recent data available). This ensures that all European countries were member states of the EU at the time of analysis. \n",
    "\n",
    "We can confirm this as follows"
   ]
  },
  {
   "cell_type": "code",
   "execution_count": 155,
   "id": "6691591b",
   "metadata": {
    "ExecuteTime": {
     "end_time": "2022-05-05T13:29:59.248941Z",
     "start_time": "2022-05-05T13:29:59.233935Z"
    }
   },
   "outputs": [
    {
     "data": {
      "text/plain": [
       "array([2000, 2001, 2002, 2003, 2004, 2005, 2006, 2007, 2008, 2009, 2010,\n",
       "       2011, 2012, 2013, 2014, 2015, 2016, 2017, 2018, 2019, 2020, 1973,\n",
       "       1974, 1975, 1976, 1977, 1978, 1979, 1980, 1981, 1982, 1983, 1984,\n",
       "       1985, 1986, 1987, 1988, 1989, 1990, 1991, 1992, 1993, 1994, 1995,\n",
       "       1996, 1997, 1998, 1999], dtype=int64)"
      ]
     },
     "execution_count": 155,
     "metadata": {},
     "output_type": "execute_result"
    }
   ],
   "source": [
    "imp_exp.Year.unique()"
   ]
  },
  {
   "cell_type": "code",
   "execution_count": 156,
   "id": "40538734",
   "metadata": {
    "ExecuteTime": {
     "end_time": "2022-05-05T13:29:59.264941Z",
     "start_time": "2022-05-05T13:29:59.249944Z"
    }
   },
   "outputs": [
    {
     "name": "stdout",
     "output_type": "stream",
     "text": [
      "The earliest year in the dataset is 1973 and the maximum year is 2020\n"
     ]
    }
   ],
   "source": [
    "print(f\"The earliest year in the dataset is {imp_exp.Year.min()} and the maximum year is {imp_exp.Year.max()}\")"
   ]
  },
  {
   "cell_type": "markdown",
   "id": "2ded7066",
   "metadata": {},
   "source": [
    "Next we can observe what units the import export data has been recorded in"
   ]
  },
  {
   "cell_type": "code",
   "execution_count": 157,
   "id": "3b2e1e3d",
   "metadata": {
    "ExecuteTime": {
     "end_time": "2022-05-05T13:29:59.280935Z",
     "start_time": "2022-05-05T13:29:59.265943Z"
    }
   },
   "outputs": [
    {
     "data": {
      "text/plain": [
       "array(['Head', 'tonnes', '1000 US$', '1000 Head'], dtype=object)"
      ]
     },
     "execution_count": 157,
     "metadata": {},
     "output_type": "execute_result"
    }
   ],
   "source": [
    "imp_exp.Unit.unique()"
   ]
  },
  {
   "cell_type": "markdown",
   "id": "673c7177",
   "metadata": {},
   "source": [
    "Import export data has been recorded in in \"tonnes\", \"heads\", \"1000 US $\" and \"1000 heads\"."
   ]
  },
  {
   "cell_type": "code",
   "execution_count": 158,
   "id": "d93e3dfc",
   "metadata": {
    "ExecuteTime": {
     "end_time": "2022-05-05T13:29:59.296942Z",
     "start_time": "2022-05-05T13:29:59.281934Z"
    }
   },
   "outputs": [
    {
     "data": {
      "text/plain": [
       "array(['Import Quantity', 'Import Value', 'Export Quantity',\n",
       "       'Export Value'], dtype=object)"
      ]
     },
     "execution_count": 158,
     "metadata": {},
     "output_type": "execute_result"
    }
   ],
   "source": [
    "imp_exp.Element.unique()"
   ]
  },
  {
   "cell_type": "markdown",
   "id": "3e2bbfc0",
   "metadata": {},
   "source": [
    "All livestock in this dataset is at production."
   ]
  },
  {
   "cell_type": "markdown",
   "id": "8cc54758",
   "metadata": {},
   "source": [
    "Checking for null values"
   ]
  },
  {
   "cell_type": "code",
   "execution_count": 159,
   "id": "37e5d03c",
   "metadata": {
    "ExecuteTime": {
     "end_time": "2022-05-05T13:29:59.312942Z",
     "start_time": "2022-05-05T13:29:59.297945Z"
    },
    "scrolled": true
   },
   "outputs": [
    {
     "data": {
      "text/plain": [
       "Domain Code             0\n",
       "Domain                  0\n",
       "Area Code (FAO)         0\n",
       "Area                    0\n",
       "Element Code            0\n",
       "Element                 0\n",
       "Item Code (FAO)         0\n",
       "Item                    0\n",
       "Year Code               0\n",
       "Year                    0\n",
       "Unit                    0\n",
       "Value                 148\n",
       "Flag                11965\n",
       "Flag Description        0\n",
       "dtype: int64"
      ]
     },
     "execution_count": 159,
     "metadata": {},
     "output_type": "execute_result"
    }
   ],
   "source": [
    "imp_exp.isnull().sum()"
   ]
  },
  {
   "cell_type": "code",
   "execution_count": 160,
   "id": "5d685524",
   "metadata": {
    "ExecuteTime": {
     "end_time": "2022-05-05T13:29:59.328942Z",
     "start_time": "2022-05-05T13:29:59.313943Z"
    }
   },
   "outputs": [
    {
     "name": "stdout",
     "output_type": "stream",
     "text": [
      "The percentage of missing values is:\n",
      "Domain Code          0.00\n",
      "Domain               0.00\n",
      "Area Code (FAO)      0.00\n",
      "Area                 0.00\n",
      "Element Code         0.00\n",
      "Element              0.00\n",
      "Item Code (FAO)      0.00\n",
      "Item                 0.00\n",
      "Year Code            0.00\n",
      "Year                 0.00\n",
      "Unit                 0.00\n",
      "Value                1.03\n",
      "Flag                83.03\n",
      "Flag Description     0.00\n",
      "dtype: float64\n"
     ]
    }
   ],
   "source": [
    "calc_percent_missing(imp_exp.isnull().sum(), len(imp_exp))"
   ]
  },
  {
   "cell_type": "markdown",
   "id": "0974ff54",
   "metadata": {
    "ExecuteTime": {
     "end_time": "2022-05-04T12:32:35.976056Z",
     "start_time": "2022-05-04T12:32:35.961016Z"
    }
   },
   "source": [
    "There are missing values in the \"Value\" and \"Flag\" columns.  The flag column is not important to our data analysis\n",
    "so I can remove this during data preparation. However, the value column requires further investigation. We can test if these values are missing at random or not at random by filtering the values that are NaN or 0"
   ]
  },
  {
   "cell_type": "code",
   "execution_count": 161,
   "id": "c0e53b08",
   "metadata": {
    "ExecuteTime": {
     "end_time": "2022-05-05T13:29:59.343933Z",
     "start_time": "2022-05-05T13:29:59.329947Z"
    }
   },
   "outputs": [],
   "source": [
    "# Creating a data frame of missing import export data \n",
    "imp_exp_miss = imp_exp.loc[(imp_exp['Value'] == imp_exp.Value.isnull())]"
   ]
  },
  {
   "cell_type": "code",
   "execution_count": 162,
   "id": "9ae86bcd",
   "metadata": {
    "ExecuteTime": {
     "end_time": "2022-05-05T13:29:59.358943Z",
     "start_time": "2022-05-05T13:29:59.344955Z"
    }
   },
   "outputs": [
    {
     "data": {
      "text/html": [
       "<div>\n",
       "<style scoped>\n",
       "    .dataframe tbody tr th:only-of-type {\n",
       "        vertical-align: middle;\n",
       "    }\n",
       "\n",
       "    .dataframe tbody tr th {\n",
       "        vertical-align: top;\n",
       "    }\n",
       "\n",
       "    .dataframe thead th {\n",
       "        text-align: right;\n",
       "    }\n",
       "</style>\n",
       "<table border=\"1\" class=\"dataframe\">\n",
       "  <thead>\n",
       "    <tr style=\"text-align: right;\">\n",
       "      <th></th>\n",
       "      <th>Domain Code</th>\n",
       "      <th>Domain</th>\n",
       "      <th>Area Code (FAO)</th>\n",
       "      <th>Area</th>\n",
       "      <th>Element Code</th>\n",
       "      <th>Element</th>\n",
       "      <th>Item Code (FAO)</th>\n",
       "      <th>Item</th>\n",
       "      <th>Year Code</th>\n",
       "      <th>Year</th>\n",
       "      <th>Unit</th>\n",
       "      <th>Value</th>\n",
       "      <th>Flag</th>\n",
       "      <th>Flag Description</th>\n",
       "    </tr>\n",
       "  </thead>\n",
       "  <tbody>\n",
       "    <tr>\n",
       "      <th>883</th>\n",
       "      <td>QCL</td>\n",
       "      <td>Crops and livestock products</td>\n",
       "      <td>54</td>\n",
       "      <td>Denmark</td>\n",
       "      <td>5510</td>\n",
       "      <td>Production</td>\n",
       "      <td>1017</td>\n",
       "      <td>Meat, goat</td>\n",
       "      <td>2018</td>\n",
       "      <td>2018</td>\n",
       "      <td>tonnes</td>\n",
       "      <td>0.0</td>\n",
       "      <td>NaN</td>\n",
       "      <td>Official data</td>\n",
       "    </tr>\n",
       "    <tr>\n",
       "      <th>884</th>\n",
       "      <td>QCL</td>\n",
       "      <td>Crops and livestock products</td>\n",
       "      <td>54</td>\n",
       "      <td>Denmark</td>\n",
       "      <td>5510</td>\n",
       "      <td>Production</td>\n",
       "      <td>1017</td>\n",
       "      <td>Meat, goat</td>\n",
       "      <td>2019</td>\n",
       "      <td>2019</td>\n",
       "      <td>tonnes</td>\n",
       "      <td>0.0</td>\n",
       "      <td>NaN</td>\n",
       "      <td>Official data</td>\n",
       "    </tr>\n",
       "    <tr>\n",
       "      <th>885</th>\n",
       "      <td>QCL</td>\n",
       "      <td>Crops and livestock products</td>\n",
       "      <td>54</td>\n",
       "      <td>Denmark</td>\n",
       "      <td>5510</td>\n",
       "      <td>Production</td>\n",
       "      <td>1017</td>\n",
       "      <td>Meat, goat</td>\n",
       "      <td>2020</td>\n",
       "      <td>2020</td>\n",
       "      <td>tonnes</td>\n",
       "      <td>0.0</td>\n",
       "      <td>NaN</td>\n",
       "      <td>Official data</td>\n",
       "    </tr>\n",
       "    <tr>\n",
       "      <th>1151</th>\n",
       "      <td>QCL</td>\n",
       "      <td>Crops and livestock products</td>\n",
       "      <td>54</td>\n",
       "      <td>Denmark</td>\n",
       "      <td>5510</td>\n",
       "      <td>Production</td>\n",
       "      <td>1080</td>\n",
       "      <td>Meat, turkey</td>\n",
       "      <td>2018</td>\n",
       "      <td>2018</td>\n",
       "      <td>tonnes</td>\n",
       "      <td>0.0</td>\n",
       "      <td>NaN</td>\n",
       "      <td>Official data</td>\n",
       "    </tr>\n",
       "    <tr>\n",
       "      <th>1152</th>\n",
       "      <td>QCL</td>\n",
       "      <td>Crops and livestock products</td>\n",
       "      <td>54</td>\n",
       "      <td>Denmark</td>\n",
       "      <td>5510</td>\n",
       "      <td>Production</td>\n",
       "      <td>1080</td>\n",
       "      <td>Meat, turkey</td>\n",
       "      <td>2019</td>\n",
       "      <td>2019</td>\n",
       "      <td>tonnes</td>\n",
       "      <td>0.0</td>\n",
       "      <td>NaN</td>\n",
       "      <td>Official data</td>\n",
       "    </tr>\n",
       "    <tr>\n",
       "      <th>1153</th>\n",
       "      <td>QCL</td>\n",
       "      <td>Crops and livestock products</td>\n",
       "      <td>54</td>\n",
       "      <td>Denmark</td>\n",
       "      <td>5510</td>\n",
       "      <td>Production</td>\n",
       "      <td>1080</td>\n",
       "      <td>Meat, turkey</td>\n",
       "      <td>2020</td>\n",
       "      <td>2020</td>\n",
       "      <td>tonnes</td>\n",
       "      <td>0.0</td>\n",
       "      <td>NaN</td>\n",
       "      <td>Official data</td>\n",
       "    </tr>\n",
       "    <tr>\n",
       "      <th>1862</th>\n",
       "      <td>QCL</td>\n",
       "      <td>Crops and livestock products</td>\n",
       "      <td>79</td>\n",
       "      <td>Germany</td>\n",
       "      <td>5510</td>\n",
       "      <td>Production</td>\n",
       "      <td>1017</td>\n",
       "      <td>Meat, goat</td>\n",
       "      <td>2018</td>\n",
       "      <td>2018</td>\n",
       "      <td>tonnes</td>\n",
       "      <td>0.0</td>\n",
       "      <td>NaN</td>\n",
       "      <td>Official data</td>\n",
       "    </tr>\n",
       "    <tr>\n",
       "      <th>1863</th>\n",
       "      <td>QCL</td>\n",
       "      <td>Crops and livestock products</td>\n",
       "      <td>79</td>\n",
       "      <td>Germany</td>\n",
       "      <td>5510</td>\n",
       "      <td>Production</td>\n",
       "      <td>1017</td>\n",
       "      <td>Meat, goat</td>\n",
       "      <td>2019</td>\n",
       "      <td>2019</td>\n",
       "      <td>tonnes</td>\n",
       "      <td>0.0</td>\n",
       "      <td>NaN</td>\n",
       "      <td>Official data</td>\n",
       "    </tr>\n",
       "    <tr>\n",
       "      <th>1864</th>\n",
       "      <td>QCL</td>\n",
       "      <td>Crops and livestock products</td>\n",
       "      <td>79</td>\n",
       "      <td>Germany</td>\n",
       "      <td>5510</td>\n",
       "      <td>Production</td>\n",
       "      <td>1017</td>\n",
       "      <td>Meat, goat</td>\n",
       "      <td>2020</td>\n",
       "      <td>2020</td>\n",
       "      <td>tonnes</td>\n",
       "      <td>0.0</td>\n",
       "      <td>NaN</td>\n",
       "      <td>Official data</td>\n",
       "    </tr>\n",
       "    <tr>\n",
       "      <th>2293</th>\n",
       "      <td>QCL</td>\n",
       "      <td>Crops and livestock products</td>\n",
       "      <td>104</td>\n",
       "      <td>Ireland</td>\n",
       "      <td>5510</td>\n",
       "      <td>Production</td>\n",
       "      <td>1017</td>\n",
       "      <td>Meat, goat</td>\n",
       "      <td>2018</td>\n",
       "      <td>2018</td>\n",
       "      <td>tonnes</td>\n",
       "      <td>0.0</td>\n",
       "      <td>NaN</td>\n",
       "      <td>Official data</td>\n",
       "    </tr>\n",
       "    <tr>\n",
       "      <th>2294</th>\n",
       "      <td>QCL</td>\n",
       "      <td>Crops and livestock products</td>\n",
       "      <td>104</td>\n",
       "      <td>Ireland</td>\n",
       "      <td>5510</td>\n",
       "      <td>Production</td>\n",
       "      <td>1017</td>\n",
       "      <td>Meat, goat</td>\n",
       "      <td>2019</td>\n",
       "      <td>2019</td>\n",
       "      <td>tonnes</td>\n",
       "      <td>0.0</td>\n",
       "      <td>NaN</td>\n",
       "      <td>Official data</td>\n",
       "    </tr>\n",
       "    <tr>\n",
       "      <th>2295</th>\n",
       "      <td>QCL</td>\n",
       "      <td>Crops and livestock products</td>\n",
       "      <td>104</td>\n",
       "      <td>Ireland</td>\n",
       "      <td>5510</td>\n",
       "      <td>Production</td>\n",
       "      <td>1017</td>\n",
       "      <td>Meat, goat</td>\n",
       "      <td>2020</td>\n",
       "      <td>2020</td>\n",
       "      <td>tonnes</td>\n",
       "      <td>0.0</td>\n",
       "      <td>NaN</td>\n",
       "      <td>Official data</td>\n",
       "    </tr>\n",
       "    <tr>\n",
       "      <th>2987</th>\n",
       "      <td>QCL</td>\n",
       "      <td>Crops and livestock products</td>\n",
       "      <td>256</td>\n",
       "      <td>Luxembourg</td>\n",
       "      <td>5510</td>\n",
       "      <td>Production</td>\n",
       "      <td>1058</td>\n",
       "      <td>Meat, chicken</td>\n",
       "      <td>2018</td>\n",
       "      <td>2018</td>\n",
       "      <td>tonnes</td>\n",
       "      <td>0.0</td>\n",
       "      <td>NaN</td>\n",
       "      <td>Official data</td>\n",
       "    </tr>\n",
       "    <tr>\n",
       "      <th>2988</th>\n",
       "      <td>QCL</td>\n",
       "      <td>Crops and livestock products</td>\n",
       "      <td>256</td>\n",
       "      <td>Luxembourg</td>\n",
       "      <td>5510</td>\n",
       "      <td>Production</td>\n",
       "      <td>1058</td>\n",
       "      <td>Meat, chicken</td>\n",
       "      <td>2019</td>\n",
       "      <td>2019</td>\n",
       "      <td>tonnes</td>\n",
       "      <td>0.0</td>\n",
       "      <td>NaN</td>\n",
       "      <td>Official data</td>\n",
       "    </tr>\n",
       "    <tr>\n",
       "      <th>2989</th>\n",
       "      <td>QCL</td>\n",
       "      <td>Crops and livestock products</td>\n",
       "      <td>256</td>\n",
       "      <td>Luxembourg</td>\n",
       "      <td>5510</td>\n",
       "      <td>Production</td>\n",
       "      <td>1058</td>\n",
       "      <td>Meat, chicken</td>\n",
       "      <td>2020</td>\n",
       "      <td>2020</td>\n",
       "      <td>tonnes</td>\n",
       "      <td>0.0</td>\n",
       "      <td>NaN</td>\n",
       "      <td>Official data</td>\n",
       "    </tr>\n",
       "    <tr>\n",
       "      <th>2990</th>\n",
       "      <td>QCL</td>\n",
       "      <td>Crops and livestock products</td>\n",
       "      <td>256</td>\n",
       "      <td>Luxembourg</td>\n",
       "      <td>5510</td>\n",
       "      <td>Production</td>\n",
       "      <td>1069</td>\n",
       "      <td>Meat, duck</td>\n",
       "      <td>2018</td>\n",
       "      <td>2018</td>\n",
       "      <td>tonnes</td>\n",
       "      <td>0.0</td>\n",
       "      <td>NaN</td>\n",
       "      <td>Official data</td>\n",
       "    </tr>\n",
       "    <tr>\n",
       "      <th>2991</th>\n",
       "      <td>QCL</td>\n",
       "      <td>Crops and livestock products</td>\n",
       "      <td>256</td>\n",
       "      <td>Luxembourg</td>\n",
       "      <td>5510</td>\n",
       "      <td>Production</td>\n",
       "      <td>1069</td>\n",
       "      <td>Meat, duck</td>\n",
       "      <td>2019</td>\n",
       "      <td>2019</td>\n",
       "      <td>tonnes</td>\n",
       "      <td>0.0</td>\n",
       "      <td>NaN</td>\n",
       "      <td>Official data</td>\n",
       "    </tr>\n",
       "    <tr>\n",
       "      <th>2992</th>\n",
       "      <td>QCL</td>\n",
       "      <td>Crops and livestock products</td>\n",
       "      <td>256</td>\n",
       "      <td>Luxembourg</td>\n",
       "      <td>5510</td>\n",
       "      <td>Production</td>\n",
       "      <td>1069</td>\n",
       "      <td>Meat, duck</td>\n",
       "      <td>2020</td>\n",
       "      <td>2020</td>\n",
       "      <td>tonnes</td>\n",
       "      <td>0.0</td>\n",
       "      <td>NaN</td>\n",
       "      <td>Official data</td>\n",
       "    </tr>\n",
       "    <tr>\n",
       "      <th>3012</th>\n",
       "      <td>QCL</td>\n",
       "      <td>Crops and livestock products</td>\n",
       "      <td>256</td>\n",
       "      <td>Luxembourg</td>\n",
       "      <td>5510</td>\n",
       "      <td>Production</td>\n",
       "      <td>1017</td>\n",
       "      <td>Meat, goat</td>\n",
       "      <td>2000</td>\n",
       "      <td>2000</td>\n",
       "      <td>tonnes</td>\n",
       "      <td>0.0</td>\n",
       "      <td>NaN</td>\n",
       "      <td>Official data</td>\n",
       "    </tr>\n",
       "    <tr>\n",
       "      <th>3013</th>\n",
       "      <td>QCL</td>\n",
       "      <td>Crops and livestock products</td>\n",
       "      <td>256</td>\n",
       "      <td>Luxembourg</td>\n",
       "      <td>5510</td>\n",
       "      <td>Production</td>\n",
       "      <td>1017</td>\n",
       "      <td>Meat, goat</td>\n",
       "      <td>2001</td>\n",
       "      <td>2001</td>\n",
       "      <td>tonnes</td>\n",
       "      <td>0.0</td>\n",
       "      <td>NaN</td>\n",
       "      <td>Official data</td>\n",
       "    </tr>\n",
       "    <tr>\n",
       "      <th>3030</th>\n",
       "      <td>QCL</td>\n",
       "      <td>Crops and livestock products</td>\n",
       "      <td>256</td>\n",
       "      <td>Luxembourg</td>\n",
       "      <td>5510</td>\n",
       "      <td>Production</td>\n",
       "      <td>1017</td>\n",
       "      <td>Meat, goat</td>\n",
       "      <td>2018</td>\n",
       "      <td>2018</td>\n",
       "      <td>tonnes</td>\n",
       "      <td>0.0</td>\n",
       "      <td>NaN</td>\n",
       "      <td>Official data</td>\n",
       "    </tr>\n",
       "    <tr>\n",
       "      <th>3031</th>\n",
       "      <td>QCL</td>\n",
       "      <td>Crops and livestock products</td>\n",
       "      <td>256</td>\n",
       "      <td>Luxembourg</td>\n",
       "      <td>5510</td>\n",
       "      <td>Production</td>\n",
       "      <td>1017</td>\n",
       "      <td>Meat, goat</td>\n",
       "      <td>2019</td>\n",
       "      <td>2019</td>\n",
       "      <td>tonnes</td>\n",
       "      <td>0.0</td>\n",
       "      <td>NaN</td>\n",
       "      <td>Official data</td>\n",
       "    </tr>\n",
       "    <tr>\n",
       "      <th>3032</th>\n",
       "      <td>QCL</td>\n",
       "      <td>Crops and livestock products</td>\n",
       "      <td>256</td>\n",
       "      <td>Luxembourg</td>\n",
       "      <td>5510</td>\n",
       "      <td>Production</td>\n",
       "      <td>1017</td>\n",
       "      <td>Meat, goat</td>\n",
       "      <td>2020</td>\n",
       "      <td>2020</td>\n",
       "      <td>tonnes</td>\n",
       "      <td>0.0</td>\n",
       "      <td>NaN</td>\n",
       "      <td>Official data</td>\n",
       "    </tr>\n",
       "    <tr>\n",
       "      <th>3034</th>\n",
       "      <td>QCL</td>\n",
       "      <td>Crops and livestock products</td>\n",
       "      <td>256</td>\n",
       "      <td>Luxembourg</td>\n",
       "      <td>5510</td>\n",
       "      <td>Production</td>\n",
       "      <td>1097</td>\n",
       "      <td>Meat, horse</td>\n",
       "      <td>2001</td>\n",
       "      <td>2001</td>\n",
       "      <td>tonnes</td>\n",
       "      <td>0.0</td>\n",
       "      <td>NaN</td>\n",
       "      <td>Official data</td>\n",
       "    </tr>\n",
       "    <tr>\n",
       "      <th>3114</th>\n",
       "      <td>QCL</td>\n",
       "      <td>Crops and livestock products</td>\n",
       "      <td>256</td>\n",
       "      <td>Luxembourg</td>\n",
       "      <td>5510</td>\n",
       "      <td>Production</td>\n",
       "      <td>1080</td>\n",
       "      <td>Meat, turkey</td>\n",
       "      <td>2018</td>\n",
       "      <td>2018</td>\n",
       "      <td>tonnes</td>\n",
       "      <td>0.0</td>\n",
       "      <td>NaN</td>\n",
       "      <td>Official data</td>\n",
       "    </tr>\n",
       "    <tr>\n",
       "      <th>3115</th>\n",
       "      <td>QCL</td>\n",
       "      <td>Crops and livestock products</td>\n",
       "      <td>256</td>\n",
       "      <td>Luxembourg</td>\n",
       "      <td>5510</td>\n",
       "      <td>Production</td>\n",
       "      <td>1080</td>\n",
       "      <td>Meat, turkey</td>\n",
       "      <td>2019</td>\n",
       "      <td>2019</td>\n",
       "      <td>tonnes</td>\n",
       "      <td>0.0</td>\n",
       "      <td>NaN</td>\n",
       "      <td>Official data</td>\n",
       "    </tr>\n",
       "    <tr>\n",
       "      <th>3116</th>\n",
       "      <td>QCL</td>\n",
       "      <td>Crops and livestock products</td>\n",
       "      <td>256</td>\n",
       "      <td>Luxembourg</td>\n",
       "      <td>5510</td>\n",
       "      <td>Production</td>\n",
       "      <td>1080</td>\n",
       "      <td>Meat, turkey</td>\n",
       "      <td>2020</td>\n",
       "      <td>2020</td>\n",
       "      <td>tonnes</td>\n",
       "      <td>0.0</td>\n",
       "      <td>NaN</td>\n",
       "      <td>Official data</td>\n",
       "    </tr>\n",
       "    <tr>\n",
       "      <th>3261</th>\n",
       "      <td>QCL</td>\n",
       "      <td>Crops and livestock products</td>\n",
       "      <td>150</td>\n",
       "      <td>Netherlands</td>\n",
       "      <td>5510</td>\n",
       "      <td>Production</td>\n",
       "      <td>1163</td>\n",
       "      <td>Meat, game</td>\n",
       "      <td>1986</td>\n",
       "      <td>1986</td>\n",
       "      <td>tonnes</td>\n",
       "      <td>0.0</td>\n",
       "      <td>F</td>\n",
       "      <td>FAO estimate</td>\n",
       "    </tr>\n",
       "    <tr>\n",
       "      <th>3279</th>\n",
       "      <td>QCL</td>\n",
       "      <td>Crops and livestock products</td>\n",
       "      <td>150</td>\n",
       "      <td>Netherlands</td>\n",
       "      <td>5510</td>\n",
       "      <td>Production</td>\n",
       "      <td>1163</td>\n",
       "      <td>Meat, game</td>\n",
       "      <td>2005</td>\n",
       "      <td>2005</td>\n",
       "      <td>tonnes</td>\n",
       "      <td>0.0</td>\n",
       "      <td>F</td>\n",
       "      <td>FAO estimate</td>\n",
       "    </tr>\n",
       "    <tr>\n",
       "      <th>3523</th>\n",
       "      <td>QCL</td>\n",
       "      <td>Crops and livestock products</td>\n",
       "      <td>150</td>\n",
       "      <td>Netherlands</td>\n",
       "      <td>5510</td>\n",
       "      <td>Production</td>\n",
       "      <td>1080</td>\n",
       "      <td>Meat, turkey</td>\n",
       "      <td>2018</td>\n",
       "      <td>2018</td>\n",
       "      <td>tonnes</td>\n",
       "      <td>0.0</td>\n",
       "      <td>NaN</td>\n",
       "      <td>Official data</td>\n",
       "    </tr>\n",
       "    <tr>\n",
       "      <th>3524</th>\n",
       "      <td>QCL</td>\n",
       "      <td>Crops and livestock products</td>\n",
       "      <td>150</td>\n",
       "      <td>Netherlands</td>\n",
       "      <td>5510</td>\n",
       "      <td>Production</td>\n",
       "      <td>1080</td>\n",
       "      <td>Meat, turkey</td>\n",
       "      <td>2019</td>\n",
       "      <td>2019</td>\n",
       "      <td>tonnes</td>\n",
       "      <td>0.0</td>\n",
       "      <td>NaN</td>\n",
       "      <td>Official data</td>\n",
       "    </tr>\n",
       "    <tr>\n",
       "      <th>3525</th>\n",
       "      <td>QCL</td>\n",
       "      <td>Crops and livestock products</td>\n",
       "      <td>150</td>\n",
       "      <td>Netherlands</td>\n",
       "      <td>5510</td>\n",
       "      <td>Production</td>\n",
       "      <td>1080</td>\n",
       "      <td>Meat, turkey</td>\n",
       "      <td>2020</td>\n",
       "      <td>2020</td>\n",
       "      <td>tonnes</td>\n",
       "      <td>0.0</td>\n",
       "      <td>NaN</td>\n",
       "      <td>Official data</td>\n",
       "    </tr>\n",
       "  </tbody>\n",
       "</table>\n",
       "</div>"
      ],
      "text/plain": [
       "     Domain Code                        Domain  Area Code (FAO)         Area  \\\n",
       "883          QCL  Crops and livestock products               54      Denmark   \n",
       "884          QCL  Crops and livestock products               54      Denmark   \n",
       "885          QCL  Crops and livestock products               54      Denmark   \n",
       "1151         QCL  Crops and livestock products               54      Denmark   \n",
       "1152         QCL  Crops and livestock products               54      Denmark   \n",
       "1153         QCL  Crops and livestock products               54      Denmark   \n",
       "1862         QCL  Crops and livestock products               79      Germany   \n",
       "1863         QCL  Crops and livestock products               79      Germany   \n",
       "1864         QCL  Crops and livestock products               79      Germany   \n",
       "2293         QCL  Crops and livestock products              104      Ireland   \n",
       "2294         QCL  Crops and livestock products              104      Ireland   \n",
       "2295         QCL  Crops and livestock products              104      Ireland   \n",
       "2987         QCL  Crops and livestock products              256   Luxembourg   \n",
       "2988         QCL  Crops and livestock products              256   Luxembourg   \n",
       "2989         QCL  Crops and livestock products              256   Luxembourg   \n",
       "2990         QCL  Crops and livestock products              256   Luxembourg   \n",
       "2991         QCL  Crops and livestock products              256   Luxembourg   \n",
       "2992         QCL  Crops and livestock products              256   Luxembourg   \n",
       "3012         QCL  Crops and livestock products              256   Luxembourg   \n",
       "3013         QCL  Crops and livestock products              256   Luxembourg   \n",
       "3030         QCL  Crops and livestock products              256   Luxembourg   \n",
       "3031         QCL  Crops and livestock products              256   Luxembourg   \n",
       "3032         QCL  Crops and livestock products              256   Luxembourg   \n",
       "3034         QCL  Crops and livestock products              256   Luxembourg   \n",
       "3114         QCL  Crops and livestock products              256   Luxembourg   \n",
       "3115         QCL  Crops and livestock products              256   Luxembourg   \n",
       "3116         QCL  Crops and livestock products              256   Luxembourg   \n",
       "3261         QCL  Crops and livestock products              150  Netherlands   \n",
       "3279         QCL  Crops and livestock products              150  Netherlands   \n",
       "3523         QCL  Crops and livestock products              150  Netherlands   \n",
       "3524         QCL  Crops and livestock products              150  Netherlands   \n",
       "3525         QCL  Crops and livestock products              150  Netherlands   \n",
       "\n",
       "      Element Code     Element  Item Code (FAO)           Item  Year Code  \\\n",
       "883           5510  Production             1017     Meat, goat       2018   \n",
       "884           5510  Production             1017     Meat, goat       2019   \n",
       "885           5510  Production             1017     Meat, goat       2020   \n",
       "1151          5510  Production             1080   Meat, turkey       2018   \n",
       "1152          5510  Production             1080   Meat, turkey       2019   \n",
       "1153          5510  Production             1080   Meat, turkey       2020   \n",
       "1862          5510  Production             1017     Meat, goat       2018   \n",
       "1863          5510  Production             1017     Meat, goat       2019   \n",
       "1864          5510  Production             1017     Meat, goat       2020   \n",
       "2293          5510  Production             1017     Meat, goat       2018   \n",
       "2294          5510  Production             1017     Meat, goat       2019   \n",
       "2295          5510  Production             1017     Meat, goat       2020   \n",
       "2987          5510  Production             1058  Meat, chicken       2018   \n",
       "2988          5510  Production             1058  Meat, chicken       2019   \n",
       "2989          5510  Production             1058  Meat, chicken       2020   \n",
       "2990          5510  Production             1069     Meat, duck       2018   \n",
       "2991          5510  Production             1069     Meat, duck       2019   \n",
       "2992          5510  Production             1069     Meat, duck       2020   \n",
       "3012          5510  Production             1017     Meat, goat       2000   \n",
       "3013          5510  Production             1017     Meat, goat       2001   \n",
       "3030          5510  Production             1017     Meat, goat       2018   \n",
       "3031          5510  Production             1017     Meat, goat       2019   \n",
       "3032          5510  Production             1017     Meat, goat       2020   \n",
       "3034          5510  Production             1097    Meat, horse       2001   \n",
       "3114          5510  Production             1080   Meat, turkey       2018   \n",
       "3115          5510  Production             1080   Meat, turkey       2019   \n",
       "3116          5510  Production             1080   Meat, turkey       2020   \n",
       "3261          5510  Production             1163     Meat, game       1986   \n",
       "3279          5510  Production             1163     Meat, game       2005   \n",
       "3523          5510  Production             1080   Meat, turkey       2018   \n",
       "3524          5510  Production             1080   Meat, turkey       2019   \n",
       "3525          5510  Production             1080   Meat, turkey       2020   \n",
       "\n",
       "      Year    Unit  Value Flag Flag Description  \n",
       "883   2018  tonnes    0.0  NaN    Official data  \n",
       "884   2019  tonnes    0.0  NaN    Official data  \n",
       "885   2020  tonnes    0.0  NaN    Official data  \n",
       "1151  2018  tonnes    0.0  NaN    Official data  \n",
       "1152  2019  tonnes    0.0  NaN    Official data  \n",
       "1153  2020  tonnes    0.0  NaN    Official data  \n",
       "1862  2018  tonnes    0.0  NaN    Official data  \n",
       "1863  2019  tonnes    0.0  NaN    Official data  \n",
       "1864  2020  tonnes    0.0  NaN    Official data  \n",
       "2293  2018  tonnes    0.0  NaN    Official data  \n",
       "2294  2019  tonnes    0.0  NaN    Official data  \n",
       "2295  2020  tonnes    0.0  NaN    Official data  \n",
       "2987  2018  tonnes    0.0  NaN    Official data  \n",
       "2988  2019  tonnes    0.0  NaN    Official data  \n",
       "2989  2020  tonnes    0.0  NaN    Official data  \n",
       "2990  2018  tonnes    0.0  NaN    Official data  \n",
       "2991  2019  tonnes    0.0  NaN    Official data  \n",
       "2992  2020  tonnes    0.0  NaN    Official data  \n",
       "3012  2000  tonnes    0.0  NaN    Official data  \n",
       "3013  2001  tonnes    0.0  NaN    Official data  \n",
       "3030  2018  tonnes    0.0  NaN    Official data  \n",
       "3031  2019  tonnes    0.0  NaN    Official data  \n",
       "3032  2020  tonnes    0.0  NaN    Official data  \n",
       "3034  2001  tonnes    0.0  NaN    Official data  \n",
       "3114  2018  tonnes    0.0  NaN    Official data  \n",
       "3115  2019  tonnes    0.0  NaN    Official data  \n",
       "3116  2020  tonnes    0.0  NaN    Official data  \n",
       "3261  1986  tonnes    0.0    F     FAO estimate  \n",
       "3279  2005  tonnes    0.0    F     FAO estimate  \n",
       "3523  2018  tonnes    0.0  NaN    Official data  \n",
       "3524  2019  tonnes    0.0  NaN    Official data  \n",
       "3525  2020  tonnes    0.0  NaN    Official data  "
      ]
     },
     "execution_count": 162,
     "metadata": {},
     "output_type": "execute_result"
    }
   ],
   "source": [
    "meat_miss.head(50)"
   ]
  },
  {
   "cell_type": "code",
   "execution_count": 163,
   "id": "a4a17484",
   "metadata": {
    "ExecuteTime": {
     "end_time": "2022-05-05T13:29:59.373948Z",
     "start_time": "2022-05-05T13:29:59.358943Z"
    }
   },
   "outputs": [
    {
     "data": {
      "text/plain": [
       "array(['Ducks', 'Goats', 'Turkeys', 'Horses', 'Sheep', 'Cattle', 'Pigs',\n",
       "       'Chickens'], dtype=object)"
      ]
     },
     "execution_count": 163,
     "metadata": {},
     "output_type": "execute_result"
    }
   ],
   "source": [
    "# Investigating if the missing data is at random or not at random by checking if it's specific animal categories or not\n",
    "imp_exp_miss.Item.unique()"
   ]
  },
  {
   "cell_type": "code",
   "execution_count": 164,
   "id": "7dc9d716",
   "metadata": {
    "ExecuteTime": {
     "end_time": "2022-05-05T13:29:59.389941Z",
     "start_time": "2022-05-05T13:29:59.375944Z"
    }
   },
   "outputs": [
    {
     "data": {
      "text/plain": [
       "array([0.])"
      ]
     },
     "execution_count": 164,
     "metadata": {},
     "output_type": "execute_result"
    }
   ],
   "source": [
    "imp_exp_miss.Value.unique()"
   ]
  },
  {
   "cell_type": "code",
   "execution_count": 165,
   "id": "6978df20",
   "metadata": {
    "ExecuteTime": {
     "end_time": "2022-05-05T13:29:59.404942Z",
     "start_time": "2022-05-05T13:29:59.390943Z"
    }
   },
   "outputs": [
    {
     "data": {
      "text/plain": [
       "array(['Belgium', 'China', 'Denmark', 'France', 'Germany', 'Ireland',\n",
       "       'Italy', 'Luxembourg', 'Netherlands', 'United States of America'],\n",
       "      dtype=object)"
      ]
     },
     "execution_count": 165,
     "metadata": {},
     "output_type": "execute_result"
    }
   ],
   "source": [
    "# Investigating if the missing data is at random or not at random by checking if it's specific country's or not\n",
    "imp_exp_miss.Area.unique()"
   ]
  },
  {
   "cell_type": "code",
   "execution_count": 166,
   "id": "1e879eb3",
   "metadata": {
    "ExecuteTime": {
     "end_time": "2022-05-05T13:29:59.419942Z",
     "start_time": "2022-05-05T13:29:59.405942Z"
    }
   },
   "outputs": [
    {
     "data": {
      "text/plain": [
       "array([2019, 2020, 2014, 2016, 2015, 2009, 2010, 2011, 2012, 2013, 1973,\n",
       "       1974, 1975, 1976, 2018, 1977, 1978, 1981, 2005, 2006, 2008, 2017,\n",
       "       1979, 1980, 1982, 1984, 1983, 1985, 2002, 1986, 1993, 1994, 1995,\n",
       "       1997, 1998, 1987, 1988, 1989, 1990, 1996, 1999, 2000, 2001, 2003,\n",
       "       2004, 2007, 1991, 1992], dtype=int64)"
      ]
     },
     "execution_count": 166,
     "metadata": {},
     "output_type": "execute_result"
    }
   ],
   "source": [
    "imp_exp_miss.Year.unique()"
   ]
  },
  {
   "cell_type": "markdown",
   "id": "014aec34",
   "metadata": {},
   "source": [
    "## Summary of EDA"
   ]
  },
  {
   "cell_type": "markdown",
   "id": "ac2a2a84",
   "metadata": {},
   "source": [
    "Missing values account for a small number of the data in the Value columns of all datasets. Missing values have been recorded in two manners, some as \"Zero\" and others as a blank (NaN). The missing data is also not at random, it appears specific countries did not submit specific categories on specific years. The only other column with missing data is the flag data which is not useful to the analysis. \n",
    "\n",
    "Additionally, a few null values have been recorded as \"Zero\" in the dataset where data was not available. These shall also need to be removed as they are outside the domain of the counts.\n",
    "\n",
    "The data will also need to be melted into each country having its values in a column in order to be able to accurately perform statistical analysis."
   ]
  },
  {
   "cell_type": "markdown",
   "id": "101805eb",
   "metadata": {},
   "source": [
    "# NAN's do not show up on is.null filter, it is filtering the Zero values"
   ]
  },
  {
   "cell_type": "code",
   "execution_count": null,
   "id": "1a788061",
   "metadata": {},
   "outputs": [],
   "source": []
  },
  {
   "cell_type": "code",
   "execution_count": null,
   "id": "b252f1b7",
   "metadata": {},
   "outputs": [],
   "source": []
  },
  {
   "cell_type": "code",
   "execution_count": null,
   "id": "3d8e01e8",
   "metadata": {},
   "outputs": [],
   "source": []
  },
  {
   "cell_type": "code",
   "execution_count": null,
   "id": "116dee4f",
   "metadata": {},
   "outputs": [],
   "source": []
  },
  {
   "cell_type": "code",
   "execution_count": null,
   "id": "78d252da",
   "metadata": {},
   "outputs": [],
   "source": []
  },
  {
   "cell_type": "code",
   "execution_count": null,
   "id": "d7d03f4d",
   "metadata": {},
   "outputs": [],
   "source": []
  },
  {
   "cell_type": "code",
   "execution_count": null,
   "id": "c5bec129",
   "metadata": {},
   "outputs": [],
   "source": []
  },
  {
   "cell_type": "code",
   "execution_count": null,
   "id": "b39bcf5e",
   "metadata": {},
   "outputs": [],
   "source": []
  },
  {
   "cell_type": "code",
   "execution_count": null,
   "id": "0f9d0d62",
   "metadata": {},
   "outputs": [],
   "source": []
  },
  {
   "cell_type": "code",
   "execution_count": null,
   "id": "92182796",
   "metadata": {},
   "outputs": [],
   "source": []
  },
  {
   "cell_type": "code",
   "execution_count": null,
   "id": "6303aa9b",
   "metadata": {},
   "outputs": [],
   "source": []
  },
  {
   "cell_type": "code",
   "execution_count": null,
   "id": "6f1426e3",
   "metadata": {},
   "outputs": [],
   "source": []
  },
  {
   "cell_type": "code",
   "execution_count": null,
   "id": "f0dea4be",
   "metadata": {},
   "outputs": [],
   "source": []
  },
  {
   "cell_type": "code",
   "execution_count": null,
   "id": "cfe8dfa2",
   "metadata": {},
   "outputs": [],
   "source": []
  },
  {
   "cell_type": "code",
   "execution_count": null,
   "id": "3f99f1b4",
   "metadata": {},
   "outputs": [],
   "source": []
  },
  {
   "cell_type": "code",
   "execution_count": null,
   "id": "0c1ac261",
   "metadata": {},
   "outputs": [],
   "source": []
  },
  {
   "cell_type": "code",
   "execution_count": null,
   "id": "71d381a3",
   "metadata": {},
   "outputs": [],
   "source": []
  },
  {
   "cell_type": "code",
   "execution_count": null,
   "id": "def2294b",
   "metadata": {},
   "outputs": [],
   "source": []
  },
  {
   "cell_type": "code",
   "execution_count": null,
   "id": "5a118231",
   "metadata": {},
   "outputs": [],
   "source": []
  },
  {
   "cell_type": "code",
   "execution_count": null,
   "id": "3665196b",
   "metadata": {},
   "outputs": [],
   "source": []
  },
  {
   "cell_type": "code",
   "execution_count": null,
   "id": "2d9cf23c",
   "metadata": {},
   "outputs": [],
   "source": []
  },
  {
   "cell_type": "markdown",
   "id": "a132cf02",
   "metadata": {},
   "source": [
    "# Data preparation "
   ]
  },
  {
   "cell_type": "markdown",
   "id": "d76f0192",
   "metadata": {},
   "source": [
    "## Removing the Null values"
   ]
  },
  {
   "cell_type": "code",
   "execution_count": 167,
   "id": "19326483",
   "metadata": {
    "ExecuteTime": {
     "end_time": "2022-05-05T13:29:59.435942Z",
     "start_time": "2022-05-05T13:29:59.420942Z"
    }
   },
   "outputs": [],
   "source": [
    "# removing NANs and filtering out \"Zero\"\n",
    "\n",
    "slaughter_clean = slaughter[slaughter['Value'].notnull()]\n",
    "slaughter_clean = slaughter_clean.loc[slaughter_clean['Value'] != 0]\n",
    "\n",
    "meat_clean = meat[meat['Value'].notnull()]\n",
    "meat_clean = meat_clean.loc[meat_clean['Value'] != 0]\n",
    "\n",
    "stock_clean = stock[stock['Value'].notnull()]\n",
    "stock_clean = stock_clean.loc[stock_clean['Value'] != 0]\n",
    "\n",
    "imp_exp_clean = imp_exp[imp_exp['Value'].notnull()]\n",
    "imp_exp_clean = imp_exp_clean.loc[imp_exp_clean['Value'] != 0]"
   ]
  },
  {
   "cell_type": "markdown",
   "id": "e85a1739",
   "metadata": {},
   "source": [
    "## Dropping useless columns"
   ]
  },
  {
   "cell_type": "code",
   "execution_count": 168,
   "id": "e5579412",
   "metadata": {
    "ExecuteTime": {
     "end_time": "2022-05-05T13:29:59.450942Z",
     "start_time": "2022-05-05T13:29:59.436943Z"
    }
   },
   "outputs": [
    {
     "data": {
      "text/plain": [
       "Index(['Domain Code', 'Domain', 'Area Code (FAO)', 'Area', 'Element Code',\n",
       "       'Element', 'Item Code (FAO)', 'Item', 'Year Code', 'Year', 'Unit',\n",
       "       'Value', 'Flag', 'Flag Description'],\n",
       "      dtype='object')"
      ]
     },
     "execution_count": 168,
     "metadata": {},
     "output_type": "execute_result"
    }
   ],
   "source": [
    "imp_exp_clean.columns"
   ]
  },
  {
   "cell_type": "code",
   "execution_count": 169,
   "id": "80c5d8f9",
   "metadata": {
    "ExecuteTime": {
     "end_time": "2022-05-05T13:29:59.465936Z",
     "start_time": "2022-05-05T13:29:59.451935Z"
    }
   },
   "outputs": [],
   "source": [
    "slaughter_clean = slaughter_clean.drop([\"Domain Code\",\"Domain\",\"Area Code (FAO)\", \"Element Code\",\n",
    "                      \"Item Code (FAO)\", \"Year Code\", \"Flag\", \"Flag Description\"],axis=1)\n",
    "\n",
    "meat_clean = meat_clean.drop([\"Domain Code\",\"Domain\",\"Area Code (FAO)\", \"Element Code\",\n",
    "                      \"Item Code (FAO)\", \"Year Code\", \"Flag\", \"Flag Description\"],axis=1)\n",
    "stock_clean = stock_clean.drop([\"Domain Code\",\"Domain\",\"Area Code (FAO)\", \"Element Code\",\n",
    "                      \"Item Code (FAO)\", \"Year Code\", \"Flag\", \"Flag Description\"],axis=1)\n",
    "\n",
    "imp_exp_clean = imp_exp_clean.drop([\"Domain Code\",\"Domain\",\"Area Code (FAO)\", \"Element Code\",\n",
    "                      \"Item Code (FAO)\", \"Year Code\", \"Flag\", \"Flag Description\"],axis=1)"
   ]
  },
  {
   "cell_type": "markdown",
   "id": "0e7ade8a",
   "metadata": {
    "ExecuteTime": {
     "end_time": "2022-05-05T13:10:45.091554Z",
     "start_time": "2022-05-05T13:10:45.074367Z"
    }
   },
   "source": [
    "## Renaming column categories to more intuitive names "
   ]
  },
  {
   "cell_type": "code",
   "execution_count": 170,
   "id": "b975411a",
   "metadata": {
    "ExecuteTime": {
     "end_time": "2022-05-05T13:29:59.480941Z",
     "start_time": "2022-05-05T13:29:59.466936Z"
    }
   },
   "outputs": [
    {
     "data": {
      "text/plain": [
       "array(['Meat, cattle', 'Meat, chicken', 'Meat, duck', 'Meat, goat',\n",
       "       'Meat, horse', 'Meat, pig', 'Meat, sheep', 'Meat, turkey',\n",
       "       'Meat, goose and guinea fowl', 'Meat, rabbit'], dtype=object)"
      ]
     },
     "execution_count": 170,
     "metadata": {},
     "output_type": "execute_result"
    }
   ],
   "source": [
    "slaughter_clean.Item.unique()"
   ]
  },
  {
   "cell_type": "code",
   "execution_count": 179,
   "id": "55283f20",
   "metadata": {
    "ExecuteTime": {
     "end_time": "2022-05-05T13:33:29.807652Z",
     "start_time": "2022-05-05T13:33:29.802734Z"
    }
   },
   "outputs": [],
   "source": [
    "def merge_similar_types(dataframe):\n",
    "    '''This function takes in a traffic dataframe as input, it then maps vehicle categories in the\n",
    "    'CountType' column to a single merged category and returns the changed dataframe'''\n",
    "    dataframe['Element'] = dataframe['Element'].replace({\n",
    "        'Producing Animals/Slaughtered': 'Slaughtered'\n",
    "    })\n",
    "    dataframe['Item'] = dataframe['Item'].replace({\n",
    "        'Meat, cattle': 'Cattle', 'Meat, chicken': 'Chicken', 'Meat, duck': 'Duck',\n",
    "        'Meat, goat': 'Goat', 'Meat, horse': 'Horse', 'Meat, pig': 'Pig',\n",
    "        'Meat, sheep': 'Sheep', 'Meat, turkey': 'Turkey', \n",
    "        'Meat, goose and guinea fowl': 'Goose and Guinea fowl',\n",
    "        'Meat, rabbit': 'Rabbit'\n",
    "    })\n",
    "    dataframe['Unit'] = dataframe['Unit'].replace({\n",
    "        'tonnes': 'Tonnes'\n",
    "    })\n",
    "    return dataframe"
   ]
  },
  {
   "cell_type": "code",
   "execution_count": 181,
   "id": "bb3bb5cb",
   "metadata": {
    "ExecuteTime": {
     "end_time": "2022-05-05T13:33:51.234639Z",
     "start_time": "2022-05-05T13:33:51.216639Z"
    }
   },
   "outputs": [],
   "source": [
    "slaughter_clean = merge_similar_types(slaughter_clean)\n",
    "\n",
    "meat_clean = merge_similar_types(meat_clean)\n",
    "\n",
    "stock_clean = merge_similar_types(stock_clean)\n",
    "\n",
    "imp_exp_clean = merge_similar_types(imp_exp_clean)"
   ]
  },
  {
   "cell_type": "markdown",
   "id": "0aaa7b8a",
   "metadata": {},
   "source": [
    "## Adding geocodes"
   ]
  },
  {
   "cell_type": "code",
   "execution_count": 184,
   "id": "f0a71aa7",
   "metadata": {
    "ExecuteTime": {
     "end_time": "2022-05-05T14:15:35.841106Z",
     "start_time": "2022-05-05T14:15:35.817679Z"
    }
   },
   "outputs": [
    {
     "data": {
      "text/html": [
       "<div>\n",
       "<style scoped>\n",
       "    .dataframe tbody tr th:only-of-type {\n",
       "        vertical-align: middle;\n",
       "    }\n",
       "\n",
       "    .dataframe tbody tr th {\n",
       "        vertical-align: top;\n",
       "    }\n",
       "\n",
       "    .dataframe thead th {\n",
       "        text-align: right;\n",
       "    }\n",
       "</style>\n",
       "<table border=\"1\" class=\"dataframe\">\n",
       "  <thead>\n",
       "    <tr style=\"text-align: right;\">\n",
       "      <th></th>\n",
       "      <th>Country</th>\n",
       "      <th>Alpha-2 code</th>\n",
       "      <th>Alpha-3 code</th>\n",
       "      <th>Numeric</th>\n",
       "    </tr>\n",
       "  </thead>\n",
       "  <tbody>\n",
       "    <tr>\n",
       "      <th>0</th>\n",
       "      <td>Afghanistan</td>\n",
       "      <td>AF</td>\n",
       "      <td>AFG</td>\n",
       "      <td>4</td>\n",
       "    </tr>\n",
       "    <tr>\n",
       "      <th>1</th>\n",
       "      <td>Albania</td>\n",
       "      <td>AL</td>\n",
       "      <td>ALB</td>\n",
       "      <td>8</td>\n",
       "    </tr>\n",
       "    <tr>\n",
       "      <th>2</th>\n",
       "      <td>Algeria</td>\n",
       "      <td>DZ</td>\n",
       "      <td>DZA</td>\n",
       "      <td>12</td>\n",
       "    </tr>\n",
       "    <tr>\n",
       "      <th>3</th>\n",
       "      <td>American Samoa</td>\n",
       "      <td>AS</td>\n",
       "      <td>ASM</td>\n",
       "      <td>16</td>\n",
       "    </tr>\n",
       "    <tr>\n",
       "      <th>4</th>\n",
       "      <td>Andorra</td>\n",
       "      <td>AD</td>\n",
       "      <td>AND</td>\n",
       "      <td>20</td>\n",
       "    </tr>\n",
       "  </tbody>\n",
       "</table>\n",
       "</div>"
      ],
      "text/plain": [
       "          Country Alpha-2 code Alpha-3 code  Numeric\n",
       "0     Afghanistan           AF          AFG        4\n",
       "1         Albania           AL          ALB        8\n",
       "2         Algeria           DZ          DZA       12\n",
       "3  American Samoa           AS          ASM       16\n",
       "4         Andorra           AD          AND       20"
      ]
     },
     "execution_count": 184,
     "metadata": {},
     "output_type": "execute_result"
    }
   ],
   "source": [
    "# Here the country codes file is imported and the head shown\n",
    "\n",
    "country_codes = pd.read_csv(\"C:/Users/shaun/OneDrive/MSc Data Analytics/CA2 Semester 1/Data/country_codes.tsv\", sep='\\t')\n",
    "country_codes.head()"
   ]
  },
  {
   "cell_type": "code",
   "execution_count": null,
   "id": "5cd3779a",
   "metadata": {},
   "outputs": [],
   "source": []
  },
  {
   "cell_type": "markdown",
   "id": "1d45ff23",
   "metadata": {},
   "source": [
    "## Outlier detection"
   ]
  },
  {
   "cell_type": "markdown",
   "id": "d53c23ad",
   "metadata": {},
   "source": [
    "### Boxplots"
   ]
  },
  {
   "cell_type": "code",
   "execution_count": null,
   "id": "1ea30070",
   "metadata": {},
   "outputs": [],
   "source": []
  },
  {
   "cell_type": "markdown",
   "id": "eb520a63",
   "metadata": {},
   "source": [
    "# Adding features"
   ]
  },
  {
   "cell_type": "markdown",
   "id": "1a7f6e31",
   "metadata": {},
   "source": [
    "## Adding the European average for each EU country"
   ]
  },
  {
   "cell_type": "markdown",
   "id": "ec8d4ef8",
   "metadata": {},
   "source": [
    "You can't do data quarterly, to add the EU average you'd need to download the aggregate EU totals and divide by the number of member states for the years in question with a function \n",
    "\n"
   ]
  },
  {
   "cell_type": "code",
   "execution_count": null,
   "id": "7e75ff7d",
   "metadata": {},
   "outputs": [],
   "source": []
  },
  {
   "cell_type": "code",
   "execution_count": null,
   "id": "ed05fc2a",
   "metadata": {},
   "outputs": [],
   "source": []
  },
  {
   "cell_type": "code",
   "execution_count": null,
   "id": "ff4f0715",
   "metadata": {},
   "outputs": [],
   "source": []
  },
  {
   "cell_type": "code",
   "execution_count": null,
   "id": "e89ecd19",
   "metadata": {},
   "outputs": [],
   "source": []
  },
  {
   "cell_type": "code",
   "execution_count": null,
   "id": "a57c7035",
   "metadata": {},
   "outputs": [],
   "source": []
  },
  {
   "cell_type": "code",
   "execution_count": null,
   "id": "4249d35f",
   "metadata": {
    "ExecuteTime": {
     "end_time": "2022-05-04T15:11:10.186750Z",
     "start_time": "2022-05-04T15:11:10.186750Z"
    }
   },
   "outputs": [],
   "source": [
    "df = pd.melt(slaughter, id_vars=['geo'], var_name=\"Year\", \n",
    "             value_name=\"Number\")"
   ]
  },
  {
   "cell_type": "code",
   "execution_count": null,
   "id": "5bd952b0",
   "metadata": {
    "ExecuteTime": {
     "end_time": "2022-05-04T15:11:10.187749Z",
     "start_time": "2022-05-04T15:11:10.187749Z"
    }
   },
   "outputs": [],
   "source": [
    "df.info()"
   ]
  },
  {
   "cell_type": "code",
   "execution_count": null,
   "id": "899db712",
   "metadata": {
    "ExecuteTime": {
     "end_time": "2022-05-04T15:11:10.187749Z",
     "start_time": "2022-05-04T15:11:10.187749Z"
    }
   },
   "outputs": [],
   "source": [
    "df.head()"
   ]
  },
  {
   "cell_type": "code",
   "execution_count": null,
   "id": "b845fd9b",
   "metadata": {},
   "outputs": [],
   "source": []
  },
  {
   "cell_type": "code",
   "execution_count": null,
   "id": "8935447c",
   "metadata": {},
   "outputs": [],
   "source": []
  },
  {
   "cell_type": "markdown",
   "id": "7460938e",
   "metadata": {},
   "source": [
    "# Data visualisation"
   ]
  },
  {
   "cell_type": "code",
   "execution_count": null,
   "id": "8cb6a99f",
   "metadata": {},
   "outputs": [],
   "source": []
  },
  {
   "cell_type": "code",
   "execution_count": null,
   "id": "effc9a4c",
   "metadata": {},
   "outputs": [],
   "source": []
  },
  {
   "cell_type": "code",
   "execution_count": null,
   "id": "b4f1b9de",
   "metadata": {},
   "outputs": [],
   "source": []
  },
  {
   "cell_type": "code",
   "execution_count": null,
   "id": "0f35da3c",
   "metadata": {},
   "outputs": [],
   "source": []
  },
  {
   "cell_type": "code",
   "execution_count": null,
   "id": "9dfb82d1",
   "metadata": {},
   "outputs": [],
   "source": []
  },
  {
   "cell_type": "markdown",
   "id": "df308f7d",
   "metadata": {},
   "source": [
    "# Statistical analysis "
   ]
  },
  {
   "cell_type": "markdown",
   "id": "1f1cf0b9",
   "metadata": {},
   "source": [
    "## Testing normality of the distributions"
   ]
  },
  {
   "cell_type": "code",
   "execution_count": null,
   "id": "8192d00b",
   "metadata": {},
   "outputs": [],
   "source": []
  },
  {
   "cell_type": "markdown",
   "id": "83966c1a",
   "metadata": {},
   "source": [
    "## Testing normality of the variance"
   ]
  },
  {
   "cell_type": "code",
   "execution_count": null,
   "id": "ba538e63",
   "metadata": {},
   "outputs": [],
   "source": []
  },
  {
   "cell_type": "markdown",
   "id": "b596cbfb",
   "metadata": {},
   "source": [
    "## Hypothesis testing"
   ]
  },
  {
   "cell_type": "code",
   "execution_count": null,
   "id": "7016d364",
   "metadata": {},
   "outputs": [],
   "source": []
  },
  {
   "cell_type": "markdown",
   "id": "fb68b08a",
   "metadata": {},
   "source": [
    "# Sentiment Analysis"
   ]
  },
  {
   "cell_type": "code",
   "execution_count": null,
   "id": "6b34731c",
   "metadata": {},
   "outputs": [],
   "source": []
  },
  {
   "cell_type": "code",
   "execution_count": null,
   "id": "95b33554",
   "metadata": {},
   "outputs": [],
   "source": []
  },
  {
   "cell_type": "markdown",
   "id": "d1b5900e",
   "metadata": {},
   "source": [
    "# Save CSV code"
   ]
  },
  {
   "cell_type": "code",
   "execution_count": null,
   "id": "2d510b9c",
   "metadata": {},
   "outputs": [],
   "source": [
    "#df.to_csv(\"C:\\\\Users\\\\shaun\\\\Desktop\\\\look.csv\")"
   ]
  },
  {
   "cell_type": "code",
   "execution_count": 182,
   "id": "274daf3a",
   "metadata": {
    "ExecuteTime": {
     "end_time": "2022-05-05T13:33:51.759656Z",
     "start_time": "2022-05-05T13:33:51.671208Z"
    }
   },
   "outputs": [],
   "source": [
    "#Clean datasets\n",
    "slaughter_clean.to_csv(\"C:\\\\Users\\\\shaun\\\\Desktop\\\\slaughter.csv\", index=False)\n",
    "\n",
    "meat_clean.to_csv(\"C:\\\\Users\\\\shaun\\\\Desktop\\\\meat.csv\", index=False)\n",
    "\n",
    "stock_clean.to_csv(\"C:\\\\Users\\\\shaun\\\\Desktop\\\\stock.csv\", index=False)\n",
    "\n",
    "imp_exp_clean.to_csv(\"C:\\\\Users\\\\shaun\\\\Desktop\\\\imp_exp.csv\", index=False)"
   ]
  }
 ],
 "metadata": {
  "kernelspec": {
   "display_name": "Python 3 (ipykernel)",
   "language": "python",
   "name": "python3"
  },
  "language_info": {
   "codemirror_mode": {
    "name": "ipython",
    "version": 3
   },
   "file_extension": ".py",
   "mimetype": "text/x-python",
   "name": "python",
   "nbconvert_exporter": "python",
   "pygments_lexer": "ipython3",
   "version": "3.9.7"
  },
  "toc": {
   "base_numbering": 1,
   "nav_menu": {},
   "number_sections": true,
   "sideBar": true,
   "skip_h1_title": false,
   "title_cell": "Table of Contents",
   "title_sidebar": "Contents",
   "toc_cell": false,
   "toc_position": {
    "height": "calc(100% - 180px)",
    "left": "10px",
    "top": "150px",
    "width": "384px"
   },
   "toc_section_display": true,
   "toc_window_display": true
  }
 },
 "nbformat": 4,
 "nbformat_minor": 5
}
